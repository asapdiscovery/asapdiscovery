{
 "cells": [
  {
   "cell_type": "markdown",
   "id": "a9dd55cb-bb04-47e5-9758-f006379db2c3",
   "metadata": {},
   "source": [
    "# Intro"
   ]
  },
  {
   "cell_type": "markdown",
   "source": [
    "This notebook will show you how to dock and score molecules using the asapdiscovery-docking module. \n",
    "\n",
    "This docking pipeline primarily focuses on the use-case for a structure-enabled drug discovery program, in which we have crystal structures of early molecules to use for *reference-based* docking. \n",
    "\n",
    "To this end, we have implemented an api that wraps the OpenEye POSIT docking algorithm, which through it's use of the HYBRID and SHAPEFIT algorithms, enables reference-based docking. "
   ],
   "metadata": {
    "collapsed": false
   },
   "id": "70b9d2640eb06041"
  },
  {
   "cell_type": "markdown",
   "source": [
    "## The scope of this guide"
   ],
   "metadata": {
    "collapsed": false
   },
   "id": "28497ab0b4fa94ca"
  },
  {
   "cell_type": "markdown",
   "source": [
    "This guide will show you how to dock and score molecules. For the *extremely* necessary precursor step of data loading and prepping, please see [protein_and_ligand_prep](%protein_and_ligand_prep.ipynb)"
   ],
   "metadata": {
    "collapsed": false
   },
   "id": "506fdcc62785c33c"
  },
  {
   "cell_type": "markdown",
   "source": [
    "# Data"
   ],
   "metadata": {
    "collapsed": false
   },
   "id": "bf65a7be60cd6676"
  },
  {
   "cell_type": "markdown",
   "source": [
    "For the "
   ],
   "metadata": {
    "collapsed": false
   },
   "id": "6a735c8cfb1bd339"
  },
  {
   "cell_type": "code",
   "outputs": [],
   "source": [],
   "metadata": {
    "collapsed": false
   },
   "id": "43c934b59c210549"
  },
  {
   "cell_type": "code",
   "outputs": [],
   "source": [],
   "metadata": {
    "collapsed": false
   },
   "id": "82bd9f59e56d8ee2"
  },
  {
   "cell_type": "markdown",
   "source": [
    "# Protein and Ligand Preparation"
   ],
   "metadata": {
    "collapsed": false
   },
   "id": "801dc20dc7c89fdd"
  },
  {
   "cell_type": "code",
   "outputs": [],
   "source": [],
   "metadata": {
    "collapsed": false
   },
   "id": "120d6ab5d3320c1d"
  },
  {
   "cell_type": "markdown",
   "source": [
    "# A few side notes"
   ],
   "metadata": {
    "collapsed": false
   },
   "id": "1fdead236a1e76f"
  },
  {
   "cell_type": "markdown",
   "source": [
    "## Dask"
   ],
   "metadata": {
    "collapsed": false
   },
   "id": "cca7da8cadf596f3"
  },
  {
   "cell_type": "markdown",
   "source": [
    "We make heavy use of Dask throughout our code, which helps automate parallel processing and provides a nice dashboard for evaluating the progress of large scale docking efforts. Due to the way in which Dask automates error handling, this has occasionally led to situations where the behaviour of our code is different depending on whether you have enabled Dask. We have tried to stamp out any instances of this, but if you find another, please make an issue!"
   ],
   "metadata": {
    "collapsed": false
   },
   "id": "6af146d6f9b22551"
  },
  {
   "cell_type": "markdown",
   "source": [
    "## Target-specific workflows"
   ],
   "metadata": {
    "collapsed": false
   },
   "id": "cb96fc4cad7e758a"
  },
  {
   "cell_type": "markdown",
   "source": [
    "We have implemented our library code within the `asapdiscovery-workflows` module, which puts everything together in a command-line interface (cli). Unfortunately, as of version 0.4, these workflows only work if you are using the targets specified for ASAP. We plan on changing this for version 0.5 "
   ],
   "metadata": {
    "collapsed": false
   },
   "id": "a897e110095c4b6"
  },
  {
   "cell_type": "markdown",
   "source": [
    "To find out which targets can be passed to these workflows, you can use this:"
   ],
   "metadata": {
    "collapsed": false
   },
   "id": "aeb67094b84d84f2"
  },
  {
   "cell_type": "code",
   "outputs": [],
   "source": [
    "from asapdiscovery.data.services.postera.manifold_data_validation import TargetTags"
   ],
   "metadata": {
    "collapsed": false,
    "ExecuteTime": {
     "end_time": "2024-04-25T14:23:23.465928Z",
     "start_time": "2024-04-25T14:23:23.463163Z"
    }
   },
   "id": "986630eb29710dde",
   "execution_count": 11
  },
  {
   "cell_type": "code",
   "outputs": [
    {
     "data": {
      "text/plain": "['DENV-NS2B-NS3pro',\n 'SARS-CoV-2-Mpro',\n 'ZIKV-NS2B-NS3pro',\n 'MERS-CoV-Mpro',\n 'EV-D68-Capsid',\n 'EV-D68-3Cpro',\n 'SARS-CoV-2-N-protein',\n 'SARS-CoV-2-Mac1',\n 'EV-A71-3Cpro',\n 'EV-A71-Capsid']"
     },
     "execution_count": 12,
     "metadata": {},
     "output_type": "execute_result"
    }
   ],
   "source": [
    "TargetTags.get_values()"
   ],
   "metadata": {
    "collapsed": false,
    "ExecuteTime": {
     "end_time": "2024-04-25T14:23:23.854074Z",
     "start_time": "2024-04-25T14:23:23.849825Z"
    }
   },
   "id": "d53657ae265ce4d5",
   "execution_count": 12
  },
  {
   "cell_type": "code",
   "outputs": [],
   "source": [],
   "metadata": {
    "collapsed": false
   },
   "id": "f8b85b74be76d0c1"
  }
 ],
 "metadata": {
  "kernelspec": {
   "display_name": "Python 3 (ipykernel)",
   "language": "python",
   "name": "python3"
  },
  "language_info": {
   "codemirror_mode": {
    "name": "ipython",
    "version": 3
   },
   "file_extension": ".py",
   "mimetype": "text/x-python",
   "name": "python",
   "nbconvert_exporter": "python",
   "pygments_lexer": "ipython3",
   "version": "3.10.13"
  }
 },
 "nbformat": 4,
 "nbformat_minor": 5
}
