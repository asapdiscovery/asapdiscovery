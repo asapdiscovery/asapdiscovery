{
 "cells": [
  {
   "cell_type": "markdown",
   "id": "a9dd55cb-bb04-47e5-9758-f006379db2c3",
   "metadata": {},
   "source": [
    "# Docking and Scoring\n",
    "## Intro"
   ]
  },
  {
   "cell_type": "markdown",
   "id": "70b9d2640eb06041",
   "metadata": {
    "collapsed": false,
    "jupyter": {
     "outputs_hidden": false
    }
   },
   "source": [
    "This notebook will show you how to dock and score molecules using the asapdiscovery-docking module. You should have already gone through the `interfacing with databases and systems` tutorial. \n",
    "\n",
    "\n",
    "Our docking pipeline primarily focuses on the use-case for a structure-enabled drug discovery program, in which we have crystal structures of early molecules to use for *reference-based* docking. This approach has been demonstrated to be effective for prioritising designed compounds. \n",
    "\n",
    "To this end, we have implemented an api that wraps the OpenEye POSIT docking algorithm, which, through its use of the HYBRID and SHAPEFIT algorithms, enables reference-based docking. "
   ]
  },
  {
   "cell_type": "markdown",
   "id": "28497ab0b4fa94ca",
   "metadata": {
    "collapsed": false,
    "jupyter": {
     "outputs_hidden": false
    }
   },
   "source": [
    "### The scope of this guide"
   ]
  },
  {
   "cell_type": "markdown",
   "id": "506fdcc62785c33c",
   "metadata": {
    "collapsed": false,
    "jupyter": {
     "outputs_hidden": false
    }
   },
   "source": [
    "This guide will show you how to dock and score molecules. For the *extremely* necessary precursor step of data loading and prepping, please see [protein_and_ligand_prep](%protein_and_ligand_prep.ipynb)"
   ]
  },
  {
   "cell_type": "markdown",
   "id": "fc7d5b6c525f9fee",
   "metadata": {
    "collapsed": false,
    "jupyter": {
     "outputs_hidden": false
    }
   },
   "source": [
    "## Setting up example data"
   ]
  },
  {
   "cell_type": "markdown",
   "id": "8f8614357c006f2",
   "metadata": {
    "collapsed": false,
    "jupyter": {
     "outputs_hidden": false
    }
   },
   "source": [
    "We will use files we use for testing, since these molecules have already been prepped for docking."
   ]
  },
  {
   "cell_type": "code",
   "execution_count": 1,
   "id": "c4002264f3f38448",
   "metadata": {
    "ExecuteTime": {
     "end_time": "2024-05-04T19:41:52.037687Z",
     "start_time": "2024-05-04T19:41:51.339707Z"
    },
    "collapsed": false,
    "jupyter": {
     "outputs_hidden": false
    }
   },
   "outputs": [],
   "source": [
    "from asapdiscovery.data.testing.test_resources import fetch_test_file\n",
    "from asapdiscovery.data.schema.complex import Complex, PreppedComplex\n",
    "from asapdiscovery.data.schema.ligand import Ligand\n",
    "\n",
    "# grab a pre-prepared complex \n",
    "prepped_complex = PreppedComplex.from_oedu_file(\n",
    "        fetch_test_file(\"Mpro-P2660_0A_bound-prepped_receptor.oedu\"),\n",
    "        ligand_kwargs={\"compound_name\": \"test\"},\n",
    "        target_kwargs={\"target_name\": \"test\", \"target_hash\": \"mock_hash\"},\n",
    "    )\n",
    "\n",
    "# make a ligand from an SDF file \n",
    "ligand = Ligand.from_sdf(\n",
    "        fetch_test_file(\"Mpro-P0008_0A_ERI-UCB-ce40166b-17.sdf\"), compound_name=\"test\"\n",
    "    )"
   ]
  },
  {
   "cell_type": "markdown",
   "id": "6e6495a9b40fcf4b",
   "metadata": {
    "collapsed": false,
    "jupyter": {
     "outputs_hidden": false
    }
   },
   "source": [
    "## Docking with the POSITDocker"
   ]
  },
  {
   "cell_type": "markdown",
   "id": "83d11ecc36f27b8b",
   "metadata": {
    "collapsed": false,
    "jupyter": {
     "outputs_hidden": false
    }
   },
   "source": [
    "There are a *ton* of choices we can make for docking, which will not be enumerated here. But in order to get a flavor for the options, we can examine the class attributes of the POSITDocker:"
   ]
  },
  {
   "cell_type": "code",
   "execution_count": 2,
   "id": "1e8b578e0c5cd0e9",
   "metadata": {
    "ExecuteTime": {
     "end_time": "2024-05-04T19:42:05.421525Z",
     "start_time": "2024-05-04T19:42:05.412089Z"
    },
    "collapsed": false,
    "jupyter": {
     "outputs_hidden": false
    }
   },
   "outputs": [],
   "source": [
    "from asapdiscovery.docking.openeye import POSITDocker"
   ]
  },
  {
   "cell_type": "code",
   "execution_count": 3,
   "id": "9f7b3d0d-89ad-4031-9fa5-a759e48ddfe5",
   "metadata": {},
   "outputs": [
    {
     "data": {
      "text/plain": [
       "\u001b[0;31mInit signature:\u001b[0m\n",
       "\u001b[0mPOSITDocker\u001b[0m\u001b[0;34m(\u001b[0m\u001b[0;34m\u001b[0m\n",
       "\u001b[0;34m\u001b[0m    \u001b[0;34m*\u001b[0m\u001b[0;34m,\u001b[0m\u001b[0;34m\u001b[0m\n",
       "\u001b[0;34m\u001b[0m    \u001b[0mtype\u001b[0m\u001b[0;34m:\u001b[0m \u001b[0mLiteral\u001b[0m\u001b[0;34m[\u001b[0m\u001b[0;34m'POSITDocker'\u001b[0m\u001b[0;34m]\u001b[0m \u001b[0;34m=\u001b[0m \u001b[0;34m'POSITDocker'\u001b[0m\u001b[0;34m,\u001b[0m\u001b[0;34m\u001b[0m\n",
       "\u001b[0;34m\u001b[0m    \u001b[0mrelax\u001b[0m\u001b[0;34m:\u001b[0m \u001b[0masapdiscovery\u001b[0m\u001b[0;34m.\u001b[0m\u001b[0mdocking\u001b[0m\u001b[0;34m.\u001b[0m\u001b[0mopeneye\u001b[0m\u001b[0;34m.\u001b[0m\u001b[0mPOSIT_RELAX_MODE\u001b[0m \u001b[0;34m=\u001b[0m \u001b[0;34m<\u001b[0m\u001b[0mPOSIT_RELAX_MODE\u001b[0m\u001b[0;34m.\u001b[0m\u001b[0mNONE\u001b[0m\u001b[0;34m:\u001b[0m \u001b[0;36m0\u001b[0m\u001b[0;34m>\u001b[0m\u001b[0;34m,\u001b[0m\u001b[0;34m\u001b[0m\n",
       "\u001b[0;34m\u001b[0m    \u001b[0mposit_method\u001b[0m\u001b[0;34m:\u001b[0m \u001b[0masapdiscovery\u001b[0m\u001b[0;34m.\u001b[0m\u001b[0mdocking\u001b[0m\u001b[0;34m.\u001b[0m\u001b[0mopeneye\u001b[0m\u001b[0;34m.\u001b[0m\u001b[0mPOSIT_METHOD\u001b[0m \u001b[0;34m=\u001b[0m \u001b[0;34m<\u001b[0m\u001b[0mPOSIT_METHOD\u001b[0m\u001b[0;34m.\u001b[0m\u001b[0mALL\u001b[0m\u001b[0;34m:\u001b[0m \u001b[0;36m15\u001b[0m\u001b[0;34m>\u001b[0m\u001b[0;34m,\u001b[0m\u001b[0;34m\u001b[0m\n",
       "\u001b[0;34m\u001b[0m    \u001b[0muse_omega\u001b[0m\u001b[0;34m:\u001b[0m \u001b[0mbool\u001b[0m \u001b[0;34m=\u001b[0m \u001b[0;32mTrue\u001b[0m\u001b[0;34m,\u001b[0m\u001b[0;34m\u001b[0m\n",
       "\u001b[0;34m\u001b[0m    \u001b[0momega_dense\u001b[0m\u001b[0;34m:\u001b[0m \u001b[0mbool\u001b[0m \u001b[0;34m=\u001b[0m \u001b[0;32mFalse\u001b[0m\u001b[0;34m,\u001b[0m\u001b[0;34m\u001b[0m\n",
       "\u001b[0;34m\u001b[0m    \u001b[0mnum_poses\u001b[0m\u001b[0;34m:\u001b[0m \u001b[0mpydantic\u001b[0m\u001b[0;34m.\u001b[0m\u001b[0mtypes\u001b[0m\u001b[0;34m.\u001b[0m\u001b[0mPositiveInt\u001b[0m \u001b[0;34m=\u001b[0m \u001b[0;36m1\u001b[0m\u001b[0;34m,\u001b[0m\u001b[0;34m\u001b[0m\n",
       "\u001b[0;34m\u001b[0m    \u001b[0mallow_low_posit_prob\u001b[0m\u001b[0;34m:\u001b[0m \u001b[0mbool\u001b[0m \u001b[0;34m=\u001b[0m \u001b[0;32mFalse\u001b[0m\u001b[0;34m,\u001b[0m\u001b[0;34m\u001b[0m\n",
       "\u001b[0;34m\u001b[0m    \u001b[0mlow_posit_prob_thresh\u001b[0m\u001b[0;34m:\u001b[0m \u001b[0mfloat\u001b[0m \u001b[0;34m=\u001b[0m \u001b[0;36m0.1\u001b[0m\u001b[0;34m,\u001b[0m\u001b[0;34m\u001b[0m\n",
       "\u001b[0;34m\u001b[0m    \u001b[0mallow_final_clash\u001b[0m\u001b[0;34m:\u001b[0m \u001b[0mbool\u001b[0m \u001b[0;34m=\u001b[0m \u001b[0;32mFalse\u001b[0m\u001b[0;34m,\u001b[0m\u001b[0;34m\u001b[0m\n",
       "\u001b[0;34m\u001b[0m    \u001b[0mallow_retries\u001b[0m\u001b[0;34m:\u001b[0m \u001b[0mbool\u001b[0m \u001b[0;34m=\u001b[0m \u001b[0;32mTrue\u001b[0m\u001b[0;34m,\u001b[0m\u001b[0;34m\u001b[0m\n",
       "\u001b[0;34m\u001b[0m\u001b[0;34m)\u001b[0m \u001b[0;34m->\u001b[0m \u001b[0;32mNone\u001b[0m\u001b[0;34m\u001b[0m\u001b[0;34m\u001b[0m\u001b[0m\n",
       "\u001b[0;31mDocstring:\u001b[0m      Base class for running docking\n",
       "\u001b[0;31mInit docstring:\u001b[0m\n",
       "Create a new model by parsing and validating input data from keyword arguments.\n",
       "\n",
       "Raises ValidationError if the input data cannot be parsed to form a valid model.\n",
       "\u001b[0;31mFile:\u001b[0m           /store/projects/ASAP_dev/asapdiscovery/asapdiscovery-docking/asapdiscovery/docking/openeye.py\n",
       "\u001b[0;31mType:\u001b[0m           ModelMetaclass\n",
       "\u001b[0;31mSubclasses:\u001b[0m     "
      ]
     },
     "metadata": {},
     "output_type": "display_data"
    }
   ],
   "source": [
    "POSITDocker?"
   ]
  },
  {
   "cell_type": "markdown",
   "id": "c09c386f-93e2-4ad4-9406-589208f35b7e",
   "metadata": {},
   "source": [
    "A quick overview of some important options \n",
    "\n",
    "* `relax`: Whether to allow relaxation when generating docked structures\n",
    "* `posit_method`: which POSIT method to use, see [here](https://docs.eyesopen.com/applications/oedocking/theory/posit_theory.html#) for a complete treatment of POSIT theory. The default (`ALL`) selects the best method possible iteratively.\n",
    "* `use_omega`: Use OpenEye's OMEGA conformer generation to enumerate conformers before docking. Should vastly improve the quality of predicted poses.\n",
    "* `omega_dense`: Use dense OMEGA sampling.\n",
    "* `allow_retries`: Try several configurations of docking parameters to attempt to obtain a result. "
   ]
  },
  {
   "cell_type": "code",
   "execution_count": 4,
   "id": "bcb198f12778c0ee",
   "metadata": {
    "ExecuteTime": {
     "end_time": "2024-05-04T19:42:05.655699Z",
     "start_time": "2024-05-04T19:42:05.640854Z"
    },
    "collapsed": false,
    "jupyter": {
     "outputs_hidden": false
    }
   },
   "outputs": [],
   "source": [
    "# lets go ahead and make a Docker object\n",
    "docker = POSITDocker()"
   ]
  },
  {
   "cell_type": "code",
   "execution_count": 5,
   "id": "4367f0f81f56bb65",
   "metadata": {
    "ExecuteTime": {
     "end_time": "2024-05-04T19:42:06.045939Z",
     "start_time": "2024-05-04T19:42:06.021368Z"
    },
    "collapsed": false,
    "jupyter": {
     "outputs_hidden": false
    }
   },
   "outputs": [
    {
     "data": {
      "text/plain": [
       "{'type': 'POSITDocker',\n",
       " 'relax': <POSIT_RELAX_MODE.NONE: 0>,\n",
       " 'posit_method': <POSIT_METHOD.ALL: 15>,\n",
       " 'use_omega': True,\n",
       " 'omega_dense': False,\n",
       " 'num_poses': 1,\n",
       " 'allow_low_posit_prob': False,\n",
       " 'low_posit_prob_thresh': 0.1,\n",
       " 'allow_final_clash': False,\n",
       " 'allow_retries': True}"
      ]
     },
     "execution_count": 5,
     "metadata": {},
     "output_type": "execute_result"
    }
   ],
   "source": [
    "# and check out its defaults.\n",
    "docker.dict()"
   ]
  },
  {
   "cell_type": "markdown",
   "id": "bbf6a77ef91fe4cb",
   "metadata": {
    "collapsed": false,
    "jupyter": {
     "outputs_hidden": false
    }
   },
   "source": [
    "`POSITDocker.dock()` requires:\n",
    "1) a list of DockingInputBase objects\n",
    "2) an output directory\n",
    "3) and some dask options"
   ]
  },
  {
   "cell_type": "markdown",
   "id": "d2f1782a6f9a548f",
   "metadata": {
    "collapsed": false,
    "jupyter": {
     "outputs_hidden": false
    }
   },
   "source": [
    "Currently, we have 2 kinds of DockingInputBase objects implemented:\n",
    "1) a complex-ligand pair (DockingInputPair)\n",
    "2) a one-to-many ligand:complexes object (DockingInputMultiStructure)"
   ]
  },
  {
   "cell_type": "markdown",
   "id": "c50f672710755a10",
   "metadata": {
    "collapsed": false,
    "jupyter": {
     "outputs_hidden": false
    }
   },
   "source": [
    "### Running simple docking "
   ]
  },
  {
   "cell_type": "code",
   "execution_count": 6,
   "id": "c6af7343f46886e",
   "metadata": {
    "ExecuteTime": {
     "end_time": "2024-04-25T18:26:45.814460Z",
     "start_time": "2024-04-25T18:26:45.811517Z"
    },
    "collapsed": false,
    "jupyter": {
     "outputs_hidden": false
    }
   },
   "outputs": [],
   "source": [
    "from asapdiscovery.docking.docking import DockingInputPair\n",
    "input_pair = DockingInputPair(ligand=ligand, complex=prepped_complex)"
   ]
  },
  {
   "cell_type": "code",
   "execution_count": 7,
   "id": "835610ba-a32c-466b-ad3c-a46d804a5f64",
   "metadata": {},
   "outputs": [],
   "source": [
    "results = docker.dock(inputs=[input_pair])"
   ]
  },
  {
   "cell_type": "markdown",
   "id": "b0f912b68fb1cde4",
   "metadata": {
    "collapsed": false,
    "jupyter": {
     "outputs_hidden": false
    }
   },
   "source": [
    "This returns a list of POSITDockingResults objects!"
   ]
  },
  {
   "cell_type": "code",
   "execution_count": 8,
   "id": "e8f208e377bb2b20",
   "metadata": {
    "ExecuteTime": {
     "end_time": "2024-04-25T18:27:10.147411Z",
     "start_time": "2024-04-25T18:27:10.144608Z"
    },
    "collapsed": false,
    "jupyter": {
     "outputs_hidden": false
    }
   },
   "outputs": [],
   "source": [
    "# lets grab one of the results objects\n",
    "result = results[0] "
   ]
  },
  {
   "cell_type": "code",
   "execution_count": 9,
   "id": "8cda12ed29150315",
   "metadata": {
    "ExecuteTime": {
     "end_time": "2024-04-25T18:27:10.514450Z",
     "start_time": "2024-04-25T18:27:10.148778Z"
    },
    "collapsed": false,
    "jupyter": {
     "outputs_hidden": false
    }
   },
   "outputs": [],
   "source": [
    "# and dump it to disk\n",
    "result.write_docking_files(\"docking_test\")"
   ]
  },
  {
   "cell_type": "markdown",
   "id": "3b9731bc8369ab68",
   "metadata": {
    "collapsed": false,
    "jupyter": {
     "outputs_hidden": false
    }
   },
   "source": [
    "## Scoring"
   ]
  },
  {
   "cell_type": "markdown",
   "id": "a190fdf18f2d480d",
   "metadata": {
    "collapsed": false,
    "jupyter": {
     "outputs_hidden": false
    }
   },
   "source": [
    "We decouple the *pose prediction* and *scoring* parts of docking, which enables us to score docked poses with different scoring functions. \n",
    "\n",
    "This flexibility allows us to implement our own scoring functions and capture information important to our discovery process. \n",
    "\n",
    "To this end, we have written a few \"scorer\" classes, including:\n",
    "1. A traditional phyiscs based docking scorer: `ChemGauss4Scorer`\n",
    "2. A score which tries to capture information about the potential for the binding site to evolve: `FINTScorer` (see `working_with_fitness_data` tutorial)\n",
    "3. A 2D Graph Attention based scorer trained on Covid Moonshot data that predicts pIC50s directly: `GATScorer`\n",
    "4. 3D equivariant scorers that use 3D pose information and are trained on Covid Moonshot data to predict pIC50s:  `E3NNScorer` and  `SchnetScorer`\n",
    "5. And finally, a MetaScorer which can run all the other scorers easily. "
   ]
  },
  {
   "cell_type": "code",
   "execution_count": 10,
   "id": "d8fbc441d8b79f31",
   "metadata": {
    "ExecuteTime": {
     "end_time": "2024-05-04T19:44:44.692007Z",
     "start_time": "2024-05-04T19:44:10.992937Z"
    },
    "collapsed": false,
    "jupyter": {
     "outputs_hidden": false
    }
   },
   "outputs": [],
   "source": [
    "from asapdiscovery.docking.scorer import ChemGauss4Scorer, FINTScorer, MetaScorer"
   ]
  },
  {
   "cell_type": "markdown",
   "id": "f4c1490dadfe2e97",
   "metadata": {
    "collapsed": false,
    "jupyter": {
     "outputs_hidden": false
    }
   },
   "source": [
    "### Targets"
   ]
  },
  {
   "cell_type": "markdown",
   "id": "70e3c7a2755aadbf",
   "metadata": {
    "collapsed": false,
    "jupyter": {
     "outputs_hidden": false
    }
   },
   "source": [
    "Several of our scorers require target-specific information. We can find out the targets that the repo \"knows about\" like so:"
   ]
  },
  {
   "cell_type": "code",
   "execution_count": 11,
   "id": "40078b13ed983fae",
   "metadata": {
    "ExecuteTime": {
     "end_time": "2024-04-25T18:27:23.358066Z",
     "start_time": "2024-04-25T18:27:23.355179Z"
    },
    "collapsed": false,
    "jupyter": {
     "outputs_hidden": false
    }
   },
   "outputs": [],
   "source": [
    "from asapdiscovery.data.services.postera.manifold_data_validation import TargetTags"
   ]
  },
  {
   "cell_type": "code",
   "execution_count": 12,
   "id": "e35dc4a923af8fbc",
   "metadata": {
    "ExecuteTime": {
     "end_time": "2024-04-25T18:27:23.363164Z",
     "start_time": "2024-04-25T18:27:23.359459Z"
    },
    "collapsed": false,
    "jupyter": {
     "outputs_hidden": false
    }
   },
   "outputs": [
    {
     "data": {
      "text/plain": [
       "['SARS-CoV-2-Mpro',\n",
       " 'EV-A71-Capsid',\n",
       " 'EV-D68-Capsid',\n",
       " 'ZIKV-NS2B-NS3pro',\n",
       " 'DENV-NS2B-NS3pro',\n",
       " 'SARS-CoV-2-N-protein',\n",
       " 'EV-D68-3Cpro',\n",
       " 'MERS-CoV-Mpro',\n",
       " 'SARS-CoV-2-Mac1',\n",
       " 'EV-A71-3Cpro']"
      ]
     },
     "execution_count": 12,
     "metadata": {},
     "output_type": "execute_result"
    }
   ],
   "source": [
    "TargetTags.get_values()"
   ]
  },
  {
   "cell_type": "markdown",
   "id": "4926aff3a53db7dd",
   "metadata": {
    "collapsed": false,
    "jupyter": {
     "outputs_hidden": false
    }
   },
   "source": [
    "Since we're working with a known target, we can set that as a variable and use that throughout"
   ]
  },
  {
   "cell_type": "code",
   "execution_count": 13,
   "id": "e3a7dcf7c1893b66",
   "metadata": {
    "collapsed": false,
    "jupyter": {
     "outputs_hidden": false
    }
   },
   "outputs": [],
   "source": [
    "target = TargetTags(\"SARS-CoV-2-Mpro\")"
   ]
  },
  {
   "cell_type": "markdown",
   "id": "dde143845fd4555a",
   "metadata": {
    "collapsed": false,
    "jupyter": {
     "outputs_hidden": false
    }
   },
   "source": [
    "### ChemGauss4 Scorer"
   ]
  },
  {
   "cell_type": "code",
   "execution_count": 14,
   "id": "29004e554bddee19",
   "metadata": {
    "ExecuteTime": {
     "end_time": "2024-04-25T18:27:23.373044Z",
     "start_time": "2024-04-25T18:27:23.370137Z"
    },
    "collapsed": false,
    "jupyter": {
     "outputs_hidden": false
    }
   },
   "outputs": [],
   "source": [
    "chemgauss_scorer = ChemGauss4Scorer()"
   ]
  },
  {
   "cell_type": "code",
   "execution_count": 15,
   "id": "9e0336fe703133b0",
   "metadata": {
    "ExecuteTime": {
     "end_time": "2024-04-25T18:27:26.343058Z",
     "start_time": "2024-04-25T18:27:23.377355Z"
    },
    "collapsed": false,
    "jupyter": {
     "outputs_hidden": false
    }
   },
   "outputs": [
    {
     "data": {
      "text/plain": [
       "[Score(score_type=<ScoreType.chemgauss4: 'chemgauss4'>, score=-11.036272048950195, compound_name='test', smiles='c1ccc2c(c1)c(cc(=O)[nH]2)C(=O)NCCOc3cc(cc(c3)Cl)O[C@H]4CC(=O)N4', ligand_identifiers=None, ligand_inchikey='SNQHLYWSRJDLGK-FQEVSTJZSA-N', target_name='test', target_identifiers=None, complex_ligand_smiles='CNC(=O)CN1C[C@]2(CCN(C2=O)c3cncc4c3cc(cc4)Cl)c5cc(ccc5C1=O)Cl', probability=0.18000000715255737, units=<ScoreUnits.arbitrary: 'arbitrary'>)]"
      ]
     },
     "execution_count": 15,
     "metadata": {},
     "output_type": "execute_result"
    }
   ],
   "source": [
    "scores = chemgauss_scorer.score(results)\n",
    "scores"
   ]
  },
  {
   "cell_type": "markdown",
   "id": "ce43acbebbeb6cbd",
   "metadata": {
    "collapsed": false,
    "jupyter": {
     "outputs_hidden": false
    }
   },
   "source": [
    "We can see this returns an array of score objects. If we want a dataframe, we can ask it to run this instead:"
   ]
  },
  {
   "cell_type": "code",
   "execution_count": 16,
   "id": "993311abca9066",
   "metadata": {
    "ExecuteTime": {
     "end_time": "2024-04-25T18:27:28.658187Z",
     "start_time": "2024-04-25T18:27:26.344893Z"
    },
    "collapsed": false,
    "jupyter": {
     "outputs_hidden": false
    }
   },
   "outputs": [
    {
     "data": {
      "text/html": [
       "<div>\n",
       "<style scoped>\n",
       "    .dataframe tbody tr th:only-of-type {\n",
       "        vertical-align: middle;\n",
       "    }\n",
       "\n",
       "    .dataframe tbody tr th {\n",
       "        vertical-align: top;\n",
       "    }\n",
       "\n",
       "    .dataframe thead th {\n",
       "        text-align: right;\n",
       "    }\n",
       "</style>\n",
       "<table border=\"1\" class=\"dataframe\">\n",
       "  <thead>\n",
       "    <tr style=\"text-align: right;\">\n",
       "      <th></th>\n",
       "      <th>score_type</th>\n",
       "      <th>score</th>\n",
       "      <th>compound_name</th>\n",
       "      <th>smiles</th>\n",
       "      <th>ligand_identifiers</th>\n",
       "      <th>ligand_inchikey</th>\n",
       "      <th>target_name</th>\n",
       "      <th>target_identifiers</th>\n",
       "      <th>complex_ligand_smiles</th>\n",
       "      <th>probability</th>\n",
       "      <th>units</th>\n",
       "    </tr>\n",
       "  </thead>\n",
       "  <tbody>\n",
       "    <tr>\n",
       "      <th>0</th>\n",
       "      <td>chemgauss4</td>\n",
       "      <td>-11.036272</td>\n",
       "      <td>test</td>\n",
       "      <td>c1ccc2c(c1)c(cc(=O)[nH]2)C(=O)NCCOc3cc(cc(c3)C...</td>\n",
       "      <td>None</td>\n",
       "      <td>SNQHLYWSRJDLGK-FQEVSTJZSA-N</td>\n",
       "      <td>test</td>\n",
       "      <td>None</td>\n",
       "      <td>CNC(=O)CN1C[C@]2(CCN(C2=O)c3cncc4c3cc(cc4)Cl)c...</td>\n",
       "      <td>0.18</td>\n",
       "      <td>ScoreUnits.arbitrary</td>\n",
       "    </tr>\n",
       "  </tbody>\n",
       "</table>\n",
       "</div>"
      ],
      "text/plain": [
       "   score_type      score compound_name  \\\n",
       "0  chemgauss4 -11.036272          test   \n",
       "\n",
       "                                              smiles ligand_identifiers  \\\n",
       "0  c1ccc2c(c1)c(cc(=O)[nH]2)C(=O)NCCOc3cc(cc(c3)C...               None   \n",
       "\n",
       "               ligand_inchikey target_name target_identifiers  \\\n",
       "0  SNQHLYWSRJDLGK-FQEVSTJZSA-N        test               None   \n",
       "\n",
       "                               complex_ligand_smiles  probability  \\\n",
       "0  CNC(=O)CN1C[C@]2(CCN(C2=O)c3cncc4c3cc(cc4)Cl)c...         0.18   \n",
       "\n",
       "                  units  \n",
       "0  ScoreUnits.arbitrary  "
      ]
     },
     "execution_count": 16,
     "metadata": {},
     "output_type": "execute_result"
    }
   ],
   "source": [
    "scores_df = chemgauss_scorer.score(results, return_df=True)\n",
    "scores_df"
   ]
  },
  {
   "cell_type": "markdown",
   "id": "20b0e55036723903",
   "metadata": {
    "collapsed": false,
    "jupyter": {
     "outputs_hidden": false
    }
   },
   "source": [
    "### FINTScore"
   ]
  },
  {
   "cell_type": "markdown",
   "id": "cbaf4ae04b00fce4",
   "metadata": {
    "collapsed": false,
    "jupyter": {
     "outputs_hidden": false
    }
   },
   "source": [
    "In antiviral drug discovery, potential for mutation of target binding sites is very high. Thus it is important to avoid sidechain-ligand interactions with highly mutable residues when evaluating potential designs. \n",
    "\n",
    "FINTScore attempts to compress information about the mutability of the ligand binding site into a single number between 0 and 1. It rewards interactions with non-mutable sidechains and backbone atoms, while penalising interactions with mutable sidechains. See the implementation for more details. You can also view this information in 3D. See the `visualising ASAP targets` tutorial for more information. \n",
    "\n",
    "For the FINT score, we need fitness data (normally obtained by deep mutational scanning experiments or from phylogenetic data), which means we can only work on a target for which we have vendored fitness data. To check which targets those are, we can use:"
   ]
  },
  {
   "cell_type": "code",
   "execution_count": 17,
   "id": "37b5911a6ccd3beb",
   "metadata": {
    "ExecuteTime": {
     "end_time": "2024-04-25T18:27:28.665036Z",
     "start_time": "2024-04-25T18:27:28.660667Z"
    },
    "collapsed": false,
    "jupyter": {
     "outputs_hidden": false
    }
   },
   "outputs": [
    {
     "data": {
      "text/plain": [
       "True"
      ]
     },
     "execution_count": 17,
     "metadata": {},
     "output_type": "execute_result"
    }
   ],
   "source": [
    "from asapdiscovery.genetics.fitness import target_has_fitness_data\n",
    "\n",
    "# does our target have fitness data?\n",
    "target_has_fitness_data(target) # yes!"
   ]
  },
  {
   "cell_type": "code",
   "execution_count": 18,
   "id": "f140196cc0f07bbe",
   "metadata": {
    "ExecuteTime": {
     "end_time": "2024-04-25T18:27:28.670814Z",
     "start_time": "2024-04-25T18:27:28.667636Z"
    },
    "collapsed": false,
    "jupyter": {
     "outputs_hidden": false
    }
   },
   "outputs": [],
   "source": [
    "fint_scorer = FINTScorer(target=target)"
   ]
  },
  {
   "cell_type": "code",
   "execution_count": 19,
   "id": "ddccb75f5817b233",
   "metadata": {
    "ExecuteTime": {
     "end_time": "2024-04-25T18:27:35.616062Z",
     "start_time": "2024-04-25T18:27:28.673040Z"
    },
    "collapsed": false,
    "jupyter": {
     "outputs_hidden": false
    }
   },
   "outputs": [
    {
     "name": "stderr",
     "output_type": "stream",
     "text": [
      "2024-05-06 10:55:36,616 [INFO] [plipcmd.py:124] plip.plipcmd: Protein-Ligand Interaction Profiler (PLIP) 2.3.0\n",
      "2024-05-06 10:55:36,616 [INFO] [plipcmd.py:125] plip.plipcmd: brought to you by: PharmAI GmbH (2020-2021) - www.pharm.ai - hello@pharm.ai\n",
      "2024-05-06 10:55:36,616 [INFO] [plipcmd.py:126] plip.plipcmd: please cite: Adasme,M. et al. PLIP 2021: expanding the scope of the protein-ligand interaction profiler to DNA and RNA. Nucl. Acids Res. (05 May 2021), gkab294. doi: 10.1093/nar/gkab294\n",
      "2024-05-06 10:55:36,616 [INFO] [plipcmd.py:49] plip.plipcmd: starting analysis of tmp_complex.pdb\n",
      "2024-05-06 10:55:36,752 [INFO] [plipcmd.py:165] plip.plipcmd: finished analysis, find the result files in /tmp/tmpurafp1ze/\n"
     ]
    },
    {
     "data": {
      "text/html": [
       "<div>\n",
       "<style scoped>\n",
       "    .dataframe tbody tr th:only-of-type {\n",
       "        vertical-align: middle;\n",
       "    }\n",
       "\n",
       "    .dataframe tbody tr th {\n",
       "        vertical-align: top;\n",
       "    }\n",
       "\n",
       "    .dataframe thead th {\n",
       "        text-align: right;\n",
       "    }\n",
       "</style>\n",
       "<table border=\"1\" class=\"dataframe\">\n",
       "  <thead>\n",
       "    <tr style=\"text-align: right;\">\n",
       "      <th></th>\n",
       "      <th>score_type</th>\n",
       "      <th>score</th>\n",
       "      <th>compound_name</th>\n",
       "      <th>smiles</th>\n",
       "      <th>ligand_identifiers</th>\n",
       "      <th>ligand_inchikey</th>\n",
       "      <th>target_name</th>\n",
       "      <th>target_identifiers</th>\n",
       "      <th>complex_ligand_smiles</th>\n",
       "      <th>probability</th>\n",
       "      <th>units</th>\n",
       "    </tr>\n",
       "  </thead>\n",
       "  <tbody>\n",
       "    <tr>\n",
       "      <th>0</th>\n",
       "      <td>FINT</td>\n",
       "      <td>0.200455</td>\n",
       "      <td>test</td>\n",
       "      <td>c1ccc2c(c1)c(cc(=O)[nH]2)C(=O)NCCOc3cc(cc(c3)C...</td>\n",
       "      <td>None</td>\n",
       "      <td>SNQHLYWSRJDLGK-FQEVSTJZSA-N</td>\n",
       "      <td>test</td>\n",
       "      <td>None</td>\n",
       "      <td>CNC(=O)CN1C[C@]2(CCN(C2=O)c3cncc4c3cc(cc4)Cl)c...</td>\n",
       "      <td>0.18</td>\n",
       "      <td>ScoreUnits.arbitrary</td>\n",
       "    </tr>\n",
       "  </tbody>\n",
       "</table>\n",
       "</div>"
      ],
      "text/plain": [
       "  score_type     score compound_name  \\\n",
       "0       FINT  0.200455          test   \n",
       "\n",
       "                                              smiles ligand_identifiers  \\\n",
       "0  c1ccc2c(c1)c(cc(=O)[nH]2)C(=O)NCCOc3cc(cc(c3)C...               None   \n",
       "\n",
       "               ligand_inchikey target_name target_identifiers  \\\n",
       "0  SNQHLYWSRJDLGK-FQEVSTJZSA-N        test               None   \n",
       "\n",
       "                               complex_ligand_smiles  probability  \\\n",
       "0  CNC(=O)CN1C[C@]2(CCN(C2=O)c3cncc4c3cc(cc4)Cl)c...         0.18   \n",
       "\n",
       "                  units  \n",
       "0  ScoreUnits.arbitrary  "
      ]
     },
     "execution_count": 19,
     "metadata": {},
     "output_type": "execute_result"
    }
   ],
   "source": [
    "scores = fint_scorer.score(results, return_df=True)\n",
    "scores"
   ]
  },
  {
   "cell_type": "markdown",
   "id": "16686f3be0c2e114",
   "metadata": {
    "collapsed": false,
    "jupyter": {
     "outputs_hidden": false
    }
   },
   "source": [
    "### ML Scorers"
   ]
  },
  {
   "cell_type": "markdown",
   "id": "31a41fc630992c0c",
   "metadata": {
    "collapsed": false,
    "jupyter": {
     "outputs_hidden": false
    }
   },
   "source": [
    "Our ML scorers are trained to predict pIC50s from 2D graph or 3D equivariant representations of ligands and target-ligand complexes respectively. This is enabled by the [MTENN](https://github.com/choderalab/mtenn) framework that abstracts and modularize the task of structure-based machine learning.\n",
    "\n",
    "Currently we have ML scorers for some targets seperately, but are exploring PDBBind based foundational models for multi-target prediction (watch this space).  "
   ]
  },
  {
   "cell_type": "code",
   "execution_count": 20,
   "id": "60c72e58ef104c79",
   "metadata": {
    "ExecuteTime": {
     "end_time": "2024-04-25T18:27:35.624861Z",
     "start_time": "2024-04-25T18:27:35.617912Z"
    },
    "collapsed": false,
    "jupyter": {
     "outputs_hidden": false
    }
   },
   "outputs": [],
   "source": [
    "# import our ML model registry\n",
    "from asapdiscovery.ml.models import ASAPMLModelRegistry"
   ]
  },
  {
   "cell_type": "code",
   "execution_count": 21,
   "id": "2c67d9c1082d67f9",
   "metadata": {
    "ExecuteTime": {
     "end_time": "2024-04-25T18:27:35.629569Z",
     "start_time": "2024-04-25T18:27:35.626045Z"
    },
    "collapsed": false,
    "jupyter": {
     "outputs_hidden": false
    }
   },
   "outputs": [
    {
     "data": {
      "text/plain": [
       "['GAT', 'e3nn', 'schnet']"
      ]
     },
     "execution_count": 21,
     "metadata": {},
     "output_type": "execute_result"
    }
   ],
   "source": [
    "ASAPMLModelRegistry.get_implemented_model_types()"
   ]
  },
  {
   "cell_type": "code",
   "execution_count": 22,
   "id": "65347d0d908bcf26",
   "metadata": {
    "ExecuteTime": {
     "end_time": "2024-04-25T18:27:38.507029Z",
     "start_time": "2024-04-25T18:27:35.631536Z"
    },
    "collapsed": false,
    "jupyter": {
     "outputs_hidden": false
    }
   },
   "outputs": [
    {
     "name": "stderr",
     "output_type": "stream",
     "text": [
      "/home/hmacdope/mambaforge/envs/asapdiscovery6/lib/python3.10/site-packages/torch/overrides.py:110: UserWarning: 'has_cuda' is deprecated, please use 'torch.backends.cuda.is_built()'\n",
      "  torch.has_cuda,\n",
      "/home/hmacdope/mambaforge/envs/asapdiscovery6/lib/python3.10/site-packages/torch/overrides.py:111: UserWarning: 'has_cudnn' is deprecated, please use 'torch.backends.cudnn.is_available()'\n",
      "  torch.has_cudnn,\n",
      "/home/hmacdope/mambaforge/envs/asapdiscovery6/lib/python3.10/site-packages/torch/overrides.py:117: UserWarning: 'has_mps' is deprecated, please use 'torch.backends.mps.is_built()'\n",
      "  torch.has_mps,\n",
      "/home/hmacdope/mambaforge/envs/asapdiscovery6/lib/python3.10/site-packages/torch/overrides.py:118: UserWarning: 'has_mkldnn' is deprecated, please use 'torch.backends.mkldnn.is_available()'\n",
      "  torch.has_mkldnn,\n",
      "/home/hmacdope/mambaforge/envs/asapdiscovery6/lib/python3.10/site-packages/torch/jit/_check.py:178: UserWarning: The TorchScript type system doesn't support instance-level annotations on empty non-base types in `__init__`. Instead, either 1) use a type annotation in the class body, or 2) wrap the type in `torch.jit.Attribute`.\n",
      "  warnings.warn(\n"
     ]
    }
   ],
   "source": [
    "from asapdiscovery.docking.scorer import MLModelScorer\n",
    "ml_scorers = [MLModelScorer.from_latest_by_target_and_type(target, model_type) \n",
    "           for model_type in ASAPMLModelRegistry.get_implemented_model_types()]"
   ]
  },
  {
   "cell_type": "code",
   "execution_count": 23,
   "id": "44aa66154bb8ae28",
   "metadata": {
    "ExecuteTime": {
     "end_time": "2024-04-25T18:27:42.732265Z",
     "start_time": "2024-04-25T18:27:38.510171Z"
    },
    "collapsed": false,
    "jupyter": {
     "outputs_hidden": false
    }
   },
   "outputs": [],
   "source": [
    "gat_scores = ml_scorers[0].score(results, return_df=True)"
   ]
  },
  {
   "cell_type": "code",
   "execution_count": 24,
   "id": "f264873d0321aa64",
   "metadata": {
    "ExecuteTime": {
     "end_time": "2024-04-25T18:27:42.739450Z",
     "start_time": "2024-04-25T18:27:42.734409Z"
    },
    "collapsed": false,
    "jupyter": {
     "outputs_hidden": false
    }
   },
   "outputs": [
    {
     "data": {
      "text/html": [
       "<div>\n",
       "<style scoped>\n",
       "    .dataframe tbody tr th:only-of-type {\n",
       "        vertical-align: middle;\n",
       "    }\n",
       "\n",
       "    .dataframe tbody tr th {\n",
       "        vertical-align: top;\n",
       "    }\n",
       "\n",
       "    .dataframe thead th {\n",
       "        text-align: right;\n",
       "    }\n",
       "</style>\n",
       "<table border=\"1\" class=\"dataframe\">\n",
       "  <thead>\n",
       "    <tr style=\"text-align: right;\">\n",
       "      <th></th>\n",
       "      <th>score_type</th>\n",
       "      <th>score</th>\n",
       "      <th>compound_name</th>\n",
       "      <th>smiles</th>\n",
       "      <th>ligand_identifiers</th>\n",
       "      <th>ligand_inchikey</th>\n",
       "      <th>target_name</th>\n",
       "      <th>target_identifiers</th>\n",
       "      <th>complex_ligand_smiles</th>\n",
       "      <th>probability</th>\n",
       "      <th>units</th>\n",
       "    </tr>\n",
       "  </thead>\n",
       "  <tbody>\n",
       "    <tr>\n",
       "      <th>0</th>\n",
       "      <td>GAT</td>\n",
       "      <td>4.912028</td>\n",
       "      <td>test</td>\n",
       "      <td>c1ccc2c(c1)c(cc(=O)[nH]2)C(=O)NCCOc3cc(cc(c3)C...</td>\n",
       "      <td>None</td>\n",
       "      <td>SNQHLYWSRJDLGK-FQEVSTJZSA-N</td>\n",
       "      <td>test</td>\n",
       "      <td>None</td>\n",
       "      <td>CNC(=O)CN1C[C@]2(CCN(C2=O)c3cncc4c3cc(cc4)Cl)c...</td>\n",
       "      <td>0.18</td>\n",
       "      <td>ScoreUnits.pIC50</td>\n",
       "    </tr>\n",
       "  </tbody>\n",
       "</table>\n",
       "</div>"
      ],
      "text/plain": [
       "  score_type     score compound_name  \\\n",
       "0        GAT  4.912028          test   \n",
       "\n",
       "                                              smiles ligand_identifiers  \\\n",
       "0  c1ccc2c(c1)c(cc(=O)[nH]2)C(=O)NCCOc3cc(cc(c3)C...               None   \n",
       "\n",
       "               ligand_inchikey target_name target_identifiers  \\\n",
       "0  SNQHLYWSRJDLGK-FQEVSTJZSA-N        test               None   \n",
       "\n",
       "                               complex_ligand_smiles  probability  \\\n",
       "0  CNC(=O)CN1C[C@]2(CCN(C2=O)c3cncc4c3cc(cc4)Cl)c...         0.18   \n",
       "\n",
       "              units  \n",
       "0  ScoreUnits.pIC50  "
      ]
     },
     "execution_count": 24,
     "metadata": {},
     "output_type": "execute_result"
    }
   ],
   "source": [
    "gat_scores"
   ]
  },
  {
   "cell_type": "markdown",
   "id": "8190384bd127966b",
   "metadata": {
    "collapsed": false,
    "jupyter": {
     "outputs_hidden": false
    }
   },
   "source": [
    "#### MetaScorer"
   ]
  },
  {
   "cell_type": "markdown",
   "id": "4ba76b0c4774056d",
   "metadata": {
    "collapsed": false,
    "jupyter": {
     "outputs_hidden": false
    }
   },
   "source": [
    "We can use the MetaScorer to run all the scoring for us and combine everything into a dataframe we can save easily"
   ]
  },
  {
   "cell_type": "code",
   "execution_count": 25,
   "id": "75474c208b20741",
   "metadata": {
    "ExecuteTime": {
     "end_time": "2024-04-25T18:27:42.745211Z",
     "start_time": "2024-04-25T18:27:42.742060Z"
    },
    "collapsed": false,
    "jupyter": {
     "outputs_hidden": false
    }
   },
   "outputs": [],
   "source": [
    "scorers = [chemgauss_scorer, fint_scorer, *ml_scorers]"
   ]
  },
  {
   "cell_type": "code",
   "execution_count": 26,
   "id": "ef31d8bd27f52a6c",
   "metadata": {
    "ExecuteTime": {
     "end_time": "2024-04-25T18:27:42.750851Z",
     "start_time": "2024-04-25T18:27:42.747617Z"
    },
    "collapsed": false,
    "jupyter": {
     "outputs_hidden": false
    }
   },
   "outputs": [],
   "source": [
    "metascorer = MetaScorer(scorers=scorers)"
   ]
  },
  {
   "cell_type": "code",
   "execution_count": 27,
   "id": "708eb495cdff224c",
   "metadata": {
    "ExecuteTime": {
     "end_time": "2024-04-25T18:28:02.599979Z",
     "start_time": "2024-04-25T18:27:42.752905Z"
    },
    "collapsed": false,
    "jupyter": {
     "outputs_hidden": false
    }
   },
   "outputs": [
    {
     "name": "stderr",
     "output_type": "stream",
     "text": [
      "2024-05-06 10:55:42,241 [INFO] [plipcmd.py:124] plip.plipcmd: Protein-Ligand Interaction Profiler (PLIP) 2.3.0\n",
      "2024-05-06 10:55:42,241 [INFO] [plipcmd.py:125] plip.plipcmd: brought to you by: PharmAI GmbH (2020-2021) - www.pharm.ai - hello@pharm.ai\n",
      "2024-05-06 10:55:42,241 [INFO] [plipcmd.py:126] plip.plipcmd: please cite: Adasme,M. et al. PLIP 2021: expanding the scope of the protein-ligand interaction profiler to DNA and RNA. Nucl. Acids Res. (05 May 2021), gkab294. doi: 10.1093/nar/gkab294\n",
      "2024-05-06 10:55:42,241 [INFO] [plipcmd.py:49] plip.plipcmd: starting analysis of tmp_complex.pdb\n",
      "2024-05-06 10:55:42,381 [INFO] [plipcmd.py:165] plip.plipcmd: finished analysis, find the result files in /tmp/tmpon9zszjf/\n"
     ]
    }
   ],
   "source": [
    "scores_df = metascorer.score(results, return_df=True)"
   ]
  },
  {
   "cell_type": "code",
   "execution_count": 28,
   "id": "746e077f0e551f7b",
   "metadata": {
    "ExecuteTime": {
     "end_time": "2024-04-25T18:28:02.625015Z",
     "start_time": "2024-04-25T18:28:02.604289Z"
    },
    "collapsed": false,
    "jupyter": {
     "outputs_hidden": false
    }
   },
   "outputs": [
    {
     "data": {
      "text/html": [
       "<div>\n",
       "<style scoped>\n",
       "    .dataframe tbody tr th:only-of-type {\n",
       "        vertical-align: middle;\n",
       "    }\n",
       "\n",
       "    .dataframe tbody tr th {\n",
       "        vertical-align: top;\n",
       "    }\n",
       "\n",
       "    .dataframe thead th {\n",
       "        text-align: right;\n",
       "    }\n",
       "</style>\n",
       "<table border=\"1\" class=\"dataframe\">\n",
       "  <thead>\n",
       "    <tr style=\"text-align: right;\">\n",
       "      <th>score_type</th>\n",
       "      <th>target_identifiers</th>\n",
       "      <th>ligand_id</th>\n",
       "      <th>docking-confidence-POSIT</th>\n",
       "      <th>complex_ligand_smiles</th>\n",
       "      <th>INCHIKEY</th>\n",
       "      <th>ligand_identifiers</th>\n",
       "      <th>docking-structure-POSIT</th>\n",
       "      <th>SMILES</th>\n",
       "      <th>fitness-score-FINT</th>\n",
       "      <th>computed-GAT-pIC50</th>\n",
       "      <th>docking-score-POSIT</th>\n",
       "      <th>computed-E3NN-pIC50</th>\n",
       "      <th>computed-SchNet-pIC50</th>\n",
       "    </tr>\n",
       "  </thead>\n",
       "  <tbody>\n",
       "    <tr>\n",
       "      <th>0</th>\n",
       "      <td>NaN</td>\n",
       "      <td>test</td>\n",
       "      <td>0.18</td>\n",
       "      <td>CNC(=O)CN1C[C@]2(CCN(C2=O)c3cncc4c3cc(cc4)Cl)c...</td>\n",
       "      <td>SNQHLYWSRJDLGK-FQEVSTJZSA-N</td>\n",
       "      <td>NaN</td>\n",
       "      <td>test</td>\n",
       "      <td>c1ccc2c(c1)c(cc(=O)[nH]2)C(=O)NCCOc3cc(cc(c3)C...</td>\n",
       "      <td>0.200455</td>\n",
       "      <td>4.912028</td>\n",
       "      <td>-11.036272</td>\n",
       "      <td>5.281067</td>\n",
       "      <td>-0.023069</td>\n",
       "    </tr>\n",
       "  </tbody>\n",
       "</table>\n",
       "</div>"
      ],
      "text/plain": [
       "score_type target_identifiers ligand_id  docking-confidence-POSIT  \\\n",
       "0                         NaN      test                      0.18   \n",
       "\n",
       "score_type                              complex_ligand_smiles  \\\n",
       "0           CNC(=O)CN1C[C@]2(CCN(C2=O)c3cncc4c3cc(cc4)Cl)c...   \n",
       "\n",
       "score_type                     INCHIKEY ligand_identifiers  \\\n",
       "0           SNQHLYWSRJDLGK-FQEVSTJZSA-N                NaN   \n",
       "\n",
       "score_type docking-structure-POSIT  \\\n",
       "0                             test   \n",
       "\n",
       "score_type                                             SMILES  \\\n",
       "0           c1ccc2c(c1)c(cc(=O)[nH]2)C(=O)NCCOc3cc(cc(c3)C...   \n",
       "\n",
       "score_type  fitness-score-FINT  computed-GAT-pIC50  docking-score-POSIT  \\\n",
       "0                     0.200455            4.912028           -11.036272   \n",
       "\n",
       "score_type  computed-E3NN-pIC50  computed-SchNet-pIC50  \n",
       "0                      5.281067              -0.023069  "
      ]
     },
     "execution_count": 28,
     "metadata": {},
     "output_type": "execute_result"
    }
   ],
   "source": [
    "scores_df"
   ]
  },
  {
   "cell_type": "markdown",
   "id": "bd654b07c6348387",
   "metadata": {
    "collapsed": false,
    "jupyter": {
     "outputs_hidden": false
    }
   },
   "source": [
    "Under the hood, this uses this function: `asapdiscovery.docking.scorer.Score._combine_and_pivot_scores_df` to return the scores in a dataframe. As of version 0.4, this uses `asapdiscovery.docking.scorer._SCORE_MANIFOLD_ALIAS` to change the column names to conform to the standard names used within the ASAPDiscovery Consortium. You can examine which column names correspond to which score here:"
   ]
  },
  {
   "cell_type": "code",
   "execution_count": 29,
   "id": "1d28e20c4fc8e94f",
   "metadata": {
    "ExecuteTime": {
     "end_time": "2024-04-25T18:28:02.635811Z",
     "start_time": "2024-04-25T18:28:02.628102Z"
    },
    "collapsed": false,
    "jupyter": {
     "outputs_hidden": false
    }
   },
   "outputs": [
    {
     "data": {
      "text/plain": [
       "{<ScoreType.chemgauss4: 'chemgauss4'>: 'docking-score-POSIT',\n",
       " <ScoreType.FINT: 'FINT'>: 'fitness-score-FINT',\n",
       " <ScoreType.GAT: 'GAT'>: 'computed-GAT-pIC50',\n",
       " <ScoreType.schnet: 'schnet'>: 'computed-SchNet-pIC50',\n",
       " <ScoreType.e3nn: 'e3nn'>: 'computed-E3NN-pIC50',\n",
       " <ScoreType.INVALID: 'INVALID'>: None,\n",
       " 'target_name': 'docking-structure-POSIT',\n",
       " 'compound_name': 'ligand_id',\n",
       " 'smiles': 'SMILES',\n",
       " 'ligand_inchikey': 'INCHIKEY',\n",
       " 'probability': 'docking-confidence-POSIT'}"
      ]
     },
     "execution_count": 29,
     "metadata": {},
     "output_type": "execute_result"
    }
   ],
   "source": [
    "from asapdiscovery.docking.scorer import _SCORE_MANIFOLD_ALIAS\n",
    "_SCORE_MANIFOLD_ALIAS"
   ]
  },
  {
   "cell_type": "markdown",
   "id": "1d9bd774a1550dfa",
   "metadata": {
    "collapsed": false,
    "jupyter": {
     "outputs_hidden": false
    }
   },
   "source": [
    "## Advanced Topics: Selectors"
   ]
  },
  {
   "cell_type": "markdown",
   "id": "d12eb4812586bc59",
   "metadata": {
    "collapsed": false,
    "jupyter": {
     "outputs_hidden": false
    }
   },
   "source": [
    "The ASAPDiscovery Consortium regularly operates in a regime where we have many experimental structures to choose from as references for docking. To accelerate the process of choosing which structures to use, we have generated a series of Selector objects which take a set of ligands and complexes and choose which set of ligand-complex pairs to use for docking."
   ]
  },
  {
   "cell_type": "code",
   "execution_count": 30,
   "id": "6e24b052db7cc3f",
   "metadata": {
    "ExecuteTime": {
     "end_time": "2024-04-25T18:28:02.664883Z",
     "start_time": "2024-04-25T18:28:02.646343Z"
    },
    "collapsed": false,
    "jupyter": {
     "outputs_hidden": false
    }
   },
   "outputs": [],
   "source": [
    "from asapdiscovery.data.operators.selectors.selector_list import StructureSelector"
   ]
  },
  {
   "cell_type": "code",
   "execution_count": 31,
   "id": "c33e1790f8efbe1",
   "metadata": {
    "ExecuteTime": {
     "end_time": "2024-04-25T18:28:02.676556Z",
     "start_time": "2024-04-25T18:28:02.667912Z"
    },
    "collapsed": false,
    "jupyter": {
     "outputs_hidden": false
    }
   },
   "outputs": [
    {
     "data": {
      "text/plain": [
       "['MCSSelector',\n",
       " 'PairwiseSelector',\n",
       " 'LeaveOneOutSelector',\n",
       " 'LeaveSimilarOutSelector',\n",
       " 'SelfDockingSelector']"
      ]
     },
     "execution_count": 31,
     "metadata": {},
     "output_type": "execute_result"
    }
   ],
   "source": [
    "StructureSelector.get_values()"
   ]
  },
  {
   "cell_type": "code",
   "execution_count": 32,
   "id": "ad49c819b4ad91bb",
   "metadata": {
    "ExecuteTime": {
     "end_time": "2024-04-25T18:28:04.983686Z",
     "start_time": "2024-04-25T18:28:02.695600Z"
    },
    "collapsed": false,
    "jupyter": {
     "outputs_hidden": false
    }
   },
   "outputs": [],
   "source": [
    "# mock a fragalysis dump from diamond light source\n",
    "\n",
    "from asapdiscovery.data.services.fragalysis.fragalysis_reader import FragalysisFactory\n",
    "all_mpro_fns = [\n",
    "        \"metadata.csv\",\n",
    "        \"aligned/Mpro-x11041_0A/Mpro-x11041_0A_bound.pdb\",\n",
    "        \"aligned/Mpro-x1425_0A/Mpro-x1425_0A_bound.pdb\",\n",
    "        \"aligned/Mpro-x11894_0A/Mpro-x11894_0A_bound.pdb\",\n",
    "        \"aligned/Mpro-x1002_0A/Mpro-x1002_0A_bound.pdb\",\n",
    "        \"aligned/Mpro-x10155_0A/Mpro-x10155_0A_bound.pdb\",\n",
    "        \"aligned/Mpro-x0354_0A/Mpro-x0354_0A_bound.pdb\",\n",
    "        \"aligned/Mpro-x11271_0A/Mpro-x11271_0A_bound.pdb\",\n",
    "        \"aligned/Mpro-x1101_1A/Mpro-x1101_1A_bound.pdb\",\n",
    "        \"aligned/Mpro-x1187_0A/Mpro-x1187_0A_bound.pdb\",\n",
    "        \"aligned/Mpro-x10338_0A/Mpro-x10338_0A_bound.pdb\",\n",
    "    ]\n",
    "all_paths = [fetch_test_file(f\"frag_factory_test/{fn}\") for fn in all_mpro_fns]\n",
    "parent_dir = all_paths[0].parent\n",
    "\n"
   ]
  },
  {
   "cell_type": "code",
   "execution_count": 33,
   "id": "870a69e6-2c7f-4bf7-8e0c-041e11f357f9",
   "metadata": {},
   "outputs": [
    {
     "name": "stderr",
     "output_type": "stream",
     "text": [
      "Warning: OE3DToAtomStereo is unable to perceive atom stereo from a flat geometry on atom 8 of molecule 'LIG'\n",
      "Warning: OE3DToAtomStereo had a problem during OEWriteMolecule when writing 'LIG'\n"
     ]
    }
   ],
   "source": [
    "ff = FragalysisFactory.from_dir(parent_dir)\n",
    "complexes = ff.load()"
   ]
  },
  {
   "cell_type": "code",
   "execution_count": 34,
   "id": "fead92efc620886e",
   "metadata": {
    "ExecuteTime": {
     "end_time": "2024-04-25T18:28:04.988900Z",
     "start_time": "2024-04-25T18:28:04.985220Z"
    },
    "collapsed": false,
    "jupyter": {
     "outputs_hidden": false
    }
   },
   "outputs": [],
   "source": [
    "ligands = [complex.ligand for complex in complexes]"
   ]
  },
  {
   "cell_type": "markdown",
   "id": "f396e1ecb5d57749",
   "metadata": {
    "collapsed": false,
    "jupyter": {
     "outputs_hidden": false
    }
   },
   "source": [
    "### To illustrate what the selectors do"
   ]
  },
  {
   "cell_type": "markdown",
   "id": "2260a9ff-b118-4f17-92aa-7baa16715c6b",
   "metadata": {},
   "source": [
    "Selectors take a list of `Complexes` and `Ligands` and return `Pairs` based on some criteria. \n",
    "\n",
    "For example the `SelfDockingSelector` only selects ligands that match those already present in the complexes. "
   ]
  },
  {
   "cell_type": "markdown",
   "id": "de4146b4307d1c96",
   "metadata": {
    "collapsed": false,
    "jupyter": {
     "outputs_hidden": false
    }
   },
   "source": [
    "#### SelfDockingSelector"
   ]
  },
  {
   "cell_type": "code",
   "execution_count": 35,
   "id": "e17bec8b31331e7a",
   "metadata": {
    "ExecuteTime": {
     "end_time": "2024-04-25T18:28:05.228679Z",
     "start_time": "2024-04-25T18:28:04.990958Z"
    },
    "collapsed": false,
    "jupyter": {
     "outputs_hidden": false
    }
   },
   "outputs": [],
   "source": [
    "selector = StructureSelector('SelfDockingSelector').selector_cls()"
   ]
  },
  {
   "cell_type": "code",
   "execution_count": 36,
   "id": "4040cd792b5b06cf",
   "metadata": {
    "ExecuteTime": {
     "end_time": "2024-04-25T18:28:05.370029Z",
     "start_time": "2024-04-25T18:28:05.230186Z"
    },
    "collapsed": false,
    "jupyter": {
     "outputs_hidden": false
    }
   },
   "outputs": [
    {
     "name": "stderr",
     "output_type": "stream",
     "text": [
      "Warning: OE3DToAtomStereo is unable to perceive atom stereo from a flat geometry on atom 8 of molecule 'LIG'\n",
      "Warning: OE3DToAtomStereo had a problem during conformation test 'LIG'\n",
      "Warning: OE3DToAtomStereo is unable to perceive atom stereo from a flat geometry on atom 8 of molecule 'LIG'\n",
      "Warning: OE3DToAtomStereo had a problem during conformation test 'LIG'\n",
      "Warning: OE3DToAtomStereo is unable to perceive atom stereo from a flat geometry on atom 8 of molecule 'LIG'\n",
      "Warning: OE3DToAtomStereo had a problem during conformation test 'LIG'\n",
      "Warning: OE3DToAtomStereo is unable to perceive atom stereo from a flat geometry on atom 8 of molecule 'LIG'\n",
      "Warning: OE3DToAtomStereo had a problem during conformation test 'LIG'\n",
      "Warning: OE3DToAtomStereo is unable to perceive atom stereo from a flat geometry on atom 8 of molecule 'LIG'\n",
      "Warning: OE3DToAtomStereo had a problem during conformation test 'LIG'\n",
      "Warning: OE3DToAtomStereo is unable to perceive atom stereo from a flat geometry on atom 8 of molecule 'LIG'\n",
      "Warning: OE3DToAtomStereo had a problem during conformation test 'LIG'\n",
      "Warning: OE3DToAtomStereo is unable to perceive atom stereo from a flat geometry on atom 8 of molecule 'LIG'\n",
      "Warning: OE3DToAtomStereo had a problem during conformation test 'LIG'\n",
      "Warning: OE3DToAtomStereo is unable to perceive atom stereo from a flat geometry on atom 8 of molecule 'LIG'\n",
      "Warning: OE3DToAtomStereo had a problem during conformation test 'LIG'\n",
      "Warning: OE3DToAtomStereo is unable to perceive atom stereo from a flat geometry on atom 8 of molecule 'LIG'\n",
      "Warning: OE3DToAtomStereo had a problem during conformation test 'LIG'\n",
      "Warning: OE3DToAtomStereo is unable to perceive atom stereo from a flat geometry on atom 8 of molecule 'LIG'\n",
      "Warning: OE3DToAtomStereo had a problem during conformation test 'LIG'\n",
      "Warning: OE3DToAtomStereo is unable to perceive atom stereo from a flat geometry on atom 8 of molecule 'LIG'\n",
      "Warning: OE3DToAtomStereo had a problem during conformation test 'LIG'\n",
      "Warning: OE3DToAtomStereo is unable to perceive atom stereo from a flat geometry on atom 8 of molecule 'LIG'\n",
      "Warning: OE3DToAtomStereo had a problem during conformation test 'LIG'\n",
      "Warning: OE3DToAtomStereo is unable to perceive atom stereo from a flat geometry on atom 8 of molecule 'LIG'\n",
      "Warning: OE3DToAtomStereo had a problem during conformation test 'LIG'\n",
      "Warning: OE3DToAtomStereo is unable to perceive atom stereo from a flat geometry on atom 8 of molecule 'LIG'\n",
      "Warning: OE3DToAtomStereo had a problem during conformation test 'LIG'\n",
      "Warning: OE3DToAtomStereo is unable to perceive atom stereo from a flat geometry on atom 8 of molecule 'LIG'\n",
      "Warning: OE3DToAtomStereo had a problem during conformation test 'LIG'\n",
      "Warning: OE3DToAtomStereo is unable to perceive atom stereo from a flat geometry on atom 8 of molecule 'LIG'\n",
      "Warning: OE3DToAtomStereo had a problem during conformation test 'LIG'\n",
      "Warning: OE3DToAtomStereo is unable to perceive atom stereo from a flat geometry on atom 8 of molecule 'LIG'\n",
      "Warning: OE3DToAtomStereo had a problem during conformation test 'LIG'\n",
      "Warning: OE3DToAtomStereo is unable to perceive atom stereo from a flat geometry on atom 8 of molecule 'LIG'\n",
      "Warning: OE3DToAtomStereo had a problem during conformation test 'LIG'\n",
      "Warning: OE3DToAtomStereo is unable to perceive atom stereo from a flat geometry on atom 8 of molecule 'LIG'\n",
      "Warning: OE3DToAtomStereo had a problem during conformation test 'LIG'\n",
      "Warning: OE3DToAtomStereo is unable to perceive atom stereo from a flat geometry on atom 8 of molecule 'LIG'\n",
      "Warning: OE3DToAtomStereo had a problem during conformation test 'LIG'\n"
     ]
    }
   ],
   "source": [
    "pairs = selector.select(ligands, complexes)"
   ]
  },
  {
   "cell_type": "code",
   "execution_count": 37,
   "id": "5806a3e4f5c87241",
   "metadata": {
    "ExecuteTime": {
     "end_time": "2024-04-25T18:28:05.376520Z",
     "start_time": "2024-04-25T18:28:05.372409Z"
    }
   },
   "outputs": [
    {
     "data": {
      "text/plain": [
       "10"
      ]
     },
     "execution_count": 37,
     "metadata": {},
     "output_type": "execute_result"
    }
   ],
   "source": [
    "len(pairs)"
   ]
  },
  {
   "cell_type": "code",
   "execution_count": 38,
   "id": "282520ebdd7728e3",
   "metadata": {
    "ExecuteTime": {
     "end_time": "2024-04-25T18:28:05.382609Z",
     "start_time": "2024-04-25T18:28:05.378050Z"
    },
    "collapsed": false,
    "jupyter": {
     "outputs_hidden": false
    }
   },
   "outputs": [
    {
     "data": {
      "text/plain": [
       "True"
      ]
     },
     "execution_count": 38,
     "metadata": {},
     "output_type": "execute_result"
    }
   ],
   "source": [
    "# are all the ligands the same as those in the complexes?\n",
    "all(pair.complex.ligand == pair.ligand for pair in pairs)"
   ]
  },
  {
   "cell_type": "markdown",
   "id": "13c7f4acd29e8afc",
   "metadata": {
    "collapsed": false,
    "jupyter": {
     "outputs_hidden": false
    }
   },
   "source": [
    "#### PairwiseSelector"
   ]
  },
  {
   "cell_type": "markdown",
   "id": "15142b2c-c624-4297-9725-88c97219357e",
   "metadata": {},
   "source": [
    "The `PairwiseSelector` produces the full outer product of complexes and ligands e.g in the example below we have 10 complexes and 10 ligands. The resulting outer product of pairs contains 100 elements. "
   ]
  },
  {
   "cell_type": "code",
   "execution_count": 66,
   "id": "ea5e768515d4a5c0",
   "metadata": {
    "ExecuteTime": {
     "end_time": "2024-04-25T18:28:05.387896Z",
     "start_time": "2024-04-25T18:28:05.384726Z"
    },
    "collapsed": false,
    "jupyter": {
     "outputs_hidden": false
    }
   },
   "outputs": [],
   "source": [
    "selector = StructureSelector('PairwiseSelector').selector_cls()"
   ]
  },
  {
   "cell_type": "code",
   "execution_count": 67,
   "id": "9f14dfeecf060c11",
   "metadata": {
    "ExecuteTime": {
     "end_time": "2024-04-25T18:28:05.394208Z",
     "start_time": "2024-04-25T18:28:05.390256Z"
    },
    "collapsed": false,
    "jupyter": {
     "outputs_hidden": false
    }
   },
   "outputs": [],
   "source": [
    "pairs = selector.select(ligands, complexes)"
   ]
  },
  {
   "cell_type": "code",
   "execution_count": 68,
   "id": "1518d5e2db86eb47",
   "metadata": {
    "ExecuteTime": {
     "end_time": "2024-04-25T18:28:05.400061Z",
     "start_time": "2024-04-25T18:28:05.395774Z"
    },
    "collapsed": false,
    "jupyter": {
     "outputs_hidden": false
    }
   },
   "outputs": [
    {
     "data": {
      "text/plain": [
       "100"
      ]
     },
     "execution_count": 68,
     "metadata": {},
     "output_type": "execute_result"
    }
   ],
   "source": [
    "len(pairs)"
   ]
  },
  {
   "cell_type": "markdown",
   "id": "aba14008fc7868ca",
   "metadata": {
    "collapsed": false,
    "jupyter": {
     "outputs_hidden": false
    }
   },
   "source": [
    "#### MCSSelector"
   ]
  },
  {
   "cell_type": "markdown",
   "id": "d1142304-3297-4a79-81e7-760b18435bd4",
   "metadata": {},
   "source": [
    "The `MCSSelector` selects complexes that closely match the structures in the query ligand by Maximum Common Substructure (MCS). This is very useful when docking new designs and you need to determine a chemically similar reference. "
   ]
  },
  {
   "cell_type": "code",
   "execution_count": 69,
   "id": "a2de81ea7cb5193e",
   "metadata": {
    "ExecuteTime": {
     "end_time": "2024-04-25T18:28:05.406604Z",
     "start_time": "2024-04-25T18:28:05.403445Z"
    },
    "collapsed": false,
    "jupyter": {
     "outputs_hidden": false
    }
   },
   "outputs": [],
   "source": [
    "selector = StructureSelector('MCSSelector').selector_cls()"
   ]
  },
  {
   "cell_type": "code",
   "execution_count": 73,
   "id": "8cf6e9ffdd576126",
   "metadata": {
    "ExecuteTime": {
     "end_time": "2024-04-25T18:28:05.492978Z",
     "start_time": "2024-04-25T18:28:05.408490Z"
    },
    "collapsed": false,
    "jupyter": {
     "outputs_hidden": false
    }
   },
   "outputs": [
    {
     "ename": "TypeError",
     "evalue": "LeaveSimilarOutSelector._select() got an unexpected keyword argument 'n_select'",
     "output_type": "error",
     "traceback": [
      "\u001b[0;31m---------------------------------------------------------------------------\u001b[0m",
      "\u001b[0;31mTypeError\u001b[0m                                 Traceback (most recent call last)",
      "Cell \u001b[0;32mIn[73], line 2\u001b[0m\n\u001b[1;32m      1\u001b[0m \u001b[38;5;66;03m# the n_select parameter controls how many matches per ligand\u001b[39;00m\n\u001b[0;32m----> 2\u001b[0m pairs \u001b[38;5;241m=\u001b[39m \u001b[43mselector\u001b[49m\u001b[38;5;241;43m.\u001b[39;49m\u001b[43mselect\u001b[49m\u001b[43m(\u001b[49m\u001b[43mligands\u001b[49m\u001b[43m,\u001b[49m\u001b[43m \u001b[49m\u001b[43mcomplexes\u001b[49m\u001b[43m,\u001b[49m\u001b[43m \u001b[49m\u001b[43mn_select\u001b[49m\u001b[38;5;241;43m=\u001b[39;49m\u001b[38;5;241;43m5\u001b[39;49m\u001b[43m)\u001b[49m\n",
      "File \u001b[0;32m/store/projects/ASAP_dev/asapdiscovery/asapdiscovery-data/asapdiscovery/data/operators/selectors/selector.py:52\u001b[0m, in \u001b[0;36mSelectorBase.select\u001b[0;34m(self, ligands, complexes, use_dask, dask_client, dask_failure_mode, **kwargs)\u001b[0m\n\u001b[1;32m     48\u001b[0m     outputs \u001b[38;5;241m=\u001b[39m [\n\u001b[1;32m     49\u001b[0m         item \u001b[38;5;28;01mfor\u001b[39;00m sublist \u001b[38;5;129;01min\u001b[39;00m outputs \u001b[38;5;28;01mfor\u001b[39;00m item \u001b[38;5;129;01min\u001b[39;00m sublist\n\u001b[1;32m     50\u001b[0m     ]  \u001b[38;5;66;03m# flatten post hoc\u001b[39;00m\n\u001b[1;32m     51\u001b[0m \u001b[38;5;28;01melse\u001b[39;00m:\n\u001b[0;32m---> 52\u001b[0m     outputs \u001b[38;5;241m=\u001b[39m \u001b[38;5;28;43mself\u001b[39;49m\u001b[38;5;241;43m.\u001b[39;49m\u001b[43m_select\u001b[49m\u001b[43m(\u001b[49m\u001b[43mligands\u001b[49m\u001b[38;5;241;43m=\u001b[39;49m\u001b[43mligands\u001b[49m\u001b[43m,\u001b[49m\u001b[43m \u001b[49m\u001b[43mcomplexes\u001b[49m\u001b[38;5;241;43m=\u001b[39;49m\u001b[43mcomplexes\u001b[49m\u001b[43m,\u001b[49m\u001b[43m \u001b[49m\u001b[38;5;241;43m*\u001b[39;49m\u001b[38;5;241;43m*\u001b[39;49m\u001b[43mkwargs\u001b[49m\u001b[43m)\u001b[49m\n\u001b[1;32m     54\u001b[0m \u001b[38;5;28;01mreturn\u001b[39;00m outputs\n",
      "\u001b[0;31mTypeError\u001b[0m: LeaveSimilarOutSelector._select() got an unexpected keyword argument 'n_select'"
     ]
    }
   ],
   "source": [
    "# the n_select parameter controls how many matches per ligand\n",
    "pairs = selector.select(ligands, complexes, n_select=5)"
   ]
  },
  {
   "cell_type": "code",
   "execution_count": 71,
   "id": "bb800d955cf5bb9d",
   "metadata": {
    "ExecuteTime": {
     "end_time": "2024-04-25T18:28:05.498923Z",
     "start_time": "2024-04-25T18:28:05.494563Z"
    },
    "collapsed": false,
    "jupyter": {
     "outputs_hidden": false
    }
   },
   "outputs": [
    {
     "data": {
      "text/plain": [
       "50"
      ]
     },
     "execution_count": 71,
     "metadata": {},
     "output_type": "execute_result"
    }
   ],
   "source": [
    "len(pairs)"
   ]
  },
  {
   "cell_type": "markdown",
   "id": "725e4d271720a847",
   "metadata": {
    "collapsed": false,
    "jupyter": {
     "outputs_hidden": false
    }
   },
   "source": [
    "#### LeaveSimilarOutSelector"
   ]
  },
  {
   "cell_type": "markdown",
   "id": "d5a1804e89458fed",
   "metadata": {
    "collapsed": false,
    "jupyter": {
     "outputs_hidden": false
    }
   },
   "source": [
    "The `LeaveSimilarOutSelector` filters out pairs where the ligand is a stereoisomer / tautomer / protonation state isomer / etc of the complex ligand. It can take a while though because it has to do an len(ligands) * len(complexes) pairwise comparison of all those chemical possibilities. "
   ]
  },
  {
   "cell_type": "code",
   "execution_count": 74,
   "id": "e96cfc897fa52cdd",
   "metadata": {
    "ExecuteTime": {
     "end_time": "2024-04-25T18:28:05.503935Z",
     "start_time": "2024-04-25T18:28:05.500897Z"
    },
    "collapsed": false,
    "jupyter": {
     "outputs_hidden": false
    }
   },
   "outputs": [],
   "source": [
    "selector = StructureSelector('LeaveSimilarOutSelector').selector_cls()"
   ]
  },
  {
   "cell_type": "code",
   "execution_count": 75,
   "id": "64cefea78ac239ef",
   "metadata": {
    "ExecuteTime": {
     "end_time": "2024-04-25T18:28:15.184862Z",
     "start_time": "2024-04-25T18:28:05.506269Z"
    },
    "collapsed": false,
    "jupyter": {
     "outputs_hidden": false
    }
   },
   "outputs": [
    {
     "name": "stderr",
     "output_type": "stream",
     "text": [
      "Warning: OE3DToAtomStereo is unable to perceive atom stereo from a flat geometry on atom 8 of molecule 'LIG'\n",
      "Warning: OE3DToAtomStereo had a problem during conformation test 'LIG'\n",
      "Warning: OE3DToAtomStereo is unable to perceive atom stereo from a flat geometry on atom 8 of molecule 'LIG'\n",
      "Warning: OE3DToAtomStereo had a problem during conformation test 'LIG'\n",
      "Warning: OE3DToAtomStereo is unable to perceive atom stereo from a flat geometry on atom 8 of molecule 'LIG'\n",
      "Warning: OE3DToAtomStereo had a problem during conformation test 'LIG'\n",
      "Warning: OE3DToAtomStereo is unable to perceive atom stereo from a flat geometry on atom 8 of molecule 'LIG'\n",
      "Warning: OE3DToAtomStereo had a problem during conformation test 'LIG'\n",
      "Warning: OE3DToAtomStereo is unable to perceive atom stereo from a flat geometry on atom 8 of molecule 'LIG'\n",
      "Warning: OE3DToAtomStereo had a problem during conformation test 'LIG'\n",
      "Warning: OE3DToAtomStereo is unable to perceive atom stereo from a flat geometry on atom 8 of molecule 'LIG'\n",
      "Warning: OE3DToAtomStereo had a problem during conformation test 'LIG'\n",
      "Warning: OE3DToAtomStereo is unable to perceive atom stereo from a flat geometry on atom 8 of molecule 'LIG'\n",
      "Warning: OE3DToAtomStereo had a problem during conformation test 'LIG'\n",
      "Warning: OE3DToAtomStereo is unable to perceive atom stereo from a flat geometry on atom 8 of molecule 'LIG'\n",
      "Warning: OE3DToAtomStereo had a problem during conformation test 'LIG'\n",
      "Warning: OE3DToAtomStereo is unable to perceive atom stereo from a flat geometry on atom 8 of molecule 'LIG'\n",
      "Warning: OE3DToAtomStereo had a problem during conformation test 'LIG'\n",
      "Warning: OE3DToAtomStereo is unable to perceive atom stereo from a flat geometry on atom 8 of molecule 'LIG'\n",
      "Warning: OE3DToAtomStereo had a problem during conformation test 'LIG'\n",
      "Warning: OE3DToAtomStereo is unable to perceive atom stereo from a flat geometry on atom 8 of molecule 'LIG'\n",
      "Warning: OE3DToAtomStereo had a problem during conformation test 'LIG'\n",
      "Warning: OE3DToAtomStereo is unable to perceive atom stereo from a flat geometry on atom 8 of molecule 'LIG'\n",
      "Warning: OE3DToAtomStereo had a problem during conformation test 'LIG'\n",
      "Warning: OE3DToAtomStereo is unable to perceive atom stereo from a flat geometry on atom 8 of molecule 'LIG'\n",
      "Warning: OE3DToAtomStereo had a problem during conformation test 'LIG'\n",
      "Warning: OE3DToAtomStereo is unable to perceive atom stereo from a flat geometry on atom 8 of molecule 'LIG'\n",
      "Warning: OE3DToAtomStereo had a problem during conformation test 'LIG'\n",
      "Warning: OE3DToAtomStereo is unable to perceive atom stereo from a flat geometry on atom 8 of molecule 'LIG'\n",
      "Warning: OE3DToAtomStereo had a problem during conformation test 'LIG'\n",
      "Warning: OE3DToAtomStereo is unable to perceive atom stereo from a flat geometry on atom 8 of molecule 'LIG'\n",
      "Warning: OE3DToAtomStereo had a problem during conformation test 'LIG'\n",
      "Warning: OE3DToAtomStereo is unable to perceive atom stereo from a flat geometry on atom 8 of molecule 'LIG'\n",
      "Warning: OE3DToAtomStereo had a problem during conformation test 'LIG'\n",
      "Warning: OE3DToAtomStereo is unable to perceive atom stereo from a flat geometry on atom 8 of molecule 'LIG'\n",
      "Warning: OE3DToAtomStereo had a problem during conformation test 'LIG'\n",
      "Warning: OE3DToAtomStereo is unable to perceive atom stereo from a flat geometry on atom 8 of molecule 'LIG'\n",
      "Warning: OE3DToAtomStereo had a problem during conformation test 'LIG'\n",
      "Warning: OE3DToAtomStereo is unable to perceive atom stereo from a flat geometry on atom 8 of molecule 'LIG'\n",
      "Warning: OE3DToAtomStereo had a problem during conformation test 'LIG'\n",
      "Warning: OE3DToAtomStereo is unable to perceive atom stereo from a flat geometry on atom 8 of molecule 'LIG'\n",
      "Warning: OE3DToAtomStereo had a problem during conformation test 'LIG'\n",
      "Warning: OE3DToAtomStereo is unable to perceive atom stereo from a flat geometry on atom 8 of molecule 'LIG'\n",
      "Warning: OE3DToAtomStereo had a problem during conformation test 'LIG'\n",
      "Warning: OE3DToAtomStereo is unable to perceive atom stereo from a flat geometry on atom 8 of molecule 'LIG'\n",
      "Warning: OE3DToAtomStereo had a problem during conformation test 'LIG'\n",
      "Warning: OE3DToAtomStereo is unable to perceive atom stereo from a flat geometry on atom 8 of molecule 'LIG'\n",
      "Warning: OE3DToAtomStereo had a problem during conformation test 'LIG'\n",
      "Warning: OE3DToAtomStereo is unable to perceive atom stereo from a flat geometry on atom 8 of molecule 'LIG'\n",
      "Warning: OE3DToAtomStereo had a problem during conformation test 'LIG'\n",
      "Warning: OE3DToAtomStereo is unable to perceive atom stereo from a flat geometry on atom 8 of molecule 'LIG'\n",
      "Warning: OE3DToAtomStereo had a problem during conformation test 'LIG'\n",
      "Warning: OE3DToAtomStereo is unable to perceive atom stereo from a flat geometry on atom 8 of molecule 'LIG'\n",
      "Warning: OE3DToAtomStereo had a problem during conformation test 'LIG'\n",
      "Warning: OE3DToAtomStereo is unable to perceive atom stereo from a flat geometry on atom 8 of molecule 'LIG'\n",
      "Warning: OE3DToAtomStereo had a problem during conformation test 'LIG'\n",
      "Warning: OE3DToAtomStereo is unable to perceive atom stereo from a flat geometry on atom 8 of molecule 'LIG'\n",
      "Warning: OE3DToAtomStereo had a problem during conformation test 'LIG'\n",
      "Warning: OE3DToAtomStereo is unable to perceive atom stereo from a flat geometry on atom 8 of molecule 'LIG'\n",
      "Warning: OE3DToAtomStereo had a problem during conformation test 'LIG'\n",
      "Warning: OE3DToAtomStereo is unable to perceive atom stereo from a flat geometry on atom 8 of molecule 'LIG'\n",
      "Warning: OE3DToAtomStereo had a problem during conformation test 'LIG'\n",
      "Warning: OE3DToAtomStereo is unable to perceive atom stereo from a flat geometry on atom 8 of molecule 'LIG'\n",
      "Warning: OE3DToAtomStereo had a problem during conformation test 'LIG'\n",
      "Warning: OE3DToAtomStereo is unable to perceive atom stereo from a flat geometry on atom 8 of molecule 'LIG'\n",
      "Warning: OE3DToAtomStereo had a problem during conformation test 'LIG'\n",
      "Warning: OE3DToAtomStereo is unable to perceive atom stereo from a flat geometry on atom 8 of molecule 'LIG'\n",
      "Warning: OE3DToAtomStereo had a problem during conformation test 'LIG'\n",
      "Warning: OE3DToAtomStereo is unable to perceive atom stereo from a flat geometry on atom 8 of molecule 'LIG'\n",
      "Warning: OE3DToAtomStereo had a problem during conformation test 'LIG'\n",
      "Warning: OE3DToAtomStereo is unable to perceive atom stereo from a flat geometry on atom 8 of molecule 'LIG'\n",
      "Warning: OE3DToAtomStereo had a problem during conformation test 'LIG'\n",
      "Warning: OE3DToAtomStereo is unable to perceive atom stereo from a flat geometry on atom 8 of molecule 'LIG'\n",
      "Warning: OE3DToAtomStereo had a problem during conformation test 'LIG'\n",
      "Warning: OE3DToAtomStereo is unable to perceive atom stereo from a flat geometry on atom 8 of molecule 'LIG'\n",
      "Warning: OE3DToAtomStereo had a problem during conformation test 'LIG'\n",
      "Warning: OE3DToAtomStereo is unable to perceive atom stereo from a flat geometry on atom 8 of molecule 'LIG'\n",
      "Warning: OE3DToAtomStereo had a problem during conformation test 'LIG'\n",
      "Warning: OE3DToAtomStereo is unable to perceive atom stereo from a flat geometry on atom 8 of molecule 'LIG'\n",
      "Warning: OE3DToAtomStereo had a problem during conformation test 'LIG'\n",
      "Warning: OE3DToAtomStereo is unable to perceive atom stereo from a flat geometry on atom 8 of molecule 'LIG'\n",
      "Warning: OE3DToAtomStereo had a problem during conformation test 'LIG'\n",
      "Warning: OE3DToAtomStereo is unable to perceive atom stereo from a flat geometry on atom 8 of molecule 'LIG'\n",
      "Warning: OE3DToAtomStereo had a problem during conformation test 'LIG'\n",
      "Warning: OE3DToAtomStereo is unable to perceive atom stereo from a flat geometry on atom 8 of molecule 'LIG'\n",
      "Warning: OE3DToAtomStereo had a problem during conformation test 'LIG'\n",
      "Warning: OE3DToAtomStereo is unable to perceive atom stereo from a flat geometry on atom 8 of molecule 'LIG'\n",
      "Warning: OE3DToAtomStereo had a problem during conformation test 'LIG'\n",
      "Warning: OE3DToAtomStereo is unable to perceive atom stereo from a flat geometry on atom 8 of molecule 'LIG'\n",
      "Warning: OE3DToAtomStereo had a problem during conformation test 'LIG'\n",
      "Warning: OE3DToAtomStereo is unable to perceive atom stereo from a flat geometry on atom 8 of molecule 'LIG'\n",
      "Warning: OE3DToAtomStereo had a problem during conformation test 'LIG'\n",
      "Warning: OE3DToAtomStereo is unable to perceive atom stereo from a flat geometry on atom 8 of molecule 'LIG'\n",
      "Warning: OE3DToAtomStereo had a problem during conformation test 'LIG'\n",
      "Warning: OE3DToAtomStereo is unable to perceive atom stereo from a flat geometry on atom 8 of molecule 'LIG'\n",
      "Warning: OE3DToAtomStereo had a problem during conformation test 'LIG'\n",
      "Warning: OE3DToAtomStereo is unable to perceive atom stereo from a flat geometry on atom 8 of molecule 'LIG'\n",
      "Warning: OE3DToAtomStereo had a problem during conformation test 'LIG'\n",
      "Warning: OE3DToAtomStereo is unable to perceive atom stereo from a flat geometry on atom 8 of molecule 'LIG'\n",
      "Warning: OE3DToAtomStereo had a problem during conformation test 'LIG'\n",
      "Warning: OE3DToAtomStereo is unable to perceive atom stereo from a flat geometry on atom 8 of molecule 'LIG'\n",
      "Warning: OE3DToAtomStereo had a problem during conformation test 'LIG'\n",
      "Warning: OE3DToAtomStereo is unable to perceive atom stereo from a flat geometry on atom 8 of molecule 'LIG'\n",
      "Warning: OE3DToAtomStereo had a problem during conformation test 'LIG'\n",
      "Warning: OE3DToAtomStereo is unable to perceive atom stereo from a flat geometry on atom 8 of molecule 'LIG'\n",
      "Warning: OE3DToAtomStereo had a problem during conformation test 'LIG'\n",
      "Warning: OE3DToAtomStereo is unable to perceive atom stereo from a flat geometry on atom 8 of molecule 'LIG'\n",
      "Warning: OE3DToAtomStereo had a problem during conformation test 'LIG'\n",
      "Warning: OE3DToAtomStereo is unable to perceive atom stereo from a flat geometry on atom 8 of molecule 'LIG'\n",
      "Warning: OE3DToAtomStereo had a problem during conformation test 'LIG'\n",
      "Warning: OE3DToAtomStereo is unable to perceive atom stereo from a flat geometry on atom 8 of molecule 'LIG'\n",
      "Warning: OE3DToAtomStereo had a problem during conformation test 'LIG'\n",
      "Warning: OE3DToAtomStereo is unable to perceive atom stereo from a flat geometry on atom 8 of molecule 'LIG'\n",
      "Warning: OE3DToAtomStereo had a problem during conformation test 'LIG'\n",
      "Warning: OE3DToAtomStereo is unable to perceive atom stereo from a flat geometry on atom 8 of molecule 'LIG'\n",
      "Warning: OE3DToAtomStereo had a problem during conformation test 'LIG'\n",
      "Warning: OE3DToAtomStereo is unable to perceive atom stereo from a flat geometry on atom 8 of molecule 'LIG'\n",
      "Warning: OE3DToAtomStereo had a problem during conformation test 'LIG'\n",
      "Warning: OE3DToAtomStereo is unable to perceive atom stereo from a flat geometry on atom 8 of molecule 'LIG'\n",
      "Warning: OE3DToAtomStereo had a problem during conformation test 'LIG'\n",
      "Warning: OE3DToAtomStereo is unable to perceive atom stereo from a flat geometry on atom 8 of molecule 'LIG'\n",
      "Warning: OE3DToAtomStereo had a problem during conformation test 'LIG'\n",
      "Warning: OE3DToAtomStereo is unable to perceive atom stereo from a flat geometry on atom 8 of molecule 'LIG'\n",
      "Warning: OE3DToAtomStereo had a problem during conformation test 'LIG'\n",
      "Warning: OE3DToAtomStereo is unable to perceive atom stereo from a flat geometry on atom 8 of molecule 'LIG'\n",
      "Warning: OE3DToAtomStereo had a problem during conformation test 'LIG'\n",
      "Warning: OE3DToAtomStereo is unable to perceive atom stereo from a flat geometry on atom 8 of molecule 'LIG'\n",
      "Warning: OE3DToAtomStereo had a problem during conformation test 'LIG'\n",
      "Warning: OE3DToAtomStereo is unable to perceive atom stereo from a flat geometry on atom 8 of molecule 'LIG'\n",
      "Warning: OE3DToAtomStereo had a problem during conformation test 'LIG'\n",
      "Warning: OE3DToAtomStereo is unable to perceive atom stereo from a flat geometry on atom 8 of molecule 'LIG'\n",
      "Warning: OE3DToAtomStereo had a problem during conformation test 'LIG'\n",
      "Warning: OE3DToAtomStereo is unable to perceive atom stereo from a flat geometry on atom 8 of molecule 'LIG'\n",
      "Warning: OE3DToAtomStereo had a problem during conformation test 'LIG'\n",
      "Warning: OE3DToAtomStereo is unable to perceive atom stereo from a flat geometry on atom 8 of molecule 'LIG'\n",
      "Warning: OE3DToAtomStereo had a problem during conformation test 'LIG'\n",
      "Warning: OE3DToAtomStereo is unable to perceive atom stereo from a flat geometry on atom 8 of molecule 'LIG'\n",
      "Warning: OE3DToAtomStereo had a problem during conformation test 'LIG'\n",
      "Warning: OE3DToAtomStereo is unable to perceive atom stereo from a flat geometry on atom 8 of molecule 'LIG'\n",
      "Warning: OE3DToAtomStereo had a problem during conformation test 'LIG'\n",
      "Warning: OE3DToAtomStereo is unable to perceive atom stereo from a flat geometry on atom 8 of molecule 'LIG'\n",
      "Warning: OE3DToAtomStereo had a problem during conformation test 'LIG'\n",
      "Warning: OE3DToAtomStereo is unable to perceive atom stereo from a flat geometry on atom 8 of molecule 'LIG'\n",
      "Warning: OE3DToAtomStereo had a problem during conformation test 'LIG'\n",
      "Warning: OE3DToAtomStereo is unable to perceive atom stereo from a flat geometry on atom 8 of molecule 'LIG'\n",
      "Warning: OE3DToAtomStereo had a problem during conformation test 'LIG'\n",
      "Warning: OE3DToAtomStereo is unable to perceive atom stereo from a flat geometry on atom 8 of molecule 'LIG'\n",
      "Warning: OE3DToAtomStereo had a problem during conformation test 'LIG'\n",
      "Warning: OE3DToAtomStereo is unable to perceive atom stereo from a flat geometry on atom 8 of molecule 'LIG'\n",
      "Warning: OE3DToAtomStereo had a problem during conformation test 'LIG'\n",
      "Warning: OE3DToAtomStereo is unable to perceive atom stereo from a flat geometry on atom 8 of molecule 'LIG'\n",
      "Warning: OE3DToAtomStereo had a problem during conformation test 'LIG'\n",
      "Warning: OE3DToAtomStereo is unable to perceive atom stereo from a flat geometry on atom 8 of molecule 'LIG'\n",
      "Warning: OE3DToAtomStereo had a problem during conformation test 'LIG'\n",
      "Warning: OE3DToAtomStereo is unable to perceive atom stereo from a flat geometry on atom 8 of molecule 'LIG'\n",
      "Warning: OE3DToAtomStereo had a problem during conformation test 'LIG'\n",
      "Warning: OE3DToAtomStereo is unable to perceive atom stereo from a flat geometry on atom 8 of molecule 'LIG'\n",
      "Warning: OE3DToAtomStereo had a problem during conformation test 'LIG'\n",
      "Warning: OE3DToAtomStereo is unable to perceive atom stereo from a flat geometry on atom 8 of molecule 'LIG'\n",
      "Warning: OE3DToAtomStereo had a problem during conformation test 'LIG'\n",
      "Warning: OE3DToAtomStereo is unable to perceive atom stereo from a flat geometry on atom 8 of molecule 'LIG'\n",
      "Warning: OE3DToAtomStereo had a problem during conformation test 'LIG'\n",
      "Warning: OE3DToAtomStereo is unable to perceive atom stereo from a flat geometry on atom 8 of molecule 'LIG'\n",
      "Warning: OE3DToAtomStereo had a problem during conformation test 'LIG'\n",
      "Warning: OE3DToAtomStereo is unable to perceive atom stereo from a flat geometry on atom 8 of molecule 'LIG'\n",
      "Warning: OE3DToAtomStereo had a problem during conformation test 'LIG'\n",
      "Warning: OE3DToAtomStereo is unable to perceive atom stereo from a flat geometry on atom 8 of molecule 'LIG'\n",
      "Warning: OE3DToAtomStereo had a problem during conformation test 'LIG'\n",
      "Warning: OE3DToAtomStereo is unable to perceive atom stereo from a flat geometry on atom 8 of molecule 'LIG'\n",
      "Warning: OE3DToAtomStereo had a problem during conformation test 'LIG'\n",
      "Warning: OE3DToAtomStereo is unable to perceive atom stereo from a flat geometry on atom 8 of molecule 'LIG'\n",
      "Warning: OE3DToAtomStereo had a problem during conformation test 'LIG'\n",
      "Warning: OE3DToAtomStereo is unable to perceive atom stereo from a flat geometry on atom 8 of molecule 'LIG'\n",
      "Warning: OE3DToAtomStereo had a problem during conformation test 'LIG'\n",
      "Warning: OE3DToAtomStereo is unable to perceive atom stereo from a flat geometry on atom 8 of molecule 'LIG'\n",
      "Warning: OE3DToAtomStereo had a problem during conformation test 'LIG'\n",
      "Warning: OE3DToAtomStereo is unable to perceive atom stereo from a flat geometry on atom 8 of molecule 'LIG'\n",
      "Warning: OE3DToAtomStereo had a problem during conformation test 'LIG'\n",
      "Warning: OE3DToAtomStereo is unable to perceive atom stereo from a flat geometry on atom 8 of molecule 'LIG'\n",
      "Warning: OE3DToAtomStereo had a problem during conformation test 'LIG'\n",
      "Warning: OE3DToAtomStereo is unable to perceive atom stereo from a flat geometry on atom 8 of molecule 'LIG'\n",
      "Warning: OE3DToAtomStereo had a problem during conformation test 'LIG'\n",
      "Warning: OE3DToAtomStereo is unable to perceive atom stereo from a flat geometry on atom 8 of molecule 'LIG'\n",
      "Warning: OE3DToAtomStereo had a problem during conformation test 'LIG'\n",
      "Warning: OE3DToAtomStereo is unable to perceive atom stereo from a flat geometry on atom 8 of molecule 'LIG'\n",
      "Warning: OE3DToAtomStereo had a problem during conformation test 'LIG'\n",
      "Warning: OE3DToAtomStereo is unable to perceive atom stereo from a flat geometry on atom 8 of molecule 'LIG'\n",
      "Warning: OE3DToAtomStereo had a problem during conformation test 'LIG'\n",
      "Warning: OE3DToAtomStereo is unable to perceive atom stereo from a flat geometry on atom 8 of molecule 'LIG'\n",
      "Warning: OE3DToAtomStereo had a problem during conformation test 'LIG'\n",
      "Warning: OE3DToAtomStereo is unable to perceive atom stereo from a flat geometry on atom 8 of molecule 'LIG'\n",
      "Warning: OE3DToAtomStereo had a problem during conformation test 'LIG'\n",
      "Warning: OE3DToAtomStereo is unable to perceive atom stereo from a flat geometry on atom 8 of molecule 'LIG'\n",
      "Warning: OE3DToAtomStereo had a problem during conformation test 'LIG'\n",
      "Warning: OE3DToAtomStereo is unable to perceive atom stereo from a flat geometry on atom 8 of molecule 'LIG'\n",
      "Warning: OE3DToAtomStereo had a problem during conformation test 'LIG'\n",
      "Warning: OE3DToAtomStereo is unable to perceive atom stereo from a flat geometry on atom 8 of molecule 'LIG'\n",
      "Warning: OE3DToAtomStereo had a problem during conformation test 'LIG'\n",
      "Warning: OE3DToAtomStereo is unable to perceive atom stereo from a flat geometry on atom 8 of molecule 'LIG'\n",
      "Warning: OE3DToAtomStereo had a problem during conformation test 'LIG'\n",
      "Warning: OE3DToAtomStereo is unable to perceive atom stereo from a flat geometry on atom 8 of molecule 'LIG'\n",
      "Warning: OE3DToAtomStereo had a problem during conformation test 'LIG'\n",
      "Warning: OE3DToAtomStereo is unable to perceive atom stereo from a flat geometry on atom 8 of molecule 'LIG'\n",
      "Warning: OE3DToAtomStereo had a problem during conformation test 'LIG'\n",
      "Warning: OE3DToAtomStereo is unable to perceive atom stereo from a flat geometry on atom 8 of molecule 'LIG'\n",
      "Warning: OE3DToAtomStereo had a problem during conformation test 'LIG'\n",
      "Warning: OE3DToAtomStereo is unable to perceive atom stereo from a flat geometry on atom 8 of molecule 'LIG'\n",
      "Warning: OE3DToAtomStereo had a problem during conformation test 'LIG'\n",
      "Warning: OE3DToAtomStereo is unable to perceive atom stereo from a flat geometry on atom 8 of molecule 'LIG'\n",
      "Warning: OE3DToAtomStereo had a problem during conformation test 'LIG'\n",
      "Warning: OE3DToAtomStereo is unable to perceive atom stereo from a flat geometry on atom 8 of molecule 'LIG'\n",
      "Warning: OE3DToAtomStereo had a problem during conformation test 'LIG'\n",
      "Warning: OE3DToAtomStereo is unable to perceive atom stereo from a flat geometry on atom 8 of molecule 'LIG'\n",
      "Warning: OE3DToAtomStereo had a problem during conformation test 'LIG'\n",
      "Warning: OE3DToAtomStereo is unable to perceive atom stereo from a flat geometry on atom 8 of molecule 'LIG'\n",
      "Warning: OE3DToAtomStereo had a problem during conformation test 'LIG'\n",
      "Warning: OE3DToAtomStereo is unable to perceive atom stereo from a flat geometry on atom 8 of molecule 'LIG'\n",
      "Warning: OE3DToAtomStereo had a problem during conformation test 'LIG'\n",
      "Warning: OE3DToAtomStereo is unable to perceive atom stereo from a flat geometry on atom 8 of molecule 'LIG'\n",
      "Warning: OE3DToAtomStereo had a problem during conformation test 'LIG'\n",
      "Warning: OE3DToAtomStereo is unable to perceive atom stereo from a flat geometry on atom 8 of molecule 'LIG'\n",
      "Warning: OE3DToAtomStereo had a problem during conformation test 'LIG'\n",
      "Warning: OE3DToAtomStereo is unable to perceive atom stereo from a flat geometry on atom 8 of molecule 'LIG'\n",
      "Warning: OE3DToAtomStereo had a problem during conformation test 'LIG'\n",
      "Warning: OE3DToAtomStereo is unable to perceive atom stereo from a flat geometry on atom 8 of molecule 'LIG'\n",
      "Warning: OE3DToAtomStereo had a problem during conformation test 'LIG'\n",
      "Warning: OE3DToAtomStereo is unable to perceive atom stereo from a flat geometry on atom 8 of molecule 'LIG'\n",
      "Warning: OE3DToAtomStereo had a problem during conformation test 'LIG'\n",
      "Warning: OE3DToAtomStereo is unable to perceive atom stereo from a flat geometry on atom 8 of molecule 'LIG'\n",
      "Warning: OE3DToAtomStereo had a problem during conformation test 'LIG'\n",
      "Warning: OE3DToAtomStereo is unable to perceive atom stereo from a flat geometry on atom 8 of molecule 'LIG'\n",
      "Warning: OE3DToAtomStereo had a problem during conformation test 'LIG'\n",
      "Warning: OE3DToAtomStereo is unable to perceive atom stereo from a flat geometry on atom 8 of molecule 'LIG'\n",
      "Warning: OE3DToAtomStereo had a problem during conformation test 'LIG'\n",
      "Warning: OE3DToAtomStereo is unable to perceive atom stereo from a flat geometry on atom 8 of molecule 'LIG'\n",
      "Warning: OE3DToAtomStereo had a problem during conformation test 'LIG'\n",
      "Warning: OE3DToAtomStereo is unable to perceive atom stereo from a flat geometry on atom 8 of molecule 'LIG'\n",
      "Warning: OE3DToAtomStereo had a problem during conformation test 'LIG'\n",
      "Warning: OE3DToAtomStereo is unable to perceive atom stereo from a flat geometry on atom 8 of molecule 'LIG'\n",
      "Warning: OE3DToAtomStereo had a problem during conformation test 'LIG'\n",
      "Warning: OE3DToAtomStereo is unable to perceive atom stereo from a flat geometry on atom 8 of molecule 'LIG'\n",
      "Warning: OE3DToAtomStereo had a problem during conformation test 'LIG'\n",
      "Warning: OE3DToAtomStereo is unable to perceive atom stereo from a flat geometry on atom 8 of molecule 'LIG'\n",
      "Warning: OE3DToAtomStereo had a problem during conformation test 'LIG'\n",
      "Warning: OE3DToAtomStereo is unable to perceive atom stereo from a flat geometry on atom 8 of molecule 'LIG'\n",
      "Warning: OE3DToAtomStereo had a problem during conformation test 'LIG'\n",
      "Warning: OE3DToAtomStereo is unable to perceive atom stereo from a flat geometry on atom 8 of molecule 'LIG'\n",
      "Warning: OE3DToAtomStereo had a problem during conformation test 'LIG'\n",
      "Warning: OE3DToAtomStereo is unable to perceive atom stereo from a flat geometry on atom 8 of molecule 'LIG'\n",
      "Warning: OE3DToAtomStereo had a problem during conformation test 'LIG'\n",
      "Warning: OE3DToAtomStereo is unable to perceive atom stereo from a flat geometry on atom 8 of molecule 'LIG'\n",
      "Warning: OE3DToAtomStereo had a problem during conformation test 'LIG'\n",
      "Warning: OE3DToAtomStereo is unable to perceive atom stereo from a flat geometry on atom 8 of molecule 'LIG'\n",
      "Warning: OE3DToAtomStereo had a problem during conformation test 'LIG'\n",
      "Warning: OE3DToAtomStereo is unable to perceive atom stereo from a flat geometry on atom 8 of molecule 'LIG'\n",
      "Warning: OE3DToAtomStereo had a problem during conformation test 'LIG'\n",
      "Warning: OE3DToAtomStereo is unable to perceive atom stereo from a flat geometry on atom 8 of molecule 'LIG'\n",
      "Warning: OE3DToAtomStereo had a problem during conformation test 'LIG'\n",
      "Warning: OE3DToAtomStereo is unable to perceive atom stereo from a flat geometry on atom 8 of molecule 'LIG'\n",
      "Warning: OE3DToAtomStereo had a problem during conformation test 'LIG'\n",
      "Warning: OE3DToAtomStereo is unable to perceive atom stereo from a flat geometry on atom 8 of molecule 'LIG'\n",
      "Warning: OE3DToAtomStereo had a problem during conformation test 'LIG'\n",
      "Warning: OE3DToAtomStereo is unable to perceive atom stereo from a flat geometry on atom 8 of molecule 'LIG'\n",
      "Warning: OE3DToAtomStereo had a problem during conformation test 'LIG'\n",
      "Warning: OE3DToAtomStereo is unable to perceive atom stereo from a flat geometry on atom 8 of molecule 'LIG'\n",
      "Warning: OE3DToAtomStereo had a problem during conformation test 'LIG'\n",
      "Warning: OE3DToAtomStereo is unable to perceive atom stereo from a flat geometry on atom 8 of molecule 'LIG'\n",
      "Warning: OE3DToAtomStereo had a problem during conformation test 'LIG'\n",
      "Warning: OE3DToAtomStereo is unable to perceive atom stereo from a flat geometry on atom 8 of molecule 'LIG'\n",
      "Warning: OE3DToAtomStereo had a problem during conformation test 'LIG'\n",
      "Warning: OE3DToAtomStereo is unable to perceive atom stereo from a flat geometry on atom 8 of molecule 'LIG'\n",
      "Warning: OE3DToAtomStereo had a problem during conformation test 'LIG'\n",
      "Warning: OE3DToAtomStereo is unable to perceive atom stereo from a flat geometry on atom 8 of molecule 'LIG'\n",
      "Warning: OE3DToAtomStereo had a problem during conformation test 'LIG'\n",
      "Warning: OE3DToAtomStereo is unable to perceive atom stereo from a flat geometry on atom 8 of molecule 'LIG'\n",
      "Warning: OE3DToAtomStereo had a problem during conformation test 'LIG'\n",
      "Warning: OE3DToAtomStereo is unable to perceive atom stereo from a flat geometry on atom 8 of molecule 'LIG'\n",
      "Warning: OE3DToAtomStereo had a problem during conformation test 'LIG'\n",
      "Warning: OE3DToAtomStereo is unable to perceive atom stereo from a flat geometry on atom 8 of molecule 'LIG'\n",
      "Warning: OE3DToAtomStereo had a problem during conformation test 'LIG'\n",
      "Warning: OE3DToAtomStereo is unable to perceive atom stereo from a flat geometry on atom 8 of molecule 'LIG'\n",
      "Warning: OE3DToAtomStereo had a problem during conformation test 'LIG'\n",
      "Warning: OE3DToAtomStereo is unable to perceive atom stereo from a flat geometry on atom 8 of molecule 'LIG'\n",
      "Warning: OE3DToAtomStereo had a problem during conformation test 'LIG'\n",
      "Warning: OE3DToAtomStereo is unable to perceive atom stereo from a flat geometry on atom 8 of molecule 'LIG'\n",
      "Warning: OE3DToAtomStereo had a problem during conformation test 'LIG'\n",
      "Warning: OE3DToAtomStereo is unable to perceive atom stereo from a flat geometry on atom 8 of molecule 'LIG'\n",
      "Warning: OE3DToAtomStereo had a problem during conformation test 'LIG'\n",
      "Warning: OE3DToAtomStereo is unable to perceive atom stereo from a flat geometry on atom 8 of molecule 'LIG'\n",
      "Warning: OE3DToAtomStereo had a problem during conformation test 'LIG'\n",
      "Warning: OE3DToAtomStereo is unable to perceive atom stereo from a flat geometry on atom 8 of molecule 'LIG'\n",
      "Warning: OE3DToAtomStereo had a problem during conformation test 'LIG'\n",
      "Warning: OE3DToAtomStereo is unable to perceive atom stereo from a flat geometry on atom 8 of molecule 'LIG'\n",
      "Warning: OE3DToAtomStereo had a problem during conformation test 'LIG'\n",
      "Warning: OE3DToAtomStereo is unable to perceive atom stereo from a flat geometry on atom 8 of molecule 'LIG'\n",
      "Warning: OE3DToAtomStereo had a problem during conformation test 'LIG'\n",
      "Warning: OE3DToAtomStereo is unable to perceive atom stereo from a flat geometry on atom 8 of molecule 'LIG'\n",
      "Warning: OE3DToAtomStereo had a problem during conformation test 'LIG'\n",
      "Warning: OE3DToAtomStereo is unable to perceive atom stereo from a flat geometry on atom 8 of molecule 'LIG'\n",
      "Warning: OE3DToAtomStereo had a problem during conformation test 'LIG'\n",
      "Warning: OE3DToAtomStereo is unable to perceive atom stereo from a flat geometry on atom 8 of molecule 'LIG'\n",
      "Warning: OE3DToAtomStereo had a problem during conformation test 'LIG'\n",
      "Warning: OE3DToAtomStereo is unable to perceive atom stereo from a flat geometry on atom 8 of molecule 'LIG'\n",
      "Warning: OE3DToAtomStereo had a problem during conformation test 'LIG'\n",
      "Warning: OE3DToAtomStereo is unable to perceive atom stereo from a flat geometry on atom 8 of molecule 'LIG'\n",
      "Warning: OE3DToAtomStereo had a problem during conformation test 'LIG'\n",
      "Warning: OE3DToAtomStereo is unable to perceive atom stereo from a flat geometry on atom 8 of molecule 'LIG'\n",
      "Warning: OE3DToAtomStereo had a problem during conformation test 'LIG'\n",
      "Warning: OE3DToAtomStereo is unable to perceive atom stereo from a flat geometry on atom 8 of molecule 'LIG'\n",
      "Warning: OE3DToAtomStereo had a problem during conformation test 'LIG'\n",
      "Warning: OE3DToAtomStereo is unable to perceive atom stereo from a flat geometry on atom 8 of molecule 'LIG'\n",
      "Warning: OE3DToAtomStereo had a problem during conformation test 'LIG'\n",
      "Warning: OE3DToAtomStereo is unable to perceive atom stereo from a flat geometry on atom 8 of molecule 'LIG'\n",
      "Warning: OE3DToAtomStereo had a problem during conformation test 'LIG'\n",
      "Warning: OE3DToAtomStereo is unable to perceive atom stereo from a flat geometry on atom 8 of molecule 'LIG'\n",
      "Warning: OE3DToAtomStereo had a problem during conformation test 'LIG'\n",
      "Warning: OE3DToAtomStereo is unable to perceive atom stereo from a flat geometry on atom 8 of molecule 'LIG'\n",
      "Warning: OE3DToAtomStereo had a problem during conformation test 'LIG'\n",
      "Warning: OE3DToAtomStereo is unable to perceive atom stereo from a flat geometry on atom 8 of molecule 'LIG'\n",
      "Warning: OE3DToAtomStereo had a problem during conformation test 'LIG'\n",
      "Warning: OE3DToAtomStereo is unable to perceive atom stereo from a flat geometry on atom 8 of molecule 'LIG'\n",
      "Warning: OE3DToAtomStereo had a problem during conformation test 'LIG'\n",
      "Warning: OE3DToAtomStereo is unable to perceive atom stereo from a flat geometry on atom 8 of molecule 'LIG'\n",
      "Warning: OE3DToAtomStereo had a problem during conformation test 'LIG'\n",
      "Warning: OE3DToAtomStereo is unable to perceive atom stereo from a flat geometry on atom 8 of molecule 'LIG'\n",
      "Warning: OE3DToAtomStereo had a problem during conformation test 'LIG'\n",
      "Warning: OE3DToAtomStereo is unable to perceive atom stereo from a flat geometry on atom 8 of molecule 'LIG'\n",
      "Warning: OE3DToAtomStereo had a problem during conformation test 'LIG'\n",
      "Warning: OE3DToAtomStereo is unable to perceive atom stereo from a flat geometry on atom 8 of molecule 'LIG'\n",
      "Warning: OE3DToAtomStereo had a problem during conformation test 'LIG'\n",
      "Warning: OE3DToAtomStereo is unable to perceive atom stereo from a flat geometry on atom 8 of molecule 'LIG'\n",
      "Warning: OE3DToAtomStereo had a problem during conformation test 'LIG'\n",
      "Warning: OE3DToAtomStereo is unable to perceive atom stereo from a flat geometry on atom 8 of molecule 'LIG'\n",
      "Warning: OE3DToAtomStereo had a problem during conformation test 'LIG'\n",
      "Warning: OE3DToAtomStereo is unable to perceive atom stereo from a flat geometry on atom 8 of molecule 'LIG'\n",
      "Warning: OE3DToAtomStereo had a problem during conformation test 'LIG'\n",
      "Warning: OE3DToAtomStereo is unable to perceive atom stereo from a flat geometry on atom 8 of molecule 'LIG'\n",
      "Warning: OE3DToAtomStereo had a problem during conformation test 'LIG'\n",
      "Warning: OE3DToAtomStereo is unable to perceive atom stereo from a flat geometry on atom 8 of molecule 'LIG'\n",
      "Warning: OE3DToAtomStereo had a problem during conformation test 'LIG'\n",
      "Warning: OE3DToAtomStereo is unable to perceive atom stereo from a flat geometry on atom 8 of molecule 'LIG'\n",
      "Warning: OE3DToAtomStereo had a problem during conformation test 'LIG'\n",
      "Warning: OE3DToAtomStereo is unable to perceive atom stereo from a flat geometry on atom 8 of molecule 'LIG'\n",
      "Warning: OE3DToAtomStereo had a problem during conformation test 'LIG'\n",
      "Warning: OE3DToAtomStereo is unable to perceive atom stereo from a flat geometry on atom 8 of molecule 'LIG'\n",
      "Warning: OE3DToAtomStereo had a problem during conformation test 'LIG'\n",
      "Warning: OE3DToAtomStereo is unable to perceive atom stereo from a flat geometry on atom 8 of molecule 'LIG'\n",
      "Warning: OE3DToAtomStereo had a problem during conformation test 'LIG'\n",
      "Warning: OE3DToAtomStereo is unable to perceive atom stereo from a flat geometry on atom 8 of molecule 'LIG'\n",
      "Warning: OE3DToAtomStereo had a problem during conformation test 'LIG'\n",
      "Warning: OE3DToAtomStereo is unable to perceive atom stereo from a flat geometry on atom 8 of molecule 'LIG'\n",
      "Warning: OE3DToAtomStereo had a problem during conformation test 'LIG'\n",
      "Warning: OE3DToAtomStereo is unable to perceive atom stereo from a flat geometry on atom 8 of molecule 'LIG'\n",
      "Warning: OE3DToAtomStereo had a problem during conformation test 'LIG'\n",
      "Warning: OE3DToAtomStereo is unable to perceive atom stereo from a flat geometry on atom 8 of molecule 'LIG'\n",
      "Warning: OE3DToAtomStereo had a problem during conformation test 'LIG'\n",
      "Warning: OE3DToAtomStereo is unable to perceive atom stereo from a flat geometry on atom 8 of molecule 'LIG'\n",
      "Warning: OE3DToAtomStereo had a problem during conformation test 'LIG'\n",
      "Warning: OE3DToAtomStereo is unable to perceive atom stereo from a flat geometry on atom 8 of molecule 'LIG'\n",
      "Warning: OE3DToAtomStereo had a problem during conformation test 'LIG'\n",
      "Warning: OE3DToAtomStereo is unable to perceive atom stereo from a flat geometry on atom 8 of molecule 'LIG'\n",
      "Warning: OE3DToAtomStereo had a problem during conformation test 'LIG'\n",
      "Warning: OE3DToAtomStereo is unable to perceive atom stereo from a flat geometry on atom 8 of molecule 'LIG'\n",
      "Warning: OE3DToAtomStereo had a problem during conformation test 'LIG'\n",
      "Warning: OE3DToAtomStereo is unable to perceive atom stereo from a flat geometry on atom 8 of molecule 'LIG'\n",
      "Warning: OE3DToAtomStereo had a problem during conformation test 'LIG'\n",
      "Warning: OE3DToAtomStereo is unable to perceive atom stereo from a flat geometry on atom 8 of molecule 'LIG'\n",
      "Warning: OE3DToAtomStereo had a problem during conformation test 'LIG'\n",
      "Warning: OE3DToAtomStereo is unable to perceive atom stereo from a flat geometry on atom 8 of molecule 'LIG'\n",
      "Warning: OE3DToAtomStereo had a problem during conformation test 'LIG'\n",
      "Warning: OE3DToAtomStereo is unable to perceive atom stereo from a flat geometry on atom 8 of molecule 'LIG'\n",
      "Warning: OE3DToAtomStereo had a problem during conformation test 'LIG'\n",
      "Warning: OE3DToAtomStereo is unable to perceive atom stereo from a flat geometry on atom 8 of molecule 'LIG'\n",
      "Warning: OE3DToAtomStereo had a problem during conformation test 'LIG'\n",
      "Warning: OE3DToAtomStereo is unable to perceive atom stereo from a flat geometry on atom 8 of molecule 'LIG'\n",
      "Warning: OE3DToAtomStereo had a problem during conformation test 'LIG'\n",
      "Warning: OE3DToAtomStereo is unable to perceive atom stereo from a flat geometry on atom 8 of molecule 'LIG'\n",
      "Warning: OE3DToAtomStereo had a problem during conformation test 'LIG'\n",
      "Warning: OE3DToAtomStereo is unable to perceive atom stereo from a flat geometry on atom 8 of molecule 'LIG'\n",
      "Warning: OE3DToAtomStereo had a problem during conformation test 'LIG'\n",
      "Warning: OE3DToAtomStereo is unable to perceive atom stereo from a flat geometry on atom 8 of molecule 'LIG'\n",
      "Warning: OE3DToAtomStereo had a problem during conformation test 'LIG'\n",
      "Warning: OE3DToAtomStereo is unable to perceive atom stereo from a flat geometry on atom 8 of molecule 'LIG'\n",
      "Warning: OE3DToAtomStereo had a problem during conformation test 'LIG'\n",
      "Warning: OE3DToAtomStereo is unable to perceive atom stereo from a flat geometry on atom 8 of molecule 'LIG'\n",
      "Warning: OE3DToAtomStereo had a problem during conformation test 'LIG'\n",
      "Warning: OE3DToAtomStereo is unable to perceive atom stereo from a flat geometry on atom 8 of molecule 'LIG'\n",
      "Warning: OE3DToAtomStereo had a problem during conformation test 'LIG'\n",
      "Warning: OE3DToAtomStereo is unable to perceive atom stereo from a flat geometry on atom 8 of molecule 'LIG'\n",
      "Warning: OE3DToAtomStereo had a problem during conformation test 'LIG'\n",
      "Warning: OE3DToAtomStereo is unable to perceive atom stereo from a flat geometry on atom 8 of molecule 'LIG'\n",
      "Warning: OE3DToAtomStereo had a problem during conformation test 'LIG'\n",
      "Warning: OE3DToAtomStereo is unable to perceive atom stereo from a flat geometry on atom 8 of molecule 'LIG'\n",
      "Warning: OE3DToAtomStereo had a problem during conformation test 'LIG'\n",
      "Warning: OE3DToAtomStereo is unable to perceive atom stereo from a flat geometry on atom 8 of molecule 'LIG'\n",
      "Warning: OE3DToAtomStereo had a problem during conformation test 'LIG'\n",
      "Warning: OE3DToAtomStereo is unable to perceive atom stereo from a flat geometry on atom 8 of molecule 'LIG'\n",
      "Warning: OE3DToAtomStereo had a problem during conformation test 'LIG'\n",
      "Warning: OE3DToAtomStereo is unable to perceive atom stereo from a flat geometry on atom 8 of molecule 'LIG'\n",
      "Warning: OE3DToAtomStereo had a problem during conformation test 'LIG'\n",
      "Warning: OE3DToAtomStereo is unable to perceive atom stereo from a flat geometry on atom 8 of molecule 'LIG'\n",
      "Warning: OE3DToAtomStereo had a problem during conformation test 'LIG'\n",
      "Warning: OE3DToAtomStereo is unable to perceive atom stereo from a flat geometry on atom 8 of molecule 'LIG'\n",
      "Warning: OE3DToAtomStereo had a problem during conformation test 'LIG'\n",
      "Warning: OE3DToAtomStereo is unable to perceive atom stereo from a flat geometry on atom 8 of molecule 'LIG'\n",
      "Warning: OE3DToAtomStereo had a problem during conformation test 'LIG'\n",
      "Warning: OE3DToAtomStereo is unable to perceive atom stereo from a flat geometry on atom 8 of molecule 'LIG'\n",
      "Warning: OE3DToAtomStereo had a problem during conformation test 'LIG'\n",
      "Warning: OE3DToAtomStereo is unable to perceive atom stereo from a flat geometry on atom 8 of molecule 'LIG'\n",
      "Warning: OE3DToAtomStereo had a problem during conformation test 'LIG'\n",
      "Warning: OE3DToAtomStereo is unable to perceive atom stereo from a flat geometry on atom 8 of molecule 'LIG'\n",
      "Warning: OE3DToAtomStereo had a problem during conformation test 'LIG'\n",
      "Warning: OE3DToAtomStereo is unable to perceive atom stereo from a flat geometry on atom 8 of molecule 'LIG'\n",
      "Warning: OE3DToAtomStereo had a problem during conformation test 'LIG'\n",
      "Warning: OE3DToAtomStereo is unable to perceive atom stereo from a flat geometry on atom 8 of molecule 'LIG'\n",
      "Warning: OE3DToAtomStereo had a problem during conformation test 'LIG'\n",
      "Warning: OE3DToAtomStereo is unable to perceive atom stereo from a flat geometry on atom 8 of molecule 'LIG'\n",
      "Warning: OE3DToAtomStereo had a problem during conformation test 'LIG'\n",
      "Warning: OE3DToAtomStereo is unable to perceive atom stereo from a flat geometry on atom 8 of molecule 'LIG'\n",
      "Warning: OE3DToAtomStereo had a problem during conformation test 'LIG'\n",
      "Warning: OE3DToAtomStereo is unable to perceive atom stereo from a flat geometry on atom 8 of molecule 'LIG'\n",
      "Warning: OE3DToAtomStereo had a problem during conformation test 'LIG'\n",
      "Warning: OE3DToAtomStereo is unable to perceive atom stereo from a flat geometry on atom 8 of molecule 'LIG'\n",
      "Warning: OE3DToAtomStereo had a problem during conformation test 'LIG'\n",
      "Warning: OE3DToAtomStereo is unable to perceive atom stereo from a flat geometry on atom 8 of molecule 'LIG'\n",
      "Warning: OE3DToAtomStereo had a problem during conformation test 'LIG'\n",
      "Warning: OE3DToAtomStereo is unable to perceive atom stereo from a flat geometry on atom 8 of molecule 'LIG'\n",
      "Warning: OE3DToAtomStereo had a problem during conformation test 'LIG'\n",
      "Warning: OE3DToAtomStereo is unable to perceive atom stereo from a flat geometry on atom 8 of molecule 'LIG'\n",
      "Warning: OE3DToAtomStereo had a problem during conformation test 'LIG'\n",
      "Warning: OE3DToAtomStereo is unable to perceive atom stereo from a flat geometry on atom 8 of molecule 'LIG'\n",
      "Warning: OE3DToAtomStereo had a problem during conformation test 'LIG'\n",
      "Warning: OE3DToAtomStereo is unable to perceive atom stereo from a flat geometry on atom 8 of molecule 'LIG'\n",
      "Warning: OE3DToAtomStereo had a problem during conformation test 'LIG'\n",
      "Warning: OE3DToAtomStereo is unable to perceive atom stereo from a flat geometry on atom 8 of molecule 'LIG'\n",
      "Warning: OE3DToAtomStereo had a problem during conformation test 'LIG'\n",
      "Warning: OE3DToAtomStereo is unable to perceive atom stereo from a flat geometry on atom 8 of molecule 'LIG'\n",
      "Warning: OE3DToAtomStereo had a problem during conformation test 'LIG'\n",
      "Warning: OE3DToAtomStereo is unable to perceive atom stereo from a flat geometry on atom 8 of molecule 'LIG'\n",
      "Warning: OE3DToAtomStereo had a problem during conformation test 'LIG'\n",
      "Warning: OE3DToAtomStereo is unable to perceive atom stereo from a flat geometry on atom 8 of molecule 'LIG'\n",
      "Warning: OE3DToAtomStereo had a problem during conformation test 'LIG'\n",
      "Warning: OE3DToAtomStereo is unable to perceive atom stereo from a flat geometry on atom 8 of molecule 'LIG'\n",
      "Warning: OE3DToAtomStereo had a problem during conformation test 'LIG'\n",
      "Warning: OE3DToAtomStereo is unable to perceive atom stereo from a flat geometry on atom 8 of molecule 'LIG'\n",
      "Warning: OE3DToAtomStereo had a problem during conformation test 'LIG'\n",
      "Warning: OE3DToAtomStereo is unable to perceive atom stereo from a flat geometry on atom 8 of molecule 'LIG'\n",
      "Warning: OE3DToAtomStereo had a problem during conformation test 'LIG'\n",
      "Warning: OE3DToAtomStereo is unable to perceive atom stereo from a flat geometry on atom 8 of molecule 'LIG'\n",
      "Warning: OE3DToAtomStereo had a problem during conformation test 'LIG'\n",
      "Warning: OE3DToAtomStereo is unable to perceive atom stereo from a flat geometry on atom 8 of molecule 'LIG'\n",
      "Warning: OE3DToAtomStereo had a problem during conformation test 'LIG'\n",
      "Warning: OE3DToAtomStereo is unable to perceive atom stereo from a flat geometry on atom 8 of molecule 'LIG'\n",
      "Warning: OE3DToAtomStereo had a problem during conformation test 'LIG'\n",
      "Warning: OE3DToAtomStereo is unable to perceive atom stereo from a flat geometry on atom 8 of molecule 'LIG'\n",
      "Warning: OE3DToAtomStereo had a problem during conformation test 'LIG'\n",
      "Warning: OE3DToAtomStereo is unable to perceive atom stereo from a flat geometry on atom 8 of molecule 'LIG'\n",
      "Warning: OE3DToAtomStereo had a problem during conformation test 'LIG'\n",
      "Warning: OE3DToAtomStereo is unable to perceive atom stereo from a flat geometry on atom 8 of molecule 'LIG'\n",
      "Warning: OE3DToAtomStereo had a problem during conformation test 'LIG'\n",
      "Warning: OE3DToAtomStereo is unable to perceive atom stereo from a flat geometry on atom 8 of molecule 'LIG'\n",
      "Warning: OE3DToAtomStereo had a problem during conformation test 'LIG'\n",
      "Warning: OE3DToAtomStereo is unable to perceive atom stereo from a flat geometry on atom 8 of molecule 'LIG'\n",
      "Warning: OE3DToAtomStereo had a problem during conformation test 'LIG'\n",
      "Warning: OE3DToAtomStereo is unable to perceive atom stereo from a flat geometry on atom 8 of molecule 'LIG'\n",
      "Warning: OE3DToAtomStereo had a problem during conformation test 'LIG'\n",
      "Warning: OE3DToAtomStereo is unable to perceive atom stereo from a flat geometry on atom 8 of molecule 'LIG'\n",
      "Warning: OE3DToAtomStereo had a problem during conformation test 'LIG'\n",
      "Warning: OE3DToAtomStereo is unable to perceive atom stereo from a flat geometry on atom 8 of molecule 'LIG'\n",
      "Warning: OE3DToAtomStereo had a problem during conformation test 'LIG'\n",
      "Warning: OE3DToAtomStereo is unable to perceive atom stereo from a flat geometry on atom 8 of molecule 'LIG'\n",
      "Warning: OE3DToAtomStereo had a problem during conformation test 'LIG'\n",
      "Warning: OE3DToAtomStereo is unable to perceive atom stereo from a flat geometry on atom 8 of molecule 'LIG'\n",
      "Warning: OE3DToAtomStereo had a problem during conformation test 'LIG'\n",
      "Warning: OE3DToAtomStereo is unable to perceive atom stereo from a flat geometry on atom 8 of molecule 'LIG'\n",
      "Warning: OE3DToAtomStereo had a problem during conformation test 'LIG'\n",
      "Warning: OE3DToAtomStereo is unable to perceive atom stereo from a flat geometry on atom 8 of molecule 'LIG'\n",
      "Warning: OE3DToAtomStereo had a problem during conformation test 'LIG'\n",
      "Warning: OE3DToAtomStereo is unable to perceive atom stereo from a flat geometry on atom 8 of molecule 'LIG'\n",
      "Warning: OE3DToAtomStereo had a problem during conformation test 'LIG'\n",
      "Warning: OE3DToAtomStereo is unable to perceive atom stereo from a flat geometry on atom 8 of molecule 'LIG'\n",
      "Warning: OE3DToAtomStereo had a problem during conformation test 'LIG'\n",
      "Warning: OE3DToAtomStereo is unable to perceive atom stereo from a flat geometry on atom 8 of molecule 'LIG'\n",
      "Warning: OE3DToAtomStereo had a problem during conformation test 'LIG'\n",
      "Warning: OE3DToAtomStereo is unable to perceive atom stereo from a flat geometry on atom 8 of molecule 'LIG'\n",
      "Warning: OE3DToAtomStereo had a problem during conformation test 'LIG'\n",
      "Warning: OE3DToAtomStereo is unable to perceive atom stereo from a flat geometry on atom 8 of molecule 'LIG'\n",
      "Warning: OE3DToAtomStereo had a problem during conformation test 'LIG'\n",
      "Warning: OE3DToAtomStereo is unable to perceive atom stereo from a flat geometry on atom 8 of molecule 'LIG'\n",
      "Warning: OE3DToAtomStereo had a problem during conformation test 'LIG'\n",
      "Warning: OE3DToAtomStereo is unable to perceive atom stereo from a flat geometry on atom 8 of molecule 'LIG'\n",
      "Warning: OE3DToAtomStereo had a problem during conformation test 'LIG'\n",
      "Warning: OE3DToAtomStereo is unable to perceive atom stereo from a flat geometry on atom 8 of molecule 'LIG'\n",
      "Warning: OE3DToAtomStereo had a problem during conformation test 'LIG'\n",
      "Warning: OE3DToAtomStereo is unable to perceive atom stereo from a flat geometry on atom 8 of molecule 'LIG'\n",
      "Warning: OE3DToAtomStereo had a problem during conformation test 'LIG'\n",
      "Warning: OE3DToAtomStereo is unable to perceive atom stereo from a flat geometry on atom 8 of molecule 'LIG'\n",
      "Warning: OE3DToAtomStereo had a problem during conformation test 'LIG'\n",
      "Warning: OE3DToAtomStereo is unable to perceive atom stereo from a flat geometry on atom 8 of molecule 'LIG'\n",
      "Warning: OE3DToAtomStereo had a problem during conformation test 'LIG'\n",
      "Warning: OE3DToAtomStereo is unable to perceive atom stereo from a flat geometry on atom 8 of molecule 'LIG'\n",
      "Warning: OE3DToAtomStereo had a problem during conformation test 'LIG'\n",
      "Warning: OE3DToAtomStereo is unable to perceive atom stereo from a flat geometry on atom 8 of molecule 'LIG'\n",
      "Warning: OE3DToAtomStereo had a problem during conformation test 'LIG'\n",
      "Warning: OE3DToAtomStereo is unable to perceive atom stereo from a flat geometry on atom 8 of molecule 'LIG'\n",
      "Warning: OE3DToAtomStereo had a problem during conformation test 'LIG'\n",
      "Warning: OE3DToAtomStereo is unable to perceive atom stereo from a flat geometry on atom 8 of molecule 'LIG'\n",
      "Warning: OE3DToAtomStereo had a problem during conformation test 'LIG'\n",
      "Warning: OE3DToAtomStereo is unable to perceive atom stereo from a flat geometry on atom 8 of molecule 'LIG'\n",
      "Warning: OE3DToAtomStereo had a problem during conformation test 'LIG'\n",
      "Warning: OE3DToAtomStereo is unable to perceive atom stereo from a flat geometry on atom 8 of molecule 'LIG'\n",
      "Warning: OE3DToAtomStereo had a problem during conformation test 'LIG'\n",
      "Warning: OE3DToAtomStereo is unable to perceive atom stereo from a flat geometry on atom 8 of molecule 'LIG'\n",
      "Warning: OE3DToAtomStereo had a problem during conformation test 'LIG'\n",
      "Warning: OE3DToAtomStereo is unable to perceive atom stereo from a flat geometry on atom 8 of molecule 'LIG'\n",
      "Warning: OE3DToAtomStereo had a problem during conformation test 'LIG'\n",
      "Warning: OE3DToAtomStereo is unable to perceive atom stereo from a flat geometry on atom 8 of molecule 'LIG'\n",
      "Warning: OE3DToAtomStereo had a problem during conformation test 'LIG'\n",
      "Warning: OE3DToAtomStereo is unable to perceive atom stereo from a flat geometry on atom 8 of molecule 'LIG'\n",
      "Warning: OE3DToAtomStereo had a problem during conformation test 'LIG'\n",
      "Warning: OE3DToAtomStereo is unable to perceive atom stereo from a flat geometry on atom 8 of molecule 'LIG'\n",
      "Warning: OE3DToAtomStereo had a problem during conformation test 'LIG'\n",
      "Warning: OE3DToAtomStereo is unable to perceive atom stereo from a flat geometry on atom 8 of molecule 'LIG'\n",
      "Warning: OE3DToAtomStereo had a problem during conformation test 'LIG'\n",
      "Warning: OE3DToAtomStereo is unable to perceive atom stereo from a flat geometry on atom 8 of molecule 'LIG'\n",
      "Warning: OE3DToAtomStereo had a problem during conformation test 'LIG'\n",
      "Warning: OE3DToAtomStereo is unable to perceive atom stereo from a flat geometry on atom 8 of molecule 'LIG'\n",
      "Warning: OE3DToAtomStereo had a problem during conformation test 'LIG'\n",
      "Warning: OE3DToAtomStereo is unable to perceive atom stereo from a flat geometry on atom 8 of molecule 'LIG'\n",
      "Warning: OE3DToAtomStereo had a problem during conformation test 'LIG'\n",
      "Warning: OE3DToAtomStereo is unable to perceive atom stereo from a flat geometry on atom 8 of molecule 'LIG'\n",
      "Warning: OE3DToAtomStereo had a problem during conformation test 'LIG'\n",
      "Warning: OE3DToAtomStereo is unable to perceive atom stereo from a flat geometry on atom 8 of molecule 'LIG'\n",
      "Warning: OE3DToAtomStereo had a problem during conformation test 'LIG'\n",
      "Warning: OE3DToAtomStereo is unable to perceive atom stereo from a flat geometry on atom 8 of molecule 'LIG'\n",
      "Warning: OE3DToAtomStereo had a problem during conformation test 'LIG'\n",
      "Warning: OE3DToAtomStereo is unable to perceive atom stereo from a flat geometry on atom 8 of molecule 'LIG'\n",
      "Warning: OE3DToAtomStereo had a problem during conformation test 'LIG'\n",
      "Warning: OE3DToAtomStereo is unable to perceive atom stereo from a flat geometry on atom 8 of molecule 'LIG'\n",
      "Warning: OE3DToAtomStereo had a problem during conformation test 'LIG'\n",
      "Warning: OE3DToAtomStereo is unable to perceive atom stereo from a flat geometry on atom 8 of molecule 'LIG'\n",
      "Warning: OE3DToAtomStereo had a problem during conformation test 'LIG'\n",
      "Warning: OE3DToAtomStereo is unable to perceive atom stereo from a flat geometry on atom 8 of molecule 'LIG'\n",
      "Warning: OE3DToAtomStereo had a problem during conformation test 'LIG'\n",
      "Warning: OE3DToAtomStereo is unable to perceive atom stereo from a flat geometry on atom 8 of molecule 'LIG'\n",
      "Warning: OE3DToAtomStereo had a problem during conformation test 'LIG'\n",
      "Warning: OE3DToAtomStereo is unable to perceive atom stereo from a flat geometry on atom 8 of molecule 'LIG'\n",
      "Warning: OE3DToAtomStereo had a problem during conformation test 'LIG'\n",
      "Warning: OE3DToAtomStereo is unable to perceive atom stereo from a flat geometry on atom 8 of molecule 'LIG'\n",
      "Warning: OE3DToAtomStereo had a problem during conformation test 'LIG'\n",
      "Warning: OE3DToAtomStereo is unable to perceive atom stereo from a flat geometry on atom 8 of molecule 'LIG'\n",
      "Warning: OE3DToAtomStereo had a problem during conformation test 'LIG'\n",
      "Warning: OE3DToAtomStereo is unable to perceive atom stereo from a flat geometry on atom 8 of molecule 'LIG'\n",
      "Warning: OE3DToAtomStereo had a problem during conformation test 'LIG'\n",
      "Warning: OE3DToAtomStereo is unable to perceive atom stereo from a flat geometry on atom 8 of molecule 'LIG'\n",
      "Warning: OE3DToAtomStereo had a problem during conformation test 'LIG'\n",
      "Warning: OE3DToAtomStereo is unable to perceive atom stereo from a flat geometry on atom 8 of molecule 'LIG'\n",
      "Warning: OE3DToAtomStereo had a problem during conformation test 'LIG'\n",
      "Warning: OE3DToAtomStereo is unable to perceive atom stereo from a flat geometry on atom 8 of molecule 'LIG'\n",
      "Warning: OE3DToAtomStereo had a problem during conformation test 'LIG'\n",
      "Warning: OE3DToAtomStereo is unable to perceive atom stereo from a flat geometry on atom 8 of molecule 'LIG'\n",
      "Warning: OE3DToAtomStereo had a problem during conformation test 'LIG'\n",
      "Warning: OE3DToAtomStereo is unable to perceive atom stereo from a flat geometry on atom 8 of molecule 'LIG'\n",
      "Warning: OE3DToAtomStereo had a problem during conformation test 'LIG'\n",
      "Warning: OE3DToAtomStereo is unable to perceive atom stereo from a flat geometry on atom 8 of molecule 'LIG'\n",
      "Warning: OE3DToAtomStereo had a problem during conformation test 'LIG'\n",
      "Warning: OE3DToAtomStereo is unable to perceive atom stereo from a flat geometry on atom 8 of molecule 'LIG'\n",
      "Warning: OE3DToAtomStereo had a problem during conformation test 'LIG'\n",
      "Warning: OE3DToAtomStereo is unable to perceive atom stereo from a flat geometry on atom 8 of molecule 'LIG'\n",
      "Warning: OE3DToAtomStereo had a problem during conformation test 'LIG'\n",
      "Warning: OE3DToAtomStereo is unable to perceive atom stereo from a flat geometry on atom 8 of molecule 'LIG'\n",
      "Warning: OE3DToAtomStereo had a problem during conformation test 'LIG'\n",
      "Warning: OE3DToAtomStereo is unable to perceive atom stereo from a flat geometry on atom 8 of molecule 'LIG'\n",
      "Warning: OE3DToAtomStereo had a problem during conformation test 'LIG'\n",
      "Warning: OE3DToAtomStereo is unable to perceive atom stereo from a flat geometry on atom 8 of molecule 'LIG'\n",
      "Warning: OE3DToAtomStereo had a problem during conformation test 'LIG'\n",
      "Warning: OE3DToAtomStereo is unable to perceive atom stereo from a flat geometry on atom 8 of molecule 'LIG'\n",
      "Warning: OE3DToAtomStereo had a problem during conformation test 'LIG'\n",
      "Warning: OE3DToAtomStereo is unable to perceive atom stereo from a flat geometry on atom 8 of molecule 'LIG'\n",
      "Warning: OE3DToAtomStereo had a problem during conformation test 'LIG'\n",
      "Warning: OE3DToAtomStereo is unable to perceive atom stereo from a flat geometry on atom 8 of molecule 'LIG'\n",
      "Warning: OE3DToAtomStereo had a problem during conformation test 'LIG'\n",
      "Warning: OE3DToAtomStereo is unable to perceive atom stereo from a flat geometry on atom 8 of molecule 'LIG'\n",
      "Warning: OE3DToAtomStereo had a problem during conformation test 'LIG'\n",
      "Warning: OE3DToAtomStereo is unable to perceive atom stereo from a flat geometry on atom 8 of molecule 'LIG'\n",
      "Warning: OE3DToAtomStereo had a problem during conformation test 'LIG'\n",
      "Warning: OE3DToAtomStereo is unable to perceive atom stereo from a flat geometry on atom 8 of molecule 'LIG'\n",
      "Warning: OE3DToAtomStereo had a problem during conformation test 'LIG'\n",
      "Warning: OE3DToAtomStereo is unable to perceive atom stereo from a flat geometry on atom 8 of molecule 'LIG'\n",
      "Warning: OE3DToAtomStereo had a problem during conformation test 'LIG'\n",
      "Warning: OE3DToAtomStereo is unable to perceive atom stereo from a flat geometry on atom 8 of molecule 'LIG'\n",
      "Warning: OE3DToAtomStereo had a problem during conformation test 'LIG'\n",
      "Warning: OE3DToAtomStereo is unable to perceive atom stereo from a flat geometry on atom 8 of molecule 'LIG'\n",
      "Warning: OE3DToAtomStereo had a problem during conformation test 'LIG'\n",
      "Warning: OE3DToAtomStereo is unable to perceive atom stereo from a flat geometry on atom 8 of molecule 'LIG'\n",
      "Warning: OE3DToAtomStereo had a problem during conformation test 'LIG'\n",
      "Warning: OE3DToAtomStereo is unable to perceive atom stereo from a flat geometry on atom 8 of molecule 'LIG'\n",
      "Warning: OE3DToAtomStereo had a problem during conformation test 'LIG'\n",
      "Warning: OE3DToAtomStereo is unable to perceive atom stereo from a flat geometry on atom 8 of molecule 'LIG'\n",
      "Warning: OE3DToAtomStereo had a problem during conformation test 'LIG'\n",
      "Warning: OE3DToAtomStereo is unable to perceive atom stereo from a flat geometry on atom 8 of molecule 'LIG'\n",
      "Warning: OE3DToAtomStereo had a problem during conformation test 'LIG'\n",
      "Warning: OE3DToAtomStereo is unable to perceive atom stereo from a flat geometry on atom 8 of molecule 'LIG'\n",
      "Warning: OE3DToAtomStereo had a problem during conformation test 'LIG'\n",
      "Warning: OE3DToAtomStereo is unable to perceive atom stereo from a flat geometry on atom 8 of molecule 'LIG'\n",
      "Warning: OE3DToAtomStereo had a problem during conformation test 'LIG'\n",
      "Warning: OE3DToAtomStereo is unable to perceive atom stereo from a flat geometry on atom 8 of molecule 'LIG'\n",
      "Warning: OE3DToAtomStereo had a problem during conformation test 'LIG'\n",
      "Warning: OE3DToAtomStereo is unable to perceive atom stereo from a flat geometry on atom 8 of molecule 'LIG'\n",
      "Warning: OE3DToAtomStereo had a problem during conformation test 'LIG'\n",
      "Warning: OE3DToAtomStereo is unable to perceive atom stereo from a flat geometry on atom 8 of molecule 'LIG'\n",
      "Warning: OE3DToAtomStereo had a problem during conformation test 'LIG'\n",
      "Warning: OE3DToAtomStereo is unable to perceive atom stereo from a flat geometry on atom 8 of molecule 'LIG'\n",
      "Warning: OE3DToAtomStereo had a problem during conformation test 'LIG'\n",
      "Warning: OE3DToAtomStereo is unable to perceive atom stereo from a flat geometry on atom 8 of molecule 'LIG'\n",
      "Warning: OE3DToAtomStereo had a problem during conformation test 'LIG'\n",
      "Warning: OE3DToAtomStereo is unable to perceive atom stereo from a flat geometry on atom 8 of molecule 'LIG'\n",
      "Warning: OE3DToAtomStereo had a problem during conformation test 'LIG'\n",
      "Warning: OE3DToAtomStereo is unable to perceive atom stereo from a flat geometry on atom 8 of molecule 'LIG'\n",
      "Warning: OE3DToAtomStereo had a problem during conformation test 'LIG'\n",
      "Warning: OE3DToAtomStereo is unable to perceive atom stereo from a flat geometry on atom 8 of molecule 'LIG'\n",
      "Warning: OE3DToAtomStereo had a problem during conformation test 'LIG'\n",
      "Warning: OE3DToAtomStereo is unable to perceive atom stereo from a flat geometry on atom 8 of molecule 'LIG'\n",
      "Warning: OE3DToAtomStereo had a problem during conformation test 'LIG'\n",
      "Warning: OE3DToAtomStereo is unable to perceive atom stereo from a flat geometry on atom 8 of molecule 'LIG'\n",
      "Warning: OE3DToAtomStereo had a problem during conformation test 'LIG'\n",
      "Warning: OE3DToAtomStereo is unable to perceive atom stereo from a flat geometry on atom 8 of molecule 'LIG'\n",
      "Warning: OE3DToAtomStereo had a problem during conformation test 'LIG'\n",
      "Warning: OE3DToAtomStereo is unable to perceive atom stereo from a flat geometry on atom 8 of molecule 'LIG'\n",
      "Warning: OE3DToAtomStereo had a problem during conformation test 'LIG'\n",
      "Warning: OE3DToAtomStereo is unable to perceive atom stereo from a flat geometry on atom 8 of molecule 'LIG'\n",
      "Warning: OE3DToAtomStereo had a problem during conformation test 'LIG'\n",
      "Warning: OE3DToAtomStereo is unable to perceive atom stereo from a flat geometry on atom 8 of molecule 'LIG'\n",
      "Warning: OE3DToAtomStereo had a problem during conformation test 'LIG'\n",
      "Warning: OE3DToAtomStereo is unable to perceive atom stereo from a flat geometry on atom 8 of molecule 'LIG'\n",
      "Warning: OE3DToAtomStereo had a problem during conformation test 'LIG'\n",
      "Warning: OE3DToAtomStereo is unable to perceive atom stereo from a flat geometry on atom 8 of molecule 'LIG'\n",
      "Warning: OE3DToAtomStereo had a problem during conformation test 'LIG'\n",
      "Warning: OE3DToAtomStereo is unable to perceive atom stereo from a flat geometry on atom 8 of molecule 'LIG'\n",
      "Warning: OE3DToAtomStereo had a problem during conformation test 'LIG'\n",
      "Warning: OE3DToAtomStereo is unable to perceive atom stereo from a flat geometry on atom 8 of molecule 'LIG'\n",
      "Warning: OE3DToAtomStereo had a problem during conformation test 'LIG'\n",
      "Warning: OE3DToAtomStereo is unable to perceive atom stereo from a flat geometry on atom 8 of molecule 'LIG'\n",
      "Warning: OE3DToAtomStereo had a problem during conformation test 'LIG'\n",
      "Warning: OE3DToAtomStereo is unable to perceive atom stereo from a flat geometry on atom 8 of molecule 'LIG'\n",
      "Warning: OE3DToAtomStereo had a problem during conformation test 'LIG'\n",
      "Warning: OE3DToAtomStereo is unable to perceive atom stereo from a flat geometry on atom 8 of molecule 'LIG'\n",
      "Warning: OE3DToAtomStereo had a problem during conformation test 'LIG'\n",
      "Warning: OE3DToAtomStereo is unable to perceive atom stereo from a flat geometry on atom 8 of molecule 'LIG'\n",
      "Warning: OE3DToAtomStereo had a problem during conformation test 'LIG'\n",
      "Warning: OE3DToAtomStereo is unable to perceive atom stereo from a flat geometry on atom 8 of molecule 'LIG'\n",
      "Warning: OE3DToAtomStereo had a problem during conformation test 'LIG'\n",
      "Warning: OE3DToAtomStereo is unable to perceive atom stereo from a flat geometry on atom 8 of molecule 'LIG'\n",
      "Warning: OE3DToAtomStereo had a problem during conformation test 'LIG'\n",
      "Warning: OE3DToAtomStereo is unable to perceive atom stereo from a flat geometry on atom 8 of molecule 'LIG'\n",
      "Warning: OE3DToAtomStereo had a problem during conformation test 'LIG'\n",
      "Warning: OE3DToAtomStereo is unable to perceive atom stereo from a flat geometry on atom 8 of molecule 'LIG'\n",
      "Warning: OE3DToAtomStereo had a problem during conformation test 'LIG'\n",
      "Warning: OE3DToAtomStereo is unable to perceive atom stereo from a flat geometry on atom 8 of molecule 'LIG'\n",
      "Warning: OE3DToAtomStereo had a problem during conformation test 'LIG'\n",
      "Warning: OE3DToAtomStereo is unable to perceive atom stereo from a flat geometry on atom 8 of molecule 'LIG'\n",
      "Warning: OE3DToAtomStereo had a problem during conformation test 'LIG'\n",
      "Warning: OE3DToAtomStereo is unable to perceive atom stereo from a flat geometry on atom 8 of molecule 'LIG'\n",
      "Warning: OE3DToAtomStereo had a problem during conformation test 'LIG'\n",
      "Warning: OE3DToAtomStereo is unable to perceive atom stereo from a flat geometry on atom 8 of molecule 'LIG'\n",
      "Warning: OE3DToAtomStereo had a problem during conformation test 'LIG'\n",
      "Warning: OE3DToAtomStereo is unable to perceive atom stereo from a flat geometry on atom 8 of molecule 'LIG'\n",
      "Warning: OE3DToAtomStereo had a problem during conformation test 'LIG'\n",
      "Warning: OE3DToAtomStereo is unable to perceive atom stereo from a flat geometry on atom 8 of molecule 'LIG'\n",
      "Warning: OE3DToAtomStereo had a problem during conformation test 'LIG'\n",
      "Warning: OE3DToAtomStereo is unable to perceive atom stereo from a flat geometry on atom 8 of molecule 'LIG'\n",
      "Warning: OE3DToAtomStereo had a problem during conformation test 'LIG'\n",
      "Warning: OE3DToAtomStereo is unable to perceive atom stereo from a flat geometry on atom 8 of molecule 'LIG'\n",
      "Warning: OE3DToAtomStereo had a problem during conformation test 'LIG'\n",
      "Warning: OE3DToAtomStereo is unable to perceive atom stereo from a flat geometry on atom 8 of molecule 'LIG'\n",
      "Warning: OE3DToAtomStereo had a problem during conformation test 'LIG'\n",
      "Warning: OE3DToAtomStereo is unable to perceive atom stereo from a flat geometry on atom 8 of molecule 'LIG'\n",
      "Warning: OE3DToAtomStereo had a problem during conformation test 'LIG'\n",
      "Warning: OE3DToAtomStereo is unable to perceive atom stereo from a flat geometry on atom 8 of molecule 'LIG'\n",
      "Warning: OE3DToAtomStereo had a problem during conformation test 'LIG'\n",
      "Warning: OE3DToAtomStereo is unable to perceive atom stereo from a flat geometry on atom 8 of molecule 'LIG'\n",
      "Warning: OE3DToAtomStereo had a problem during conformation test 'LIG'\n",
      "Warning: OE3DToAtomStereo is unable to perceive atom stereo from a flat geometry on atom 8 of molecule 'LIG'\n",
      "Warning: OE3DToAtomStereo had a problem during conformation test 'LIG'\n",
      "Warning: OE3DToAtomStereo is unable to perceive atom stereo from a flat geometry on atom 8 of molecule 'LIG'\n",
      "Warning: OE3DToAtomStereo had a problem during conformation test 'LIG'\n",
      "Warning: OE3DToAtomStereo is unable to perceive atom stereo from a flat geometry on atom 8 of molecule 'LIG'\n",
      "Warning: OE3DToAtomStereo had a problem during conformation test 'LIG'\n",
      "Warning: OE3DToAtomStereo is unable to perceive atom stereo from a flat geometry on atom 8 of molecule 'LIG'\n",
      "Warning: OE3DToAtomStereo had a problem during conformation test 'LIG'\n",
      "Warning: OE3DToAtomStereo is unable to perceive atom stereo from a flat geometry on atom 8 of molecule 'LIG'\n",
      "Warning: OE3DToAtomStereo had a problem during conformation test 'LIG'\n",
      "Warning: OE3DToAtomStereo is unable to perceive atom stereo from a flat geometry on atom 8 of molecule 'LIG'\n",
      "Warning: OE3DToAtomStereo had a problem during conformation test 'LIG'\n",
      "Warning: OE3DToAtomStereo is unable to perceive atom stereo from a flat geometry on atom 8 of molecule 'LIG'\n",
      "Warning: OE3DToAtomStereo had a problem during conformation test 'LIG'\n",
      "Warning: OE3DToAtomStereo is unable to perceive atom stereo from a flat geometry on atom 8 of molecule 'LIG'\n",
      "Warning: OE3DToAtomStereo had a problem during conformation test 'LIG'\n",
      "Warning: OE3DToAtomStereo is unable to perceive atom stereo from a flat geometry on atom 8 of molecule 'LIG'\n",
      "Warning: OE3DToAtomStereo had a problem during conformation test 'LIG'\n",
      "Warning: OE3DToAtomStereo is unable to perceive atom stereo from a flat geometry on atom 8 of molecule 'LIG'\n",
      "Warning: OE3DToAtomStereo had a problem during conformation test 'LIG'\n",
      "Warning: OE3DToAtomStereo is unable to perceive atom stereo from a flat geometry on atom 8 of molecule 'LIG'\n",
      "Warning: OE3DToAtomStereo had a problem during conformation test 'LIG'\n",
      "Warning: OE3DToAtomStereo is unable to perceive atom stereo from a flat geometry on atom 8 of molecule 'LIG'\n",
      "Warning: OE3DToAtomStereo had a problem during conformation test 'LIG'\n",
      "Warning: OE3DToAtomStereo is unable to perceive atom stereo from a flat geometry on atom 8 of molecule 'LIG'\n",
      "Warning: OE3DToAtomStereo had a problem during conformation test 'LIG'\n",
      "Warning: OE3DToAtomStereo is unable to perceive atom stereo from a flat geometry on atom 8 of molecule 'LIG'\n",
      "Warning: OE3DToAtomStereo had a problem during conformation test 'LIG'\n",
      "Warning: OE3DToAtomStereo is unable to perceive atom stereo from a flat geometry on atom 8 of molecule 'LIG'\n",
      "Warning: OE3DToAtomStereo had a problem during conformation test 'LIG'\n",
      "Warning: OE3DToAtomStereo is unable to perceive atom stereo from a flat geometry on atom 8 of molecule 'LIG'\n",
      "Warning: OE3DToAtomStereo had a problem during conformation test 'LIG'\n",
      "Warning: OE3DToAtomStereo is unable to perceive atom stereo from a flat geometry on atom 8 of molecule 'LIG'\n",
      "Warning: OE3DToAtomStereo had a problem during conformation test 'LIG'\n",
      "Warning: OE3DToAtomStereo is unable to perceive atom stereo from a flat geometry on atom 8 of molecule 'LIG'\n",
      "Warning: OE3DToAtomStereo had a problem during conformation test 'LIG'\n",
      "Warning: OE3DToAtomStereo is unable to perceive atom stereo from a flat geometry on atom 8 of molecule 'LIG'\n",
      "Warning: OE3DToAtomStereo had a problem during conformation test 'LIG'\n",
      "Warning: OE3DToAtomStereo is unable to perceive atom stereo from a flat geometry on atom 8 of molecule 'LIG'\n",
      "Warning: OE3DToAtomStereo had a problem during conformation test 'LIG'\n",
      "Warning: OE3DToAtomStereo is unable to perceive atom stereo from a flat geometry on atom 8 of molecule 'LIG'\n",
      "Warning: OE3DToAtomStereo had a problem during conformation test 'LIG'\n",
      "Warning: OE3DToAtomStereo is unable to perceive atom stereo from a flat geometry on atom 8 of molecule 'LIG'\n",
      "Warning: OE3DToAtomStereo had a problem during conformation test 'LIG'\n",
      "Warning: OE3DToAtomStereo is unable to perceive atom stereo from a flat geometry on atom 8 of molecule 'LIG'\n",
      "Warning: OE3DToAtomStereo had a problem during conformation test 'LIG'\n",
      "Warning: OE3DToAtomStereo is unable to perceive atom stereo from a flat geometry on atom 8 of molecule 'LIG'\n",
      "Warning: OE3DToAtomStereo had a problem during conformation test 'LIG'\n",
      "Warning: OE3DToAtomStereo is unable to perceive atom stereo from a flat geometry on atom 8 of molecule 'LIG'\n",
      "Warning: OE3DToAtomStereo had a problem during conformation test 'LIG'\n",
      "Warning: OE3DToAtomStereo is unable to perceive atom stereo from a flat geometry on atom 8 of molecule 'LIG'\n",
      "Warning: OE3DToAtomStereo had a problem during conformation test 'LIG'\n",
      "Warning: OE3DToAtomStereo is unable to perceive atom stereo from a flat geometry on atom 8 of molecule 'LIG'\n",
      "Warning: OE3DToAtomStereo had a problem during conformation test 'LIG'\n",
      "Warning: OE3DToAtomStereo is unable to perceive atom stereo from a flat geometry on atom 8 of molecule 'LIG'\n",
      "Warning: OE3DToAtomStereo had a problem during conformation test 'LIG'\n",
      "Warning: OE3DToAtomStereo is unable to perceive atom stereo from a flat geometry on atom 8 of molecule 'LIG'\n",
      "Warning: OE3DToAtomStereo had a problem during conformation test 'LIG'\n",
      "Warning: OE3DToAtomStereo is unable to perceive atom stereo from a flat geometry on atom 8 of molecule 'LIG'\n",
      "Warning: OE3DToAtomStereo had a problem during conformation test 'LIG'\n",
      "Warning: OE3DToAtomStereo is unable to perceive atom stereo from a flat geometry on atom 8 of molecule 'LIG'\n",
      "Warning: OE3DToAtomStereo had a problem during conformation test 'LIG'\n",
      "Warning: OE3DToAtomStereo is unable to perceive atom stereo from a flat geometry on atom 8 of molecule 'LIG'\n",
      "Warning: OE3DToAtomStereo had a problem during conformation test 'LIG'\n",
      "Warning: OE3DToAtomStereo is unable to perceive atom stereo from a flat geometry on atom 8 of molecule 'LIG'\n",
      "Warning: OE3DToAtomStereo had a problem during conformation test 'LIG'\n",
      "Warning: OE3DToAtomStereo is unable to perceive atom stereo from a flat geometry on atom 8 of molecule 'LIG'\n",
      "Warning: OE3DToAtomStereo had a problem during conformation test 'LIG'\n",
      "Warning: OE3DToAtomStereo is unable to perceive atom stereo from a flat geometry on atom 8 of molecule 'LIG'\n",
      "Warning: OE3DToAtomStereo had a problem during conformation test 'LIG'\n",
      "Warning: OE3DToAtomStereo is unable to perceive atom stereo from a flat geometry on atom 8 of molecule 'LIG'\n",
      "Warning: OE3DToAtomStereo had a problem during conformation test 'LIG'\n",
      "Warning: OE3DToAtomStereo is unable to perceive atom stereo from a flat geometry on atom 8 of molecule 'LIG'\n",
      "Warning: OE3DToAtomStereo had a problem during conformation test 'LIG'\n",
      "Warning: OE3DToAtomStereo is unable to perceive atom stereo from a flat geometry on atom 8 of molecule 'LIG'\n",
      "Warning: OE3DToAtomStereo had a problem during conformation test 'LIG'\n",
      "Warning: OE3DToAtomStereo is unable to perceive atom stereo from a flat geometry on atom 8 of molecule 'LIG'\n",
      "Warning: OE3DToAtomStereo had a problem during conformation test 'LIG'\n",
      "Warning: OE3DToAtomStereo is unable to perceive atom stereo from a flat geometry on atom 8 of molecule 'LIG'\n",
      "Warning: OE3DToAtomStereo had a problem during conformation test 'LIG'\n",
      "Warning: OE3DToAtomStereo is unable to perceive atom stereo from a flat geometry on atom 8 of molecule 'LIG'\n",
      "Warning: OE3DToAtomStereo had a problem during conformation test 'LIG'\n",
      "Warning: OE3DToAtomStereo is unable to perceive atom stereo from a flat geometry on atom 8 of molecule 'LIG'\n",
      "Warning: OE3DToAtomStereo had a problem during conformation test 'LIG'\n",
      "Warning: OE3DToAtomStereo is unable to perceive atom stereo from a flat geometry on atom 8 of molecule 'LIG'\n",
      "Warning: OE3DToAtomStereo had a problem during conformation test 'LIG'\n",
      "Warning: OE3DToAtomStereo is unable to perceive atom stereo from a flat geometry on atom 8 of molecule 'LIG'\n",
      "Warning: OE3DToAtomStereo had a problem during conformation test 'LIG'\n",
      "Warning: OE3DToAtomStereo is unable to perceive atom stereo from a flat geometry on atom 8 of molecule 'LIG'\n",
      "Warning: OE3DToAtomStereo had a problem during conformation test 'LIG'\n",
      "Warning: OE3DToAtomStereo is unable to perceive atom stereo from a flat geometry on atom 8 of molecule 'LIG'\n",
      "Warning: OE3DToAtomStereo had a problem during conformation test 'LIG'\n",
      "Warning: OE3DToAtomStereo is unable to perceive atom stereo from a flat geometry on atom 8 of molecule 'LIG'\n",
      "Warning: OE3DToAtomStereo had a problem during conformation test 'LIG'\n",
      "Warning: OE3DToAtomStereo is unable to perceive atom stereo from a flat geometry on atom 8 of molecule 'LIG'\n",
      "Warning: OE3DToAtomStereo had a problem during conformation test 'LIG'\n",
      "Warning: OE3DToAtomStereo is unable to perceive atom stereo from a flat geometry on atom 8 of molecule 'LIG'\n",
      "Warning: OE3DToAtomStereo had a problem during conformation test 'LIG'\n",
      "Warning: OE3DToAtomStereo is unable to perceive atom stereo from a flat geometry on atom 8 of molecule 'LIG'\n",
      "Warning: OE3DToAtomStereo had a problem during conformation test 'LIG'\n",
      "Warning: OE3DToAtomStereo is unable to perceive atom stereo from a flat geometry on atom 8 of molecule 'LIG'\n",
      "Warning: OE3DToAtomStereo had a problem during conformation test 'LIG'\n",
      "Warning: OE3DToAtomStereo is unable to perceive atom stereo from a flat geometry on atom 8 of molecule 'LIG'\n",
      "Warning: OE3DToAtomStereo had a problem during conformation test 'LIG'\n",
      "Warning: OE3DToAtomStereo is unable to perceive atom stereo from a flat geometry on atom 8 of molecule 'LIG'\n",
      "Warning: OE3DToAtomStereo had a problem during conformation test 'LIG'\n",
      "Warning: OE3DToAtomStereo is unable to perceive atom stereo from a flat geometry on atom 8 of molecule 'LIG'\n",
      "Warning: OE3DToAtomStereo had a problem during conformation test 'LIG'\n",
      "Warning: OE3DToAtomStereo is unable to perceive atom stereo from a flat geometry on atom 8 of molecule 'LIG'\n",
      "Warning: OE3DToAtomStereo had a problem during conformation test 'LIG'\n",
      "Warning: OE3DToAtomStereo is unable to perceive atom stereo from a flat geometry on atom 8 of molecule 'LIG'\n",
      "Warning: OE3DToAtomStereo had a problem during conformation test 'LIG'\n",
      "Warning: OE3DToAtomStereo is unable to perceive atom stereo from a flat geometry on atom 8 of molecule 'LIG'\n",
      "Warning: OE3DToAtomStereo had a problem during conformation test 'LIG'\n",
      "Warning: OE3DToAtomStereo is unable to perceive atom stereo from a flat geometry on atom 8 of molecule 'LIG'\n",
      "Warning: OE3DToAtomStereo had a problem during conformation test 'LIG'\n",
      "Warning: OE3DToAtomStereo is unable to perceive atom stereo from a flat geometry on atom 8 of molecule 'LIG'\n",
      "Warning: OE3DToAtomStereo had a problem during conformation test 'LIG'\n",
      "Warning: OE3DToAtomStereo is unable to perceive atom stereo from a flat geometry on atom 8 of molecule 'LIG'\n",
      "Warning: OE3DToAtomStereo had a problem during conformation test 'LIG'\n",
      "Warning: OE3DToAtomStereo is unable to perceive atom stereo from a flat geometry on atom 8 of molecule 'LIG'\n",
      "Warning: OE3DToAtomStereo had a problem during conformation test 'LIG'\n",
      "Warning: OE3DToAtomStereo is unable to perceive atom stereo from a flat geometry on atom 8 of molecule 'LIG'\n",
      "Warning: OE3DToAtomStereo had a problem during conformation test 'LIG'\n",
      "Warning: OE3DToAtomStereo is unable to perceive atom stereo from a flat geometry on atom 8 of molecule 'LIG'\n",
      "Warning: OE3DToAtomStereo had a problem during conformation test 'LIG'\n",
      "Warning: OE3DToAtomStereo is unable to perceive atom stereo from a flat geometry on atom 8 of molecule 'LIG'\n",
      "Warning: OE3DToAtomStereo had a problem during conformation test 'LIG'\n",
      "Warning: OE3DToAtomStereo is unable to perceive atom stereo from a flat geometry on atom 8 of molecule 'LIG'\n",
      "Warning: OE3DToAtomStereo had a problem during conformation test 'LIG'\n",
      "Warning: OE3DToAtomStereo is unable to perceive atom stereo from a flat geometry on atom 8 of molecule 'LIG'\n",
      "Warning: OE3DToAtomStereo had a problem during conformation test 'LIG'\n",
      "Warning: OE3DToAtomStereo is unable to perceive atom stereo from a flat geometry on atom 8 of molecule 'LIG'\n",
      "Warning: OE3DToAtomStereo had a problem during conformation test 'LIG'\n",
      "Warning: OE3DToAtomStereo is unable to perceive atom stereo from a flat geometry on atom 8 of molecule 'LIG'\n",
      "Warning: OE3DToAtomStereo had a problem during conformation test 'LIG'\n",
      "Warning: OE3DToAtomStereo is unable to perceive atom stereo from a flat geometry on atom 8 of molecule 'LIG'\n",
      "Warning: OE3DToAtomStereo had a problem during conformation test 'LIG'\n",
      "Warning: OE3DToAtomStereo is unable to perceive atom stereo from a flat geometry on atom 8 of molecule 'LIG'\n",
      "Warning: OE3DToAtomStereo had a problem during conformation test 'LIG'\n",
      "Warning: OE3DToAtomStereo is unable to perceive atom stereo from a flat geometry on atom 8 of molecule 'LIG'\n",
      "Warning: OE3DToAtomStereo had a problem during conformation test 'LIG'\n",
      "Warning: OE3DToAtomStereo is unable to perceive atom stereo from a flat geometry on atom 8 of molecule 'LIG'\n",
      "Warning: OE3DToAtomStereo had a problem during conformation test 'LIG'\n",
      "Warning: OE3DToAtomStereo is unable to perceive atom stereo from a flat geometry on atom 8 of molecule 'LIG'\n",
      "Warning: OE3DToAtomStereo had a problem during conformation test 'LIG'\n",
      "Warning: OE3DToAtomStereo is unable to perceive atom stereo from a flat geometry on atom 8 of molecule 'LIG'\n",
      "Warning: OE3DToAtomStereo had a problem during conformation test 'LIG'\n",
      "Warning: OE3DToAtomStereo is unable to perceive atom stereo from a flat geometry on atom 8 of molecule 'LIG'\n",
      "Warning: OE3DToAtomStereo had a problem during conformation test 'LIG'\n",
      "Warning: OE3DToAtomStereo is unable to perceive atom stereo from a flat geometry on atom 8 of molecule 'LIG'\n",
      "Warning: OE3DToAtomStereo had a problem during conformation test 'LIG'\n",
      "Warning: OE3DToAtomStereo is unable to perceive atom stereo from a flat geometry on atom 8 of molecule 'LIG'\n",
      "Warning: OE3DToAtomStereo had a problem during conformation test 'LIG'\n",
      "Warning: OE3DToAtomStereo is unable to perceive atom stereo from a flat geometry on atom 8 of molecule 'LIG'\n",
      "Warning: OE3DToAtomStereo had a problem during conformation test 'LIG'\n",
      "Warning: OE3DToAtomStereo is unable to perceive atom stereo from a flat geometry on atom 8 of molecule 'LIG'\n",
      "Warning: OE3DToAtomStereo had a problem during conformation test 'LIG'\n",
      "Warning: OE3DToAtomStereo is unable to perceive atom stereo from a flat geometry on atom 8 of molecule 'LIG'\n",
      "Warning: OE3DToAtomStereo had a problem during conformation test 'LIG'\n",
      "Warning: OE3DToAtomStereo is unable to perceive atom stereo from a flat geometry on atom 8 of molecule 'LIG'\n",
      "Warning: OE3DToAtomStereo had a problem during conformation test 'LIG'\n",
      "Warning: OE3DToAtomStereo is unable to perceive atom stereo from a flat geometry on atom 8 of molecule 'LIG'\n",
      "Warning: OE3DToAtomStereo had a problem during conformation test 'LIG'\n",
      "Warning: OE3DToAtomStereo is unable to perceive atom stereo from a flat geometry on atom 8 of molecule 'LIG'\n",
      "Warning: OE3DToAtomStereo had a problem during conformation test 'LIG'\n",
      "Warning: OE3DToAtomStereo is unable to perceive atom stereo from a flat geometry on atom 8 of molecule 'LIG'\n",
      "Warning: OE3DToAtomStereo had a problem during conformation test 'LIG'\n",
      "Warning: OE3DToAtomStereo is unable to perceive atom stereo from a flat geometry on atom 8 of molecule 'LIG'\n",
      "Warning: OE3DToAtomStereo had a problem during conformation test 'LIG'\n",
      "Warning: OE3DToAtomStereo is unable to perceive atom stereo from a flat geometry on atom 8 of molecule 'LIG'\n",
      "Warning: OE3DToAtomStereo had a problem during conformation test 'LIG'\n",
      "Warning: OE3DToAtomStereo is unable to perceive atom stereo from a flat geometry on atom 8 of molecule 'LIG'\n",
      "Warning: OE3DToAtomStereo had a problem during conformation test 'LIG'\n",
      "Warning: OE3DToAtomStereo is unable to perceive atom stereo from a flat geometry on atom 8 of molecule 'LIG'\n",
      "Warning: OE3DToAtomStereo had a problem during conformation test 'LIG'\n",
      "Warning: OE3DToAtomStereo is unable to perceive atom stereo from a flat geometry on atom 8 of molecule 'LIG'\n",
      "Warning: OE3DToAtomStereo had a problem during conformation test 'LIG'\n",
      "Warning: OE3DToAtomStereo is unable to perceive atom stereo from a flat geometry on atom 8 of molecule 'LIG'\n",
      "Warning: OE3DToAtomStereo had a problem during conformation test 'LIG'\n",
      "Warning: OE3DToAtomStereo is unable to perceive atom stereo from a flat geometry on atom 8 of molecule 'LIG'\n",
      "Warning: OE3DToAtomStereo had a problem during conformation test 'LIG'\n",
      "Warning: OE3DToAtomStereo is unable to perceive atom stereo from a flat geometry on atom 8 of molecule 'LIG'\n",
      "Warning: OE3DToAtomStereo had a problem during conformation test 'LIG'\n",
      "Warning: OE3DToAtomStereo is unable to perceive atom stereo from a flat geometry on atom 8 of molecule 'LIG'\n",
      "Warning: OE3DToAtomStereo had a problem during conformation test 'LIG'\n",
      "Warning: OE3DToAtomStereo is unable to perceive atom stereo from a flat geometry on atom 8 of molecule 'LIG'\n",
      "Warning: OE3DToAtomStereo had a problem during conformation test 'LIG'\n",
      "Warning: OE3DToAtomStereo is unable to perceive atom stereo from a flat geometry on atom 8 of molecule 'LIG'\n",
      "Warning: OE3DToAtomStereo had a problem during conformation test 'LIG'\n",
      "Warning: OE3DToAtomStereo is unable to perceive atom stereo from a flat geometry on atom 8 of molecule 'LIG'\n",
      "Warning: OE3DToAtomStereo had a problem during conformation test 'LIG'\n",
      "Warning: OE3DToAtomStereo is unable to perceive atom stereo from a flat geometry on atom 8 of molecule 'LIG'\n",
      "Warning: OE3DToAtomStereo had a problem during conformation test 'LIG'\n",
      "Warning: OE3DToAtomStereo is unable to perceive atom stereo from a flat geometry on atom 8 of molecule 'LIG'\n",
      "Warning: OE3DToAtomStereo had a problem during conformation test 'LIG'\n",
      "Warning: OE3DToAtomStereo is unable to perceive atom stereo from a flat geometry on atom 8 of molecule 'LIG'\n",
      "Warning: OE3DToAtomStereo had a problem during conformation test 'LIG'\n",
      "Warning: OE3DToAtomStereo is unable to perceive atom stereo from a flat geometry on atom 8 of molecule 'LIG'\n",
      "Warning: OE3DToAtomStereo had a problem during conformation test 'LIG'\n",
      "Warning: OE3DToAtomStereo is unable to perceive atom stereo from a flat geometry on atom 8 of molecule 'LIG'\n",
      "Warning: OE3DToAtomStereo had a problem during conformation test 'LIG'\n",
      "Warning: OE3DToAtomStereo is unable to perceive atom stereo from a flat geometry on atom 8 of molecule 'LIG'\n",
      "Warning: OE3DToAtomStereo had a problem during conformation test 'LIG'\n",
      "Warning: OE3DToAtomStereo is unable to perceive atom stereo from a flat geometry on atom 8 of molecule 'LIG'\n",
      "Warning: OE3DToAtomStereo had a problem during conformation test 'LIG'\n",
      "Warning: OE3DToAtomStereo is unable to perceive atom stereo from a flat geometry on atom 8 of molecule 'LIG'\n",
      "Warning: OE3DToAtomStereo had a problem during conformation test 'LIG'\n",
      "Warning: OE3DToAtomStereo is unable to perceive atom stereo from a flat geometry on atom 8 of molecule 'LIG'\n",
      "Warning: OE3DToAtomStereo had a problem during conformation test 'LIG'\n",
      "Warning: OE3DToAtomStereo is unable to perceive atom stereo from a flat geometry on atom 8 of molecule 'LIG'\n",
      "Warning: OE3DToAtomStereo had a problem during conformation test 'LIG'\n",
      "Warning: OE3DToAtomStereo is unable to perceive atom stereo from a flat geometry on atom 8 of molecule 'LIG'\n",
      "Warning: OE3DToAtomStereo had a problem during conformation test 'LIG'\n",
      "Warning: OE3DToAtomStereo is unable to perceive atom stereo from a flat geometry on atom 8 of molecule 'LIG'\n",
      "Warning: OE3DToAtomStereo had a problem during conformation test 'LIG'\n",
      "Warning: OE3DToAtomStereo is unable to perceive atom stereo from a flat geometry on atom 8 of molecule 'LIG'\n",
      "Warning: OE3DToAtomStereo had a problem during conformation test 'LIG'\n",
      "Warning: OE3DToAtomStereo is unable to perceive atom stereo from a flat geometry on atom 8 of molecule 'LIG'\n",
      "Warning: OE3DToAtomStereo had a problem during conformation test 'LIG'\n",
      "Warning: OE3DToAtomStereo is unable to perceive atom stereo from a flat geometry on atom 8 of molecule 'LIG'\n",
      "Warning: OE3DToAtomStereo had a problem during conformation test 'LIG'\n",
      "Warning: OE3DToAtomStereo is unable to perceive atom stereo from a flat geometry on atom 8 of molecule 'LIG'\n",
      "Warning: OE3DToAtomStereo had a problem during conformation test 'LIG'\n",
      "Warning: OE3DToAtomStereo is unable to perceive atom stereo from a flat geometry on atom 8 of molecule 'LIG'\n",
      "Warning: OE3DToAtomStereo had a problem during conformation test 'LIG'\n",
      "Warning: OE3DToAtomStereo is unable to perceive atom stereo from a flat geometry on atom 8 of molecule 'LIG'\n",
      "Warning: OE3DToAtomStereo had a problem during conformation test 'LIG'\n",
      "Warning: OE3DToAtomStereo is unable to perceive atom stereo from a flat geometry on atom 8 of molecule 'LIG'\n",
      "Warning: OE3DToAtomStereo had a problem during conformation test 'LIG'\n",
      "Warning: OE3DToAtomStereo is unable to perceive atom stereo from a flat geometry on atom 8 of molecule 'LIG'\n",
      "Warning: OE3DToAtomStereo had a problem during conformation test 'LIG'\n",
      "Warning: OE3DToAtomStereo is unable to perceive atom stereo from a flat geometry on atom 8 of molecule 'LIG'\n",
      "Warning: OE3DToAtomStereo had a problem during conformation test 'LIG'\n",
      "Warning: OE3DToAtomStereo is unable to perceive atom stereo from a flat geometry on atom 8 of molecule 'LIG'\n",
      "Warning: OE3DToAtomStereo had a problem during conformation test 'LIG'\n",
      "Warning: OE3DToAtomStereo is unable to perceive atom stereo from a flat geometry on atom 8 of molecule 'LIG'\n",
      "Warning: OE3DToAtomStereo had a problem during conformation test 'LIG'\n",
      "Warning: OE3DToAtomStereo is unable to perceive atom stereo from a flat geometry on atom 8 of molecule 'LIG'\n",
      "Warning: OE3DToAtomStereo had a problem during conformation test 'LIG'\n",
      "Warning: OE3DToAtomStereo is unable to perceive atom stereo from a flat geometry on atom 8 of molecule 'LIG'\n",
      "Warning: OE3DToAtomStereo had a problem during conformation test 'LIG'\n",
      "Warning: OE3DToAtomStereo is unable to perceive atom stereo from a flat geometry on atom 8 of molecule 'LIG'\n",
      "Warning: OE3DToAtomStereo had a problem during conformation test 'LIG'\n",
      "Warning: OE3DToAtomStereo is unable to perceive atom stereo from a flat geometry on atom 8 of molecule 'LIG'\n",
      "Warning: OE3DToAtomStereo had a problem during conformation test 'LIG'\n",
      "Warning: OE3DToAtomStereo is unable to perceive atom stereo from a flat geometry on atom 8 of molecule 'LIG'\n",
      "Warning: OE3DToAtomStereo had a problem during conformation test 'LIG'\n",
      "Warning: OE3DToAtomStereo is unable to perceive atom stereo from a flat geometry on atom 8 of molecule 'LIG'\n",
      "Warning: OE3DToAtomStereo had a problem during conformation test 'LIG'\n",
      "Warning: OE3DToAtomStereo is unable to perceive atom stereo from a flat geometry on atom 8 of molecule 'LIG'\n",
      "Warning: OE3DToAtomStereo had a problem during conformation test 'LIG'\n",
      "Warning: OE3DToAtomStereo is unable to perceive atom stereo from a flat geometry on atom 8 of molecule 'LIG'\n",
      "Warning: OE3DToAtomStereo had a problem during conformation test 'LIG'\n",
      "Warning: OE3DToAtomStereo is unable to perceive atom stereo from a flat geometry on atom 8 of molecule 'LIG'\n",
      "Warning: OE3DToAtomStereo had a problem during conformation test 'LIG'\n",
      "Warning: OE3DToAtomStereo is unable to perceive atom stereo from a flat geometry on atom 8 of molecule 'LIG'\n",
      "Warning: OE3DToAtomStereo had a problem during conformation test 'LIG'\n",
      "Warning: OE3DToAtomStereo is unable to perceive atom stereo from a flat geometry on atom 8 of molecule 'LIG'\n",
      "Warning: OE3DToAtomStereo had a problem during conformation test 'LIG'\n",
      "Warning: OE3DToAtomStereo is unable to perceive atom stereo from a flat geometry on atom 8 of molecule 'LIG'\n",
      "Warning: OE3DToAtomStereo had a problem during conformation test 'LIG'\n",
      "Warning: OE3DToAtomStereo is unable to perceive atom stereo from a flat geometry on atom 8 of molecule 'LIG'\n",
      "Warning: OE3DToAtomStereo had a problem during conformation test 'LIG'\n",
      "Warning: OE3DToAtomStereo is unable to perceive atom stereo from a flat geometry on atom 8 of molecule 'LIG'\n",
      "Warning: OE3DToAtomStereo had a problem during conformation test 'LIG'\n",
      "Warning: OE3DToAtomStereo is unable to perceive atom stereo from a flat geometry on atom 8 of molecule 'LIG'\n",
      "Warning: OE3DToAtomStereo had a problem during conformation test 'LIG'\n",
      "Warning: OE3DToAtomStereo is unable to perceive atom stereo from a flat geometry on atom 8 of molecule 'LIG'\n",
      "Warning: OE3DToAtomStereo had a problem during conformation test 'LIG'\n",
      "Warning: OE3DToAtomStereo is unable to perceive atom stereo from a flat geometry on atom 8 of molecule 'LIG'\n",
      "Warning: OE3DToAtomStereo had a problem during conformation test 'LIG'\n",
      "Warning: OE3DToAtomStereo is unable to perceive atom stereo from a flat geometry on atom 8 of molecule 'LIG'\n",
      "Warning: OE3DToAtomStereo had a problem during conformation test 'LIG'\n",
      "Warning: OE3DToAtomStereo is unable to perceive atom stereo from a flat geometry on atom 8 of molecule 'LIG'\n",
      "Warning: OE3DToAtomStereo had a problem during conformation test 'LIG'\n",
      "Warning: OE3DToAtomStereo is unable to perceive atom stereo from a flat geometry on atom 8 of molecule 'LIG'\n",
      "Warning: OE3DToAtomStereo had a problem during conformation test 'LIG'\n",
      "Warning: OE3DToAtomStereo is unable to perceive atom stereo from a flat geometry on atom 8 of molecule 'LIG'\n",
      "Warning: OE3DToAtomStereo had a problem during conformation test 'LIG'\n",
      "Warning: OE3DToAtomStereo is unable to perceive atom stereo from a flat geometry on atom 8 of molecule 'LIG'\n",
      "Warning: OE3DToAtomStereo had a problem during conformation test 'LIG'\n",
      "Warning: OE3DToAtomStereo is unable to perceive atom stereo from a flat geometry on atom 8 of molecule 'LIG'\n",
      "Warning: OE3DToAtomStereo had a problem during conformation test 'LIG'\n",
      "Warning: OE3DToAtomStereo is unable to perceive atom stereo from a flat geometry on atom 8 of molecule 'LIG'\n",
      "Warning: OE3DToAtomStereo had a problem during conformation test 'LIG'\n",
      "Warning: OE3DToAtomStereo is unable to perceive atom stereo from a flat geometry on atom 8 of molecule 'LIG'\n",
      "Warning: OE3DToAtomStereo had a problem during conformation test 'LIG'\n",
      "Warning: OE3DToAtomStereo is unable to perceive atom stereo from a flat geometry on atom 8 of molecule 'LIG'\n",
      "Warning: OE3DToAtomStereo had a problem during conformation test 'LIG'\n",
      "Warning: OE3DToAtomStereo is unable to perceive atom stereo from a flat geometry on atom 8 of molecule 'LIG'\n",
      "Warning: OE3DToAtomStereo had a problem during conformation test 'LIG'\n",
      "Warning: OE3DToAtomStereo is unable to perceive atom stereo from a flat geometry on atom 8 of molecule 'LIG'\n",
      "Warning: OE3DToAtomStereo had a problem during conformation test 'LIG'\n",
      "Warning: OE3DToAtomStereo is unable to perceive atom stereo from a flat geometry on atom 8 of molecule 'LIG'\n",
      "Warning: OE3DToAtomStereo had a problem during conformation test 'LIG'\n",
      "Warning: OE3DToAtomStereo is unable to perceive atom stereo from a flat geometry on atom 8 of molecule 'LIG'\n",
      "Warning: OE3DToAtomStereo had a problem during conformation test 'LIG'\n",
      "Warning: OE3DToAtomStereo is unable to perceive atom stereo from a flat geometry on atom 8 of molecule 'LIG'\n",
      "Warning: OE3DToAtomStereo had a problem during conformation test 'LIG'\n",
      "Warning: OE3DToAtomStereo is unable to perceive atom stereo from a flat geometry on atom 8 of molecule 'LIG'\n",
      "Warning: OE3DToAtomStereo had a problem during conformation test 'LIG'\n",
      "Warning: OE3DToAtomStereo is unable to perceive atom stereo from a flat geometry on atom 8 of molecule 'LIG'\n",
      "Warning: OE3DToAtomStereo had a problem during conformation test 'LIG'\n",
      "Warning: OE3DToAtomStereo is unable to perceive atom stereo from a flat geometry on atom 8 of molecule 'LIG'\n",
      "Warning: OE3DToAtomStereo had a problem during conformation test 'LIG'\n",
      "Warning: OE3DToAtomStereo is unable to perceive atom stereo from a flat geometry on atom 8 of molecule 'LIG'\n",
      "Warning: OE3DToAtomStereo had a problem during conformation test 'LIG'\n",
      "Warning: OE3DToAtomStereo is unable to perceive atom stereo from a flat geometry on atom 8 of molecule 'LIG'\n",
      "Warning: OE3DToAtomStereo had a problem during conformation test 'LIG'\n",
      "Warning: OE3DToAtomStereo is unable to perceive atom stereo from a flat geometry on atom 8 of molecule 'LIG'\n",
      "Warning: OE3DToAtomStereo had a problem during conformation test 'LIG'\n",
      "Warning: OE3DToAtomStereo is unable to perceive atom stereo from a flat geometry on atom 8 of molecule 'LIG'\n",
      "Warning: OE3DToAtomStereo had a problem during conformation test 'LIG'\n",
      "Warning: OE3DToAtomStereo is unable to perceive atom stereo from a flat geometry on atom 8 of molecule 'LIG'\n",
      "Warning: OE3DToAtomStereo had a problem during conformation test 'LIG'\n",
      "Warning: OE3DToAtomStereo is unable to perceive atom stereo from a flat geometry on atom 8 of molecule 'LIG'\n",
      "Warning: OE3DToAtomStereo had a problem during conformation test 'LIG'\n",
      "Warning: OE3DToAtomStereo is unable to perceive atom stereo from a flat geometry on atom 8 of molecule 'LIG'\n",
      "Warning: OE3DToAtomStereo had a problem during conformation test 'LIG'\n",
      "Warning: OE3DToAtomStereo is unable to perceive atom stereo from a flat geometry on atom 8 of molecule 'LIG'\n",
      "Warning: OE3DToAtomStereo had a problem during conformation test 'LIG'\n",
      "Warning: OE3DToAtomStereo is unable to perceive atom stereo from a flat geometry on atom 8 of molecule 'LIG'\n",
      "Warning: OE3DToAtomStereo had a problem during conformation test 'LIG'\n",
      "Warning: OE3DToAtomStereo is unable to perceive atom stereo from a flat geometry on atom 8 of molecule 'LIG'\n",
      "Warning: OE3DToAtomStereo had a problem during conformation test 'LIG'\n",
      "Warning: OE3DToAtomStereo is unable to perceive atom stereo from a flat geometry on atom 8 of molecule 'LIG'\n",
      "Warning: OE3DToAtomStereo had a problem during conformation test 'LIG'\n",
      "Warning: OE3DToAtomStereo is unable to perceive atom stereo from a flat geometry on atom 8 of molecule 'LIG'\n",
      "Warning: OE3DToAtomStereo had a problem during conformation test 'LIG'\n",
      "Warning: OE3DToAtomStereo is unable to perceive atom stereo from a flat geometry on atom 8 of molecule 'LIG'\n",
      "Warning: OE3DToAtomStereo had a problem during conformation test 'LIG'\n",
      "Warning: OE3DToAtomStereo is unable to perceive atom stereo from a flat geometry on atom 8 of molecule 'LIG'\n",
      "Warning: OE3DToAtomStereo had a problem during conformation test 'LIG'\n",
      "Warning: OE3DToAtomStereo is unable to perceive atom stereo from a flat geometry on atom 8 of molecule 'LIG'\n",
      "Warning: OE3DToAtomStereo had a problem during conformation test 'LIG'\n",
      "Warning: OE3DToAtomStereo is unable to perceive atom stereo from a flat geometry on atom 8 of molecule 'LIG'\n",
      "Warning: OE3DToAtomStereo had a problem during conformation test 'LIG'\n",
      "Warning: OE3DToAtomStereo is unable to perceive atom stereo from a flat geometry on atom 8 of molecule 'LIG'\n",
      "Warning: OE3DToAtomStereo had a problem during conformation test 'LIG'\n",
      "Warning: OE3DToAtomStereo is unable to perceive atom stereo from a flat geometry on atom 8 of molecule 'LIG'\n",
      "Warning: OE3DToAtomStereo had a problem during conformation test 'LIG'\n",
      "Warning: OE3DToAtomStereo is unable to perceive atom stereo from a flat geometry on atom 8 of molecule 'LIG'\n",
      "Warning: OE3DToAtomStereo had a problem during conformation test 'LIG'\n",
      "Warning: OE3DToAtomStereo is unable to perceive atom stereo from a flat geometry on atom 8 of molecule 'LIG'\n",
      "Warning: OE3DToAtomStereo had a problem during conformation test 'LIG'\n",
      "Warning: OE3DToAtomStereo is unable to perceive atom stereo from a flat geometry on atom 8 of molecule 'LIG'\n",
      "Warning: OE3DToAtomStereo had a problem during conformation test 'LIG'\n",
      "Warning: OE3DToAtomStereo is unable to perceive atom stereo from a flat geometry on atom 8 of molecule 'LIG'\n",
      "Warning: OE3DToAtomStereo had a problem during conformation test 'LIG'\n",
      "Warning: OE3DToAtomStereo is unable to perceive atom stereo from a flat geometry on atom 8 of molecule 'LIG'\n",
      "Warning: OE3DToAtomStereo had a problem during conformation test 'LIG'\n",
      "Warning: OE3DToAtomStereo is unable to perceive atom stereo from a flat geometry on atom 8 of molecule 'LIG'\n",
      "Warning: OE3DToAtomStereo had a problem during conformation test 'LIG'\n",
      "Warning: OE3DToAtomStereo is unable to perceive atom stereo from a flat geometry on atom 8 of molecule 'LIG'\n",
      "Warning: OE3DToAtomStereo had a problem during conformation test 'LIG'\n",
      "Warning: OE3DToAtomStereo is unable to perceive atom stereo from a flat geometry on atom 8 of molecule 'LIG'\n",
      "Warning: OE3DToAtomStereo had a problem during conformation test 'LIG'\n",
      "Warning: OE3DToAtomStereo is unable to perceive atom stereo from a flat geometry on atom 8 of molecule 'LIG'\n",
      "Warning: OE3DToAtomStereo had a problem during conformation test 'LIG'\n",
      "Warning: OE3DToAtomStereo is unable to perceive atom stereo from a flat geometry on atom 8 of molecule 'LIG'\n",
      "Warning: OE3DToAtomStereo had a problem during conformation test 'LIG'\n",
      "Warning: OE3DToAtomStereo is unable to perceive atom stereo from a flat geometry on atom 8 of molecule 'LIG'\n",
      "Warning: OE3DToAtomStereo had a problem during conformation test 'LIG'\n",
      "Warning: OE3DToAtomStereo is unable to perceive atom stereo from a flat geometry on atom 8 of molecule 'LIG'\n",
      "Warning: OE3DToAtomStereo had a problem during conformation test 'LIG'\n",
      "Warning: OE3DToAtomStereo is unable to perceive atom stereo from a flat geometry on atom 8 of molecule 'LIG'\n",
      "Warning: OE3DToAtomStereo had a problem during conformation test 'LIG'\n",
      "Warning: OE3DToAtomStereo is unable to perceive atom stereo from a flat geometry on atom 8 of molecule 'LIG'\n",
      "Warning: OE3DToAtomStereo had a problem during conformation test 'LIG'\n",
      "Warning: OE3DToAtomStereo is unable to perceive atom stereo from a flat geometry on atom 8 of molecule 'LIG'\n",
      "Warning: OE3DToAtomStereo had a problem during conformation test 'LIG'\n",
      "Warning: OE3DToAtomStereo is unable to perceive atom stereo from a flat geometry on atom 8 of molecule 'LIG'\n",
      "Warning: OE3DToAtomStereo had a problem during conformation test 'LIG'\n",
      "Warning: OE3DToAtomStereo is unable to perceive atom stereo from a flat geometry on atom 8 of molecule 'LIG'\n",
      "Warning: OE3DToAtomStereo had a problem during conformation test 'LIG'\n",
      "Warning: OE3DToAtomStereo is unable to perceive atom stereo from a flat geometry on atom 8 of molecule 'LIG'\n",
      "Warning: OE3DToAtomStereo had a problem during conformation test 'LIG'\n",
      "Warning: OE3DToAtomStereo is unable to perceive atom stereo from a flat geometry on atom 8 of molecule 'LIG'\n",
      "Warning: OE3DToAtomStereo had a problem during conformation test 'LIG'\n",
      "Warning: OE3DToAtomStereo is unable to perceive atom stereo from a flat geometry on atom 8 of molecule 'LIG'\n",
      "Warning: OE3DToAtomStereo had a problem during conformation test 'LIG'\n",
      "Warning: OE3DToAtomStereo is unable to perceive atom stereo from a flat geometry on atom 8 of molecule 'LIG'\n",
      "Warning: OE3DToAtomStereo had a problem during conformation test 'LIG'\n",
      "Warning: OE3DToAtomStereo is unable to perceive atom stereo from a flat geometry on atom 8 of molecule 'LIG'\n",
      "Warning: OE3DToAtomStereo had a problem during conformation test 'LIG'\n",
      "Warning: OE3DToAtomStereo is unable to perceive atom stereo from a flat geometry on atom 8 of molecule 'LIG'\n",
      "Warning: OE3DToAtomStereo had a problem during conformation test 'LIG'\n",
      "Warning: OE3DToAtomStereo is unable to perceive atom stereo from a flat geometry on atom 8 of molecule 'LIG'\n",
      "Warning: OE3DToAtomStereo had a problem during conformation test 'LIG'\n",
      "Warning: OE3DToAtomStereo is unable to perceive atom stereo from a flat geometry on atom 8 of molecule 'LIG'\n",
      "Warning: OE3DToAtomStereo had a problem during conformation test 'LIG'\n",
      "Warning: OE3DToAtomStereo is unable to perceive atom stereo from a flat geometry on atom 8 of molecule 'LIG'\n",
      "Warning: OE3DToAtomStereo had a problem during conformation test 'LIG'\n",
      "Warning: OE3DToAtomStereo is unable to perceive atom stereo from a flat geometry on atom 8 of molecule 'LIG'\n",
      "Warning: OE3DToAtomStereo had a problem during conformation test 'LIG'\n",
      "Warning: OE3DToAtomStereo is unable to perceive atom stereo from a flat geometry on atom 8 of molecule 'LIG'\n",
      "Warning: OE3DToAtomStereo had a problem during conformation test 'LIG'\n",
      "Warning: OE3DToAtomStereo is unable to perceive atom stereo from a flat geometry on atom 8 of molecule 'LIG'\n",
      "Warning: OE3DToAtomStereo had a problem during conformation test 'LIG'\n",
      "Warning: OE3DToAtomStereo is unable to perceive atom stereo from a flat geometry on atom 8 of molecule 'LIG'\n",
      "Warning: OE3DToAtomStereo had a problem during conformation test 'LIG'\n",
      "Warning: OE3DToAtomStereo is unable to perceive atom stereo from a flat geometry on atom 8 of molecule 'LIG'\n",
      "Warning: OE3DToAtomStereo had a problem during conformation test 'LIG'\n",
      "Warning: OE3DToAtomStereo is unable to perceive atom stereo from a flat geometry on atom 8 of molecule 'LIG'\n",
      "Warning: OE3DToAtomStereo had a problem during conformation test 'LIG'\n",
      "Warning: OE3DToAtomStereo is unable to perceive atom stereo from a flat geometry on atom 8 of molecule 'LIG'\n",
      "Warning: OE3DToAtomStereo had a problem during conformation test 'LIG'\n",
      "Warning: OE3DToAtomStereo is unable to perceive atom stereo from a flat geometry on atom 8 of molecule 'LIG'\n",
      "Warning: OE3DToAtomStereo had a problem during conformation test 'LIG'\n",
      "Warning: OE3DToAtomStereo is unable to perceive atom stereo from a flat geometry on atom 8 of molecule 'LIG'\n",
      "Warning: OE3DToAtomStereo had a problem during conformation test 'LIG'\n",
      "Warning: OE3DToAtomStereo is unable to perceive atom stereo from a flat geometry on atom 8 of molecule 'LIG'\n",
      "Warning: OE3DToAtomStereo had a problem during conformation test 'LIG'\n",
      "Warning: OE3DToAtomStereo is unable to perceive atom stereo from a flat geometry on atom 8 of molecule 'LIG'\n",
      "Warning: OE3DToAtomStereo had a problem during conformation test 'LIG'\n",
      "Warning: OE3DToAtomStereo is unable to perceive atom stereo from a flat geometry on atom 8 of molecule 'LIG'\n",
      "Warning: OE3DToAtomStereo had a problem during conformation test 'LIG'\n",
      "Warning: OE3DToAtomStereo is unable to perceive atom stereo from a flat geometry on atom 8 of molecule 'LIG'\n",
      "Warning: OE3DToAtomStereo had a problem during conformation test 'LIG'\n",
      "Warning: OE3DToAtomStereo is unable to perceive atom stereo from a flat geometry on atom 8 of molecule 'LIG'\n",
      "Warning: OE3DToAtomStereo had a problem during conformation test 'LIG'\n",
      "Warning: OE3DToAtomStereo is unable to perceive atom stereo from a flat geometry on atom 8 of molecule 'LIG'\n",
      "Warning: OE3DToAtomStereo had a problem during conformation test 'LIG'\n",
      "Warning: OE3DToAtomStereo is unable to perceive atom stereo from a flat geometry on atom 8 of molecule 'LIG'\n",
      "Warning: OE3DToAtomStereo had a problem during conformation test 'LIG'\n",
      "Warning: OE3DToAtomStereo is unable to perceive atom stereo from a flat geometry on atom 8 of molecule 'LIG'\n",
      "Warning: OE3DToAtomStereo had a problem during conformation test 'LIG'\n",
      "Warning: OE3DToAtomStereo is unable to perceive atom stereo from a flat geometry on atom 8 of molecule 'LIG'\n",
      "Warning: OE3DToAtomStereo had a problem during conformation test 'LIG'\n",
      "Warning: OE3DToAtomStereo is unable to perceive atom stereo from a flat geometry on atom 8 of molecule 'LIG'\n",
      "Warning: OE3DToAtomStereo had a problem during conformation test 'LIG'\n",
      "Warning: OE3DToAtomStereo is unable to perceive atom stereo from a flat geometry on atom 8 of molecule 'LIG'\n",
      "Warning: OE3DToAtomStereo had a problem during conformation test 'LIG'\n",
      "Warning: OE3DToAtomStereo is unable to perceive atom stereo from a flat geometry on atom 8 of molecule 'LIG'\n",
      "Warning: OE3DToAtomStereo had a problem during conformation test 'LIG'\n",
      "Warning: OE3DToAtomStereo is unable to perceive atom stereo from a flat geometry on atom 8 of molecule 'LIG'\n",
      "Warning: OE3DToAtomStereo had a problem during conformation test 'LIG'\n",
      "Warning: OE3DToAtomStereo is unable to perceive atom stereo from a flat geometry on atom 8 of molecule 'LIG'\n",
      "Warning: OE3DToAtomStereo had a problem during conformation test 'LIG'\n",
      "Warning: OE3DToAtomStereo is unable to perceive atom stereo from a flat geometry on atom 8 of molecule 'LIG'\n",
      "Warning: OE3DToAtomStereo had a problem during conformation test 'LIG'\n",
      "Warning: OE3DToAtomStereo is unable to perceive atom stereo from a flat geometry on atom 8 of molecule 'LIG'\n",
      "Warning: OE3DToAtomStereo had a problem during conformation test 'LIG'\n",
      "Warning: OE3DToAtomStereo is unable to perceive atom stereo from a flat geometry on atom 8 of molecule 'LIG'\n",
      "Warning: OE3DToAtomStereo had a problem during conformation test 'LIG'\n",
      "Warning: OE3DToAtomStereo is unable to perceive atom stereo from a flat geometry on atom 8 of molecule 'LIG'\n",
      "Warning: OE3DToAtomStereo had a problem during conformation test 'LIG'\n",
      "Warning: OE3DToAtomStereo is unable to perceive atom stereo from a flat geometry on atom 8 of molecule 'LIG'\n",
      "Warning: OE3DToAtomStereo had a problem during conformation test 'LIG'\n",
      "Warning: OE3DToAtomStereo is unable to perceive atom stereo from a flat geometry on atom 8 of molecule 'LIG'\n",
      "Warning: OE3DToAtomStereo had a problem during conformation test 'LIG'\n",
      "Warning: OE3DToAtomStereo is unable to perceive atom stereo from a flat geometry on atom 8 of molecule 'LIG'\n",
      "Warning: OE3DToAtomStereo had a problem during conformation test 'LIG'\n",
      "Warning: OE3DToAtomStereo is unable to perceive atom stereo from a flat geometry on atom 8 of molecule 'LIG'\n",
      "Warning: OE3DToAtomStereo had a problem during conformation test 'LIG'\n",
      "Warning: OE3DToAtomStereo is unable to perceive atom stereo from a flat geometry on atom 8 of molecule 'LIG'\n",
      "Warning: OE3DToAtomStereo had a problem during conformation test 'LIG'\n",
      "Warning: OE3DToAtomStereo is unable to perceive atom stereo from a flat geometry on atom 8 of molecule 'LIG'\n",
      "Warning: OE3DToAtomStereo had a problem during conformation test 'LIG'\n",
      "Warning: OE3DToAtomStereo is unable to perceive atom stereo from a flat geometry on atom 8 of molecule 'LIG'\n",
      "Warning: OE3DToAtomStereo had a problem during conformation test 'LIG'\n",
      "Warning: OE3DToAtomStereo is unable to perceive atom stereo from a flat geometry on atom 8 of molecule 'LIG'\n",
      "Warning: OE3DToAtomStereo had a problem during conformation test 'LIG'\n",
      "Warning: OE3DToAtomStereo is unable to perceive atom stereo from a flat geometry on atom 8 of molecule 'LIG'\n",
      "Warning: OE3DToAtomStereo had a problem during conformation test 'LIG'\n",
      "Warning: OE3DToAtomStereo is unable to perceive atom stereo from a flat geometry on atom 8 of molecule 'LIG'\n",
      "Warning: OE3DToAtomStereo had a problem during conformation test 'LIG'\n",
      "Warning: OE3DToAtomStereo is unable to perceive atom stereo from a flat geometry on atom 8 of molecule 'LIG'\n",
      "Warning: OE3DToAtomStereo had a problem during conformation test 'LIG'\n",
      "Warning: OE3DToAtomStereo is unable to perceive atom stereo from a flat geometry on atom 8 of molecule 'LIG'\n",
      "Warning: OE3DToAtomStereo had a problem during conformation test 'LIG'\n",
      "Warning: OE3DToAtomStereo is unable to perceive atom stereo from a flat geometry on atom 8 of molecule 'LIG'\n",
      "Warning: OE3DToAtomStereo had a problem during conformation test 'LIG'\n",
      "Warning: OE3DToAtomStereo is unable to perceive atom stereo from a flat geometry on atom 8 of molecule 'LIG'\n",
      "Warning: OE3DToAtomStereo had a problem during conformation test 'LIG'\n",
      "Warning: OE3DToAtomStereo is unable to perceive atom stereo from a flat geometry on atom 8 of molecule 'LIG'\n",
      "Warning: OE3DToAtomStereo had a problem during conformation test 'LIG'\n",
      "Warning: OE3DToAtomStereo is unable to perceive atom stereo from a flat geometry on atom 8 of molecule 'LIG'\n",
      "Warning: OE3DToAtomStereo had a problem during conformation test 'LIG'\n",
      "Warning: OE3DToAtomStereo is unable to perceive atom stereo from a flat geometry on atom 8 of molecule 'LIG'\n",
      "Warning: OE3DToAtomStereo had a problem during conformation test 'LIG'\n",
      "Warning: OE3DToAtomStereo is unable to perceive atom stereo from a flat geometry on atom 8 of molecule 'LIG'\n",
      "Warning: OE3DToAtomStereo had a problem during conformation test 'LIG'\n",
      "Warning: OE3DToAtomStereo is unable to perceive atom stereo from a flat geometry on atom 8 of molecule 'LIG'\n",
      "Warning: OE3DToAtomStereo had a problem during conformation test 'LIG'\n",
      "Warning: OE3DToAtomStereo is unable to perceive atom stereo from a flat geometry on atom 8 of molecule 'LIG'\n",
      "Warning: OE3DToAtomStereo had a problem during conformation test 'LIG'\n",
      "Warning: OE3DToAtomStereo is unable to perceive atom stereo from a flat geometry on atom 8 of molecule 'LIG'\n",
      "Warning: OE3DToAtomStereo had a problem during conformation test 'LIG'\n",
      "Warning: OE3DToAtomStereo is unable to perceive atom stereo from a flat geometry on atom 8 of molecule 'LIG'\n",
      "Warning: OE3DToAtomStereo had a problem during conformation test 'LIG'\n",
      "Warning: OE3DToAtomStereo is unable to perceive atom stereo from a flat geometry on atom 8 of molecule 'LIG'\n",
      "Warning: OE3DToAtomStereo had a problem during conformation test 'LIG'\n",
      "Warning: OE3DToAtomStereo is unable to perceive atom stereo from a flat geometry on atom 8 of molecule 'LIG'\n",
      "Warning: OE3DToAtomStereo had a problem during conformation test 'LIG'\n",
      "Warning: OE3DToAtomStereo is unable to perceive atom stereo from a flat geometry on atom 8 of molecule 'LIG'\n",
      "Warning: OE3DToAtomStereo had a problem during conformation test 'LIG'\n",
      "Warning: OE3DToAtomStereo is unable to perceive atom stereo from a flat geometry on atom 8 of molecule 'LIG'\n",
      "Warning: OE3DToAtomStereo had a problem during conformation test 'LIG'\n",
      "Warning: OE3DToAtomStereo is unable to perceive atom stereo from a flat geometry on atom 8 of molecule 'LIG'\n",
      "Warning: OE3DToAtomStereo had a problem during conformation test 'LIG'\n",
      "Warning: OE3DToAtomStereo is unable to perceive atom stereo from a flat geometry on atom 8 of molecule 'LIG'\n",
      "Warning: OE3DToAtomStereo had a problem during conformation test 'LIG'\n",
      "Warning: OE3DToAtomStereo is unable to perceive atom stereo from a flat geometry on atom 8 of molecule 'LIG'\n",
      "Warning: OE3DToAtomStereo had a problem during conformation test 'LIG'\n",
      "Warning: OE3DToAtomStereo is unable to perceive atom stereo from a flat geometry on atom 8 of molecule 'LIG'\n",
      "Warning: OE3DToAtomStereo had a problem during conformation test 'LIG'\n",
      "Warning: OE3DToAtomStereo is unable to perceive atom stereo from a flat geometry on atom 8 of molecule 'LIG'\n",
      "Warning: OE3DToAtomStereo had a problem during conformation test 'LIG'\n",
      "Warning: OE3DToAtomStereo is unable to perceive atom stereo from a flat geometry on atom 8 of molecule 'LIG'\n",
      "Warning: OE3DToAtomStereo had a problem during conformation test 'LIG'\n",
      "Warning: OE3DToAtomStereo is unable to perceive atom stereo from a flat geometry on atom 8 of molecule 'LIG'\n",
      "Warning: OE3DToAtomStereo had a problem during conformation test 'LIG'\n",
      "Warning: OE3DToAtomStereo is unable to perceive atom stereo from a flat geometry on atom 8 of molecule 'LIG'\n",
      "Warning: OE3DToAtomStereo had a problem during conformation test 'LIG'\n",
      "Warning: OE3DToAtomStereo is unable to perceive atom stereo from a flat geometry on atom 8 of molecule 'LIG'\n",
      "Warning: OE3DToAtomStereo had a problem during conformation test 'LIG'\n",
      "Warning: OE3DToAtomStereo is unable to perceive atom stereo from a flat geometry on atom 8 of molecule 'LIG'\n",
      "Warning: OE3DToAtomStereo had a problem during conformation test 'LIG'\n",
      "Warning: OE3DToAtomStereo is unable to perceive atom stereo from a flat geometry on atom 8 of molecule 'LIG'\n",
      "Warning: OE3DToAtomStereo had a problem during conformation test 'LIG'\n",
      "Warning: OE3DToAtomStereo is unable to perceive atom stereo from a flat geometry on atom 8 of molecule 'LIG'\n",
      "Warning: OE3DToAtomStereo had a problem during conformation test 'LIG'\n",
      "Warning: OE3DToAtomStereo is unable to perceive atom stereo from a flat geometry on atom 8 of molecule 'LIG'\n",
      "Warning: OE3DToAtomStereo had a problem during conformation test 'LIG'\n"
     ]
    }
   ],
   "source": [
    "pairs = selector.select(ligands, complexes)"
   ]
  },
  {
   "cell_type": "code",
   "execution_count": 47,
   "id": "db5e918078166918",
   "metadata": {
    "ExecuteTime": {
     "end_time": "2024-04-25T18:28:15.192138Z",
     "start_time": "2024-04-25T18:28:15.186927Z"
    },
    "collapsed": false,
    "jupyter": {
     "outputs_hidden": false
    }
   },
   "outputs": [
    {
     "data": {
      "text/plain": [
       "90"
      ]
     },
     "execution_count": 47,
     "metadata": {},
     "output_type": "execute_result"
    }
   ],
   "source": [
    "len(pairs)"
   ]
  },
  {
   "cell_type": "markdown",
   "id": "23cd649995d30efd",
   "metadata": {
    "collapsed": false,
    "jupyter": {
     "outputs_hidden": false
    }
   },
   "source": [
    "## Advanced Topics: Multi-Structure Docking"
   ]
  },
  {
   "cell_type": "markdown",
   "id": "4cc3cb4d9ba92350",
   "metadata": {
    "collapsed": false,
    "jupyter": {
     "outputs_hidden": false
    }
   },
   "source": [
    "\n",
    "Some docking protocols (i.e., POSIT) will accept multiple receptor structures and choose for themselves which to dock to. For these docking protocols, we pass a different kind of input:"
   ]
  },
  {
   "cell_type": "code",
   "execution_count": 48,
   "id": "beaea6120bb0b262",
   "metadata": {
    "ExecuteTime": {
     "end_time": "2024-05-04T19:50:53.169805Z",
     "start_time": "2024-05-04T19:50:53.157809Z"
    },
    "collapsed": false,
    "jupyter": {
     "outputs_hidden": false
    }
   },
   "outputs": [],
   "source": [
    "from asapdiscovery.docking.docking import DockingInputMultiStructure\n",
    "from asapdiscovery.data.operators.selectors.selector_list import StructureSelector"
   ]
  },
  {
   "cell_type": "code",
   "execution_count": 49,
   "id": "ef5e2d307e8fe72f",
   "metadata": {
    "ExecuteTime": {
     "end_time": "2024-05-04T19:50:54.207778Z",
     "start_time": "2024-05-04T19:50:53.960165Z"
    },
    "collapsed": false,
    "jupyter": {
     "outputs_hidden": false
    }
   },
   "outputs": [],
   "source": [
    "cached_dus = {\n",
    "        \"Mpro-x1002\": \"du_cache/Mpro-x1002_0A_bound.oedu\",\n",
    "        \"Mpro-x0354\": \"du_cache/Mpro-x0354_0A_bound.oedu\",\n",
    "    }\n",
    "prepped_complexes = [\n",
    "        PreppedComplex.from_oedu_file(\n",
    "            fetch_test_file(cached_du),\n",
    "            ligand_kwargs={\"compound_name\": \"test\"},\n",
    "            target_kwargs={\"target_name\": name, \"target_hash\": \"mock_hash\"},\n",
    "        )\n",
    "        for name, cached_du in cached_dus.items()\n",
    "    ]\n",
    "ligand = Ligand.from_sdf(\n",
    "        fetch_test_file(\"Mpro-P0008_0A_ERI-UCB-ce40166b-17.sdf\"), compound_name=\"test\"\n",
    "    )"
   ]
  },
  {
   "cell_type": "markdown",
   "id": "a6bb4861bcc951e2",
   "metadata": {
    "collapsed": false,
    "jupyter": {
     "outputs_hidden": false
    }
   },
   "source": [
    "Let's assume we had gotten this subset of ligand-protein pairs from the selector logic from above. This would look something like this:"
   ]
  },
  {
   "cell_type": "code",
   "execution_count": 50,
   "id": "56ae3d56aefdd676",
   "metadata": {
    "ExecuteTime": {
     "end_time": "2024-05-04T19:50:55.204235Z",
     "start_time": "2024-05-04T19:50:54.974004Z"
    },
    "collapsed": false,
    "jupyter": {
     "outputs_hidden": false
    }
   },
   "outputs": [
    {
     "data": {
      "text/plain": [
       "2"
      ]
     },
     "execution_count": 50,
     "metadata": {},
     "output_type": "execute_result"
    }
   ],
   "source": [
    "selector = StructureSelector('LeaveSimilarOutSelector').selector_cls()\n",
    "pairs = selector.select([ligand], prepped_complexes)\n",
    "len(pairs)"
   ]
  },
  {
   "cell_type": "markdown",
   "id": "77fa7f097b8c05e7",
   "metadata": {
    "collapsed": false,
    "jupyter": {
     "outputs_hidden": false
    }
   },
   "source": [
    "We then collapse these pairs into a single MultiStructure set:"
   ]
  },
  {
   "cell_type": "code",
   "execution_count": 51,
   "id": "bc44f9a4d4e44e81",
   "metadata": {
    "ExecuteTime": {
     "end_time": "2024-05-04T19:50:56.095573Z",
     "start_time": "2024-05-04T19:50:56.091224Z"
    },
    "collapsed": false,
    "jupyter": {
     "outputs_hidden": false
    }
   },
   "outputs": [],
   "source": [
    "inputs = DockingInputMultiStructure.from_pairs(pairs) # Returns a list since multiple sets could be generated"
   ]
  },
  {
   "cell_type": "markdown",
   "id": "ef0984eb7f6d012d",
   "metadata": {
    "collapsed": false,
    "jupyter": {
     "outputs_hidden": false
    }
   },
   "source": [
    "If we already knew exactly what we wanted to do, we could just create the set directly:"
   ]
  },
  {
   "cell_type": "code",
   "execution_count": 52,
   "id": "efc3ec6333d0e4ff",
   "metadata": {
    "ExecuteTime": {
     "end_time": "2024-05-04T19:50:59.451809Z",
     "start_time": "2024-05-04T19:50:59.448893Z"
    },
    "collapsed": false,
    "jupyter": {
     "outputs_hidden": false
    }
   },
   "outputs": [],
   "source": [
    "alternate_inputs = DockingInputMultiStructure(ligand=ligand, complexes=prepped_complexes)"
   ]
  },
  {
   "cell_type": "markdown",
   "id": "c8869871f782821a",
   "metadata": {
    "collapsed": false,
    "jupyter": {
     "outputs_hidden": false
    }
   },
   "source": [
    "We can see that two are equivalent in this case:"
   ]
  },
  {
   "cell_type": "code",
   "execution_count": 53,
   "id": "fd357bd6d104d9e8",
   "metadata": {
    "ExecuteTime": {
     "end_time": "2024-05-04T19:51:00.777221Z",
     "start_time": "2024-05-04T19:51:00.773801Z"
    },
    "collapsed": false,
    "jupyter": {
     "outputs_hidden": false
    }
   },
   "outputs": [
    {
     "data": {
      "text/plain": [
       "True"
      ]
     },
     "execution_count": 53,
     "metadata": {},
     "output_type": "execute_result"
    }
   ],
   "source": [
    "inputs[0] == alternate_inputs"
   ]
  },
  {
   "cell_type": "markdown",
   "id": "7f33cffdbfb70ca9",
   "metadata": {
    "collapsed": false,
    "jupyter": {
     "outputs_hidden": false
    }
   },
   "source": [
    "Now we run docking as before:"
   ]
  },
  {
   "cell_type": "code",
   "execution_count": 54,
   "id": "e44ee5641c5cd712",
   "metadata": {
    "ExecuteTime": {
     "end_time": "2024-05-04T19:52:20.004120Z",
     "start_time": "2024-05-04T19:52:20.001363Z"
    },
    "collapsed": false,
    "jupyter": {
     "outputs_hidden": false
    }
   },
   "outputs": [],
   "source": [
    "docker = POSITDocker() # let's just use defaults for now"
   ]
  },
  {
   "cell_type": "code",
   "execution_count": 55,
   "id": "59ea45bad2128216",
   "metadata": {
    "ExecuteTime": {
     "end_time": "2024-05-04T19:55:06.632395Z",
     "start_time": "2024-05-04T19:52:20.227493Z"
    },
    "collapsed": false,
    "jupyter": {
     "outputs_hidden": false
    }
   },
   "outputs": [],
   "source": [
    "results = docker.dock(inputs) # we won't use dask or write an output, takes ~3 minutes on a Macbook Pro"
   ]
  },
  {
   "cell_type": "code",
   "execution_count": 56,
   "id": "5d432d326184dbbd",
   "metadata": {
    "ExecuteTime": {
     "end_time": "2024-05-04T19:55:06.637682Z",
     "start_time": "2024-05-04T19:55:06.634941Z"
    },
    "collapsed": false,
    "jupyter": {
     "outputs_hidden": false
    }
   },
   "outputs": [],
   "source": [
    "result = results[0]"
   ]
  },
  {
   "cell_type": "code",
   "execution_count": 57,
   "id": "ecc8cdd2eb073af",
   "metadata": {
    "ExecuteTime": {
     "end_time": "2024-05-04T19:55:06.912526Z",
     "start_time": "2024-05-04T19:55:06.639322Z"
    },
    "collapsed": false,
    "jupyter": {
     "outputs_hidden": false
    }
   },
   "outputs": [],
   "source": [
    "result.write_docking_files(\"multi_structure_docking_test\")"
   ]
  },
  {
   "cell_type": "markdown",
   "id": "73ec695e8d32f737",
   "metadata": {
    "collapsed": false,
    "jupyter": {
     "outputs_hidden": false
    }
   },
   "source": [
    "Since we input multiple structures, we don't know which one it actually used. We can find this out by examining the results:"
   ]
  },
  {
   "cell_type": "code",
   "execution_count": 58,
   "id": "9408902e9f618b23",
   "metadata": {
    "ExecuteTime": {
     "end_time": "2024-05-04T19:55:06.918502Z",
     "start_time": "2024-05-04T19:55:06.915271Z"
    },
    "collapsed": false,
    "jupyter": {
     "outputs_hidden": false
    }
   },
   "outputs": [
    {
     "data": {
      "text/plain": [
       "'Mpro-x0354'"
      ]
     },
     "execution_count": 58,
     "metadata": {},
     "output_type": "execute_result"
    }
   ],
   "source": [
    "result.input_pair.complex.target.target_name"
   ]
  },
  {
   "cell_type": "markdown",
   "id": "4b684cd6a21a1554",
   "metadata": {
    "collapsed": false,
    "jupyter": {
     "outputs_hidden": false
    }
   },
   "source": [
    "## Advanced Topics: Multi-pose Docking"
   ]
  },
  {
   "cell_type": "markdown",
   "id": "e2cdcaaabbbb112a",
   "metadata": {
    "collapsed": false,
    "jupyter": {
     "outputs_hidden": false
    }
   },
   "source": [
    "Note: this is functionality that was most recently added. Please make an issue if you encounter problems :)\n",
    "\n",
    "We'll use the same docking scheme as above"
   ]
  },
  {
   "cell_type": "code",
   "execution_count": 59,
   "id": "286da78a989fe721",
   "metadata": {
    "ExecuteTime": {
     "end_time": "2024-04-25T18:31:27.278863Z",
     "start_time": "2024-04-25T18:31:26.996019Z"
    },
    "collapsed": false,
    "jupyter": {
     "outputs_hidden": false
    }
   },
   "outputs": [],
   "source": [
    "from asapdiscovery.docking.docking import DockingInputPair\n",
    "prepped_complex = PreppedComplex.from_oedu_file(\n",
    "        fetch_test_file(\"Mpro-P2660_0A_bound-prepped_receptor.oedu\"),\n",
    "        ligand_kwargs={\"compound_name\": \"test\"},\n",
    "        target_kwargs={\"target_name\": \"test\", \"target_hash\": \"mock_hash\"},\n",
    "    )\n",
    "ligand = Ligand.from_sdf(\n",
    "        fetch_test_file(\"Mpro-P0008_0A_ERI-UCB-ce40166b-17.sdf\"), compound_name=\"test\"\n",
    "    )\n",
    "input_pair = DockingInputPair(ligand=ligand, complex=prepped_complex)"
   ]
  },
  {
   "cell_type": "code",
   "execution_count": 60,
   "id": "300f06cb8ddc89a0",
   "metadata": {
    "ExecuteTime": {
     "end_time": "2024-04-25T18:31:27.284561Z",
     "start_time": "2024-04-25T18:31:27.280829Z"
    },
    "collapsed": false,
    "jupyter": {
     "outputs_hidden": false
    }
   },
   "outputs": [],
   "source": [
    "docker = POSITDocker(num_poses=50) # we set the number of poses when we create the docker"
   ]
  },
  {
   "cell_type": "code",
   "execution_count": 61,
   "id": "4106e4745d9d0dfa",
   "metadata": {
    "ExecuteTime": {
     "end_time": "2024-04-25T18:32:27.648140Z",
     "start_time": "2024-04-25T18:31:27.286270Z"
    },
    "collapsed": false,
    "jupyter": {
     "outputs_hidden": false
    }
   },
   "outputs": [],
   "source": [
    "results = docker.dock([input_pair]) # we won't use dask or write an output, takes ~1 min on a Macbook Pro"
   ]
  },
  {
   "cell_type": "markdown",
   "id": "1def3220e75e0651",
   "metadata": {
    "collapsed": false,
    "jupyter": {
     "outputs_hidden": false
    }
   },
   "source": [
    "NOTE: As of version 0.3.1, we can generate multipose docking results, but there's nothing to distinguish them, and when you run result.write_docking_files the results for each ligand will overwrite each other. This should be fixed by 0.4.0"
   ]
  },
  {
   "cell_type": "code",
   "execution_count": 62,
   "id": "740d37a3ffad9e43",
   "metadata": {
    "ExecuteTime": {
     "end_time": "2024-04-25T18:32:27.660573Z",
     "start_time": "2024-04-25T18:32:27.651903Z"
    },
    "collapsed": false,
    "jupyter": {
     "outputs_hidden": false
    }
   },
   "outputs": [
    {
     "data": {
      "text/plain": [
       "29"
      ]
     },
     "execution_count": 62,
     "metadata": {},
     "output_type": "execute_result"
    }
   ],
   "source": [
    "len(results)"
   ]
  },
  {
   "cell_type": "code",
   "execution_count": 63,
   "id": "f1118bd8aa6e30bc",
   "metadata": {
    "ExecuteTime": {
     "end_time": "2024-04-25T18:32:27.674003Z",
     "start_time": "2024-04-25T18:32:27.663447Z"
    },
    "collapsed": false,
    "jupyter": {
     "outputs_hidden": false
    }
   },
   "outputs": [
    {
     "name": "stdout",
     "output_type": "stream",
     "text": [
      "[0.23999999463558197, 0.23999999463558197, 0.23999999463558197, 0.23999999463558197, 0.23999999463558197, 0.23999999463558197, 0.23999999463558197, 0.23999999463558197, 0.23999999463558197, 0.23999999463558197, 0.23999999463558197, 0.23999999463558197, 0.23999999463558197, 0.23999999463558197, 0.23999999463558197, 0.23999999463558197, 0.23999999463558197, 0.23999999463558197, 0.18000000715255737, 0.18000000715255737, 0.18000000715255737, 0.18000000715255737, 0.18000000715255737, 0.18000000715255737, 0.18000000715255737, 0.05000000074505806, 0.05000000074505806, 0.05000000074505806, 0.05000000074505806]\n"
     ]
    }
   ],
   "source": [
    "print([result.probability for result in results])"
   ]
  },
  {
   "cell_type": "markdown",
   "id": "1fdead236a1e76f",
   "metadata": {
    "collapsed": false,
    "jupyter": {
     "outputs_hidden": false
    }
   },
   "source": [
    "## A few side notes: Dask and Target Specific Workflows"
   ]
  },
  {
   "cell_type": "markdown",
   "id": "cca7da8cadf596f3",
   "metadata": {
    "collapsed": false,
    "jupyter": {
     "outputs_hidden": false
    }
   },
   "source": [
    "### Dask"
   ]
  },
  {
   "cell_type": "markdown",
   "id": "6af146d6f9b22551",
   "metadata": {
    "collapsed": false,
    "jupyter": {
     "outputs_hidden": false
    }
   },
   "source": [
    "We make heavy use of Dask throughout our code, which helps automate parallel processing and provides a nice dashboard for evaluating the progress of large scale docking efforts. Due to the way in which Dask automates error handling, this has occasionally led to situations where the behaviour of our code is different depending on whether you have enabled Dask. We have tried to stamp out any instances of this, but if you find another, please make an issue!"
   ]
  },
  {
   "cell_type": "markdown",
   "id": "cb96fc4cad7e758a",
   "metadata": {
    "collapsed": false,
    "jupyter": {
     "outputs_hidden": false
    }
   },
   "source": [
    "### Target-specific workflows"
   ]
  },
  {
   "cell_type": "markdown",
   "id": "a897e110095c4b6",
   "metadata": {
    "collapsed": false,
    "jupyter": {
     "outputs_hidden": false
    }
   },
   "source": [
    "We have implemented our library code within the `asapdiscovery-workflows` module, which puts everything together in a command-line interface (cli). Unfortunately, as of version 0.4, these workflows only work if you are using the targets specified for ASAP. We plan on changing this for version 0.5 "
   ]
  },
  {
   "cell_type": "markdown",
   "id": "aeb67094b84d84f2",
   "metadata": {
    "collapsed": false,
    "jupyter": {
     "outputs_hidden": false
    }
   },
   "source": [
    "To find out which targets can be passed to these workflows, you can use this:"
   ]
  },
  {
   "cell_type": "code",
   "execution_count": 64,
   "id": "986630eb29710dde",
   "metadata": {
    "ExecuteTime": {
     "end_time": "2024-05-04T19:55:06.921908Z",
     "start_time": "2024-05-04T19:55:06.919532Z"
    },
    "collapsed": false,
    "jupyter": {
     "outputs_hidden": false
    }
   },
   "outputs": [],
   "source": [
    "from asapdiscovery.data.services.postera.manifold_data_validation import TargetTags"
   ]
  },
  {
   "cell_type": "code",
   "execution_count": 65,
   "id": "d53657ae265ce4d5",
   "metadata": {
    "ExecuteTime": {
     "end_time": "2024-05-04T19:55:06.927301Z",
     "start_time": "2024-05-04T19:55:06.923292Z"
    },
    "collapsed": false,
    "jupyter": {
     "outputs_hidden": false
    }
   },
   "outputs": [
    {
     "data": {
      "text/plain": [
       "['SARS-CoV-2-Mpro',\n",
       " 'EV-A71-Capsid',\n",
       " 'EV-D68-Capsid',\n",
       " 'ZIKV-NS2B-NS3pro',\n",
       " 'DENV-NS2B-NS3pro',\n",
       " 'SARS-CoV-2-N-protein',\n",
       " 'EV-D68-3Cpro',\n",
       " 'MERS-CoV-Mpro',\n",
       " 'SARS-CoV-2-Mac1',\n",
       " 'EV-A71-3Cpro']"
      ]
     },
     "execution_count": 65,
     "metadata": {},
     "output_type": "execute_result"
    }
   ],
   "source": [
    "TargetTags.get_values()"
   ]
  }
 ],
 "metadata": {
  "kernelspec": {
   "display_name": "Python 3 (ipykernel)",
   "language": "python",
   "name": "python3"
  },
  "language_info": {
   "codemirror_mode": {
    "name": "ipython",
    "version": 3
   },
   "file_extension": ".py",
   "mimetype": "text/x-python",
   "name": "python",
   "nbconvert_exporter": "python",
   "pygments_lexer": "ipython3",
   "version": "3.10.12"
  }
 },
 "nbformat": 4,
 "nbformat_minor": 5
}
