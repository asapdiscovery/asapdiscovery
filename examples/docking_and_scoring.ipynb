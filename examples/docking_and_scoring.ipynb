{
 "cells": [
  {
   "cell_type": "markdown",
   "id": "a9dd55cb-bb04-47e5-9758-f006379db2c3",
   "metadata": {},
   "source": [
    "# Docking and Scoring\n",
    "## Intro"
   ]
  },
  {
   "cell_type": "markdown",
   "source": [
    "This notebook will show you how to dock and score molecules using the asapdiscovery-docking module. \n",
    "\n",
    "This docking pipeline primarily focuses on the use-case for a structure-enabled drug discovery program, in which we have crystal structures of early molecules to use for *reference-based* docking. \n",
    "\n",
    "To this end, we have implemented an api that wraps the OpenEye POSIT docking algorithm, which, through its use of the HYBRID and SHAPEFIT algorithms, enables reference-based docking. "
   ],
   "metadata": {
    "collapsed": false
   },
   "id": "70b9d2640eb06041"
  },
  {
   "cell_type": "markdown",
   "source": [
    "### The scope of this guide"
   ],
   "metadata": {
    "collapsed": false
   },
   "id": "28497ab0b4fa94ca"
  },
  {
   "cell_type": "markdown",
   "source": [
    "This guide will show you how to dock and score molecules. For the *extremely* necessary precursor step of data loading and prepping, please see [protein_and_ligand_prep](%protein_and_ligand_prep.ipynb)"
   ],
   "metadata": {
    "collapsed": false
   },
   "id": "506fdcc62785c33c"
  },
  {
   "cell_type": "markdown",
   "source": [
    "## Data"
   ],
   "metadata": {
    "collapsed": false
   },
   "id": "fc7d5b6c525f9fee"
  },
  {
   "cell_type": "markdown",
   "source": [
    "We will use files we use for testing, since these molecules have already been prepped for docking."
   ],
   "metadata": {
    "collapsed": false
   },
   "id": "8f8614357c006f2"
  },
  {
   "cell_type": "code",
   "outputs": [],
   "source": [
    "from asapdiscovery.data.testing.test_resources import fetch_test_file\n",
    "from asapdiscovery.data.schema.complex import Complex, PreppedComplex\n",
    "from asapdiscovery.data.schema.ligand import Ligand\n",
    "prepped_complex = PreppedComplex.from_oedu_file(\n",
    "        fetch_test_file(\"Mpro-P2660_0A_bound-prepped_receptor.oedu\"),\n",
    "        ligand_kwargs={\"compound_name\": \"test\"},\n",
    "        target_kwargs={\"target_name\": \"test\", \"target_hash\": \"mock_hash\"},\n",
    "    )\n",
    "ligand = Ligand.from_sdf(\n",
    "        fetch_test_file(\"Mpro-P0008_0A_ERI-UCB-ce40166b-17.sdf\"), compound_name=\"test\"\n",
    "    )"
   ],
   "metadata": {
    "collapsed": false,
    "ExecuteTime": {
     "end_time": "2024-05-04T19:41:52.037687Z",
     "start_time": "2024-05-04T19:41:51.339707Z"
    }
   },
   "id": "c4002264f3f38448",
   "execution_count": 6
  },
  {
   "cell_type": "markdown",
   "source": [
    "## Docking with the POSITDocker"
   ],
   "metadata": {
    "collapsed": false
   },
   "id": "6e6495a9b40fcf4b"
  },
  {
   "cell_type": "markdown",
   "source": [
    "There are a *ton* of choices we can make for docking, which will not be enumerated here. But in order to get a flavor for the options, we can examine the class attributes of the POSITDocker:"
   ],
   "metadata": {
    "collapsed": false
   },
   "id": "83d11ecc36f27b8b"
  },
  {
   "cell_type": "code",
   "outputs": [],
   "source": [
    "from asapdiscovery.docking.openeye import POSITDocker"
   ],
   "metadata": {
    "collapsed": false,
    "ExecuteTime": {
     "end_time": "2024-05-04T19:42:05.421525Z",
     "start_time": "2024-05-04T19:42:05.412089Z"
    }
   },
   "id": "1e8b578e0c5cd0e9",
   "execution_count": 7
  },
  {
   "cell_type": "code",
   "outputs": [],
   "source": [
    "docker = POSITDocker()"
   ],
   "metadata": {
    "collapsed": false,
    "ExecuteTime": {
     "end_time": "2024-05-04T19:42:05.655699Z",
     "start_time": "2024-05-04T19:42:05.640854Z"
    }
   },
   "id": "bcb198f12778c0ee",
   "execution_count": 8
  },
  {
   "cell_type": "code",
   "outputs": [
    {
     "data": {
      "text/plain": "{'type': 'POSITDocker',\n 'relax': <POSIT_RELAX_MODE.NONE: 0>,\n 'posit_method': <POSIT_METHOD.ALL: 15>,\n 'use_omega': True,\n 'omega_dense': False,\n 'num_poses': 1,\n 'allow_low_posit_prob': False,\n 'low_posit_prob_thresh': 0.1,\n 'allow_final_clash': False,\n 'allow_retries': True}"
     },
     "execution_count": 9,
     "metadata": {},
     "output_type": "execute_result"
    }
   ],
   "source": [
    "docker.dict()"
   ],
   "metadata": {
    "collapsed": false,
    "ExecuteTime": {
     "end_time": "2024-05-04T19:42:06.045939Z",
     "start_time": "2024-05-04T19:42:06.021368Z"
    }
   },
   "id": "4367f0f81f56bb65",
   "execution_count": 9
  },
  {
   "cell_type": "markdown",
   "source": [
    "`POSITDocker.dock()` requires:\n",
    "1) a list of DockingInputBase objects\n",
    "2) an output directory\n",
    "3) and some dask options"
   ],
   "metadata": {
    "collapsed": false
   },
   "id": "bbf6a77ef91fe4cb"
  },
  {
   "cell_type": "markdown",
   "source": [
    "Currently, we have 2 kinds of DockingInputBase objects implemented:\n",
    "1) a complex-ligand pair (DockingInputPair)\n",
    "2) a one-to-many ligand:complexes object (DockingInputMultiStructure)"
   ],
   "metadata": {
    "collapsed": false
   },
   "id": "d2f1782a6f9a548f"
  },
  {
   "cell_type": "markdown",
   "source": [
    "### Running simple docking "
   ],
   "metadata": {
    "collapsed": false
   },
   "id": "c50f672710755a10"
  },
  {
   "cell_type": "code",
   "outputs": [],
   "source": [
    "from asapdiscovery.docking.docking import DockingInputPair\n",
    "input_pair = DockingInputPair(ligand=ligand, complex=prepped_complex)"
   ],
   "metadata": {
    "collapsed": false,
    "ExecuteTime": {
     "end_time": "2024-04-25T18:26:45.814460Z",
     "start_time": "2024-04-25T18:26:45.811517Z"
    }
   },
   "id": "c6af7343f46886e",
   "execution_count": 11
  },
  {
   "cell_type": "code",
   "outputs": [],
   "source": [
    "docker = POSITDocker() # let's just use defaults for now"
   ],
   "metadata": {
    "collapsed": false,
    "ExecuteTime": {
     "end_time": "2024-04-25T18:26:45.852024Z",
     "start_time": "2024-04-25T18:26:45.848666Z"
    }
   },
   "id": "3b20db10ccb47efd",
   "execution_count": 12
  },
  {
   "cell_type": "code",
   "outputs": [],
   "source": [
    "results = docker.dock([input_pair]) # we won't use dask or write an output, takes ~30 s on a Macbook Pro"
   ],
   "metadata": {
    "collapsed": false,
    "ExecuteTime": {
     "end_time": "2024-04-25T18:27:10.142443Z",
     "start_time": "2024-04-25T18:26:45.945637Z"
    }
   },
   "id": "1249bc9db313ea3c",
   "execution_count": 13
  },
  {
   "cell_type": "markdown",
   "source": [
    "This returns a list of POSITDockingResults objects!"
   ],
   "metadata": {
    "collapsed": false
   },
   "id": "b0f912b68fb1cde4"
  },
  {
   "cell_type": "code",
   "outputs": [],
   "source": [
    "result = results[0]"
   ],
   "metadata": {
    "collapsed": false,
    "ExecuteTime": {
     "end_time": "2024-04-25T18:27:10.147411Z",
     "start_time": "2024-04-25T18:27:10.144608Z"
    }
   },
   "id": "e8f208e377bb2b20",
   "execution_count": 14
  },
  {
   "cell_type": "code",
   "outputs": [],
   "source": [
    "result.write_docking_files(\"docking_test\")"
   ],
   "metadata": {
    "collapsed": false,
    "ExecuteTime": {
     "end_time": "2024-04-25T18:27:10.514450Z",
     "start_time": "2024-04-25T18:27:10.148778Z"
    }
   },
   "id": "8cda12ed29150315",
   "execution_count": 15
  },
  {
   "cell_type": "code",
   "outputs": [],
   "source": [],
   "metadata": {
    "collapsed": false,
    "ExecuteTime": {
     "end_time": "2024-04-25T18:27:10.520366Z",
     "start_time": "2024-04-25T18:27:10.518193Z"
    }
   },
   "id": "cee73a01bd95a40d",
   "execution_count": 15
  },
  {
   "cell_type": "markdown",
   "source": [
    "## Scoring"
   ],
   "metadata": {
    "collapsed": false
   },
   "id": "3b9731bc8369ab68"
  },
  {
   "cell_type": "markdown",
   "source": [
    "We deconvolute the *pose prediction* and *scoring* parts of docking, which enables us to try out a number of different things.\n",
    "To this end, we have written a few \"scorer\" classes, including:\n",
    "1. A traditional docking scorer: ChemGauss4Scorer\n",
    "2. A score which tries to capture information about the potential for the binding site to evolve: FINTScorer\n",
    "3. A few ML scorers: GATScorer, E3NNScorer, SchnetScorer\n",
    "4. And finally, a MetaScorer which can run all the other ones"
   ],
   "metadata": {
    "collapsed": false
   },
   "id": "a190fdf18f2d480d"
  },
  {
   "cell_type": "code",
   "outputs": [],
   "source": [
    "from asapdiscovery.docking.scorer import ChemGauss4Scorer, FINTScorer, MetaScorer"
   ],
   "metadata": {
    "collapsed": false,
    "ExecuteTime": {
     "end_time": "2024-05-04T19:44:44.692007Z",
     "start_time": "2024-05-04T19:44:10.992937Z"
    }
   },
   "id": "d8fbc441d8b79f31",
   "execution_count": 11
  },
  {
   "cell_type": "markdown",
   "source": [
    "### Targets"
   ],
   "metadata": {
    "collapsed": false
   },
   "id": "f4c1490dadfe2e97"
  },
  {
   "cell_type": "markdown",
   "source": [
    "Several of our scorers require target-specific information. We can find out the targets that the repo \"knows about\" like so:"
   ],
   "metadata": {
    "collapsed": false
   },
   "id": "70e3c7a2755aadbf"
  },
  {
   "cell_type": "code",
   "outputs": [],
   "source": [
    "from asapdiscovery.data.services.postera.manifold_data_validation import TargetTags"
   ],
   "metadata": {
    "collapsed": false,
    "ExecuteTime": {
     "end_time": "2024-04-25T18:27:23.358066Z",
     "start_time": "2024-04-25T18:27:23.355179Z"
    }
   },
   "id": "40078b13ed983fae",
   "execution_count": 17
  },
  {
   "cell_type": "code",
   "outputs": [
    {
     "data": {
      "text/plain": "['EV-D68-Capsid',\n 'SARS-CoV-2-N-protein',\n 'EV-A71-Capsid',\n 'DENV-NS2B-NS3pro',\n 'MERS-CoV-Mpro',\n 'SARS-CoV-2-Mac1',\n 'EV-A71-3Cpro',\n 'EV-D68-3Cpro',\n 'SARS-CoV-2-Mpro',\n 'ZIKV-NS2B-NS3pro']"
     },
     "execution_count": 18,
     "metadata": {},
     "output_type": "execute_result"
    }
   ],
   "source": [
    "TargetTags.get_values()"
   ],
   "metadata": {
    "collapsed": false,
    "ExecuteTime": {
     "end_time": "2024-04-25T18:27:23.363164Z",
     "start_time": "2024-04-25T18:27:23.359459Z"
    }
   },
   "id": "e35dc4a923af8fbc",
   "execution_count": 18
  },
  {
   "cell_type": "markdown",
   "source": [
    "Since we're working with a known target, we can set that as a variable and use that throughout"
   ],
   "metadata": {
    "collapsed": false
   },
   "id": "4926aff3a53db7dd"
  },
  {
   "cell_type": "code",
   "outputs": [],
   "source": [
    "target = TargetTags(\"SARS-CoV-2-Mpro\")"
   ],
   "metadata": {
    "collapsed": false
   },
   "id": "e3a7dcf7c1893b66",
   "execution_count": 19
  },
  {
   "cell_type": "markdown",
   "source": [
    "### ChemGauss4 Scorer"
   ],
   "metadata": {
    "collapsed": false
   },
   "id": "dde143845fd4555a"
  },
  {
   "cell_type": "code",
   "outputs": [],
   "source": [
    "chemgauss_scorer = ChemGauss4Scorer()"
   ],
   "metadata": {
    "collapsed": false,
    "ExecuteTime": {
     "end_time": "2024-04-25T18:27:23.373044Z",
     "start_time": "2024-04-25T18:27:23.370137Z"
    }
   },
   "id": "29004e554bddee19",
   "execution_count": 20
  },
  {
   "cell_type": "code",
   "outputs": [
    {
     "data": {
      "text/plain": "[Score(score_type=<ScoreType.chemgauss4: 'chemgauss4'>, score=-11.651097297668457, compound_name='test', smiles='c1ccc2c(c1)c(cc(=O)[nH]2)C(=O)NCCOc3cc(cc(c3)Cl)O[C@H]4CC(=O)N4', ligand_identifiers=None, ligand_inchikey='SNQHLYWSRJDLGK-FQEVSTJZSA-N', target_name='test', target_identifiers=None, complex_ligand_smiles='CNC(=O)CN1C[C@]2(CCN(C2=O)c3cncc4c3cc(cc4)Cl)c5cc(ccc5C1=O)Cl', probability=0.18000000715255737, units=<ScoreUnits.arbitrary: 'arbitrary'>)]"
     },
     "execution_count": 21,
     "metadata": {},
     "output_type": "execute_result"
    }
   ],
   "source": [
    "scores = chemgauss_scorer.score(results)\n",
    "scores"
   ],
   "metadata": {
    "collapsed": false,
    "ExecuteTime": {
     "end_time": "2024-04-25T18:27:26.343058Z",
     "start_time": "2024-04-25T18:27:23.377355Z"
    }
   },
   "id": "9e0336fe703133b0",
   "execution_count": 21
  },
  {
   "cell_type": "markdown",
   "source": [
    "We can see this returns an array of score objects. If we want a dataframe, we can ask it to run this instead:"
   ],
   "metadata": {
    "collapsed": false
   },
   "id": "ce43acbebbeb6cbd"
  },
  {
   "cell_type": "code",
   "outputs": [
    {
     "data": {
      "text/plain": "   score_type      score compound_name  \\\n0  chemgauss4 -11.651097          test   \n\n                                              smiles ligand_identifiers  \\\n0  c1ccc2c(c1)c(cc(=O)[nH]2)C(=O)NCCOc3cc(cc(c3)C...               None   \n\n               ligand_inchikey target_name target_identifiers  \\\n0  SNQHLYWSRJDLGK-FQEVSTJZSA-N        test               None   \n\n                               complex_ligand_smiles  probability  \\\n0  CNC(=O)CN1C[C@]2(CCN(C2=O)c3cncc4c3cc(cc4)Cl)c...         0.18   \n\n                  units  \n0  ScoreUnits.arbitrary  ",
      "text/html": "<div>\n<style scoped>\n    .dataframe tbody tr th:only-of-type {\n        vertical-align: middle;\n    }\n\n    .dataframe tbody tr th {\n        vertical-align: top;\n    }\n\n    .dataframe thead th {\n        text-align: right;\n    }\n</style>\n<table border=\"1\" class=\"dataframe\">\n  <thead>\n    <tr style=\"text-align: right;\">\n      <th></th>\n      <th>score_type</th>\n      <th>score</th>\n      <th>compound_name</th>\n      <th>smiles</th>\n      <th>ligand_identifiers</th>\n      <th>ligand_inchikey</th>\n      <th>target_name</th>\n      <th>target_identifiers</th>\n      <th>complex_ligand_smiles</th>\n      <th>probability</th>\n      <th>units</th>\n    </tr>\n  </thead>\n  <tbody>\n    <tr>\n      <th>0</th>\n      <td>chemgauss4</td>\n      <td>-11.651097</td>\n      <td>test</td>\n      <td>c1ccc2c(c1)c(cc(=O)[nH]2)C(=O)NCCOc3cc(cc(c3)C...</td>\n      <td>None</td>\n      <td>SNQHLYWSRJDLGK-FQEVSTJZSA-N</td>\n      <td>test</td>\n      <td>None</td>\n      <td>CNC(=O)CN1C[C@]2(CCN(C2=O)c3cncc4c3cc(cc4)Cl)c...</td>\n      <td>0.18</td>\n      <td>ScoreUnits.arbitrary</td>\n    </tr>\n  </tbody>\n</table>\n</div>"
     },
     "execution_count": 22,
     "metadata": {},
     "output_type": "execute_result"
    }
   ],
   "source": [
    "scores_df = chemgauss_scorer.score(results, return_df=True)\n",
    "scores_df"
   ],
   "metadata": {
    "collapsed": false,
    "ExecuteTime": {
     "end_time": "2024-04-25T18:27:28.658187Z",
     "start_time": "2024-04-25T18:27:26.344893Z"
    }
   },
   "id": "993311abca9066",
   "execution_count": 22
  },
  {
   "cell_type": "markdown",
   "source": [
    "### FINTScore"
   ],
   "metadata": {
    "collapsed": false
   },
   "id": "20b0e55036723903"
  },
  {
   "cell_type": "markdown",
   "source": [
    "For the FINT score, we need fitness data, which means we can only work on a target for which we have vendored fitness data. To check which targets those are, we can use:"
   ],
   "metadata": {
    "collapsed": false
   },
   "id": "cbaf4ae04b00fce4"
  },
  {
   "cell_type": "code",
   "outputs": [
    {
     "data": {
      "text/plain": "[<TargetTags.SARS-CoV-2-Mpro: 'SARS-CoV-2-Mpro'>,\n <TargetTags.SARS-CoV-2-Mac1: 'SARS-CoV-2-Mac1'>,\n <TargetTags.SARS-CoV-2-N-protein: 'SARS-CoV-2-N-protein'>,\n <TargetTags.ZIKV-NS2B-NS3pro: 'ZIKV-NS2B-NS3pro'>]"
     },
     "execution_count": 23,
     "metadata": {},
     "output_type": "execute_result"
    }
   ],
   "source": [
    "from asapdiscovery.data.metadata.resources import targets_with_fitness_data\n",
    "targets_with_fitness_data"
   ],
   "metadata": {
    "collapsed": false,
    "ExecuteTime": {
     "end_time": "2024-04-25T18:27:28.665036Z",
     "start_time": "2024-04-25T18:27:28.660667Z"
    }
   },
   "id": "37b5911a6ccd3beb",
   "execution_count": 23
  },
  {
   "cell_type": "code",
   "outputs": [],
   "source": [
    "fint_scorer = FINTScorer(target=target)"
   ],
   "metadata": {
    "collapsed": false,
    "ExecuteTime": {
     "end_time": "2024-04-25T18:27:28.670814Z",
     "start_time": "2024-04-25T18:27:28.667636Z"
    }
   },
   "id": "f140196cc0f07bbe",
   "execution_count": 24
  },
  {
   "cell_type": "code",
   "outputs": [
    {
     "name": "stderr",
     "output_type": "stream",
     "text": [
      "2024-04-25 14:27:29,906 [INFO] [plipcmd.py:124] plip.plipcmd: Protein-Ligand Interaction Profiler (PLIP) 2.3.0\n",
      "2024-04-25 14:27:29,907 [INFO] [plipcmd.py:125] plip.plipcmd: brought to you by: PharmAI GmbH (2020-2021) - www.pharm.ai - hello@pharm.ai\n",
      "2024-04-25 14:27:29,907 [INFO] [plipcmd.py:126] plip.plipcmd: please cite: Adasme,M. et al. PLIP 2021: expanding the scope of the protein-ligand interaction profiler to DNA and RNA. Nucl. Acids Res. (05 May 2021), gkab294. doi: 10.1093/nar/gkab294\n",
      "2024-04-25 14:27:29,907 [INFO] [plipcmd.py:49] plip.plipcmd: starting analysis of tmp_complex.pdb\n",
      "2024-04-25 14:27:30,313 [INFO] [plipcmd.py:165] plip.plipcmd: finished analysis, find the result files in /var/folders/cf/d42qwdmd5_g5s63r3g_vgx2c0000gn/T/tmpeg8i2kvy/\n"
     ]
    },
    {
     "data": {
      "text/plain": "[Score(score_type=<ScoreType.FINT: 'FINT'>, score=1.0, compound_name='test', smiles='c1ccc2c(c1)c(cc(=O)[nH]2)C(=O)NCCOc3cc(cc(c3)Cl)O[C@H]4CC(=O)N4', ligand_identifiers=None, ligand_inchikey='SNQHLYWSRJDLGK-FQEVSTJZSA-N', target_name='test', target_identifiers=None, complex_ligand_smiles='CNC(=O)CN1C[C@]2(CCN(C2=O)c3cncc4c3cc(cc4)Cl)c5cc(ccc5C1=O)Cl', probability=0.18000000715255737, units=<ScoreUnits.arbitrary: 'arbitrary'>)]"
     },
     "execution_count": 25,
     "metadata": {},
     "output_type": "execute_result"
    }
   ],
   "source": [
    "scores = fint_scorer.score(results)\n",
    "scores"
   ],
   "metadata": {
    "collapsed": false,
    "ExecuteTime": {
     "end_time": "2024-04-25T18:27:35.616062Z",
     "start_time": "2024-04-25T18:27:28.673040Z"
    }
   },
   "id": "ddccb75f5817b233",
   "execution_count": 25
  },
  {
   "cell_type": "markdown",
   "source": [
    "### ML Scorers"
   ],
   "metadata": {
    "collapsed": false
   },
   "id": "16686f3be0c2e114"
  },
  {
   "cell_type": "markdown",
   "source": [
    "Right now our ML scorers are target specific, so we need to instantiate them with the target identified. This means we need to use the right TargetTag"
   ],
   "metadata": {
    "collapsed": false
   },
   "id": "31a41fc630992c0c"
  },
  {
   "cell_type": "markdown",
   "source": [],
   "metadata": {
    "collapsed": false
   },
   "id": "380e70dd5caba7e8"
  },
  {
   "cell_type": "code",
   "outputs": [],
   "source": [
    "from asapdiscovery.ml.models import ASAPMLModelRegistry"
   ],
   "metadata": {
    "collapsed": false,
    "ExecuteTime": {
     "end_time": "2024-04-25T18:27:35.624861Z",
     "start_time": "2024-04-25T18:27:35.617912Z"
    }
   },
   "id": "60c72e58ef104c79",
   "execution_count": 26
  },
  {
   "cell_type": "code",
   "outputs": [
    {
     "data": {
      "text/plain": "['schnet', 'e3nn', 'GAT']"
     },
     "execution_count": 27,
     "metadata": {},
     "output_type": "execute_result"
    }
   ],
   "source": [
    "ASAPMLModelRegistry.get_implemented_model_types()"
   ],
   "metadata": {
    "collapsed": false,
    "ExecuteTime": {
     "end_time": "2024-04-25T18:27:35.629569Z",
     "start_time": "2024-04-25T18:27:35.626045Z"
    }
   },
   "id": "2c67d9c1082d67f9",
   "execution_count": 27
  },
  {
   "cell_type": "code",
   "outputs": [
    {
     "name": "stderr",
     "output_type": "stream",
     "text": [
      "/Users/alexpayne/miniforge-pypy3/envs/asapdiscovery/lib/python3.10/site-packages/torch/jit/_check.py:172: UserWarning: The TorchScript type system doesn't support instance-level annotations on empty non-base types in `__init__`. Instead, either 1) use a type annotation in the class body, or 2) wrap the type in `torch.jit.Attribute`.\n",
      "  warnings.warn(\"The TorchScript type system doesn't support \"\n"
     ]
    }
   ],
   "source": [
    "from asapdiscovery.docking.scorer import MLModelScorer\n",
    "ml_scorers = [MLModelScorer.from_latest_by_target_and_type(target, model_type) \n",
    "           for model_type in ASAPMLModelRegistry.get_implemented_model_types()]"
   ],
   "metadata": {
    "collapsed": false,
    "ExecuteTime": {
     "end_time": "2024-04-25T18:27:38.507029Z",
     "start_time": "2024-04-25T18:27:35.631536Z"
    }
   },
   "id": "65347d0d908bcf26",
   "execution_count": 28
  },
  {
   "cell_type": "code",
   "outputs": [],
   "source": [
    "gat_scores = ml_scorers[0].score(results)"
   ],
   "metadata": {
    "collapsed": false,
    "ExecuteTime": {
     "end_time": "2024-04-25T18:27:42.732265Z",
     "start_time": "2024-04-25T18:27:38.510171Z"
    }
   },
   "id": "44aa66154bb8ae28",
   "execution_count": 29
  },
  {
   "cell_type": "code",
   "outputs": [
    {
     "data": {
      "text/plain": "[Score(score_type=<ScoreType.schnet: 'schnet'>, score=-1.627445936203003, compound_name='test', smiles='c1ccc2c(c1)c(cc(=O)[nH]2)C(=O)NCCOc3cc(cc(c3)Cl)O[C@H]4CC(=O)N4', ligand_identifiers=None, ligand_inchikey='SNQHLYWSRJDLGK-FQEVSTJZSA-N', target_name='test', target_identifiers=None, complex_ligand_smiles='CNC(=O)CN1C[C@]2(CCN(C2=O)c3cncc4c3cc(cc4)Cl)c5cc(ccc5C1=O)Cl', probability=0.18000000715255737, units=<ScoreUnits.pIC50: 'pIC50'>)]"
     },
     "execution_count": 30,
     "metadata": {},
     "output_type": "execute_result"
    }
   ],
   "source": [
    "gat_scores"
   ],
   "metadata": {
    "collapsed": false,
    "ExecuteTime": {
     "end_time": "2024-04-25T18:27:42.739450Z",
     "start_time": "2024-04-25T18:27:42.734409Z"
    }
   },
   "id": "f264873d0321aa64",
   "execution_count": 30
  },
  {
   "cell_type": "markdown",
   "source": [
    "#### MetaScorer"
   ],
   "metadata": {
    "collapsed": false
   },
   "id": "8190384bd127966b"
  },
  {
   "cell_type": "markdown",
   "source": [
    "We can use the MetaScorer to run all the scoring for us and combine everything into a dataframe we can save easily"
   ],
   "metadata": {
    "collapsed": false
   },
   "id": "4ba76b0c4774056d"
  },
  {
   "cell_type": "code",
   "outputs": [],
   "source": [
    "scorers = [chemgauss_scorer, fint_scorer, *ml_scorers]"
   ],
   "metadata": {
    "collapsed": false,
    "ExecuteTime": {
     "end_time": "2024-04-25T18:27:42.745211Z",
     "start_time": "2024-04-25T18:27:42.742060Z"
    }
   },
   "id": "75474c208b20741",
   "execution_count": 31
  },
  {
   "cell_type": "code",
   "outputs": [],
   "source": [
    "metascorer = MetaScorer(scorers=scorers)"
   ],
   "metadata": {
    "collapsed": false,
    "ExecuteTime": {
     "end_time": "2024-04-25T18:27:42.750851Z",
     "start_time": "2024-04-25T18:27:42.747617Z"
    }
   },
   "id": "ef31d8bd27f52a6c",
   "execution_count": 32
  },
  {
   "cell_type": "code",
   "outputs": [
    {
     "name": "stderr",
     "output_type": "stream",
     "text": [
      "2024-04-25 14:27:45,986 [INFO] [plipcmd.py:124] plip.plipcmd: Protein-Ligand Interaction Profiler (PLIP) 2.3.0\n",
      "2024-04-25 14:27:45,986 [INFO] [plipcmd.py:125] plip.plipcmd: brought to you by: PharmAI GmbH (2020-2021) - www.pharm.ai - hello@pharm.ai\n",
      "2024-04-25 14:27:45,986 [INFO] [plipcmd.py:126] plip.plipcmd: please cite: Adasme,M. et al. PLIP 2021: expanding the scope of the protein-ligand interaction profiler to DNA and RNA. Nucl. Acids Res. (05 May 2021), gkab294. doi: 10.1093/nar/gkab294\n",
      "2024-04-25 14:27:45,986 [INFO] [plipcmd.py:49] plip.plipcmd: starting analysis of tmp_complex.pdb\n",
      "2024-04-25 14:27:46,345 [INFO] [plipcmd.py:165] plip.plipcmd: finished analysis, find the result files in /var/folders/cf/d42qwdmd5_g5s63r3g_vgx2c0000gn/T/tmp_op47i4g/\n"
     ]
    }
   ],
   "source": [
    "scores_df = metascorer.score(results, return_df=True)"
   ],
   "metadata": {
    "collapsed": false,
    "ExecuteTime": {
     "end_time": "2024-04-25T18:28:02.599979Z",
     "start_time": "2024-04-25T18:27:42.752905Z"
    }
   },
   "id": "708eb495cdff224c",
   "execution_count": 33
  },
  {
   "cell_type": "code",
   "outputs": [
    {
     "data": {
      "text/plain": "score_type target_identifiers docking-structure-POSIT ligand_id  \\\n0                         NaN                    test      test   \n\nscore_type ligand_identifiers                     INCHIKEY  \\\n0                         NaN  SNQHLYWSRJDLGK-FQEVSTJZSA-N   \n\nscore_type  docking-confidence-POSIT  \\\n0                               0.18   \n\nscore_type                                             SMILES  \\\n0           c1ccc2c(c1)c(cc(=O)[nH]2)C(=O)NCCOc3cc(cc(c3)C...   \n\nscore_type                              complex_ligand_smiles  \\\n0           CNC(=O)CN1C[C@]2(CCN(C2=O)c3cncc4c3cc(cc4)Cl)c...   \n\nscore_type  fitness-score-FINT  computed-GAT-pIC50  docking-score-POSIT  \\\n0                          1.0            4.912028           -11.651097   \n\nscore_type  computed-E3NN-pIC50  computed-SchNet-pIC50  \n0                      3.713501              -1.627446  ",
      "text/html": "<div>\n<style scoped>\n    .dataframe tbody tr th:only-of-type {\n        vertical-align: middle;\n    }\n\n    .dataframe tbody tr th {\n        vertical-align: top;\n    }\n\n    .dataframe thead th {\n        text-align: right;\n    }\n</style>\n<table border=\"1\" class=\"dataframe\">\n  <thead>\n    <tr style=\"text-align: right;\">\n      <th>score_type</th>\n      <th>target_identifiers</th>\n      <th>docking-structure-POSIT</th>\n      <th>ligand_id</th>\n      <th>ligand_identifiers</th>\n      <th>INCHIKEY</th>\n      <th>docking-confidence-POSIT</th>\n      <th>SMILES</th>\n      <th>complex_ligand_smiles</th>\n      <th>fitness-score-FINT</th>\n      <th>computed-GAT-pIC50</th>\n      <th>docking-score-POSIT</th>\n      <th>computed-E3NN-pIC50</th>\n      <th>computed-SchNet-pIC50</th>\n    </tr>\n  </thead>\n  <tbody>\n    <tr>\n      <th>0</th>\n      <td>NaN</td>\n      <td>test</td>\n      <td>test</td>\n      <td>NaN</td>\n      <td>SNQHLYWSRJDLGK-FQEVSTJZSA-N</td>\n      <td>0.18</td>\n      <td>c1ccc2c(c1)c(cc(=O)[nH]2)C(=O)NCCOc3cc(cc(c3)C...</td>\n      <td>CNC(=O)CN1C[C@]2(CCN(C2=O)c3cncc4c3cc(cc4)Cl)c...</td>\n      <td>1.0</td>\n      <td>4.912028</td>\n      <td>-11.651097</td>\n      <td>3.713501</td>\n      <td>-1.627446</td>\n    </tr>\n  </tbody>\n</table>\n</div>"
     },
     "execution_count": 34,
     "metadata": {},
     "output_type": "execute_result"
    }
   ],
   "source": [
    "scores_df"
   ],
   "metadata": {
    "collapsed": false,
    "ExecuteTime": {
     "end_time": "2024-04-25T18:28:02.625015Z",
     "start_time": "2024-04-25T18:28:02.604289Z"
    }
   },
   "id": "746e077f0e551f7b",
   "execution_count": 34
  },
  {
   "cell_type": "markdown",
   "source": [
    "Under the hood, this uses this function: `asapdiscovery.docking.scorer.Score._combine_and_pivot_scores_df` to return the scores in a dataframe. As of version 0.4, this uses `asapdiscovery.docking.scorer._SCORE_MANIFOLD_ALIAS` to change the column names to conform to the standard names that the ASAPDiscovery Consortium agreed upon. You can examine which column names correspond to which score here:"
   ],
   "metadata": {
    "collapsed": false
   },
   "id": "bd654b07c6348387"
  },
  {
   "cell_type": "code",
   "outputs": [
    {
     "data": {
      "text/plain": "{<ScoreType.chemgauss4: 'chemgauss4'>: 'docking-score-POSIT',\n <ScoreType.FINT: 'FINT'>: 'fitness-score-FINT',\n <ScoreType.GAT: 'GAT'>: 'computed-GAT-pIC50',\n <ScoreType.schnet: 'schnet'>: 'computed-SchNet-pIC50',\n <ScoreType.e3nn: 'e3nn'>: 'computed-E3NN-pIC50',\n <ScoreType.INVALID: 'INVALID'>: None,\n 'target_name': 'docking-structure-POSIT',\n 'compound_name': 'ligand_id',\n 'smiles': 'SMILES',\n 'ligand_inchikey': 'INCHIKEY',\n 'probability': 'docking-confidence-POSIT'}"
     },
     "execution_count": 35,
     "metadata": {},
     "output_type": "execute_result"
    }
   ],
   "source": [
    "from asapdiscovery.docking.scorer import _SCORE_MANIFOLD_ALIAS\n",
    "_SCORE_MANIFOLD_ALIAS"
   ],
   "metadata": {
    "collapsed": false,
    "ExecuteTime": {
     "end_time": "2024-04-25T18:28:02.635811Z",
     "start_time": "2024-04-25T18:28:02.628102Z"
    }
   },
   "id": "1d28e20c4fc8e94f",
   "execution_count": 35
  },
  {
   "cell_type": "markdown",
   "source": [
    "## Advanced Topics: Selectors"
   ],
   "metadata": {
    "collapsed": false
   },
   "id": "1d9bd774a1550dfa"
  },
  {
   "cell_type": "markdown",
   "source": [
    "The ASAPDiscovery Consortium regularly operates in a regime where we have many experimental structures to choose from as references for docking. To accelerate the process of choosing which structures to use, we have generated a series of Selector objects which take a set of ligands and complexes and choose which set of ligand-complex pairs to use for docking."
   ],
   "metadata": {
    "collapsed": false
   },
   "id": "d12eb4812586bc59"
  },
  {
   "cell_type": "code",
   "outputs": [],
   "source": [
    "from asapdiscovery.data.operators.selectors.selector_list import StructureSelector"
   ],
   "metadata": {
    "collapsed": false,
    "ExecuteTime": {
     "end_time": "2024-04-25T18:28:02.664883Z",
     "start_time": "2024-04-25T18:28:02.646343Z"
    }
   },
   "id": "6e24b052db7cc3f",
   "execution_count": 36
  },
  {
   "cell_type": "code",
   "outputs": [
    {
     "data": {
      "text/plain": "['MCSSelector',\n 'PairwiseSelector',\n 'LeaveOneOutSelector',\n 'LeaveSimilarOutSelector',\n 'SelfDockingSelector']"
     },
     "execution_count": 37,
     "metadata": {},
     "output_type": "execute_result"
    }
   ],
   "source": [
    "StructureSelector.get_values()"
   ],
   "metadata": {
    "collapsed": false,
    "ExecuteTime": {
     "end_time": "2024-04-25T18:28:02.676556Z",
     "start_time": "2024-04-25T18:28:02.667912Z"
    }
   },
   "id": "c33e1790f8efbe1",
   "execution_count": 37
  },
  {
   "cell_type": "code",
   "outputs": [
    {
     "name": "stderr",
     "output_type": "stream",
     "text": [
      "Warning: OE3DToAtomStereo is unable to perceive atom stereo from a flat geometry on atom 8 of molecule 'LIG'\n",
      "Warning: OE3DToAtomStereo had a problem during OEWriteMolecule when writing 'LIG'\n"
     ]
    }
   ],
   "source": [
    "from asapdiscovery.data.services.fragalysis.fragalysis_reader import FragalysisFactory\n",
    "all_mpro_fns = [\n",
    "        \"metadata.csv\",\n",
    "        \"aligned/Mpro-x11041_0A/Mpro-x11041_0A_bound.pdb\",\n",
    "        \"aligned/Mpro-x1425_0A/Mpro-x1425_0A_bound.pdb\",\n",
    "        \"aligned/Mpro-x11894_0A/Mpro-x11894_0A_bound.pdb\",\n",
    "        \"aligned/Mpro-x1002_0A/Mpro-x1002_0A_bound.pdb\",\n",
    "        \"aligned/Mpro-x10155_0A/Mpro-x10155_0A_bound.pdb\",\n",
    "        \"aligned/Mpro-x0354_0A/Mpro-x0354_0A_bound.pdb\",\n",
    "        \"aligned/Mpro-x11271_0A/Mpro-x11271_0A_bound.pdb\",\n",
    "        \"aligned/Mpro-x1101_1A/Mpro-x1101_1A_bound.pdb\",\n",
    "        \"aligned/Mpro-x1187_0A/Mpro-x1187_0A_bound.pdb\",\n",
    "        \"aligned/Mpro-x10338_0A/Mpro-x10338_0A_bound.pdb\",\n",
    "    ]\n",
    "all_paths = [fetch_test_file(f\"frag_factory_test/{fn}\") for fn in all_mpro_fns]\n",
    "parent_dir = all_paths[0].parent\n",
    "ff = FragalysisFactory.from_dir(parent_dir)\n",
    "complexes = ff.load()"
   ],
   "metadata": {
    "collapsed": false,
    "ExecuteTime": {
     "end_time": "2024-04-25T18:28:04.983686Z",
     "start_time": "2024-04-25T18:28:02.695600Z"
    }
   },
   "id": "ad49c819b4ad91bb",
   "execution_count": 38
  },
  {
   "cell_type": "code",
   "outputs": [],
   "source": [
    "ligands = [complex.ligand for complex in complexes]"
   ],
   "metadata": {
    "collapsed": false,
    "ExecuteTime": {
     "end_time": "2024-04-25T18:28:04.988900Z",
     "start_time": "2024-04-25T18:28:04.985220Z"
    }
   },
   "id": "fead92efc620886e",
   "execution_count": 39
  },
  {
   "cell_type": "markdown",
   "source": [
    "### To illustrate what the selectors do"
   ],
   "metadata": {
    "collapsed": false
   },
   "id": "f396e1ecb5d57749"
  },
  {
   "cell_type": "markdown",
   "source": [
    "#### SelfDockingSelector"
   ],
   "metadata": {
    "collapsed": false
   },
   "id": "de4146b4307d1c96"
  },
  {
   "cell_type": "code",
   "outputs": [],
   "source": [
    "selector = StructureSelector('SelfDockingSelector').selector_cls()"
   ],
   "metadata": {
    "collapsed": false,
    "ExecuteTime": {
     "end_time": "2024-04-25T18:28:05.228679Z",
     "start_time": "2024-04-25T18:28:04.990958Z"
    }
   },
   "id": "e17bec8b31331e7a",
   "execution_count": 40
  },
  {
   "cell_type": "code",
   "outputs": [
    {
     "name": "stderr",
     "output_type": "stream",
     "text": [
      "Warning: OE3DToAtomStereo is unable to perceive atom stereo from a flat geometry on atom 8 of molecule 'LIG'\n",
      "Warning: OE3DToAtomStereo had a problem during conformation test 'LIG'\n",
      "Warning: OE3DToAtomStereo is unable to perceive atom stereo from a flat geometry on atom 8 of molecule 'LIG'\n",
      "Warning: OE3DToAtomStereo had a problem during conformation test 'LIG'\n",
      "Warning: OE3DToAtomStereo is unable to perceive atom stereo from a flat geometry on atom 8 of molecule 'LIG'\n",
      "Warning: OE3DToAtomStereo had a problem during conformation test 'LIG'\n",
      "Warning: OE3DToAtomStereo is unable to perceive atom stereo from a flat geometry on atom 8 of molecule 'LIG'\n",
      "Warning: OE3DToAtomStereo had a problem during conformation test 'LIG'\n",
      "Warning: OE3DToAtomStereo is unable to perceive atom stereo from a flat geometry on atom 8 of molecule 'LIG'\n",
      "Warning: OE3DToAtomStereo had a problem during conformation test 'LIG'\n",
      "Warning: OE3DToAtomStereo is unable to perceive atom stereo from a flat geometry on atom 8 of molecule 'LIG'\n",
      "Warning: OE3DToAtomStereo had a problem during conformation test 'LIG'\n",
      "Warning: OE3DToAtomStereo is unable to perceive atom stereo from a flat geometry on atom 8 of molecule 'LIG'\n",
      "Warning: OE3DToAtomStereo had a problem during conformation test 'LIG'\n",
      "Warning: OE3DToAtomStereo is unable to perceive atom stereo from a flat geometry on atom 8 of molecule 'LIG'\n",
      "Warning: OE3DToAtomStereo had a problem during conformation test 'LIG'\n",
      "Warning: OE3DToAtomStereo is unable to perceive atom stereo from a flat geometry on atom 8 of molecule 'LIG'\n",
      "Warning: OE3DToAtomStereo had a problem during conformation test 'LIG'\n",
      "Warning: OE3DToAtomStereo is unable to perceive atom stereo from a flat geometry on atom 8 of molecule 'LIG'\n",
      "Warning: OE3DToAtomStereo had a problem during conformation test 'LIG'\n",
      "Warning: OE3DToAtomStereo is unable to perceive atom stereo from a flat geometry on atom 8 of molecule 'LIG'\n",
      "Warning: OE3DToAtomStereo had a problem during conformation test 'LIG'\n",
      "Warning: OE3DToAtomStereo is unable to perceive atom stereo from a flat geometry on atom 8 of molecule 'LIG'\n",
      "Warning: OE3DToAtomStereo had a problem during conformation test 'LIG'\n",
      "Warning: OE3DToAtomStereo is unable to perceive atom stereo from a flat geometry on atom 8 of molecule 'LIG'\n",
      "Warning: OE3DToAtomStereo had a problem during conformation test 'LIG'\n",
      "Warning: OE3DToAtomStereo is unable to perceive atom stereo from a flat geometry on atom 8 of molecule 'LIG'\n",
      "Warning: OE3DToAtomStereo had a problem during conformation test 'LIG'\n",
      "Warning: OE3DToAtomStereo is unable to perceive atom stereo from a flat geometry on atom 8 of molecule 'LIG'\n",
      "Warning: OE3DToAtomStereo had a problem during conformation test 'LIG'\n",
      "Warning: OE3DToAtomStereo is unable to perceive atom stereo from a flat geometry on atom 8 of molecule 'LIG'\n",
      "Warning: OE3DToAtomStereo had a problem during conformation test 'LIG'\n",
      "Warning: OE3DToAtomStereo is unable to perceive atom stereo from a flat geometry on atom 8 of molecule 'LIG'\n",
      "Warning: OE3DToAtomStereo had a problem during conformation test 'LIG'\n",
      "Warning: OE3DToAtomStereo is unable to perceive atom stereo from a flat geometry on atom 8 of molecule 'LIG'\n",
      "Warning: OE3DToAtomStereo had a problem during conformation test 'LIG'\n",
      "Warning: OE3DToAtomStereo is unable to perceive atom stereo from a flat geometry on atom 8 of molecule 'LIG'\n",
      "Warning: OE3DToAtomStereo had a problem during conformation test 'LIG'\n",
      "Warning: OE3DToAtomStereo is unable to perceive atom stereo from a flat geometry on atom 8 of molecule 'LIG'\n",
      "Warning: OE3DToAtomStereo had a problem during conformation test 'LIG'\n"
     ]
    }
   ],
   "source": [
    "pairs = selector.select(ligands, complexes)"
   ],
   "metadata": {
    "collapsed": false,
    "ExecuteTime": {
     "end_time": "2024-04-25T18:28:05.370029Z",
     "start_time": "2024-04-25T18:28:05.230186Z"
    }
   },
   "id": "4040cd792b5b06cf",
   "execution_count": 41
  },
  {
   "cell_type": "code",
   "outputs": [
    {
     "data": {
      "text/plain": "10"
     },
     "execution_count": 42,
     "metadata": {},
     "output_type": "execute_result"
    }
   ],
   "source": [
    "len(pairs)"
   ],
   "metadata": {
    "collapsed": false,
    "ExecuteTime": {
     "end_time": "2024-04-25T18:28:05.376520Z",
     "start_time": "2024-04-25T18:28:05.372409Z"
    }
   },
   "id": "5806a3e4f5c87241",
   "execution_count": 42
  },
  {
   "cell_type": "code",
   "outputs": [
    {
     "data": {
      "text/plain": "True"
     },
     "execution_count": 43,
     "metadata": {},
     "output_type": "execute_result"
    }
   ],
   "source": [
    "all(pair.complex.ligand == pair.ligand for pair in pairs)"
   ],
   "metadata": {
    "collapsed": false,
    "ExecuteTime": {
     "end_time": "2024-04-25T18:28:05.382609Z",
     "start_time": "2024-04-25T18:28:05.378050Z"
    }
   },
   "id": "282520ebdd7728e3",
   "execution_count": 43
  },
  {
   "cell_type": "markdown",
   "source": [
    "#### PairwiseSelector"
   ],
   "metadata": {
    "collapsed": false
   },
   "id": "13c7f4acd29e8afc"
  },
  {
   "cell_type": "code",
   "outputs": [],
   "source": [
    "selector = StructureSelector('PairwiseSelector').selector_cls()"
   ],
   "metadata": {
    "collapsed": false,
    "ExecuteTime": {
     "end_time": "2024-04-25T18:28:05.387896Z",
     "start_time": "2024-04-25T18:28:05.384726Z"
    }
   },
   "id": "ea5e768515d4a5c0",
   "execution_count": 44
  },
  {
   "cell_type": "code",
   "outputs": [],
   "source": [
    "pairs = selector.select(ligands, complexes)"
   ],
   "metadata": {
    "collapsed": false,
    "ExecuteTime": {
     "end_time": "2024-04-25T18:28:05.394208Z",
     "start_time": "2024-04-25T18:28:05.390256Z"
    }
   },
   "id": "9f14dfeecf060c11",
   "execution_count": 45
  },
  {
   "cell_type": "code",
   "outputs": [
    {
     "data": {
      "text/plain": "100"
     },
     "execution_count": 46,
     "metadata": {},
     "output_type": "execute_result"
    }
   ],
   "source": [
    "len(pairs)"
   ],
   "metadata": {
    "collapsed": false,
    "ExecuteTime": {
     "end_time": "2024-04-25T18:28:05.400061Z",
     "start_time": "2024-04-25T18:28:05.395774Z"
    }
   },
   "id": "1518d5e2db86eb47",
   "execution_count": 46
  },
  {
   "cell_type": "markdown",
   "source": [
    "#### MCSSelector"
   ],
   "metadata": {
    "collapsed": false
   },
   "id": "aba14008fc7868ca"
  },
  {
   "cell_type": "code",
   "outputs": [],
   "source": [
    "selector = StructureSelector('MCSSelector').selector_cls()"
   ],
   "metadata": {
    "collapsed": false,
    "ExecuteTime": {
     "end_time": "2024-04-25T18:28:05.406604Z",
     "start_time": "2024-04-25T18:28:05.403445Z"
    }
   },
   "id": "a2de81ea7cb5193e",
   "execution_count": 47
  },
  {
   "cell_type": "code",
   "outputs": [
    {
     "name": "stderr",
     "output_type": "stream",
     "text": [
      "Warning: OE3DToAtomStereo is unable to perceive atom stereo from a flat geometry on atom 8 of molecule 'LIG'\n",
      "Warning: OE3DToAtomStereo had a problem during conformation test 'LIG'\n",
      "Warning: OE3DToAtomStereo is unable to perceive atom stereo from a flat geometry on atom 8 of molecule 'LIG'\n",
      "Warning: OE3DToAtomStereo had a problem during conformation test 'LIG'\n",
      "Warning: OE3DToAtomStereo is unable to perceive atom stereo from a flat geometry on atom 8 of molecule 'LIG'\n",
      "Warning: OE3DToAtomStereo had a problem during conformation test 'LIG'\n",
      "Warning: OE3DToAtomStereo is unable to perceive atom stereo from a flat geometry on atom 8 of molecule 'LIG'\n",
      "Warning: OE3DToAtomStereo had a problem during conformation test 'LIG'\n",
      "Warning: OE3DToAtomStereo is unable to perceive atom stereo from a flat geometry on atom 8 of molecule 'LIG'\n",
      "Warning: OE3DToAtomStereo had a problem during conformation test 'LIG'\n",
      "Warning: OE3DToAtomStereo is unable to perceive atom stereo from a flat geometry on atom 8 of molecule 'LIG'\n",
      "Warning: OE3DToAtomStereo had a problem during conformation test 'LIG'\n",
      "Warning: OE3DToAtomStereo is unable to perceive atom stereo from a flat geometry on atom 8 of molecule 'LIG'\n",
      "Warning: OE3DToAtomStereo had a problem during conformation test 'LIG'\n",
      "Warning: OE3DToAtomStereo is unable to perceive atom stereo from a flat geometry on atom 8 of molecule 'LIG'\n",
      "Warning: OE3DToAtomStereo had a problem during conformation test 'LIG'\n",
      "Warning: OE3DToAtomStereo is unable to perceive atom stereo from a flat geometry on atom 8 of molecule 'LIG'\n",
      "Warning: OE3DToAtomStereo had a problem during conformation test 'LIG'\n",
      "Warning: OE3DToAtomStereo is unable to perceive atom stereo from a flat geometry on atom 8 of molecule 'LIG'\n",
      "Warning: OE3DToAtomStereo had a problem during conformation test 'LIG'\n",
      "Warning: OE3DToAtomStereo is unable to perceive atom stereo from a flat geometry on atom 8 of molecule 'LIG'\n",
      "Warning: OE3DToAtomStereo had a problem during conformation test 'LIG'\n"
     ]
    }
   ],
   "source": [
    "pairs = selector.select(ligands, complexes, n_select=5)"
   ],
   "metadata": {
    "collapsed": false,
    "ExecuteTime": {
     "end_time": "2024-04-25T18:28:05.492978Z",
     "start_time": "2024-04-25T18:28:05.408490Z"
    }
   },
   "id": "8cf6e9ffdd576126",
   "execution_count": 48
  },
  {
   "cell_type": "code",
   "outputs": [
    {
     "data": {
      "text/plain": "50"
     },
     "execution_count": 49,
     "metadata": {},
     "output_type": "execute_result"
    }
   ],
   "source": [
    "len(pairs)"
   ],
   "metadata": {
    "collapsed": false,
    "ExecuteTime": {
     "end_time": "2024-04-25T18:28:05.498923Z",
     "start_time": "2024-04-25T18:28:05.494563Z"
    }
   },
   "id": "bb800d955cf5bb9d",
   "execution_count": 49
  },
  {
   "cell_type": "markdown",
   "source": [
    "#### LeaveSimilarOutSelector"
   ],
   "metadata": {
    "collapsed": false
   },
   "id": "725e4d271720a847"
  },
  {
   "cell_type": "markdown",
   "source": [
    "This one is nice for doing science - it filters out pairs where the ligand is a stereoisomer / tautomer / protonation state isomer / etc of the complex ligand. It can take a while though because it has to do an len(ligands) * len(complexes) pairwise comparison of all those chemical possibilities. "
   ],
   "metadata": {
    "collapsed": false
   },
   "id": "d5a1804e89458fed"
  },
  {
   "cell_type": "code",
   "outputs": [],
   "source": [
    "selector = StructureSelector('LeaveSimilarOutSelector').selector_cls()"
   ],
   "metadata": {
    "collapsed": false,
    "ExecuteTime": {
     "end_time": "2024-04-25T18:28:05.503935Z",
     "start_time": "2024-04-25T18:28:05.500897Z"
    }
   },
   "id": "e96cfc897fa52cdd",
   "execution_count": 50
  },
  {
   "cell_type": "code",
   "outputs": [
    {
     "name": "stderr",
     "output_type": "stream",
     "text": [
      "Warning: OE3DToAtomStereo is unable to perceive atom stereo from a flat geometry on atom 8 of molecule 'LIG'\n",
      "Warning: OE3DToAtomStereo had a problem during conformation test 'LIG'\n",
      "Warning: OE3DToAtomStereo is unable to perceive atom stereo from a flat geometry on atom 8 of molecule 'LIG'\n",
      "Warning: OE3DToAtomStereo had a problem during conformation test 'LIG'\n",
      "Warning: OE3DToAtomStereo is unable to perceive atom stereo from a flat geometry on atom 8 of molecule 'LIG'\n",
      "Warning: OE3DToAtomStereo had a problem during conformation test 'LIG'\n",
      "Warning: OE3DToAtomStereo is unable to perceive atom stereo from a flat geometry on atom 8 of molecule 'LIG'\n",
      "Warning: OE3DToAtomStereo had a problem during conformation test 'LIG'\n",
      "Warning: OE3DToAtomStereo is unable to perceive atom stereo from a flat geometry on atom 8 of molecule 'LIG'\n",
      "Warning: OE3DToAtomStereo had a problem during conformation test 'LIG'\n",
      "Warning: OE3DToAtomStereo is unable to perceive atom stereo from a flat geometry on atom 8 of molecule 'LIG'\n",
      "Warning: OE3DToAtomStereo had a problem during conformation test 'LIG'\n",
      "Warning: OE3DToAtomStereo is unable to perceive atom stereo from a flat geometry on atom 8 of molecule 'LIG'\n",
      "Warning: OE3DToAtomStereo had a problem during conformation test 'LIG'\n",
      "Warning: OE3DToAtomStereo is unable to perceive atom stereo from a flat geometry on atom 8 of molecule 'LIG'\n",
      "Warning: OE3DToAtomStereo had a problem during conformation test 'LIG'\n",
      "Warning: OE3DToAtomStereo is unable to perceive atom stereo from a flat geometry on atom 8 of molecule 'LIG'\n",
      "Warning: OE3DToAtomStereo had a problem during conformation test 'LIG'\n",
      "Warning: OE3DToAtomStereo is unable to perceive atom stereo from a flat geometry on atom 8 of molecule 'LIG'\n",
      "Warning: OE3DToAtomStereo had a problem during conformation test 'LIG'\n",
      "Warning: OE3DToAtomStereo is unable to perceive atom stereo from a flat geometry on atom 8 of molecule 'LIG'\n",
      "Warning: OE3DToAtomStereo had a problem during conformation test 'LIG'\n",
      "Warning: OE3DToAtomStereo is unable to perceive atom stereo from a flat geometry on atom 8 of molecule 'LIG'\n",
      "Warning: OE3DToAtomStereo had a problem during conformation test 'LIG'\n",
      "Warning: OE3DToAtomStereo is unable to perceive atom stereo from a flat geometry on atom 8 of molecule 'LIG'\n",
      "Warning: OE3DToAtomStereo had a problem during conformation test 'LIG'\n",
      "Warning: OE3DToAtomStereo is unable to perceive atom stereo from a flat geometry on atom 8 of molecule 'LIG'\n",
      "Warning: OE3DToAtomStereo had a problem during conformation test 'LIG'\n",
      "Warning: OE3DToAtomStereo is unable to perceive atom stereo from a flat geometry on atom 8 of molecule 'LIG'\n",
      "Warning: OE3DToAtomStereo had a problem during conformation test 'LIG'\n",
      "Warning: OE3DToAtomStereo is unable to perceive atom stereo from a flat geometry on atom 8 of molecule 'LIG'\n",
      "Warning: OE3DToAtomStereo had a problem during conformation test 'LIG'\n",
      "Warning: OE3DToAtomStereo is unable to perceive atom stereo from a flat geometry on atom 8 of molecule 'LIG'\n",
      "Warning: OE3DToAtomStereo had a problem during conformation test 'LIG'\n",
      "Warning: OE3DToAtomStereo is unable to perceive atom stereo from a flat geometry on atom 8 of molecule 'LIG'\n",
      "Warning: OE3DToAtomStereo had a problem during conformation test 'LIG'\n",
      "Warning: OE3DToAtomStereo is unable to perceive atom stereo from a flat geometry on atom 8 of molecule 'LIG'\n",
      "Warning: OE3DToAtomStereo had a problem during conformation test 'LIG'\n",
      "Warning: OE3DToAtomStereo is unable to perceive atom stereo from a flat geometry on atom 8 of molecule 'LIG'\n",
      "Warning: OE3DToAtomStereo had a problem during conformation test 'LIG'\n",
      "Warning: OE3DToAtomStereo is unable to perceive atom stereo from a flat geometry on atom 8 of molecule 'LIG'\n",
      "Warning: OE3DToAtomStereo had a problem during conformation test 'LIG'\n",
      "Warning: OE3DToAtomStereo is unable to perceive atom stereo from a flat geometry on atom 8 of molecule 'LIG'\n",
      "Warning: OE3DToAtomStereo had a problem during conformation test 'LIG'\n",
      "Warning: OE3DToAtomStereo is unable to perceive atom stereo from a flat geometry on atom 8 of molecule 'LIG'\n",
      "Warning: OE3DToAtomStereo had a problem during conformation test 'LIG'\n",
      "Warning: OE3DToAtomStereo is unable to perceive atom stereo from a flat geometry on atom 8 of molecule 'LIG'\n",
      "Warning: OE3DToAtomStereo had a problem during conformation test 'LIG'\n",
      "Warning: OE3DToAtomStereo is unable to perceive atom stereo from a flat geometry on atom 8 of molecule 'LIG'\n",
      "Warning: OE3DToAtomStereo had a problem during conformation test 'LIG'\n",
      "Warning: OE3DToAtomStereo is unable to perceive atom stereo from a flat geometry on atom 8 of molecule 'LIG'\n",
      "Warning: OE3DToAtomStereo had a problem during conformation test 'LIG'\n",
      "Warning: OE3DToAtomStereo is unable to perceive atom stereo from a flat geometry on atom 8 of molecule 'LIG'\n",
      "Warning: OE3DToAtomStereo had a problem during conformation test 'LIG'\n",
      "Warning: OE3DToAtomStereo is unable to perceive atom stereo from a flat geometry on atom 8 of molecule 'LIG'\n",
      "Warning: OE3DToAtomStereo had a problem during conformation test 'LIG'\n",
      "Warning: OE3DToAtomStereo is unable to perceive atom stereo from a flat geometry on atom 8 of molecule 'LIG'\n",
      "Warning: OE3DToAtomStereo had a problem during conformation test 'LIG'\n",
      "Warning: OE3DToAtomStereo is unable to perceive atom stereo from a flat geometry on atom 8 of molecule 'LIG'\n",
      "Warning: OE3DToAtomStereo had a problem during conformation test 'LIG'\n",
      "Warning: OE3DToAtomStereo is unable to perceive atom stereo from a flat geometry on atom 8 of molecule 'LIG'\n",
      "Warning: OE3DToAtomStereo had a problem during conformation test 'LIG'\n",
      "Warning: OE3DToAtomStereo is unable to perceive atom stereo from a flat geometry on atom 8 of molecule 'LIG'\n",
      "Warning: OE3DToAtomStereo had a problem during conformation test 'LIG'\n",
      "Warning: OE3DToAtomStereo is unable to perceive atom stereo from a flat geometry on atom 8 of molecule 'LIG'\n",
      "Warning: OE3DToAtomStereo had a problem during conformation test 'LIG'\n",
      "Warning: OE3DToAtomStereo is unable to perceive atom stereo from a flat geometry on atom 8 of molecule 'LIG'\n",
      "Warning: OE3DToAtomStereo had a problem during conformation test 'LIG'\n",
      "Warning: OE3DToAtomStereo is unable to perceive atom stereo from a flat geometry on atom 8 of molecule 'LIG'\n",
      "Warning: OE3DToAtomStereo had a problem during conformation test 'LIG'\n",
      "Warning: OE3DToAtomStereo is unable to perceive atom stereo from a flat geometry on atom 8 of molecule 'LIG'\n",
      "Warning: OE3DToAtomStereo had a problem during conformation test 'LIG'\n",
      "Warning: OE3DToAtomStereo is unable to perceive atom stereo from a flat geometry on atom 8 of molecule 'LIG'\n",
      "Warning: OE3DToAtomStereo had a problem during conformation test 'LIG'\n",
      "Warning: OE3DToAtomStereo is unable to perceive atom stereo from a flat geometry on atom 8 of molecule 'LIG'\n",
      "Warning: OE3DToAtomStereo had a problem during conformation test 'LIG'\n",
      "Warning: OE3DToAtomStereo is unable to perceive atom stereo from a flat geometry on atom 8 of molecule 'LIG'\n",
      "Warning: OE3DToAtomStereo had a problem during conformation test 'LIG'\n",
      "Warning: OE3DToAtomStereo is unable to perceive atom stereo from a flat geometry on atom 8 of molecule 'LIG'\n",
      "Warning: OE3DToAtomStereo had a problem during conformation test 'LIG'\n",
      "Warning: OE3DToAtomStereo is unable to perceive atom stereo from a flat geometry on atom 8 of molecule 'LIG'\n",
      "Warning: OE3DToAtomStereo had a problem during conformation test 'LIG'\n",
      "Warning: OE3DToAtomStereo is unable to perceive atom stereo from a flat geometry on atom 8 of molecule 'LIG'\n",
      "Warning: OE3DToAtomStereo had a problem during conformation test 'LIG'\n",
      "Warning: OE3DToAtomStereo is unable to perceive atom stereo from a flat geometry on atom 8 of molecule 'LIG'\n",
      "Warning: OE3DToAtomStereo had a problem during conformation test 'LIG'\n",
      "Warning: OE3DToAtomStereo is unable to perceive atom stereo from a flat geometry on atom 8 of molecule 'LIG'\n",
      "Warning: OE3DToAtomStereo had a problem during conformation test 'LIG'\n",
      "Warning: OE3DToAtomStereo is unable to perceive atom stereo from a flat geometry on atom 8 of molecule 'LIG'\n",
      "Warning: OE3DToAtomStereo had a problem during conformation test 'LIG'\n",
      "Warning: OE3DToAtomStereo is unable to perceive atom stereo from a flat geometry on atom 8 of molecule 'LIG'\n",
      "Warning: OE3DToAtomStereo had a problem during conformation test 'LIG'\n",
      "Warning: OE3DToAtomStereo is unable to perceive atom stereo from a flat geometry on atom 8 of molecule 'LIG'\n",
      "Warning: OE3DToAtomStereo had a problem during conformation test 'LIG'\n",
      "Warning: OE3DToAtomStereo is unable to perceive atom stereo from a flat geometry on atom 8 of molecule 'LIG'\n",
      "Warning: OE3DToAtomStereo had a problem during conformation test 'LIG'\n",
      "Warning: OE3DToAtomStereo is unable to perceive atom stereo from a flat geometry on atom 8 of molecule 'LIG'\n",
      "Warning: OE3DToAtomStereo had a problem during conformation test 'LIG'\n",
      "Warning: OE3DToAtomStereo is unable to perceive atom stereo from a flat geometry on atom 8 of molecule 'LIG'\n",
      "Warning: OE3DToAtomStereo had a problem during conformation test 'LIG'\n",
      "Warning: OE3DToAtomStereo is unable to perceive atom stereo from a flat geometry on atom 8 of molecule 'LIG'\n",
      "Warning: OE3DToAtomStereo had a problem during conformation test 'LIG'\n",
      "Warning: OE3DToAtomStereo is unable to perceive atom stereo from a flat geometry on atom 8 of molecule 'LIG'\n",
      "Warning: OE3DToAtomStereo had a problem during conformation test 'LIG'\n",
      "Warning: OE3DToAtomStereo is unable to perceive atom stereo from a flat geometry on atom 8 of molecule 'LIG'\n",
      "Warning: OE3DToAtomStereo had a problem during conformation test 'LIG'\n",
      "Warning: OE3DToAtomStereo is unable to perceive atom stereo from a flat geometry on atom 8 of molecule 'LIG'\n",
      "Warning: OE3DToAtomStereo had a problem during conformation test 'LIG'\n",
      "Warning: OE3DToAtomStereo is unable to perceive atom stereo from a flat geometry on atom 8 of molecule 'LIG'\n",
      "Warning: OE3DToAtomStereo had a problem during conformation test 'LIG'\n",
      "Warning: OE3DToAtomStereo is unable to perceive atom stereo from a flat geometry on atom 8 of molecule 'LIG'\n",
      "Warning: OE3DToAtomStereo had a problem during conformation test 'LIG'\n",
      "Warning: OE3DToAtomStereo is unable to perceive atom stereo from a flat geometry on atom 8 of molecule 'LIG'\n",
      "Warning: OE3DToAtomStereo had a problem during conformation test 'LIG'\n",
      "Warning: OE3DToAtomStereo is unable to perceive atom stereo from a flat geometry on atom 8 of molecule 'LIG'\n",
      "Warning: OE3DToAtomStereo had a problem during conformation test 'LIG'\n",
      "Warning: OE3DToAtomStereo is unable to perceive atom stereo from a flat geometry on atom 8 of molecule 'LIG'\n",
      "Warning: OE3DToAtomStereo had a problem during conformation test 'LIG'\n",
      "Warning: OE3DToAtomStereo is unable to perceive atom stereo from a flat geometry on atom 8 of molecule 'LIG'\n",
      "Warning: OE3DToAtomStereo had a problem during conformation test 'LIG'\n",
      "Warning: OE3DToAtomStereo is unable to perceive atom stereo from a flat geometry on atom 8 of molecule 'LIG'\n",
      "Warning: OE3DToAtomStereo had a problem during conformation test 'LIG'\n",
      "Warning: OE3DToAtomStereo is unable to perceive atom stereo from a flat geometry on atom 8 of molecule 'LIG'\n",
      "Warning: OE3DToAtomStereo had a problem during conformation test 'LIG'\n",
      "Warning: OE3DToAtomStereo is unable to perceive atom stereo from a flat geometry on atom 8 of molecule 'LIG'\n",
      "Warning: OE3DToAtomStereo had a problem during conformation test 'LIG'\n",
      "Warning: OE3DToAtomStereo is unable to perceive atom stereo from a flat geometry on atom 8 of molecule 'LIG'\n",
      "Warning: OE3DToAtomStereo had a problem during conformation test 'LIG'\n",
      "Warning: OE3DToAtomStereo is unable to perceive atom stereo from a flat geometry on atom 8 of molecule 'LIG'\n",
      "Warning: OE3DToAtomStereo had a problem during conformation test 'LIG'\n",
      "Warning: OE3DToAtomStereo is unable to perceive atom stereo from a flat geometry on atom 8 of molecule 'LIG'\n",
      "Warning: OE3DToAtomStereo had a problem during conformation test 'LIG'\n",
      "Warning: OE3DToAtomStereo is unable to perceive atom stereo from a flat geometry on atom 8 of molecule 'LIG'\n",
      "Warning: OE3DToAtomStereo had a problem during conformation test 'LIG'\n",
      "Warning: OE3DToAtomStereo is unable to perceive atom stereo from a flat geometry on atom 8 of molecule 'LIG'\n",
      "Warning: OE3DToAtomStereo had a problem during conformation test 'LIG'\n",
      "Warning: OE3DToAtomStereo is unable to perceive atom stereo from a flat geometry on atom 8 of molecule 'LIG'\n",
      "Warning: OE3DToAtomStereo had a problem during conformation test 'LIG'\n",
      "Warning: OE3DToAtomStereo is unable to perceive atom stereo from a flat geometry on atom 8 of molecule 'LIG'\n",
      "Warning: OE3DToAtomStereo had a problem during conformation test 'LIG'\n",
      "Warning: OE3DToAtomStereo is unable to perceive atom stereo from a flat geometry on atom 8 of molecule 'LIG'\n",
      "Warning: OE3DToAtomStereo had a problem during conformation test 'LIG'\n",
      "Warning: OE3DToAtomStereo is unable to perceive atom stereo from a flat geometry on atom 8 of molecule 'LIG'\n",
      "Warning: OE3DToAtomStereo had a problem during conformation test 'LIG'\n",
      "Warning: OE3DToAtomStereo is unable to perceive atom stereo from a flat geometry on atom 8 of molecule 'LIG'\n",
      "Warning: OE3DToAtomStereo had a problem during conformation test 'LIG'\n",
      "Warning: OE3DToAtomStereo is unable to perceive atom stereo from a flat geometry on atom 8 of molecule 'LIG'\n",
      "Warning: OE3DToAtomStereo had a problem during conformation test 'LIG'\n",
      "Warning: OE3DToAtomStereo is unable to perceive atom stereo from a flat geometry on atom 8 of molecule 'LIG'\n",
      "Warning: OE3DToAtomStereo had a problem during conformation test 'LIG'\n",
      "Warning: OE3DToAtomStereo is unable to perceive atom stereo from a flat geometry on atom 8 of molecule 'LIG'\n",
      "Warning: OE3DToAtomStereo had a problem during conformation test 'LIG'\n",
      "Warning: OE3DToAtomStereo is unable to perceive atom stereo from a flat geometry on atom 8 of molecule 'LIG'\n",
      "Warning: OE3DToAtomStereo had a problem during conformation test 'LIG'\n",
      "Warning: OE3DToAtomStereo is unable to perceive atom stereo from a flat geometry on atom 8 of molecule 'LIG'\n",
      "Warning: OE3DToAtomStereo had a problem during conformation test 'LIG'\n",
      "Warning: OE3DToAtomStereo is unable to perceive atom stereo from a flat geometry on atom 8 of molecule 'LIG'\n",
      "Warning: OE3DToAtomStereo had a problem during conformation test 'LIG'\n",
      "Warning: OE3DToAtomStereo is unable to perceive atom stereo from a flat geometry on atom 8 of molecule 'LIG'\n",
      "Warning: OE3DToAtomStereo had a problem during conformation test 'LIG'\n",
      "Warning: OE3DToAtomStereo is unable to perceive atom stereo from a flat geometry on atom 8 of molecule 'LIG'\n",
      "Warning: OE3DToAtomStereo had a problem during conformation test 'LIG'\n",
      "Warning: OE3DToAtomStereo is unable to perceive atom stereo from a flat geometry on atom 8 of molecule 'LIG'\n",
      "Warning: OE3DToAtomStereo had a problem during conformation test 'LIG'\n",
      "Warning: OE3DToAtomStereo is unable to perceive atom stereo from a flat geometry on atom 8 of molecule 'LIG'\n",
      "Warning: OE3DToAtomStereo had a problem during conformation test 'LIG'\n",
      "Warning: OE3DToAtomStereo is unable to perceive atom stereo from a flat geometry on atom 8 of molecule 'LIG'\n",
      "Warning: OE3DToAtomStereo had a problem during conformation test 'LIG'\n",
      "Warning: OE3DToAtomStereo is unable to perceive atom stereo from a flat geometry on atom 8 of molecule 'LIG'\n",
      "Warning: OE3DToAtomStereo had a problem during conformation test 'LIG'\n",
      "Warning: OE3DToAtomStereo is unable to perceive atom stereo from a flat geometry on atom 8 of molecule 'LIG'\n",
      "Warning: OE3DToAtomStereo had a problem during conformation test 'LIG'\n",
      "Warning: OE3DToAtomStereo is unable to perceive atom stereo from a flat geometry on atom 8 of molecule 'LIG'\n",
      "Warning: OE3DToAtomStereo had a problem during conformation test 'LIG'\n",
      "Warning: OE3DToAtomStereo is unable to perceive atom stereo from a flat geometry on atom 8 of molecule 'LIG'\n",
      "Warning: OE3DToAtomStereo had a problem during conformation test 'LIG'\n",
      "Warning: OE3DToAtomStereo is unable to perceive atom stereo from a flat geometry on atom 8 of molecule 'LIG'\n",
      "Warning: OE3DToAtomStereo had a problem during conformation test 'LIG'\n",
      "Warning: OE3DToAtomStereo is unable to perceive atom stereo from a flat geometry on atom 8 of molecule 'LIG'\n",
      "Warning: OE3DToAtomStereo had a problem during conformation test 'LIG'\n",
      "Warning: OE3DToAtomStereo is unable to perceive atom stereo from a flat geometry on atom 8 of molecule 'LIG'\n",
      "Warning: OE3DToAtomStereo had a problem during conformation test 'LIG'\n",
      "Warning: OE3DToAtomStereo is unable to perceive atom stereo from a flat geometry on atom 8 of molecule 'LIG'\n",
      "Warning: OE3DToAtomStereo had a problem during conformation test 'LIG'\n",
      "Warning: OE3DToAtomStereo is unable to perceive atom stereo from a flat geometry on atom 8 of molecule 'LIG'\n",
      "Warning: OE3DToAtomStereo had a problem during conformation test 'LIG'\n",
      "Warning: OE3DToAtomStereo is unable to perceive atom stereo from a flat geometry on atom 8 of molecule 'LIG'\n",
      "Warning: OE3DToAtomStereo had a problem during conformation test 'LIG'\n",
      "Warning: OE3DToAtomStereo is unable to perceive atom stereo from a flat geometry on atom 8 of molecule 'LIG'\n",
      "Warning: OE3DToAtomStereo had a problem during conformation test 'LIG'\n",
      "Warning: OE3DToAtomStereo is unable to perceive atom stereo from a flat geometry on atom 8 of molecule 'LIG'\n",
      "Warning: OE3DToAtomStereo had a problem during conformation test 'LIG'\n",
      "Warning: OE3DToAtomStereo is unable to perceive atom stereo from a flat geometry on atom 8 of molecule 'LIG'\n",
      "Warning: OE3DToAtomStereo had a problem during conformation test 'LIG'\n",
      "Warning: OE3DToAtomStereo is unable to perceive atom stereo from a flat geometry on atom 8 of molecule 'LIG'\n",
      "Warning: OE3DToAtomStereo had a problem during conformation test 'LIG'\n",
      "Warning: OE3DToAtomStereo is unable to perceive atom stereo from a flat geometry on atom 8 of molecule 'LIG'\n",
      "Warning: OE3DToAtomStereo had a problem during conformation test 'LIG'\n",
      "Warning: OE3DToAtomStereo is unable to perceive atom stereo from a flat geometry on atom 8 of molecule 'LIG'\n",
      "Warning: OE3DToAtomStereo had a problem during conformation test 'LIG'\n",
      "Warning: OE3DToAtomStereo is unable to perceive atom stereo from a flat geometry on atom 8 of molecule 'LIG'\n",
      "Warning: OE3DToAtomStereo had a problem during conformation test 'LIG'\n",
      "Warning: OE3DToAtomStereo is unable to perceive atom stereo from a flat geometry on atom 8 of molecule 'LIG'\n",
      "Warning: OE3DToAtomStereo had a problem during conformation test 'LIG'\n",
      "Warning: OE3DToAtomStereo is unable to perceive atom stereo from a flat geometry on atom 8 of molecule 'LIG'\n",
      "Warning: OE3DToAtomStereo had a problem during conformation test 'LIG'\n",
      "Warning: OE3DToAtomStereo is unable to perceive atom stereo from a flat geometry on atom 8 of molecule 'LIG'\n",
      "Warning: OE3DToAtomStereo had a problem during conformation test 'LIG'\n",
      "Warning: OE3DToAtomStereo is unable to perceive atom stereo from a flat geometry on atom 8 of molecule 'LIG'\n",
      "Warning: OE3DToAtomStereo had a problem during conformation test 'LIG'\n",
      "Warning: OE3DToAtomStereo is unable to perceive atom stereo from a flat geometry on atom 8 of molecule 'LIG'\n",
      "Warning: OE3DToAtomStereo had a problem during conformation test 'LIG'\n",
      "Warning: OE3DToAtomStereo is unable to perceive atom stereo from a flat geometry on atom 8 of molecule 'LIG'\n",
      "Warning: OE3DToAtomStereo had a problem during conformation test 'LIG'\n",
      "Warning: OE3DToAtomStereo is unable to perceive atom stereo from a flat geometry on atom 8 of molecule 'LIG'\n",
      "Warning: OE3DToAtomStereo had a problem during conformation test 'LIG'\n",
      "Warning: OE3DToAtomStereo is unable to perceive atom stereo from a flat geometry on atom 8 of molecule 'LIG'\n",
      "Warning: OE3DToAtomStereo had a problem during conformation test 'LIG'\n",
      "Warning: OE3DToAtomStereo is unable to perceive atom stereo from a flat geometry on atom 8 of molecule 'LIG'\n",
      "Warning: OE3DToAtomStereo had a problem during conformation test 'LIG'\n",
      "Warning: OE3DToAtomStereo is unable to perceive atom stereo from a flat geometry on atom 8 of molecule 'LIG'\n",
      "Warning: OE3DToAtomStereo had a problem during conformation test 'LIG'\n",
      "Warning: OE3DToAtomStereo is unable to perceive atom stereo from a flat geometry on atom 8 of molecule 'LIG'\n",
      "Warning: OE3DToAtomStereo had a problem during conformation test 'LIG'\n",
      "Warning: OE3DToAtomStereo is unable to perceive atom stereo from a flat geometry on atom 8 of molecule 'LIG'\n",
      "Warning: OE3DToAtomStereo had a problem during conformation test 'LIG'\n",
      "Warning: OE3DToAtomStereo is unable to perceive atom stereo from a flat geometry on atom 8 of molecule 'LIG'\n",
      "Warning: OE3DToAtomStereo had a problem during conformation test 'LIG'\n",
      "Warning: OE3DToAtomStereo is unable to perceive atom stereo from a flat geometry on atom 8 of molecule 'LIG'\n",
      "Warning: OE3DToAtomStereo had a problem during conformation test 'LIG'\n",
      "Warning: OE3DToAtomStereo is unable to perceive atom stereo from a flat geometry on atom 8 of molecule 'LIG'\n",
      "Warning: OE3DToAtomStereo had a problem during conformation test 'LIG'\n",
      "Warning: OE3DToAtomStereo is unable to perceive atom stereo from a flat geometry on atom 8 of molecule 'LIG'\n",
      "Warning: OE3DToAtomStereo had a problem during conformation test 'LIG'\n",
      "Warning: OE3DToAtomStereo is unable to perceive atom stereo from a flat geometry on atom 8 of molecule 'LIG'\n",
      "Warning: OE3DToAtomStereo had a problem during conformation test 'LIG'\n",
      "Warning: OE3DToAtomStereo is unable to perceive atom stereo from a flat geometry on atom 8 of molecule 'LIG'\n",
      "Warning: OE3DToAtomStereo had a problem during conformation test 'LIG'\n",
      "Warning: OE3DToAtomStereo is unable to perceive atom stereo from a flat geometry on atom 8 of molecule 'LIG'\n",
      "Warning: OE3DToAtomStereo had a problem during conformation test 'LIG'\n",
      "Warning: OE3DToAtomStereo is unable to perceive atom stereo from a flat geometry on atom 8 of molecule 'LIG'\n",
      "Warning: OE3DToAtomStereo had a problem during conformation test 'LIG'\n",
      "Warning: OE3DToAtomStereo is unable to perceive atom stereo from a flat geometry on atom 8 of molecule 'LIG'\n",
      "Warning: OE3DToAtomStereo had a problem during conformation test 'LIG'\n",
      "Warning: OE3DToAtomStereo is unable to perceive atom stereo from a flat geometry on atom 8 of molecule 'LIG'\n",
      "Warning: OE3DToAtomStereo had a problem during conformation test 'LIG'\n",
      "Warning: OE3DToAtomStereo is unable to perceive atom stereo from a flat geometry on atom 8 of molecule 'LIG'\n",
      "Warning: OE3DToAtomStereo had a problem during conformation test 'LIG'\n",
      "Warning: OE3DToAtomStereo is unable to perceive atom stereo from a flat geometry on atom 8 of molecule 'LIG'\n",
      "Warning: OE3DToAtomStereo had a problem during conformation test 'LIG'\n",
      "Warning: OE3DToAtomStereo is unable to perceive atom stereo from a flat geometry on atom 8 of molecule 'LIG'\n",
      "Warning: OE3DToAtomStereo had a problem during conformation test 'LIG'\n",
      "Warning: OE3DToAtomStereo is unable to perceive atom stereo from a flat geometry on atom 8 of molecule 'LIG'\n",
      "Warning: OE3DToAtomStereo had a problem during conformation test 'LIG'\n",
      "Warning: OE3DToAtomStereo is unable to perceive atom stereo from a flat geometry on atom 8 of molecule 'LIG'\n",
      "Warning: OE3DToAtomStereo had a problem during conformation test 'LIG'\n",
      "Warning: OE3DToAtomStereo is unable to perceive atom stereo from a flat geometry on atom 8 of molecule 'LIG'\n",
      "Warning: OE3DToAtomStereo had a problem during conformation test 'LIG'\n",
      "Warning: OE3DToAtomStereo is unable to perceive atom stereo from a flat geometry on atom 8 of molecule 'LIG'\n",
      "Warning: OE3DToAtomStereo had a problem during conformation test 'LIG'\n",
      "Warning: OE3DToAtomStereo is unable to perceive atom stereo from a flat geometry on atom 8 of molecule 'LIG'\n",
      "Warning: OE3DToAtomStereo had a problem during conformation test 'LIG'\n",
      "Warning: OE3DToAtomStereo is unable to perceive atom stereo from a flat geometry on atom 8 of molecule 'LIG'\n",
      "Warning: OE3DToAtomStereo had a problem during conformation test 'LIG'\n",
      "Warning: OE3DToAtomStereo is unable to perceive atom stereo from a flat geometry on atom 8 of molecule 'LIG'\n",
      "Warning: OE3DToAtomStereo had a problem during conformation test 'LIG'\n",
      "Warning: OE3DToAtomStereo is unable to perceive atom stereo from a flat geometry on atom 8 of molecule 'LIG'\n",
      "Warning: OE3DToAtomStereo had a problem during conformation test 'LIG'\n",
      "Warning: OE3DToAtomStereo is unable to perceive atom stereo from a flat geometry on atom 8 of molecule 'LIG'\n",
      "Warning: OE3DToAtomStereo had a problem during conformation test 'LIG'\n",
      "Warning: OE3DToAtomStereo is unable to perceive atom stereo from a flat geometry on atom 8 of molecule 'LIG'\n",
      "Warning: OE3DToAtomStereo had a problem during conformation test 'LIG'\n",
      "Warning: OE3DToAtomStereo is unable to perceive atom stereo from a flat geometry on atom 8 of molecule 'LIG'\n",
      "Warning: OE3DToAtomStereo had a problem during conformation test 'LIG'\n",
      "Warning: OE3DToAtomStereo is unable to perceive atom stereo from a flat geometry on atom 8 of molecule 'LIG'\n",
      "Warning: OE3DToAtomStereo had a problem during conformation test 'LIG'\n",
      "Warning: OE3DToAtomStereo is unable to perceive atom stereo from a flat geometry on atom 8 of molecule 'LIG'\n",
      "Warning: OE3DToAtomStereo had a problem during conformation test 'LIG'\n",
      "Warning: OE3DToAtomStereo is unable to perceive atom stereo from a flat geometry on atom 8 of molecule 'LIG'\n",
      "Warning: OE3DToAtomStereo had a problem during conformation test 'LIG'\n",
      "Warning: OE3DToAtomStereo is unable to perceive atom stereo from a flat geometry on atom 8 of molecule 'LIG'\n",
      "Warning: OE3DToAtomStereo had a problem during conformation test 'LIG'\n",
      "Warning: OE3DToAtomStereo is unable to perceive atom stereo from a flat geometry on atom 8 of molecule 'LIG'\n",
      "Warning: OE3DToAtomStereo had a problem during conformation test 'LIG'\n",
      "Warning: OE3DToAtomStereo is unable to perceive atom stereo from a flat geometry on atom 8 of molecule 'LIG'\n",
      "Warning: OE3DToAtomStereo had a problem during conformation test 'LIG'\n",
      "Warning: OE3DToAtomStereo is unable to perceive atom stereo from a flat geometry on atom 8 of molecule 'LIG'\n",
      "Warning: OE3DToAtomStereo had a problem during conformation test 'LIG'\n",
      "Warning: OE3DToAtomStereo is unable to perceive atom stereo from a flat geometry on atom 8 of molecule 'LIG'\n",
      "Warning: OE3DToAtomStereo had a problem during conformation test 'LIG'\n",
      "Warning: OE3DToAtomStereo is unable to perceive atom stereo from a flat geometry on atom 8 of molecule 'LIG'\n",
      "Warning: OE3DToAtomStereo had a problem during conformation test 'LIG'\n",
      "Warning: OE3DToAtomStereo is unable to perceive atom stereo from a flat geometry on atom 8 of molecule 'LIG'\n",
      "Warning: OE3DToAtomStereo had a problem during conformation test 'LIG'\n",
      "Warning: OE3DToAtomStereo is unable to perceive atom stereo from a flat geometry on atom 8 of molecule 'LIG'\n",
      "Warning: OE3DToAtomStereo had a problem during conformation test 'LIG'\n",
      "Warning: OE3DToAtomStereo is unable to perceive atom stereo from a flat geometry on atom 8 of molecule 'LIG'\n",
      "Warning: OE3DToAtomStereo had a problem during conformation test 'LIG'\n",
      "Warning: OE3DToAtomStereo is unable to perceive atom stereo from a flat geometry on atom 8 of molecule 'LIG'\n",
      "Warning: OE3DToAtomStereo had a problem during conformation test 'LIG'\n",
      "Warning: OE3DToAtomStereo is unable to perceive atom stereo from a flat geometry on atom 8 of molecule 'LIG'\n",
      "Warning: OE3DToAtomStereo had a problem during conformation test 'LIG'\n",
      "Warning: OE3DToAtomStereo is unable to perceive atom stereo from a flat geometry on atom 8 of molecule 'LIG'\n",
      "Warning: OE3DToAtomStereo had a problem during conformation test 'LIG'\n",
      "Warning: OE3DToAtomStereo is unable to perceive atom stereo from a flat geometry on atom 8 of molecule 'LIG'\n",
      "Warning: OE3DToAtomStereo had a problem during conformation test 'LIG'\n",
      "Warning: OE3DToAtomStereo is unable to perceive atom stereo from a flat geometry on atom 8 of molecule 'LIG'\n",
      "Warning: OE3DToAtomStereo had a problem during conformation test 'LIG'\n",
      "Warning: OE3DToAtomStereo is unable to perceive atom stereo from a flat geometry on atom 8 of molecule 'LIG'\n",
      "Warning: OE3DToAtomStereo had a problem during conformation test 'LIG'\n",
      "Warning: OE3DToAtomStereo is unable to perceive atom stereo from a flat geometry on atom 8 of molecule 'LIG'\n",
      "Warning: OE3DToAtomStereo had a problem during conformation test 'LIG'\n",
      "Warning: OE3DToAtomStereo is unable to perceive atom stereo from a flat geometry on atom 8 of molecule 'LIG'\n",
      "Warning: OE3DToAtomStereo had a problem during conformation test 'LIG'\n",
      "Warning: OE3DToAtomStereo is unable to perceive atom stereo from a flat geometry on atom 8 of molecule 'LIG'\n",
      "Warning: OE3DToAtomStereo had a problem during conformation test 'LIG'\n",
      "Warning: OE3DToAtomStereo is unable to perceive atom stereo from a flat geometry on atom 8 of molecule 'LIG'\n",
      "Warning: OE3DToAtomStereo had a problem during conformation test 'LIG'\n",
      "Warning: OE3DToAtomStereo is unable to perceive atom stereo from a flat geometry on atom 8 of molecule 'LIG'\n",
      "Warning: OE3DToAtomStereo had a problem during conformation test 'LIG'\n",
      "Warning: OE3DToAtomStereo is unable to perceive atom stereo from a flat geometry on atom 8 of molecule 'LIG'\n",
      "Warning: OE3DToAtomStereo had a problem during conformation test 'LIG'\n",
      "Warning: OE3DToAtomStereo is unable to perceive atom stereo from a flat geometry on atom 8 of molecule 'LIG'\n",
      "Warning: OE3DToAtomStereo had a problem during conformation test 'LIG'\n",
      "Warning: OE3DToAtomStereo is unable to perceive atom stereo from a flat geometry on atom 8 of molecule 'LIG'\n",
      "Warning: OE3DToAtomStereo had a problem during conformation test 'LIG'\n",
      "Warning: OE3DToAtomStereo is unable to perceive atom stereo from a flat geometry on atom 8 of molecule 'LIG'\n",
      "Warning: OE3DToAtomStereo had a problem during conformation test 'LIG'\n",
      "Warning: OE3DToAtomStereo is unable to perceive atom stereo from a flat geometry on atom 8 of molecule 'LIG'\n",
      "Warning: OE3DToAtomStereo had a problem during conformation test 'LIG'\n",
      "Warning: OE3DToAtomStereo is unable to perceive atom stereo from a flat geometry on atom 8 of molecule 'LIG'\n",
      "Warning: OE3DToAtomStereo had a problem during conformation test 'LIG'\n",
      "Warning: OE3DToAtomStereo is unable to perceive atom stereo from a flat geometry on atom 8 of molecule 'LIG'\n",
      "Warning: OE3DToAtomStereo had a problem during conformation test 'LIG'\n",
      "Warning: OE3DToAtomStereo is unable to perceive atom stereo from a flat geometry on atom 8 of molecule 'LIG'\n",
      "Warning: OE3DToAtomStereo had a problem during conformation test 'LIG'\n",
      "Warning: OE3DToAtomStereo is unable to perceive atom stereo from a flat geometry on atom 8 of molecule 'LIG'\n",
      "Warning: OE3DToAtomStereo had a problem during conformation test 'LIG'\n",
      "Warning: OE3DToAtomStereo is unable to perceive atom stereo from a flat geometry on atom 8 of molecule 'LIG'\n",
      "Warning: OE3DToAtomStereo had a problem during conformation test 'LIG'\n",
      "Warning: OE3DToAtomStereo is unable to perceive atom stereo from a flat geometry on atom 8 of molecule 'LIG'\n",
      "Warning: OE3DToAtomStereo had a problem during conformation test 'LIG'\n",
      "Warning: OE3DToAtomStereo is unable to perceive atom stereo from a flat geometry on atom 8 of molecule 'LIG'\n",
      "Warning: OE3DToAtomStereo had a problem during conformation test 'LIG'\n",
      "Warning: OE3DToAtomStereo is unable to perceive atom stereo from a flat geometry on atom 8 of molecule 'LIG'\n",
      "Warning: OE3DToAtomStereo had a problem during conformation test 'LIG'\n",
      "Warning: OE3DToAtomStereo is unable to perceive atom stereo from a flat geometry on atom 8 of molecule 'LIG'\n",
      "Warning: OE3DToAtomStereo had a problem during conformation test 'LIG'\n",
      "Warning: OE3DToAtomStereo is unable to perceive atom stereo from a flat geometry on atom 8 of molecule 'LIG'\n",
      "Warning: OE3DToAtomStereo had a problem during conformation test 'LIG'\n",
      "Warning: OE3DToAtomStereo is unable to perceive atom stereo from a flat geometry on atom 8 of molecule 'LIG'\n",
      "Warning: OE3DToAtomStereo had a problem during conformation test 'LIG'\n",
      "Warning: OE3DToAtomStereo is unable to perceive atom stereo from a flat geometry on atom 8 of molecule 'LIG'\n",
      "Warning: OE3DToAtomStereo had a problem during conformation test 'LIG'\n",
      "Warning: OE3DToAtomStereo is unable to perceive atom stereo from a flat geometry on atom 8 of molecule 'LIG'\n",
      "Warning: OE3DToAtomStereo had a problem during conformation test 'LIG'\n",
      "Warning: OE3DToAtomStereo is unable to perceive atom stereo from a flat geometry on atom 8 of molecule 'LIG'\n",
      "Warning: OE3DToAtomStereo had a problem during conformation test 'LIG'\n",
      "Warning: OE3DToAtomStereo is unable to perceive atom stereo from a flat geometry on atom 8 of molecule 'LIG'\n",
      "Warning: OE3DToAtomStereo had a problem during conformation test 'LIG'\n",
      "Warning: OE3DToAtomStereo is unable to perceive atom stereo from a flat geometry on atom 8 of molecule 'LIG'\n",
      "Warning: OE3DToAtomStereo had a problem during conformation test 'LIG'\n",
      "Warning: OE3DToAtomStereo is unable to perceive atom stereo from a flat geometry on atom 8 of molecule 'LIG'\n",
      "Warning: OE3DToAtomStereo had a problem during conformation test 'LIG'\n",
      "Warning: OE3DToAtomStereo is unable to perceive atom stereo from a flat geometry on atom 8 of molecule 'LIG'\n",
      "Warning: OE3DToAtomStereo had a problem during conformation test 'LIG'\n",
      "Warning: OE3DToAtomStereo is unable to perceive atom stereo from a flat geometry on atom 8 of molecule 'LIG'\n",
      "Warning: OE3DToAtomStereo had a problem during conformation test 'LIG'\n",
      "Warning: OE3DToAtomStereo is unable to perceive atom stereo from a flat geometry on atom 8 of molecule 'LIG'\n",
      "Warning: OE3DToAtomStereo had a problem during conformation test 'LIG'\n",
      "Warning: OE3DToAtomStereo is unable to perceive atom stereo from a flat geometry on atom 8 of molecule 'LIG'\n",
      "Warning: OE3DToAtomStereo had a problem during conformation test 'LIG'\n",
      "Warning: OE3DToAtomStereo is unable to perceive atom stereo from a flat geometry on atom 8 of molecule 'LIG'\n",
      "Warning: OE3DToAtomStereo had a problem during conformation test 'LIG'\n",
      "Warning: OE3DToAtomStereo is unable to perceive atom stereo from a flat geometry on atom 8 of molecule 'LIG'\n",
      "Warning: OE3DToAtomStereo had a problem during conformation test 'LIG'\n",
      "Warning: OE3DToAtomStereo is unable to perceive atom stereo from a flat geometry on atom 8 of molecule 'LIG'\n",
      "Warning: OE3DToAtomStereo had a problem during conformation test 'LIG'\n",
      "Warning: OE3DToAtomStereo is unable to perceive atom stereo from a flat geometry on atom 8 of molecule 'LIG'\n",
      "Warning: OE3DToAtomStereo had a problem during conformation test 'LIG'\n",
      "Warning: OE3DToAtomStereo is unable to perceive atom stereo from a flat geometry on atom 8 of molecule 'LIG'\n",
      "Warning: OE3DToAtomStereo had a problem during conformation test 'LIG'\n",
      "Warning: OE3DToAtomStereo is unable to perceive atom stereo from a flat geometry on atom 8 of molecule 'LIG'\n",
      "Warning: OE3DToAtomStereo had a problem during conformation test 'LIG'\n",
      "Warning: OE3DToAtomStereo is unable to perceive atom stereo from a flat geometry on atom 8 of molecule 'LIG'\n",
      "Warning: OE3DToAtomStereo had a problem during conformation test 'LIG'\n",
      "Warning: OE3DToAtomStereo is unable to perceive atom stereo from a flat geometry on atom 8 of molecule 'LIG'\n",
      "Warning: OE3DToAtomStereo had a problem during conformation test 'LIG'\n",
      "Warning: OE3DToAtomStereo is unable to perceive atom stereo from a flat geometry on atom 8 of molecule 'LIG'\n",
      "Warning: OE3DToAtomStereo had a problem during conformation test 'LIG'\n",
      "Warning: OE3DToAtomStereo is unable to perceive atom stereo from a flat geometry on atom 8 of molecule 'LIG'\n",
      "Warning: OE3DToAtomStereo had a problem during conformation test 'LIG'\n",
      "Warning: OE3DToAtomStereo is unable to perceive atom stereo from a flat geometry on atom 8 of molecule 'LIG'\n",
      "Warning: OE3DToAtomStereo had a problem during conformation test 'LIG'\n",
      "Warning: OE3DToAtomStereo is unable to perceive atom stereo from a flat geometry on atom 8 of molecule 'LIG'\n",
      "Warning: OE3DToAtomStereo had a problem during conformation test 'LIG'\n",
      "Warning: OE3DToAtomStereo is unable to perceive atom stereo from a flat geometry on atom 8 of molecule 'LIG'\n",
      "Warning: OE3DToAtomStereo had a problem during conformation test 'LIG'\n",
      "Warning: OE3DToAtomStereo is unable to perceive atom stereo from a flat geometry on atom 8 of molecule 'LIG'\n",
      "Warning: OE3DToAtomStereo had a problem during conformation test 'LIG'\n",
      "Warning: OE3DToAtomStereo is unable to perceive atom stereo from a flat geometry on atom 8 of molecule 'LIG'\n",
      "Warning: OE3DToAtomStereo had a problem during conformation test 'LIG'\n",
      "Warning: OE3DToAtomStereo is unable to perceive atom stereo from a flat geometry on atom 8 of molecule 'LIG'\n",
      "Warning: OE3DToAtomStereo had a problem during conformation test 'LIG'\n",
      "Warning: OE3DToAtomStereo is unable to perceive atom stereo from a flat geometry on atom 8 of molecule 'LIG'\n",
      "Warning: OE3DToAtomStereo had a problem during conformation test 'LIG'\n",
      "Warning: OE3DToAtomStereo is unable to perceive atom stereo from a flat geometry on atom 8 of molecule 'LIG'\n",
      "Warning: OE3DToAtomStereo had a problem during conformation test 'LIG'\n",
      "Warning: OE3DToAtomStereo is unable to perceive atom stereo from a flat geometry on atom 8 of molecule 'LIG'\n",
      "Warning: OE3DToAtomStereo had a problem during conformation test 'LIG'\n",
      "Warning: OE3DToAtomStereo is unable to perceive atom stereo from a flat geometry on atom 8 of molecule 'LIG'\n",
      "Warning: OE3DToAtomStereo had a problem during conformation test 'LIG'\n",
      "Warning: OE3DToAtomStereo is unable to perceive atom stereo from a flat geometry on atom 8 of molecule 'LIG'\n",
      "Warning: OE3DToAtomStereo had a problem during conformation test 'LIG'\n",
      "Warning: OE3DToAtomStereo is unable to perceive atom stereo from a flat geometry on atom 8 of molecule 'LIG'\n",
      "Warning: OE3DToAtomStereo had a problem during conformation test 'LIG'\n",
      "Warning: OE3DToAtomStereo is unable to perceive atom stereo from a flat geometry on atom 8 of molecule 'LIG'\n",
      "Warning: OE3DToAtomStereo had a problem during conformation test 'LIG'\n",
      "Warning: OE3DToAtomStereo is unable to perceive atom stereo from a flat geometry on atom 8 of molecule 'LIG'\n",
      "Warning: OE3DToAtomStereo had a problem during conformation test 'LIG'\n",
      "Warning: OE3DToAtomStereo is unable to perceive atom stereo from a flat geometry on atom 8 of molecule 'LIG'\n",
      "Warning: OE3DToAtomStereo had a problem during conformation test 'LIG'\n",
      "Warning: OE3DToAtomStereo is unable to perceive atom stereo from a flat geometry on atom 8 of molecule 'LIG'\n",
      "Warning: OE3DToAtomStereo had a problem during conformation test 'LIG'\n",
      "Warning: OE3DToAtomStereo is unable to perceive atom stereo from a flat geometry on atom 8 of molecule 'LIG'\n",
      "Warning: OE3DToAtomStereo had a problem during conformation test 'LIG'\n",
      "Warning: OE3DToAtomStereo is unable to perceive atom stereo from a flat geometry on atom 8 of molecule 'LIG'\n",
      "Warning: OE3DToAtomStereo had a problem during conformation test 'LIG'\n",
      "Warning: OE3DToAtomStereo is unable to perceive atom stereo from a flat geometry on atom 8 of molecule 'LIG'\n",
      "Warning: OE3DToAtomStereo had a problem during conformation test 'LIG'\n",
      "Warning: OE3DToAtomStereo is unable to perceive atom stereo from a flat geometry on atom 8 of molecule 'LIG'\n",
      "Warning: OE3DToAtomStereo had a problem during conformation test 'LIG'\n",
      "Warning: OE3DToAtomStereo is unable to perceive atom stereo from a flat geometry on atom 8 of molecule 'LIG'\n",
      "Warning: OE3DToAtomStereo had a problem during conformation test 'LIG'\n",
      "Warning: OE3DToAtomStereo is unable to perceive atom stereo from a flat geometry on atom 8 of molecule 'LIG'\n",
      "Warning: OE3DToAtomStereo had a problem during conformation test 'LIG'\n",
      "Warning: OE3DToAtomStereo is unable to perceive atom stereo from a flat geometry on atom 8 of molecule 'LIG'\n",
      "Warning: OE3DToAtomStereo had a problem during conformation test 'LIG'\n",
      "Warning: OE3DToAtomStereo is unable to perceive atom stereo from a flat geometry on atom 8 of molecule 'LIG'\n",
      "Warning: OE3DToAtomStereo had a problem during conformation test 'LIG'\n",
      "Warning: OE3DToAtomStereo is unable to perceive atom stereo from a flat geometry on atom 8 of molecule 'LIG'\n",
      "Warning: OE3DToAtomStereo had a problem during conformation test 'LIG'\n",
      "Warning: OE3DToAtomStereo is unable to perceive atom stereo from a flat geometry on atom 8 of molecule 'LIG'\n",
      "Warning: OE3DToAtomStereo had a problem during conformation test 'LIG'\n",
      "Warning: OE3DToAtomStereo is unable to perceive atom stereo from a flat geometry on atom 8 of molecule 'LIG'\n",
      "Warning: OE3DToAtomStereo had a problem during conformation test 'LIG'\n",
      "Warning: OE3DToAtomStereo is unable to perceive atom stereo from a flat geometry on atom 8 of molecule 'LIG'\n",
      "Warning: OE3DToAtomStereo had a problem during conformation test 'LIG'\n",
      "Warning: OE3DToAtomStereo is unable to perceive atom stereo from a flat geometry on atom 8 of molecule 'LIG'\n",
      "Warning: OE3DToAtomStereo had a problem during conformation test 'LIG'\n",
      "Warning: OE3DToAtomStereo is unable to perceive atom stereo from a flat geometry on atom 8 of molecule 'LIG'\n",
      "Warning: OE3DToAtomStereo had a problem during conformation test 'LIG'\n",
      "Warning: OE3DToAtomStereo is unable to perceive atom stereo from a flat geometry on atom 8 of molecule 'LIG'\n",
      "Warning: OE3DToAtomStereo had a problem during conformation test 'LIG'\n",
      "Warning: OE3DToAtomStereo is unable to perceive atom stereo from a flat geometry on atom 8 of molecule 'LIG'\n",
      "Warning: OE3DToAtomStereo had a problem during conformation test 'LIG'\n",
      "Warning: OE3DToAtomStereo is unable to perceive atom stereo from a flat geometry on atom 8 of molecule 'LIG'\n",
      "Warning: OE3DToAtomStereo had a problem during conformation test 'LIG'\n",
      "Warning: OE3DToAtomStereo is unable to perceive atom stereo from a flat geometry on atom 8 of molecule 'LIG'\n",
      "Warning: OE3DToAtomStereo had a problem during conformation test 'LIG'\n",
      "Warning: OE3DToAtomStereo is unable to perceive atom stereo from a flat geometry on atom 8 of molecule 'LIG'\n",
      "Warning: OE3DToAtomStereo had a problem during conformation test 'LIG'\n",
      "Warning: OE3DToAtomStereo is unable to perceive atom stereo from a flat geometry on atom 8 of molecule 'LIG'\n",
      "Warning: OE3DToAtomStereo had a problem during conformation test 'LIG'\n",
      "Warning: OE3DToAtomStereo is unable to perceive atom stereo from a flat geometry on atom 8 of molecule 'LIG'\n",
      "Warning: OE3DToAtomStereo had a problem during conformation test 'LIG'\n",
      "Warning: OE3DToAtomStereo is unable to perceive atom stereo from a flat geometry on atom 8 of molecule 'LIG'\n",
      "Warning: OE3DToAtomStereo had a problem during conformation test 'LIG'\n",
      "Warning: OE3DToAtomStereo is unable to perceive atom stereo from a flat geometry on atom 8 of molecule 'LIG'\n",
      "Warning: OE3DToAtomStereo had a problem during conformation test 'LIG'\n",
      "Warning: OE3DToAtomStereo is unable to perceive atom stereo from a flat geometry on atom 8 of molecule 'LIG'\n",
      "Warning: OE3DToAtomStereo had a problem during conformation test 'LIG'\n",
      "Warning: OE3DToAtomStereo is unable to perceive atom stereo from a flat geometry on atom 8 of molecule 'LIG'\n",
      "Warning: OE3DToAtomStereo had a problem during conformation test 'LIG'\n",
      "Warning: OE3DToAtomStereo is unable to perceive atom stereo from a flat geometry on atom 8 of molecule 'LIG'\n",
      "Warning: OE3DToAtomStereo had a problem during conformation test 'LIG'\n",
      "Warning: OE3DToAtomStereo is unable to perceive atom stereo from a flat geometry on atom 8 of molecule 'LIG'\n",
      "Warning: OE3DToAtomStereo had a problem during conformation test 'LIG'\n",
      "Warning: OE3DToAtomStereo is unable to perceive atom stereo from a flat geometry on atom 8 of molecule 'LIG'\n",
      "Warning: OE3DToAtomStereo had a problem during conformation test 'LIG'\n",
      "Warning: OE3DToAtomStereo is unable to perceive atom stereo from a flat geometry on atom 8 of molecule 'LIG'\n",
      "Warning: OE3DToAtomStereo had a problem during conformation test 'LIG'\n",
      "Warning: OE3DToAtomStereo is unable to perceive atom stereo from a flat geometry on atom 8 of molecule 'LIG'\n",
      "Warning: OE3DToAtomStereo had a problem during conformation test 'LIG'\n",
      "Warning: OE3DToAtomStereo is unable to perceive atom stereo from a flat geometry on atom 8 of molecule 'LIG'\n",
      "Warning: OE3DToAtomStereo had a problem during conformation test 'LIG'\n",
      "Warning: OE3DToAtomStereo is unable to perceive atom stereo from a flat geometry on atom 8 of molecule 'LIG'\n",
      "Warning: OE3DToAtomStereo had a problem during conformation test 'LIG'\n",
      "Warning: OE3DToAtomStereo is unable to perceive atom stereo from a flat geometry on atom 8 of molecule 'LIG'\n",
      "Warning: OE3DToAtomStereo had a problem during conformation test 'LIG'\n",
      "Warning: OE3DToAtomStereo is unable to perceive atom stereo from a flat geometry on atom 8 of molecule 'LIG'\n",
      "Warning: OE3DToAtomStereo had a problem during conformation test 'LIG'\n",
      "Warning: OE3DToAtomStereo is unable to perceive atom stereo from a flat geometry on atom 8 of molecule 'LIG'\n",
      "Warning: OE3DToAtomStereo had a problem during conformation test 'LIG'\n",
      "Warning: OE3DToAtomStereo is unable to perceive atom stereo from a flat geometry on atom 8 of molecule 'LIG'\n",
      "Warning: OE3DToAtomStereo had a problem during conformation test 'LIG'\n",
      "Warning: OE3DToAtomStereo is unable to perceive atom stereo from a flat geometry on atom 8 of molecule 'LIG'\n",
      "Warning: OE3DToAtomStereo had a problem during conformation test 'LIG'\n",
      "Warning: OE3DToAtomStereo is unable to perceive atom stereo from a flat geometry on atom 8 of molecule 'LIG'\n",
      "Warning: OE3DToAtomStereo had a problem during conformation test 'LIG'\n",
      "Warning: OE3DToAtomStereo is unable to perceive atom stereo from a flat geometry on atom 8 of molecule 'LIG'\n",
      "Warning: OE3DToAtomStereo had a problem during conformation test 'LIG'\n",
      "Warning: OE3DToAtomStereo is unable to perceive atom stereo from a flat geometry on atom 8 of molecule 'LIG'\n",
      "Warning: OE3DToAtomStereo had a problem during conformation test 'LIG'\n",
      "Warning: OE3DToAtomStereo is unable to perceive atom stereo from a flat geometry on atom 8 of molecule 'LIG'\n",
      "Warning: OE3DToAtomStereo had a problem during conformation test 'LIG'\n",
      "Warning: OE3DToAtomStereo is unable to perceive atom stereo from a flat geometry on atom 8 of molecule 'LIG'\n",
      "Warning: OE3DToAtomStereo had a problem during conformation test 'LIG'\n",
      "Warning: OE3DToAtomStereo is unable to perceive atom stereo from a flat geometry on atom 8 of molecule 'LIG'\n",
      "Warning: OE3DToAtomStereo had a problem during conformation test 'LIG'\n",
      "Warning: OE3DToAtomStereo is unable to perceive atom stereo from a flat geometry on atom 8 of molecule 'LIG'\n",
      "Warning: OE3DToAtomStereo had a problem during conformation test 'LIG'\n",
      "Warning: OE3DToAtomStereo is unable to perceive atom stereo from a flat geometry on atom 8 of molecule 'LIG'\n",
      "Warning: OE3DToAtomStereo had a problem during conformation test 'LIG'\n",
      "Warning: OE3DToAtomStereo is unable to perceive atom stereo from a flat geometry on atom 8 of molecule 'LIG'\n",
      "Warning: OE3DToAtomStereo had a problem during conformation test 'LIG'\n",
      "Warning: OE3DToAtomStereo is unable to perceive atom stereo from a flat geometry on atom 8 of molecule 'LIG'\n",
      "Warning: OE3DToAtomStereo had a problem during conformation test 'LIG'\n",
      "Warning: OE3DToAtomStereo is unable to perceive atom stereo from a flat geometry on atom 8 of molecule 'LIG'\n",
      "Warning: OE3DToAtomStereo had a problem during conformation test 'LIG'\n",
      "Warning: OE3DToAtomStereo is unable to perceive atom stereo from a flat geometry on atom 8 of molecule 'LIG'\n",
      "Warning: OE3DToAtomStereo had a problem during conformation test 'LIG'\n",
      "Warning: OE3DToAtomStereo is unable to perceive atom stereo from a flat geometry on atom 8 of molecule 'LIG'\n",
      "Warning: OE3DToAtomStereo had a problem during conformation test 'LIG'\n",
      "Warning: OE3DToAtomStereo is unable to perceive atom stereo from a flat geometry on atom 8 of molecule 'LIG'\n",
      "Warning: OE3DToAtomStereo had a problem during conformation test 'LIG'\n",
      "Warning: OE3DToAtomStereo is unable to perceive atom stereo from a flat geometry on atom 8 of molecule 'LIG'\n",
      "Warning: OE3DToAtomStereo had a problem during conformation test 'LIG'\n",
      "Warning: OE3DToAtomStereo is unable to perceive atom stereo from a flat geometry on atom 8 of molecule 'LIG'\n",
      "Warning: OE3DToAtomStereo had a problem during conformation test 'LIG'\n",
      "Warning: OE3DToAtomStereo is unable to perceive atom stereo from a flat geometry on atom 8 of molecule 'LIG'\n",
      "Warning: OE3DToAtomStereo had a problem during conformation test 'LIG'\n",
      "Warning: OE3DToAtomStereo is unable to perceive atom stereo from a flat geometry on atom 8 of molecule 'LIG'\n",
      "Warning: OE3DToAtomStereo had a problem during conformation test 'LIG'\n",
      "Warning: OE3DToAtomStereo is unable to perceive atom stereo from a flat geometry on atom 8 of molecule 'LIG'\n",
      "Warning: OE3DToAtomStereo had a problem during conformation test 'LIG'\n",
      "Warning: OE3DToAtomStereo is unable to perceive atom stereo from a flat geometry on atom 8 of molecule 'LIG'\n",
      "Warning: OE3DToAtomStereo had a problem during conformation test 'LIG'\n",
      "Warning: OE3DToAtomStereo is unable to perceive atom stereo from a flat geometry on atom 8 of molecule 'LIG'\n",
      "Warning: OE3DToAtomStereo had a problem during conformation test 'LIG'\n",
      "Warning: OE3DToAtomStereo is unable to perceive atom stereo from a flat geometry on atom 8 of molecule 'LIG'\n",
      "Warning: OE3DToAtomStereo had a problem during conformation test 'LIG'\n",
      "Warning: OE3DToAtomStereo is unable to perceive atom stereo from a flat geometry on atom 8 of molecule 'LIG'\n",
      "Warning: OE3DToAtomStereo had a problem during conformation test 'LIG'\n",
      "Warning: OE3DToAtomStereo is unable to perceive atom stereo from a flat geometry on atom 8 of molecule 'LIG'\n",
      "Warning: OE3DToAtomStereo had a problem during conformation test 'LIG'\n",
      "Warning: OE3DToAtomStereo is unable to perceive atom stereo from a flat geometry on atom 8 of molecule 'LIG'\n",
      "Warning: OE3DToAtomStereo had a problem during conformation test 'LIG'\n",
      "Warning: OE3DToAtomStereo is unable to perceive atom stereo from a flat geometry on atom 8 of molecule 'LIG'\n",
      "Warning: OE3DToAtomStereo had a problem during conformation test 'LIG'\n",
      "Warning: OE3DToAtomStereo is unable to perceive atom stereo from a flat geometry on atom 8 of molecule 'LIG'\n",
      "Warning: OE3DToAtomStereo had a problem during conformation test 'LIG'\n",
      "Warning: OE3DToAtomStereo is unable to perceive atom stereo from a flat geometry on atom 8 of molecule 'LIG'\n",
      "Warning: OE3DToAtomStereo had a problem during conformation test 'LIG'\n",
      "Warning: OE3DToAtomStereo is unable to perceive atom stereo from a flat geometry on atom 8 of molecule 'LIG'\n",
      "Warning: OE3DToAtomStereo had a problem during conformation test 'LIG'\n",
      "Warning: OE3DToAtomStereo is unable to perceive atom stereo from a flat geometry on atom 8 of molecule 'LIG'\n",
      "Warning: OE3DToAtomStereo had a problem during conformation test 'LIG'\n",
      "Warning: OE3DToAtomStereo is unable to perceive atom stereo from a flat geometry on atom 8 of molecule 'LIG'\n",
      "Warning: OE3DToAtomStereo had a problem during conformation test 'LIG'\n",
      "Warning: OE3DToAtomStereo is unable to perceive atom stereo from a flat geometry on atom 8 of molecule 'LIG'\n",
      "Warning: OE3DToAtomStereo had a problem during conformation test 'LIG'\n",
      "Warning: OE3DToAtomStereo is unable to perceive atom stereo from a flat geometry on atom 8 of molecule 'LIG'\n",
      "Warning: OE3DToAtomStereo had a problem during conformation test 'LIG'\n",
      "Warning: OE3DToAtomStereo is unable to perceive atom stereo from a flat geometry on atom 8 of molecule 'LIG'\n",
      "Warning: OE3DToAtomStereo had a problem during conformation test 'LIG'\n",
      "Warning: OE3DToAtomStereo is unable to perceive atom stereo from a flat geometry on atom 8 of molecule 'LIG'\n",
      "Warning: OE3DToAtomStereo had a problem during conformation test 'LIG'\n",
      "Warning: OE3DToAtomStereo is unable to perceive atom stereo from a flat geometry on atom 8 of molecule 'LIG'\n",
      "Warning: OE3DToAtomStereo had a problem during conformation test 'LIG'\n",
      "Warning: OE3DToAtomStereo is unable to perceive atom stereo from a flat geometry on atom 8 of molecule 'LIG'\n",
      "Warning: OE3DToAtomStereo had a problem during conformation test 'LIG'\n",
      "Warning: OE3DToAtomStereo is unable to perceive atom stereo from a flat geometry on atom 8 of molecule 'LIG'\n",
      "Warning: OE3DToAtomStereo had a problem during conformation test 'LIG'\n",
      "Warning: OE3DToAtomStereo is unable to perceive atom stereo from a flat geometry on atom 8 of molecule 'LIG'\n",
      "Warning: OE3DToAtomStereo had a problem during conformation test 'LIG'\n",
      "Warning: OE3DToAtomStereo is unable to perceive atom stereo from a flat geometry on atom 8 of molecule 'LIG'\n",
      "Warning: OE3DToAtomStereo had a problem during conformation test 'LIG'\n",
      "Warning: OE3DToAtomStereo is unable to perceive atom stereo from a flat geometry on atom 8 of molecule 'LIG'\n",
      "Warning: OE3DToAtomStereo had a problem during conformation test 'LIG'\n",
      "Warning: OE3DToAtomStereo is unable to perceive atom stereo from a flat geometry on atom 8 of molecule 'LIG'\n",
      "Warning: OE3DToAtomStereo had a problem during conformation test 'LIG'\n",
      "Warning: OE3DToAtomStereo is unable to perceive atom stereo from a flat geometry on atom 8 of molecule 'LIG'\n",
      "Warning: OE3DToAtomStereo had a problem during conformation test 'LIG'\n",
      "Warning: OE3DToAtomStereo is unable to perceive atom stereo from a flat geometry on atom 8 of molecule 'LIG'\n",
      "Warning: OE3DToAtomStereo had a problem during conformation test 'LIG'\n",
      "Warning: OE3DToAtomStereo is unable to perceive atom stereo from a flat geometry on atom 8 of molecule 'LIG'\n",
      "Warning: OE3DToAtomStereo had a problem during conformation test 'LIG'\n",
      "Warning: OE3DToAtomStereo is unable to perceive atom stereo from a flat geometry on atom 8 of molecule 'LIG'\n",
      "Warning: OE3DToAtomStereo had a problem during conformation test 'LIG'\n",
      "Warning: OE3DToAtomStereo is unable to perceive atom stereo from a flat geometry on atom 8 of molecule 'LIG'\n",
      "Warning: OE3DToAtomStereo had a problem during conformation test 'LIG'\n",
      "Warning: OE3DToAtomStereo is unable to perceive atom stereo from a flat geometry on atom 8 of molecule 'LIG'\n",
      "Warning: OE3DToAtomStereo had a problem during conformation test 'LIG'\n",
      "Warning: OE3DToAtomStereo is unable to perceive atom stereo from a flat geometry on atom 8 of molecule 'LIG'\n",
      "Warning: OE3DToAtomStereo had a problem during conformation test 'LIG'\n",
      "Warning: OE3DToAtomStereo is unable to perceive atom stereo from a flat geometry on atom 8 of molecule 'LIG'\n",
      "Warning: OE3DToAtomStereo had a problem during conformation test 'LIG'\n",
      "Warning: OE3DToAtomStereo is unable to perceive atom stereo from a flat geometry on atom 8 of molecule 'LIG'\n",
      "Warning: OE3DToAtomStereo had a problem during conformation test 'LIG'\n",
      "Warning: OE3DToAtomStereo is unable to perceive atom stereo from a flat geometry on atom 8 of molecule 'LIG'\n",
      "Warning: OE3DToAtomStereo had a problem during conformation test 'LIG'\n",
      "Warning: OE3DToAtomStereo is unable to perceive atom stereo from a flat geometry on atom 8 of molecule 'LIG'\n",
      "Warning: OE3DToAtomStereo had a problem during conformation test 'LIG'\n",
      "Warning: OE3DToAtomStereo is unable to perceive atom stereo from a flat geometry on atom 8 of molecule 'LIG'\n",
      "Warning: OE3DToAtomStereo had a problem during conformation test 'LIG'\n",
      "Warning: OE3DToAtomStereo is unable to perceive atom stereo from a flat geometry on atom 8 of molecule 'LIG'\n",
      "Warning: OE3DToAtomStereo had a problem during conformation test 'LIG'\n",
      "Warning: OE3DToAtomStereo is unable to perceive atom stereo from a flat geometry on atom 8 of molecule 'LIG'\n",
      "Warning: OE3DToAtomStereo had a problem during conformation test 'LIG'\n",
      "Warning: OE3DToAtomStereo is unable to perceive atom stereo from a flat geometry on atom 8 of molecule 'LIG'\n",
      "Warning: OE3DToAtomStereo had a problem during conformation test 'LIG'\n",
      "Warning: OE3DToAtomStereo is unable to perceive atom stereo from a flat geometry on atom 8 of molecule 'LIG'\n",
      "Warning: OE3DToAtomStereo had a problem during conformation test 'LIG'\n",
      "Warning: OE3DToAtomStereo is unable to perceive atom stereo from a flat geometry on atom 8 of molecule 'LIG'\n",
      "Warning: OE3DToAtomStereo had a problem during conformation test 'LIG'\n",
      "Warning: OE3DToAtomStereo is unable to perceive atom stereo from a flat geometry on atom 8 of molecule 'LIG'\n",
      "Warning: OE3DToAtomStereo had a problem during conformation test 'LIG'\n",
      "Warning: OE3DToAtomStereo is unable to perceive atom stereo from a flat geometry on atom 8 of molecule 'LIG'\n",
      "Warning: OE3DToAtomStereo had a problem during conformation test 'LIG'\n",
      "Warning: OE3DToAtomStereo is unable to perceive atom stereo from a flat geometry on atom 8 of molecule 'LIG'\n",
      "Warning: OE3DToAtomStereo had a problem during conformation test 'LIG'\n",
      "Warning: OE3DToAtomStereo is unable to perceive atom stereo from a flat geometry on atom 8 of molecule 'LIG'\n",
      "Warning: OE3DToAtomStereo had a problem during conformation test 'LIG'\n",
      "Warning: OE3DToAtomStereo is unable to perceive atom stereo from a flat geometry on atom 8 of molecule 'LIG'\n",
      "Warning: OE3DToAtomStereo had a problem during conformation test 'LIG'\n",
      "Warning: OE3DToAtomStereo is unable to perceive atom stereo from a flat geometry on atom 8 of molecule 'LIG'\n",
      "Warning: OE3DToAtomStereo had a problem during conformation test 'LIG'\n",
      "Warning: OE3DToAtomStereo is unable to perceive atom stereo from a flat geometry on atom 8 of molecule 'LIG'\n",
      "Warning: OE3DToAtomStereo had a problem during conformation test 'LIG'\n",
      "Warning: OE3DToAtomStereo is unable to perceive atom stereo from a flat geometry on atom 8 of molecule 'LIG'\n",
      "Warning: OE3DToAtomStereo had a problem during conformation test 'LIG'\n",
      "Warning: OE3DToAtomStereo is unable to perceive atom stereo from a flat geometry on atom 8 of molecule 'LIG'\n",
      "Warning: OE3DToAtomStereo had a problem during conformation test 'LIG'\n",
      "Warning: OE3DToAtomStereo is unable to perceive atom stereo from a flat geometry on atom 8 of molecule 'LIG'\n",
      "Warning: OE3DToAtomStereo had a problem during conformation test 'LIG'\n",
      "Warning: OE3DToAtomStereo is unable to perceive atom stereo from a flat geometry on atom 8 of molecule 'LIG'\n",
      "Warning: OE3DToAtomStereo had a problem during conformation test 'LIG'\n",
      "Warning: OE3DToAtomStereo is unable to perceive atom stereo from a flat geometry on atom 8 of molecule 'LIG'\n",
      "Warning: OE3DToAtomStereo had a problem during conformation test 'LIG'\n",
      "Warning: OE3DToAtomStereo is unable to perceive atom stereo from a flat geometry on atom 8 of molecule 'LIG'\n",
      "Warning: OE3DToAtomStereo had a problem during conformation test 'LIG'\n",
      "Warning: OE3DToAtomStereo is unable to perceive atom stereo from a flat geometry on atom 8 of molecule 'LIG'\n",
      "Warning: OE3DToAtomStereo had a problem during conformation test 'LIG'\n",
      "Warning: OE3DToAtomStereo is unable to perceive atom stereo from a flat geometry on atom 8 of molecule 'LIG'\n",
      "Warning: OE3DToAtomStereo had a problem during conformation test 'LIG'\n",
      "Warning: OE3DToAtomStereo is unable to perceive atom stereo from a flat geometry on atom 8 of molecule 'LIG'\n",
      "Warning: OE3DToAtomStereo had a problem during conformation test 'LIG'\n",
      "Warning: OE3DToAtomStereo is unable to perceive atom stereo from a flat geometry on atom 8 of molecule 'LIG'\n",
      "Warning: OE3DToAtomStereo had a problem during conformation test 'LIG'\n",
      "Warning: OE3DToAtomStereo is unable to perceive atom stereo from a flat geometry on atom 8 of molecule 'LIG'\n",
      "Warning: OE3DToAtomStereo had a problem during conformation test 'LIG'\n",
      "Warning: OE3DToAtomStereo is unable to perceive atom stereo from a flat geometry on atom 8 of molecule 'LIG'\n",
      "Warning: OE3DToAtomStereo had a problem during conformation test 'LIG'\n",
      "Warning: OE3DToAtomStereo is unable to perceive atom stereo from a flat geometry on atom 8 of molecule 'LIG'\n",
      "Warning: OE3DToAtomStereo had a problem during conformation test 'LIG'\n",
      "Warning: OE3DToAtomStereo is unable to perceive atom stereo from a flat geometry on atom 8 of molecule 'LIG'\n",
      "Warning: OE3DToAtomStereo had a problem during conformation test 'LIG'\n",
      "Warning: OE3DToAtomStereo is unable to perceive atom stereo from a flat geometry on atom 8 of molecule 'LIG'\n",
      "Warning: OE3DToAtomStereo had a problem during conformation test 'LIG'\n",
      "Warning: OE3DToAtomStereo is unable to perceive atom stereo from a flat geometry on atom 8 of molecule 'LIG'\n",
      "Warning: OE3DToAtomStereo had a problem during conformation test 'LIG'\n",
      "Warning: OE3DToAtomStereo is unable to perceive atom stereo from a flat geometry on atom 8 of molecule 'LIG'\n",
      "Warning: OE3DToAtomStereo had a problem during conformation test 'LIG'\n",
      "Warning: OE3DToAtomStereo is unable to perceive atom stereo from a flat geometry on atom 8 of molecule 'LIG'\n",
      "Warning: OE3DToAtomStereo had a problem during conformation test 'LIG'\n",
      "Warning: OE3DToAtomStereo is unable to perceive atom stereo from a flat geometry on atom 8 of molecule 'LIG'\n",
      "Warning: OE3DToAtomStereo had a problem during conformation test 'LIG'\n",
      "Warning: OE3DToAtomStereo is unable to perceive atom stereo from a flat geometry on atom 8 of molecule 'LIG'\n",
      "Warning: OE3DToAtomStereo had a problem during conformation test 'LIG'\n",
      "Warning: OE3DToAtomStereo is unable to perceive atom stereo from a flat geometry on atom 8 of molecule 'LIG'\n",
      "Warning: OE3DToAtomStereo had a problem during conformation test 'LIG'\n",
      "Warning: OE3DToAtomStereo is unable to perceive atom stereo from a flat geometry on atom 8 of molecule 'LIG'\n",
      "Warning: OE3DToAtomStereo had a problem during conformation test 'LIG'\n",
      "Warning: OE3DToAtomStereo is unable to perceive atom stereo from a flat geometry on atom 8 of molecule 'LIG'\n",
      "Warning: OE3DToAtomStereo had a problem during conformation test 'LIG'\n",
      "Warning: OE3DToAtomStereo is unable to perceive atom stereo from a flat geometry on atom 8 of molecule 'LIG'\n",
      "Warning: OE3DToAtomStereo had a problem during conformation test 'LIG'\n",
      "Warning: OE3DToAtomStereo is unable to perceive atom stereo from a flat geometry on atom 8 of molecule 'LIG'\n",
      "Warning: OE3DToAtomStereo had a problem during conformation test 'LIG'\n",
      "Warning: OE3DToAtomStereo is unable to perceive atom stereo from a flat geometry on atom 8 of molecule 'LIG'\n",
      "Warning: OE3DToAtomStereo had a problem during conformation test 'LIG'\n",
      "Warning: OE3DToAtomStereo is unable to perceive atom stereo from a flat geometry on atom 8 of molecule 'LIG'\n",
      "Warning: OE3DToAtomStereo had a problem during conformation test 'LIG'\n",
      "Warning: OE3DToAtomStereo is unable to perceive atom stereo from a flat geometry on atom 8 of molecule 'LIG'\n",
      "Warning: OE3DToAtomStereo had a problem during conformation test 'LIG'\n",
      "Warning: OE3DToAtomStereo is unable to perceive atom stereo from a flat geometry on atom 8 of molecule 'LIG'\n",
      "Warning: OE3DToAtomStereo had a problem during conformation test 'LIG'\n",
      "Warning: OE3DToAtomStereo is unable to perceive atom stereo from a flat geometry on atom 8 of molecule 'LIG'\n",
      "Warning: OE3DToAtomStereo had a problem during conformation test 'LIG'\n",
      "Warning: OE3DToAtomStereo is unable to perceive atom stereo from a flat geometry on atom 8 of molecule 'LIG'\n",
      "Warning: OE3DToAtomStereo had a problem during conformation test 'LIG'\n",
      "Warning: OE3DToAtomStereo is unable to perceive atom stereo from a flat geometry on atom 8 of molecule 'LIG'\n",
      "Warning: OE3DToAtomStereo had a problem during conformation test 'LIG'\n",
      "Warning: OE3DToAtomStereo is unable to perceive atom stereo from a flat geometry on atom 8 of molecule 'LIG'\n",
      "Warning: OE3DToAtomStereo had a problem during conformation test 'LIG'\n",
      "Warning: OE3DToAtomStereo is unable to perceive atom stereo from a flat geometry on atom 8 of molecule 'LIG'\n",
      "Warning: OE3DToAtomStereo had a problem during conformation test 'LIG'\n",
      "Warning: OE3DToAtomStereo is unable to perceive atom stereo from a flat geometry on atom 8 of molecule 'LIG'\n",
      "Warning: OE3DToAtomStereo had a problem during conformation test 'LIG'\n",
      "Warning: OE3DToAtomStereo is unable to perceive atom stereo from a flat geometry on atom 8 of molecule 'LIG'\n",
      "Warning: OE3DToAtomStereo had a problem during conformation test 'LIG'\n",
      "Warning: OE3DToAtomStereo is unable to perceive atom stereo from a flat geometry on atom 8 of molecule 'LIG'\n",
      "Warning: OE3DToAtomStereo had a problem during conformation test 'LIG'\n",
      "Warning: OE3DToAtomStereo is unable to perceive atom stereo from a flat geometry on atom 8 of molecule 'LIG'\n",
      "Warning: OE3DToAtomStereo had a problem during conformation test 'LIG'\n",
      "Warning: OE3DToAtomStereo is unable to perceive atom stereo from a flat geometry on atom 8 of molecule 'LIG'\n",
      "Warning: OE3DToAtomStereo had a problem during conformation test 'LIG'\n",
      "Warning: OE3DToAtomStereo is unable to perceive atom stereo from a flat geometry on atom 8 of molecule 'LIG'\n",
      "Warning: OE3DToAtomStereo had a problem during conformation test 'LIG'\n",
      "Warning: OE3DToAtomStereo is unable to perceive atom stereo from a flat geometry on atom 8 of molecule 'LIG'\n",
      "Warning: OE3DToAtomStereo had a problem during conformation test 'LIG'\n",
      "Warning: OE3DToAtomStereo is unable to perceive atom stereo from a flat geometry on atom 8 of molecule 'LIG'\n",
      "Warning: OE3DToAtomStereo had a problem during conformation test 'LIG'\n",
      "Warning: OE3DToAtomStereo is unable to perceive atom stereo from a flat geometry on atom 8 of molecule 'LIG'\n",
      "Warning: OE3DToAtomStereo had a problem during conformation test 'LIG'\n",
      "Warning: OE3DToAtomStereo is unable to perceive atom stereo from a flat geometry on atom 8 of molecule 'LIG'\n",
      "Warning: OE3DToAtomStereo had a problem during conformation test 'LIG'\n",
      "Warning: OE3DToAtomStereo is unable to perceive atom stereo from a flat geometry on atom 8 of molecule 'LIG'\n",
      "Warning: OE3DToAtomStereo had a problem during conformation test 'LIG'\n",
      "Warning: OE3DToAtomStereo is unable to perceive atom stereo from a flat geometry on atom 8 of molecule 'LIG'\n",
      "Warning: OE3DToAtomStereo had a problem during conformation test 'LIG'\n",
      "Warning: OE3DToAtomStereo is unable to perceive atom stereo from a flat geometry on atom 8 of molecule 'LIG'\n",
      "Warning: OE3DToAtomStereo had a problem during conformation test 'LIG'\n",
      "Warning: OE3DToAtomStereo is unable to perceive atom stereo from a flat geometry on atom 8 of molecule 'LIG'\n",
      "Warning: OE3DToAtomStereo had a problem during conformation test 'LIG'\n",
      "Warning: OE3DToAtomStereo is unable to perceive atom stereo from a flat geometry on atom 8 of molecule 'LIG'\n",
      "Warning: OE3DToAtomStereo had a problem during conformation test 'LIG'\n",
      "Warning: OE3DToAtomStereo is unable to perceive atom stereo from a flat geometry on atom 8 of molecule 'LIG'\n",
      "Warning: OE3DToAtomStereo had a problem during conformation test 'LIG'\n",
      "Warning: OE3DToAtomStereo is unable to perceive atom stereo from a flat geometry on atom 8 of molecule 'LIG'\n",
      "Warning: OE3DToAtomStereo had a problem during conformation test 'LIG'\n",
      "Warning: OE3DToAtomStereo is unable to perceive atom stereo from a flat geometry on atom 8 of molecule 'LIG'\n",
      "Warning: OE3DToAtomStereo had a problem during conformation test 'LIG'\n",
      "Warning: OE3DToAtomStereo is unable to perceive atom stereo from a flat geometry on atom 8 of molecule 'LIG'\n",
      "Warning: OE3DToAtomStereo had a problem during conformation test 'LIG'\n",
      "Warning: OE3DToAtomStereo is unable to perceive atom stereo from a flat geometry on atom 8 of molecule 'LIG'\n",
      "Warning: OE3DToAtomStereo had a problem during conformation test 'LIG'\n",
      "Warning: OE3DToAtomStereo is unable to perceive atom stereo from a flat geometry on atom 8 of molecule 'LIG'\n",
      "Warning: OE3DToAtomStereo had a problem during conformation test 'LIG'\n",
      "Warning: OE3DToAtomStereo is unable to perceive atom stereo from a flat geometry on atom 8 of molecule 'LIG'\n",
      "Warning: OE3DToAtomStereo had a problem during conformation test 'LIG'\n",
      "Warning: OE3DToAtomStereo is unable to perceive atom stereo from a flat geometry on atom 8 of molecule 'LIG'\n",
      "Warning: OE3DToAtomStereo had a problem during conformation test 'LIG'\n",
      "Warning: OE3DToAtomStereo is unable to perceive atom stereo from a flat geometry on atom 8 of molecule 'LIG'\n",
      "Warning: OE3DToAtomStereo had a problem during conformation test 'LIG'\n",
      "Warning: OE3DToAtomStereo is unable to perceive atom stereo from a flat geometry on atom 8 of molecule 'LIG'\n",
      "Warning: OE3DToAtomStereo had a problem during conformation test 'LIG'\n",
      "Warning: OE3DToAtomStereo is unable to perceive atom stereo from a flat geometry on atom 8 of molecule 'LIG'\n",
      "Warning: OE3DToAtomStereo had a problem during conformation test 'LIG'\n",
      "Warning: OE3DToAtomStereo is unable to perceive atom stereo from a flat geometry on atom 8 of molecule 'LIG'\n",
      "Warning: OE3DToAtomStereo had a problem during conformation test 'LIG'\n",
      "Warning: OE3DToAtomStereo is unable to perceive atom stereo from a flat geometry on atom 8 of molecule 'LIG'\n",
      "Warning: OE3DToAtomStereo had a problem during conformation test 'LIG'\n",
      "Warning: OE3DToAtomStereo is unable to perceive atom stereo from a flat geometry on atom 8 of molecule 'LIG'\n",
      "Warning: OE3DToAtomStereo had a problem during conformation test 'LIG'\n",
      "Warning: OE3DToAtomStereo is unable to perceive atom stereo from a flat geometry on atom 8 of molecule 'LIG'\n",
      "Warning: OE3DToAtomStereo had a problem during conformation test 'LIG'\n",
      "Warning: OE3DToAtomStereo is unable to perceive atom stereo from a flat geometry on atom 8 of molecule 'LIG'\n",
      "Warning: OE3DToAtomStereo had a problem during conformation test 'LIG'\n",
      "Warning: OE3DToAtomStereo is unable to perceive atom stereo from a flat geometry on atom 8 of molecule 'LIG'\n",
      "Warning: OE3DToAtomStereo had a problem during conformation test 'LIG'\n",
      "Warning: OE3DToAtomStereo is unable to perceive atom stereo from a flat geometry on atom 8 of molecule 'LIG'\n",
      "Warning: OE3DToAtomStereo had a problem during conformation test 'LIG'\n",
      "Warning: OE3DToAtomStereo is unable to perceive atom stereo from a flat geometry on atom 8 of molecule 'LIG'\n",
      "Warning: OE3DToAtomStereo had a problem during conformation test 'LIG'\n",
      "Warning: OE3DToAtomStereo is unable to perceive atom stereo from a flat geometry on atom 8 of molecule 'LIG'\n",
      "Warning: OE3DToAtomStereo had a problem during conformation test 'LIG'\n",
      "Warning: OE3DToAtomStereo is unable to perceive atom stereo from a flat geometry on atom 8 of molecule 'LIG'\n",
      "Warning: OE3DToAtomStereo had a problem during conformation test 'LIG'\n",
      "Warning: OE3DToAtomStereo is unable to perceive atom stereo from a flat geometry on atom 8 of molecule 'LIG'\n",
      "Warning: OE3DToAtomStereo had a problem during conformation test 'LIG'\n",
      "Warning: OE3DToAtomStereo is unable to perceive atom stereo from a flat geometry on atom 8 of molecule 'LIG'\n",
      "Warning: OE3DToAtomStereo had a problem during conformation test 'LIG'\n",
      "Warning: OE3DToAtomStereo is unable to perceive atom stereo from a flat geometry on atom 8 of molecule 'LIG'\n",
      "Warning: OE3DToAtomStereo had a problem during conformation test 'LIG'\n",
      "Warning: OE3DToAtomStereo is unable to perceive atom stereo from a flat geometry on atom 8 of molecule 'LIG'\n",
      "Warning: OE3DToAtomStereo had a problem during conformation test 'LIG'\n",
      "Warning: OE3DToAtomStereo is unable to perceive atom stereo from a flat geometry on atom 8 of molecule 'LIG'\n",
      "Warning: OE3DToAtomStereo had a problem during conformation test 'LIG'\n",
      "Warning: OE3DToAtomStereo is unable to perceive atom stereo from a flat geometry on atom 8 of molecule 'LIG'\n",
      "Warning: OE3DToAtomStereo had a problem during conformation test 'LIG'\n",
      "Warning: OE3DToAtomStereo is unable to perceive atom stereo from a flat geometry on atom 8 of molecule 'LIG'\n",
      "Warning: OE3DToAtomStereo had a problem during conformation test 'LIG'\n",
      "Warning: OE3DToAtomStereo is unable to perceive atom stereo from a flat geometry on atom 8 of molecule 'LIG'\n",
      "Warning: OE3DToAtomStereo had a problem during conformation test 'LIG'\n",
      "Warning: OE3DToAtomStereo is unable to perceive atom stereo from a flat geometry on atom 8 of molecule 'LIG'\n",
      "Warning: OE3DToAtomStereo had a problem during conformation test 'LIG'\n",
      "Warning: OE3DToAtomStereo is unable to perceive atom stereo from a flat geometry on atom 8 of molecule 'LIG'\n",
      "Warning: OE3DToAtomStereo had a problem during conformation test 'LIG'\n",
      "Warning: OE3DToAtomStereo is unable to perceive atom stereo from a flat geometry on atom 8 of molecule 'LIG'\n",
      "Warning: OE3DToAtomStereo had a problem during conformation test 'LIG'\n",
      "Warning: OE3DToAtomStereo is unable to perceive atom stereo from a flat geometry on atom 8 of molecule 'LIG'\n",
      "Warning: OE3DToAtomStereo had a problem during conformation test 'LIG'\n",
      "Warning: OE3DToAtomStereo is unable to perceive atom stereo from a flat geometry on atom 8 of molecule 'LIG'\n",
      "Warning: OE3DToAtomStereo had a problem during conformation test 'LIG'\n",
      "Warning: OE3DToAtomStereo is unable to perceive atom stereo from a flat geometry on atom 8 of molecule 'LIG'\n",
      "Warning: OE3DToAtomStereo had a problem during conformation test 'LIG'\n",
      "Warning: OE3DToAtomStereo is unable to perceive atom stereo from a flat geometry on atom 8 of molecule 'LIG'\n",
      "Warning: OE3DToAtomStereo had a problem during conformation test 'LIG'\n",
      "Warning: OE3DToAtomStereo is unable to perceive atom stereo from a flat geometry on atom 8 of molecule 'LIG'\n",
      "Warning: OE3DToAtomStereo had a problem during conformation test 'LIG'\n",
      "Warning: OE3DToAtomStereo is unable to perceive atom stereo from a flat geometry on atom 8 of molecule 'LIG'\n",
      "Warning: OE3DToAtomStereo had a problem during conformation test 'LIG'\n",
      "Warning: OE3DToAtomStereo is unable to perceive atom stereo from a flat geometry on atom 8 of molecule 'LIG'\n",
      "Warning: OE3DToAtomStereo had a problem during conformation test 'LIG'\n",
      "Warning: OE3DToAtomStereo is unable to perceive atom stereo from a flat geometry on atom 8 of molecule 'LIG'\n",
      "Warning: OE3DToAtomStereo had a problem during conformation test 'LIG'\n",
      "Warning: OE3DToAtomStereo is unable to perceive atom stereo from a flat geometry on atom 8 of molecule 'LIG'\n",
      "Warning: OE3DToAtomStereo had a problem during conformation test 'LIG'\n",
      "Warning: OE3DToAtomStereo is unable to perceive atom stereo from a flat geometry on atom 8 of molecule 'LIG'\n",
      "Warning: OE3DToAtomStereo had a problem during conformation test 'LIG'\n",
      "Warning: OE3DToAtomStereo is unable to perceive atom stereo from a flat geometry on atom 8 of molecule 'LIG'\n",
      "Warning: OE3DToAtomStereo had a problem during conformation test 'LIG'\n",
      "Warning: OE3DToAtomStereo is unable to perceive atom stereo from a flat geometry on atom 8 of molecule 'LIG'\n",
      "Warning: OE3DToAtomStereo had a problem during conformation test 'LIG'\n",
      "Warning: OE3DToAtomStereo is unable to perceive atom stereo from a flat geometry on atom 8 of molecule 'LIG'\n",
      "Warning: OE3DToAtomStereo had a problem during conformation test 'LIG'\n",
      "Warning: OE3DToAtomStereo is unable to perceive atom stereo from a flat geometry on atom 8 of molecule 'LIG'\n",
      "Warning: OE3DToAtomStereo had a problem during conformation test 'LIG'\n",
      "Warning: OE3DToAtomStereo is unable to perceive atom stereo from a flat geometry on atom 8 of molecule 'LIG'\n",
      "Warning: OE3DToAtomStereo had a problem during conformation test 'LIG'\n",
      "Warning: OE3DToAtomStereo is unable to perceive atom stereo from a flat geometry on atom 8 of molecule 'LIG'\n",
      "Warning: OE3DToAtomStereo had a problem during conformation test 'LIG'\n",
      "Warning: OE3DToAtomStereo is unable to perceive atom stereo from a flat geometry on atom 8 of molecule 'LIG'\n",
      "Warning: OE3DToAtomStereo had a problem during conformation test 'LIG'\n",
      "Warning: OE3DToAtomStereo is unable to perceive atom stereo from a flat geometry on atom 8 of molecule 'LIG'\n",
      "Warning: OE3DToAtomStereo had a problem during conformation test 'LIG'\n",
      "Warning: OE3DToAtomStereo is unable to perceive atom stereo from a flat geometry on atom 8 of molecule 'LIG'\n",
      "Warning: OE3DToAtomStereo had a problem during conformation test 'LIG'\n",
      "Warning: OE3DToAtomStereo is unable to perceive atom stereo from a flat geometry on atom 8 of molecule 'LIG'\n",
      "Warning: OE3DToAtomStereo had a problem during conformation test 'LIG'\n",
      "Warning: OE3DToAtomStereo is unable to perceive atom stereo from a flat geometry on atom 8 of molecule 'LIG'\n",
      "Warning: OE3DToAtomStereo had a problem during conformation test 'LIG'\n",
      "Warning: OE3DToAtomStereo is unable to perceive atom stereo from a flat geometry on atom 8 of molecule 'LIG'\n",
      "Warning: OE3DToAtomStereo had a problem during conformation test 'LIG'\n",
      "Warning: OE3DToAtomStereo is unable to perceive atom stereo from a flat geometry on atom 8 of molecule 'LIG'\n",
      "Warning: OE3DToAtomStereo had a problem during conformation test 'LIG'\n",
      "Warning: OE3DToAtomStereo is unable to perceive atom stereo from a flat geometry on atom 8 of molecule 'LIG'\n",
      "Warning: OE3DToAtomStereo had a problem during conformation test 'LIG'\n",
      "Warning: OE3DToAtomStereo is unable to perceive atom stereo from a flat geometry on atom 8 of molecule 'LIG'\n",
      "Warning: OE3DToAtomStereo had a problem during conformation test 'LIG'\n",
      "Warning: OE3DToAtomStereo is unable to perceive atom stereo from a flat geometry on atom 8 of molecule 'LIG'\n",
      "Warning: OE3DToAtomStereo had a problem during conformation test 'LIG'\n",
      "Warning: OE3DToAtomStereo is unable to perceive atom stereo from a flat geometry on atom 8 of molecule 'LIG'\n",
      "Warning: OE3DToAtomStereo had a problem during conformation test 'LIG'\n",
      "Warning: OE3DToAtomStereo is unable to perceive atom stereo from a flat geometry on atom 8 of molecule 'LIG'\n",
      "Warning: OE3DToAtomStereo had a problem during conformation test 'LIG'\n",
      "Warning: OE3DToAtomStereo is unable to perceive atom stereo from a flat geometry on atom 8 of molecule 'LIG'\n",
      "Warning: OE3DToAtomStereo had a problem during conformation test 'LIG'\n",
      "Warning: OE3DToAtomStereo is unable to perceive atom stereo from a flat geometry on atom 8 of molecule 'LIG'\n",
      "Warning: OE3DToAtomStereo had a problem during conformation test 'LIG'\n",
      "Warning: OE3DToAtomStereo is unable to perceive atom stereo from a flat geometry on atom 8 of molecule 'LIG'\n",
      "Warning: OE3DToAtomStereo had a problem during conformation test 'LIG'\n",
      "Warning: OE3DToAtomStereo is unable to perceive atom stereo from a flat geometry on atom 8 of molecule 'LIG'\n",
      "Warning: OE3DToAtomStereo had a problem during conformation test 'LIG'\n",
      "Warning: OE3DToAtomStereo is unable to perceive atom stereo from a flat geometry on atom 8 of molecule 'LIG'\n",
      "Warning: OE3DToAtomStereo had a problem during conformation test 'LIG'\n",
      "Warning: OE3DToAtomStereo is unable to perceive atom stereo from a flat geometry on atom 8 of molecule 'LIG'\n",
      "Warning: OE3DToAtomStereo had a problem during conformation test 'LIG'\n",
      "Warning: OE3DToAtomStereo is unable to perceive atom stereo from a flat geometry on atom 8 of molecule 'LIG'\n",
      "Warning: OE3DToAtomStereo had a problem during conformation test 'LIG'\n",
      "Warning: OE3DToAtomStereo is unable to perceive atom stereo from a flat geometry on atom 8 of molecule 'LIG'\n",
      "Warning: OE3DToAtomStereo had a problem during conformation test 'LIG'\n",
      "Warning: OE3DToAtomStereo is unable to perceive atom stereo from a flat geometry on atom 8 of molecule 'LIG'\n",
      "Warning: OE3DToAtomStereo had a problem during conformation test 'LIG'\n",
      "Warning: OE3DToAtomStereo is unable to perceive atom stereo from a flat geometry on atom 8 of molecule 'LIG'\n",
      "Warning: OE3DToAtomStereo had a problem during conformation test 'LIG'\n",
      "Warning: OE3DToAtomStereo is unable to perceive atom stereo from a flat geometry on atom 8 of molecule 'LIG'\n",
      "Warning: OE3DToAtomStereo had a problem during conformation test 'LIG'\n",
      "Warning: OE3DToAtomStereo is unable to perceive atom stereo from a flat geometry on atom 8 of molecule 'LIG'\n",
      "Warning: OE3DToAtomStereo had a problem during conformation test 'LIG'\n",
      "Warning: OE3DToAtomStereo is unable to perceive atom stereo from a flat geometry on atom 8 of molecule 'LIG'\n",
      "Warning: OE3DToAtomStereo had a problem during conformation test 'LIG'\n",
      "Warning: OE3DToAtomStereo is unable to perceive atom stereo from a flat geometry on atom 8 of molecule 'LIG'\n",
      "Warning: OE3DToAtomStereo had a problem during conformation test 'LIG'\n",
      "Warning: OE3DToAtomStereo is unable to perceive atom stereo from a flat geometry on atom 8 of molecule 'LIG'\n",
      "Warning: OE3DToAtomStereo had a problem during conformation test 'LIG'\n",
      "Warning: OE3DToAtomStereo is unable to perceive atom stereo from a flat geometry on atom 8 of molecule 'LIG'\n",
      "Warning: OE3DToAtomStereo had a problem during conformation test 'LIG'\n",
      "Warning: OE3DToAtomStereo is unable to perceive atom stereo from a flat geometry on atom 8 of molecule 'LIG'\n",
      "Warning: OE3DToAtomStereo had a problem during conformation test 'LIG'\n",
      "Warning: OE3DToAtomStereo is unable to perceive atom stereo from a flat geometry on atom 8 of molecule 'LIG'\n",
      "Warning: OE3DToAtomStereo had a problem during conformation test 'LIG'\n",
      "Warning: OE3DToAtomStereo is unable to perceive atom stereo from a flat geometry on atom 8 of molecule 'LIG'\n",
      "Warning: OE3DToAtomStereo had a problem during conformation test 'LIG'\n",
      "Warning: OE3DToAtomStereo is unable to perceive atom stereo from a flat geometry on atom 8 of molecule 'LIG'\n",
      "Warning: OE3DToAtomStereo had a problem during conformation test 'LIG'\n",
      "Warning: OE3DToAtomStereo is unable to perceive atom stereo from a flat geometry on atom 8 of molecule 'LIG'\n",
      "Warning: OE3DToAtomStereo had a problem during conformation test 'LIG'\n",
      "Warning: OE3DToAtomStereo is unable to perceive atom stereo from a flat geometry on atom 8 of molecule 'LIG'\n",
      "Warning: OE3DToAtomStereo had a problem during conformation test 'LIG'\n",
      "Warning: OE3DToAtomStereo is unable to perceive atom stereo from a flat geometry on atom 8 of molecule 'LIG'\n",
      "Warning: OE3DToAtomStereo had a problem during conformation test 'LIG'\n",
      "Warning: OE3DToAtomStereo is unable to perceive atom stereo from a flat geometry on atom 8 of molecule 'LIG'\n",
      "Warning: OE3DToAtomStereo had a problem during conformation test 'LIG'\n",
      "Warning: OE3DToAtomStereo is unable to perceive atom stereo from a flat geometry on atom 8 of molecule 'LIG'\n",
      "Warning: OE3DToAtomStereo had a problem during conformation test 'LIG'\n",
      "Warning: OE3DToAtomStereo is unable to perceive atom stereo from a flat geometry on atom 8 of molecule 'LIG'\n",
      "Warning: OE3DToAtomStereo had a problem during conformation test 'LIG'\n",
      "Warning: OE3DToAtomStereo is unable to perceive atom stereo from a flat geometry on atom 8 of molecule 'LIG'\n",
      "Warning: OE3DToAtomStereo had a problem during conformation test 'LIG'\n",
      "Warning: OE3DToAtomStereo is unable to perceive atom stereo from a flat geometry on atom 8 of molecule 'LIG'\n",
      "Warning: OE3DToAtomStereo had a problem during conformation test 'LIG'\n",
      "Warning: OE3DToAtomStereo is unable to perceive atom stereo from a flat geometry on atom 8 of molecule 'LIG'\n",
      "Warning: OE3DToAtomStereo had a problem during conformation test 'LIG'\n",
      "Warning: OE3DToAtomStereo is unable to perceive atom stereo from a flat geometry on atom 8 of molecule 'LIG'\n",
      "Warning: OE3DToAtomStereo had a problem during conformation test 'LIG'\n",
      "Warning: OE3DToAtomStereo is unable to perceive atom stereo from a flat geometry on atom 8 of molecule 'LIG'\n",
      "Warning: OE3DToAtomStereo had a problem during conformation test 'LIG'\n",
      "Warning: OE3DToAtomStereo is unable to perceive atom stereo from a flat geometry on atom 8 of molecule 'LIG'\n",
      "Warning: OE3DToAtomStereo had a problem during conformation test 'LIG'\n",
      "Warning: OE3DToAtomStereo is unable to perceive atom stereo from a flat geometry on atom 8 of molecule 'LIG'\n",
      "Warning: OE3DToAtomStereo had a problem during conformation test 'LIG'\n",
      "Warning: OE3DToAtomStereo is unable to perceive atom stereo from a flat geometry on atom 8 of molecule 'LIG'\n",
      "Warning: OE3DToAtomStereo had a problem during conformation test 'LIG'\n",
      "Warning: OE3DToAtomStereo is unable to perceive atom stereo from a flat geometry on atom 8 of molecule 'LIG'\n",
      "Warning: OE3DToAtomStereo had a problem during conformation test 'LIG'\n",
      "Warning: OE3DToAtomStereo is unable to perceive atom stereo from a flat geometry on atom 8 of molecule 'LIG'\n",
      "Warning: OE3DToAtomStereo had a problem during conformation test 'LIG'\n",
      "Warning: OE3DToAtomStereo is unable to perceive atom stereo from a flat geometry on atom 8 of molecule 'LIG'\n",
      "Warning: OE3DToAtomStereo had a problem during conformation test 'LIG'\n",
      "Warning: OE3DToAtomStereo is unable to perceive atom stereo from a flat geometry on atom 8 of molecule 'LIG'\n",
      "Warning: OE3DToAtomStereo had a problem during conformation test 'LIG'\n",
      "Warning: OE3DToAtomStereo is unable to perceive atom stereo from a flat geometry on atom 8 of molecule 'LIG'\n",
      "Warning: OE3DToAtomStereo had a problem during conformation test 'LIG'\n",
      "Warning: OE3DToAtomStereo is unable to perceive atom stereo from a flat geometry on atom 8 of molecule 'LIG'\n",
      "Warning: OE3DToAtomStereo had a problem during conformation test 'LIG'\n",
      "Warning: OE3DToAtomStereo is unable to perceive atom stereo from a flat geometry on atom 8 of molecule 'LIG'\n",
      "Warning: OE3DToAtomStereo had a problem during conformation test 'LIG'\n",
      "Warning: OE3DToAtomStereo is unable to perceive atom stereo from a flat geometry on atom 8 of molecule 'LIG'\n",
      "Warning: OE3DToAtomStereo had a problem during conformation test 'LIG'\n",
      "Warning: OE3DToAtomStereo is unable to perceive atom stereo from a flat geometry on atom 8 of molecule 'LIG'\n",
      "Warning: OE3DToAtomStereo had a problem during conformation test 'LIG'\n",
      "Warning: OE3DToAtomStereo is unable to perceive atom stereo from a flat geometry on atom 8 of molecule 'LIG'\n",
      "Warning: OE3DToAtomStereo had a problem during conformation test 'LIG'\n",
      "Warning: OE3DToAtomStereo is unable to perceive atom stereo from a flat geometry on atom 8 of molecule 'LIG'\n",
      "Warning: OE3DToAtomStereo had a problem during conformation test 'LIG'\n",
      "Warning: OE3DToAtomStereo is unable to perceive atom stereo from a flat geometry on atom 8 of molecule 'LIG'\n",
      "Warning: OE3DToAtomStereo had a problem during conformation test 'LIG'\n",
      "Warning: OE3DToAtomStereo is unable to perceive atom stereo from a flat geometry on atom 8 of molecule 'LIG'\n",
      "Warning: OE3DToAtomStereo had a problem during conformation test 'LIG'\n",
      "Warning: OE3DToAtomStereo is unable to perceive atom stereo from a flat geometry on atom 8 of molecule 'LIG'\n",
      "Warning: OE3DToAtomStereo had a problem during conformation test 'LIG'\n",
      "Warning: OE3DToAtomStereo is unable to perceive atom stereo from a flat geometry on atom 8 of molecule 'LIG'\n",
      "Warning: OE3DToAtomStereo had a problem during conformation test 'LIG'\n",
      "Warning: OE3DToAtomStereo is unable to perceive atom stereo from a flat geometry on atom 8 of molecule 'LIG'\n",
      "Warning: OE3DToAtomStereo had a problem during conformation test 'LIG'\n",
      "Warning: OE3DToAtomStereo is unable to perceive atom stereo from a flat geometry on atom 8 of molecule 'LIG'\n",
      "Warning: OE3DToAtomStereo had a problem during conformation test 'LIG'\n",
      "Warning: OE3DToAtomStereo is unable to perceive atom stereo from a flat geometry on atom 8 of molecule 'LIG'\n",
      "Warning: OE3DToAtomStereo had a problem during conformation test 'LIG'\n",
      "Warning: OE3DToAtomStereo is unable to perceive atom stereo from a flat geometry on atom 8 of molecule 'LIG'\n",
      "Warning: OE3DToAtomStereo had a problem during conformation test 'LIG'\n",
      "Warning: OE3DToAtomStereo is unable to perceive atom stereo from a flat geometry on atom 8 of molecule 'LIG'\n",
      "Warning: OE3DToAtomStereo had a problem during conformation test 'LIG'\n",
      "Warning: OE3DToAtomStereo is unable to perceive atom stereo from a flat geometry on atom 8 of molecule 'LIG'\n",
      "Warning: OE3DToAtomStereo had a problem during conformation test 'LIG'\n",
      "Warning: OE3DToAtomStereo is unable to perceive atom stereo from a flat geometry on atom 8 of molecule 'LIG'\n",
      "Warning: OE3DToAtomStereo had a problem during conformation test 'LIG'\n",
      "Warning: OE3DToAtomStereo is unable to perceive atom stereo from a flat geometry on atom 8 of molecule 'LIG'\n",
      "Warning: OE3DToAtomStereo had a problem during conformation test 'LIG'\n",
      "Warning: OE3DToAtomStereo is unable to perceive atom stereo from a flat geometry on atom 8 of molecule 'LIG'\n",
      "Warning: OE3DToAtomStereo had a problem during conformation test 'LIG'\n",
      "Warning: OE3DToAtomStereo is unable to perceive atom stereo from a flat geometry on atom 8 of molecule 'LIG'\n",
      "Warning: OE3DToAtomStereo had a problem during conformation test 'LIG'\n",
      "Warning: OE3DToAtomStereo is unable to perceive atom stereo from a flat geometry on atom 8 of molecule 'LIG'\n",
      "Warning: OE3DToAtomStereo had a problem during conformation test 'LIG'\n",
      "Warning: OE3DToAtomStereo is unable to perceive atom stereo from a flat geometry on atom 8 of molecule 'LIG'\n",
      "Warning: OE3DToAtomStereo had a problem during conformation test 'LIG'\n",
      "Warning: OE3DToAtomStereo is unable to perceive atom stereo from a flat geometry on atom 8 of molecule 'LIG'\n",
      "Warning: OE3DToAtomStereo had a problem during conformation test 'LIG'\n",
      "Warning: OE3DToAtomStereo is unable to perceive atom stereo from a flat geometry on atom 8 of molecule 'LIG'\n",
      "Warning: OE3DToAtomStereo had a problem during conformation test 'LIG'\n",
      "Warning: OE3DToAtomStereo is unable to perceive atom stereo from a flat geometry on atom 8 of molecule 'LIG'\n",
      "Warning: OE3DToAtomStereo had a problem during conformation test 'LIG'\n",
      "Warning: OE3DToAtomStereo is unable to perceive atom stereo from a flat geometry on atom 8 of molecule 'LIG'\n",
      "Warning: OE3DToAtomStereo had a problem during conformation test 'LIG'\n",
      "Warning: OE3DToAtomStereo is unable to perceive atom stereo from a flat geometry on atom 8 of molecule 'LIG'\n",
      "Warning: OE3DToAtomStereo had a problem during conformation test 'LIG'\n",
      "Warning: OE3DToAtomStereo is unable to perceive atom stereo from a flat geometry on atom 8 of molecule 'LIG'\n",
      "Warning: OE3DToAtomStereo had a problem during conformation test 'LIG'\n",
      "Warning: OE3DToAtomStereo is unable to perceive atom stereo from a flat geometry on atom 8 of molecule 'LIG'\n",
      "Warning: OE3DToAtomStereo had a problem during conformation test 'LIG'\n",
      "Warning: OE3DToAtomStereo is unable to perceive atom stereo from a flat geometry on atom 8 of molecule 'LIG'\n",
      "Warning: OE3DToAtomStereo had a problem during conformation test 'LIG'\n",
      "Warning: OE3DToAtomStereo is unable to perceive atom stereo from a flat geometry on atom 8 of molecule 'LIG'\n",
      "Warning: OE3DToAtomStereo had a problem during conformation test 'LIG'\n",
      "Warning: OE3DToAtomStereo is unable to perceive atom stereo from a flat geometry on atom 8 of molecule 'LIG'\n",
      "Warning: OE3DToAtomStereo had a problem during conformation test 'LIG'\n",
      "Warning: OE3DToAtomStereo is unable to perceive atom stereo from a flat geometry on atom 8 of molecule 'LIG'\n",
      "Warning: OE3DToAtomStereo had a problem during conformation test 'LIG'\n",
      "Warning: OE3DToAtomStereo is unable to perceive atom stereo from a flat geometry on atom 8 of molecule 'LIG'\n",
      "Warning: OE3DToAtomStereo had a problem during conformation test 'LIG'\n",
      "Warning: OE3DToAtomStereo is unable to perceive atom stereo from a flat geometry on atom 8 of molecule 'LIG'\n",
      "Warning: OE3DToAtomStereo had a problem during conformation test 'LIG'\n",
      "Warning: OE3DToAtomStereo is unable to perceive atom stereo from a flat geometry on atom 8 of molecule 'LIG'\n",
      "Warning: OE3DToAtomStereo had a problem during conformation test 'LIG'\n",
      "Warning: OE3DToAtomStereo is unable to perceive atom stereo from a flat geometry on atom 8 of molecule 'LIG'\n",
      "Warning: OE3DToAtomStereo had a problem during conformation test 'LIG'\n",
      "Warning: OE3DToAtomStereo is unable to perceive atom stereo from a flat geometry on atom 8 of molecule 'LIG'\n",
      "Warning: OE3DToAtomStereo had a problem during conformation test 'LIG'\n",
      "Warning: OE3DToAtomStereo is unable to perceive atom stereo from a flat geometry on atom 8 of molecule 'LIG'\n",
      "Warning: OE3DToAtomStereo had a problem during conformation test 'LIG'\n",
      "Warning: OE3DToAtomStereo is unable to perceive atom stereo from a flat geometry on atom 8 of molecule 'LIG'\n",
      "Warning: OE3DToAtomStereo had a problem during conformation test 'LIG'\n",
      "Warning: OE3DToAtomStereo is unable to perceive atom stereo from a flat geometry on atom 8 of molecule 'LIG'\n",
      "Warning: OE3DToAtomStereo had a problem during conformation test 'LIG'\n",
      "Warning: OE3DToAtomStereo is unable to perceive atom stereo from a flat geometry on atom 8 of molecule 'LIG'\n",
      "Warning: OE3DToAtomStereo had a problem during conformation test 'LIG'\n",
      "Warning: OE3DToAtomStereo is unable to perceive atom stereo from a flat geometry on atom 8 of molecule 'LIG'\n",
      "Warning: OE3DToAtomStereo had a problem during conformation test 'LIG'\n",
      "Warning: OE3DToAtomStereo is unable to perceive atom stereo from a flat geometry on atom 8 of molecule 'LIG'\n",
      "Warning: OE3DToAtomStereo had a problem during conformation test 'LIG'\n",
      "Warning: OE3DToAtomStereo is unable to perceive atom stereo from a flat geometry on atom 8 of molecule 'LIG'\n",
      "Warning: OE3DToAtomStereo had a problem during conformation test 'LIG'\n",
      "Warning: OE3DToAtomStereo is unable to perceive atom stereo from a flat geometry on atom 8 of molecule 'LIG'\n",
      "Warning: OE3DToAtomStereo had a problem during conformation test 'LIG'\n",
      "Warning: OE3DToAtomStereo is unable to perceive atom stereo from a flat geometry on atom 8 of molecule 'LIG'\n",
      "Warning: OE3DToAtomStereo had a problem during conformation test 'LIG'\n",
      "Warning: OE3DToAtomStereo is unable to perceive atom stereo from a flat geometry on atom 8 of molecule 'LIG'\n",
      "Warning: OE3DToAtomStereo had a problem during conformation test 'LIG'\n",
      "Warning: OE3DToAtomStereo is unable to perceive atom stereo from a flat geometry on atom 8 of molecule 'LIG'\n",
      "Warning: OE3DToAtomStereo had a problem during conformation test 'LIG'\n",
      "Warning: OE3DToAtomStereo is unable to perceive atom stereo from a flat geometry on atom 8 of molecule 'LIG'\n",
      "Warning: OE3DToAtomStereo had a problem during conformation test 'LIG'\n",
      "Warning: OE3DToAtomStereo is unable to perceive atom stereo from a flat geometry on atom 8 of molecule 'LIG'\n",
      "Warning: OE3DToAtomStereo had a problem during conformation test 'LIG'\n",
      "Warning: OE3DToAtomStereo is unable to perceive atom stereo from a flat geometry on atom 8 of molecule 'LIG'\n",
      "Warning: OE3DToAtomStereo had a problem during conformation test 'LIG'\n",
      "Warning: OE3DToAtomStereo is unable to perceive atom stereo from a flat geometry on atom 8 of molecule 'LIG'\n",
      "Warning: OE3DToAtomStereo had a problem during conformation test 'LIG'\n",
      "Warning: OE3DToAtomStereo is unable to perceive atom stereo from a flat geometry on atom 8 of molecule 'LIG'\n",
      "Warning: OE3DToAtomStereo had a problem during conformation test 'LIG'\n",
      "Warning: OE3DToAtomStereo is unable to perceive atom stereo from a flat geometry on atom 8 of molecule 'LIG'\n",
      "Warning: OE3DToAtomStereo had a problem during conformation test 'LIG'\n",
      "Warning: OE3DToAtomStereo is unable to perceive atom stereo from a flat geometry on atom 8 of molecule 'LIG'\n",
      "Warning: OE3DToAtomStereo had a problem during conformation test 'LIG'\n",
      "Warning: OE3DToAtomStereo is unable to perceive atom stereo from a flat geometry on atom 8 of molecule 'LIG'\n",
      "Warning: OE3DToAtomStereo had a problem during conformation test 'LIG'\n",
      "Warning: OE3DToAtomStereo is unable to perceive atom stereo from a flat geometry on atom 8 of molecule 'LIG'\n",
      "Warning: OE3DToAtomStereo had a problem during conformation test 'LIG'\n",
      "Warning: OE3DToAtomStereo is unable to perceive atom stereo from a flat geometry on atom 8 of molecule 'LIG'\n",
      "Warning: OE3DToAtomStereo had a problem during conformation test 'LIG'\n",
      "Warning: OE3DToAtomStereo is unable to perceive atom stereo from a flat geometry on atom 8 of molecule 'LIG'\n",
      "Warning: OE3DToAtomStereo had a problem during conformation test 'LIG'\n",
      "Warning: OE3DToAtomStereo is unable to perceive atom stereo from a flat geometry on atom 8 of molecule 'LIG'\n",
      "Warning: OE3DToAtomStereo had a problem during conformation test 'LIG'\n",
      "Warning: OE3DToAtomStereo is unable to perceive atom stereo from a flat geometry on atom 8 of molecule 'LIG'\n",
      "Warning: OE3DToAtomStereo had a problem during conformation test 'LIG'\n",
      "Warning: OE3DToAtomStereo is unable to perceive atom stereo from a flat geometry on atom 8 of molecule 'LIG'\n",
      "Warning: OE3DToAtomStereo had a problem during conformation test 'LIG'\n",
      "Warning: OE3DToAtomStereo is unable to perceive atom stereo from a flat geometry on atom 8 of molecule 'LIG'\n",
      "Warning: OE3DToAtomStereo had a problem during conformation test 'LIG'\n",
      "Warning: OE3DToAtomStereo is unable to perceive atom stereo from a flat geometry on atom 8 of molecule 'LIG'\n",
      "Warning: OE3DToAtomStereo had a problem during conformation test 'LIG'\n",
      "Warning: OE3DToAtomStereo is unable to perceive atom stereo from a flat geometry on atom 8 of molecule 'LIG'\n",
      "Warning: OE3DToAtomStereo had a problem during conformation test 'LIG'\n",
      "Warning: OE3DToAtomStereo is unable to perceive atom stereo from a flat geometry on atom 8 of molecule 'LIG'\n",
      "Warning: OE3DToAtomStereo had a problem during conformation test 'LIG'\n",
      "Warning: OE3DToAtomStereo is unable to perceive atom stereo from a flat geometry on atom 8 of molecule 'LIG'\n",
      "Warning: OE3DToAtomStereo had a problem during conformation test 'LIG'\n",
      "Warning: OE3DToAtomStereo is unable to perceive atom stereo from a flat geometry on atom 8 of molecule 'LIG'\n",
      "Warning: OE3DToAtomStereo had a problem during conformation test 'LIG'\n",
      "Warning: OE3DToAtomStereo is unable to perceive atom stereo from a flat geometry on atom 8 of molecule 'LIG'\n",
      "Warning: OE3DToAtomStereo had a problem during conformation test 'LIG'\n",
      "Warning: OE3DToAtomStereo is unable to perceive atom stereo from a flat geometry on atom 8 of molecule 'LIG'\n",
      "Warning: OE3DToAtomStereo had a problem during conformation test 'LIG'\n",
      "Warning: OE3DToAtomStereo is unable to perceive atom stereo from a flat geometry on atom 8 of molecule 'LIG'\n",
      "Warning: OE3DToAtomStereo had a problem during conformation test 'LIG'\n",
      "Warning: OE3DToAtomStereo is unable to perceive atom stereo from a flat geometry on atom 8 of molecule 'LIG'\n",
      "Warning: OE3DToAtomStereo had a problem during conformation test 'LIG'\n",
      "Warning: OE3DToAtomStereo is unable to perceive atom stereo from a flat geometry on atom 8 of molecule 'LIG'\n",
      "Warning: OE3DToAtomStereo had a problem during conformation test 'LIG'\n",
      "Warning: OE3DToAtomStereo is unable to perceive atom stereo from a flat geometry on atom 8 of molecule 'LIG'\n",
      "Warning: OE3DToAtomStereo had a problem during conformation test 'LIG'\n",
      "Warning: OE3DToAtomStereo is unable to perceive atom stereo from a flat geometry on atom 8 of molecule 'LIG'\n",
      "Warning: OE3DToAtomStereo had a problem during conformation test 'LIG'\n",
      "Warning: OE3DToAtomStereo is unable to perceive atom stereo from a flat geometry on atom 8 of molecule 'LIG'\n",
      "Warning: OE3DToAtomStereo had a problem during conformation test 'LIG'\n",
      "Warning: OE3DToAtomStereo is unable to perceive atom stereo from a flat geometry on atom 8 of molecule 'LIG'\n",
      "Warning: OE3DToAtomStereo had a problem during conformation test 'LIG'\n",
      "Warning: OE3DToAtomStereo is unable to perceive atom stereo from a flat geometry on atom 8 of molecule 'LIG'\n",
      "Warning: OE3DToAtomStereo had a problem during conformation test 'LIG'\n",
      "Warning: OE3DToAtomStereo is unable to perceive atom stereo from a flat geometry on atom 8 of molecule 'LIG'\n",
      "Warning: OE3DToAtomStereo had a problem during conformation test 'LIG'\n",
      "Warning: OE3DToAtomStereo is unable to perceive atom stereo from a flat geometry on atom 8 of molecule 'LIG'\n",
      "Warning: OE3DToAtomStereo had a problem during conformation test 'LIG'\n",
      "Warning: OE3DToAtomStereo is unable to perceive atom stereo from a flat geometry on atom 8 of molecule 'LIG'\n",
      "Warning: OE3DToAtomStereo had a problem during conformation test 'LIG'\n",
      "Warning: OE3DToAtomStereo is unable to perceive atom stereo from a flat geometry on atom 8 of molecule 'LIG'\n",
      "Warning: OE3DToAtomStereo had a problem during conformation test 'LIG'\n",
      "Warning: OE3DToAtomStereo is unable to perceive atom stereo from a flat geometry on atom 8 of molecule 'LIG'\n",
      "Warning: OE3DToAtomStereo had a problem during conformation test 'LIG'\n",
      "Warning: OE3DToAtomStereo is unable to perceive atom stereo from a flat geometry on atom 8 of molecule 'LIG'\n",
      "Warning: OE3DToAtomStereo had a problem during conformation test 'LIG'\n",
      "Warning: OE3DToAtomStereo is unable to perceive atom stereo from a flat geometry on atom 8 of molecule 'LIG'\n",
      "Warning: OE3DToAtomStereo had a problem during conformation test 'LIG'\n",
      "Warning: OE3DToAtomStereo is unable to perceive atom stereo from a flat geometry on atom 8 of molecule 'LIG'\n",
      "Warning: OE3DToAtomStereo had a problem during conformation test 'LIG'\n",
      "Warning: OE3DToAtomStereo is unable to perceive atom stereo from a flat geometry on atom 8 of molecule 'LIG'\n",
      "Warning: OE3DToAtomStereo had a problem during conformation test 'LIG'\n",
      "Warning: OE3DToAtomStereo is unable to perceive atom stereo from a flat geometry on atom 8 of molecule 'LIG'\n",
      "Warning: OE3DToAtomStereo had a problem during conformation test 'LIG'\n",
      "Warning: OE3DToAtomStereo is unable to perceive atom stereo from a flat geometry on atom 8 of molecule 'LIG'\n",
      "Warning: OE3DToAtomStereo had a problem during conformation test 'LIG'\n",
      "Warning: OE3DToAtomStereo is unable to perceive atom stereo from a flat geometry on atom 8 of molecule 'LIG'\n",
      "Warning: OE3DToAtomStereo had a problem during conformation test 'LIG'\n",
      "Warning: OE3DToAtomStereo is unable to perceive atom stereo from a flat geometry on atom 8 of molecule 'LIG'\n",
      "Warning: OE3DToAtomStereo had a problem during conformation test 'LIG'\n",
      "Warning: OE3DToAtomStereo is unable to perceive atom stereo from a flat geometry on atom 8 of molecule 'LIG'\n",
      "Warning: OE3DToAtomStereo had a problem during conformation test 'LIG'\n",
      "Warning: OE3DToAtomStereo is unable to perceive atom stereo from a flat geometry on atom 8 of molecule 'LIG'\n",
      "Warning: OE3DToAtomStereo had a problem during conformation test 'LIG'\n",
      "Warning: OE3DToAtomStereo is unable to perceive atom stereo from a flat geometry on atom 8 of molecule 'LIG'\n",
      "Warning: OE3DToAtomStereo had a problem during conformation test 'LIG'\n",
      "Warning: OE3DToAtomStereo is unable to perceive atom stereo from a flat geometry on atom 8 of molecule 'LIG'\n",
      "Warning: OE3DToAtomStereo had a problem during conformation test 'LIG'\n",
      "Warning: OE3DToAtomStereo is unable to perceive atom stereo from a flat geometry on atom 8 of molecule 'LIG'\n",
      "Warning: OE3DToAtomStereo had a problem during conformation test 'LIG'\n",
      "Warning: OE3DToAtomStereo is unable to perceive atom stereo from a flat geometry on atom 8 of molecule 'LIG'\n",
      "Warning: OE3DToAtomStereo had a problem during conformation test 'LIG'\n",
      "Warning: OE3DToAtomStereo is unable to perceive atom stereo from a flat geometry on atom 8 of molecule 'LIG'\n",
      "Warning: OE3DToAtomStereo had a problem during conformation test 'LIG'\n",
      "Warning: OE3DToAtomStereo is unable to perceive atom stereo from a flat geometry on atom 8 of molecule 'LIG'\n",
      "Warning: OE3DToAtomStereo had a problem during conformation test 'LIG'\n",
      "Warning: OE3DToAtomStereo is unable to perceive atom stereo from a flat geometry on atom 8 of molecule 'LIG'\n",
      "Warning: OE3DToAtomStereo had a problem during conformation test 'LIG'\n",
      "Warning: OE3DToAtomStereo is unable to perceive atom stereo from a flat geometry on atom 8 of molecule 'LIG'\n",
      "Warning: OE3DToAtomStereo had a problem during conformation test 'LIG'\n",
      "Warning: OE3DToAtomStereo is unable to perceive atom stereo from a flat geometry on atom 8 of molecule 'LIG'\n",
      "Warning: OE3DToAtomStereo had a problem during conformation test 'LIG'\n",
      "Warning: OE3DToAtomStereo is unable to perceive atom stereo from a flat geometry on atom 8 of molecule 'LIG'\n",
      "Warning: OE3DToAtomStereo had a problem during conformation test 'LIG'\n",
      "Warning: OE3DToAtomStereo is unable to perceive atom stereo from a flat geometry on atom 8 of molecule 'LIG'\n",
      "Warning: OE3DToAtomStereo had a problem during conformation test 'LIG'\n",
      "Warning: OE3DToAtomStereo is unable to perceive atom stereo from a flat geometry on atom 8 of molecule 'LIG'\n",
      "Warning: OE3DToAtomStereo had a problem during conformation test 'LIG'\n",
      "Warning: OE3DToAtomStereo is unable to perceive atom stereo from a flat geometry on atom 8 of molecule 'LIG'\n",
      "Warning: OE3DToAtomStereo had a problem during conformation test 'LIG'\n",
      "Warning: OE3DToAtomStereo is unable to perceive atom stereo from a flat geometry on atom 8 of molecule 'LIG'\n",
      "Warning: OE3DToAtomStereo had a problem during conformation test 'LIG'\n",
      "Warning: OE3DToAtomStereo is unable to perceive atom stereo from a flat geometry on atom 8 of molecule 'LIG'\n",
      "Warning: OE3DToAtomStereo had a problem during conformation test 'LIG'\n",
      "Warning: OE3DToAtomStereo is unable to perceive atom stereo from a flat geometry on atom 8 of molecule 'LIG'\n",
      "Warning: OE3DToAtomStereo had a problem during conformation test 'LIG'\n",
      "Warning: OE3DToAtomStereo is unable to perceive atom stereo from a flat geometry on atom 8 of molecule 'LIG'\n",
      "Warning: OE3DToAtomStereo had a problem during conformation test 'LIG'\n",
      "Warning: OE3DToAtomStereo is unable to perceive atom stereo from a flat geometry on atom 8 of molecule 'LIG'\n",
      "Warning: OE3DToAtomStereo had a problem during conformation test 'LIG'\n",
      "Warning: OE3DToAtomStereo is unable to perceive atom stereo from a flat geometry on atom 8 of molecule 'LIG'\n",
      "Warning: OE3DToAtomStereo had a problem during conformation test 'LIG'\n",
      "Warning: OE3DToAtomStereo is unable to perceive atom stereo from a flat geometry on atom 8 of molecule 'LIG'\n",
      "Warning: OE3DToAtomStereo had a problem during conformation test 'LIG'\n",
      "Warning: OE3DToAtomStereo is unable to perceive atom stereo from a flat geometry on atom 8 of molecule 'LIG'\n",
      "Warning: OE3DToAtomStereo had a problem during conformation test 'LIG'\n",
      "Warning: OE3DToAtomStereo is unable to perceive atom stereo from a flat geometry on atom 8 of molecule 'LIG'\n",
      "Warning: OE3DToAtomStereo had a problem during conformation test 'LIG'\n",
      "Warning: OE3DToAtomStereo is unable to perceive atom stereo from a flat geometry on atom 8 of molecule 'LIG'\n",
      "Warning: OE3DToAtomStereo had a problem during conformation test 'LIG'\n",
      "Warning: OE3DToAtomStereo is unable to perceive atom stereo from a flat geometry on atom 8 of molecule 'LIG'\n",
      "Warning: OE3DToAtomStereo had a problem during conformation test 'LIG'\n",
      "Warning: OE3DToAtomStereo is unable to perceive atom stereo from a flat geometry on atom 8 of molecule 'LIG'\n",
      "Warning: OE3DToAtomStereo had a problem during conformation test 'LIG'\n",
      "Warning: OE3DToAtomStereo is unable to perceive atom stereo from a flat geometry on atom 8 of molecule 'LIG'\n",
      "Warning: OE3DToAtomStereo had a problem during conformation test 'LIG'\n",
      "Warning: OE3DToAtomStereo is unable to perceive atom stereo from a flat geometry on atom 8 of molecule 'LIG'\n",
      "Warning: OE3DToAtomStereo had a problem during conformation test 'LIG'\n",
      "Warning: OE3DToAtomStereo is unable to perceive atom stereo from a flat geometry on atom 8 of molecule 'LIG'\n",
      "Warning: OE3DToAtomStereo had a problem during conformation test 'LIG'\n",
      "Warning: OE3DToAtomStereo is unable to perceive atom stereo from a flat geometry on atom 8 of molecule 'LIG'\n",
      "Warning: OE3DToAtomStereo had a problem during conformation test 'LIG'\n",
      "Warning: OE3DToAtomStereo is unable to perceive atom stereo from a flat geometry on atom 8 of molecule 'LIG'\n",
      "Warning: OE3DToAtomStereo had a problem during conformation test 'LIG'\n",
      "Warning: OE3DToAtomStereo is unable to perceive atom stereo from a flat geometry on atom 8 of molecule 'LIG'\n",
      "Warning: OE3DToAtomStereo had a problem during conformation test 'LIG'\n",
      "Warning: OE3DToAtomStereo is unable to perceive atom stereo from a flat geometry on atom 8 of molecule 'LIG'\n",
      "Warning: OE3DToAtomStereo had a problem during conformation test 'LIG'\n",
      "Warning: OE3DToAtomStereo is unable to perceive atom stereo from a flat geometry on atom 8 of molecule 'LIG'\n",
      "Warning: OE3DToAtomStereo had a problem during conformation test 'LIG'\n",
      "Warning: OE3DToAtomStereo is unable to perceive atom stereo from a flat geometry on atom 8 of molecule 'LIG'\n",
      "Warning: OE3DToAtomStereo had a problem during conformation test 'LIG'\n",
      "Warning: OE3DToAtomStereo is unable to perceive atom stereo from a flat geometry on atom 8 of molecule 'LIG'\n",
      "Warning: OE3DToAtomStereo had a problem during conformation test 'LIG'\n",
      "Warning: OE3DToAtomStereo is unable to perceive atom stereo from a flat geometry on atom 8 of molecule 'LIG'\n",
      "Warning: OE3DToAtomStereo had a problem during conformation test 'LIG'\n",
      "Warning: OE3DToAtomStereo is unable to perceive atom stereo from a flat geometry on atom 8 of molecule 'LIG'\n",
      "Warning: OE3DToAtomStereo had a problem during conformation test 'LIG'\n",
      "Warning: OE3DToAtomStereo is unable to perceive atom stereo from a flat geometry on atom 8 of molecule 'LIG'\n",
      "Warning: OE3DToAtomStereo had a problem during conformation test 'LIG'\n",
      "Warning: OE3DToAtomStereo is unable to perceive atom stereo from a flat geometry on atom 8 of molecule 'LIG'\n",
      "Warning: OE3DToAtomStereo had a problem during conformation test 'LIG'\n",
      "Warning: OE3DToAtomStereo is unable to perceive atom stereo from a flat geometry on atom 8 of molecule 'LIG'\n",
      "Warning: OE3DToAtomStereo had a problem during conformation test 'LIG'\n",
      "Warning: OE3DToAtomStereo is unable to perceive atom stereo from a flat geometry on atom 8 of molecule 'LIG'\n",
      "Warning: OE3DToAtomStereo had a problem during conformation test 'LIG'\n",
      "Warning: OE3DToAtomStereo is unable to perceive atom stereo from a flat geometry on atom 8 of molecule 'LIG'\n",
      "Warning: OE3DToAtomStereo had a problem during conformation test 'LIG'\n",
      "Warning: OE3DToAtomStereo is unable to perceive atom stereo from a flat geometry on atom 8 of molecule 'LIG'\n",
      "Warning: OE3DToAtomStereo had a problem during conformation test 'LIG'\n",
      "Warning: OE3DToAtomStereo is unable to perceive atom stereo from a flat geometry on atom 8 of molecule 'LIG'\n",
      "Warning: OE3DToAtomStereo had a problem during conformation test 'LIG'\n",
      "Warning: OE3DToAtomStereo is unable to perceive atom stereo from a flat geometry on atom 8 of molecule 'LIG'\n",
      "Warning: OE3DToAtomStereo had a problem during conformation test 'LIG'\n",
      "Warning: OE3DToAtomStereo is unable to perceive atom stereo from a flat geometry on atom 8 of molecule 'LIG'\n",
      "Warning: OE3DToAtomStereo had a problem during conformation test 'LIG'\n",
      "Warning: OE3DToAtomStereo is unable to perceive atom stereo from a flat geometry on atom 8 of molecule 'LIG'\n",
      "Warning: OE3DToAtomStereo had a problem during conformation test 'LIG'\n"
     ]
    }
   ],
   "source": [
    "pairs = selector.select(ligands, complexes)"
   ],
   "metadata": {
    "collapsed": false,
    "ExecuteTime": {
     "end_time": "2024-04-25T18:28:15.184862Z",
     "start_time": "2024-04-25T18:28:05.506269Z"
    }
   },
   "id": "64cefea78ac239ef",
   "execution_count": 51
  },
  {
   "cell_type": "code",
   "outputs": [
    {
     "data": {
      "text/plain": "90"
     },
     "execution_count": 52,
     "metadata": {},
     "output_type": "execute_result"
    }
   ],
   "source": [
    "len(pairs)"
   ],
   "metadata": {
    "collapsed": false,
    "ExecuteTime": {
     "end_time": "2024-04-25T18:28:15.192138Z",
     "start_time": "2024-04-25T18:28:15.186927Z"
    }
   },
   "id": "db5e918078166918",
   "execution_count": 52
  },
  {
   "cell_type": "markdown",
   "source": [],
   "metadata": {
    "collapsed": false
   },
   "id": "c10afe1ba05c07b5"
  },
  {
   "cell_type": "markdown",
   "source": [
    "## Advanced Topics: Multi-Structure Docking"
   ],
   "metadata": {
    "collapsed": false
   },
   "id": "23cd649995d30efd"
  },
  {
   "cell_type": "markdown",
   "source": [
    "\n",
    "Some docking protocols (i.e., POSIT) will accept multiple receptor structures and choose for themselves which to dock to. For these docking protocols, we pass a different kind of input:"
   ],
   "metadata": {
    "collapsed": false
   },
   "id": "4cc3cb4d9ba92350"
  },
  {
   "cell_type": "code",
   "outputs": [],
   "source": [
    "from asapdiscovery.docking.docking import DockingInputMultiStructure\n",
    "from asapdiscovery.data.operators.selectors.selector_list import StructureSelector"
   ],
   "metadata": {
    "collapsed": false,
    "ExecuteTime": {
     "end_time": "2024-05-04T19:50:53.169805Z",
     "start_time": "2024-05-04T19:50:53.157809Z"
    }
   },
   "id": "beaea6120bb0b262",
   "execution_count": 17
  },
  {
   "cell_type": "code",
   "outputs": [],
   "source": [
    "cached_dus = {\n",
    "        \"Mpro-x1002\": \"du_cache/Mpro-x1002_0A_bound.oedu\",\n",
    "        \"Mpro-x0354\": \"du_cache/Mpro-x0354_0A_bound.oedu\",\n",
    "    }\n",
    "prepped_complexes = [\n",
    "        PreppedComplex.from_oedu_file(\n",
    "            fetch_test_file(cached_du),\n",
    "            ligand_kwargs={\"compound_name\": \"test\"},\n",
    "            target_kwargs={\"target_name\": name, \"target_hash\": \"mock_hash\"},\n",
    "        )\n",
    "        for name, cached_du in cached_dus.items()\n",
    "    ]\n",
    "ligand = Ligand.from_sdf(\n",
    "        fetch_test_file(\"Mpro-P0008_0A_ERI-UCB-ce40166b-17.sdf\"), compound_name=\"test\"\n",
    "    )"
   ],
   "metadata": {
    "collapsed": false,
    "ExecuteTime": {
     "end_time": "2024-05-04T19:50:54.207778Z",
     "start_time": "2024-05-04T19:50:53.960165Z"
    }
   },
   "id": "ef5e2d307e8fe72f",
   "execution_count": 18
  },
  {
   "cell_type": "markdown",
   "source": [
    "Let's assume we had gotten this subset of ligand-protein pairs from the selector logic from above. This would look something like this:"
   ],
   "metadata": {
    "collapsed": false
   },
   "id": "a6bb4861bcc951e2"
  },
  {
   "cell_type": "code",
   "outputs": [
    {
     "data": {
      "text/plain": "2"
     },
     "execution_count": 19,
     "metadata": {},
     "output_type": "execute_result"
    }
   ],
   "source": [
    "selector = StructureSelector('LeaveSimilarOutSelector').selector_cls()\n",
    "pairs = selector.select([ligand], prepped_complexes)\n",
    "len(pairs)"
   ],
   "metadata": {
    "collapsed": false,
    "ExecuteTime": {
     "end_time": "2024-05-04T19:50:55.204235Z",
     "start_time": "2024-05-04T19:50:54.974004Z"
    }
   },
   "id": "56ae3d56aefdd676",
   "execution_count": 19
  },
  {
   "cell_type": "markdown",
   "source": [
    "We then collapse these pairs into a single MultiStructure set:"
   ],
   "metadata": {
    "collapsed": false
   },
   "id": "77fa7f097b8c05e7"
  },
  {
   "cell_type": "code",
   "outputs": [],
   "source": [
    "inputs = DockingInputMultiStructure.from_pairs(pairs) # Returns a list since multiple sets could be generated"
   ],
   "metadata": {
    "collapsed": false,
    "ExecuteTime": {
     "end_time": "2024-05-04T19:50:56.095573Z",
     "start_time": "2024-05-04T19:50:56.091224Z"
    }
   },
   "id": "bc44f9a4d4e44e81",
   "execution_count": 20
  },
  {
   "cell_type": "markdown",
   "source": [
    "If we already knew exactly what we wanted to do, we could just create the set directly:"
   ],
   "metadata": {
    "collapsed": false
   },
   "id": "ef0984eb7f6d012d"
  },
  {
   "cell_type": "code",
   "outputs": [],
   "source": [
    "alternate_inputs = DockingInputMultiStructure(ligand=ligand, complexes=prepped_complexes)"
   ],
   "metadata": {
    "collapsed": false,
    "ExecuteTime": {
     "end_time": "2024-05-04T19:50:59.451809Z",
     "start_time": "2024-05-04T19:50:59.448893Z"
    }
   },
   "id": "efc3ec6333d0e4ff",
   "execution_count": 21
  },
  {
   "cell_type": "markdown",
   "source": [
    "We can see that two are equivalent in this case:"
   ],
   "metadata": {
    "collapsed": false
   },
   "id": "c8869871f782821a"
  },
  {
   "cell_type": "code",
   "outputs": [
    {
     "data": {
      "text/plain": "True"
     },
     "execution_count": 22,
     "metadata": {},
     "output_type": "execute_result"
    }
   ],
   "source": [
    "inputs[0] == alternate_inputs"
   ],
   "metadata": {
    "collapsed": false,
    "ExecuteTime": {
     "end_time": "2024-05-04T19:51:00.777221Z",
     "start_time": "2024-05-04T19:51:00.773801Z"
    }
   },
   "id": "fd357bd6d104d9e8",
   "execution_count": 22
  },
  {
   "cell_type": "markdown",
   "source": [
    "Now we run docking as before:"
   ],
   "metadata": {
    "collapsed": false
   },
   "id": "7f33cffdbfb70ca9"
  },
  {
   "cell_type": "code",
   "outputs": [],
   "source": [
    "docker = POSITDocker() # let's just use defaults for now"
   ],
   "metadata": {
    "collapsed": false,
    "ExecuteTime": {
     "end_time": "2024-05-04T19:52:20.004120Z",
     "start_time": "2024-05-04T19:52:20.001363Z"
    }
   },
   "id": "e44ee5641c5cd712",
   "execution_count": 24
  },
  {
   "cell_type": "code",
   "outputs": [],
   "source": [
    "results = docker.dock(inputs) # we won't use dask or write an output, takes ~3 minutes on a Macbook Pro"
   ],
   "metadata": {
    "collapsed": false,
    "ExecuteTime": {
     "end_time": "2024-05-04T19:55:06.632395Z",
     "start_time": "2024-05-04T19:52:20.227493Z"
    }
   },
   "id": "59ea45bad2128216",
   "execution_count": 25
  },
  {
   "cell_type": "code",
   "outputs": [],
   "source": [
    "result = results[0]"
   ],
   "metadata": {
    "collapsed": false,
    "ExecuteTime": {
     "end_time": "2024-05-04T19:55:06.637682Z",
     "start_time": "2024-05-04T19:55:06.634941Z"
    }
   },
   "id": "5d432d326184dbbd",
   "execution_count": 26
  },
  {
   "cell_type": "code",
   "outputs": [],
   "source": [
    "result.write_docking_files(\"multi_structure_docking_test\")"
   ],
   "metadata": {
    "collapsed": false,
    "ExecuteTime": {
     "end_time": "2024-05-04T19:55:06.912526Z",
     "start_time": "2024-05-04T19:55:06.639322Z"
    }
   },
   "id": "ecc8cdd2eb073af",
   "execution_count": 27
  },
  {
   "cell_type": "markdown",
   "source": [
    "Since we input multiple structures, we don't know which one it actually used. We can find this out by examining the results:"
   ],
   "metadata": {
    "collapsed": false
   },
   "id": "73ec695e8d32f737"
  },
  {
   "cell_type": "code",
   "outputs": [
    {
     "data": {
      "text/plain": "'Mpro-x0354'"
     },
     "execution_count": 28,
     "metadata": {},
     "output_type": "execute_result"
    }
   ],
   "source": [
    "result.input_pair.complex.target.target_name"
   ],
   "metadata": {
    "collapsed": false,
    "ExecuteTime": {
     "end_time": "2024-05-04T19:55:06.918502Z",
     "start_time": "2024-05-04T19:55:06.915271Z"
    }
   },
   "id": "9408902e9f618b23",
   "execution_count": 28
  },
  {
   "cell_type": "markdown",
   "source": [
    "## Advanced Topics: Multi-pose Docking"
   ],
   "metadata": {
    "collapsed": false
   },
   "id": "4b684cd6a21a1554"
  },
  {
   "cell_type": "markdown",
   "source": [
    "Note: this is functionality that was most recently added. Please make an issue if you encounter problems :)\n",
    "\n",
    "We'll use the same docking scheme as above"
   ],
   "metadata": {
    "collapsed": false
   },
   "id": "e2cdcaaabbbb112a"
  },
  {
   "cell_type": "code",
   "outputs": [],
   "source": [
    "from asapdiscovery.docking.docking import DockingInputPair\n",
    "prepped_complex = PreppedComplex.from_oedu_file(\n",
    "        fetch_test_file(\"Mpro-P2660_0A_bound-prepped_receptor.oedu\"),\n",
    "        ligand_kwargs={\"compound_name\": \"test\"},\n",
    "        target_kwargs={\"target_name\": \"test\", \"target_hash\": \"mock_hash\"},\n",
    "    )\n",
    "ligand = Ligand.from_sdf(\n",
    "        fetch_test_file(\"Mpro-P0008_0A_ERI-UCB-ce40166b-17.sdf\"), compound_name=\"test\"\n",
    "    )\n",
    "input_pair = DockingInputPair(ligand=ligand, complex=prepped_complex)"
   ],
   "metadata": {
    "collapsed": false,
    "ExecuteTime": {
     "end_time": "2024-04-25T18:31:27.278863Z",
     "start_time": "2024-04-25T18:31:26.996019Z"
    }
   },
   "id": "286da78a989fe721",
   "execution_count": 63
  },
  {
   "cell_type": "code",
   "outputs": [],
   "source": [
    "docker = POSITDocker(num_poses=50) # we set the number of poses when we create the docker"
   ],
   "metadata": {
    "collapsed": false,
    "ExecuteTime": {
     "end_time": "2024-04-25T18:31:27.284561Z",
     "start_time": "2024-04-25T18:31:27.280829Z"
    }
   },
   "id": "300f06cb8ddc89a0",
   "execution_count": 64
  },
  {
   "cell_type": "code",
   "outputs": [],
   "source": [
    "results = docker.dock([input_pair]) # we won't use dask or write an output, takes ~1 min on a Macbook Pro"
   ],
   "metadata": {
    "collapsed": false,
    "ExecuteTime": {
     "end_time": "2024-04-25T18:32:27.648140Z",
     "start_time": "2024-04-25T18:31:27.286270Z"
    }
   },
   "id": "4106e4745d9d0dfa",
   "execution_count": 65
  },
  {
   "cell_type": "markdown",
   "source": [
    "NOTE: As of version 0.3.1, we can generate multipose docking results, but there's nothing to distinguish them, and when you run result.write_docking_files the results for each ligand will overwrite each other. This should be fixed by 0.4.0"
   ],
   "metadata": {
    "collapsed": false
   },
   "id": "1def3220e75e0651"
  },
  {
   "cell_type": "code",
   "outputs": [
    {
     "data": {
      "text/plain": "26"
     },
     "execution_count": 66,
     "metadata": {},
     "output_type": "execute_result"
    }
   ],
   "source": [
    "len(results)"
   ],
   "metadata": {
    "collapsed": false,
    "ExecuteTime": {
     "end_time": "2024-04-25T18:32:27.660573Z",
     "start_time": "2024-04-25T18:32:27.651903Z"
    }
   },
   "id": "740d37a3ffad9e43",
   "execution_count": 66
  },
  {
   "cell_type": "code",
   "outputs": [
    {
     "name": "stdout",
     "output_type": "stream",
     "text": [
      "[0.23999999463558197, 0.23999999463558197, 0.23999999463558197, 0.23999999463558197, 0.23999999463558197, 0.23999999463558197, 0.23999999463558197, 0.23999999463558197, 0.23999999463558197, 0.18000000715255737, 0.18000000715255737, 0.18000000715255737, 0.18000000715255737, 0.18000000715255737, 0.18000000715255737, 0.18000000715255737, 0.18000000715255737, 0.18000000715255737, 0.18000000715255737, 0.18000000715255737, 0.18000000715255737, 0.18000000715255737, 0.18000000715255737, 0.05000000074505806, 0.05000000074505806, 0.05000000074505806]\n"
     ]
    }
   ],
   "source": [
    "print([result.probability for result in results])"
   ],
   "metadata": {
    "collapsed": false,
    "ExecuteTime": {
     "end_time": "2024-04-25T18:32:27.674003Z",
     "start_time": "2024-04-25T18:32:27.663447Z"
    }
   },
   "id": "f1118bd8aa6e30bc",
   "execution_count": 67
  },
  {
   "cell_type": "markdown",
   "source": [
    "## A few side notes: Dask and Target Specific Workflows"
   ],
   "metadata": {
    "collapsed": false
   },
   "id": "1fdead236a1e76f"
  },
  {
   "cell_type": "markdown",
   "source": [
    "### Dask"
   ],
   "metadata": {
    "collapsed": false
   },
   "id": "cca7da8cadf596f3"
  },
  {
   "cell_type": "markdown",
   "source": [
    "We make heavy use of Dask throughout our code, which helps automate parallel processing and provides a nice dashboard for evaluating the progress of large scale docking efforts. Due to the way in which Dask automates error handling, this has occasionally led to situations where the behaviour of our code is different depending on whether you have enabled Dask. We have tried to stamp out any instances of this, but if you find another, please make an issue!"
   ],
   "metadata": {
    "collapsed": false
   },
   "id": "6af146d6f9b22551"
  },
  {
   "cell_type": "markdown",
   "source": [
    "### Target-specific workflows"
   ],
   "metadata": {
    "collapsed": false
   },
   "id": "cb96fc4cad7e758a"
  },
  {
   "cell_type": "markdown",
   "source": [
    "We have implemented our library code within the `asapdiscovery-workflows` module, which puts everything together in a command-line interface (cli). Unfortunately, as of version 0.4, these workflows only work if you are using the targets specified for ASAP. We plan on changing this for version 0.5 "
   ],
   "metadata": {
    "collapsed": false
   },
   "id": "a897e110095c4b6"
  },
  {
   "cell_type": "markdown",
   "source": [
    "To find out which targets can be passed to these workflows, you can use this:"
   ],
   "metadata": {
    "collapsed": false
   },
   "id": "aeb67094b84d84f2"
  },
  {
   "cell_type": "code",
   "outputs": [],
   "source": [
    "from asapdiscovery.data.services.postera.manifold_data_validation import TargetTags"
   ],
   "metadata": {
    "collapsed": false,
    "ExecuteTime": {
     "end_time": "2024-05-04T19:55:06.921908Z",
     "start_time": "2024-05-04T19:55:06.919532Z"
    }
   },
   "id": "986630eb29710dde",
   "execution_count": 29
  },
  {
   "cell_type": "code",
   "outputs": [
    {
     "data": {
      "text/plain": "['DENV-NS2B-NS3pro',\n 'SARS-CoV-2-N-protein',\n 'SARS-CoV-2-Mpro',\n 'EV-D68-Capsid',\n 'ZIKV-NS2B-NS3pro',\n 'SARS-CoV-2-Mac1',\n 'MERS-CoV-Mpro',\n 'EV-A71-3Cpro',\n 'EV-D68-3Cpro',\n 'EV-A71-Capsid']"
     },
     "execution_count": 30,
     "metadata": {},
     "output_type": "execute_result"
    }
   ],
   "source": [
    "TargetTags.get_values()"
   ],
   "metadata": {
    "collapsed": false,
    "ExecuteTime": {
     "end_time": "2024-05-04T19:55:06.927301Z",
     "start_time": "2024-05-04T19:55:06.923292Z"
    }
   },
   "id": "d53657ae265ce4d5",
   "execution_count": 30
  }
 ],
 "metadata": {
  "kernelspec": {
   "display_name": "Python 3 (ipykernel)",
   "language": "python",
   "name": "python3"
  },
  "language_info": {
   "codemirror_mode": {
    "name": "ipython",
    "version": 3
   },
   "file_extension": ".py",
   "mimetype": "text/x-python",
   "name": "python",
   "nbconvert_exporter": "python",
   "pygments_lexer": "ipython3",
   "version": "3.10.13"
  }
 },
 "nbformat": 4,
 "nbformat_minor": 5
}
