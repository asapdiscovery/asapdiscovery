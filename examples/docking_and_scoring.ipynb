{
 "cells": [
  {
   "cell_type": "markdown",
   "id": "a9dd55cb-bb04-47e5-9758-f006379db2c3",
   "metadata": {},
   "source": [
    "# Intro"
   ]
  },
  {
   "cell_type": "markdown",
   "source": [
    "This notebook will show you how to dock and score molecules using the asapdiscovery-docking module. \n",
    "\n",
    "This docking pipeline primarily focuses on the use-case for a structure-enabled drug discovery program, in which we have crystal structures of early molecules to use for *reference-based* docking. \n",
    "\n",
    "To this end, we have implemented an api that wraps the OpenEye POSIT docking algorithm, which through it's use of the HYBRID and SHAPEFIT algorithms, enables reference-based docking. "
   ],
   "metadata": {
    "collapsed": false
   },
   "id": "70b9d2640eb06041"
  },
  {
   "cell_type": "markdown",
   "source": [
    "## The scope of this guide"
   ],
   "metadata": {
    "collapsed": false
   },
   "id": "28497ab0b4fa94ca"
  },
  {
   "cell_type": "markdown",
   "source": [
    "This guide will show you how to dock and score molecules. For the *extremely* necessary precursor step of data loading and prepping, please see [protein_and_ligand_prep](%protein_and_ligand_prep.ipynb)"
   ],
   "metadata": {
    "collapsed": false
   },
   "id": "506fdcc62785c33c"
  },
  {
   "cell_type": "markdown",
   "source": [
    "# Data"
   ],
   "metadata": {
    "collapsed": false
   },
   "id": "fc7d5b6c525f9fee"
  },
  {
   "cell_type": "markdown",
   "source": [
    "We will use files we use for testing. Since these molecules have already been prepped for docking"
   ],
   "metadata": {
    "collapsed": false
   },
   "id": "8f8614357c006f2"
  },
  {
   "cell_type": "code",
   "outputs": [],
   "source": [
    "from asapdiscovery.data.testing.test_resources import fetch_test_file\n",
    "from asapdiscovery.data.schema.complex import PreppedComplex\n",
    "from asapdiscovery.data.schema.ligand import Ligand\n",
    "prepped_complex = PreppedComplex.from_oedu_file(\n",
    "        fetch_test_file(\"Mpro-P2660_0A_bound-prepped_receptor.oedu\"),\n",
    "        ligand_kwargs={\"compound_name\": \"test\"},\n",
    "        target_kwargs={\"target_name\": \"test\", \"target_hash\": \"mock_hash\"},\n",
    "    )\n",
    "ligand = Ligand.from_sdf(\n",
    "        fetch_test_file(\"Mpro-P0008_0A_ERI-UCB-ce40166b-17.sdf\"), compound_name=\"test\"\n",
    "    )"
   ],
   "metadata": {
    "collapsed": false,
    "ExecuteTime": {
     "end_time": "2024-04-25T17:14:51.435361Z",
     "start_time": "2024-04-25T17:14:48.190358Z"
    }
   },
   "id": "c4002264f3f38448",
   "execution_count": 1
  },
  {
   "cell_type": "markdown",
   "source": [
    "# Docking"
   ],
   "metadata": {
    "collapsed": false
   },
   "id": "351dc9ddd333aaa9"
  },
  {
   "cell_type": "markdown",
   "source": [
    "As with any scientific endeavour, it's important to consider why you want to run docking and what you expect to get out of this."
   ],
   "metadata": {
    "collapsed": false
   },
   "id": "e5eb1cbdeb83a33d"
  },
  {
   "cell_type": "markdown",
   "source": [
    "| Context           | Goal                                                                     | Considerations                                                                                                                                                                                 |\n",
    "|-------------------|--------------------------------------------------------------------------|------------------------------------------------------------------------------------------------------------------------------------------------------------------------------------------------|\n",
    "| Hit-to-lead       | Reference-based docking of 100s-1000s of molecules                       | High-throughput, low false-positives                                                                                                                                                           |\n",
    "| Lead-Optimization | Reference-based docking of 10s-100s of molecules                         | High accuracy, low false-positives. You probably know generally where the molecules should bind, and the maximum common substructures of the molecules should probably be very closely aligned |\n",
    "| Research          | Generate protein-ligand complexes for downstream analyses or ML training | High-throughput but you can live with in-accurate poses because                                                                                                                                |\n"
   ],
   "metadata": {
    "collapsed": false
   },
   "id": "5a9a5b77815cc15b"
  },
  {
   "cell_type": "code",
   "outputs": [],
   "source": [],
   "metadata": {
    "collapsed": false,
    "ExecuteTime": {
     "end_time": "2024-04-25T17:14:51.440614Z",
     "start_time": "2024-04-25T17:14:51.437934Z"
    }
   },
   "id": "5405b3d692ed173a",
   "execution_count": 1
  },
  {
   "cell_type": "markdown",
   "source": [
    "## Examining the POSITDocker"
   ],
   "metadata": {
    "collapsed": false
   },
   "id": "6e6495a9b40fcf4b"
  },
  {
   "cell_type": "markdown",
   "source": [
    "There are a *ton* of choices we can make for running docking, which will not be enumerated here. But in order to get a flavor for the options, we can examine the class attributes of the POSITDocker:"
   ],
   "metadata": {
    "collapsed": false
   },
   "id": "83d11ecc36f27b8b"
  },
  {
   "cell_type": "code",
   "outputs": [],
   "source": [
    "from asapdiscovery.docking.openeye import POSITDocker"
   ],
   "metadata": {
    "collapsed": false,
    "ExecuteTime": {
     "end_time": "2024-04-25T17:14:52.421179Z",
     "start_time": "2024-04-25T17:14:51.442464Z"
    }
   },
   "id": "1e8b578e0c5cd0e9",
   "execution_count": 2
  },
  {
   "cell_type": "code",
   "outputs": [],
   "source": [
    "docker = POSITDocker()"
   ],
   "metadata": {
    "collapsed": false,
    "ExecuteTime": {
     "end_time": "2024-04-25T17:14:52.428269Z",
     "start_time": "2024-04-25T17:14:52.424760Z"
    }
   },
   "id": "bcb198f12778c0ee",
   "execution_count": 3
  },
  {
   "cell_type": "code",
   "outputs": [
    {
     "data": {
      "text/plain": "{'type': 'POSITDocker',\n 'relax': <POSIT_RELAX_MODE.NONE: 0>,\n 'posit_method': <POSIT_METHOD.ALL: 15>,\n 'use_omega': True,\n 'omega_dense': False,\n 'num_poses': 1,\n 'allow_low_posit_prob': False,\n 'low_posit_prob_thresh': 0.1,\n 'allow_final_clash': False,\n 'allow_retries': True}"
     },
     "execution_count": 4,
     "metadata": {},
     "output_type": "execute_result"
    }
   ],
   "source": [
    "docker.dict()"
   ],
   "metadata": {
    "collapsed": false,
    "ExecuteTime": {
     "end_time": "2024-04-25T17:14:52.439461Z",
     "start_time": "2024-04-25T17:14:52.430225Z"
    }
   },
   "id": "4367f0f81f56bb65",
   "execution_count": 4
  },
  {
   "cell_type": "markdown",
   "source": [
    "We can also look at the `.dock` method to see what arguments we can make "
   ],
   "metadata": {
    "collapsed": false
   },
   "id": "3c34f0285df898de"
  },
  {
   "cell_type": "code",
   "outputs": [],
   "source": [
    "docker.dock?"
   ],
   "metadata": {
    "collapsed": false,
    "ExecuteTime": {
     "end_time": "2024-04-25T17:14:52.503788Z",
     "start_time": "2024-04-25T17:14:52.441335Z"
    }
   },
   "id": "86175d6e3e49303c",
   "execution_count": 5
  },
  {
   "cell_type": "markdown",
   "source": [
    "We can see that we need:\n",
    "1) a list of DockingInputBase objects\n",
    "2) an output directory\n",
    "3) and some dask options"
   ],
   "metadata": {
    "collapsed": false
   },
   "id": "bbf6a77ef91fe4cb"
  },
  {
   "cell_type": "markdown",
   "source": [
    "Currently, we have 2 kinds of DockingInputBase objects implemented:\n",
    "1) a complex-ligand pair (DockingInputPair)\n",
    "2) a one-to-many ligand:complexes object (DockingInputMultiStructure)"
   ],
   "metadata": {
    "collapsed": false
   },
   "id": "d2f1782a6f9a548f"
  },
  {
   "cell_type": "code",
   "outputs": [],
   "source": [
    "from asapdiscovery.docking.docking import DockingInputPair, DockingInputMultiStructure"
   ],
   "metadata": {
    "collapsed": false,
    "ExecuteTime": {
     "end_time": "2024-04-25T17:14:52.508655Z",
     "start_time": "2024-04-25T17:14:52.505317Z"
    }
   },
   "id": "cdf69c1dcb304b53",
   "execution_count": 6
  },
  {
   "cell_type": "markdown",
   "source": [
    "## Running simple docking "
   ],
   "metadata": {
    "collapsed": false
   },
   "id": "c50f672710755a10"
  },
  {
   "cell_type": "markdown",
   "source": [
    "### First we generate docking input"
   ],
   "metadata": {
    "collapsed": false
   },
   "id": "6dc0b06c18365a6b"
  },
  {
   "cell_type": "code",
   "outputs": [],
   "source": [
    "input_pair = DockingInputPair(ligand=ligand, complex=prepped_complex)"
   ],
   "metadata": {
    "collapsed": false,
    "ExecuteTime": {
     "end_time": "2024-04-25T17:14:52.515070Z",
     "start_time": "2024-04-25T17:14:52.511212Z"
    }
   },
   "id": "c6af7343f46886e",
   "execution_count": 7
  },
  {
   "cell_type": "code",
   "outputs": [],
   "source": [
    "docker = POSITDocker() # let's just use defaults for now"
   ],
   "metadata": {
    "collapsed": false,
    "ExecuteTime": {
     "end_time": "2024-04-25T17:14:52.520780Z",
     "start_time": "2024-04-25T17:14:52.517704Z"
    }
   },
   "id": "3b20db10ccb47efd",
   "execution_count": 8
  },
  {
   "cell_type": "code",
   "outputs": [],
   "source": [
    "results = docker.dock([input_pair]) # we won't use dask or write an output, takes ~30 s on a Macbook Pro"
   ],
   "metadata": {
    "collapsed": false,
    "ExecuteTime": {
     "end_time": "2024-04-25T17:15:17.757775Z",
     "start_time": "2024-04-25T17:14:52.528336Z"
    }
   },
   "id": "1249bc9db313ea3c",
   "execution_count": 9
  },
  {
   "cell_type": "markdown",
   "source": [
    "This returns a list of POSITDockingResults objects!"
   ],
   "metadata": {
    "collapsed": false
   },
   "id": "b0f912b68fb1cde4"
  },
  {
   "cell_type": "code",
   "outputs": [],
   "source": [
    "result = results[0]"
   ],
   "metadata": {
    "collapsed": false,
    "ExecuteTime": {
     "end_time": "2024-04-25T17:15:17.762417Z",
     "start_time": "2024-04-25T17:15:17.759404Z"
    }
   },
   "id": "e8f208e377bb2b20",
   "execution_count": 10
  },
  {
   "cell_type": "code",
   "outputs": [],
   "source": [
    "result.write_docking_files(\"docking_test\")"
   ],
   "metadata": {
    "collapsed": false,
    "ExecuteTime": {
     "end_time": "2024-04-25T17:15:18.092744Z",
     "start_time": "2024-04-25T17:15:17.765026Z"
    }
   },
   "id": "8cda12ed29150315",
   "execution_count": 11
  },
  {
   "cell_type": "code",
   "outputs": [],
   "source": [],
   "metadata": {
    "collapsed": false,
    "ExecuteTime": {
     "end_time": "2024-04-25T17:15:18.097321Z",
     "start_time": "2024-04-25T17:15:18.094818Z"
    }
   },
   "id": "cee73a01bd95a40d",
   "execution_count": 11
  },
  {
   "cell_type": "markdown",
   "source": [
    "# Scoring"
   ],
   "metadata": {
    "collapsed": false
   },
   "id": "3b9731bc8369ab68"
  },
  {
   "cell_type": "markdown",
   "source": [
    "We deconvolute the *pose prediction* and *scoring* parts of docking, which enables us to try out a number of different things.\n",
    "To this end, we have written a few \"scorer\" classes, including:\n",
    "1. A traditional docking scorer: ChemGauss4Scorer\n",
    "2. A score which tries to capture information about the potential for the binding site to evolve: FINTScorer\n",
    "3. A few ML scorers: GATScorer, E3NNScorer, SchnetScorer\n",
    "4. And finally, a MetaScorer which can run all the other ones"
   ],
   "metadata": {
    "collapsed": false
   },
   "id": "a190fdf18f2d480d"
  },
  {
   "cell_type": "code",
   "outputs": [],
   "source": [
    "from asapdiscovery.docking.scorer import ChemGauss4Scorer, FINTScorer, GATScorer, E3NNScorer, SchnetScorer, MetaScorer"
   ],
   "metadata": {
    "collapsed": false,
    "ExecuteTime": {
     "end_time": "2024-04-25T17:15:29.368849Z",
     "start_time": "2024-04-25T17:15:18.098778Z"
    }
   },
   "id": "d8fbc441d8b79f31",
   "execution_count": 12
  },
  {
   "cell_type": "markdown",
   "source": [
    "## Targets"
   ],
   "metadata": {
    "collapsed": false
   },
   "id": "f4c1490dadfe2e97"
  },
  {
   "cell_type": "markdown",
   "source": [
    "Several of our scorers require target-specific information. We can find out the targets that the repo \"knows about\" like so:"
   ],
   "metadata": {
    "collapsed": false
   },
   "id": "70e3c7a2755aadbf"
  },
  {
   "cell_type": "code",
   "outputs": [],
   "source": [
    "from asapdiscovery.data.services.postera.manifold_data_validation import TargetTags"
   ],
   "metadata": {
    "collapsed": false,
    "ExecuteTime": {
     "end_time": "2024-04-25T17:15:29.373540Z",
     "start_time": "2024-04-25T17:15:29.370347Z"
    }
   },
   "id": "40078b13ed983fae",
   "execution_count": 13
  },
  {
   "cell_type": "code",
   "outputs": [
    {
     "data": {
      "text/plain": "['DENV-NS2B-NS3pro',\n 'EV-A71-Capsid',\n 'EV-A71-3Cpro',\n 'MERS-CoV-Mpro',\n 'EV-D68-Capsid',\n 'SARS-CoV-2-Mpro',\n 'SARS-CoV-2-Mac1',\n 'SARS-CoV-2-N-protein',\n 'EV-D68-3Cpro',\n 'ZIKV-NS2B-NS3pro']"
     },
     "execution_count": 14,
     "metadata": {},
     "output_type": "execute_result"
    }
   ],
   "source": [
    "TargetTags.get_values()"
   ],
   "metadata": {
    "collapsed": false,
    "ExecuteTime": {
     "end_time": "2024-04-25T17:15:29.379818Z",
     "start_time": "2024-04-25T17:15:29.375211Z"
    }
   },
   "id": "e35dc4a923af8fbc",
   "execution_count": 14
  },
  {
   "cell_type": "markdown",
   "source": [
    "Since we're working with a known target, we can set that as a variable and use that throughout"
   ],
   "metadata": {
    "collapsed": false
   },
   "id": "4926aff3a53db7dd"
  },
  {
   "cell_type": "code",
   "outputs": [],
   "source": [
    "target = TargetTags(\"SARS-CoV-2-Mpro\")"
   ],
   "metadata": {
    "collapsed": false,
    "ExecuteTime": {
     "end_time": "2024-04-25T17:15:29.384737Z",
     "start_time": "2024-04-25T17:15:29.381562Z"
    }
   },
   "id": "e3a7dcf7c1893b66",
   "execution_count": 15
  },
  {
   "cell_type": "markdown",
   "source": [
    "## the chemgauss scorer"
   ],
   "metadata": {
    "collapsed": false
   },
   "id": "dde143845fd4555a"
  },
  {
   "cell_type": "code",
   "outputs": [],
   "source": [
    "chemgauss_scorer = ChemGauss4Scorer()"
   ],
   "metadata": {
    "collapsed": false,
    "ExecuteTime": {
     "end_time": "2024-04-25T17:15:29.389515Z",
     "start_time": "2024-04-25T17:15:29.386345Z"
    }
   },
   "id": "29004e554bddee19",
   "execution_count": 16
  },
  {
   "cell_type": "code",
   "outputs": [
    {
     "data": {
      "text/plain": "[Score(score_type=<ScoreType.chemgauss4: 'chemgauss4'>, score=-11.651097297668457, compound_name='test', smiles='c1ccc2c(c1)c(cc(=O)[nH]2)C(=O)NCCOc3cc(cc(c3)Cl)O[C@H]4CC(=O)N4', ligand_identifiers=None, ligand_inchikey='SNQHLYWSRJDLGK-FQEVSTJZSA-N', target_name='test', target_identifiers=None, complex_ligand_smiles='CNC(=O)CN1C[C@]2(CCN(C2=O)c3cncc4c3cc(cc4)Cl)c5cc(ccc5C1=O)Cl', probability=0.18000000715255737, units=<ScoreUnits.arbitrary: 'arbitrary'>)]"
     },
     "execution_count": 17,
     "metadata": {},
     "output_type": "execute_result"
    }
   ],
   "source": [
    "scores = chemgauss_scorer.score(results)\n",
    "scores"
   ],
   "metadata": {
    "collapsed": false,
    "ExecuteTime": {
     "end_time": "2024-04-25T17:15:31.618248Z",
     "start_time": "2024-04-25T17:15:29.391473Z"
    }
   },
   "id": "9e0336fe703133b0",
   "execution_count": 17
  },
  {
   "cell_type": "markdown",
   "source": [
    "We can see this returns an array of score objects. If we want a dataframe, we can ask it to run this instead:"
   ],
   "metadata": {
    "collapsed": false
   },
   "id": "ce43acbebbeb6cbd"
  },
  {
   "cell_type": "code",
   "outputs": [
    {
     "data": {
      "text/plain": "   score_type      score compound_name  \\\n0  chemgauss4 -11.651097          test   \n\n                                              smiles ligand_identifiers  \\\n0  c1ccc2c(c1)c(cc(=O)[nH]2)C(=O)NCCOc3cc(cc(c3)C...               None   \n\n               ligand_inchikey target_name target_identifiers  \\\n0  SNQHLYWSRJDLGK-FQEVSTJZSA-N        test               None   \n\n                               complex_ligand_smiles  probability  \\\n0  CNC(=O)CN1C[C@]2(CCN(C2=O)c3cncc4c3cc(cc4)Cl)c...         0.18   \n\n                  units  \n0  ScoreUnits.arbitrary  ",
      "text/html": "<div>\n<style scoped>\n    .dataframe tbody tr th:only-of-type {\n        vertical-align: middle;\n    }\n\n    .dataframe tbody tr th {\n        vertical-align: top;\n    }\n\n    .dataframe thead th {\n        text-align: right;\n    }\n</style>\n<table border=\"1\" class=\"dataframe\">\n  <thead>\n    <tr style=\"text-align: right;\">\n      <th></th>\n      <th>score_type</th>\n      <th>score</th>\n      <th>compound_name</th>\n      <th>smiles</th>\n      <th>ligand_identifiers</th>\n      <th>ligand_inchikey</th>\n      <th>target_name</th>\n      <th>target_identifiers</th>\n      <th>complex_ligand_smiles</th>\n      <th>probability</th>\n      <th>units</th>\n    </tr>\n  </thead>\n  <tbody>\n    <tr>\n      <th>0</th>\n      <td>chemgauss4</td>\n      <td>-11.651097</td>\n      <td>test</td>\n      <td>c1ccc2c(c1)c(cc(=O)[nH]2)C(=O)NCCOc3cc(cc(c3)C...</td>\n      <td>None</td>\n      <td>SNQHLYWSRJDLGK-FQEVSTJZSA-N</td>\n      <td>test</td>\n      <td>None</td>\n      <td>CNC(=O)CN1C[C@]2(CCN(C2=O)c3cncc4c3cc(cc4)Cl)c...</td>\n      <td>0.18</td>\n      <td>ScoreUnits.arbitrary</td>\n    </tr>\n  </tbody>\n</table>\n</div>"
     },
     "execution_count": 18,
     "metadata": {},
     "output_type": "execute_result"
    }
   ],
   "source": [
    "scores_df = chemgauss_scorer.score(results, return_df=True)\n",
    "scores_df"
   ],
   "metadata": {
    "collapsed": false,
    "ExecuteTime": {
     "end_time": "2024-04-25T17:15:33.670762Z",
     "start_time": "2024-04-25T17:15:31.620047Z"
    }
   },
   "id": "993311abca9066",
   "execution_count": 18
  },
  {
   "cell_type": "markdown",
   "source": [
    "## FINTScore"
   ],
   "metadata": {
    "collapsed": false
   },
   "id": "20b0e55036723903"
  },
  {
   "cell_type": "markdown",
   "source": [
    "For the FINT score, we need fitness data, which means we can only work on a target for which we have vendored fitness data. To check which targets those are, we can use:"
   ],
   "metadata": {
    "collapsed": false
   },
   "id": "cbaf4ae04b00fce4"
  },
  {
   "cell_type": "code",
   "outputs": [
    {
     "data": {
      "text/plain": "[<TargetTags.SARS-CoV-2-Mpro: 'SARS-CoV-2-Mpro'>,\n <TargetTags.SARS-CoV-2-Mac1: 'SARS-CoV-2-Mac1'>,\n <TargetTags.SARS-CoV-2-N-protein: 'SARS-CoV-2-N-protein'>,\n <TargetTags.ZIKV-NS2B-NS3pro: 'ZIKV-NS2B-NS3pro'>]"
     },
     "execution_count": 19,
     "metadata": {},
     "output_type": "execute_result"
    }
   ],
   "source": [
    "from asapdiscovery.data.metadata.resources import targets_with_fitness_data\n",
    "targets_with_fitness_data"
   ],
   "metadata": {
    "collapsed": false,
    "ExecuteTime": {
     "end_time": "2024-04-25T17:15:33.677901Z",
     "start_time": "2024-04-25T17:15:33.672437Z"
    }
   },
   "id": "37b5911a6ccd3beb",
   "execution_count": 19
  },
  {
   "cell_type": "code",
   "outputs": [],
   "source": [
    "fint_scorer = FINTScorer(target=target)"
   ],
   "metadata": {
    "collapsed": false,
    "ExecuteTime": {
     "end_time": "2024-04-25T17:15:33.684383Z",
     "start_time": "2024-04-25T17:15:33.679942Z"
    }
   },
   "id": "f140196cc0f07bbe",
   "execution_count": 20
  },
  {
   "cell_type": "code",
   "outputs": [
    {
     "name": "stderr",
     "output_type": "stream",
     "text": [
      "2024-04-25 13:15:34,860 [INFO] [plipcmd.py:124] plip.plipcmd: Protein-Ligand Interaction Profiler (PLIP) 2.3.0\n",
      "2024-04-25 13:15:34,860 [INFO] [plipcmd.py:125] plip.plipcmd: brought to you by: PharmAI GmbH (2020-2021) - www.pharm.ai - hello@pharm.ai\n",
      "2024-04-25 13:15:34,860 [INFO] [plipcmd.py:126] plip.plipcmd: please cite: Adasme,M. et al. PLIP 2021: expanding the scope of the protein-ligand interaction profiler to DNA and RNA. Nucl. Acids Res. (05 May 2021), gkab294. doi: 10.1093/nar/gkab294\n",
      "2024-04-25 13:15:34,860 [INFO] [plipcmd.py:49] plip.plipcmd: starting analysis of tmp_complex.pdb\n",
      "2024-04-25 13:15:35,212 [INFO] [plipcmd.py:165] plip.plipcmd: finished analysis, find the result files in /var/folders/cf/d42qwdmd5_g5s63r3g_vgx2c0000gn/T/tmpu5zcqa_b/\n"
     ]
    },
    {
     "data": {
      "text/plain": "[Score(score_type=<ScoreType.FINT: 'FINT'>, score=1.0, compound_name='test', smiles='c1ccc2c(c1)c(cc(=O)[nH]2)C(=O)NCCOc3cc(cc(c3)Cl)O[C@H]4CC(=O)N4', ligand_identifiers=None, ligand_inchikey='SNQHLYWSRJDLGK-FQEVSTJZSA-N', target_name='test', target_identifiers=None, complex_ligand_smiles='CNC(=O)CN1C[C@]2(CCN(C2=O)c3cncc4c3cc(cc4)Cl)c5cc(ccc5C1=O)Cl', probability=0.18000000715255737, units=<ScoreUnits.arbitrary: 'arbitrary'>)]"
     },
     "execution_count": 21,
     "metadata": {},
     "output_type": "execute_result"
    }
   ],
   "source": [
    "scores = fint_scorer.score(results)\n",
    "scores"
   ],
   "metadata": {
    "collapsed": false,
    "ExecuteTime": {
     "end_time": "2024-04-25T17:15:40.525197Z",
     "start_time": "2024-04-25T17:15:33.686753Z"
    }
   },
   "id": "ddccb75f5817b233",
   "execution_count": 21
  },
  {
   "cell_type": "markdown",
   "source": [
    "## ML Scorers"
   ],
   "metadata": {
    "collapsed": false
   },
   "id": "16686f3be0c2e114"
  },
  {
   "cell_type": "markdown",
   "source": [
    "Right now our ML scorers are target specific, so we need to instantiate them with the target identified. This means we need to use the right TargetTag"
   ],
   "metadata": {
    "collapsed": false
   },
   "id": "31a41fc630992c0c"
  },
  {
   "cell_type": "markdown",
   "source": [],
   "metadata": {
    "collapsed": false
   },
   "id": "380e70dd5caba7e8"
  },
  {
   "cell_type": "code",
   "outputs": [],
   "source": [
    "from asapdiscovery.ml.models import ASAPMLModelRegistry"
   ],
   "metadata": {
    "collapsed": false,
    "ExecuteTime": {
     "end_time": "2024-04-25T17:15:40.530296Z",
     "start_time": "2024-04-25T17:15:40.527106Z"
    }
   },
   "id": "60c72e58ef104c79",
   "execution_count": 22
  },
  {
   "cell_type": "code",
   "outputs": [
    {
     "data": {
      "text/plain": "['e3nn', 'schnet', 'GAT']"
     },
     "execution_count": 23,
     "metadata": {},
     "output_type": "execute_result"
    }
   ],
   "source": [
    "ASAPMLModelRegistry.get_implemented_model_types()"
   ],
   "metadata": {
    "collapsed": false,
    "ExecuteTime": {
     "end_time": "2024-04-25T17:15:40.536883Z",
     "start_time": "2024-04-25T17:15:40.532255Z"
    }
   },
   "id": "2c67d9c1082d67f9",
   "execution_count": 23
  },
  {
   "cell_type": "code",
   "outputs": [
    {
     "name": "stderr",
     "output_type": "stream",
     "text": [
      "/Users/alexpayne/miniforge-pypy3/envs/asapdiscovery/lib/python3.10/site-packages/torch/jit/_check.py:172: UserWarning: The TorchScript type system doesn't support instance-level annotations on empty non-base types in `__init__`. Instead, either 1) use a type annotation in the class body, or 2) wrap the type in `torch.jit.Attribute`.\n",
      "  warnings.warn(\"The TorchScript type system doesn't support \"\n"
     ]
    }
   ],
   "source": [
    "from asapdiscovery.docking.scorer import MLModelScorer\n",
    "ml_scorers = [MLModelScorer.from_latest_by_target_and_type(target, model_type) \n",
    "           for model_type in ASAPMLModelRegistry.get_implemented_model_types()]"
   ],
   "metadata": {
    "collapsed": false,
    "ExecuteTime": {
     "end_time": "2024-04-25T17:15:43.387254Z",
     "start_time": "2024-04-25T17:15:40.538335Z"
    }
   },
   "id": "65347d0d908bcf26",
   "execution_count": 24
  },
  {
   "cell_type": "code",
   "outputs": [],
   "source": [
    "gat_scores = ml_scorers[0].score(results)"
   ],
   "metadata": {
    "collapsed": false,
    "ExecuteTime": {
     "end_time": "2024-04-25T17:15:48.051395Z",
     "start_time": "2024-04-25T17:15:43.389074Z"
    }
   },
   "id": "44aa66154bb8ae28",
   "execution_count": 25
  },
  {
   "cell_type": "code",
   "outputs": [
    {
     "data": {
      "text/plain": "[Score(score_type=<ScoreType.e3nn: 'e3nn'>, score=3.7135009765625, compound_name='test', smiles='c1ccc2c(c1)c(cc(=O)[nH]2)C(=O)NCCOc3cc(cc(c3)Cl)O[C@H]4CC(=O)N4', ligand_identifiers=None, ligand_inchikey='SNQHLYWSRJDLGK-FQEVSTJZSA-N', target_name='test', target_identifiers=None, complex_ligand_smiles='CNC(=O)CN1C[C@]2(CCN(C2=O)c3cncc4c3cc(cc4)Cl)c5cc(ccc5C1=O)Cl', probability=0.18000000715255737, units=<ScoreUnits.pIC50: 'pIC50'>)]"
     },
     "execution_count": 26,
     "metadata": {},
     "output_type": "execute_result"
    }
   ],
   "source": [
    "gat_scores"
   ],
   "metadata": {
    "collapsed": false,
    "ExecuteTime": {
     "end_time": "2024-04-25T17:15:48.066988Z",
     "start_time": "2024-04-25T17:15:48.062376Z"
    }
   },
   "id": "f264873d0321aa64",
   "execution_count": 26
  },
  {
   "cell_type": "markdown",
   "source": [
    "### MetaScorer"
   ],
   "metadata": {
    "collapsed": false
   },
   "id": "8190384bd127966b"
  },
  {
   "cell_type": "markdown",
   "source": [
    "We can use the MetaScorer to run all the scoring for us and combine everything into a dataframe we can save easily"
   ],
   "metadata": {
    "collapsed": false
   },
   "id": "4ba76b0c4774056d"
  },
  {
   "cell_type": "code",
   "outputs": [],
   "source": [
    "scorers = [chemgauss_scorer, fint_scorer, *ml_scorers]"
   ],
   "metadata": {
    "collapsed": false,
    "ExecuteTime": {
     "end_time": "2024-04-25T17:15:48.072092Z",
     "start_time": "2024-04-25T17:15:48.068838Z"
    }
   },
   "id": "75474c208b20741",
   "execution_count": 27
  },
  {
   "cell_type": "code",
   "outputs": [],
   "source": [
    "metascorer = MetaScorer(scorers=scorers)"
   ],
   "metadata": {
    "collapsed": false,
    "ExecuteTime": {
     "end_time": "2024-04-25T17:15:48.077732Z",
     "start_time": "2024-04-25T17:15:48.074255Z"
    }
   },
   "id": "ef31d8bd27f52a6c",
   "execution_count": 28
  },
  {
   "cell_type": "code",
   "outputs": [
    {
     "name": "stderr",
     "output_type": "stream",
     "text": [
      "2024-04-25 13:15:51,214 [INFO] [plipcmd.py:124] plip.plipcmd: Protein-Ligand Interaction Profiler (PLIP) 2.3.0\n",
      "2024-04-25 13:15:51,214 [INFO] [plipcmd.py:125] plip.plipcmd: brought to you by: PharmAI GmbH (2020-2021) - www.pharm.ai - hello@pharm.ai\n",
      "2024-04-25 13:15:51,214 [INFO] [plipcmd.py:126] plip.plipcmd: please cite: Adasme,M. et al. PLIP 2021: expanding the scope of the protein-ligand interaction profiler to DNA and RNA. Nucl. Acids Res. (05 May 2021), gkab294. doi: 10.1093/nar/gkab294\n",
      "2024-04-25 13:15:51,214 [INFO] [plipcmd.py:49] plip.plipcmd: starting analysis of tmp_complex.pdb\n",
      "2024-04-25 13:15:51,547 [INFO] [plipcmd.py:165] plip.plipcmd: finished analysis, find the result files in /var/folders/cf/d42qwdmd5_g5s63r3g_vgx2c0000gn/T/tmp6tpvur6e/\n"
     ]
    }
   ],
   "source": [
    "scores_df = metascorer.score(results, return_df=True)"
   ],
   "metadata": {
    "collapsed": false,
    "ExecuteTime": {
     "end_time": "2024-04-25T17:16:02.777326Z",
     "start_time": "2024-04-25T17:15:48.079866Z"
    }
   },
   "id": "708eb495cdff224c",
   "execution_count": 29
  },
  {
   "cell_type": "code",
   "outputs": [
    {
     "data": {
      "text/plain": "score_type  docking-confidence-POSIT target_identifiers  \\\n0                               0.18                NaN   \n\nscore_type                                             SMILES  \\\n0           c1ccc2c(c1)c(cc(=O)[nH]2)C(=O)NCCOc3cc(cc(c3)C...   \n\nscore_type                              complex_ligand_smiles  \\\n0           CNC(=O)CN1C[C@]2(CCN(C2=O)c3cncc4c3cc(cc4)Cl)c...   \n\nscore_type docking-structure-POSIT                     INCHIKEY ligand_id  \\\n0                             test  SNQHLYWSRJDLGK-FQEVSTJZSA-N      test   \n\nscore_type ligand_identifiers  fitness-score-FINT  computed-GAT-pIC50  \\\n0                         NaN                 1.0            4.912028   \n\nscore_type  docking-score-POSIT  computed-E3NN-pIC50  computed-SchNet-pIC50  \n0                    -11.651097             3.713501              -1.627446  ",
      "text/html": "<div>\n<style scoped>\n    .dataframe tbody tr th:only-of-type {\n        vertical-align: middle;\n    }\n\n    .dataframe tbody tr th {\n        vertical-align: top;\n    }\n\n    .dataframe thead th {\n        text-align: right;\n    }\n</style>\n<table border=\"1\" class=\"dataframe\">\n  <thead>\n    <tr style=\"text-align: right;\">\n      <th>score_type</th>\n      <th>docking-confidence-POSIT</th>\n      <th>target_identifiers</th>\n      <th>SMILES</th>\n      <th>complex_ligand_smiles</th>\n      <th>docking-structure-POSIT</th>\n      <th>INCHIKEY</th>\n      <th>ligand_id</th>\n      <th>ligand_identifiers</th>\n      <th>fitness-score-FINT</th>\n      <th>computed-GAT-pIC50</th>\n      <th>docking-score-POSIT</th>\n      <th>computed-E3NN-pIC50</th>\n      <th>computed-SchNet-pIC50</th>\n    </tr>\n  </thead>\n  <tbody>\n    <tr>\n      <th>0</th>\n      <td>0.18</td>\n      <td>NaN</td>\n      <td>c1ccc2c(c1)c(cc(=O)[nH]2)C(=O)NCCOc3cc(cc(c3)C...</td>\n      <td>CNC(=O)CN1C[C@]2(CCN(C2=O)c3cncc4c3cc(cc4)Cl)c...</td>\n      <td>test</td>\n      <td>SNQHLYWSRJDLGK-FQEVSTJZSA-N</td>\n      <td>test</td>\n      <td>NaN</td>\n      <td>1.0</td>\n      <td>4.912028</td>\n      <td>-11.651097</td>\n      <td>3.713501</td>\n      <td>-1.627446</td>\n    </tr>\n  </tbody>\n</table>\n</div>"
     },
     "execution_count": 30,
     "metadata": {},
     "output_type": "execute_result"
    }
   ],
   "source": [
    "scores_df"
   ],
   "metadata": {
    "collapsed": false,
    "ExecuteTime": {
     "end_time": "2024-04-25T17:16:02.793258Z",
     "start_time": "2024-04-25T17:16:02.779251Z"
    }
   },
   "id": "746e077f0e551f7b",
   "execution_count": 30
  },
  {
   "cell_type": "markdown",
   "source": [
    "Under the hood, this uses this function: `asapdiscovery.docking.scorer.Score._combine_and_pivot_scores_df` to return the scores in a dataframe. As of version 0.4, this uses `asapdiscovery.docking.scorer._SCORE_MANIFOLD_ALIAS` to change the column names to conform to the standard names that the ASAPDiscovery Consortium agreed upon. You can examine which column names correspond to which score here:"
   ],
   "metadata": {
    "collapsed": false
   },
   "id": "bd654b07c6348387"
  },
  {
   "cell_type": "code",
   "outputs": [
    {
     "data": {
      "text/plain": "{<ScoreType.chemgauss4: 'chemgauss4'>: 'docking-score-POSIT',\n <ScoreType.FINT: 'FINT'>: 'fitness-score-FINT',\n <ScoreType.GAT: 'GAT'>: 'computed-GAT-pIC50',\n <ScoreType.schnet: 'schnet'>: 'computed-SchNet-pIC50',\n <ScoreType.e3nn: 'e3nn'>: 'computed-E3NN-pIC50',\n <ScoreType.INVALID: 'INVALID'>: None,\n 'target_name': 'docking-structure-POSIT',\n 'compound_name': 'ligand_id',\n 'smiles': 'SMILES',\n 'ligand_inchikey': 'INCHIKEY',\n 'probability': 'docking-confidence-POSIT'}"
     },
     "execution_count": 31,
     "metadata": {},
     "output_type": "execute_result"
    }
   ],
   "source": [
    "from asapdiscovery.docking.scorer import _SCORE_MANIFOLD_ALIAS\n",
    "_SCORE_MANIFOLD_ALIAS"
   ],
   "metadata": {
    "collapsed": false,
    "ExecuteTime": {
     "end_time": "2024-04-25T17:16:02.800270Z",
     "start_time": "2024-04-25T17:16:02.794842Z"
    }
   },
   "id": "1d28e20c4fc8e94f",
   "execution_count": 31
  },
  {
   "cell_type": "markdown",
   "source": [
    "# A few side notes"
   ],
   "metadata": {
    "collapsed": false
   },
   "id": "1fdead236a1e76f"
  },
  {
   "cell_type": "markdown",
   "source": [
    "## Dask"
   ],
   "metadata": {
    "collapsed": false
   },
   "id": "cca7da8cadf596f3"
  },
  {
   "cell_type": "markdown",
   "source": [
    "We make heavy use of Dask throughout our code, which helps automate parallel processing and provides a nice dashboard for evaluating the progress of large scale docking efforts. Due to the way in which Dask automates error handling, this has occasionally led to situations where the behaviour of our code is different depending on whether you have enabled Dask. We have tried to stamp out any instances of this, but if you find another, please make an issue!"
   ],
   "metadata": {
    "collapsed": false
   },
   "id": "6af146d6f9b22551"
  },
  {
   "cell_type": "markdown",
   "source": [
    "## Target-specific workflows"
   ],
   "metadata": {
    "collapsed": false
   },
   "id": "cb96fc4cad7e758a"
  },
  {
   "cell_type": "markdown",
   "source": [
    "We have implemented our library code within the `asapdiscovery-workflows` module, which puts everything together in a command-line interface (cli). Unfortunately, as of version 0.4, these workflows only work if you are using the targets specified for ASAP. We plan on changing this for version 0.5 "
   ],
   "metadata": {
    "collapsed": false
   },
   "id": "a897e110095c4b6"
  },
  {
   "cell_type": "markdown",
   "source": [
    "To find out which targets can be passed to these workflows, you can use this:"
   ],
   "metadata": {
    "collapsed": false
   },
   "id": "aeb67094b84d84f2"
  },
  {
   "cell_type": "code",
   "outputs": [],
   "source": [
    "from asapdiscovery.data.services.postera.manifold_data_validation import TargetTags"
   ],
   "metadata": {
    "collapsed": false,
    "ExecuteTime": {
     "end_time": "2024-04-25T17:16:02.805575Z",
     "start_time": "2024-04-25T17:16:02.802361Z"
    }
   },
   "id": "986630eb29710dde",
   "execution_count": 32
  },
  {
   "cell_type": "code",
   "outputs": [
    {
     "data": {
      "text/plain": "['DENV-NS2B-NS3pro',\n 'EV-A71-Capsid',\n 'EV-A71-3Cpro',\n 'MERS-CoV-Mpro',\n 'EV-D68-Capsid',\n 'SARS-CoV-2-Mpro',\n 'SARS-CoV-2-Mac1',\n 'SARS-CoV-2-N-protein',\n 'EV-D68-3Cpro',\n 'ZIKV-NS2B-NS3pro']"
     },
     "execution_count": 33,
     "metadata": {},
     "output_type": "execute_result"
    }
   ],
   "source": [
    "TargetTags.get_values()"
   ],
   "metadata": {
    "collapsed": false,
    "ExecuteTime": {
     "end_time": "2024-04-25T17:16:02.811506Z",
     "start_time": "2024-04-25T17:16:02.807472Z"
    }
   },
   "id": "d53657ae265ce4d5",
   "execution_count": 33
  }
 ],
 "metadata": {
  "kernelspec": {
   "display_name": "Python 3 (ipykernel)",
   "language": "python",
   "name": "python3"
  },
  "language_info": {
   "codemirror_mode": {
    "name": "ipython",
    "version": 3
   },
   "file_extension": ".py",
   "mimetype": "text/x-python",
   "name": "python",
   "nbconvert_exporter": "python",
   "pygments_lexer": "ipython3",
   "version": "3.10.13"
  }
 },
 "nbformat": 4,
 "nbformat_minor": 5
}
