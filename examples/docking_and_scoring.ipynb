{
 "cells": [
  {
   "cell_type": "markdown",
   "id": "a9dd55cb-bb04-47e5-9758-f006379db2c3",
   "metadata": {},
   "source": [
    "# Intro"
   ]
  },
  {
   "cell_type": "markdown",
   "source": [
    "This notebook will show you how to dock and score molecules using the asapdiscovery-docking module. \n",
    "\n",
    "This docking pipeline primarily focuses on the use-case for a structure-enabled drug discovery program, in which we have crystal structures of early molecules to use for *reference-based* docking. \n",
    "\n",
    "To this end, we have implemented an api that wraps the OpenEye POSIT docking algorithm, which through it's use of the HYBRID and SHAPEFIT algorithms, enables reference-based docking. "
   ],
   "metadata": {
    "collapsed": false
   },
   "id": "70b9d2640eb06041"
  },
  {
   "cell_type": "markdown",
   "source": [
    "## The scope of this guide"
   ],
   "metadata": {
    "collapsed": false
   },
   "id": "28497ab0b4fa94ca"
  },
  {
   "cell_type": "markdown",
   "source": [
    "This guide will show you how to dock and score molecules. For the *extremely* necessary precursor step of data loading and prepping, please see [protein_and_ligand_prep](%protein_and_ligand_prep.ipynb)"
   ],
   "metadata": {
    "collapsed": false
   },
   "id": "506fdcc62785c33c"
  },
  {
   "cell_type": "markdown",
   "source": [
    "# Data"
   ],
   "metadata": {
    "collapsed": false
   },
   "id": "fc7d5b6c525f9fee"
  },
  {
   "cell_type": "markdown",
   "source": [
    "We will use files we use for testing. Since these molecules have already been prepped for docking"
   ],
   "metadata": {
    "collapsed": false
   },
   "id": "8f8614357c006f2"
  },
  {
   "cell_type": "code",
   "outputs": [],
   "source": [
    "from asapdiscovery.data.testing.test_resources import fetch_test_file\n",
    "from asapdiscovery.data.schema.complex import PreppedComplex\n",
    "from asapdiscovery.data.schema.ligand import Ligand\n",
    "prepped_complex = PreppedComplex.from_oedu_file(\n",
    "        fetch_test_file(\"Mpro-P2660_0A_bound-prepped_receptor.oedu\"),\n",
    "        ligand_kwargs={\"compound_name\": \"test\"},\n",
    "        target_kwargs={\"target_name\": \"test\", \"target_hash\": \"mock_hash\"},\n",
    "    )\n",
    "ligand = Ligand.from_sdf(\n",
    "        fetch_test_file(\"Mpro-P0008_0A_ERI-UCB-ce40166b-17.sdf\"), compound_name=\"test\"\n",
    "    )"
   ],
   "metadata": {
    "collapsed": false,
    "ExecuteTime": {
     "end_time": "2024-04-25T14:40:14.758072Z",
     "start_time": "2024-04-25T14:40:14.519538Z"
    }
   },
   "id": "c4002264f3f38448",
   "execution_count": 16
  },
  {
   "cell_type": "markdown",
   "source": [
    "# Docking"
   ],
   "metadata": {
    "collapsed": false
   },
   "id": "351dc9ddd333aaa9"
  },
  {
   "cell_type": "markdown",
   "source": [
    "As with any scientific endeavour, it's important to consider why you want to run docking and what you expect to get out of this."
   ],
   "metadata": {
    "collapsed": false
   },
   "id": "e5eb1cbdeb83a33d"
  },
  {
   "cell_type": "markdown",
   "source": [
    "| Context           | Goal                                                                     | Considerations                                                                                                                                                                                 |\n",
    "|-------------------|--------------------------------------------------------------------------|------------------------------------------------------------------------------------------------------------------------------------------------------------------------------------------------|\n",
    "| Hit-to-lead       | Reference-based docking of 100s-1000s of molecules                       | High-throughput, low false-positives                                                                                                                                                           |\n",
    "| Lead-Optimization | Reference-based docking of 10s-100s of molecules                         | High accuracy, low false-positives. You probably know generally where the molecules should bind, and the maximum common substructures of the molecules should probably be very closely aligned |\n",
    "| Research          | Generate protein-ligand complexes for downstream analyses or ML training | High-throughput but you can live with in-accurate poses because                                                                                                                                |\n"
   ],
   "metadata": {
    "collapsed": false
   },
   "id": "5a9a5b77815cc15b"
  },
  {
   "cell_type": "code",
   "outputs": [],
   "source": [],
   "metadata": {
    "collapsed": false
   },
   "id": "5405b3d692ed173a"
  },
  {
   "cell_type": "markdown",
   "source": [
    "## Examining the POSITDocker"
   ],
   "metadata": {
    "collapsed": false
   },
   "id": "6e6495a9b40fcf4b"
  },
  {
   "cell_type": "markdown",
   "source": [
    "There are a *ton* of choices we can make for running docking, which will not be enumerated here. But in order to get a flavor for the options, we can examine the class attributes of the POSITDocker:"
   ],
   "metadata": {
    "collapsed": false
   },
   "id": "83d11ecc36f27b8b"
  },
  {
   "cell_type": "code",
   "outputs": [],
   "source": [
    "from asapdiscovery.docking.openeye import POSITDocker"
   ],
   "metadata": {
    "collapsed": false,
    "ExecuteTime": {
     "end_time": "2024-04-25T15:01:55.247728Z",
     "start_time": "2024-04-25T15:01:55.243038Z"
    }
   },
   "id": "1e8b578e0c5cd0e9",
   "execution_count": 37
  },
  {
   "cell_type": "code",
   "outputs": [],
   "source": [
    "docker = POSITDocker()"
   ],
   "metadata": {
    "collapsed": false,
    "ExecuteTime": {
     "end_time": "2024-04-25T15:01:55.424989Z",
     "start_time": "2024-04-25T15:01:55.421245Z"
    }
   },
   "id": "bcb198f12778c0ee",
   "execution_count": 38
  },
  {
   "cell_type": "code",
   "outputs": [
    {
     "data": {
      "text/plain": "{'type': 'POSITDocker',\n 'relax': <POSIT_RELAX_MODE.NONE: 0>,\n 'posit_method': <POSIT_METHOD.ALL: 15>,\n 'use_omega': True,\n 'omega_dense': False,\n 'num_poses': 1,\n 'allow_low_posit_prob': False,\n 'low_posit_prob_thresh': 0.1,\n 'allow_final_clash': False,\n 'allow_retries': True}"
     },
     "execution_count": 39,
     "metadata": {},
     "output_type": "execute_result"
    }
   ],
   "source": [
    "docker.dict()"
   ],
   "metadata": {
    "collapsed": false,
    "ExecuteTime": {
     "end_time": "2024-04-25T15:01:55.629060Z",
     "start_time": "2024-04-25T15:01:55.622990Z"
    }
   },
   "id": "4367f0f81f56bb65",
   "execution_count": 39
  },
  {
   "cell_type": "markdown",
   "source": [
    "We can also look at the `.dock` method to see what arguments we can make "
   ],
   "metadata": {
    "collapsed": false
   },
   "id": "3c34f0285df898de"
  },
  {
   "cell_type": "code",
   "outputs": [],
   "source": [
    "docker.dock?"
   ],
   "metadata": {
    "collapsed": false,
    "ExecuteTime": {
     "end_time": "2024-04-25T15:01:56.420958Z",
     "start_time": "2024-04-25T15:01:56.413136Z"
    }
   },
   "id": "86175d6e3e49303c",
   "execution_count": 40
  },
  {
   "cell_type": "markdown",
   "source": [
    "We can see that we need:\n",
    "1) a list of DockingInputBase objects\n",
    "2) an output directory\n",
    "3) and some dask options"
   ],
   "metadata": {
    "collapsed": false
   },
   "id": "bbf6a77ef91fe4cb"
  },
  {
   "cell_type": "markdown",
   "source": [
    "Currently, we have 2 kinds of DockingInputBase objects implemented:\n",
    "1) a complex-ligand pair (DockingInputPair)\n",
    "2) a one-to-many ligand:complexes object (DockingInputMultiStructure)"
   ],
   "metadata": {
    "collapsed": false
   },
   "id": "d2f1782a6f9a548f"
  },
  {
   "cell_type": "code",
   "outputs": [],
   "source": [
    "from asapdiscovery.docking.docking import DockingInputPair, DockingInputMultiStructure"
   ],
   "metadata": {
    "collapsed": false,
    "ExecuteTime": {
     "end_time": "2024-04-25T15:07:36.973901Z",
     "start_time": "2024-04-25T15:07:36.971180Z"
    }
   },
   "id": "cdf69c1dcb304b53",
   "execution_count": 43
  },
  {
   "cell_type": "markdown",
   "source": [
    "## Running simple docking "
   ],
   "metadata": {
    "collapsed": false
   },
   "id": "c50f672710755a10"
  },
  {
   "cell_type": "markdown",
   "source": [
    "### First we generate docking input"
   ],
   "metadata": {
    "collapsed": false
   },
   "id": "6dc0b06c18365a6b"
  },
  {
   "cell_type": "code",
   "outputs": [],
   "source": [
    "input_pair = DockingInputPair(ligand=ligand, complex=prepped_complex)"
   ],
   "metadata": {
    "collapsed": false,
    "ExecuteTime": {
     "end_time": "2024-04-25T15:11:01.200212Z",
     "start_time": "2024-04-25T15:11:01.197010Z"
    }
   },
   "id": "c6af7343f46886e",
   "execution_count": 46
  },
  {
   "cell_type": "code",
   "outputs": [],
   "source": [
    "docker = POSITDocker() # let's just use defaults for now"
   ],
   "metadata": {
    "collapsed": false,
    "ExecuteTime": {
     "end_time": "2024-04-25T15:11:11.253899Z",
     "start_time": "2024-04-25T15:11:11.249945Z"
    }
   },
   "id": "3b20db10ccb47efd",
   "execution_count": 48
  },
  {
   "cell_type": "code",
   "outputs": [],
   "source": [
    "results = docker.dock([input_pair]) # we won't use dask or write an output, takes ~30 s on a Macbook Pro"
   ],
   "metadata": {
    "collapsed": false,
    "ExecuteTime": {
     "end_time": "2024-04-25T15:14:43.746445Z",
     "start_time": "2024-04-25T15:14:17.588942Z"
    }
   },
   "id": "1249bc9db313ea3c",
   "execution_count": 53
  },
  {
   "cell_type": "markdown",
   "source": [
    "This returns a list of POSITDockingResults objects!"
   ],
   "metadata": {
    "collapsed": false
   },
   "id": "b0f912b68fb1cde4"
  },
  {
   "cell_type": "code",
   "outputs": [],
   "source": [
    "result = results[0]"
   ],
   "metadata": {
    "collapsed": false,
    "ExecuteTime": {
     "end_time": "2024-04-25T15:15:27.966360Z",
     "start_time": "2024-04-25T15:15:27.962459Z"
    }
   },
   "id": "e8f208e377bb2b20",
   "execution_count": 61
  },
  {
   "cell_type": "code",
   "outputs": [],
   "source": [
    "result.write_docking_files(\"docking_test\")"
   ],
   "metadata": {
    "collapsed": false,
    "ExecuteTime": {
     "end_time": "2024-04-25T15:15:34.578503Z",
     "start_time": "2024-04-25T15:15:33.621677Z"
    }
   },
   "id": "8cda12ed29150315",
   "execution_count": 62
  },
  {
   "cell_type": "code",
   "outputs": [],
   "source": [],
   "metadata": {
    "collapsed": false
   },
   "id": "cee73a01bd95a40d"
  },
  {
   "cell_type": "markdown",
   "source": [
    "# Scoring"
   ],
   "metadata": {
    "collapsed": false
   },
   "id": "3b9731bc8369ab68"
  },
  {
   "cell_type": "code",
   "outputs": [],
   "source": [],
   "metadata": {
    "collapsed": false
   },
   "id": "bfd674292e7de031"
  },
  {
   "cell_type": "code",
   "outputs": [],
   "source": [],
   "metadata": {
    "collapsed": false
   },
   "id": "d8fbc441d8b79f31"
  },
  {
   "cell_type": "markdown",
   "source": [
    "# A few side notes"
   ],
   "metadata": {
    "collapsed": false
   },
   "id": "1fdead236a1e76f"
  },
  {
   "cell_type": "markdown",
   "source": [
    "## Dask"
   ],
   "metadata": {
    "collapsed": false
   },
   "id": "cca7da8cadf596f3"
  },
  {
   "cell_type": "markdown",
   "source": [
    "We make heavy use of Dask throughout our code, which helps automate parallel processing and provides a nice dashboard for evaluating the progress of large scale docking efforts. Due to the way in which Dask automates error handling, this has occasionally led to situations where the behaviour of our code is different depending on whether you have enabled Dask. We have tried to stamp out any instances of this, but if you find another, please make an issue!"
   ],
   "metadata": {
    "collapsed": false
   },
   "id": "6af146d6f9b22551"
  },
  {
   "cell_type": "markdown",
   "source": [
    "## Target-specific workflows"
   ],
   "metadata": {
    "collapsed": false
   },
   "id": "cb96fc4cad7e758a"
  },
  {
   "cell_type": "markdown",
   "source": [
    "We have implemented our library code within the `asapdiscovery-workflows` module, which puts everything together in a command-line interface (cli). Unfortunately, as of version 0.4, these workflows only work if you are using the targets specified for ASAP. We plan on changing this for version 0.5 "
   ],
   "metadata": {
    "collapsed": false
   },
   "id": "a897e110095c4b6"
  },
  {
   "cell_type": "markdown",
   "source": [
    "To find out which targets can be passed to these workflows, you can use this:"
   ],
   "metadata": {
    "collapsed": false
   },
   "id": "aeb67094b84d84f2"
  },
  {
   "cell_type": "code",
   "outputs": [],
   "source": [
    "from asapdiscovery.data.services.postera.manifold_data_validation import TargetTags"
   ],
   "metadata": {
    "collapsed": false,
    "ExecuteTime": {
     "end_time": "2024-04-25T14:23:23.465928Z",
     "start_time": "2024-04-25T14:23:23.463163Z"
    }
   },
   "id": "986630eb29710dde",
   "execution_count": 11
  },
  {
   "cell_type": "code",
   "outputs": [
    {
     "data": {
      "text/plain": "['DENV-NS2B-NS3pro',\n 'SARS-CoV-2-Mpro',\n 'ZIKV-NS2B-NS3pro',\n 'MERS-CoV-Mpro',\n 'EV-D68-Capsid',\n 'EV-D68-3Cpro',\n 'SARS-CoV-2-N-protein',\n 'SARS-CoV-2-Mac1',\n 'EV-A71-3Cpro',\n 'EV-A71-Capsid']"
     },
     "execution_count": 12,
     "metadata": {},
     "output_type": "execute_result"
    }
   ],
   "source": [
    "TargetTags.get_values()"
   ],
   "metadata": {
    "collapsed": false,
    "ExecuteTime": {
     "end_time": "2024-04-25T14:23:23.854074Z",
     "start_time": "2024-04-25T14:23:23.849825Z"
    }
   },
   "id": "d53657ae265ce4d5",
   "execution_count": 12
  },
  {
   "cell_type": "code",
   "outputs": [],
   "source": [],
   "metadata": {
    "collapsed": false
   },
   "id": "f8b85b74be76d0c1"
  }
 ],
 "metadata": {
  "kernelspec": {
   "display_name": "Python 3 (ipykernel)",
   "language": "python",
   "name": "python3"
  },
  "language_info": {
   "codemirror_mode": {
    "name": "ipython",
    "version": 3
   },
   "file_extension": ".py",
   "mimetype": "text/x-python",
   "name": "python",
   "nbconvert_exporter": "python",
   "pygments_lexer": "ipython3",
   "version": "3.10.13"
  }
 },
 "nbformat": 4,
 "nbformat_minor": 5
}
