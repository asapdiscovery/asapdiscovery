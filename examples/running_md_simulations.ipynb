{
 "cells": [
  {
   "cell_type": "markdown",
   "id": "c78efe73-21eb-4da8-8859-8b500e1dc1b2",
   "metadata": {},
   "source": [
    "# Running MD simulations"
   ]
  },
  {
   "cell_type": "code",
   "execution_count": null,
   "id": "0e145b8c-b548-4b77-9688-2b0bdfcba680",
   "metadata": {},
   "outputs": [],
   "source": []
  }
 ],
 "metadata": {
  "kernelspec": {
   "display_name": "Python 3 (ipykernel)",
   "language": "python",
   "name": "python3"
  },
  "language_info": {
   "codemirror_mode": {
    "name": "ipython",
    "version": 3
   },
   "file_extension": ".py",
   "mimetype": "text/x-python",
   "name": "python",
   "nbconvert_exporter": "python",
   "pygments_lexer": "ipython3",
   "version": "3.10.8"
  }
 },
 "nbformat": 4,
 "nbformat_minor": 5
}
