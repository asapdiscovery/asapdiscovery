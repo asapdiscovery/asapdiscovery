{
 "cells": [
  {
   "cell_type": "markdown",
   "id": "c78efe73-21eb-4da8-8859-8b500e1dc1b2",
   "metadata": {},
   "source": [
    "# Running MD simulations"
   ]
  },
  {
   "cell_type": "markdown",
   "id": "64f939ac-6f7a-4198-902c-00a655a10634",
   "metadata": {},
   "source": [
    "Running vanilla MD simulations on protein-ligand complexes can provide information about the dynamics of a given ligand inside the binding site, and can be used to assess the quality and stability of a proposed binding mode.\n",
    "\n",
    "Below we will demonstrate an example of running MD simulations on a protein ligand complex, following docking. We will be running this example on an ASAP target, the SARS-CoV-2 nsp3 Mac1 macrodomain that  removes ADP ribose from viral and host cell proteins. The removal of this post-translational modification reduces the inflammatory and antiviral responses to infection — facilitating replication.\n",
    "\n",
    "See [here](https://asapdiscovery.notion.site/Targeting-Opportunity-SARS-CoV-2-nsp3-Mac1-macrodomain-47af24638b994e8ba786303ec743926e) for more information on Mac1. "
   ]
  },
  {
   "cell_type": "code",
   "execution_count": 5,
   "id": "38041a7e-e18c-42ab-8f64-dbe98ab3efd6",
   "metadata": {},
   "outputs": [],
   "source": [
    "# import some dependencies\n",
    "from asapdiscovery.data.testing.test_resources import fetch_test_file\n",
    "from asapdiscovery.docking.docking import DockingInputPair\n",
    "from asapdiscovery.docking.openeye import POSITDocker\n",
    "from asapdiscovery.data.schema.complex import Complex, PreppedComplex\n",
    "from asapdiscovery.data.schema.ligand import Ligand\n",
    "from asapdiscovery.simulation.simulate import VanillaMDSimulator"
   ]
  },
  {
   "cell_type": "markdown",
   "id": "7422ecbb-222d-40d6-81b6-6c45f8f05527",
   "metadata": {},
   "source": [
    "# Docking an arbitrary ligand to Mac1\n",
    "Lets fetch an example structure of Mac1, hosted in the ASAP testing repository."
   ]
  },
  {
   "cell_type": "code",
   "execution_count": 6,
   "id": "40fd3808-12e8-41f5-9348-a803403b3084",
   "metadata": {},
   "outputs": [],
   "source": [
    "protein = fetch_test_file(\"SARS2_Mac1A-A1013.pdb\") # fetch a PDB file from the test suite, in this case a PDB from the COVID MOONSHOT."
   ]
  },
  {
   "cell_type": "markdown",
   "id": "a22ca4fe-29a6-4332-b010-65612d755372",
   "metadata": {},
   "source": [
    "Now lets turn it into a complex object (see the tutorial on base level ASAP abstractions for more info)"
   ]
  },
  {
   "cell_type": "code",
   "execution_count": 24,
   "id": "a1c841bf-39f0-419b-8f4a-9478bc7b871a",
   "metadata": {},
   "outputs": [],
   "source": [
    "# make a complex \n",
    "mac1_complex = Complex.from_pdb(protein, ligand_kwargs={\"compound_name\": \"A1013\"}, target_kwargs={\"target_name\": \"SARS2_Mac1A\"})"
   ]
  },
  {
   "cell_type": "markdown",
   "id": "6e53394d-dfa5-4af7-9a95-90df72cec7e8",
   "metadata": {},
   "source": [
    "Now we will create a new ligand to dock into the structure"
   ]
  },
  {
   "cell_type": "code",
   "execution_count": 8,
   "id": "0e145b8c-b548-4b77-9688-2b0bdfcba680",
   "metadata": {
    "scrolled": true
   },
   "outputs": [
    {
     "name": "stderr",
     "output_type": "stream",
     "text": [
      "Warning: No BioAssembly transforms found, using input molecule as biounit: ---_LIG\n",
      "DPI: 0.12, RFree: 0.28, Resolution: 1.48\n",
      "Processing BU # 1 with title: ---_LIG, chains AB\n"
     ]
    }
   ],
   "source": [
    "# make the ligand we want to dock, a simple alkane\n",
    "ligand = Ligand.from_smiles(\"CCCCCCC\", compound_name=\"alkane\")\n"
   ]
  },
  {
   "cell_type": "markdown",
   "id": "0d016862-1743-4ac0-b293-40fb07de6a43",
   "metadata": {},
   "source": [
    "We will run protein prep for this structure"
   ]
  },
  {
   "cell_type": "code",
   "execution_count": null,
   "id": "26d89a1a-dec0-4cc7-adc5-d4f93ced99d8",
   "metadata": {},
   "outputs": [],
   "source": [
    "# prepare our structure\n",
    "prepped_mac1_complex_complex = PreppedComplex.from_complex(mac1_complex)\n",
    "# pair it up with the ligand we want to dock.\n",
    "docking_input_pair = DockingInputPair(complex=prepped_mac1_complex_complex, ligand=ligand)\n"
   ]
  },
  {
   "cell_type": "markdown",
   "id": "2c2d00c3-1cc7-43e0-b368-edda87c96f38",
   "metadata": {},
   "source": [
    "Now we dock it to our protein"
   ]
  },
  {
   "cell_type": "code",
   "execution_count": 17,
   "id": "0e56be91-618f-423b-ba4a-9cbf6985b14f",
   "metadata": {},
   "outputs": [
    {
     "name": "stdout",
     "output_type": "stream",
     "text": [
      "{'docking-confidence-POSIT': 0.019999999552965164, '_POSIT_method': 'FRED'}\n"
     ]
    }
   ],
   "source": [
    "# run OpenEye POSIT docking,\n",
    "docker = POSITDocker(use_omega=False)\n",
    "results = docker.dock([docking_input_pair], use_dask=False)\n",
    "\n"
   ]
  },
  {
   "cell_type": "code",
   "execution_count": 18,
   "id": "26febc9e-2577-4392-941e-172e86c37c6e",
   "metadata": {
    "collapsed": true,
    "jupyter": {
     "outputs_hidden": true
    }
   },
   "outputs": [
    {
     "name": "stdout",
     "output_type": "stream",
     "text": [
      "{'docking-confidence-POSIT': 0.019999999552965164, '_POSIT_method': 'FRED'}\n"
     ]
    }
   ],
   "source": [
    "print(results[0].posed_ligand.tags)"
   ]
  },
  {
   "cell_type": "markdown",
   "id": "41c84958-6fa9-4d1d-8b85-972402cd0e12",
   "metadata": {},
   "source": [
    "## Vizualise the docked pose\n",
    "Lets vizualise our results! For more information on vizualisations, see the vizualisation tutorial"
   ]
  },
  {
   "cell_type": "code",
   "execution_count": 14,
   "id": "2205a034-ff8a-489a-a445-c2c35952dbc5",
   "metadata": {},
   "outputs": [
    {
     "name": "stderr",
     "output_type": "stream",
     "text": [
      "2024-05-03 17:46:36,574 [INFO] [plipcmd.py:124] plip.plipcmd: Protein-Ligand Interaction Profiler (PLIP) 2.3.0\n",
      "2024-05-03 17:46:36,574 [INFO] [plipcmd.py:125] plip.plipcmd: brought to you by: PharmAI GmbH (2020-2021) - www.pharm.ai - hello@pharm.ai\n",
      "2024-05-03 17:46:36,574 [INFO] [plipcmd.py:126] plip.plipcmd: please cite: Adasme,M. et al. PLIP 2021: expanding the scope of the protein-ligand interaction profiler to DNA and RNA. Nucl. Acids Res. (05 May 2021), gkab294. doi: 10.1093/nar/gkab294\n",
      "2024-05-03 17:46:36,574 [INFO] [plipcmd.py:49] plip.plipcmd: starting analysis of tmp_complex.pdb\n",
      "2024-05-03 17:46:36,676 [INFO] [plipcmd.py:165] plip.plipcmd: finished analysis, find the result files in /var/folders/f5/0zcc5b7570jc40ws28tqdp740000gn/T/tmpr1owqkki/\n"
     ]
    }
   ],
   "source": [
    "# create a visualization factory. \n",
    "from asapdiscovery.dataviz.html_viz import HTMLVisualizer\n",
    "\n",
    "html_vizualizer = HTMLVisualizer(\n",
    "        target=\"SARS-CoV-2-Mac1\",\n",
    "        color_method=\"subpockets\",\n",
    "        align=True,\n",
    "        output_dir=\"html\",\n",
    "        write_to_disk=True,\n",
    "    )\n",
    "vizs_from_docked =  html_vizualizer.visualize(inputs=results, outpaths=[\"from_docked.html\"], use_dask=False)"
   ]
  },
  {
   "cell_type": "code",
   "execution_count": 15,
   "id": "e2879742-8d05-4415-bc9f-d0c2b81b1fc7",
   "metadata": {},
   "outputs": [
    {
     "data": {
      "text/html": [
       "\n",
       "        <iframe\n",
       "            width=\"1000\"\n",
       "            height=\"1000\"\n",
       "            src=\"html/from_docked.html\"\n",
       "            frameborder=\"0\"\n",
       "            allowfullscreen\n",
       "            \n",
       "        ></iframe>\n",
       "        "
      ],
      "text/plain": [
       "<IPython.lib.display.IFrame at 0x19b146230>"
      ]
     },
     "execution_count": 15,
     "metadata": {},
     "output_type": "execute_result"
    }
   ],
   "source": [
    "from IPython.display import IFrame\n",
    "IFrame(vizs_from_docked[\"html_path_pose\"][0], 1000, 1000)"
   ]
  },
  {
   "cell_type": "markdown",
   "id": "45e70275-a7e4-44a9-9737-791e621179dc",
   "metadata": {},
   "source": [
    "## Running an MD simulation\n",
    "\n",
    "Great, our pose looks good! Lets use the VanillaMDSimulator to run some plain simulations of the protein-ligand complex. \n",
    "\n",
    "The VanillaMDSimulator has lots and lots of options for running simulations in different configurations, however a basic configuration should be ok for us."
   ]
  },
  {
   "cell_type": "code",
   "execution_count": 25,
   "id": "01f2bba2-9de3-429b-9d7e-164ce42268bc",
   "metadata": {},
   "outputs": [
    {
     "data": {
      "text/plain": [
       "\u001b[0;31mInit signature:\u001b[0m\n",
       "\u001b[0mVanillaMDSimulator\u001b[0m\u001b[0;34m(\u001b[0m\u001b[0;34m\u001b[0m\n",
       "\u001b[0;34m\u001b[0m    \u001b[0;34m*\u001b[0m\u001b[0;34m,\u001b[0m\u001b[0;34m\u001b[0m\n",
       "\u001b[0;34m\u001b[0m    \u001b[0moutput_dir\u001b[0m\u001b[0;34m:\u001b[0m \u001b[0mpathlib\u001b[0m\u001b[0;34m.\u001b[0m\u001b[0mPath\u001b[0m \u001b[0;34m=\u001b[0m \u001b[0;34m'md'\u001b[0m\u001b[0;34m,\u001b[0m\u001b[0;34m\u001b[0m\n",
       "\u001b[0;34m\u001b[0m    \u001b[0mdebug\u001b[0m\u001b[0;34m:\u001b[0m \u001b[0mbool\u001b[0m \u001b[0;34m=\u001b[0m \u001b[0;32mFalse\u001b[0m\u001b[0;34m,\u001b[0m\u001b[0;34m\u001b[0m\n",
       "\u001b[0;34m\u001b[0m    \u001b[0mcollision_rate\u001b[0m\u001b[0;34m:\u001b[0m \u001b[0mpydantic\u001b[0m\u001b[0;34m.\u001b[0m\u001b[0mtypes\u001b[0m\u001b[0;34m.\u001b[0m\u001b[0mPositiveFloat\u001b[0m \u001b[0;34m=\u001b[0m \u001b[0;36m1\u001b[0m\u001b[0;34m,\u001b[0m\u001b[0;34m\u001b[0m\n",
       "\u001b[0;34m\u001b[0m    \u001b[0mopenmm_logname\u001b[0m\u001b[0;34m:\u001b[0m \u001b[0mstr\u001b[0m \u001b[0;34m=\u001b[0m \u001b[0;34m'openmm_log.tsv'\u001b[0m\u001b[0;34m,\u001b[0m\u001b[0;34m\u001b[0m\n",
       "\u001b[0;34m\u001b[0m    \u001b[0mopenmm_platform\u001b[0m\u001b[0;34m:\u001b[0m \u001b[0masapdiscovery\u001b[0m\u001b[0;34m.\u001b[0m\u001b[0msimulation\u001b[0m\u001b[0;34m.\u001b[0m\u001b[0msimulate\u001b[0m\u001b[0;34m.\u001b[0m\u001b[0mOpenMMPlatform\u001b[0m \u001b[0;34m=\u001b[0m \u001b[0;34m<\u001b[0m\u001b[0mOpenMMPlatform\u001b[0m\u001b[0;34m.\u001b[0m\u001b[0mFastest\u001b[0m\u001b[0;34m:\u001b[0m \u001b[0;34m'Fastest'\u001b[0m\u001b[0;34m>\u001b[0m\u001b[0;34m,\u001b[0m\u001b[0;34m\u001b[0m\n",
       "\u001b[0;34m\u001b[0m    \u001b[0mtemperature\u001b[0m\u001b[0;34m:\u001b[0m \u001b[0mpydantic\u001b[0m\u001b[0;34m.\u001b[0m\u001b[0mtypes\u001b[0m\u001b[0;34m.\u001b[0m\u001b[0mPositiveFloat\u001b[0m \u001b[0;34m=\u001b[0m \u001b[0;36m300\u001b[0m\u001b[0;34m,\u001b[0m\u001b[0;34m\u001b[0m\n",
       "\u001b[0;34m\u001b[0m    \u001b[0mpressure\u001b[0m\u001b[0;34m:\u001b[0m \u001b[0mpydantic\u001b[0m\u001b[0;34m.\u001b[0m\u001b[0mtypes\u001b[0m\u001b[0;34m.\u001b[0m\u001b[0mPositiveFloat\u001b[0m \u001b[0;34m=\u001b[0m \u001b[0;36m1\u001b[0m\u001b[0;34m,\u001b[0m\u001b[0;34m\u001b[0m\n",
       "\u001b[0;34m\u001b[0m    \u001b[0mtimestep\u001b[0m\u001b[0;34m:\u001b[0m \u001b[0mpydantic\u001b[0m\u001b[0;34m.\u001b[0m\u001b[0mtypes\u001b[0m\u001b[0;34m.\u001b[0m\u001b[0mPositiveFloat\u001b[0m \u001b[0;34m=\u001b[0m \u001b[0;36m4\u001b[0m\u001b[0;34m,\u001b[0m\u001b[0;34m\u001b[0m\n",
       "\u001b[0;34m\u001b[0m    \u001b[0mequilibration_steps\u001b[0m\u001b[0;34m:\u001b[0m \u001b[0mpydantic\u001b[0m\u001b[0;34m.\u001b[0m\u001b[0mtypes\u001b[0m\u001b[0;34m.\u001b[0m\u001b[0mPositiveInt\u001b[0m \u001b[0;34m=\u001b[0m \u001b[0;36m5000\u001b[0m\u001b[0;34m,\u001b[0m\u001b[0;34m\u001b[0m\n",
       "\u001b[0;34m\u001b[0m    \u001b[0mreporting_interval\u001b[0m\u001b[0;34m:\u001b[0m \u001b[0mpydantic\u001b[0m\u001b[0;34m.\u001b[0m\u001b[0mtypes\u001b[0m\u001b[0;34m.\u001b[0m\u001b[0mPositiveInt\u001b[0m \u001b[0;34m=\u001b[0m \u001b[0;36m1250\u001b[0m\u001b[0;34m,\u001b[0m\u001b[0;34m\u001b[0m\n",
       "\u001b[0;34m\u001b[0m    \u001b[0mnum_steps\u001b[0m\u001b[0;34m:\u001b[0m \u001b[0mpydantic\u001b[0m\u001b[0;34m.\u001b[0m\u001b[0mtypes\u001b[0m\u001b[0;34m.\u001b[0m\u001b[0mPositiveInt\u001b[0m \u001b[0;34m=\u001b[0m \u001b[0;36m2500000\u001b[0m\u001b[0;34m,\u001b[0m\u001b[0;34m\u001b[0m\n",
       "\u001b[0;34m\u001b[0m    \u001b[0mrmsd_restraint\u001b[0m\u001b[0;34m:\u001b[0m \u001b[0mbool\u001b[0m \u001b[0;34m=\u001b[0m \u001b[0;32mFalse\u001b[0m\u001b[0;34m,\u001b[0m\u001b[0;34m\u001b[0m\n",
       "\u001b[0;34m\u001b[0m    \u001b[0mrmsd_restraint_atom_indices\u001b[0m\u001b[0;34m:\u001b[0m \u001b[0mlist\u001b[0m\u001b[0;34m[\u001b[0m\u001b[0mint\u001b[0m\u001b[0;34m]\u001b[0m \u001b[0;34m=\u001b[0m \u001b[0;34m[\u001b[0m\u001b[0;34m]\u001b[0m\u001b[0;34m,\u001b[0m\u001b[0;34m\u001b[0m\n",
       "\u001b[0;34m\u001b[0m    \u001b[0mrmsd_restraint_type\u001b[0m\u001b[0;34m:\u001b[0m \u001b[0mOptional\u001b[0m\u001b[0;34m[\u001b[0m\u001b[0mstr\u001b[0m\u001b[0;34m]\u001b[0m \u001b[0;34m=\u001b[0m \u001b[0;32mNone\u001b[0m\u001b[0;34m,\u001b[0m\u001b[0;34m\u001b[0m\n",
       "\u001b[0;34m\u001b[0m    \u001b[0mrmsd_restraint_force_constant\u001b[0m\u001b[0;34m:\u001b[0m \u001b[0mpydantic\u001b[0m\u001b[0;34m.\u001b[0m\u001b[0mtypes\u001b[0m\u001b[0;34m.\u001b[0m\u001b[0mPositiveFloat\u001b[0m \u001b[0;34m=\u001b[0m \u001b[0;36m50\u001b[0m\u001b[0;34m,\u001b[0m\u001b[0;34m\u001b[0m\n",
       "\u001b[0;34m\u001b[0m    \u001b[0mtruncate_steps\u001b[0m\u001b[0;34m:\u001b[0m \u001b[0mbool\u001b[0m \u001b[0;34m=\u001b[0m \u001b[0;32mTrue\u001b[0m\u001b[0;34m,\u001b[0m\u001b[0;34m\u001b[0m\n",
       "\u001b[0;34m\u001b[0m    \u001b[0;34m**\u001b[0m\u001b[0mextra_data\u001b[0m\u001b[0;34m:\u001b[0m \u001b[0mAny\u001b[0m\u001b[0;34m,\u001b[0m\u001b[0;34m\u001b[0m\n",
       "\u001b[0;34m\u001b[0m\u001b[0;34m)\u001b[0m \u001b[0;34m->\u001b[0m \u001b[0;32mNone\u001b[0m\u001b[0;34m\u001b[0m\u001b[0;34m\u001b[0m\u001b[0m\n",
       "\u001b[0;31mDocstring:\u001b[0m      Base class for Simulators.\n",
       "\u001b[0;31mInit docstring:\u001b[0m\n",
       "Create a new model by parsing and validating input data from keyword arguments.\n",
       "\n",
       "Raises ValidationError if the input data cannot be parsed to form a valid model.\n",
       "\u001b[0;31mFile:\u001b[0m           ~/Desktop/asap/asapdiscovery/asapdiscovery-simulation/asapdiscovery/simulation/simulate.py\n",
       "\u001b[0;31mType:\u001b[0m           ModelMetaclass\n",
       "\u001b[0;31mSubclasses:\u001b[0m     "
      ]
     },
     "metadata": {},
     "output_type": "display_data"
    }
   ],
   "source": [
    "VanillaMDSimulator?"
   ]
  },
  {
   "cell_type": "markdown",
   "id": "7d147029-3074-4736-b714-ceea1182b70a",
   "metadata": {},
   "source": [
    "We set up our simulator!"
   ]
  },
  {
   "cell_type": "code",
   "execution_count": 10,
   "id": "7686ae2c-8719-4da2-b052-4afc0d10ecfa",
   "metadata": {},
   "outputs": [],
   "source": [
    "md_simulator = VanillaMDSimulator(\n",
    "            output_dir=\"md\",\n",
    "            equilibration_steps=1,\n",
    "            num_steps=1,\n",
    "            reporting_interval=1)\n"
   ]
  },
  {
   "cell_type": "markdown",
   "id": "5f8e23cc-a527-428d-81ea-3473facb37ac",
   "metadata": {},
   "source": [
    "And run it! If we were running lots of simulations, we could use `dask-cuda` (see [here](https://docs.rapids.ai/api/dask-cuda/nightly/)) to parallelise it across multiple GPUs. An example of that is given below. "
   ]
  },
  {
   "cell_type": "code",
   "execution_count": 26,
   "id": "3ce50c18-473b-4477-bd15-6235976231a9",
   "metadata": {},
   "outputs": [],
   "source": [
    "simulation_results = md_simulator.simulate(\n",
    "            results,\n",
    "            use_dask=False)"
   ]
  },
  {
   "cell_type": "markdown",
   "id": "0fdb4959-21e1-49d7-92b9-aa3a83babca8",
   "metadata": {},
   "source": [
    "The simulator makes unique paths for the resulting simulations, we will add some flexibility with output paths in the future. "
   ]
  },
  {
   "cell_type": "code",
   "execution_count": 11,
   "id": "88fae402-6b2c-4ef1-bf55-22440696913a",
   "metadata": {},
   "outputs": [
    {
     "name": "stdout",
     "output_type": "stream",
     "text": [
      "md/SARS2_Mac1A-b27f22555232d2d68273612ffce5a119d6e22526d95ce3eb0db9012632bcdaf6+FHHVXLFEHODNRQ-XCZWEQHLNA-M_alkane-IMNFDUFMRHMDMM-UHFFFAOYNA-N/traj.xtc\n"
     ]
    }
   ],
   "source": [
    "print(simulation_results[0].traj_path)"
   ]
  },
  {
   "cell_type": "code",
   "execution_count": 12,
   "id": "57c5b975-e5a7-4032-bb01-d3e43935e3ce",
   "metadata": {},
   "outputs": [
    {
     "name": "stdout",
     "output_type": "stream",
     "text": [
      "md/SARS2_Mac1A-b27f22555232d2d68273612ffce5a119d6e22526d95ce3eb0db9012632bcdaf6+FHHVXLFEHODNRQ-XCZWEQHLNA-M_alkane-IMNFDUFMRHMDMM-UHFFFAOYNA-N/final.pdb\n"
     ]
    }
   ],
   "source": [
    "print(simulation_results[0].final_pdb_path)"
   ]
  },
  {
   "cell_type": "markdown",
   "id": "8cd655a1-36ec-40ab-be12-f692451b1bf2",
   "metadata": {},
   "source": [
    "## Running multiple simulations with dask-cuda\n",
    "\n",
    "We can pass a series of DockingResults to the VanillaMDSimulator and have `dask-cuda` parallelize work over available GPU resource. For this we will need a LocalCUDACluster.\n",
    "\n",
    "**NOTE** dask_cuda is not available for `MacOS` computers."
   ]
  },
  {
   "cell_type": "code",
   "execution_count": 30,
   "id": "e0b0d7c5-9d50-428f-92c7-f5969fb14c81",
   "metadata": {},
   "outputs": [
    {
     "ename": "ModuleNotFoundError",
     "evalue": "No module named 'dask_cuda'",
     "output_type": "error",
     "traceback": [
      "\u001b[0;31m---------------------------------------------------------------------------\u001b[0m",
      "\u001b[0;31mModuleNotFoundError\u001b[0m                       Traceback (most recent call last)",
      "Cell \u001b[0;32mIn[30], line 2\u001b[0m\n\u001b[1;32m      1\u001b[0m \u001b[38;5;66;03m# create a dask_cuda LocalCUDACluster\u001b[39;00m\n\u001b[0;32m----> 2\u001b[0m \u001b[38;5;28;01mfrom\u001b[39;00m \u001b[38;5;21;01mdask_cuda\u001b[39;00m \u001b[38;5;28;01mimport\u001b[39;00m LocalCUDACluster\n\u001b[1;32m      3\u001b[0m \u001b[38;5;28;01mfrom\u001b[39;00m \u001b[38;5;21;01mdask\u001b[39;00m\u001b[38;5;21;01m.\u001b[39;00m\u001b[38;5;21;01mdistributed\u001b[39;00m \u001b[38;5;28;01mimport\u001b[39;00m Client\n\u001b[1;32m      5\u001b[0m cluster \u001b[38;5;241m=\u001b[39m LocalCUDACluster()\n",
      "\u001b[0;31mModuleNotFoundError\u001b[0m: No module named 'dask_cuda'"
     ]
    }
   ],
   "source": [
    "# create a dask_cuda LocalCUDACluster\n",
    "from dask_cuda import LocalCUDACluster\n",
    "from dask.distributed import Client\n",
    "\n",
    "cluster = LocalCUDACluster()\n",
    "client = Client(cluster)"
   ]
  },
  {
   "cell_type": "code",
   "execution_count": 31,
   "id": "b44d9a17-84c8-411c-8466-de540a8970ee",
   "metadata": {
    "collapsed": true,
    "jupyter": {
     "outputs_hidden": true
    }
   },
   "outputs": [
    {
     "ename": "ImportError",
     "evalue": "dask_cuda is not installed, please install with `pip install dask_cuda`",
     "output_type": "error",
     "traceback": [
      "\u001b[0;31m---------------------------------------------------------------------------\u001b[0m",
      "\u001b[0;31mModuleNotFoundError\u001b[0m                       Traceback (most recent call last)",
      "File \u001b[0;32m~/Desktop/asap/asapdiscovery/asapdiscovery-data/asapdiscovery/data/util/dask_utils.py:319\u001b[0m, in \u001b[0;36mdask_cluster_from_type\u001b[0;34m(dask_type, threads_per_worker, loglevel, n_workers)\u001b[0m\n\u001b[1;32m    318\u001b[0m \u001b[38;5;28;01mtry\u001b[39;00m:\n\u001b[0;32m--> 319\u001b[0m     \u001b[38;5;28;01mfrom\u001b[39;00m \u001b[38;5;21;01mdask_cuda\u001b[39;00m \u001b[38;5;28;01mimport\u001b[39;00m LocalCUDACluster\n\u001b[1;32m    320\u001b[0m \u001b[38;5;28;01mexcept\u001b[39;00m \u001b[38;5;167;01mImportError\u001b[39;00m:\n",
      "\u001b[0;31mModuleNotFoundError\u001b[0m: No module named 'dask_cuda'",
      "\nDuring handling of the above exception, another exception occurred:\n",
      "\u001b[0;31mImportError\u001b[0m                               Traceback (most recent call last)",
      "Cell \u001b[0;32mIn[31], line 5\u001b[0m\n\u001b[1;32m      1\u001b[0m \u001b[38;5;66;03m# asapdiscovery provides a convenience function to do this\u001b[39;00m\n\u001b[1;32m      2\u001b[0m \u001b[38;5;28;01mfrom\u001b[39;00m \u001b[38;5;21;01masapdiscovery\u001b[39;00m\u001b[38;5;21;01m.\u001b[39;00m\u001b[38;5;21;01mdata\u001b[39;00m\u001b[38;5;21;01m.\u001b[39;00m\u001b[38;5;21;01mutil\u001b[39;00m\u001b[38;5;21;01m.\u001b[39;00m\u001b[38;5;21;01mdask_utils\u001b[39;00m \u001b[38;5;28;01mimport\u001b[39;00m DaskType, make_dask_client_meta\n\u001b[0;32m----> 5\u001b[0m client \u001b[38;5;241m=\u001b[39m \u001b[43mmake_dask_client_meta\u001b[49m\u001b[43m(\u001b[49m\u001b[43mDaskType\u001b[49m\u001b[38;5;241;43m.\u001b[39;49m\u001b[43mLOCAL_GPU\u001b[49m\u001b[43m)\u001b[49m\n",
      "File \u001b[0;32m~/Desktop/asap/asapdiscovery/asapdiscovery-data/asapdiscovery/data/util/dask_utils.py:341\u001b[0m, in \u001b[0;36mmake_dask_client_meta\u001b[0;34m(dask_type, loglevel, n_workers, threads_per_worker)\u001b[0m\n\u001b[1;32m    339\u001b[0m     loglevel \u001b[38;5;241m=\u001b[39m logging\u001b[38;5;241m.\u001b[39mgetLevelName(loglevel)\n\u001b[1;32m    340\u001b[0m set_dask_config()\n\u001b[0;32m--> 341\u001b[0m dask_cluster \u001b[38;5;241m=\u001b[39m \u001b[43mdask_cluster_from_type\u001b[49m\u001b[43m(\u001b[49m\n\u001b[1;32m    342\u001b[0m \u001b[43m    \u001b[49m\u001b[43mdask_type\u001b[49m\u001b[43m,\u001b[49m\n\u001b[1;32m    343\u001b[0m \u001b[43m    \u001b[49m\u001b[43mloglevel\u001b[49m\u001b[38;5;241;43m=\u001b[39;49m\u001b[43mloglevel\u001b[49m\u001b[43m,\u001b[49m\n\u001b[1;32m    344\u001b[0m \u001b[43m    \u001b[49m\u001b[43mn_workers\u001b[49m\u001b[38;5;241;43m=\u001b[39;49m\u001b[43mn_workers\u001b[49m\u001b[43m,\u001b[49m\n\u001b[1;32m    345\u001b[0m \u001b[43m    \u001b[49m\u001b[43mthreads_per_worker\u001b[49m\u001b[38;5;241;43m=\u001b[39;49m\u001b[43mthreads_per_worker\u001b[49m\u001b[43m,\u001b[49m\n\u001b[1;32m    346\u001b[0m \u001b[43m\u001b[49m\u001b[43m)\u001b[49m\n\u001b[1;32m    347\u001b[0m dask_client \u001b[38;5;241m=\u001b[39m Client(dask_cluster)\n\u001b[1;32m    348\u001b[0m dask_client\u001b[38;5;241m.\u001b[39mforward_logging(level\u001b[38;5;241m=\u001b[39mloglevel)\n",
      "File \u001b[0;32m~/Desktop/asap/asapdiscovery/asapdiscovery-data/asapdiscovery/data/util/dask_utils.py:321\u001b[0m, in \u001b[0;36mdask_cluster_from_type\u001b[0;34m(dask_type, threads_per_worker, loglevel, n_workers)\u001b[0m\n\u001b[1;32m    319\u001b[0m         \u001b[38;5;28;01mfrom\u001b[39;00m \u001b[38;5;21;01mdask_cuda\u001b[39;00m \u001b[38;5;28;01mimport\u001b[39;00m LocalCUDACluster\n\u001b[1;32m    320\u001b[0m     \u001b[38;5;28;01mexcept\u001b[39;00m \u001b[38;5;167;01mImportError\u001b[39;00m:\n\u001b[0;32m--> 321\u001b[0m         \u001b[38;5;28;01mraise\u001b[39;00m \u001b[38;5;167;01mImportError\u001b[39;00m(\n\u001b[1;32m    322\u001b[0m             \u001b[38;5;124m\"\u001b[39m\u001b[38;5;124mdask_cuda is not installed, please install with `pip install dask_cuda`\u001b[39m\u001b[38;5;124m\"\u001b[39m\n\u001b[1;32m    323\u001b[0m         )\n\u001b[1;32m    324\u001b[0m     cluster \u001b[38;5;241m=\u001b[39m LocalCUDACluster()\n\u001b[1;32m    325\u001b[0m \u001b[38;5;28;01melse\u001b[39;00m:\n",
      "\u001b[0;31mImportError\u001b[0m: dask_cuda is not installed, please install with `pip install dask_cuda`"
     ]
    }
   ],
   "source": [
    "# asapdiscovery provides a convenience function to do this\n",
    "from asapdiscovery.data.util.dask_utils import DaskType, make_dask_client_meta\n",
    "client = make_dask_client_meta(DaskType.LOCAL_GPU)"
   ]
  },
  {
   "cell_type": "markdown",
   "id": "3820556f-bac6-4a35-b0ac-cee90f0a143f",
   "metadata": {},
   "source": [
    "We can see by in"
   ]
  },
  {
   "cell_type": "code",
   "execution_count": 27,
   "id": "9b3b0b63-33f2-45bf-aaa0-c2858df71aed",
   "metadata": {},
   "outputs": [
    {
     "data": {
      "text/plain": [
       "\u001b[0;31mSignature:\u001b[0m\n",
       "\u001b[0mVanillaMDSimulator\u001b[0m\u001b[0;34m.\u001b[0m\u001b[0msimulate\u001b[0m\u001b[0;34m(\u001b[0m\u001b[0;34m\u001b[0m\n",
       "\u001b[0;34m\u001b[0m    \u001b[0mself\u001b[0m\u001b[0;34m,\u001b[0m\u001b[0;34m\u001b[0m\n",
       "\u001b[0;34m\u001b[0m    \u001b[0mdocking_results\u001b[0m\u001b[0;34m:\u001b[0m \u001b[0mlist\u001b[0m\u001b[0;34m[\u001b[0m\u001b[0masapdiscovery\u001b[0m\u001b[0;34m.\u001b[0m\u001b[0mdocking\u001b[0m\u001b[0;34m.\u001b[0m\u001b[0mdocking\u001b[0m\u001b[0;34m.\u001b[0m\u001b[0mDockingResult\u001b[0m\u001b[0;34m]\u001b[0m\u001b[0;34m,\u001b[0m\u001b[0;34m\u001b[0m\n",
       "\u001b[0;34m\u001b[0m    \u001b[0muse_dask\u001b[0m\u001b[0;34m:\u001b[0m \u001b[0mbool\u001b[0m \u001b[0;34m=\u001b[0m \u001b[0;32mFalse\u001b[0m\u001b[0;34m,\u001b[0m\u001b[0;34m\u001b[0m\n",
       "\u001b[0;34m\u001b[0m    \u001b[0mdask_client\u001b[0m\u001b[0;34m=\u001b[0m\u001b[0;32mNone\u001b[0m\u001b[0;34m,\u001b[0m\u001b[0;34m\u001b[0m\n",
       "\u001b[0;34m\u001b[0m    \u001b[0mfailure_mode\u001b[0m\u001b[0;34m=\u001b[0m\u001b[0;34m<\u001b[0m\u001b[0mFailureMode\u001b[0m\u001b[0;34m.\u001b[0m\u001b[0mSKIP\u001b[0m\u001b[0;34m:\u001b[0m \u001b[0;34m'skip'\u001b[0m\u001b[0;34m>\u001b[0m\u001b[0;34m,\u001b[0m\u001b[0;34m\u001b[0m\n",
       "\u001b[0;34m\u001b[0m    \u001b[0;34m**\u001b[0m\u001b[0mkwargs\u001b[0m\u001b[0;34m,\u001b[0m\u001b[0;34m\u001b[0m\n",
       "\u001b[0;34m\u001b[0m\u001b[0;34m)\u001b[0m \u001b[0;34m->\u001b[0m \u001b[0mpandas\u001b[0m\u001b[0;34m.\u001b[0m\u001b[0mcore\u001b[0m\u001b[0;34m.\u001b[0m\u001b[0mframe\u001b[0m\u001b[0;34m.\u001b[0m\u001b[0mDataFrame\u001b[0m\u001b[0;34m\u001b[0m\u001b[0;34m\u001b[0m\u001b[0m\n",
       "\u001b[0;31mDocstring:\u001b[0m <no docstring>\n",
       "\u001b[0;31mFile:\u001b[0m      ~/Desktop/asap/asapdiscovery/asapdiscovery-simulation/asapdiscovery/simulation/simulate.py\n",
       "\u001b[0;31mType:\u001b[0m      function"
      ]
     },
     "metadata": {},
     "output_type": "display_data"
    }
   ],
   "source": [
    "VanillaMDSimulator.simulate?"
   ]
  },
  {
   "cell_type": "code",
   "execution_count": null,
   "id": "3b50efbb-b997-482e-9f02-2acb9ec2e033",
   "metadata": {},
   "outputs": [],
   "source": []
  }
 ],
 "metadata": {
  "kernelspec": {
   "display_name": "Python 3 (ipykernel)",
   "language": "python",
   "name": "python3"
  },
  "language_info": {
   "codemirror_mode": {
    "name": "ipython",
    "version": 3
   },
   "file_extension": ".py",
   "mimetype": "text/x-python",
   "name": "python",
   "nbconvert_exporter": "python",
   "pygments_lexer": "ipython3",
   "version": "3.10.13"
  }
 },
 "nbformat": 4,
 "nbformat_minor": 5
}
