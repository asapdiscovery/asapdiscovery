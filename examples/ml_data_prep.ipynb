{
 "cells": [
  {
   "cell_type": "markdown",
   "id": "40f316c8-fef8-4207-af44-15e9f093487c",
   "metadata": {},
   "source": [
    "# Intro\n",
    "\n",
    "This notebook will show how to prepare your data to use in our ML training pipeline. The main pipeline here will be to download data from a CDD saved search and from Fragalysis, then process this data to build the appropriate data objects. There will also be notes as we go to account for data coming from other sources."
   ]
  },
  {
   "cell_type": "markdown",
   "id": "3e807ca6-a7e8-4623-89fa-1bd7061dfa0f",
   "metadata": {},
   "source": [
    "# Downloading data from CDD\n",
    "\n",
    "The ASAP project uses the CDD Vault for storing our compound data, so the first step will be to pull our data down from CDD. The main process for this is:\n",
    "\n",
    "1. Using the online CDD UI, perform a search for the molecules you want to download. Ensure that all the information you want for each compound is selected in the report.\n",
    "2. Save the search and keep a note of the search's URL\n",
    "3. Use the `asapdiscovery` API to download, filter, and process your data as desired. The code for this step is shown below\n",
    "\n",
    "Note also that you can of course skip all the CDD-related steps if you have an alternative data source or already have your molecules in a local CSV file.\n",
    "\n",
    "The code below should run as is, with the exception of the `vault_id`, `search`, and `CDDTOKEN` needing to be filled in, and potentially needing to change the `id_fieldname`, `smiles_fieldname`, and `assay_name`."
   ]
  },
  {
   "cell_type": "code",
   "execution_count": null,
   "id": "17437c5c-3910-45b0-abb3-e503777b4b9c",
   "metadata": {},
   "outputs": [],
   "source": [
    "from asapdiscovery.data.services.cdd.cdd_download import download_url\n",
    "from asapdiscovery.data.util.utils import (\n",
    "    filter_molecules_dataframe,\n",
    "    parse_fluorescence_data_cdd,\n",
    ")\n",
    "from pathlib import Path\n",
    "\n",
    "import pandas\n",
    "\n",
    "\"\"\"\n",
    "There are 3 separate functions that perform the downloading, filtering,\n",
    "and processing. We also provide a convenient wrapper function that calls all 3.\n",
    "\n",
    "We will first show  an example using the individual functions, and then show the\n",
    "equivalent single function that will get the same results\n",
    "\n",
    "For a saved search with URL https://app.collaborativedrug.com/vaults/<vault_id>/searches/<search>\n",
    "the code will be:\n",
    "\"\"\"\n",
    "\n",
    "# Download the molecules in CSV format (you will need to set the CDDTOKEN variable to\n",
    "#  your CDD API token)\n",
    "response = download_url(\n",
    "    \"https://app.collaborativedrug.com/api/v1/vaults/<vault_id>/searches/<search>\",\n",
    "    header={\"X-CDD-token\": CDDTOKEN},\n",
    ")\n",
    "\n",
    "# Save the downloaded text as a CSV file\n",
    "cache_file = Path(\"cdd_unfiltered.csv\")\n",
    "cache_file.write_text(response.content.decode())\n",
    "\n",
    "# Load the data back as a pandas DataFrame\n",
    "mol_df = pandas.read_csv(cache_file)\n",
    "\n",
    "\"\"\"\n",
    "In this example, we will ultimately use this data to train a structure-based SchNet\n",
    "model, so we will keep all achiral and enantiopure molecules, including any molecule\n",
    "with semiquantitative fluorescence values.\n",
    "\n",
    "In the below function call, we use \"molecule_id\" as the id_fieldname,\n",
    "\"molecule_smiles\" as the smiles_fieldname, and \"fluorescence_exp\" as the assay_name.\n",
    "You will likely need to replace these with whatever the corresponding data field in\n",
    "your CDD vault is called.\n",
    "\"\"\"\n",
    "mol_df_filt = filter_molecules_dataframe(\n",
    "    mol_df,\n",
    "    id_fieldname=\"molecule_id\",\n",
    "    smiles_fieldname=\"molecule_smiles\",\n",
    "    assay_name=\"fluorescence_exp\",\n",
    "    retain_achiral=True,\n",
    "    retain_enantiopure=True,\n",
    "    retain_semiquantitative_data=True,\n",
    ")\n",
    "\n",
    "\"\"\"\n",
    "In addition to being appropriately filtered, mol_df_filt now contains some identifying\n",
    "colums with standardized names, so we only need to pass along the assay_name.\n",
    "\n",
    "The parse_fluorescence_data_cdd function standardizes the fluorescence assay results,\n",
    "adding a number of columns to the data frame. In addition to IC50 and pIC50 values, it\n",
    "will also calculate deltaG in kcal/mol and kT units. If you know your fluorescence\n",
    "assay conditions and they were consistent across all molecules, you can supply the\n",
    "information to the cp_values arg as a tuple of (substrate_concentration, Km), which the\n",
    "function will use in the Cheng-Prusoff equation to calculate the deltaG values. If you\n",
    "don't have these values, the function will use a less accurate approximation. We will\n",
    "exclude the Cheng-Prusoff values in this example for simplicity.\n",
    "\n",
    "More details on the columns that the function expects the input to have and that it\n",
    "adds h\u0000a\u0000he output can be found in the function's docstring.\n",
    "\"\"\"\n",
    "mol_df_filt_processed = parse_fluorescence_data_cdd(\n",
    "    mol_df_filt, assay_name=\"fluorescence_exp\"\n",
    ")\n",
    "\n",
    "# Save the processed data\n",
    "mol_df_filt_processed.to_csv(\"cdd_filtered_processed.csv\", index=False)"
   ]
  },
  {
   "cell_type": "code",
   "execution_count": null,
   "id": "02b35b51-736a-4b5e-b2d4-610feb3da96d",
   "metadata": {},
   "outputs": [],
   "source": [
    "from asapdiscovery.data.services.cdd.cdd_download import download_molecules\n",
    "\n",
    "# As an alternative to the previous cell, we can accomplish the same thing with a call\n",
    "#  to our helper method\n",
    "mol_df_filt_processed = download_molecules(\n",
    "    header={\"X-CDD-token\": CDDTOKEN},\n",
    "    vault=vault_id,\n",
    "    search=search,\n",
    "    fn_out=\"cdd_filtered_processed.csv\",\n",
    "    fn_cache=\"cdd_unfiltered.csv\",\n",
    "    id_fieldname=\"molecule_id\",\n",
    "    smiles_fieldname=\"molecule_smiles\",\n",
    "    assay_name=\"fluorescence_exp\",\n",
    "    retain_achiral=True,\n",
    "    retain_enantiopure=True,\n",
    "    retain_semiquantitative_data=True,\n",
    ")"
   ]
  },
  {
   "cell_type": "markdown",
   "id": "a8232f40-d891-4a3c-b5c0-720e6633e3ab",
   "metadata": {},
   "source": [
    "# Preparing the experimental data\n",
    "\n",
    "Now that we have our experimental data downloaded and processed, we need to convert it into the format that the ML pipeline expects it in. We provide a function that does exactly this, that takes the previously generated CSV file as input and produces a JSON file that we will load later."
   ]
  },
  {
   "cell_type": "code",
   "execution_count": null,
   "id": "9ccf1e41-cb47-44de-ad09-11e6b47819b2",
   "metadata": {},
   "outputs": [],
   "source": [
    "from asapdiscovery.data.util.utils import cdd_to_schema\n",
    "\n",
    "_ = cdd_to_schema(cdd_csv=\"cdd_filtered_processed.csv\", out_json=\"cdd_filtered_processed.json\")"
   ]
  },
  {
   "cell_type": "markdown",
   "id": "e8cec0de-27d1-4044-a857-be3bb297783a",
   "metadata": {},
   "source": [
    "# Downloading data from Fragalysis\n",
    "\n",
    "The ASAP project uses Fragalysis for storing our crystal structures, so will also need to pull those files. This process is much less involved than the CDD data, as the structures in Fragalysis are already aligned and formatted nicely. We will simply download the archive and extract it.\n",
    "\n",
    "As before, you can of course skip this step and instead provide a directory of your own PDB files."
   ]
  },
  {
   "cell_type": "code",
   "execution_count": null,
   "id": "43679e13-20bb-422e-b048-60a57ce2f390",
   "metadata": {},
   "outputs": [],
   "source": [
    "from asapdiscovery.data.services.fragalysis.fragalysis_download import (\n",
    "    API_CALL_BASE,\n",
    "    download,\n",
    ")\n",
    "from pathlib import Path\n",
    "\n",
    "# Copy the base call in case something tries to use it elsewhere\n",
    "api_call = copy.deepcopy(API_CALL_BASE)\n",
    "# We will be downloading the SARS-CoV-2 Mpro structures for this example\n",
    "api_call[\"target_name\"] = \"Mpro\"\n",
    "\n",
    "# The archive will be extracted in the same directory that the zip file is downloaded\n",
    "#  to, so make a new directory for everything\n",
    "out_dir = Path(\"./mpro_fragalysis/\")\n",
    "out_dir.mkdir(exist_ok=True)\n",
    "# Download and extract the files\n",
    "download(out_fn=str(out_dir / \"fragalysis.zip\"), api_call=api_call)"
   ]
  },
  {
   "cell_type": "markdown",
   "id": "f853ff4e-21ad-4922-94e6-c8cdf9e5b095",
   "metadata": {},
   "source": [
    "# Next steps\n",
    "This should be enough to get you ready to train ML models on ASAP data using either the `CLI` (see `guides`) or API layer (see example notebook). "
   ]
  },
  {
   "cell_type": "code",
   "execution_count": null,
   "id": "2e2414f1-6509-4b58-a4f0-e5929ba79a1b",
   "metadata": {},
   "outputs": [],
   "source": []
  }
 ],
 "metadata": {
  "kernelspec": {
   "display_name": "Python 3 (ipykernel)",
   "language": "python",
   "name": "python3"
  },
  "language_info": {
   "codemirror_mode": {
    "name": "ipython",
    "version": 3
   },
   "file_extension": ".py",
   "mimetype": "text/x-python",
   "name": "python",
   "nbconvert_exporter": "python",
   "pygments_lexer": "ipython3",
   "version": "3.10.14"
  }
 },
 "nbformat": 4,
 "nbformat_minor": 5
}
