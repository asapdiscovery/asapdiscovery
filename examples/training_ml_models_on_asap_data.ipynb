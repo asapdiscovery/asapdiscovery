{
 "cells": [
  {
   "cell_type": "markdown",
   "id": "431376e6-49ed-472e-9c07-61e7ef4eb2a0",
   "metadata": {},
   "source": [
    "# Training ML models "
   ]
  },
  {
   "cell_type": "markdown",
   "id": "18e6585c-6681-474c-bb55-dd9d7429e510",
   "metadata": {},
   "source": [
    "## Prerequisites\n",
    "\n",
    "Before starting this tutorial, you should have already worked through the tutorials on [Interfacing with databases and systems](https://asapdiscovery.readthedocs.io/en/latest/tutorials/index.html#interfacing-with-databases-and-systems) and [Docking and scoring](https://asapdiscovery.readthedocs.io/en/latest/tutorials/index.html#docking-and-scoring)."
   ]
  },
  {
   "cell_type": "markdown",
   "id": "bd7d9d63-75d7-405c-a183-ffadb141f0d4",
   "metadata": {},
   "source": [
    "## Intro\n",
    "\n",
    "In this guide, we will start with a CSV file downloaded from CDD and a directory of docked protein-ligand complex PDB files. These are the two outputs from the guides mentioned in the Prerequisites section, so be sure to complete those if you haven't already."
   ]
  },
  {
   "cell_type": "markdown",
   "id": "42109390-694f-4638-b9b5-1ecfaa20a49f",
   "metadata": {},
   "source": [
    "## Preparing the experimental data\n",
    "\n",
    "Before using the data in training, we will do some filtering and processing of the experimental data to ensure that everything is in the correct format. We will use all the default values for column names, which come from the [COVID Moonshot project](https://www.science.org/doi/10.1126/science.abo7201). See the docs for individual functions to see how these values can be tuned for your use-case."
   ]
  },
  {
   "cell_type": "code",
   "execution_count": null,
   "id": "7b3b399e-4d94-4940-ad82-e266ae0898d4",
   "metadata": {},
   "outputs": [],
   "source": [
    "from asapdiscovery.data.util.utils import (\n",
    "    cdd_to_schema,\n",
    "    filter_molecules_dataframe,\n",
    "    parse_fluorescence_data_cdd,\n",
    ")\n",
    "from pathlib import Path\n",
    "\n",
    "import pandas\n",
    "\n",
    "# Replace this name with whatever you've saved your CDD download as\n",
    "mol_df = pandas.read_csv(\"cdd_unfiltered.csv\")\n",
    "\n",
    "\"\"\"\n",
    "In this example, we will ultimately use this data to train both 2D and structure-based\n",
    "models, so we will keep all achiral and enantiopure molecules, including any molecules\n",
    "with semiquantitative fluorescence values.\n",
    "\"\"\"\n",
    "mol_df_filt = filter_molecules_dataframe(\n",
    "    mol_df,\n",
    "    retain_achiral=True,\n",
    "    retain_enantiopure=True,\n",
    "    retain_semiquantitative_data=True,\n",
    ")\n",
    "\n",
    "\"\"\"\n",
    "In addition to being appropriately filtered, mol_df_filt now contains some identifying\n",
    "colums with standardized names.\n",
    "\n",
    "The parse_fluorescence_data_cdd function standardizes the fluorescence assay results,\n",
    "adding a number of columns to the data frame. In addition to IC50 and pIC50 values, it\n",
    "will also calculate deltaG in kcal/mol and kT units. If you know your fluorescence\n",
    "assay conditions and they were consistent across all molecules, you can supply the\n",
    "information to the cp_values arg as a tuple of (substrate_concentration, Km), which the\n",
    "function will use in the Cheng-Prusoff equation to calculate the deltaG values. If you\n",
    "don't have these values, the function will use a less accurate approximation. We will\n",
    "exclude the Cheng-Prusoff values in this example for simplicity.\n",
    "\n",
    "More details on the columns that the function expects the input to have and that it\n",
    "adds to the output can be found in the function's docstring.\n",
    "\"\"\"\n",
    "mol_df_filt_processed = parse_fluorescence_data_cdd(mol_df_filt)\n",
    "\n",
    "# Save the processed data\n",
    "mol_df_filt_processed.to_csv(\"cdd_filtered_processed.csv\", index=False)\n",
    "\n",
    "\"\"\"\n",
    "The last step in this process is to convert it into the format that the ML pipeline\n",
    "expects it in. The below function does that, taking the previously generated CSV file\n",
    "as input and producing a JSON file that we will load later.\n",
    "\"\"\"\n",
    "_ = cdd_to_schema(\n",
    "    cdd_csv=\"cdd_filtered_processed.csv\", out_json=\"cdd_filtered_processed.json\"\n",
    ")"
   ]
  }
 ],
 "metadata": {
  "kernelspec": {
   "display_name": "Python 3 (ipykernel)",
   "language": "python",
   "name": "python3"
  },
  "language_info": {
   "codemirror_mode": {
    "name": "ipython",
    "version": 3
   },
   "file_extension": ".py",
   "mimetype": "text/x-python",
   "name": "python",
   "nbconvert_exporter": "python",
   "pygments_lexer": "ipython3",
   "version": "3.10.14"
  }
 },
 "nbformat": 4,
 "nbformat_minor": 5
}
