{
 "cells": [
  {
   "cell_type": "markdown",
   "id": "431376e6-49ed-472e-9c07-61e7ef4eb2a0",
   "metadata": {},
   "source": [
    "# Training ML models "
   ]
  },
  {
   "cell_type": "code",
   "execution_count": null,
   "id": "e96f1680-4a19-46f5-9a34-a4d3018b8594",
   "metadata": {},
   "outputs": [],
   "source": []
  },
  {
   "cell_type": "code",
   "execution_count": null,
   "id": "a601a2ac-fbad-41b8-9e57-0684adaad7cf",
   "metadata": {},
   "outputs": [],
   "source": []
  }
 ],
 "metadata": {
  "kernelspec": {
   "display_name": "Python 3 (ipykernel)",
   "language": "python",
   "name": "python3"
  },
  "language_info": {
   "codemirror_mode": {
    "name": "ipython",
    "version": 3
   },
   "file_extension": ".py",
   "mimetype": "text/x-python",
   "name": "python",
   "nbconvert_exporter": "python",
   "pygments_lexer": "ipython3",
   "version": "3.10.8"
  }
 },
 "nbformat": 4,
 "nbformat_minor": 5
}
