{
 "cells": [
  {
   "cell_type": "markdown",
   "id": "d3e87432-1c82-4149-86d4-c0cce97f9c92",
   "metadata": {},
   "source": [
    "# Welcome to ASAPDiscovery\n",
    "\n",
    "Welcome to the ASAPDiscovery tutorial series! \n",
    "\n",
    "This notebook will run you through some of the base level abstractions used in our workflows and get you comfortable with the style of the package! "
   ]
  },
  {
   "cell_type": "markdown",
   "id": "80d2b3cd-c190-4fcd-b089-ed230238700b",
   "metadata": {},
   "source": [
    "## Making your first Ligand\n",
    "\n",
    "We aim to provide high-level abstractions that allow conceptual operations on common objects in drug discovery without worrying about implementation details.\n",
    "\n",
    "Nothing could be more fundamental to drug discovery than a ligand so lets start there! `asapdiscovery` has a `Ligand` schema that acts as a metadata rich serializable wrapper around a small molecule (backed by an SDF string).  This is essential for allowing "
   ]
  },
  {
   "cell_type": "code",
   "execution_count": 1,
   "id": "5fff7910-ffe3-475a-a1cb-fa564614b994",
   "metadata": {},
   "outputs": [],
   "source": [
    "from asapdiscovery.data.schema.ligand import Ligand\n",
    "\n",
    "# make a ligand from a SMILES string \n",
    "\n",
    "lig = Ligand.from_smiles(\"CC(Cc1ccc(cc1)C(C(=O)O)C)C\", compound_name=\"ibuprofen\") # compound name is mandatory "
   ]
  },
  {
   "cell_type": "code",
   "execution_count": 2,
   "id": "ff3c979f-6461-4a9f-bd61-9327952c7172",
   "metadata": {},
   "outputs": [
    {
     "name": "stdout",
     "output_type": "stream",
     "text": [
      "InChI=1S/C13H18O2/c1-9(2)8-11-4-6-12(7-5-11)10(3)13(14)15/h4-7,9-10H,8H2,1-3H3,(H,14,15)\n",
      "HEFNNWSXXWATRW-UHFFFAOYSA-N\n",
      "1\n",
      "CC(C)Cc1ccc(cc1)C(C)C(=O)O\n"
     ]
    }
   ],
   "source": [
    "# we can compute common properties of our ligand\n",
    "print(lig.inchi)\n",
    "print(lig.inchikey)\n",
    "print(lig.num_poses)\n",
    "print(lig.smiles)"
   ]
  },
  {
   "cell_type": "code",
   "execution_count": 3,
   "id": "9a25e5e8-cf0d-4414-9c22-b0bf9a51db12",
   "metadata": {},
   "outputs": [
    {
     "data": {
      "text/plain": [
       "'{\"compound_name\": \"ibuprofen\", \"ids\": null, \"provenance\": {\"isomeric_smiles\": \"CC(C)Cc1ccc(cc1)C(C)C(=O)O\", \"inchi\": \"InChI=1S/C13H18O2/c1-9(2)8-11-4-6-12(7-5-11)10(3)13(14)15/h4-7,9-10H,8H2,1-3H3,(H,14,15)\", \"inchi_key\": \"HEFNNWSXXWATRW-UHFFFAOYSA-N\", \"fixed_inchi\": \"InChI=1/C13H18O2/c1-9(2)8-11-4-6-12(7-5-11)10(3)13(14)15/h4-7,9-10H,8H2,1-3H3,(H,14,15)/f/h14H\", \"fixed_inchikey\": \"HEFNNWSXXWATRW-YHMJCDSINA-N\"}, \"experimental_data\": null, \"expansion_tag\": null, \"tags\": {}, \"conf_tags\": {}, \"data\": \"\\\\n  -OEChem-05072411412D\\\\n\\\\n 15 15  0     1  0  0  0  0  0999 V2000\\\\n    2.5966    0.4977    0.0000 C   0  0  0  0  0  0  0  0  0  0  0  0\\\\n    2.5994    1.4977    0.0000 C   0  0  0  0  0  0  0  0  0  0  0  0\\\\n    1.7349    2.0002    0.0000 C   0  0  0  0  0  0  0  0  0  0  0  0\\\\n    0.8674    1.5027    0.0000 C   0  0  0  0  0  0  0  0  0  0  0  0\\\\n    0.8674    0.4976    0.0000 C   0  0  0  0  0  0  0  0  0  0  0  0\\\\n    0.0000    0.0000    0.0000 C   0  0  0  0  0  0  0  0  0  0  0  0\\\\n   -0.8674    0.4976    0.0000 C   0  0  0  0  0  0  0  0  0  0  0  0\\\\n   -0.8674    1.5027    0.0000 C   0  0  0  0  0  0  0  0  0  0  0  0\\\\n   -0.0000    2.0102    0.0000 C   0  0  0  0  0  0  0  0  0  0  0  0\\\\n   -1.7327   -0.0036    0.0000 C   0  0  3  0  0  0  0  0  0  0  0  0\\\\n   -1.7313   -1.0036    0.0000 C   0  0  0  0  0  0  0  0  0  0  0  0\\\\n   -0.8646   -1.5024    0.0000 O   0  0  0  0  0  0  0  0  0  0  0  0\\\\n   -2.5967   -1.5048    0.0000 O   0  0  0  0  0  0  0  0  0  0  0  0\\\\n   -2.5994    0.4952    0.0000 C   0  0  0  0  0  0  0  0  0  0  0  0\\\\n    3.4669    1.9952    0.0000 C   0  0  0  0  0  0  0  0  0  0  0  0\\\\n  1  2  1  0  0  0  0\\\\n  2  3  1  0  0  0  0\\\\n  3  4  1  0  0  0  0\\\\n  4  9  2  0  0  0  0\\\\n  4  5  1  0  0  0  0\\\\n  5  6  2  0  0  0  0\\\\n  6  7  1  0  0  0  0\\\\n  7  8  2  0  0  0  0\\\\n  8  9  1  0  0  0  0\\\\n  7 10  1  0  0  0  0\\\\n 10 11  1  0  0  0  0\\\\n 11 12  2  0  0  0  0\\\\n 11 13  1  0  0  0  0\\\\n 10 14  1  0  0  0  0\\\\n  2 15  1  0  0  0  0\\\\nM  END\\\\n$$$$\\\\n\", \"data_format\": \"sdf\"}'"
      ]
     },
     "execution_count": 3,
     "metadata": {},
     "output_type": "execute_result"
    }
   ],
   "source": [
    "# our representation is fully serialisable as JSON, backed by storing an SDF file\n",
    "lig.json()"
   ]
  },
  {
   "cell_type": "code",
   "execution_count": 4,
   "id": "8dc86cef-2e7e-4aba-a4e5-734b5ac34bdf",
   "metadata": {},
   "outputs": [],
   "source": [
    "# serialize to JSON\n",
    "lig.to_json_file(\"my_ligand.json\")"
   ]
  },
  {
   "cell_type": "code",
   "execution_count": 5,
   "id": "d11b3c97-845e-4bf7-a4bc-469a4897ec3d",
   "metadata": {},
   "outputs": [
    {
     "data": {
      "text/plain": [
       "True"
      ]
     },
     "execution_count": 5,
     "metadata": {},
     "output_type": "execute_result"
    }
   ],
   "source": [
    "# deserialize \n",
    "lig2 = Ligand.from_json_file(\"my_ligand.json\")\n",
    "# check for equality\n",
    "lig == lig2"
   ]
  },
  {
   "cell_type": "code",
   "execution_count": 6,
   "id": "f8fdfa8c-1e14-4225-9420-80a9d05effde",
   "metadata": {},
   "outputs": [],
   "source": [
    "# you can save it as an SDF file \n",
    "lig.to_sdf(\"my_sdf.sdf\")"
   ]
  },
  {
   "cell_type": "markdown",
   "id": "b16aaf4c-9347-4786-a6cf-87f6b3dabc4e",
   "metadata": {},
   "source": [
    "These abstractions enable remote transmission of ligands, easy metadata tracking and simple equality testing between small molecules. All of our workflows make ample use of these abstractions to avoid extensive metadata interrogation at each step and allow easy flow through of identifiers. "
   ]
  },
  {
   "cell_type": "code",
   "execution_count": 7,
   "id": "81949701-b0d5-4e64-bda8-fe757352ace2",
   "metadata": {},
   "outputs": [
    {
     "data": {
      "text/plain": [
       "<oechem.OEMol; proxy of <Swig Object of type 'OEMolWrapper *' at 0x76ec4b64f630> >"
      ]
     },
     "execution_count": 7,
     "metadata": {},
     "output_type": "execute_result"
    }
   ],
   "source": [
    "# we can also easily make OpenEye molecules from ligands to work with OpenEye components. \n",
    "oemol = lig.to_oemol()\n",
    "oemol"
   ]
  },
  {
   "cell_type": "code",
   "execution_count": 8,
   "id": "ff1cadee-473d-48cf-8e13-4357430d1db2",
   "metadata": {},
   "outputs": [
    {
     "data": {
      "image/png": "[encoded data removed]",
      "text/html": [
       "<table><tr><td colspan=\"2\" style=\"text-align: center;\"><image src=\"data:image/png;base64,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\"></td></tr>\n",
       "<tr><th style=\"text-align: right\">compound_name</th><td style=\"text-align: left\">ibuprofen</td></tr>\n",
       "<tr><th style=\"text-align: right\">provenance</th><td style=\"text-align: left\">{&quot;isomeric_smiles&quot;: &quot;CC(C)Cc1ccc(cc1)C(C)C(=O)O&quot;, &quot;inchi&quot;: &quot;InChI=1S/C13H18O2/c1-9(2)8-11-4-6-12(7-5-11)10(3)13(14)15/h4-7,9-10H,8H2,1-3H3,(H,14,15)&quot;, &quot;inchi_key&quot;: &quot;HEFNNWSXXWATRW-UHFFFAOYSA-N&quot;, &quot;fixed_inchi&quot;: &quot;InChI=1/C13H18O2/c1-9(2)8-11-4-6-12(7-5-11)10(3)13(14)15/h4-7,9-10H,8H2,1-3H3,(H,14,15)/f/h14H&quot;, &quot;fixed_inchikey&quot;: &quot;HEFNNWSXXWATRW-YHMJCDSINA-N&quot;}</td></tr>\n",
       "<tr><th style=\"text-align: right\">data_format</th><td style=\"text-align: left\">sdf</td></tr></table>"
      ],
      "text/plain": [
       "<rdkit.Chem.rdchem.Mol at 0x76ec49ac5f50>"
      ]
     },
     "execution_count": 8,
     "metadata": {},
     "output_type": "execute_result"
    }
   ],
   "source": [
    "# we can also easily make RDKit molecules from ligands \n",
    "rdkit_mol = lig.to_rdkit()\n",
    "rdkit_mol"
   ]
  },
  {
   "cell_type": "markdown",
   "id": "67d11408-d165-41c7-a1cf-53e76ca6f303",
   "metadata": {},
   "source": [
    "These translations allow easy use with chemoinformatics,  structure based drug design toolkits and molecular simulation engines of all kinds.  "
   ]
  },
  {
   "cell_type": "markdown",
   "id": "04fece93-02d5-4886-bdfb-741e0f56b407",
   "metadata": {},
   "source": [
    "## Making your first Target\n",
    "\n",
    "Most drug discovery campaigns need a target! So how does `asapdiscovery` handle these? A `Target` is a metadata rich serializable  wrapper around a PDB file in much the same way as a `Ligand`. \n",
    "\n",
    "For this example we will use an ASAP target, the SARS-CoV-2 nsp3 Mac1 macrodomain that  removes ADP ribose from viral and host cell proteins. The removal of this post-translational modification reduces the inflammatory and antiviral responses to infection — facilitating replication (see [here](https://www.mdpi.com/2076-0817/11/1/94) for review).\n",
    "\n",
    "See [SARS-CoV-2 nsp3 Mac1 targeting opportunity](https://asapdiscovery.notion.site/Targeting-Opportunity-SARS-CoV-2-nsp3-Mac1-macrodomain-47af24638b994e8ba786303ec743926e) for more information on Mac1. \n",
    "\n",
    "\n",
    "**NOTE: A target is designed to wrap only the protein component of a PDB file.** To work with a protein-ligand complex, you should use a `Complex` object (see later). Making a `Target` will automatically remove the small molecule components from a PDB file. \n"
   ]
  },
  {
   "cell_type": "code",
   "execution_count": 9,
   "id": "4de54f16-9448-4ad8-b48a-51de47890364",
   "metadata": {},
   "outputs": [],
   "source": [
    "# first lets grab a file from the `asapdiscovery` test suite\n",
    "from asapdiscovery.data.testing.test_resources import fetch_test_file"
   ]
  },
  {
   "cell_type": "code",
   "execution_count": 10,
   "id": "04cf14bd-482b-4e64-88ea-8cc30216406d",
   "metadata": {},
   "outputs": [],
   "source": [
    "from asapdiscovery.data.schema.target import Target"
   ]
  },
  {
   "cell_type": "code",
   "execution_count": 11,
   "id": "db408aea-02cf-45b3-9757-37d609e78621",
   "metadata": {},
   "outputs": [
    {
     "name": "stdout",
     "output_type": "stream",
     "text": [
      "<class 'pathlib.PosixPath'>\n"
     ]
    }
   ],
   "source": [
    "protein = fetch_test_file(\"SARS2_Mac1A-A1013.pdb\")\n",
    "print(type(protein)) # its a path to a real file"
   ]
  },
  {
   "cell_type": "code",
   "execution_count": 12,
   "id": "a6d094a4-6d54-4cfe-96a7-6a59feae69da",
   "metadata": {},
   "outputs": [],
   "source": [
    "mac1_target = Target.from_pdb(protein, target_name=\"Mac1A\")"
   ]
  },
  {
   "cell_type": "code",
   "execution_count": 13,
   "id": "a00c2bf0-975c-46ea-a03f-616074d68059",
   "metadata": {},
   "outputs": [],
   "source": [
    "# serialize to JSON\n",
    "mac1_target.to_json_file(\"target.json\")"
   ]
  },
  {
   "cell_type": "code",
   "execution_count": 14,
   "id": "0d295267-a88d-4034-a57c-267c8969f570",
   "metadata": {},
   "outputs": [
    {
     "data": {
      "text/plain": [
       "True"
      ]
     },
     "execution_count": 14,
     "metadata": {},
     "output_type": "execute_result"
    }
   ],
   "source": [
    "# deserialize from JSON\n",
    "t2 = Target.from_json_file(\"target.json\")\n",
    "t2 == mac1_target"
   ]
  },
  {
   "cell_type": "code",
   "execution_count": 15,
   "id": "9dd4b029-376e-495c-90de-19c61958c139",
   "metadata": {},
   "outputs": [],
   "source": [
    "# also to a PDB file, only protein components included\n",
    "mac1_target.to_pdb(\"my_pdb.pdb\")"
   ]
  },
  {
   "cell_type": "markdown",
   "id": "b1657f74-3b1e-499d-a318-bde4aec594cf",
   "metadata": {},
   "source": [
    "## Making your first Complex\n",
    "\n",
    "We have looked at `Targets` and `Ligands` now what about combining them? A complex is just that, a combination of a ligand and target object for easy handling of both small molecule and protein elements\n"
   ]
  },
  {
   "cell_type": "code",
   "execution_count": 16,
   "id": "360753cc-3932-45be-9298-ca2770269e81",
   "metadata": {},
   "outputs": [],
   "source": [
    "from asapdiscovery.data.schema.complex import Complex"
   ]
  },
  {
   "cell_type": "code",
   "execution_count": 17,
   "id": "1f1337c1-a39e-4010-94fa-5b8e2383f616",
   "metadata": {},
   "outputs": [],
   "source": [
    "complx = Complex.from_pdb(protein, target_kwargs={\"target_name\": \"Mac1A\"}, ligand_kwargs={\"compound_name\": \"A1013\"})"
   ]
  },
  {
   "cell_type": "code",
   "execution_count": 18,
   "id": "0904d92a-17f3-48fb-ab8b-3cc07e98756e",
   "metadata": {},
   "outputs": [
    {
     "data": {
      "text/plain": [
       "Ligand(compound_name='A1013', ids=None, provenance=LigandProvenance(isomeric_smiles='c1cc2c(cc1[C@@H](C(=O)[O-])Nc3c4cc[nH]c4ncn3)OCCO2', inchi='InChI=1S/C16H14N4O4/c21-16(22)13(9-1-2-11-12(7-9)24-6-5-23-11)20-15-10-3-4-17-14(10)18-8-19-15/h1-4,7-8,13H,5-6H2,(H,21,22)(H2,17,18,19,20)/p-1/t13-/m0/s1', inchi_key='FHHVXLFEHODNRQ-ZDUSSCGKSA-M', fixed_inchi='InChI=1/C16H14N4O4/c21-16(22)13(9-1-2-11-12(7-9)24-6-5-23-11)20-15-10-3-4-17-14(10)18-8-19-15/h1-4,7-8,13H,5-6H2,(H,21,22)(H2,17,18,19,20)/p-1/t13-/m0/s1/fC16H13N4O4/h17,20H/q-1', fixed_inchikey='FHHVXLFEHODNRQ-XCZWEQHLNA-M'), experimental_data=None, expansion_tag=None, tags={}, conf_tags={}, data_format=<DataStorageType.sdf: 'sdf'>)"
      ]
     },
     "execution_count": 18,
     "metadata": {},
     "output_type": "execute_result"
    }
   ],
   "source": [
    "complx.ligand"
   ]
  },
  {
   "cell_type": "code",
   "execution_count": 19,
   "id": "82de2010-fde0-42ab-9b40-d3f1d5dc8372",
   "metadata": {},
   "outputs": [
    {
     "data": {
      "text/plain": [
       "Target(target_name='Mac1A', ids=None, data_format=<DataStorageType.pdb: 'pdb'>)"
      ]
     },
     "execution_count": 19,
     "metadata": {},
     "output_type": "execute_result"
    }
   ],
   "source": [
    "complx.target"
   ]
  },
  {
   "cell_type": "code",
   "execution_count": 20,
   "id": "4fc1a495-2a62-4f89-a650-b87c7c6a5335",
   "metadata": {},
   "outputs": [],
   "source": [
    "# can be serialized as one file with JSON \n",
    "complx.to_json_file(\"my_complex.json\")"
   ]
  },
  {
   "cell_type": "code",
   "execution_count": 21,
   "id": "edce296f-f4c1-41c9-9dd6-977088167818",
   "metadata": {},
   "outputs": [],
   "source": [
    "c2 = Complex.from_json_file(\"my_complex.json\")"
   ]
  },
  {
   "cell_type": "code",
   "execution_count": 22,
   "id": "351a2621-e80e-4dfd-9d88-2ce3f3f285ce",
   "metadata": {},
   "outputs": [
    {
     "data": {
      "text/plain": [
       "True"
      ]
     },
     "execution_count": 22,
     "metadata": {},
     "output_type": "execute_result"
    }
   ],
   "source": [
    "c2 == complx"
   ]
  },
  {
   "cell_type": "code",
   "execution_count": 23,
   "id": "b37ee60d-17d2-48d8-8701-67a1a0d39aa4",
   "metadata": {},
   "outputs": [
    {
     "data": {
      "text/plain": [
       "<oechem.OEGraphMol; proxy of <Swig Object of type 'OEGraphMolWrapper *' at 0x76eda90706c0> >"
      ]
     },
     "execution_count": 23,
     "metadata": {},
     "output_type": "execute_result"
    }
   ],
   "source": [
    "# you can make a combined OpenEye molecule easily\n",
    "complx.to_combined_oemol()"
   ]
  },
  {
   "cell_type": "code",
   "execution_count": 24,
   "id": "c0373a3c-7e56-4d7f-8671-89cc90a8c7bd",
   "metadata": {},
   "outputs": [],
   "source": [
    "# or save as a PDB file, protein and ligand included\n",
    "complx.to_pdb(\"my_complex.pdb\")"
   ]
  },
  {
   "cell_type": "markdown",
   "id": "d1f7ae62-416a-4723-903a-39a1f1f2a129",
   "metadata": {},
   "source": [
    "## Summary\n",
    "\n",
    "Hopefully this has given you a nice introduction to the base level abstractions used by the `asapdiscovery` repo. Continue on to the next tutorials for more fun stuff. "
   ]
  },
  {
   "cell_type": "code",
   "execution_count": null,
   "id": "e74160f7-3795-4c73-b10c-24ec6d310347",
   "metadata": {},
   "outputs": [],
   "source": []
  }
 ],
 "metadata": {
  "kernelspec": {
   "display_name": "Python 3 (ipykernel)",
   "language": "python",
   "name": "python3"
  },
  "language_info": {
   "codemirror_mode": {
    "name": "ipython",
    "version": 3
   },
   "file_extension": ".py",
   "mimetype": "text/x-python",
   "name": "python",
   "nbconvert_exporter": "python",
   "pygments_lexer": "ipython3",
   "version": "3.10.14"
  }
 },
 "nbformat": 4,
 "nbformat_minor": 5
}
