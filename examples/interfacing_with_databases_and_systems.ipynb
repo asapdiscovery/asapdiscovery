{
 "cells": [
  {
   "cell_type": "markdown",
   "id": "76dea8ef-f2b5-4e9f-a850-60aa8abde5d0",
   "metadata": {},
   "source": [
    "# Interfacing with databases and systems"
   ]
  },
  {
   "cell_type": "code",
   "execution_count": null,
   "id": "ce89c5e1-b067-46f9-9f98-015652020a15",
   "metadata": {},
   "outputs": [],
   "source": []
  }
 ],
 "metadata": {
  "kernelspec": {
   "display_name": "Python 3 (ipykernel)",
   "language": "python",
   "name": "python3"
  },
  "language_info": {
   "codemirror_mode": {
    "name": "ipython",
    "version": 3
   },
   "file_extension": ".py",
   "mimetype": "text/x-python",
   "name": "python",
   "nbconvert_exporter": "python",
   "pygments_lexer": "ipython3",
   "version": "3.10.8"
  }
 },
 "nbformat": 4,
 "nbformat_minor": 5
}
