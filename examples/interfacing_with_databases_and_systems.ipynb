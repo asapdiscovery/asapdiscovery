{
 "cells": [
  {
   "cell_type": "markdown",
   "id": "76dea8ef-f2b5-4e9f-a850-60aa8abde5d0",
   "metadata": {},
   "source": [
    "# Interfacing with databases and systems"
   ]
  },
  {
   "cell_type": "markdown",
   "id": "203dee44-82ef-459e-864f-983b0e39a2a2",
   "metadata": {},
   "source": [
    "ASAP's workflows involve interfacing with many different services, data providers and integrations. Much like with our "
   ]
  },
  {
   "cell_type": "markdown",
   "id": "d63f64e6-f443-4b5b-b90a-1057a1446d4d",
   "metadata": {},
   "source": [
    "# Reading lots of molecules from files"
   ]
  },
  {
   "cell_type": "markdown",
   "id": "7d229000-2f2f-49ef-99e9-0d8155b4626a",
   "metadata": {},
   "source": [
    "# Reading structures from Fragalysis "
   ]
  },
  {
   "cell_type": "markdown",
   "id": "c37daca3-99f9-4177-a66e-4b633c6594bd",
   "metadata": {},
   "source": [
    "# Loading compounds from Postera"
   ]
  },
  {
   "cell_type": "markdown",
   "id": "a73584b2-7aee-44e5-84f6-39cfe96a582c",
   "metadata": {},
   "source": [
    "# Pushing data to Postera"
   ]
  },
  {
   "cell_type": "markdown",
   "id": "0028a4e0-5d48-43db-b49e-e5b9d528f40c",
   "metadata": {},
   "source": [
    "# Reading data from CDD"
   ]
  },
  {
   "cell_type": "markdown",
   "id": "18dbc1c5-f06d-4fe8-8cc3-2070ae39e7a7",
   "metadata": {},
   "source": [
    "# Working with AWS"
   ]
  },
  {
   "cell_type": "code",
   "execution_count": null,
   "id": "15d9e0e2-f57c-4e93-91c3-4e59bc759d31",
   "metadata": {},
   "outputs": [],
   "source": []
  }
 ],
 "metadata": {
  "kernelspec": {
   "display_name": "Python 3 (ipykernel)",
   "language": "python",
   "name": "python3"
  },
  "language_info": {
   "codemirror_mode": {
    "name": "ipython",
    "version": 3
   },
   "file_extension": ".py",
   "mimetype": "text/x-python",
   "name": "python",
   "nbconvert_exporter": "python",
   "pygments_lexer": "ipython3",
   "version": "3.10.12"
  }
 },
 "nbformat": 4,
 "nbformat_minor": 5
}
