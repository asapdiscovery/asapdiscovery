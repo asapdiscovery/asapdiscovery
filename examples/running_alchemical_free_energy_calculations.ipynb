{
 "cells": [
  {
   "cell_type": "markdown",
   "id": "8e7ea252-0a88-4c14-9197-8ad15eb14751",
   "metadata": {},
   "source": [
    "# Running alchemical free energy calculations"
   ]
  },
  {
   "cell_type": "code",
   "execution_count": null,
   "id": "b5187217-4aed-4437-af13-44a0263dae82",
   "metadata": {},
   "outputs": [],
   "source": []
  },
  {
   "cell_type": "code",
   "execution_count": null,
   "id": "c112525b-b097-49aa-8710-47906cf8659a",
   "metadata": {},
   "outputs": [],
   "source": []
  }
 ],
 "metadata": {
  "kernelspec": {
   "display_name": "Python 3 (ipykernel)",
   "language": "python",
   "name": "python3"
  },
  "language_info": {
   "codemirror_mode": {
    "name": "ipython",
    "version": 3
   },
   "file_extension": ".py",
   "mimetype": "text/x-python",
   "name": "python",
   "nbconvert_exporter": "python",
   "pygments_lexer": "ipython3",
   "version": "3.10.13"
  }
 },
 "nbformat": 4,
 "nbformat_minor": 5
}
