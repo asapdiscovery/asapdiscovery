{
 "cells": [
  {
   "cell_type": "markdown",
   "id": "8e7ea252-0a88-4c14-9197-8ad15eb14751",
   "metadata": {},
   "source": [
    "# Running alchemical free energy calculations\n",
    "\n",
    "`ASAP-Alchemy` provides a set of automated workflows which when combined create and end-to-end pipeline enabling the routine running of state-of-the-art alchemical free energy calculations at (Alchemi)scale! In this tutorial we cover configuring and executing each of the workflows via the python API, but note `ASAP-Alchemy` also provides a CLI which can be used to execute any of the workflows and accepts custom configuration files providing the same amount of flexibility as the API but with easier execution! We also have tried and tested defaults in all of our workflows which are used in production so feel free to skip configuring each workflow unless you really need the extra flexibility.\n",
    "\n",
    "## General design\n",
    "Each of the workflows in `ASAP-Alchemy` are designed following the same factory pattern which allows them to have a similar API which should make them all feel familiar. Each workflow then begins as a resuable configuration object which defines the runtime options of that pipeline which can then be applied to sets of molecules.\n",
    "\n",
    "# ASAP-Alchemy Prep\n",
    "The first stage in the workflow is called `prep` and has two main jobs:\n",
    "\n",
    "- **State Enumeration**: Enumerate the tautomers, protomers and stereoisomers of the input ligands\n",
    "\n",
    "- **Constrained Pose Generation**: Generate initial poses for the lignads while constraining the ligand to match the crystal structure reference conformation.\n",
    "\n",
    "We will now walk through the process building a standard `AlchemyPrepWorkflow` and assigning the required component parts:"
   ]
  },
  {
   "cell_type": "code",
   "execution_count": null,
   "id": "b5187217-4aed-4437-af13-44a0263dae82",
   "metadata": {},
   "outputs": [],
   "source": [
    "from asapdiscovery.alchemy.schema.prep_workflow import AlchemyPrepWorkflow\n",
    "from asapdiscovery.data.operators.state_expanders.protomer_expander import EpikExpander\n",
    "from asapdiscovery.data.operators.state_expanders.stereo_expander import StereoExpander\n",
    "from asapdiscovery.docking.schema.pose_generation import (\n",
    "    OpenEyeConstrainedPoseGenerator,\n",
    "    RDKitConstrainedPoseGenerator,\n",
    ")\n",
    "\n",
    "prep_workflow = AlchemyPrepWorkflow()"
   ]
  },
  {
   "cell_type": "markdown",
   "id": "c112525b-b097-49aa-8710-47906cf8659a",
   "metadata": {},
   "source": [
    "## Stereo expansion\n",
    "\n",
    "Molecules with unknown stereo centers should be fully expanded before generating an initial pose to ensure we know the exact identity of the molecule we are making the prediction for, this also allows us to predict free energy differeces between steroisomers which might offer more insight to your medicinal chemistry team. \n",
    "\n",
    "So lets add our `openeye` stereo expander module to the workflow and set it to only expand any undefined stereo centers in the input molecules:"
   ]
  },
  {
   "cell_type": "code",
   "execution_count": null,
   "id": "8bbb34bf",
   "metadata": {},
   "outputs": [],
   "source": [
    "stereo_expander = StereoExpander(stereo_expand_defined=False)\n",
    "prep_workflow.stereo_expander = stereo_expander"
   ]
  },
  {
   "cell_type": "markdown",
   "id": "95460c85",
   "metadata": {},
   "source": [
    "## Charge and Tautomeric expansion\n",
    "\n",
    "Druglike molecules often have multipule accessible protonation and tautomeric states at experimental pH which can contribute to binding and considering only a single state in alchemical free energy calculations can introduce significiant error. One option is to use tools like OpenEye to try and predict the most reasonable form of a molecule at the experimental pH in question, another is to enumerate all possible forms and and use a state pentalty correction scheme based on the predicted pKa of each state. You can read more about this at <https://pubs.acs.org/doi/10.1021/acs.jctc.8b00826>.\n",
    "\n",
    "`ASAP-Alchemy` prodvies both of these enumeration options (`EpikExpander`, `ProtomerExpander`, `TautomerExpander`) however they are under active development and so by default we skip this stage by setting it to `None`:"
   ]
  },
  {
   "cell_type": "code",
   "execution_count": null,
   "id": "15497ee8",
   "metadata": {},
   "outputs": [],
   "source": [
    "prep_workflow.charge_expander = None"
   ]
  },
  {
   "cell_type": "markdown",
   "id": "412b2a14",
   "metadata": {},
   "source": [
    "## Pose Generator\n",
    "\n",
    "We now need to select a backend which will be used to generate the initial poses for our molecules. We have two options available `OpenEyeConstrainedPoseGenerator` and the `RDKitConstrainedPoseGenerator`. Both implimentations use the same general workflow to generate the poses, that is: find the MCS overlap between the target ligand and some reference ligand (normally extracted from a crystal reference structure) and constrain the overlaping atoms of the target ligand to match the reference; then, for any atoms not constrained, enumerate the rotamers of any rotable bonds using the backend toolkit and filter down to a single favorable conformer for each target ligand in the series. \n",
    "\n",
    "By default we use the `RDKitConstrainedPoseGenerator` as follows:"
   ]
  },
  {
   "cell_type": "code",
   "execution_count": null,
   "id": "45e97fc9",
   "metadata": {},
   "outputs": [],
   "source": [
    "pose_generator = RDKitConstrainedPoseGenerator(\n",
    "    max_confs = 300,  # The maximum number of conformers to try and generate\n",
    "    rms_thresh = 0.2, # The RMSD between the heavy atoms which should be used to filter duplicated conformers\n",
    "    mcs_timeout = 1, # The maximum time in seconds to the MCS search for \n",
    "    clash_cutoff = 2.0,  # The distance cutoff for which we check for clashes between poses and the receptor in Angstroms\n",
    "    selector = 'Chemgauss3',  # The method which should be used to select the best conformer, an openeye docking score in this case\n",
    "    backup_score = 'Sage', # If the main scoring function fails the intramolecular energies calculated with this force field will be used to select the best conformer\n",
    ")\n",
    "prep_workflow.pose_generator = pose_generator"
   ]
  },
  {
   "cell_type": "markdown",
   "id": "4add574a",
   "metadata": {},
   "source": [
    "## Core Smarts \n",
    "\n",
    "In some cases you may want to define the core yourself, or you may not want to constrain the full MCS between a target molecule and the reference ligand, in these cases you can provide a core SMARTS pattern which will be used to define the MCS. While [SMARTS](https://www.daylight.com/dayhtml/doc/theory/theory.smarts.html) patterns can be created by hand we recomend using ChemDraw or <https://smarts.plus/>. By default we let the pose generator find the MCS which can be done by setting the `core_smarts` field to `None`."
   ]
  },
  {
   "cell_type": "code",
   "execution_count": null,
   "id": "c7f0c095",
   "metadata": {},
   "outputs": [],
   "source": [
    "prep_workflow.core_smarts = None"
   ]
  },
  {
   "cell_type": "markdown",
   "id": "66f3aa59",
   "metadata": {},
   "source": [
    "## Stereochemistry filtering\n",
    "\n",
    "During the pose generation process some molecules may end up with inconsistent stereochemistry, that is the stereochemistry we intended does not match the 3D geometry of the molecule. This often happens when our reference ligand contains a stereocenter and the target ligand we are trying to pose has opposing stereochemsitry, in these cases a sensible pose can not be generated and often requires manual modeling of the reference to allow opposing stereocenters to be generated. To ensure all molecules have the correct stereo chemistry we set the `strict_stereo` flag to `True`:"
   ]
  },
  {
   "cell_type": "code",
   "execution_count": null,
   "id": "982e8d8d",
   "metadata": {},
   "outputs": [],
   "source": [
    "prep_workflow.strict_stereo = True"
   ]
  },
  {
   "cell_type": "markdown",
   "id": "35d0b8c2",
   "metadata": {},
   "source": [
    "## Experimental references\n",
    "\n",
    "In prospective predictions it is desirable to not only predict a ranking of the molecules in the series but to predict the absolute binding affinity so that the results might be compared accross alchemical networks and against other ligands with experimental data which are not included in the network. \n",
    "\n",
    "In practice this is done by including experimental reference compounds in the alchemical network and then shifting the final predictions by the mean of the experimantal absolute binding afinities. `ASAP-Alchemy` allows users to provide a list of ligands with experimental data as references which we then try to generate poses for. From this list, `ASAP-Alchemy` will extract `n` suitable ligands to include in your network. \n",
    "\n",
    "The number of references to include from that list can be controlled via the `n_references` field which by default is set to 3:"
   ]
  },
  {
   "cell_type": "code",
   "execution_count": null,
   "id": "e6edcf3e",
   "metadata": {},
   "outputs": [],
   "source": [
    "prep_workflow.n_references = 3"
   ]
  },
  {
   "cell_type": "markdown",
   "id": "43d28ad9",
   "metadata": {},
   "source": [
    "This completes the construction of the default `AlchemyPrepWorkflow`, and we can now view the settings of the workflow"
   ]
  },
  {
   "cell_type": "code",
   "execution_count": null,
   "id": "a260377f",
   "metadata": {},
   "outputs": [],
   "source": [
    "prep_workflow"
   ]
  },
  {
   "cell_type": "markdown",
   "id": "3ab444d3",
   "metadata": {},
   "source": [
    "## Saving and Loading\n",
    "\n",
    "At this point, configured workflows can be saved and loaded to `JSON` meaning that a workflow can be reused multipule times throughout a project to ensure that a consistent pipeline is applied to an entire series of alchemical free energy calculations in a given project."
   ]
  },
  {
   "cell_type": "code",
   "execution_count": null,
   "id": "b5c83ac1",
   "metadata": {},
   "outputs": [],
   "source": [
    "prep_workflow.to_file(filename=\"My-prep-workflow.json\")\n",
    "prep_workflow_2 = AlchemyPrepWorkflow.from_file(\"My-prep-workflow.json\")"
   ]
  },
  {
   "cell_type": "markdown",
   "id": "832e493f",
   "metadata": {},
   "source": [
    "## Running Alchemy prep\n",
    "\n",
    "We are now ready to run our configured prep workflow and create an alchemy dataset which can be used in the next sections of the guide. Lets inspect the function to create the dataset and generate the missing parts:"
   ]
  },
  {
   "cell_type": "code",
   "execution_count": null,
   "id": "074322e5",
   "metadata": {},
   "outputs": [],
   "source": [
    "prep_workflow.create_alchemy_dataset?"
   ]
  },
  {
   "cell_type": "markdown",
   "id": "224929dd",
   "metadata": {},
   "source": [
    "First grab a reference complex, in this example we will use a real ASAP-enabled target ([SARS-CoV-2 NSP3 macrodomain](https://asapdiscovery.org/outputs/molecules/#ASAP-SARS-COV-2-NSP3-MAC1)) and download a prepared complex from the asapdiscovery test suite which includes a prepared receptor and ligand."
   ]
  },
  {
   "cell_type": "code",
   "execution_count": null,
   "id": "52ca71dc",
   "metadata": {},
   "outputs": [],
   "source": [
    "from asapdiscovery.data.testing.test_resources import fetch_test_file\n",
    "from asapdiscovery.data.schema.complex import PreppedComplex\n",
    "\n",
    "mac1_complex = PreppedComplex.parse_file(fetch_test_file(\"constrained_conformer/complex.json\"))\n",
    "mac1_complex\n"
   ]
  },
  {
   "cell_type": "markdown",
   "id": "d8cd9368",
   "metadata": {},
   "source": [
    "We now need a list of target molecules for which we want to estimate the binding afinity via relative free energy calculations, in this case we'll define some very simple molecules as an example:"
   ]
  },
  {
   "cell_type": "code",
   "execution_count": null,
   "id": "0521d1d8",
   "metadata": {},
   "outputs": [],
   "source": [
    "from asapdiscovery.data.schema.ligand import Ligand\n",
    "from rdkit.Chem import Draw\n",
    "\n",
    "molecules_smiles = [\n",
    "    \"CC(C)[C@H](Nc1ncnc2[nH]c(Cl)cc12)c4ccc3CCCS(=O)(=O)c3c4\",\n",
    "    \"CC(C)[C@H](Nc1ncnc2[nH]c(F)cc12)c4ccc3CCCS(=O)(=O)c3c4\",\n",
    "    \"CC(C)[C@H](Nc1ncnc2[nH]c(O)cc12)c4ccc3CCCS(=O)(=O)c3c4\"\n",
    "]\n",
    "target_ligands = [\n",
    "    Ligand.from_smiles(smiles=smiles, compound_name=f\"ASAP-MAC1-{i}\")\n",
    "    for i, smiles in enumerate(molecules_smiles)\n",
    "]\n",
    "Draw.MolsToGridImage(mols=[mol.to_rdkit() for mol in target_ligands], legends=[mol.compound_name for mol in target_ligands])"
   ]
  },
  {
   "cell_type": "markdown",
   "id": "6278417f",
   "metadata": {},
   "source": [
    "Finally we can optionally pass in a set of reference ligands which can be added to the dataset to ensure the absolute predictions of the binding affinities are comparable with other experimental results. These ligands can be provided from any source so long as they are marked as experimental, we also provide tools to extract reference ligands from a [CDD vault](https://www.collaborativedrug.com/). Here we will make some example reference ligands:"
   ]
  },
  {
   "cell_type": "code",
   "execution_count": null,
   "id": "adc4a85c",
   "metadata": {},
   "outputs": [],
   "source": [
    "reference_smiles = [\n",
    "    \"Cc4cc3c(N[C@H](c2ccc1CCCS(=O)(=O)c1c2)C(C)C)ncnc3[nH]4\",\n",
    "    \"C[C@H](Nc1ncnc2[nH]ccc12)c4ccc3CCCS(=O)(=O)c3c4\",\n",
    "    \"CC(C)[C@H](Nc1ncnc2[nH]c(N)cc12)c4ccc3CCCS(=O)(=O)c3c4\"\n",
    "]\n",
    "reference_ligands = [\n",
    "    Ligand.from_smiles(smiles=smiles, compound_name=f\"ASAP-EXP-MAC1-{i}\", experimental=True)\n",
    "    for i, smiles in enumerate(reference_smiles)\n",
    "]\n",
    "Draw.MolsToGridImage(mols=[mol.to_rdkit() for mol in reference_ligands], legends=[mol.compound_name for mol in reference_ligands])"
   ]
  },
  {
   "cell_type": "markdown",
   "id": "48f729bc",
   "metadata": {},
   "source": [
    "We can now run the workflow and generate poses for the molecules, for this example we will reduce the number of conformers which should be generated as the modifications to the ligands are rigid and the conformer generation step is slow. In production it is recommended to use around 300 with RDKit."
   ]
  },
  {
   "cell_type": "code",
   "execution_count": null,
   "id": "f6a05db4",
   "metadata": {},
   "outputs": [],
   "source": [
    "# reduce the number of conformers just for this example\n",
    "prep_workflow.pose_generator.max_confs = 10\n",
    "alchemy_dataset = prep_workflow.create_alchemy_dataset(\n",
    "    dataset_name=\"my-first-asap-dataset\",\n",
    "    ligands=target_ligands,\n",
    "    reference_complex=mac1_complex,\n",
    "    reference_ligands=reference_ligands,\n",
    ")"
   ]
  },
  {
   "cell_type": "markdown",
   "id": "fcb4942a",
   "metadata": {},
   "source": [
    "We now have an alchemy dataset object which contains information about the workflow we have just ran including the inputs and any errors that might cause poses to not be generated for some ligands. We can also inspect provenance information about the stages run including the versions of software. For example, let's look at the pose generator and the software versions used:"
   ]
  },
  {
   "cell_type": "code",
   "execution_count": null,
   "id": "9176ecd3",
   "metadata": {},
   "outputs": [],
   "source": [
    "alchemy_dataset.pose_generator"
   ]
  },
  {
   "cell_type": "code",
   "execution_count": null,
   "id": "5283db0b",
   "metadata": {},
   "outputs": [],
   "source": [
    "alchemy_dataset.provenance[\"RDKitConstrainedPoseGenerator\"]"
   ]
  },
  {
   "cell_type": "markdown",
   "id": "b77c09fc",
   "metadata": {},
   "source": [
    "We can also inspect the posed ligands and write them to file to view them:"
   ]
  },
  {
   "cell_type": "code",
   "execution_count": null,
   "id": "597dc6db",
   "metadata": {},
   "outputs": [],
   "source": [
    "alchemy_dataset.save_posed_ligands(filename='posed_ligands.sdf')\n",
    "alchemy_dataset.posed_ligands[0]"
   ]
  },
  {
   "cell_type": "markdown",
   "id": "4d646afb",
   "metadata": {},
   "source": [
    "We might want to view the ligands in the receptor and overlay the reference structure, so now we will write the reference receptor to a local PDB file and the ligand to an SDF file. You can then use your any molecule viewer (like PyMOL) or use the example below which uses `py3dmol`:"
   ]
  },
  {
   "cell_type": "code",
   "execution_count": null,
   "id": "92bfb320",
   "metadata": {},
   "outputs": [],
   "source": [
    "import py3Dmol\n",
    "alchemy_dataset.reference_complex.target.to_pdb_file('mac1-receptor.pdb')\n",
    "alchemy_dataset.reference_complex.ligand.to_sdf('mac1-ref-ligand.sdf')\n",
    "view = py3Dmol.view(width=400, height=300)\n",
    "view.addModel(open('mac1-receptor.pdb').read(), 'pdb')\n",
    "view.setStyle({'chain':['A', 'B']}, {'cartoon': {'color': 'spectrum'}})\n",
    "view.addModel(alchemy_dataset.reference_complex.ligand.to_sdf_str())\n",
    "for mol in alchemy_dataset.posed_ligands:\n",
    "    view.addModel(mol.to_sdf_str())\n",
    "view.setStyle({'model': [i + 1 for i in range(len(alchemy_dataset.posed_ligands))]}, {\"stick\":{}})\n",
    "view.zoomTo({'model':1})\n",
    "view.show()"
   ]
  },
  {
   "cell_type": "markdown",
   "id": "53b380a3",
   "metadata": {},
   "source": [
    "This dataset object can then be saved to file and acts as a form of provenance for the `prep` workflow and should contain all of the information required to reproduce the dataset should someone want to repeate your work, i.e. all settings, versioning, ligand and protein structures, et cetera."
   ]
  },
  {
   "cell_type": "code",
   "execution_count": null,
   "id": "9ecb5db5",
   "metadata": {},
   "outputs": [],
   "source": [
    "alchemy_dataset.to_file(\"my-alchemy-dataset.json\")"
   ]
  },
  {
   "cell_type": "markdown",
   "id": "3cb5faeb",
   "metadata": {},
   "source": [
    "# ASAP-Alchemy Plan\n",
    "\n",
    "We are now ready to plan an alchemical free energy network using a state-of-the-art workflow based on [OpenFE](https://docs.openfree.energy/en/stable/) infastructure. The free energy calculations can also be configured for local or distributed execution using [Alchemiscale](https://github.com/openforcefield/alchemiscale). Following the format in the `prep` pipeline we start with an `FreeEnergyCalculationFactory` which we will configure component by component before appling it to our `alchemy_dataset` preppared above. \n",
    "\n",
    "This workflow handles the following stages:\n",
    "- **Network Planning**: Choosing the optimal transformations between ligands based on some atom mapping and scoring metrics\n",
    "\n",
    "- **Protocol Settings**: Defining the run time settings of the resulting network ready for execution using OpenFE"
   ]
  },
  {
   "cell_type": "code",
   "execution_count": null,
   "id": "144ae922",
   "metadata": {},
   "outputs": [],
   "source": [
    "from asapdiscovery.alchemy.schema.fec import FreeEnergyCalculationFactory\n",
    "from asapdiscovery.alchemy.schema.network import (\n",
    "    NetworkPlanner, \n",
    "    KartografAtomMapper, \n",
    "    LomapAtomMapper, \n",
    "    PersesAtomMapper, \n",
    "    RadialPlanner,\n",
    "    MaximalPlanner, \n",
    "    MinimalRedundantPlanner, \n",
    "    MinimalSpanningPlanner\n",
    ")\n",
    "alchemy_factory = FreeEnergyCalculationFactory()"
   ]
  },
  {
   "cell_type": "markdown",
   "id": "e10a8bde",
   "metadata": {},
   "source": [
    "## Network Planner\n",
    "\n",
    "The first component of the `FreeEnergyCalculationFactory` is the the `NetworkPlanner` module which configures how the optimal transformations should be selected using OpenFE tooling and can be constructed via:"
   ]
  },
  {
   "cell_type": "code",
   "execution_count": null,
   "id": "b1a5e89b",
   "metadata": {},
   "outputs": [],
   "source": [
    "network_planner = NetworkPlanner()"
   ]
  },
  {
   "cell_type": "markdown",
   "id": "cc6093ff",
   "metadata": {},
   "source": [
    "### Atom Mapping Engine\n",
    "\n",
    "Our free energy calculations by default use a hybrid topology approach and so an atom mapping which identifies the atoms of ligand A which should be alchemicaly transformed to atoms of ligand B is needed. Atoms that are not mapped should be consistend between ligands A/B. We currently support all of the available OpenFE atom mappers (LomapAtomMapper, PersesAtomMapper & KartografAtomMapper) but use Lomap by default which can be constructed as follows:"
   ]
  },
  {
   "cell_type": "code",
   "execution_count": null,
   "id": "0c418059",
   "metadata": {},
   "outputs": [],
   "source": [
    "atom_mapper = LomapAtomMapper(\n",
    "    timeout = 20, # The timeout in seconds of the MCS algorithm in rdkit\n",
    "    threed = True, # If spatial information should be used to choose between symmetrically equivalent mappings \n",
    "    max3d = 1000, # Maximum discrepancy in Angstroms between atoms before the mapping is not allowed\n",
    "    element_change = True, # Whether to allow element changes in the mappings\n",
    "    seed = '', # An optional seed SMARTS string to speed up the MCS, if left blank this is automatically generated\n",
    "    shift = True, # When determining 3D overlap translate the molecules to minimse the RMSD during alignment\n",
    ")\n",
    "network_planner.atom_mapping_engine = atom_mapper"
   ]
  },
  {
   "cell_type": "markdown",
   "id": "71d2ade3",
   "metadata": {},
   "source": [
    "### Transformation Scorer\n",
    "\n",
    "Given the proposed atom mapping (which is generated between every possible combination of ligands in the target set) we need to choose the best edges to run during this campaign. To this end, OpenFE provides scoring metrics which rank the proposed atom mappings; our default is to use the lomap scorer:"
   ]
  },
  {
   "cell_type": "code",
   "execution_count": null,
   "id": "1e6b1530",
   "metadata": {},
   "outputs": [],
   "source": [
    "network_planner.scorer = \"default_lomap\""
   ]
  },
  {
   "cell_type": "markdown",
   "id": "876321a4",
   "metadata": {},
   "source": [
    "### Network Planning\n",
    "\n",
    "Once we have all of the possible edges scored we then need to pick a strategy to build the network which will determine how many connections it has. The optimal network should provide a balance between speed (not too many edges), accuracy and redundancy. OpenFE provides many basic planning methods (`RadialPlanner`, `MaximalPlanner`, `MinimalSpanningPlanner`, `MinimalRedundantPlanner`) with more under active development. For now, our default is to use the `MinimalRedundantPlanner` which builds a minimal spanning tree ensuring all ligands are connected to the network but also adds `n` extra redundant edge(s) per node which ensures each node is in at least one cycle if `n`=1. `n` can be controlled by the user:"
   ]
  },
  {
   "cell_type": "code",
   "execution_count": null,
   "id": "79078af1",
   "metadata": {},
   "outputs": [],
   "source": [
    "planning_method = MinimalRedundantPlanner(\n",
    "    redundancy = 2\n",
    ")\n",
    "network_planner.network_planning_method = planning_method\n",
    "network_planner"
   ]
  },
  {
   "cell_type": "markdown",
   "id": "4fbd8b05",
   "metadata": {},
   "source": [
    "The planner can then be saved to file like all `ASAP-Alchemy` workflows and reused throughout a discovery project or combined into our `FreeEnergyCalculationFactory`:"
   ]
  },
  {
   "cell_type": "code",
   "execution_count": null,
   "id": "98805705",
   "metadata": {},
   "outputs": [],
   "source": [
    "network_planner.to_file(filename='my-network-planner.json')\n",
    "alchemy_factory.network_planner = network_planner"
   ]
  },
  {
   "cell_type": "markdown",
   "id": "1ce91abb",
   "metadata": {},
   "source": [
    "## Alchemy Protocol\n",
    "\n",
    "We can now define the extensive set of runtime settings which will be used in the alchemical free energy calculations starting with the OpenFE protocol, so far only one is supported which is the `RelativeHybridTopologyProtocol` and all of the settings are directly related to this protocol. We plan on adding support for other types of calculations in the future so check back soon!"
   ]
  },
  {
   "cell_type": "code",
   "execution_count": null,
   "id": "f4b1e8e3",
   "metadata": {},
   "outputs": [],
   "source": [
    "alchemy_factory.protocol = 'RelativeHybridTopologyProtocol'"
   ]
  },
  {
   "cell_type": "markdown",
   "id": "d0852897",
   "metadata": {},
   "source": [
    "### Solvent Settings\n",
    "\n",
    "To accurately represent the experimental conditions our simulations will be performed in explicit solvent, and we begin by defining the settings of the solvent:"
   ]
  },
  {
   "cell_type": "code",
   "execution_count": null,
   "id": "673b0448",
   "metadata": {},
   "outputs": [],
   "source": [
    "from asapdiscovery.alchemy.schema.fec import SolventSettings\n",
    "from openff.units import unit\n",
    "solvent = SolventSettings(\n",
    "    smiles = \"O\", # The smiles pattern of the solvent\n",
    "    positive_ion = \"Na+\", # The positive monoatomic ion which should be used to neutralize the system\n",
    "    negative_ion = \"Cl-\", # The negative monoatomic ion which should be used to neutralize the system\n",
    "    neutralize = True, # If we should add ions to neutralize the total charge of the system\n",
    "    ion_concentration = 0.15 * unit.molar, # The ionic concentration required in molar units\n",
    ")\n",
    "alchemy_factory.solvent_settings = solvent"
   ]
  },
  {
   "cell_type": "markdown",
   "id": "2b87f5ea",
   "metadata": {},
   "source": [
    "### Force Field Settings\n",
    "\n",
    "The protocol also gives us control over the force fields used to parameterize all of the components of the system including the small molecule force field which allows for bespoke parameters (which we will be covering in a different tutorial). For now, we use the standard default settings but ensure that we always use the most recent OpenFF force field which at the time of writing is openff-2.1.0:"
   ]
  },
  {
   "cell_type": "code",
   "execution_count": null,
   "id": "7555fe78",
   "metadata": {},
   "outputs": [],
   "source": [
    "from gufe import settings\n",
    "ff_settings = settings.OpenMMSystemGeneratorFFSettings(\n",
    "    small_molecule_forcefield=\"openff-2.1.0\"\n",
    ")\n",
    "alchemy_factory.forcefield_settings = ff_settings"
   ]
  },
  {
   "cell_type": "markdown",
   "id": "9c5a2217",
   "metadata": {},
   "source": [
    "### Thermodynamic Settings \n",
    "\n",
    "We can explicitly set the temperature and pressure of the simulation to ensure we match the experimental conditions:"
   ]
  },
  {
   "cell_type": "code",
   "execution_count": null,
   "id": "2d13bbbd",
   "metadata": {},
   "outputs": [],
   "source": [
    "thermo_settings = settings.ThermoSettings(\n",
    "    temperature = 298.15 * unit.kelvin,\n",
    "    pressure = 1 * unit.bar\n",
    ")\n",
    "alchemy_factory.thermo_settings = thermo_settings"
   ]
  },
  {
   "cell_type": "markdown",
   "id": "71c63b7e",
   "metadata": {},
   "source": [
    "<div class=\"alert alert-block alert-warning\">\n",
    "<b>Warning:</b> The next few sections offer advanced control over the simulation settings specific to OpenMM and are normally best left to their defaults!\n",
    "</div>"
   ]
  },
  {
   "cell_type": "markdown",
   "id": "bd819758",
   "metadata": {},
   "source": [
    "### OpenMM System Settings\n",
    "\n",
    "This allows to change the non-bonded settings in our simulation such as the method used to calculate the long-range charge interactions and the cutoff for short range non-bonded interactions.\n",
    "\n"
   ]
  },
  {
   "cell_type": "code",
   "execution_count": null,
   "id": "c2a179f8",
   "metadata": {},
   "outputs": [],
   "source": [
    "from openfe.protocols.openmm_rfe.equil_rfe_settings import (\n",
    "    AlchemicalSamplerSettings,\n",
    "    AlchemicalSettings,\n",
    "    IntegratorSettings,\n",
    "    OpenMMEngineSettings,\n",
    "    SimulationSettings,\n",
    "    SolvationSettings,\n",
    "    SystemSettings,\n",
    ")\n",
    "alchemy_factory.system_settings = SystemSettings()"
   ]
  },
  {
   "cell_type": "markdown",
   "id": "44f87f1c",
   "metadata": {},
   "source": [
    "### Solvation Settings\n",
    "\n",
    "Not to be confused with solvent settings, the solvation settings control how the solvent will be added to the system, i.e. the water model used (3, 4 or 5 point water) and how much solvent should be added to ensure a minimum distance between the solutes and edge of the surrounding solvent."
   ]
  },
  {
   "cell_type": "code",
   "execution_count": null,
   "id": "a8f36fef",
   "metadata": {},
   "outputs": [],
   "source": [
    "alchemy_factory.solvation_settings = SolvationSettings()"
   ]
  },
  {
   "cell_type": "markdown",
   "id": "37dad363",
   "metadata": {},
   "source": [
    "### Alchemical Settings\n",
    "\n",
    "This controls the used lambda schedule and the creation of the hybrid system:"
   ]
  },
  {
   "cell_type": "code",
   "execution_count": null,
   "id": "d3ea1765",
   "metadata": {},
   "outputs": [],
   "source": [
    "alchemy_factory.alchemical_settings = AlchemicalSettings()"
   ]
  },
  {
   "cell_type": "markdown",
   "id": "fc29ba42",
   "metadata": {},
   "source": [
    "### Alchemical Sampler Settings\n",
    "\n",
    "This defines the equilibrium sampler (ReplicaExchangeSampler, SAMSSampler or MultistateSampler) to use and its run time settings, currently we use `repex` (ReplicaExchangeSampler) by default. The only change we make here is to set the number of repeats to one. This means that each edge is only executed once in a single job and we instead do repeats by doing the calculation multiple times in parallel accross different GPUs via alchemiscale, see the `n_repeats` field on the `FreeEnergyCalculationFactory` class."
   ]
  },
  {
   "cell_type": "code",
   "execution_count": null,
   "id": "162ca241",
   "metadata": {},
   "outputs": [],
   "source": [
    "alchemy_factory.alchemical_sampler_settings = AlchemicalSamplerSettings(\n",
    "    n_repeats = 1\n",
    ")"
   ]
  },
  {
   "cell_type": "markdown",
   "id": "ceb124bc",
   "metadata": {},
   "source": [
    "### Engine Settings\n",
    "\n",
    "OpenMM specific settings are defined here like the compute platform to use (CPU/GPU), by default we leave this as `None` which allows OpenMM to select the fastest available for us on the hardware that the simulations are run on:"
   ]
  },
  {
   "cell_type": "code",
   "execution_count": null,
   "id": "89b7aea8",
   "metadata": {},
   "outputs": [],
   "source": [
    "alchemy_factory.engine_settings = OpenMMEngineSettings()"
   ]
  },
  {
   "cell_type": "markdown",
   "id": "74725fd5",
   "metadata": {},
   "source": [
    "### Integrator Settings\n",
    "\n",
    "We can also configure the settings used to build the `LangevinSplittingDynamicsMove` integrator in OpenMM such as the timestep or collison rate:"
   ]
  },
  {
   "cell_type": "code",
   "execution_count": null,
   "id": "9969b380",
   "metadata": {},
   "outputs": [],
   "source": [
    "alchemy_factory.integrator_settings = IntegratorSettings()"
   ]
  },
  {
   "cell_type": "markdown",
   "id": "1a444fb0",
   "metadata": {},
   "source": [
    "### Simulation Settings\n",
    "\n",
    "General settings about the simulation length are defined here:"
   ]
  },
  {
   "cell_type": "code",
   "execution_count": null,
   "id": "1810b93b",
   "metadata": {},
   "outputs": [],
   "source": [
    "simulation_settings = SimulationSettings(\n",
    "    equilibration_length=1.0 * unit.nanoseconds,\n",
    "    production_length=5.0 * unit.nanoseconds,\n",
    ")\n",
    "alchemy_factory.simulation_settings = simulation_settings"
   ]
  },
  {
   "cell_type": "markdown",
   "id": "2ef15bc7",
   "metadata": {},
   "source": [
    "### Repeats\n",
    "\n",
    "To ensure our estimation of the relative free energy is accurate we repeat each calculation and take the average prediction. We also use the standard deviation across repeats as an estimate of error. In the future this might also allow us to detect possible bad edges due to repeates differing significantly and remove these unreliable edges, although this functionality has not yet been built into `ASAP-Alchemy`. By default we do two repeats of each edge meaning it is run for a total of two times as different jobs on alchemiscale to increase throughput:"
   ]
  },
  {
   "cell_type": "code",
   "execution_count": null,
   "id": "5b84a0af",
   "metadata": {},
   "outputs": [],
   "source": [
    "alchemy_factory.n_repeats = 2  "
   ]
  },
  {
   "cell_type": "markdown",
   "id": "0a791a21",
   "metadata": {},
   "source": [
    "This then completes our `FreeEnergyCalculationFactory` which can now be saved to file and reused over the course of a campaign:"
   ]
  },
  {
   "cell_type": "code",
   "execution_count": null,
   "id": "9f23f93b",
   "metadata": {},
   "outputs": [],
   "source": [
    "alchemy_factory.to_file(\"my-alchemy-factory.json\")\n",
    "alchemy_factory"
   ]
  },
  {
   "cell_type": "markdown",
   "id": "5f29c4c8",
   "metadata": {},
   "source": [
    "## The FreeEnergyCalculationNetwork\n",
    "\n",
    "We are now ready to create a `FreeEnergyCalculationNetwork` by applying our `alchemy_factory` to our `alchemy_dataset`. First, let's inspect the function and workout how to feed in our dataset:"
   ]
  },
  {
   "cell_type": "code",
   "execution_count": null,
   "id": "4323de9c",
   "metadata": {},
   "outputs": [],
   "source": [
    "alchemy_factory.create_fec_dataset?"
   ]
  },
  {
   "cell_type": "markdown",
   "id": "0e87bf81",
   "metadata": {},
   "source": [
    "The function requires us to create a `gufe` `ProteinComponent` for the receptor and also has some optional fields which have not been covered yet. \n",
    "\n",
    "#### Optional Fields\n",
    "\n",
    "- `central_ligand`: Only needed if we are using a `RadialPlanner` as our network planner method in which case you should provide the ligand and ensure its not passed in the ligands list as well. \n",
    "\n",
    "- `experimental_protocol`: Used to associate a CDD vault experimental protocol with the dataset which allows automated retrieval of experimental data (potencies) but in general is a useful source of provenance to know what experimental data the network should be compared against.\n",
    "\n",
    "- `target`: The biological target for which the alchemical free energy network is being run for. Again, a useful source of provenance."
   ]
  },
  {
   "cell_type": "code",
   "execution_count": null,
   "id": "6e502932",
   "metadata": {},
   "outputs": [],
   "source": [
    "from gufe.components.proteincomponent import ProteinComponent\n",
    "\n",
    "gufe_receptor = ProteinComponent.from_pdb_file('mac1-receptor.pdb')\n",
    "fec_network = alchemy_factory.create_fec_dataset(\n",
    "    dataset_name = alchemy_dataset.dataset_name,\n",
    "    receptor = gufe_receptor,\n",
    "    ligands = alchemy_dataset.posed_ligands,\n",
    "    experimental_protocol = 'MAC1-protocol',\n",
    "    target = \"SARS-CoV-2-MAC1\"\n",
    ")"
   ]
  },
  {
   "cell_type": "markdown",
   "id": "a4215c16",
   "metadata": {},
   "source": [
    "We now have a `FreeEnergyCalculationNetwork` which contains our planned network and all of the runtime settings needed to compute the edges using OpenFE. First lets inspect the network we just generated, you can see that during the `prep` workflow the settings and software versions used are saved to ensure the workflow is reproducible:"
   ]
  },
  {
   "cell_type": "code",
   "execution_count": null,
   "id": "1d27b544",
   "metadata": {},
   "outputs": [],
   "source": [
    "fec_network.network.dict(include={\"atom_mapping_engine\", \"scorer\", \"network_planning_method\", \"provenance\"})"
   ]
  },
  {
   "cell_type": "markdown",
   "id": "af3a2fab",
   "metadata": {},
   "source": [
    "We can also view the planned network using some OpenFE tools, as we can see each of the ligands has at least two connections in the graph corresponding to the level of redundancy we requested in the network planning method:"
   ]
  },
  {
   "cell_type": "code",
   "execution_count": null,
   "id": "f7ae189e",
   "metadata": {},
   "outputs": [],
   "source": [
    "from openfe.utils.atommapping_network_plotting import plot_atommapping_network\n",
    "%matplotlib inline\n",
    "plot_atommapping_network(fec_network.network.to_ligand_network())"
   ]
  },
  {
   "cell_type": "markdown",
   "id": "20dbc025-c6e4-49a5-a38b-419b1b2b30ed",
   "metadata": {},
   "source": [
    "With the `OpenFE` CLI you can also view the `graphml` file for this network by running `openfe view-ligand-network <file>` which should pop up an interactive GUI view of the network for you to inspect the molecule structures and even the atom mapping per edge."
   ]
  },
  {
   "cell_type": "markdown",
   "id": "7e4a8fd0",
   "metadata": {},
   "source": [
    "We can also inspect the individual edges of the network and the atom mappings generated which describe how the atoms will be transformed during a simulation:"
   ]
  },
  {
   "cell_type": "code",
   "execution_count": null,
   "id": "5a654f55",
   "metadata": {},
   "outputs": [],
   "source": [
    "mapping = next(iter(fec_network.network.to_ligand_network().edges))\n",
    "mapping"
   ]
  },
  {
   "cell_type": "markdown",
   "id": "d9810e15",
   "metadata": {},
   "source": [
    "We can now save this network to file to execute later:"
   ]
  },
  {
   "cell_type": "code",
   "execution_count": null,
   "id": "7d81de71",
   "metadata": {},
   "outputs": [],
   "source": [
    "fec_network.to_file('fec-network.json')"
   ]
  },
  {
   "cell_type": "markdown",
   "id": "b3238e70",
   "metadata": {},
   "source": [
    "# ASAP-Alchemy Submit\n",
    "\n",
    "We are now ready to execute our alchemical network and estimate the relative binding affinity of the ligands. Currently there are two ways to do this locally with OpenFE or on distributed compute via Alchemiscale. At ASAP we use Alchemiscale exclusively allowing us to manage thousands of simultaneous calculations across many networks across many supercomputers, however it is very easy to also execute the calculations locally. We have an interface to simply convert the network to the OpenFE `AlchemicalNetwork` object and use either the CLI or API provided by OpenFE to execute the tasks see the [tutorials](https://docs.openfree.energy/en/stable/tutorials/index.html) for more information:"
   ]
  },
  {
   "cell_type": "code",
   "execution_count": null,
   "id": "dba127aa",
   "metadata": {},
   "outputs": [],
   "source": [
    "openfe_network = fec_network.to_alchemical_network()\n",
    "openfe_network"
   ]
  },
  {
   "cell_type": "markdown",
   "id": "fc98e21d",
   "metadata": {},
   "source": [
    "We provide an Alchemiscale helper within `ASAP-Alchemy` to make it easier when working with our `FreeEnergyCalculationNetworks`s, this can be used to submit, execute, restart and gather results from an alchemiscale instance and is just a wrapper around the alchemiscale client. The class does require that your login `identifier` and `key` are set as the environment variables `ALCHEMISCALE_ID` and `ALCHEMISCALE_KEY` respectively:"
   ]
  },
  {
   "cell_type": "code",
   "execution_count": null,
   "id": "fec5d7c3",
   "metadata": {},
   "outputs": [],
   "source": [
    "import os\n",
    "from asapdiscovery.alchemy.utils import AlchemiscaleHelper\n",
    "from alchemiscale import Scope\n",
    "\n",
    "os.environ[\"ALCHEMISCALE_ID\"] = 'my-id'\n",
    "os.environ[\"ALCHEMISCALE_KEY\"] = 'my-key'\n",
    "helper = AlchemiscaleHelper()"
   ]
  },
  {
   "cell_type": "markdown",
   "id": "4e2102f3",
   "metadata": {},
   "source": [
    "We can now create the network on the Alchemiscale instance using the helper which once complete will return a new copy of our `FreeEnergyCalculationNetwork` object with a results field setup and a network key which can be used to identify the network on Alchemiscale:"
   ]
  },
  {
   "cell_type": "code",
   "execution_count": null,
   "id": "84f76370",
   "metadata": {},
   "outputs": [],
   "source": [
    "submitted_network = helper.create_network(planned_network=fec_network, scope=Scope(org=\"MYORG\", campaign=\"SARS-CoV-2-MAC1\", project=\"mac1-testing\"))"
   ]
  },
  {
   "cell_type": "markdown",
   "id": "ae2dc61c",
   "metadata": {},
   "source": [
    "Now we need to create tasks for each of the transformations defined in our network and action them which queues them for execution. These two stages are handled by one convince method on the helper called `action_network`. Note that we now used the `submitted_network` version of our network as it contains the `network_key` used to find the network on Alchemiscale:"
   ]
  },
  {
   "cell_type": "code",
   "execution_count": null,
   "id": "ac36fb9c",
   "metadata": {},
   "outputs": [],
   "source": [
    "task_keys = helper.action_network(planned_network=submitted_network)"
   ]
  },
  {
   "cell_type": "markdown",
   "id": "07895cad",
   "metadata": {},
   "source": [
    "Once all of the calculations have finished or once the results are needed the results can be gathered from alchemiscale using the `collect_results` helper function which returns a new copy of the `FreeEnergyCalculationNetwork` with results for the completed edges:"
   ]
  },
  {
   "cell_type": "code",
   "execution_count": null,
   "id": "adc5ce1c",
   "metadata": {},
   "outputs": [],
   "source": [
    "network_with_results = helper.collect_results(planned_network=submited_network)"
   ]
  },
  {
   "cell_type": "markdown",
   "id": "ae4016cc",
   "metadata": {},
   "source": [
    "# ASAP-Alchemy Predict\n",
    "\n",
    "Once we have a successful set of transformations we can estimate the absolute binding affinity of our ligands by combining the relative measures via the maximum likelihood estimator method implemented in cinnabar, a best practices method for reporting the results of free energy calculations. ASAP-Alchemy has an interface to Cinnabar to make it easy to turn the simulation results into useful information for the med chem team. For this example we will use the TYK2 network which has been curated as part of the [protein-ligand benchmark](https://github.com/OpenFreeEnergy/protein-ligand-benchmark) dataset, we have the results of a subsection of this network in our testing suite."
   ]
  },
  {
   "cell_type": "code",
   "execution_count": null,
   "id": "9ccad711",
   "metadata": {},
   "outputs": [],
   "source": [
    "from asapdiscovery.alchemy.schema.fec import FreeEnergyCalculationNetwork\n",
    "tyk2_network = FreeEnergyCalculationNetwork.from_file(fetch_test_file('tyk2_result_network.json'))\n",
    "tyk2_network.results"
   ]
  },
  {
   "cell_type": "markdown",
   "id": "5b594da6",
   "metadata": {},
   "source": [
    "We can see that the `tyk2_network` now has a results field which has references to the network on the alchemiscale instance and a set of `Transformationresults` which contain the results of each simulated edge of the network. As the OpenFE `RelativeHybridTopologyProtocol` simulates the `complex` and `solvent` phases separately we need to combine these to estimate the relative free energy between the ligands in the transformation. We can do this by using the interface with `cinnabar`:"
   ]
  },
  {
   "cell_type": "code",
   "execution_count": null,
   "id": "a4029bdb",
   "metadata": {},
   "outputs": [],
   "source": [
    "measures = tyk2_network.results.to_cinnabar_measurements()\n",
    "measures"
   ]
  },
  {
   "cell_type": "markdown",
   "id": "0e16dc36",
   "metadata": {},
   "source": [
    "We also convert directly to a `FEMap` object and use it to calculate the absolute binding affinity estimates, first let's draw a graph of the converted network to check we get the expected `9 edges` and `10 ligands`:"
   ]
  },
  {
   "cell_type": "code",
   "execution_count": null,
   "id": "7f82958c",
   "metadata": {},
   "outputs": [],
   "source": [
    "fe_map = tyk2_network.results.to_fe_map()\n",
    "fe_map.draw_graph()"
   ]
  },
  {
   "cell_type": "markdown",
   "id": "04812d6a",
   "metadata": {},
   "source": [
    "Now we can check that the calculated relative affinities have been correctly converted and we can view them as a table:"
   ]
  },
  {
   "cell_type": "code",
   "execution_count": null,
   "id": "73eacbcc",
   "metadata": {},
   "outputs": [],
   "source": [
    "fe_map.generate_absolute_values()\n",
    "fe_map.get_relative_dataframe()"
   ]
  },
  {
   "cell_type": "markdown",
   "id": "b9dba95d",
   "metadata": {},
   "source": [
    "We can now view the estimated absolute binding affinities for these molecules as a pandas table which we can use to rank our compounds and provide feed back to the med chem team:"
   ]
  },
  {
   "cell_type": "code",
   "execution_count": null,
   "id": "a776e612",
   "metadata": {},
   "outputs": [],
   "source": [
    "fe_map.get_absolute_dataframe()"
   ]
  },
  {
   "cell_type": "markdown",
   "id": "91114ab4",
   "metadata": {},
   "source": [
    "Hold on those absolute affinities look a little off! You will notice that they are centred around `0` as we have no experimental reference or absolute affinity prediction to centre the results around. This is one of the reasons why we would inject experimentally measured ligands into the network during the prep stage described above. Luckily for this example, we have experimental data for all of the ligands, let's use cinnabar to assess the accuracy of our predictions vs experiment:"
   ]
  },
  {
   "cell_type": "code",
   "execution_count": null,
   "id": "414ead3d",
   "metadata": {},
   "outputs": [],
   "source": [
    "import pandas as pd\n",
    "tyk2_reference_data = pd.read_csv(fetch_test_file('tyk2_reference_data.csv'))\n",
    "for _, row in tyk2_reference_data.iterrows():\n",
    "    fe_map.add_experimental_measurement(\n",
    "        label=row['Molecule Name'],\n",
    "        value=row['IC50_GMean (µM)'] * unit.micromolar,\n",
    "        uncertainty=0 * unit.molar \n",
    "    )\n",
    "fe_map.generate_absolute_values()"
   ]
  },
  {
   "cell_type": "markdown",
   "id": "5b0f2ca6",
   "metadata": {},
   "source": [
    "We can now plot the estimated relative binding affinities vs experiment:"
   ]
  },
  {
   "cell_type": "code",
   "execution_count": null,
   "id": "85de77a9",
   "metadata": {},
   "outputs": [],
   "source": [
    "from cinnabar.plotting import plot_DDGs, plot_DGs\n",
    "plot_DDGs(fe_map.to_legacy_graph())"
   ]
  },
  {
   "cell_type": "markdown",
   "id": "44913e0f",
   "metadata": {},
   "source": [
    "Finally we can plot the estimated absolute binding afinities vs experiment:"
   ]
  },
  {
   "cell_type": "code",
   "execution_count": null,
   "id": "d1e385c1",
   "metadata": {},
   "outputs": [],
   "source": [
    "plot_DGs(fe_map.to_legacy_graph())"
   ]
  },
  {
   "cell_type": "markdown",
   "id": "e72d07da",
   "metadata": {},
   "source": [
    "Before using the predictions in production it is common to benchmark the system under study to asses its suitability for free energy calculations, this normally involves curating a set of similar ligands which have reliable experimental measures of affinity and estimating their affinity using the production protocol. To help with debugging these benchmarks we have created some tools to produce interactive graphs to make it easier to identify outliers. Here we will generate interactive equivalents of the cinnabar graphs using `ASAP-Alchemy`. First, we use a utility function which extracts the absolute and relative predictions from the cinnabar `FEMap` and inserts experimental data extracted from a formatted csv file. Note that the absolute predictions are also automatically shifted to match the experimental range of binding affinity values:"
   ]
  },
  {
   "cell_type": "code",
   "execution_count": null,
   "id": "3e96b602",
   "metadata": {},
   "outputs": [],
   "source": [
    "from asapdiscovery.alchemy.predict import get_data_from_femap, create_absolute_report, create_relative_report\n",
    "fe_map = tyk2_network.results.to_fe_map()\n",
    "fe_map.generate_absolute_values()\n",
    "absolute_df, relative_df = get_data_from_femap(\n",
    "    fe_map=fe_map,\n",
    "    ligands=tyk2_network.network.ligands,\n",
    "    assay_units='IC50',\n",
    "    reference_dataset=fetch_test_file('tyk2_reference_data.csv')\n",
    ")"
   ]
  },
  {
   "cell_type": "markdown",
   "id": "e3752bf8",
   "metadata": {},
   "source": [
    "Now we can produce an interactive relative report to inspect each transformation and identify outliers:"
   ]
  },
  {
   "cell_type": "code",
   "execution_count": null,
   "id": "ee3d6070",
   "metadata": {},
   "outputs": [],
   "source": [
    "relative_layout = create_relative_report(dataframe=relative_df)\n",
    "relative_layout.embed()"
   ]
  },
  {
   "cell_type": "markdown",
   "id": "5d5a40b0",
   "metadata": {},
   "source": [
    "The same can also be done for the absolute report:"
   ]
  },
  {
   "cell_type": "code",
   "execution_count": null,
   "id": "2b498330",
   "metadata": {},
   "outputs": [],
   "source": [
    "absolute_layout = create_absolute_report(dataframe=absolute_df)\n",
    "absolute_layout.embed()"
   ]
  },
  {
   "cell_type": "markdown",
   "id": "727b8620",
   "metadata": {},
   "source": [
    "Both of these reports can also be saved to file and shared with others using the `save` function which will create an interactive `html` file:"
   ]
  },
  {
   "cell_type": "code",
   "execution_count": null,
   "id": "85e4b235",
   "metadata": {},
   "outputs": [],
   "source": [
    "absolute_layout.save(filename='tyk2-absolute.html', title='tyk2-benchmark', embed=True)"
   ]
  }
 ],
 "metadata": {
  "kernelspec": {
   "display_name": "Python 3 (ipykernel)",
   "language": "python",
   "name": "python3"
  },
  "language_info": {
   "codemirror_mode": {
    "name": "ipython",
    "version": 3
   },
   "file_extension": ".py",
   "mimetype": "text/x-python",
   "name": "python",
   "nbconvert_exporter": "python",
   "pygments_lexer": "ipython3",
   "version": "3.11.6"
  }
 },
 "nbformat": 4,
 "nbformat_minor": 5
}
