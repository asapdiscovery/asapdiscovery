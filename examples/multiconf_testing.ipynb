{
 "cells": [
  {
   "cell_type": "code",
   "execution_count": null,
   "id": "24568b96-b75d-4494-9339-b581ca35dddc",
   "metadata": {},
   "outputs": [],
   "source": [
    "from asapdiscovery.data.schema_v2.ligand import Ligand, LigandIdentifiers\n",
    "from asapdiscovery.data import openeye as oe"
   ]
  },
  {
   "cell_type": "code",
   "execution_count": null,
   "id": "ae13ce6a-9aac-46f5-ba9c-42b0eb6f3bfe",
   "metadata": {},
   "outputs": [],
   "source": [
    "smiles = \"CCCCCCC\"\n",
    "lig = Ligand.from_smiles(\n",
    "            smiles, ids=LigandIdentifiers(moonshot_compound_id=\"test_id\")\n",
    "        )\n",
    "assert lig.ids is not None\n",
    "lig.to_sdf(\"test.sdf\")"
   ]
  },
  {
   "cell_type": "code",
   "execution_count": null,
   "id": "30739b99-ecec-47e8-9ec8-cbd1878b0f77",
   "metadata": {},
   "outputs": [],
   "source": [
    "lig2 = Ligand.from_sdf(sdf_file=\"test.sdf\")\n",
    "assert lig2.ids is not None\n",
    "assert lig2.ids == lig.ids"
   ]
  },
  {
   "cell_type": "code",
   "execution_count": null,
   "id": "f97fcd98-b07f-4ede-8427-b9e6cf1ac443",
   "metadata": {},
   "outputs": [],
   "source": [
    "mol = oe.load_openeye_sdf(\"test.sdf\")"
   ]
  },
  {
   "cell_type": "code",
   "execution_count": null,
   "id": "124d8eeb-632d-44e4-b051-0e3c2a255795",
   "metadata": {},
   "outputs": [],
   "source": [
    "oe.get_SD_data(mol)"
   ]
  },
  {
   "cell_type": "code",
   "execution_count": null,
   "id": "22104abb-17b9-4604-a18d-fa27ad40e06a",
   "metadata": {},
   "outputs": [],
   "source": [
    "def og(path):\n",
    "    ifs = oe.oechem.oemolistream()\n",
    "    ifs.SetFlavor(\n",
    "        oe.oechem.OEFormat_SDF,\n",
    "        oe.oechem.OEIFlavor_SDF_Default,\n",
    "    )\n",
    "    if ifs.open(str(path)):\n",
    "        coords_mol = oe.oechem.OEGraphMol()\n",
    "        oe.oechem.OEReadMolecule(ifs, coords_mol)\n",
    "        ifs.close()\n",
    "        return coords_mol"
   ]
  },
  {
   "cell_type": "code",
   "execution_count": null,
   "id": "3afec482-4683-41f7-b235-053aba480d49",
   "metadata": {},
   "outputs": [],
   "source": []
  },
  {
   "cell_type": "code",
   "execution_count": null,
   "id": "d900a8c3-9373-42a6-8211-b7cfb699afa0",
   "metadata": {},
   "outputs": [],
   "source": [
    "mol = oe.load_openeye_sdf(\"test.sdf\")"
   ]
  },
  {
   "cell_type": "code",
   "execution_count": null,
   "id": "fe6fc2b9-8e84-494b-8c3a-06e8bac0c4e8",
   "metadata": {},
   "outputs": [],
   "source": [
    "oe.get_SD_data(mol)"
   ]
  },
  {
   "cell_type": "code",
   "execution_count": null,
   "id": "a2daa448-6473-4e70-8b97-e527082855a4",
   "metadata": {},
   "outputs": [],
   "source": [
    "mol2 = og(\"test.sdf\")"
   ]
  },
  {
   "cell_type": "code",
   "execution_count": null,
   "id": "d789c942-8c35-4a1c-8aa9-9aaae214b8a0",
   "metadata": {},
   "outputs": [],
   "source": [
    "oe.get_SD_data(mol2)"
   ]
  },
  {
   "cell_type": "code",
   "execution_count": null,
   "id": "114ee09a-a59a-49f2-8dd5-a2f1a2cde0c5",
   "metadata": {},
   "outputs": [],
   "source": [
    "multi = og(\"/home/feanor/multiconf.sdf\")"
   ]
  },
  {
   "cell_type": "code",
   "execution_count": null,
   "id": "e16f2ca4-4442-4501-82a4-5b3968010a5f",
   "metadata": {},
   "outputs": [],
   "source": [
    "oe.save_openeye_sdf(multi, \"multi_test.sdf\")"
   ]
  },
  {
   "cell_type": "code",
   "execution_count": null,
   "id": "12bd8fb9-c7a1-4093-a6c4-566aae43af3b",
   "metadata": {},
   "outputs": [],
   "source": [
    "multi = oe.load_openeye_sdf(\"/home/feanor/multiconf.sdf\")"
   ]
  },
  {
   "cell_type": "code",
   "execution_count": null,
   "id": "33a52100-32bc-4110-8f35-279ae7fb1023",
   "metadata": {},
   "outputs": [],
   "source": [
    "multi.NumConfs()"
   ]
  },
  {
   "cell_type": "code",
   "execution_count": null,
   "id": "069b6952-e7c0-4259-bfc0-8219ffb13ebf",
   "metadata": {},
   "outputs": [],
   "source": [
    "multi."
   ]
  },
  {
   "cell_type": "code",
   "execution_count": null,
   "id": "cd1ac611-a4a6-4ec1-a5ca-c636bcd641a3",
   "metadata": {},
   "outputs": [],
   "source": [
    "multi_sd = oe.set_SD_data(multi, data={\"test_sd\": \"hi\"})"
   ]
  },
  {
   "cell_type": "code",
   "execution_count": null,
   "id": "47c10387-d592-465b-93f9-2516481301fb",
   "metadata": {},
   "outputs": [],
   "source": [
    "oe.save_openeye_sdf(multi_sd, \"multi_test2.sdf\")"
   ]
  },
  {
   "cell_type": "code",
   "execution_count": null,
   "id": "d3cf1bcd-7ddd-44c7-9614-46e80c288a9e",
   "metadata": {},
   "outputs": [],
   "source": [
    "multi2 = oe.load_openeye_sdf(\"multi_test2.sdf\")"
   ]
  },
  {
   "cell_type": "code",
   "execution_count": null,
   "id": "3ee02826-4d88-4b12-8e9e-62e4aa35496b",
   "metadata": {},
   "outputs": [],
   "source": [
    "oe.get_SD_data(multi2)"
   ]
  },
  {
   "cell_type": "markdown",
   "id": "7175af78-619e-461c-8ae7-436a44f5339e",
   "metadata": {},
   "source": [
    "https://docs.eyesopen.com/toolkits/python/oechemtk/oemol.html"
   ]
  },
  {
   "cell_type": "code",
   "execution_count": null,
   "id": "02816185-16a8-4a79-93b2-e12e1d3ddd79",
   "metadata": {},
   "outputs": [],
   "source": [
    "?oe.get_SD_data"
   ]
  },
  {
   "cell_type": "code",
   "execution_count": null,
   "id": "4d6f59da-825d-4a83-b27a-7c86551ad498",
   "metadata": {},
   "outputs": [],
   "source": [
    "sd_data = {dp.GetTag(): dp.GetValue() for dp in oe.oechem.OEGetSDDataPairs(mol) for mol in multi2.GetConfs()}"
   ]
  },
  {
   "cell_type": "code",
   "execution_count": null,
   "id": "45d354d7-60fd-485a-bb70-b3f9b571e208",
   "metadata": {},
   "outputs": [],
   "source": [
    "sd_data"
   ]
  },
  {
   "cell_type": "code",
   "execution_count": null,
   "id": "2daf586e-360b-4bc0-8503-f437ae426fae",
   "metadata": {},
   "outputs": [],
   "source": [
    "for mol in multi2.GetConfs():\n",
    "    print(mol.GetTitle())\n",
    "    print(type(mol))\n",
    "    for dp in oe.oechem.OEGetSDDataPairs(mol):\n",
    "        print(dp.GetTag(), dp.GetValue())"
   ]
  },
  {
   "cell_type": "code",
   "execution_count": null,
   "id": "2e2a992c-c1e5-4b6e-b857-e28756ffd9b2",
   "metadata": {},
   "outputs": [],
   "source": []
  }
 ],
 "metadata": {
  "kernelspec": {
   "display_name": "Python 3 (ipykernel)",
   "language": "python",
   "name": "python3"
  },
  "language_info": {
   "codemirror_mode": {
    "name": "ipython",
    "version": 3
   },
   "file_extension": ".py",
   "mimetype": "text/x-python",
   "name": "python",
   "nbconvert_exporter": "python",
   "pygments_lexer": "ipython3",
   "version": "3.10.13"
  }
 },
 "nbformat": 4,
 "nbformat_minor": 5
}
