{
 "cells": [
  {
   "cell_type": "code",
   "execution_count": 1,
   "id": "initial_id",
   "metadata": {
    "collapsed": true,
    "ExecuteTime": {
     "end_time": "2024-02-29T15:07:28.462238Z",
     "start_time": "2024-02-29T15:07:26.580781Z"
    }
   },
   "outputs": [],
   "source": [
    "from asapdiscovery.data.testing.test_resources import fetch_test_file\n",
    "from asapdiscovery.data.schema.ligand import Ligand\n",
    "from asapdiscovery.data.backend.openeye import oechem\n",
    "import numpy as np"
   ]
  },
  {
   "cell_type": "code",
   "outputs": [],
   "source": [
    "ligand = Ligand.from_sdf(fetch_test_file('multiconf.sdf'))"
   ],
   "metadata": {
    "collapsed": false,
    "ExecuteTime": {
     "end_time": "2024-02-29T15:07:28.484987Z",
     "start_time": "2024-02-29T15:07:28.463154Z"
    }
   },
   "id": "a16926d2b75fe3a4",
   "execution_count": 2
  },
  {
   "cell_type": "code",
   "outputs": [
    {
     "data": {
      "text/plain": "['-3.9384562969207764',\n '-3.9384562969207764',\n '-3.641329765319824',\n '-3.641329765319824',\n '-5.787794589996338',\n '-5.787794589996338',\n '-5.304392337799072',\n '-5.304392337799072',\n '-3.629373550415039',\n '-4.635014057159424',\n '-3.8015196323394775',\n '-3.8015196323394775',\n '-8.547945976257324',\n '-8.547945976257324',\n '-6.297516345977783',\n '-6.297516345977783',\n '-4.823187828063965',\n '-4.823187828063965',\n '-3.479556083679199',\n '-3.629373550415039',\n '-4.095942497253418',\n '-4.095942497253418',\n '-5.212488651275635',\n '-5.212488651275635',\n '-5.716377258300781',\n '-4.084050178527832',\n '-4.084050178527832',\n '-6.764339447021484',\n '-2.448556661605835',\n '-6.764339447021484',\n '-7.55867862701416',\n '-7.55867862701416',\n '-6.438549518585205',\n '-6.438549518585205',\n '-4.74962043762207',\n '-4.74962043762207',\n '-6.190071105957031',\n '-6.190071105957031',\n '-2.448556661605835',\n '-4.635014057159424',\n '-3.4106383323669434',\n '-3.4106383323669434',\n '-5.382641315460205',\n '-5.382641315460205',\n '-4.797482013702393',\n '-4.797482013702393',\n '-4.352136611938477',\n '-4.352136611938477',\n '-6.079061985015869',\n '-6.079061985015869']"
     },
     "execution_count": 3,
     "metadata": {},
     "output_type": "execute_result"
    }
   ],
   "source": [
    "ligand.conf_tags[\"Docking_posit_hybrid_clash_Chemgauss4\"]"
   ],
   "metadata": {
    "collapsed": false,
    "ExecuteTime": {
     "end_time": "2024-02-29T15:07:28.495714Z",
     "start_time": "2024-02-29T15:07:28.488877Z"
    }
   },
   "id": "d839933391ea7a91",
   "execution_count": 3
  },
  {
   "cell_type": "code",
   "outputs": [
    {
     "name": "stderr",
     "output_type": "stream",
     "text": [
      "/Users/alexpayne/Scientific_Projects/asapdiscovery/asapdiscovery-data/asapdiscovery/data/backend/openeye.py:850: UserWarning: Overwriting the following tags for all conformers: dict_keys(['compound_name', 'provenance', 'data_format'])\n",
      "  warn(f\"Overwriting the following tags for all conformers: {data.keys()}\")\n"
     ]
    }
   ],
   "source": [
    "mol = ligand.to_oemol()"
   ],
   "metadata": {
    "collapsed": false,
    "ExecuteTime": {
     "end_time": "2024-02-29T15:07:28.517885Z",
     "start_time": "2024-02-29T15:07:28.496356Z"
    }
   },
   "id": "7e02a44a9afc0f69",
   "execution_count": 4
  },
  {
   "cell_type": "code",
   "outputs": [],
   "source": [
    "confs = np.array([conf for conf in mol.GetConfs()])"
   ],
   "metadata": {
    "collapsed": false,
    "ExecuteTime": {
     "end_time": "2024-02-29T15:07:28.518471Z",
     "start_time": "2024-02-29T15:07:28.511946Z"
    }
   },
   "id": "b75bf521508ca015",
   "execution_count": 5
  },
  {
   "cell_type": "code",
   "outputs": [],
   "source": [
    "sort_array = np.argsort(np.array(ligand.conf_tags[\"Docking_posit_hybrid_clash_Chemgauss4\"]))"
   ],
   "metadata": {
    "collapsed": false,
    "ExecuteTime": {
     "end_time": "2024-02-29T15:09:48.721194Z",
     "start_time": "2024-02-29T15:09:48.716470Z"
    }
   },
   "id": "5405ec7322e10d86",
   "execution_count": 25
  },
  {
   "cell_type": "code",
   "outputs": [],
   "source": [
    "sorted_by_chemgauss = confs[sort_array]"
   ],
   "metadata": {
    "collapsed": false,
    "ExecuteTime": {
     "end_time": "2024-02-29T15:09:49.296882Z",
     "start_time": "2024-02-29T15:09:49.291636Z"
    }
   },
   "id": "fa564e2513d3f436",
   "execution_count": 26
  },
  {
   "cell_type": "code",
   "outputs": [
    {
     "data": {
      "text/plain": "True"
     },
     "execution_count": 27,
     "metadata": {},
     "output_type": "execute_result"
    }
   ],
   "source": [
    "mol.OrderConfs(sorted_by_chemgauss)"
   ],
   "metadata": {
    "collapsed": false,
    "ExecuteTime": {
     "end_time": "2024-02-29T15:09:49.697441Z",
     "start_time": "2024-02-29T15:09:49.681299Z"
    }
   },
   "id": "e1f4ae01940642cc",
   "execution_count": 27
  },
  {
   "cell_type": "code",
   "outputs": [],
   "source": [
    "sorted = ligand.from_oemol(mol)"
   ],
   "metadata": {
    "collapsed": false,
    "ExecuteTime": {
     "end_time": "2024-02-29T15:09:49.921113Z",
     "start_time": "2024-02-29T15:09:49.903425Z"
    }
   },
   "id": "e2a7813f3f431aee",
   "execution_count": 28
  },
  {
   "cell_type": "code",
   "outputs": [
    {
     "data": {
      "text/plain": "['-2.448556661605835',\n '-2.448556661605835',\n '-3.4106383323669434',\n '-3.4106383323669434',\n '-3.479556083679199',\n '-3.629373550415039',\n '-3.629373550415039',\n '-3.641329765319824',\n '-3.641329765319824',\n '-3.8015196323394775',\n '-3.8015196323394775',\n '-3.9384562969207764',\n '-3.9384562969207764',\n '-4.084050178527832',\n '-4.084050178527832',\n '-4.095942497253418',\n '-4.095942497253418',\n '-4.352136611938477',\n '-4.352136611938477',\n '-4.635014057159424',\n '-4.635014057159424',\n '-4.74962043762207',\n '-4.74962043762207',\n '-4.797482013702393',\n '-4.797482013702393',\n '-4.823187828063965',\n '-4.823187828063965',\n '-5.212488651275635',\n '-5.212488651275635',\n '-5.304392337799072',\n '-5.304392337799072',\n '-5.382641315460205',\n '-5.382641315460205',\n '-5.716377258300781',\n '-5.787794589996338',\n '-5.787794589996338',\n '-6.079061985015869',\n '-6.079061985015869',\n '-6.190071105957031',\n '-6.190071105957031',\n '-6.297516345977783',\n '-6.297516345977783',\n '-6.438549518585205',\n '-6.438549518585205',\n '-6.764339447021484',\n '-6.764339447021484',\n '-7.55867862701416',\n '-7.55867862701416',\n '-8.547945976257324',\n '-8.547945976257324']"
     },
     "execution_count": 29,
     "metadata": {},
     "output_type": "execute_result"
    }
   ],
   "source": [
    "sorted.conf_tags[\"Docking_posit_hybrid_clash_Chemgauss4\"]"
   ],
   "metadata": {
    "collapsed": false,
    "ExecuteTime": {
     "end_time": "2024-02-29T15:09:50.557200Z",
     "start_time": "2024-02-29T15:09:50.551553Z"
    }
   },
   "id": "162506df85e8fe90",
   "execution_count": 29
  },
  {
   "cell_type": "code",
   "outputs": [],
   "source": [
    "unsorted = np.array(ligand.to_oemols())"
   ],
   "metadata": {
    "collapsed": false,
    "ExecuteTime": {
     "end_time": "2024-02-29T15:09:51.792181Z",
     "start_time": "2024-02-29T15:09:51.776521Z"
    }
   },
   "id": "c6cec5aa093d4ecd",
   "execution_count": 30
  },
  {
   "cell_type": "code",
   "outputs": [
    {
     "data": {
      "text/plain": "True"
     },
     "execution_count": 33,
     "metadata": {},
     "output_type": "execute_result"
    }
   ],
   "source": [
    "all(unsorted[sort_array[i]].GetCoords() == sorted.to_oemols()[i].GetCoords() for i in range(len(unsorted)))"
   ],
   "metadata": {
    "collapsed": false,
    "ExecuteTime": {
     "end_time": "2024-02-29T15:10:26.635073Z",
     "start_time": "2024-02-29T15:10:25.969107Z"
    }
   },
   "id": "586e0e8435998342",
   "execution_count": 33
  },
  {
   "cell_type": "code",
   "outputs": [],
   "source": [],
   "metadata": {
    "collapsed": false,
    "ExecuteTime": {
     "end_time": "2024-02-29T15:07:28.599017Z",
     "start_time": "2024-02-29T15:07:28.584278Z"
    }
   },
   "id": "358f80224e7c434a",
   "execution_count": 11
  }
 ],
 "metadata": {
  "kernelspec": {
   "display_name": "Python 3",
   "language": "python",
   "name": "python3"
  },
  "language_info": {
   "codemirror_mode": {
    "name": "ipython",
    "version": 2
   },
   "file_extension": ".py",
   "mimetype": "text/x-python",
   "name": "python",
   "nbconvert_exporter": "python",
   "pygments_lexer": "ipython2",
   "version": "2.7.6"
  }
 },
 "nbformat": 4,
 "nbformat_minor": 5
}
