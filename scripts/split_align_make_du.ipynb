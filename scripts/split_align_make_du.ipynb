{
 "cells": [
  {
   "cell_type": "code",
   "execution_count": 1,
   "id": "042246e1-f799-4d40-8283-b71a41e54b7b",
   "metadata": {},
   "outputs": [],
   "source": [
    "from openeye import oechem, oespruce"
   ]
  },
  {
   "cell_type": "markdown",
   "id": "0151419a-9a0d-49ac-b00c-1820b8a84022",
   "metadata": {},
   "source": [
    "# Loading protein, splitting, and aligning to reference"
   ]
  },
  {
   "cell_type": "code",
   "execution_count": 10,
   "id": "e8dd1fe2-fedc-4092-90c4-29c6e9bcec39",
   "metadata": {},
   "outputs": [
    {
     "name": "stdout",
     "output_type": "stream",
     "text": [
      "2634\n",
      "2603\n"
     ]
    }
   ],
   "source": [
    "pdb_fn = \"input_pdbs/5WKK.pdb\"\n",
    "## Load molecule to extract\n",
    "ifs = oechem.oemolistream()\n",
    "ifs.SetFlavor(\n",
    "    oechem.OEFormat_PDB,\n",
    "    oechem.OEIFlavor_PDB_Default\n",
    "    | oechem.OEIFlavor_PDB_DATA\n",
    "    | oechem.OEIFlavor_PDB_ALTLOC,\n",
    ")\n",
    "ifs.open(pdb_fn)\n",
    "complex_mol = oechem.OEGraphMol()\n",
    "oechem.OEReadMolecule(ifs, complex_mol)\n",
    "ifs.close()\n",
    "\n",
    "## Keep only highest occupancy alt location\n",
    "alf = oechem.OEAltLocationFactory(complex_mol)\n",
    "if alf.GetGroupCount() != 0:\n",
    "    print(complex_mol.NumAtoms())\n",
    "    alf.MakePrimaryAltMol(complex_mol)\n",
    "    print(complex_mol.NumAtoms())"
   ]
  },
  {
   "cell_type": "code",
   "execution_count": 14,
   "id": "ca2d3459-3694-43d9-a2a8-d67772ffddd1",
   "metadata": {},
   "outputs": [
    {
     "name": "stdout",
     "output_type": "stream",
     "text": [
      "True\n",
      "2603 62 2256 24 261\n"
     ]
    }
   ],
   "source": [
    "## Test splitting\n",
    "lig_mol = oechem.OEGraphMol()\n",
    "prot_mol = oechem.OEGraphMol()\n",
    "water_mol = oechem.OEGraphMol()\n",
    "oth_mol = oechem.OEGraphMol()\n",
    "\n",
    "## Make splitting split out covalent ligands\n",
    "## TODO: look into different covalent-related options here\n",
    "opts = oechem.OESplitMolComplexOptions()\n",
    "opts.SetSplitCovalent(True)\n",
    "opts.SetSplitCovalentCofactors(True)\n",
    "print(\n",
    "    oechem.OESplitMolComplex(lig_mol, prot_mol, water_mol, oth_mol, complex_mol)\n",
    ")\n",
    "\n",
    "print(\n",
    "    complex_mol.NumAtoms(),\n",
    "    lig_mol.NumAtoms(),\n",
    "    prot_mol.NumAtoms(),\n",
    "    water_mol.NumAtoms(),\n",
    "    oth_mol.NumAtoms(),\n",
    ")"
   ]
  },
  {
   "cell_type": "code",
   "execution_count": 24,
   "id": "19bef282-9d06-4fb7-82d7-e992919bdf02",
   "metadata": {},
   "outputs": [
    {
     "name": "stdout",
     "output_type": "stream",
     "text": [
      "2832\n",
      "True\n",
      "2832 34 2316 18 464\n"
     ]
    }
   ],
   "source": [
    "## Load ref PDB molecule\n",
    "ref_fn = \"input_pdbs/reference.pdb\"\n",
    "ref_complex_mol = oechem.OEGraphMol()\n",
    "ifs.open(ref_fn)\n",
    "oechem.OEReadMolecule(ifs, ref_complex_mol)\n",
    "ifs.close()\n",
    "print(ref_complex_mol.NumAtoms())\n",
    "\n",
    "## Perform splitting for ref\n",
    "ref_lig_mol = oechem.OEGraphMol()\n",
    "ref_prot_mol = oechem.OEGraphMol()\n",
    "ref_water_mol = oechem.OEGraphMol()\n",
    "ref_oth_mol = oechem.OEGraphMol()\n",
    "print(\n",
    "    oechem.OESplitMolComplex(\n",
    "        ref_lig_mol, ref_prot_mol, ref_water_mol, ref_oth_mol, ref_complex_mol\n",
    "    )\n",
    ")\n",
    "print(\n",
    "    ref_complex_mol.NumAtoms(),\n",
    "    ref_lig_mol.NumAtoms(),\n",
    "    ref_prot_mol.NumAtoms(),\n",
    "    ref_water_mol.NumAtoms(),\n",
    "    ref_oth_mol.NumAtoms(),\n",
    ")"
   ]
  },
  {
   "cell_type": "code",
   "execution_count": 27,
   "id": "5c8de739-fa8b-450d-aa36-485e2e767b74",
   "metadata": {},
   "outputs": [
    {
     "name": "stdout",
     "output_type": "stream",
     "text": [
      "RMSD: 1.8288194400350355\n",
      "True\n"
     ]
    }
   ],
   "source": [
    "## Align new protein to ref\n",
    "aln_res = oespruce.OESuperposeResults()\n",
    "superpos = oespruce.OESuperpose()\n",
    "superpos.SetupRef(ref_prot_mol)\n",
    "superpos.Superpose(aln_res, prot_mol)\n",
    "print(f\"RMSD: {aln_res.GetRMSD()}\")\n",
    "\n",
    "prot_mol_aligned = prot_mol.CreateCopy()\n",
    "print(aln_res.Transform(prot_mol_aligned))\n",
    "\n",
    "## Save new aligned molecule for inspection\n",
    "out_fn = \"test/5WKK_split_aligned.pdb\"\n",
    "ofs = oechem.oemolostream()\n",
    "ofs.SetFlavor(oechem.OEFormat_PDB, oechem.OEOFlavor_PDB_Default)\n",
    "ofs.open(out_fn)\n",
    "oechem.OEWriteMolecule(ofs, prot_mol_aligned)\n",
    "ofs.close()"
   ]
  },
  {
   "cell_type": "markdown",
   "id": "a1e21cc9-12ed-4897-86b0-c15e5acf07ed",
   "metadata": {},
   "source": [
    "# Load in new ligand and create DesignUnit"
   ]
  },
  {
   "cell_type": "code",
   "execution_count": 30,
   "id": "a53d8ccb-cab2-4897-b538-9b1ef8bf60bb",
   "metadata": {},
   "outputs": [
    {
     "name": "stdout",
     "output_type": "stream",
     "text": [
      "20\n"
     ]
    }
   ],
   "source": [
    "## Load ligand molecule\n",
    "sdf_fn = f\"fragalysis/aligned/Mpro-P2007_0A/Mpro-P2007_0A.sdf\"\n",
    "ifs = oechem.oemolistream()\n",
    "ifs.SetFlavor(\n",
    "    oechem.OEFormat_SDF,\n",
    "    oechem.OEIFlavor_SDF_Default,\n",
    ")\n",
    "ifs.open(sdf_fn)\n",
    "new_lig_mol = oechem.OEGraphMol()\n",
    "oechem.OEReadMolecule(ifs, new_lig_mol)\n",
    "ifs.close()\n",
    "print(new_lig_mol.NumAtoms())"
   ]
  },
  {
   "cell_type": "code",
   "execution_count": 31,
   "id": "a8de7907-375e-4684-98d7-60d017a9661a",
   "metadata": {},
   "outputs": [
    {
     "name": "stdout",
     "output_type": "stream",
     "text": [
      "True\n",
      "True\n"
     ]
    }
   ],
   "source": [
    "## Add explicit Hs to protein and new ligand to prep\n",
    "prot_mol_prep = prot_mol_aligned.CreateCopy()\n",
    "new_lig_prep = new_lig_mol.CreateCopy()\n",
    "print(oechem.OEAddExplicitHydrogens(prot_mol_prep))\n",
    "print(oechem.OEAddExplicitHydrogens(new_lig_prep))"
   ]
  },
  {
   "cell_type": "code",
   "execution_count": 34,
   "id": "92e3417f-9032-4087-b533-b88fb34008aa",
   "metadata": {},
   "outputs": [
    {
     "name": "stdout",
     "output_type": "stream",
     "text": [
      "True\n",
      "True True\n"
     ]
    },
    {
     "name": "stderr",
     "output_type": "stream",
     "text": [
      "Warning: There was a problem building some missing pieces, built as much as was possible\n",
      "Warning: Failed.For LIG, could not update 'C1CCN2C(C1)NCC2NC(CC3CCCC(C3)Cl)O' to match 'c1ccc-2c(c1)Cc3c2[nH]nc3c4ccncc4'\n",
      "Warning: Failed.For LIG, could not update 'C1CCN2C(C1)NCC2NC(CC3CCCC(C3)Cl)O' to match 'c1ccc-2c(c1)Cc3c2n[nH]c3c4ccncc4'\n"
     ]
    }
   ],
   "source": [
    "## Make the design unit and save\n",
    "du = oechem.OEDesignUnit()\n",
    "print(oespruce.OEMakeDesignUnit(du, prot_mol_prep, new_lig_prep))\n",
    "print(du.HasProtein(), du.HasLigand())\n",
    "du_out_fn = 'test/5WKK_new_lig.oedu'\n",
    "if du.HasProtein() and du.HasLigand():\n",
    "    oechem.OEWriteDesignUnit(du_out_fn, du)"
   ]
  }
 ],
 "metadata": {
  "kernelspec": {
   "display_name": "Python 3 (ipykernel)",
   "language": "python",
   "name": "python3"
  },
  "language_info": {
   "codemirror_mode": {
    "name": "ipython",
    "version": 3
   },
   "file_extension": ".py",
   "mimetype": "text/x-python",
   "name": "python",
   "nbconvert_exporter": "python",
   "pygments_lexer": "ipython3",
   "version": "3.9.13"
  }
 },
 "nbformat": 4,
 "nbformat_minor": 5
}
