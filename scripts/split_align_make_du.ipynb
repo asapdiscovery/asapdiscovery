{
 "cells": [
  {
   "cell_type": "code",
   "execution_count": 1,
   "id": "042246e1-f799-4d40-8283-b71a41e54b7b",
   "metadata": {},
   "outputs": [],
   "source": [
    "import pandas\n",
    "from openeye import oechem, oespruce"
   ]
  },
  {
   "cell_type": "markdown",
   "id": "0151419a-9a0d-49ac-b00c-1820b8a84022",
   "metadata": {},
   "source": [
    "# Loading protein, splitting, and aligning to reference"
   ]
  },
  {
   "cell_type": "code",
   "execution_count": 2,
   "id": "e8dd1fe2-fedc-4092-90c4-29c6e9bcec39",
   "metadata": {},
   "outputs": [
    {
     "name": "stdout",
     "output_type": "stream",
     "text": [
      "2634\n",
      "2603\n"
     ]
    }
   ],
   "source": [
    "pdb_fn = \"input_pdbs/5WKK.pdb\"\n",
    "## Load molecule to extract\n",
    "ifs = oechem.oemolistream()\n",
    "ifs.SetFlavor(\n",
    "    oechem.OEFormat_PDB,\n",
    "    oechem.OEIFlavor_PDB_Default\n",
    "    | oechem.OEIFlavor_PDB_DATA\n",
    "    | oechem.OEIFlavor_PDB_ALTLOC,\n",
    ")\n",
    "ifs.open(pdb_fn)\n",
    "complex_mol = oechem.OEGraphMol()\n",
    "oechem.OEReadMolecule(ifs, complex_mol)\n",
    "ifs.close()\n",
    "\n",
    "## Keep only highest occupancy alt location\n",
    "alf = oechem.OEAltLocationFactory(complex_mol)\n",
    "if alf.GetGroupCount() != 0:\n",
    "    print(complex_mol.NumAtoms())\n",
    "    alf.MakePrimaryAltMol(complex_mol)\n",
    "    print(complex_mol.NumAtoms())"
   ]
  },
  {
   "cell_type": "code",
   "execution_count": 3,
   "id": "ca2d3459-3694-43d9-a2a8-d67772ffddd1",
   "metadata": {},
   "outputs": [
    {
     "name": "stdout",
     "output_type": "stream",
     "text": [
      "True\n",
      "2603 62 2256 24 261\n"
     ]
    }
   ],
   "source": [
    "## Test splitting\n",
    "lig_mol = oechem.OEGraphMol()\n",
    "prot_mol = oechem.OEGraphMol()\n",
    "water_mol = oechem.OEGraphMol()\n",
    "oth_mol = oechem.OEGraphMol()\n",
    "\n",
    "## Make splitting split out covalent ligands\n",
    "## TODO: look into different covalent-related options here\n",
    "opts = oechem.OESplitMolComplexOptions()\n",
    "opts.SetSplitCovalent(True)\n",
    "opts.SetSplitCovalentCofactors(True)\n",
    "print(\n",
    "    oechem.OESplitMolComplex(lig_mol, prot_mol, water_mol, oth_mol, complex_mol)\n",
    ")\n",
    "\n",
    "print(\n",
    "    complex_mol.NumAtoms(),\n",
    "    lig_mol.NumAtoms(),\n",
    "    prot_mol.NumAtoms(),\n",
    "    water_mol.NumAtoms(),\n",
    "    oth_mol.NumAtoms(),\n",
    ")"
   ]
  },
  {
   "cell_type": "code",
   "execution_count": 4,
   "id": "19bef282-9d06-4fb7-82d7-e992919bdf02",
   "metadata": {},
   "outputs": [
    {
     "name": "stdout",
     "output_type": "stream",
     "text": [
      "2832\n",
      "True\n",
      "2832 34 2316 18 464\n"
     ]
    }
   ],
   "source": [
    "## Load ref PDB molecule\n",
    "ref_fn = \"input_pdbs/reference.pdb\"\n",
    "ref_complex_mol = oechem.OEGraphMol()\n",
    "ifs.open(ref_fn)\n",
    "oechem.OEReadMolecule(ifs, ref_complex_mol)\n",
    "ifs.close()\n",
    "print(ref_complex_mol.NumAtoms())\n",
    "\n",
    "## Perform splitting for ref\n",
    "ref_lig_mol = oechem.OEGraphMol()\n",
    "ref_prot_mol = oechem.OEGraphMol()\n",
    "ref_water_mol = oechem.OEGraphMol()\n",
    "ref_oth_mol = oechem.OEGraphMol()\n",
    "print(\n",
    "    oechem.OESplitMolComplex(\n",
    "        ref_lig_mol, ref_prot_mol, ref_water_mol, ref_oth_mol, ref_complex_mol\n",
    "    )\n",
    ")\n",
    "print(\n",
    "    ref_complex_mol.NumAtoms(),\n",
    "    ref_lig_mol.NumAtoms(),\n",
    "    ref_prot_mol.NumAtoms(),\n",
    "    ref_water_mol.NumAtoms(),\n",
    "    ref_oth_mol.NumAtoms(),\n",
    ")"
   ]
  },
  {
   "cell_type": "code",
   "execution_count": 5,
   "id": "5c8de739-fa8b-450d-aa36-485e2e767b74",
   "metadata": {},
   "outputs": [
    {
     "name": "stdout",
     "output_type": "stream",
     "text": [
      "RMSD: 1.8288194400350355\n",
      "True\n"
     ]
    }
   ],
   "source": [
    "## Align new protein to ref\n",
    "aln_res = oespruce.OESuperposeResults()\n",
    "superpos = oespruce.OESuperpose()\n",
    "superpos.SetupRef(ref_prot_mol)\n",
    "superpos.Superpose(aln_res, prot_mol)\n",
    "print(f\"RMSD: {aln_res.GetRMSD()}\")\n",
    "\n",
    "prot_mol_aligned = prot_mol.CreateCopy()\n",
    "print(aln_res.Transform(prot_mol_aligned))\n",
    "\n",
    "## Save new aligned molecule for inspection\n",
    "out_fn = \"test/5WKK_split_aligned.pdb\"\n",
    "ofs = oechem.oemolostream()\n",
    "ofs.SetFlavor(oechem.OEFormat_PDB, oechem.OEOFlavor_PDB_Default)\n",
    "ofs.open(out_fn)\n",
    "oechem.OEWriteMolecule(ofs, prot_mol_aligned)\n",
    "ofs.close()"
   ]
  },
  {
   "cell_type": "markdown",
   "id": "a1e21cc9-12ed-4897-86b0-c15e5acf07ed",
   "metadata": {},
   "source": [
    "# Load in new ligand and create DesignUnit"
   ]
  },
  {
   "cell_type": "code",
   "execution_count": 6,
   "id": "a53d8ccb-cab2-4897-b538-9b1ef8bf60bb",
   "metadata": {},
   "outputs": [
    {
     "name": "stdout",
     "output_type": "stream",
     "text": [
      "20\n",
      "20\n"
     ]
    }
   ],
   "source": [
    "## Load ligand molecule\n",
    "sdf_fn = f\"fragalysis/aligned/Mpro-P2007_0A/Mpro-P2007_0A.sdf\"\n",
    "ifs = oechem.oemolistream()\n",
    "ifs.SetFlavor(\n",
    "    oechem.OEFormat_SDF,\n",
    "    oechem.OEIFlavor_SDF_Default,\n",
    ")\n",
    "ifs.open(sdf_fn)\n",
    "coords_mol = oechem.OEGraphMol()\n",
    "oechem.OEReadMolecule(ifs, coords_mol)\n",
    "ifs.close()\n",
    "print(coords_mol.NumAtoms())\n",
    "\n",
    "## Load CDD compound tracker\n",
    "compound_df = pandas.read_csv(\n",
    "    \"fragalysis/extra_files/Mpro_compound_tracker_csv.csv\"\n",
    ")\n",
    "\n",
    "## Get SMILES from compound tracker\n",
    "idx = compound_df[\"Dataset\"] == \"Mpro-P2007\"\n",
    "smiles = compound_df.loc[idx, \"SMILES\"].values[0]\n",
    "new_lig_mol = oechem.OEGraphMol()\n",
    "oechem.OESmilesToMol(new_lig_mol, smiles)\n",
    "print(new_lig_mol.NumAtoms())\n",
    "\n",
    "## Reorder the atoms and bonds so the iterate together\n",
    "oechem.OECanonicalOrderAtoms(coords_mol)\n",
    "oechem.OECanonicalOrderBonds(coords_mol)\n",
    "oechem.OECanonicalOrderAtoms(new_lig_mol)\n",
    "oechem.OECanonicalOrderBonds(new_lig_mol)"
   ]
  },
  {
   "cell_type": "code",
   "execution_count": 7,
   "id": "eda7e1ee-0fd5-4afb-81a0-b39855c9a93b",
   "metadata": {},
   "outputs": [
    {
     "data": {
      "text/plain": [
       "True"
      ]
     },
     "execution_count": 7,
     "metadata": {},
     "output_type": "execute_result"
    }
   ],
   "source": [
    "## Copy coordinates from the SDF-loaded mol into the SMILES-generated one\n",
    "## Build new coordinate dict with the proper numbering for the\n",
    "##  smiles-based molecule\n",
    "new_lig_mol_coords = {}\n",
    "coords_mol_coords = coords_mol.GetCoords()\n",
    "for a1, a2 in zip(new_lig_mol.GetAtoms(), coords_mol.GetAtoms()):\n",
    "    idx1 = a1.GetIdx()\n",
    "    idx2 = a2.GetIdx()\n",
    "    new_lig_mol_coords[idx2] = coords_mol_coords[idx1]\n",
    "new_lig_mol.SetCoords(new_lig_mol_coords)"
   ]
  },
  {
   "cell_type": "markdown",
   "id": "3d4e5759-af75-4f6d-ae26-b5d80aeee8bd",
   "metadata": {},
   "source": [
    "# Brief aside to see if transferring coordinates works\n",
    "(run to here)"
   ]
  },
  {
   "cell_type": "code",
   "execution_count": null,
   "id": "700e1027-6d82-4b0b-bd4d-901539cff66f",
   "metadata": {},
   "outputs": [],
   "source": [
    "from openeye import oedepict\n",
    "\n",
    "oedepict.OEPrepareDepiction(new_lig_mol_test)\n",
    "oedepict.OEPrepareDepiction(smiles_mol_test)\n",
    "width, height = 600, 600\n",
    "\n",
    "opts = oedepict.OE2DMolDisplayOptions(width, height, oedepict.OEScale_AutoScale)\n",
    "opts.SetAtomPropertyFunctor(oedepict.OEDisplayAtomIdx())\n",
    "opts.SetAtomPropLabelFont(oedepict.OEFont(oechem.OEDarkGreen))\n",
    "\n",
    "disp = oedepict.OE2DMolDisplay(new_lig_mol_test, opts)\n",
    "oedepict.OERenderMolecule(\"test1.png\", disp)\n",
    "\n",
    "disp = oedepict.OE2DMolDisplay(smiles_mol_test, opts)\n",
    "oedepict.OERenderMolecule(\"test2.png\", disp)"
   ]
  },
  {
   "cell_type": "code",
   "execution_count": null,
   "id": "f58f4730-f2f0-4103-a388-8d13e54e9e84",
   "metadata": {},
   "outputs": [],
   "source": [
    "## Build new coordinate dict with the proper numbering for the\n",
    "##  smiles-based molecule\n",
    "smiles_mol_coords = {}\n",
    "new_lig_mol_coords = new_lig_mol_test.GetCoords()\n",
    "for a1, a2 in zip(new_lig_mol_test.GetAtoms(), smiles_mol_test.GetAtoms()):\n",
    "    idx1 = a1.GetIdx()\n",
    "    idx2 = a2.GetIdx()\n",
    "    smiles_mol_coords[idx2] = new_lig_mol_coords[idx1]\n",
    "smiles_mol_test.SetCoords(smiles_mol_coords)\n",
    "\n",
    "## Add Hs to both to be able to see double bonds in PDB\n",
    "print(oechem.OEAddExplicitHydrogens(new_lig_mol_test))\n",
    "print(oechem.OEAddExplicitHydrogens(smiles_mol_test))\n",
    "## Update H coordinates to be 3D (not sure why this is necessary,\n",
    "##  I think only for smiles_mol_test)\n",
    "print(oechem.OESet3DHydrogenGeom(new_lig_mol_test))\n",
    "print(oechem.OESet3DHydrogenGeom(smiles_mol_test))\n",
    "\n",
    "## Save both as PDB to load and see if it worked\n",
    "ofs = oechem.oemolostream()\n",
    "ofs.SetFlavor(oechem.OEFormat_PDB, oechem.OEOFlavor_PDB_Default)\n",
    "\n",
    "ofs.open(\"test/original_ligand.pdb\")\n",
    "oechem.OEWriteMolecule(ofs, new_lig_mol_test)\n",
    "ofs.close()\n",
    "\n",
    "ofs.open(\"test/coord_copied_ligand.pdb\")\n",
    "oechem.OEWriteMolecule(ofs, smiles_mol_test)\n",
    "ofs.close()\n",
    "## It works!"
   ]
  },
  {
   "cell_type": "markdown",
   "id": "4130f9ae-ea9d-473d-bd32-f9bf12a0ca03",
   "metadata": {},
   "source": [
    "# End aside\n",
    "(run from here)"
   ]
  },
  {
   "cell_type": "code",
   "execution_count": 8,
   "id": "a8de7907-375e-4684-98d7-60d017a9661a",
   "metadata": {},
   "outputs": [
    {
     "name": "stdout",
     "output_type": "stream",
     "text": [
      "True\n",
      "True\n",
      "True\n"
     ]
    }
   ],
   "source": [
    "## Add explicit Hs to protein and new ligand to prep\n",
    "prot_mol_prep = prot_mol_aligned.CreateCopy()\n",
    "new_lig_prep = new_lig_mol.CreateCopy()\n",
    "print(oechem.OEAddExplicitHydrogens(prot_mol_prep))\n",
    "print(oechem.OEAddExplicitHydrogens(new_lig_prep))\n",
    "## Update H coordinates to be 3D (not sure why this is necessary)\n",
    "print(oechem.OESet3DHydrogenGeom(new_lig_prep))\n",
    "\n",
    "## Re-reorder the atoms and bonds\n",
    "oechem.OECanonicalOrderAtoms(new_lig_prep)\n",
    "oechem.OECanonicalOrderBonds(new_lig_prep)"
   ]
  },
  {
   "cell_type": "code",
   "execution_count": 9,
   "id": "92e3417f-9032-4087-b533-b88fb34008aa",
   "metadata": {},
   "outputs": [
    {
     "name": "stdout",
     "output_type": "stream",
     "text": [
      "True\n",
      "True True\n"
     ]
    },
    {
     "name": "stderr",
     "output_type": "stream",
     "text": [
      "Warning: There was a problem building some missing pieces, built as much as was possible\n",
      "Warning: Failed.For LIG, could not update 'c1ccn2c(c1)ncc2NC(=O)Cc3cccc(c3)Cl' to match 'c1ccc-2c(c1)Cc3c2[nH]nc3c4ccncc4'\n",
      "Warning: Failed.For LIG, could not update 'c1ccn2c(c1)ncc2NC(=O)Cc3cccc(c3)Cl' to match 'c1ccc-2c(c1)Cc3c2n[nH]c3c4ccncc4'\n",
      "   Falling back to charging ligand with OEMMFF94Charges\n"
     ]
    }
   ],
   "source": [
    "## Make the design unit and save\n",
    "du = oechem.OEDesignUnit()\n",
    "print(oespruce.OEMakeDesignUnit(du, prot_mol_prep, new_lig_prep))\n",
    "print(du.HasProtein(), du.HasLigand())\n",
    "du_out_fn = \"test/5WKK_new_lig.oedu\"\n",
    "if du.HasProtein() and du.HasLigand():\n",
    "    oechem.OEWriteDesignUnit(du_out_fn, du)"
   ]
  },
  {
   "cell_type": "code",
   "execution_count": 10,
   "id": "12421f1b-64f2-466f-9c70-b1cbb47fd089",
   "metadata": {},
   "outputs": [
    {
     "name": "stdout",
     "output_type": "stream",
     "text": [
      "True\n",
      "4582\n",
      "True\n",
      "32\n",
      "True\n",
      "4614\n"
     ]
    }
   ],
   "source": [
    "## Save protein + new ligand as PDB\n",
    "new_complex_mol = oechem.OEGraphMol()\n",
    "print(du.GetProtein(new_complex_mol))\n",
    "print(new_complex_mol.NumAtoms())\n",
    "print(du.GetLigand(new_complex_mol))\n",
    "print(new_complex_mol.NumAtoms())\n",
    "print(\n",
    "    du.GetComponents(\n",
    "        new_complex_mol,\n",
    "        oechem.OEDesignUnitComponents_Protein\n",
    "        | oechem.OEDesignUnitComponents_Ligand,\n",
    "    )\n",
    ")\n",
    "print(new_complex_mol.NumAtoms())\n",
    "ofs.open(\"test/5WKK_new_lig.pdb\")\n",
    "oechem.OEWriteMolecule(ofs, new_complex_mol)\n",
    "ofs.close()"
   ]
  },
  {
   "cell_type": "markdown",
   "id": "9fac44b7-6942-41aa-86e2-7e15034645d8",
   "metadata": {},
   "source": [
    "# Re-docking of new ligand"
   ]
  },
  {
   "cell_type": "code",
   "execution_count": 11,
   "id": "26458949-6346-43cb-8414-93d6f7010b0b",
   "metadata": {
    "scrolled": true,
    "tags": []
   },
   "outputs": [
    {
     "name": "stderr",
     "output_type": "stream",
     "text": [
      "/home/kaminowb/miniconda3/envs/structure_ml/lib/python3.9/site-packages/numpy/core/getlimits.py:499: UserWarning: The value of the smallest subnormal for <class 'numpy.float64'> type is zero.\n",
      "  setattr(self, word, getattr(machar, word).flat[0])\n",
      "/home/kaminowb/miniconda3/envs/structure_ml/lib/python3.9/site-packages/numpy/core/getlimits.py:89: UserWarning: The value of the smallest subnormal for <class 'numpy.float64'> type is zero.\n",
      "  return self._float_to_str(self.smallest_subnormal)\n",
      "/home/kaminowb/miniconda3/envs/structure_ml/lib/python3.9/site-packages/numpy/core/getlimits.py:499: UserWarning: The value of the smallest subnormal for <class 'numpy.float32'> type is zero.\n",
      "  setattr(self, word, getattr(machar, word).flat[0])\n",
      "/home/kaminowb/miniconda3/envs/structure_ml/lib/python3.9/site-packages/numpy/core/getlimits.py:89: UserWarning: The value of the smallest subnormal for <class 'numpy.float32'> type is zero.\n",
      "  return self._float_to_str(self.smallest_subnormal)\n"
     ]
    },
    {
     "name": "stdout",
     "output_type": "stream",
     "text": [
      "None\n"
     ]
    }
   ],
   "source": [
    "from kinoml.docking.OEDocking import pose_molecules\n",
    "\n",
    "# score_pose = True\n",
    "docked_molecules = pose_molecules(du, [new_lig_prep])\n",
    "print(docked_molecules)"
   ]
  },
  {
   "cell_type": "code",
   "execution_count": 12,
   "id": "13009443-646d-41db-b773-436ddc8105a2",
   "metadata": {},
   "outputs": [
    {
     "name": "stdout",
     "output_type": "stream",
     "text": [
      "False\n"
     ]
    }
   ],
   "source": [
    "mol = new_lig_prep.CreateCopy()\n",
    "# print(oechem.OEClearChiralPerception(mol))\n",
    "# print(oechem.OEPerceiveChiral(mol, True))\n",
    "print(oechem.OE3DToAtomStereo(mol))"
   ]
  },
  {
   "cell_type": "code",
   "execution_count": 13,
   "id": "0248bd1c-ba77-4691-896b-6a2b2429980c",
   "metadata": {},
   "outputs": [
    {
     "name": "stdout",
     "output_type": "stream",
     "text": [
      "False\n",
      "None\n",
      "False\n",
      "True\n",
      "True\n"
     ]
    }
   ],
   "source": [
    "print(mol.HasPerceived(oechem.OEPerceived_Chiral))\n",
    "print(oechem.OEClearChiralPerception(mol))\n",
    "print(mol.HasPerceived(oechem.OEPerceived_Chiral))\n",
    "print(oechem.OEPerceiveChiral(mol))\n",
    "print(mol.HasPerceived(oechem.OEPerceived_Chiral))\n",
    "for a in mol.GetAtoms():\n",
    "    if a.IsChiral():\n",
    "        print(a)"
   ]
  },
  {
   "cell_type": "code",
   "execution_count": 14,
   "id": "3273c44f-462d-4b80-8a59-fef0a9f8f513",
   "metadata": {},
   "outputs": [
    {
     "name": "stdout",
     "output_type": "stream",
     "text": [
      " 0 C 1 True\n",
      " 1 C 1 True\n",
      " 2 C 1 True\n",
      " 3 C 1 True\n",
      " 4 C 1 True\n",
      " 5 C 1 True\n",
      " 6 C 1 True\n",
      " 7 C 1 True\n",
      " 8 C 1 True\n",
      " 9 C 2 False\n",
      "10 C 0 True\n",
      "11 C 0 True\n",
      "12 C 0 True\n",
      "13 C 0 True\n",
      "14 C 0 False\n",
      "15 N 0 True\n",
      "16 N 1 False\n",
      "17 N 0 True\n",
      "18 O 0 False\n",
      "19Cl 0 False\n"
     ]
    }
   ],
   "source": [
    "test_mol = new_lig_mol.CreateCopy()\n",
    "oechem.OEAssignAromaticFlags(test_mol)\n",
    "for a in test_mol.GetAtoms():\n",
    "    print(a, a.GetImplicitHCount(), a.IsAromatic())"
   ]
  }
 ],
 "metadata": {
  "kernelspec": {
   "display_name": "Python 3 (ipykernel)",
   "language": "python",
   "name": "python3"
  },
  "language_info": {
   "codemirror_mode": {
    "name": "ipython",
    "version": 3
   },
   "file_extension": ".py",
   "mimetype": "text/x-python",
   "name": "python",
   "nbconvert_exporter": "python",
   "pygments_lexer": "ipython3",
   "version": "3.9.13"
  }
 },
 "nbformat": 4,
 "nbformat_minor": 5
}
