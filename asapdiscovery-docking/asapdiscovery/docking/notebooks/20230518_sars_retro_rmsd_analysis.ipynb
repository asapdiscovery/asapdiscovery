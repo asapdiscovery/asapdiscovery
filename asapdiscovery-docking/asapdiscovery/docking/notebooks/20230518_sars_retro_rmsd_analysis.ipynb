{
 "cells": [
  {
   "cell_type": "markdown",
   "id": "f87ce9e5-ea3c-4dfd-bdd7-18785449b50a",
   "metadata": {},
   "source": [
    "# Imports"
   ]
  },
  {
   "cell_type": "code",
   "execution_count": null,
   "id": "b3cc5600-4d63-47aa-8046-e2f228dc6fc9",
   "metadata": {},
   "outputs": [],
   "source": [
    "from pathlib import Path\n",
    "import pandas as pd, numpy as np\n",
    "import plotly.express as px\n",
    "from datetime import datetime"
   ]
  },
  {
   "cell_type": "code",
   "execution_count": null,
   "id": "ac9990df-bd89-4fc9-be58-d92917c8ef50",
   "metadata": {},
   "outputs": [],
   "source": [
    "main_path = Path(\"/Users/alexpayne/lilac-mount-point/asap-datasets/retro_docking/sars_fragalysis_retrospective/20230411\")"
   ]
  },
  {
   "cell_type": "code",
   "execution_count": null,
   "id": "ac00d81f-b9bb-4ba7-bb32-73fe0f4b4faf",
   "metadata": {},
   "outputs": [],
   "source": [
    "csv = main_path/\"all_results_cleaned.csv\""
   ]
  },
  {
   "cell_type": "code",
   "execution_count": null,
   "id": "309884e8-8198-48c6-a0c6-e6560d53b53a",
   "metadata": {},
   "outputs": [],
   "source": [
    "csv.exists()"
   ]
  },
  {
   "cell_type": "markdown",
   "id": "019a70f8-4cac-470b-acf3-f4be2312e376",
   "metadata": {},
   "source": [
    "## load as pandas df"
   ]
  },
  {
   "cell_type": "code",
   "execution_count": null,
   "id": "f90fe0ed-0423-490e-8295-972c617388e3",
   "metadata": {},
   "outputs": [],
   "source": [
    "df = pd.read_csv(csv, index_col=0)"
   ]
  },
  {
   "cell_type": "code",
   "execution_count": null,
   "id": "efae2ec6-a232-452b-8f52-7ab6ecec9638",
   "metadata": {},
   "outputs": [],
   "source": [
    "df.head()"
   ]
  },
  {
   "cell_type": "code",
   "execution_count": null,
   "id": "39a0429c-d31b-417e-98e3-3ca8c340061e",
   "metadata": {},
   "outputs": [],
   "source": []
  },
  {
   "cell_type": "markdown",
   "id": "35d0fb66-cdc5-4a4f-a278-109271186056",
   "metadata": {},
   "source": [
    "# Filter out only P structures"
   ]
  },
  {
   "cell_type": "code",
   "execution_count": null,
   "id": "225f2938-f83c-4870-90ab-7b584729b882",
   "metadata": {},
   "outputs": [],
   "source": [
    "p_df = df[(df.Complex_ID.apply(lambda x: \"Mpro-P\" in x)) & (df.Compound_Source.apply(lambda x: \"Mpro-P\" in x))]"
   ]
  },
  {
   "cell_type": "code",
   "execution_count": null,
   "id": "b3c0d29b-deac-4cc4-a308-21c676a01d32",
   "metadata": {},
   "outputs": [],
   "source": [
    "len(p_df.Compound_ID.unique())"
   ]
  },
  {
   "cell_type": "code",
   "execution_count": null,
   "id": "74524ae6-7176-482e-a924-d5f903331e24",
   "metadata": {},
   "outputs": [],
   "source": [
    "p_df"
   ]
  },
  {
   "cell_type": "markdown",
   "id": "b58386f0-b1dc-4fe4-8450-93b047f80a4b",
   "metadata": {},
   "source": [
    "# Iterate through POSIT Scores"
   ]
  },
  {
   "cell_type": "code",
   "execution_count": null,
   "id": "8eafce19-884c-4315-bf29-1acef9f098d4",
   "metadata": {},
   "outputs": [],
   "source": [
    "posit_scores = np.linspace(0,1,10)"
   ]
  },
  {
   "cell_type": "code",
   "execution_count": null,
   "id": "7a2e4b5a-df02-45bd-8b54-81e6affd3231",
   "metadata": {},
   "outputs": [],
   "source": [
    "for score in posit_scores:\n",
    "    print(len(p_df[p_df.POSIT >= score]))"
   ]
  },
  {
   "cell_type": "markdown",
   "id": "6ff5b378-cbb3-4184-a443-e9b3603167bd",
   "metadata": {},
   "source": [
    "## i'd like to plot the % of compounds for which there is at least 1 structure with RMSD < 1 against the posit score"
   ]
  },
  {
   "cell_type": "code",
   "execution_count": null,
   "id": "441e0fe6-3533-4733-b2a1-84bcf68cd58d",
   "metadata": {},
   "outputs": [],
   "source": [
    "sorted_df = filtered_df.sort_values(\n",
    "            sort_list, ascending=[True] + score_ascending\n",
    "        )\n",
    "\n",
    "        # group by compound id and return the top row for each group\n",
    "        g = sorted_df.groupby(\"Compound_ID\")\n",
    "        self.best_df = g.head(1)"
   ]
  },
  {
   "cell_type": "code",
   "execution_count": null,
   "id": "81f70413-1bca-4c06-a36a-52f401766542",
   "metadata": {},
   "outputs": [],
   "source": [
    "selected = p_df.sort_values([\"POSIT\"], ascending=[False]).groupby(\"Compound_ID\").head(3)"
   ]
  },
  {
   "cell_type": "code",
   "execution_count": null,
   "id": "fbd27b76-b6f4-47d6-a67e-95c35b254ff8",
   "metadata": {},
   "outputs": [],
   "source": [
    "sorted_df = p_df.sort_values([\"POSIT\"], ascending=[False])\n",
    "perc_good = []\n",
    "for score in posit_scores:\n",
    "    selected = sorted_df[sorted_df.POSIT <= score].groupby(\"Compound_ID\").head(1)\n",
    "    print(len(selected), score)\n",
    "    perc_good.append(selected.RMSD.apply(lambda x: x <=2).sum() / len(selected))"
   ]
  },
  {
   "cell_type": "code",
   "execution_count": null,
   "id": "4e6ea7b8-f21c-48cd-ae4b-5108dd633082",
   "metadata": {},
   "outputs": [],
   "source": [
    "px.scatter(x=posit_scores, y=perc_good)"
   ]
  },
  {
   "cell_type": "code",
   "execution_count": null,
   "id": "157a3870-e40f-4de2-ab37-13cc81d30aaf",
   "metadata": {},
   "outputs": [],
   "source": [
    "def calculate_perc_good(n):\n",
    "    sorted_df = p_df.sort_values([\"POSIT\"], ascending=[False])\n",
    "    perc_good = []\n",
    "    for score in posit_scores:\n",
    "        selected = sorted_df[sorted_df.POSIT <= score].groupby(\"Compound_ID\").head(1)\n",
    "        print(len(selected), score)\n",
    "        perc_good.append(selected.RMSD.apply(lambda x: x <=n).sum() / len(selected))\n",
    "    return perc_good"
   ]
  },
  {
   "cell_type": "code",
   "execution_count": null,
   "id": "82e09393-f5ca-46bd-bff9-eafecc4cd6d5",
   "metadata": {},
   "outputs": [],
   "source": [
    "n1 = calculate_perc_good(1)\n",
    "n2 = calculate_perc_good(2)\n",
    "n3 = calculate_perc_good(3)"
   ]
  },
  {
   "cell_type": "code",
   "execution_count": null,
   "id": "420582e8-4a6b-40db-8299-f6e638d2c319",
   "metadata": {},
   "outputs": [],
   "source": [
    "df = pd.DataFrame({\"POSIT\": posit_scores, \"1Å\": n1, \"2Å\": n2, \"3Å\": n3})"
   ]
  },
  {
   "cell_type": "code",
   "execution_count": null,
   "id": "674d9953-2c9a-40a4-bc5b-4fab02c2473f",
   "metadata": {},
   "outputs": [],
   "source": [
    "tidy_df = df.melt(id_vars = \"POSIT\")"
   ]
  },
  {
   "cell_type": "code",
   "execution_count": null,
   "id": "4caaf73d-f01f-4104-bdc0-3ebab4cfdc86",
   "metadata": {},
   "outputs": [],
   "source": [
    "tidy_df.columns = [\"POSIT\", \"Cutoff\", \"Percentage\"]"
   ]
  },
  {
   "cell_type": "code",
   "execution_count": null,
   "id": "4543a5e3-a3d1-471b-9980-369e63f38785",
   "metadata": {},
   "outputs": [],
   "source": [
    "fig = px.scatter(tidy_df, x=\"POSIT\", y=\"Percentage\", color = \"Cutoff\")"
   ]
  },
  {
   "cell_type": "code",
   "execution_count": null,
   "id": "38321dc5-1790-4407-b4a1-d37915622b62",
   "metadata": {},
   "outputs": [],
   "source": [
    "fig.show()"
   ]
  },
  {
   "cell_type": "code",
   "execution_count": null,
   "id": "2b88e72c-07bb-4d2f-83b6-764fd942dc3f",
   "metadata": {},
   "outputs": [],
   "source": [
    "fig.write_image(\"../../../../figures/20230518_sars_retrospective_POSIT_RMSD.png\")"
   ]
  },
  {
   "cell_type": "code",
   "execution_count": null,
   "id": "6b6d3d06-2430-445c-92d4-f4a36fa02cd2",
   "metadata": {},
   "outputs": [],
   "source": []
  }
 ],
 "metadata": {
  "kernelspec": {
   "display_name": "Python 3 (ipykernel)",
   "language": "python",
   "name": "python3"
  },
  "language_info": {
   "codemirror_mode": {
    "name": "ipython",
    "version": 3
   },
   "file_extension": ".py",
   "mimetype": "text/x-python",
   "name": "python",
   "nbconvert_exporter": "python",
   "pygments_lexer": "ipython3",
   "version": "3.9.16"
  }
 },
 "nbformat": 4,
 "nbformat_minor": 5
}
