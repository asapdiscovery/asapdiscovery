{
 "cells": [
  {
   "cell_type": "markdown",
   "metadata": {},
   "source": [
    "# Imports"
   ]
  },
  {
   "cell_type": "code",
   "execution_count": null,
   "metadata": {},
   "outputs": [],
   "source": [
    "from pathlib import Path\n",
    "import pandas as pd, numpy as np\n",
    "import plotly.express as px\n",
    "from datetime import datetime\n",
    "from tqdm import tqdm"
   ]
  },
  {
   "cell_type": "code",
   "execution_count": null,
   "metadata": {},
   "outputs": [],
   "source": [
    "main_path = Path(\"/Users/alexpayne/Scientific_Projects/mers-drug-discovery/sars2-retrospective-analysis\")"
   ]
  },
  {
   "cell_type": "code",
   "execution_count": null,
   "metadata": {},
   "outputs": [],
   "source": [
    "csv = main_path / \"results_with_structure_dates.csv\""
   ]
  },
  {
   "cell_type": "code",
   "execution_count": null,
   "metadata": {},
   "outputs": [],
   "source": [
    "csv.exists()"
   ]
  },
  {
   "cell_type": "markdown",
   "metadata": {},
   "source": [
    "## load as pandas df"
   ]
  },
  {
   "cell_type": "code",
   "execution_count": null,
   "metadata": {},
   "outputs": [],
   "source": [
    "df = pd.read_csv(csv, index_col=0)"
   ]
  },
  {
   "cell_type": "code",
   "execution_count": null,
   "metadata": {},
   "outputs": [],
   "source": [
    "df.head()"
   ]
  },
  {
   "cell_type": "markdown",
   "metadata": {},
   "source": [
    "# Load Molecules"
   ]
  },
  {
   "cell_type": "code",
   "execution_count": null,
   "metadata": {},
   "outputs": [],
   "source": [
    "from asapdiscovery.data.openeye import load_openeye_sdfs, oechem"
   ]
  },
  {
   "cell_type": "code",
   "execution_count": null,
   "metadata": {},
   "outputs": [],
   "source": [
    "combined_sdf = main_path / \"Mpro_combined_labeled.sdf\""
   ]
  },
  {
   "cell_type": "code",
   "execution_count": null,
   "metadata": {},
   "outputs": [],
   "source": [
    "combined_sdf.exists()"
   ]
  },
  {
   "cell_type": "code",
   "execution_count": null,
   "metadata": {},
   "outputs": [],
   "source": [
    "mols = load_openeye_sdfs(str(combined_sdf))"
   ]
  },
  {
   "cell_type": "code",
   "execution_count": null,
   "metadata": {},
   "outputs": [],
   "source": [
    "mols[0].GetTitle()"
   ]
  },
  {
   "cell_type": "code",
   "execution_count": null,
   "metadata": {},
   "outputs": [],
   "source": [
    "len(df.Compound_ID.unique())"
   ]
  },
  {
   "cell_type": "code",
   "execution_count": null,
   "metadata": {},
   "outputs": [],
   "source": [
    "filtered_mols = [mol for mol in mols \n",
    "                if oechem.OEGetSDData(mol, \"Dataset\") in df.Structure_Source.unique()]"
   ]
  },
  {
   "cell_type": "code",
   "execution_count": null,
   "metadata": {},
   "outputs": [],
   "source": [
    "def get_n_to_n_tanimoto(mols, return_mtx=False):\n",
    "    from openeye import oeshape\n",
    "    from asapdiscovery.data.openeye import oechem\n",
    "    results_tuples = []\n",
    "    prep = oeshape.OEOverlapPrep()\n",
    "    func = oeshape.OEOverlapFunc()\n",
    "    results = oeshape.OEOverlapResults()\n",
    "    complex_ids = []\n",
    "    for reference in tqdm(mols):\n",
    "        prep.Prep(reference)\n",
    "        func.SetupRef(reference)\n",
    "        for fitmol in mols:\n",
    "            complex_ids.append(f\"{fitmol.GetTitle()}_{oechem.OEGetSDData(reference, 'Dataset')}\")\n",
    "            prep.Prep(fitmol)\n",
    "            func.Overlap(fitmol, results)\n",
    "            results_tuples.append(results.GetTanimotoCombo())\n",
    "    if return_mtx:\n",
    "        matrix = np.matrix(results_tuples)\n",
    "        mtx = matrix.reshape(len(mols), len(mols))\n",
    "    else:\n",
    "        df = pd.DataFrame({\"Complex_ID\":complex_ids, \"TanimotoCombo\":results_tuples})\n",
    "    return df"
   ]
  },
  {
   "cell_type": "code",
   "execution_count": null,
   "metadata": {},
   "outputs": [],
   "source": [
    "tc_df = get_n_to_n_tanimoto(filtered_mols)"
   ]
  },
  {
   "cell_type": "code",
   "execution_count": null,
   "metadata": {},
   "outputs": [],
   "source": [
    "tc_df.head()"
   ]
  },
  {
   "cell_type": "code",
   "execution_count": null,
   "metadata": {},
   "outputs": [],
   "source": [
    "df_with_tc = pd.merge(df, tc_df, on=\"Complex_ID\")"
   ]
  },
  {
   "cell_type": "code",
   "execution_count": null,
   "metadata": {},
   "outputs": [],
   "source": [
    "self_docked = df_with_tc[df_with_tc.Compound_Source == df_with_tc.Structure_Name]"
   ]
  },
  {
   "cell_type": "code",
   "execution_count": null,
   "metadata": {},
   "outputs": [],
   "source": [
    "sum(self_docked.TanimotoCombo != 2.0)"
   ]
  },
  {
   "cell_type": "markdown",
   "metadata": {},
   "source": [
    "## nice, all of the self docked molecules have a TC of 2.0"
   ]
  },
  {
   "cell_type": "markdown",
   "metadata": {},
   "source": [
    "# Now make the plot"
   ]
  },
  {
   "cell_type": "code",
   "execution_count": null,
   "metadata": {},
   "outputs": [],
   "source": [
    "def calculate_perc_good(df, cutoffs:list):\n",
    "    sorted_df = df.sort_values([\"POSIT\"], ascending=[False])\n",
    "    perc_good = []\n",
    "    n_selected = []\n",
    "    cutoff_list = []\n",
    "    date_list = []\n",
    "    n_structures = []\n",
    "    n_final_reference=[]\n",
    "    for cutoff in tqdm(cutoffs):\n",
    "        for date in dates:\n",
    "            selected = sorted_df[sorted_df.Structure_Date <= date]\n",
    "            top_posit_score = selected.groupby(\"Compound_ID\").head(1)\n",
    "            n_selected.append(len(top_posit_score))\n",
    "            perc_good.append(top_posit_score.RMSD.apply(lambda x: x <=cutoff).sum() / len(top_posit_score))\n",
    "            cutoff_list.append(cutoff)\n",
    "            date_list.append(date)\n",
    "            n_structures.append(len(selected.Structure_Source.unique()))\n",
    "            n_final_reference.append(len(top_posit_score.Structure_Source.unique()))\n",
    "    df = pd.DataFrame({\"Date\": date_list, \"Cutoff (Å)\": cutoff_list, \"Percentage\": perc_good, \"Number of Reference Structures\": n_structures, \"Number of Structures Used in Best Pose\": n_final_reference})\n",
    "    return df"
   ]
  },
  {
   "cell_type": "code",
   "execution_count": null,
   "metadata": {},
   "outputs": [],
   "source": [
    "def calculate_perc_good(n, posit_scores):\n",
    "    sorted_df = p_df.sort_values([\"POSIT\"], ascending=[False])\n",
    "    perc_good = []\n",
    "    for score in posit_scores:\n",
    "        selected = sorted_df[sorted_df.POSIT <= score].groupby(\"Compound_ID\").head(1)\n",
    "        print(len(selected), score)\n",
    "        perc_good.append(selected.RMSD.apply(lambda x: x <=n).sum() / len(selected))\n",
    "    return perc_good"
   ]
  },
  {
   "cell_type": "code",
   "execution_count": null,
   "metadata": {},
   "outputs": [],
   "source": [
    "def calculate_perc_good(df, tc_scores, cutoffs:list=[2.0]):\n",
    "    sorted_df = df.sort_values([\"POSIT\"], ascending=[False])\n",
    "    perc_good = []\n",
    "    n_selected = []\n",
    "    cutoff_list = []\n",
    "    tc_list = []\n",
    "    n_structures = []\n",
    "    n_final_reference=[]\n",
    "    for cutoff in tqdm(cutoffs):\n",
    "        for tc_score in tc_scores:\n",
    "            selected = sorted_df[sorted_df.TanimotoCombo <= tc_score]\n",
    "            top_posit_score = selected.groupby(\"Compound_ID\").head(1)\n",
    "            n_selected.append(len(top_posit_score))\n",
    "            perc_good.append(top_posit_score.RMSD.apply(lambda x: x <=cutoff).sum() / len(top_posit_score))\n",
    "            cutoff_list.append(cutoff)\n",
    "            tc_list.append(tc_score)\n",
    "            n_structures.append(len(selected.Structure_Source.unique()))\n",
    "            n_final_reference.append(len(top_posit_score.Structure_Source.unique()))\n",
    "    df = pd.DataFrame({\"TanimotoCombo\": tc_list, \"Cutoff (Å)\": cutoff_list, \"Percentage\": perc_good, \"Number of Reference Structures\": n_structures, \"Number of Structures Used in Best Pose\": n_final_reference})\n",
    "    return df"
   ]
  },
  {
   "cell_type": "code",
   "execution_count": null,
   "metadata": {},
   "outputs": [],
   "source": [
    "plotdata = calculate_perc_good(df_with_tc, tc_scores=np.linspace(0,2.0,50), cutoffs=[1,1.5,2])"
   ]
  },
  {
   "cell_type": "code",
   "execution_count": null,
   "metadata": {},
   "outputs": [],
   "source": [
    "plotdata[\"Cutoff (Å)\"] = plotdata[\"Cutoff (Å)\"].astype(str)"
   ]
  },
  {
   "cell_type": "code",
   "execution_count": null,
   "metadata": {},
   "outputs": [],
   "source": [
    "fig = px.scatter(plotdata, x=\"TanimotoCombo\", \n",
    "                 y=\"Percentage\", \n",
    "                 color=\"Cutoff (Å)\",\n",
    "                 category_orders={\"Cutoff (Å)\":[\"2.0\",\"1.5\", \"1.0\", ]},\n",
    "                 height=600, \n",
    "                 width=600,)\n",
    "fig.update_xaxes(title=\"TanimotoCombo Score of Query to Reference Molecule\", range=[0,2.1])\n",
    "fig.update_yaxes(title=\"Fraction of Posed Molecules with RMSD to Crystal Structure < Cutoff\", range=[0,1])\n",
    "fig.show()"
   ]
  },
  {
   "cell_type": "code",
   "execution_count": null,
   "metadata": {},
   "outputs": [],
   "source": [
    "fig.write_image(\"../../../../figures/20230525_sars_retrospective_TCscore.png\")"
   ]
  },
  {
   "cell_type": "code",
   "execution_count": null,
   "metadata": {},
   "outputs": [],
   "source": []
  }
 ],
 "metadata": {
  "kernelspec": {
   "display_name": "Python 3 (ipykernel)",
   "language": "python",
   "name": "python3"
  },
  "language_info": {
   "codemirror_mode": {
    "name": "ipython",
    "version": 3
   },
   "file_extension": ".py",
   "mimetype": "text/x-python",
   "name": "python",
   "nbconvert_exporter": "python",
   "pygments_lexer": "ipython3",
   "version": "3.9.16"
  }
 },
 "nbformat": 4,
 "nbformat_minor": 4
}
