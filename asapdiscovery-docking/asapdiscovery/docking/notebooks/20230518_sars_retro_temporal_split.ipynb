{
 "cells": [
  {
   "cell_type": "markdown",
   "metadata": {},
   "source": [
    "# Imports"
   ]
  },
  {
   "cell_type": "code",
   "execution_count": null,
   "metadata": {},
   "outputs": [],
   "source": [
    "from pathlib import Path\n",
    "import pandas as pd, numpy as np\n",
    "import plotly.express as px\n",
    "from datetime import datetime\n",
    "from tqdm import tqdm"
   ]
  },
  {
   "cell_type": "code",
   "execution_count": null,
   "metadata": {},
   "outputs": [],
   "source": [
    "main_path = Path(\"/Users/alexpayne/lilac-mount-point/asap-datasets/retro_docking/sars_fragalysis_retrospective/20230411\")"
   ]
  },
  {
   "cell_type": "code",
   "execution_count": null,
   "metadata": {},
   "outputs": [],
   "source": [
    "csv = main_path/\"all_results_cleaned.csv\""
   ]
  },
  {
   "cell_type": "code",
   "execution_count": null,
   "metadata": {},
   "outputs": [],
   "source": [
    "csv.exists()"
   ]
  },
  {
   "cell_type": "markdown",
   "metadata": {},
   "source": [
    "## load as pandas df"
   ]
  },
  {
   "cell_type": "code",
   "execution_count": null,
   "metadata": {},
   "outputs": [],
   "source": [
    "df = pd.read_csv(csv, index_col=0)"
   ]
  },
  {
   "cell_type": "code",
   "execution_count": null,
   "metadata": {},
   "outputs": [],
   "source": [
    "df.head()"
   ]
  },
  {
   "cell_type": "code",
   "execution_count": null,
   "metadata": {},
   "outputs": [],
   "source": []
  },
  {
   "cell_type": "markdown",
   "metadata": {},
   "source": [
    "# Filter out only P structures"
   ]
  },
  {
   "cell_type": "code",
   "execution_count": null,
   "metadata": {},
   "outputs": [],
   "source": [
    "p_df = df[(df.Complex_ID.apply(lambda x: \"Mpro-P\" in x)) & (df.Compound_Source.apply(lambda x: \"Mpro-P\" in x))]"
   ]
  },
  {
   "cell_type": "code",
   "execution_count": null,
   "metadata": {},
   "outputs": [],
   "source": [
    "len(p_df.Compound_ID.unique())"
   ]
  },
  {
   "cell_type": "code",
   "execution_count": null,
   "metadata": {},
   "outputs": [],
   "source": [
    "p_df[\"Structure_Name\"] = p_df.Structure_Source.apply(lambda x: x.split(\"_\")[0])"
   ]
  },
  {
   "cell_type": "markdown",
   "metadata": {},
   "source": [
    "# Load Mpro_Soaks.csv"
   ]
  },
  {
   "cell_type": "code",
   "execution_count": null,
   "metadata": {},
   "outputs": [],
   "source": [
    "mpro_soaks = Path(\"/Users/alexpayne/lilac-mount-point/asap-datasets/current/sars_00_fragalysis/extra_files/Mpro_soaks.csv\")"
   ]
  },
  {
   "cell_type": "code",
   "execution_count": null,
   "metadata": {},
   "outputs": [],
   "source": [
    "date_df = pd.read_csv(mpro_soaks)"
   ]
  },
  {
   "cell_type": "code",
   "execution_count": null,
   "metadata": {},
   "outputs": [],
   "source": [
    "ddf = date_df.loc[:, [\"Sample Name\", \"Data Collection Date\"]]"
   ]
  },
  {
   "cell_type": "code",
   "execution_count": null,
   "metadata": {},
   "outputs": [],
   "source": [
    "ddf.head()"
   ]
  },
  {
   "cell_type": "code",
   "execution_count": null,
   "metadata": {},
   "outputs": [],
   "source": [
    "def date_processor(date_string):\n",
    "    if type(date_string) == str and not date_string == 'None':\n",
    "        try:\n",
    "            return datetime.strptime(date_string, \"%Y-%m-%d %H:%M:%S\")\n",
    "        except ValueError:\n",
    "            return datetime.strptime(date_string, \"%d/%m/%Y %H:%M\")\n",
    "    else:\n",
    "        return None"
   ]
  },
  {
   "cell_type": "code",
   "execution_count": null,
   "metadata": {},
   "outputs": [],
   "source": [
    "ddf['Sanitized_Date'] = ddf[\"Data Collection Date\"].apply(date_processor)"
   ]
  },
  {
   "cell_type": "code",
   "execution_count": null,
   "metadata": {},
   "outputs": [],
   "source": [
    "ddf.columns = [\"Structure_Name\", \"Data_Collection_Date\", \"Structure_Date\"]"
   ]
  },
  {
   "cell_type": "code",
   "execution_count": null,
   "metadata": {},
   "outputs": [],
   "source": [
    "merged = pd.merge(p_df, ddf, on=\"Structure_Name\")"
   ]
  },
  {
   "cell_type": "code",
   "execution_count": null,
   "metadata": {},
   "outputs": [],
   "source": [
    "merged[\"Structure_Date\"] = merged.Structure_Date.apply(lambda x: x.date())"
   ]
  },
  {
   "cell_type": "code",
   "execution_count": null,
   "metadata": {},
   "outputs": [],
   "source": [
    "merged.sort_values(\"Structure_Date\")"
   ]
  },
  {
   "cell_type": "code",
   "execution_count": null,
   "metadata": {},
   "outputs": [],
   "source": [
    "merged.to_csv(csv.parent / \"results_with_structure_dates.csv\")"
   ]
  },
  {
   "cell_type": "markdown",
   "metadata": {},
   "source": [
    "# Implement a split"
   ]
  },
  {
   "cell_type": "code",
   "execution_count": null,
   "metadata": {},
   "outputs": [],
   "source": [
    "merged_csv = main_path / \"results_with_structure_dates.csv\"\n",
    "merged_csv.exists()"
   ]
  },
  {
   "cell_type": "code",
   "execution_count": null,
   "metadata": {},
   "outputs": [],
   "source": [
    "merged = pd.read_csv(merged_csv, index_col=0)"
   ]
  },
  {
   "cell_type": "code",
   "execution_count": null,
   "metadata": {},
   "outputs": [],
   "source": [
    "merged.head()"
   ]
  },
  {
   "cell_type": "code",
   "execution_count": null,
   "metadata": {},
   "outputs": [],
   "source": [
    "dates = merged.Structure_Date.unique()"
   ]
  },
  {
   "cell_type": "code",
   "execution_count": null,
   "metadata": {},
   "outputs": [],
   "source": [
    "dates.sort()"
   ]
  },
  {
   "cell_type": "code",
   "execution_count": null,
   "metadata": {},
   "outputs": [],
   "source": [
    "dates"
   ]
  },
  {
   "cell_type": "code",
   "execution_count": null,
   "metadata": {},
   "outputs": [],
   "source": [
    "def calculate_perc_good(df, cutoffs:list):\n",
    "    sorted_df = df.sort_values([\"POSIT\"], ascending=[False])\n",
    "    perc_good = []\n",
    "    n_selected = []\n",
    "    cutoff_list = []\n",
    "    date_list = []\n",
    "    n_structures = []\n",
    "    n_final_reference=[]\n",
    "    for cutoff in tqdm(cutoffs):\n",
    "        for date in dates:\n",
    "            selected = sorted_df[sorted_df.Structure_Date <= date]\n",
    "            top_posit_score = selected.groupby(\"Compound_ID\").head(1)\n",
    "            n_selected.append(len(top_posit_score))\n",
    "            perc_good.append(top_posit_score.RMSD.apply(lambda x: x <=cutoff).sum() / len(top_posit_score))\n",
    "            cutoff_list.append(cutoff)\n",
    "            date_list.append(date)\n",
    "            n_structures.append(len(selected.Structure_Source.unique()))\n",
    "            n_final_reference.append(len(top_posit_score.Structure_Source.unique()))\n",
    "    df = pd.DataFrame({\"Date\": date_list, \"Cutoff (Å)\": cutoff_list, \"Percentage\": perc_good, \"Number of Reference Structures\": n_structures, \"Number of Structures Used in Best Pose\": n_final_reference})\n",
    "    return df"
   ]
  },
  {
   "cell_type": "code",
   "execution_count": null,
   "metadata": {},
   "outputs": [],
   "source": [
    "perc_good_df = calculate_perc_good(merged, cutoffs=[0.5, 1, 1.5, 2, 3])"
   ]
  },
  {
   "cell_type": "code",
   "execution_count": null,
   "metadata": {},
   "outputs": [],
   "source": [
    "# perc_good_df[\"Cutoff (Å)\"] = perc_good_df[\"Cutoff (Å)\"].astype(str)"
   ]
  },
  {
   "cell_type": "code",
   "execution_count": null,
   "metadata": {},
   "outputs": [],
   "source": [
    "fig = px.scatter(perc_good_df, x=\"Date\", \n",
    "                 y=\"Percentage\", \n",
    "                 color=\"Cutoff (Å)\", \n",
    "                 height=800, \n",
    "                 width=800, \n",
    "                 color_continuous_scale=\"Portland\")"
   ]
  },
  {
   "cell_type": "code",
   "execution_count": null,
   "metadata": {},
   "outputs": [],
   "source": [
    "fig.update_yaxes(title=\"Percentage of Molecules with Selected Pose RMSD from True Pose < Cutoff \", range=[0,1])\n",
    "fig.update_xaxes(title=\"Cutoff Date for Inclusion of Reference Structures\")"
   ]
  },
  {
   "cell_type": "code",
   "execution_count": null,
   "metadata": {},
   "outputs": [],
   "source": []
  },
  {
   "cell_type": "code",
   "execution_count": null,
   "metadata": {},
   "outputs": [],
   "source": [
    "fig.write_image(\"../../../../figures/20230518_sars_retrospective_temporal_split_RMSD.png\")"
   ]
  },
  {
   "cell_type": "markdown",
   "metadata": {},
   "source": [
    "# Plot as a function of the number of structures"
   ]
  },
  {
   "cell_type": "code",
   "execution_count": null,
   "metadata": {},
   "outputs": [],
   "source": [
    "fig = px.scatter(perc_good_df, x=\"Number of Reference Structures\", \n",
    "                 y=\"Percentage\", \n",
    "                 color=\"Cutoff (Å)\", \n",
    "                 height=800, \n",
    "                 width=800, \n",
    "                 color_continuous_scale=\"Portland\")"
   ]
  },
  {
   "cell_type": "code",
   "execution_count": null,
   "metadata": {},
   "outputs": [],
   "source": [
    "fig.update_yaxes(title=\"Percentage of Molecules with Selected Pose RMSD from True Pose < Cutoff \", range=[0,1])\n",
    "fig.update_xaxes(title=\"Number of Reference Structures within Cutoff Date\")"
   ]
  },
  {
   "cell_type": "code",
   "execution_count": null,
   "metadata": {},
   "outputs": [],
   "source": [
    "fig.write_image(\"../../../../figures/20230518_sars_retrospective_temporal_split_RMSD_nreferences.png\")"
   ]
  },
  {
   "cell_type": "markdown",
   "metadata": {},
   "source": [
    "# Try to get them in the same plot"
   ]
  },
  {
   "cell_type": "code",
   "execution_count": null,
   "metadata": {},
   "outputs": [],
   "source": [
    "perc_good_df"
   ]
  },
  {
   "cell_type": "code",
   "execution_count": null,
   "metadata": {},
   "outputs": [],
   "source": [
    "from plotly.subplots import make_subplots"
   ]
  },
  {
   "cell_type": "code",
   "execution_count": null,
   "metadata": {},
   "outputs": [],
   "source": [
    "fig2 = px.line(perc_good_df[perc_good_df[\"Cutoff (Å)\"] == 0.5], x=\"Date\", y=\"Number of Reference Structures\")"
   ]
  },
  {
   "cell_type": "code",
   "execution_count": null,
   "metadata": {},
   "outputs": [],
   "source": [
    "fig2.update_traces(yaxis=\"y2\")"
   ]
  },
  {
   "cell_type": "code",
   "execution_count": null,
   "metadata": {},
   "outputs": [],
   "source": [
    "fig2.show()"
   ]
  },
  {
   "cell_type": "code",
   "execution_count": null,
   "metadata": {},
   "outputs": [],
   "source": [
    "fig = px.scatter(perc_good_df, x=\"Date\", \n",
    "                 y=\"Percentage\", \n",
    "                 color=\"Cutoff (Å)\", \n",
    "                 height=800, \n",
    "                 width=800, \n",
    "                 color_continuous_scale=\"Portland\")"
   ]
  },
  {
   "cell_type": "code",
   "execution_count": null,
   "metadata": {},
   "outputs": [],
   "source": [
    "fig.update_yaxes(title=\"Percentage of Molecules with Selected Pose RMSD from True Pose < Cutoff \", range=[0,1])\n",
    "fig.update_xaxes(title=\"Cutoff Date for Inclusion of Reference Structures\")"
   ]
  },
  {
   "cell_type": "code",
   "execution_count": null,
   "metadata": {},
   "outputs": [],
   "source": []
  },
  {
   "cell_type": "code",
   "execution_count": null,
   "metadata": {},
   "outputs": [],
   "source": [
    "subfig = make_subplots(specs=[[{\"secondary_y\": True}]])\n",
    "subfig.add_traces(fig.data + fig2.data)\n",
    "subfig.update_xaxes(title=\"Cutoff Date for Inclusion of Reference Structures\")\n",
    "subfig.layout.yaxis.title=\"Percentage of Molecules with Chosen Pose RMSD to Reference < Cutoff\"\n",
    "subfig.layout.yaxis2.title=\"Number of Reference Structures Included\"\n",
    "subfig.update_layout(coloraxis_colorbar=dict(title=\"Cutoff (Å)\"), colorscale={\"sequential\":\"Portland\"})\n",
    "subfig.layout.height=800\n",
    "subfig.layout.width=800\n",
    "subfig.show()"
   ]
  },
  {
   "cell_type": "code",
   "execution_count": null,
   "metadata": {},
   "outputs": [],
   "source": [
    "subfig.write_image(\"../../../../figures/20230518_sars_retrospective_temporal_split_combined.png\")"
   ]
  },
  {
   "cell_type": "markdown",
   "metadata": {},
   "source": [
    "# Also add the number of references actually used"
   ]
  },
  {
   "cell_type": "code",
   "execution_count": null,
   "metadata": {},
   "outputs": [],
   "source": [
    "fig3 = px.line(perc_good_df[perc_good_df[\"Cutoff (Å)\"] == 0.5], x=\"Date\", y=\"Number of Structures Used in Best Pose\")\n",
    "fig3.update_traces(yaxis=\"y2\")"
   ]
  },
  {
   "cell_type": "code",
   "execution_count": null,
   "metadata": {},
   "outputs": [],
   "source": [
    "subfig = make_subplots(specs=[[{\"secondary_y\": True}]])\n",
    "subfig.add_traces(fig.data + fig2.data + fig3.data)\n",
    "subfig.update_xaxes(title=\"Cutoff Date for Inclusion of Reference Structures\")\n",
    "subfig.layout.yaxis.title=\"Percentage of Molecules with Chosen Pose RMSD to Reference < Cutoff\"\n",
    "subfig.layout.yaxis2.title=\"Number of Reference Structures\"\n",
    "subfig.update_layout(coloraxis_colorbar=dict(title=\"Cutoff (Å)\"), \n",
    "                     colorscale={\"sequential\":\"Portland\"},)\n",
    "subfig.layout.height=800\n",
    "subfig.layout.width=800\n",
    "subfig.show()"
   ]
  },
  {
   "cell_type": "code",
   "execution_count": null,
   "metadata": {},
   "outputs": [],
   "source": [
    "subfig.write_image(\"../../../../figures/20230518_sars_retrospective_temporal_split_combined_v2.png\")"
   ]
  },
  {
   "cell_type": "markdown",
   "metadata": {},
   "source": [
    "# Make 2 level plot john suggests"
   ]
  },
  {
   "cell_type": "code",
   "execution_count": null,
   "metadata": {},
   "outputs": [],
   "source": [
    "stacked = make_subplots(rows=2, cols=1)"
   ]
  },
  {
   "cell_type": "code",
   "execution_count": null,
   "metadata": {},
   "outputs": [],
   "source": [
    "date_title = \"Cutoff Date for Inclusion of Reference Structures\"\n",
    "y_axis = \"Percentage of Molecules with Pose RMSD to Reference < 2.0Å\"\n",
    "y_axis2 = \"Number of Reference Structures\""
   ]
  },
  {
   "cell_type": "code",
   "execution_count": null,
   "metadata": {},
   "outputs": [],
   "source": [
    "fig1 = px.scatter(perc_good_df[perc_good_df[\"Cutoff (Å)\"] == 2.0], x=\"Date\", \n",
    "                 y=\"Percentage\", \n",
    "                 height=800, \n",
    "                 width=800, )\n"
   ]
  },
  {
   "cell_type": "code",
   "execution_count": null,
   "metadata": {},
   "outputs": [],
   "source": [
    "fig1.update_yaxes(title=y_axis, range=[0,1])\n",
    "fig1.update_xaxes(title=date_title)"
   ]
  },
  {
   "cell_type": "code",
   "execution_count": null,
   "metadata": {},
   "outputs": [],
   "source": [
    "figures = [\n",
    "            fig1, fig2\n",
    "    ]\n",
    "\n",
    "fig = make_subplots(rows=len(figures), cols=1) \n",
    "\n",
    "for i, figure in enumerate(figures):\n",
    "    for trace in range(len(figure[\"data\"])):\n",
    "        fig.append_trace(figure[\"data\"][trace], row=i+1, col=1)"
   ]
  },
  {
   "cell_type": "code",
   "execution_count": null,
   "metadata": {},
   "outputs": [],
   "source": [
    "fig.layout.yaxis.range=(0,1)\n",
    "fig.layout.title=y_axis\n",
    "fig.layout.yaxis.title=\"Percentage\"\n",
    "fig.layout.xaxis.title=date_title\n",
    "fig.layout.xaxis2.title=date_title\n",
    "fig.layout.yaxis2.title=y_axis2\n",
    "fig.layout.height=800\n",
    "fig.layout.width=800"
   ]
  },
  {
   "cell_type": "code",
   "execution_count": null,
   "metadata": {},
   "outputs": [],
   "source": [
    "fig.show()"
   ]
  },
  {
   "cell_type": "code",
   "execution_count": null,
   "metadata": {},
   "outputs": [],
   "source": [
    "fig.write_image(\"../../../../figures/20230518_sars_retrospective_temporal_split_combined_stacked.png\")"
   ]
  },
  {
   "cell_type": "code",
   "execution_count": null,
   "metadata": {},
   "outputs": [],
   "source": []
  }
 ],
 "metadata": {
  "kernelspec": {
   "display_name": "Python 3 (ipykernel)",
   "language": "python",
   "name": "python3"
  },
  "language_info": {
   "codemirror_mode": {
    "name": "ipython",
    "version": 3
   },
   "file_extension": ".py",
   "mimetype": "text/x-python",
   "name": "python",
   "nbconvert_exporter": "python",
   "pygments_lexer": "ipython3",
   "version": "3.9.16"
  }
 },
 "nbformat": 4,
 "nbformat_minor": 4
}
