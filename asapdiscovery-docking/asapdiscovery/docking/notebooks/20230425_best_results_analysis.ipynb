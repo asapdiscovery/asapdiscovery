{
 "cells": [
  {
   "cell_type": "markdown",
   "id": "5d0577e0-6b53-4f4f-b948-9d0acc5027f9",
   "metadata": {},
   "source": [
    "# Imports"
   ]
  },
  {
   "cell_type": "code",
   "execution_count": null,
   "id": "77aa194c-6d37-4587-b16d-bcb603ae6c08",
   "metadata": {},
   "outputs": [],
   "source": [
    "from asapdiscovery.dataviz.plotting import scatter_plot\n",
    "import pandas as pd\n",
    "import os"
   ]
  },
  {
   "cell_type": "code",
   "execution_count": null,
   "id": "1c06858b-11de-4d2f-8e76-492308f4dcdd",
   "metadata": {},
   "outputs": [],
   "source": [
    "input_dir = \"/Users/alexpayne/lilac-mount-point/asap-datasets/mers_fauxalysis/20230425_docked_for_fauxalysis/\""
   ]
  },
  {
   "cell_type": "code",
   "execution_count": null,
   "id": "7d46f5a1-8940-4a2a-80b5-ca107f91a2ab",
   "metadata": {},
   "outputs": [],
   "source": [
    "df = pd.read_csv(os.path.join(input_dir, \"best_results.csv\"))"
   ]
  },
  {
   "cell_type": "code",
   "execution_count": null,
   "id": "af1cf0bd-60ff-41ca-a414-a7afb4aa053a",
   "metadata": {},
   "outputs": [],
   "source": [
    "sum(df.Docked_File.isna())"
   ]
  },
  {
   "cell_type": "code",
   "execution_count": null,
   "id": "f966d2d9-de3d-49b6-a110-9a2167a52ee7",
   "metadata": {},
   "outputs": [],
   "source": [
    "sum(df.POSIT == -1)"
   ]
  },
  {
   "cell_type": "markdown",
   "id": "57cb8faa-c491-4b3e-ba20-e2ef0d79a8fe",
   "metadata": {},
   "source": [
    "# how many structures?"
   ]
  },
  {
   "cell_type": "code",
   "execution_count": null,
   "id": "71655728-c84a-4f78-a08a-1ab24f7c30a8",
   "metadata": {},
   "outputs": [],
   "source": [
    "structure_counts = df.groupby(\"Structure_Source\")[[\"Structure_Source\"]].count()"
   ]
  },
  {
   "cell_type": "code",
   "execution_count": null,
   "id": "de2cf7f7-b0c9-41cd-8ee7-ee1216c572c9",
   "metadata": {},
   "outputs": [],
   "source": [
    "structure_counts.columns = [\"Counts\"]"
   ]
  },
  {
   "cell_type": "code",
   "execution_count": null,
   "id": "5cf5ea1b-b7df-4be7-8119-6cedd3b33770",
   "metadata": {},
   "outputs": [],
   "source": [
    "import plotly.express as px"
   ]
  },
  {
   "cell_type": "code",
   "execution_count": null,
   "id": "ed3eddec-9ce9-4ef9-9834-59d2f113e929",
   "metadata": {},
   "outputs": [],
   "source": [
    "fig = px.bar(structure_counts)"
   ]
  },
  {
   "cell_type": "code",
   "execution_count": null,
   "id": "8b53a031-e70b-4c84-86df-c3e1bdf3284a",
   "metadata": {
    "tags": []
   },
   "outputs": [],
   "source": [
    "fig.show()"
   ]
  },
  {
   "cell_type": "code",
   "execution_count": null,
   "id": "79a52751-bed2-4b00-8259-52385f886343",
   "metadata": {},
   "outputs": [],
   "source": [
    "px.scatter(df, color=\"RMSD\", x=\"POSIT\", y=\"Chemgauss4\", hover_data=[\"Complex_ID\"], range_x=[0,1])"
   ]
  },
  {
   "cell_type": "markdown",
   "id": "863a1c9e-c2b3-4ccd-8679-f70945589488",
   "metadata": {},
   "source": [
    "## What is the MEAN RMSD and posit score for the \"best\" molecules?"
   ]
  },
  {
   "cell_type": "code",
   "execution_count": null,
   "id": "787328aa-dec7-430c-b96d-55d94fda2a77",
   "metadata": {},
   "outputs": [],
   "source": [
    "by_compound = pd.read_csv(os.path.join(input_dir, \"by_compound.csv\"))"
   ]
  },
  {
   "cell_type": "code",
   "execution_count": null,
   "id": "e7f460e0-98a4-4f6f-9bed-677077f9a7ed",
   "metadata": {},
   "outputs": [],
   "source": [
    "by_compound_filtered = by_compound.loc[:, [\"RMSD_Mean\", \"POSIT_R_Mean\", \"Compound_ID\"]]"
   ]
  },
  {
   "cell_type": "code",
   "execution_count": null,
   "id": "f2fd4358-5e28-4a45-8a3d-c6493fc7483d",
   "metadata": {},
   "outputs": [],
   "source": [
    "by_compound_filtered[\"POSIT_R_Mean\"] = 1-by_compound_filtered.POSIT_R_Mean"
   ]
  },
  {
   "cell_type": "code",
   "execution_count": null,
   "id": "613fba72-fef7-4084-993b-7ae28fd87ca7",
   "metadata": {},
   "outputs": [],
   "source": [
    "by_compound_filtered.columns = [\"RMSD_Mean\", \"POSIT_Mean\", \"Compound_ID\"]"
   ]
  },
  {
   "cell_type": "code",
   "execution_count": null,
   "id": "beaa99e7-ef20-459e-9cc5-83e635f56e3d",
   "metadata": {},
   "outputs": [],
   "source": [
    "by_compound_filtered"
   ]
  },
  {
   "cell_type": "code",
   "execution_count": null,
   "id": "04a2bbad-064d-4aa0-b9fb-82165f832019",
   "metadata": {},
   "outputs": [],
   "source": [
    "import numpy as np\n",
    "# df_extra = pd.merge(df, by_compound_filtered, on=\"Compound_ID\")\n",
    "df_extra = pd.merge(df, by_compound_filtered, on=\"Compound_ID\").replace(-1, np.nan)"
   ]
  },
  {
   "cell_type": "code",
   "execution_count": null,
   "id": "d5e592fb-a215-4888-80f1-ab13c58eb554",
   "metadata": {},
   "outputs": [],
   "source": [
    "px.scatter(df_extra, x=\"POSIT\", y=\"POSIT_Mean\", hover_data=[\"Compound_ID\", \"Structure_Source\"], color=\"Structure_Source\")"
   ]
  },
  {
   "cell_type": "code",
   "execution_count": null,
   "id": "acee6d1e-f361-4404-850b-bbe1303312bd",
   "metadata": {},
   "outputs": [],
   "source": [
    "fig = px.density_contour(df_extra, x=\"POSIT\", y=\"POSIT_Mean\")\n",
    "fig.update_traces(contours_coloring=\"fill\", contours_showlabels = True)\n",
    "fig.show()"
   ]
  },
  {
   "cell_type": "code",
   "execution_count": null,
   "id": "73ca0951-6cb6-46f0-a64e-3a0f24c52db9",
   "metadata": {},
   "outputs": [],
   "source": [
    "len(df)"
   ]
  },
  {
   "cell_type": "markdown",
   "id": "eef42d80-ff79-433e-b173-2720b357c72b",
   "metadata": {},
   "source": [
    "# Analyze v3"
   ]
  },
  {
   "cell_type": "code",
   "execution_count": null,
   "id": "cc1479f5-67d4-44fa-881c-f215fce5b133",
   "metadata": {},
   "outputs": [],
   "source": []
  },
  {
   "cell_type": "code",
   "execution_count": null,
   "id": "2e1da094-2cdd-470e-91db-6977a07a960d",
   "metadata": {},
   "outputs": [],
   "source": [
    "input_dir = \"/Users/alexpayne/lilac-mount-point/asap-datasets/mers_fauxalysis/20230425_docked_for_fauxalysis/csvs_v3/\""
   ]
  },
  {
   "cell_type": "code",
   "execution_count": null,
   "id": "59b05efa-c620-4e26-b0f4-856406eb21c0",
   "metadata": {},
   "outputs": [],
   "source": [
    "df = pd.read_csv(os.path.join(input_dir, \"best_results.csv\"))"
   ]
  },
  {
   "cell_type": "markdown",
   "id": "745da66c-d1ab-47b1-8bed-38c3f4f60bf8",
   "metadata": {},
   "source": [
    "## Red Flags"
   ]
  },
  {
   "cell_type": "code",
   "execution_count": null,
   "id": "7a907263-a891-4877-92d6-d5f0fdd88ca2",
   "metadata": {},
   "outputs": [],
   "source": [
    "sum(df.Docked_File.isna())"
   ]
  },
  {
   "cell_type": "code",
   "execution_count": null,
   "id": "a44947d2-c8fb-484c-b599-939d2400552c",
   "metadata": {},
   "outputs": [],
   "source": [
    "sum(df.POSIT == -1)"
   ]
  },
  {
   "cell_type": "code",
   "execution_count": null,
   "id": "a2e24c4c-846d-4e9b-aefb-afc3052e16ac",
   "metadata": {},
   "outputs": [],
   "source": [
    "sum(df.Clash == 1)"
   ]
  },
  {
   "cell_type": "code",
   "execution_count": null,
   "id": "a1205fe6-0582-4a2c-8af4-4c9b4578f615",
   "metadata": {},
   "outputs": [],
   "source": [
    "df.loc[df.Clash == 1, :]"
   ]
  },
  {
   "cell_type": "code",
   "execution_count": null,
   "id": "df06048f-d3d2-409d-a1ea-b257cabae7a2",
   "metadata": {},
   "outputs": [],
   "source": [
    "df.Clash.unique()"
   ]
  },
  {
   "cell_type": "markdown",
   "id": "9b9da1d4-997a-4492-a71b-89c45d1747f3",
   "metadata": {},
   "source": [
    "# how many structures?"
   ]
  },
  {
   "cell_type": "code",
   "execution_count": null,
   "id": "120b5a15-754e-43eb-963a-2bfd6df1c313",
   "metadata": {},
   "outputs": [],
   "source": [
    "structure_counts = df.groupby(\"Structure_Source\")[[\"Structure_Source\"]].count()"
   ]
  },
  {
   "cell_type": "code",
   "execution_count": null,
   "id": "f69e71f0-222a-4fa7-9045-23fd6073ba5c",
   "metadata": {},
   "outputs": [],
   "source": [
    "structure_counts.columns = [\"Counts\"]"
   ]
  },
  {
   "cell_type": "code",
   "execution_count": null,
   "id": "e9380c7f-5a6c-451d-bde1-fb54de2d9176",
   "metadata": {},
   "outputs": [],
   "source": [
    "import plotly.express as px"
   ]
  },
  {
   "cell_type": "code",
   "execution_count": null,
   "id": "5d79e0f0-e2b8-4e36-9489-40e54eae6eec",
   "metadata": {},
   "outputs": [],
   "source": [
    "fig = px.bar(structure_counts)"
   ]
  },
  {
   "cell_type": "code",
   "execution_count": null,
   "id": "9dc09be4-24bd-4479-843f-d03da5c05835",
   "metadata": {
    "tags": []
   },
   "outputs": [],
   "source": [
    "fig.show()"
   ]
  },
  {
   "cell_type": "code",
   "execution_count": null,
   "id": "98418eab-baca-4628-abd0-3bac7f5cadfd",
   "metadata": {},
   "outputs": [],
   "source": [
    "px.scatter(df, color=\"RMSD\", x=\"POSIT\", y=\"Chemgauss4\", hover_data=[\"Complex_ID\"], range_x=[0,1])"
   ]
  },
  {
   "cell_type": "markdown",
   "id": "02dbe57a-5dea-43a8-ab04-e85a00e14ca8",
   "metadata": {},
   "source": [
    "## What is the MEAN RMSD and posit score for the \"best\" molecules?"
   ]
  },
  {
   "cell_type": "code",
   "execution_count": null,
   "id": "655daaab-e8ef-493d-99b4-a14184e8e47f",
   "metadata": {},
   "outputs": [],
   "source": [
    "by_compound = pd.read_csv(os.path.join(input_dir, \"by_compound.csv\"))"
   ]
  },
  {
   "cell_type": "code",
   "execution_count": null,
   "id": "62aa56ed-75bc-416d-ad9e-8e8f7bf09bd7",
   "metadata": {},
   "outputs": [],
   "source": [
    "by_compound_filtered = by_compound.loc[:, [\"RMSD_Mean\", \"POSIT_R_Mean\", \"Compound_ID\"]]"
   ]
  },
  {
   "cell_type": "code",
   "execution_count": null,
   "id": "c8d457ad-f7af-4a0b-baf4-2842adbf857e",
   "metadata": {},
   "outputs": [],
   "source": [
    "by_compound_filtered[\"POSIT_R_Mean\"] = 1-by_compound_filtered.POSIT_R_Mean"
   ]
  },
  {
   "cell_type": "code",
   "execution_count": null,
   "id": "a758f359-15f8-4e9a-a0d7-88a8a9ea5d86",
   "metadata": {},
   "outputs": [],
   "source": [
    "by_compound_filtered.columns = [\"RMSD_Mean\", \"POSIT_Mean\", \"Compound_ID\"]"
   ]
  },
  {
   "cell_type": "code",
   "execution_count": null,
   "id": "e698037e-10de-45b0-8ddd-a86589fa0de6",
   "metadata": {},
   "outputs": [],
   "source": [
    "by_compound_filtered"
   ]
  },
  {
   "cell_type": "code",
   "execution_count": null,
   "id": "48cdcc4d-c726-41d1-8c4b-f204092b81ea",
   "metadata": {},
   "outputs": [],
   "source": [
    "import numpy as np\n",
    "# df_extra = pd.merge(df, by_compound_filtered, on=\"Compound_ID\")\n",
    "df_extra = pd.merge(df, by_compound_filtered, on=\"Compound_ID\").replace(-1, np.nan)"
   ]
  },
  {
   "cell_type": "code",
   "execution_count": null,
   "id": "d53b3d04-3626-4692-8086-fd8825adbba6",
   "metadata": {},
   "outputs": [],
   "source": [
    "px.scatter(df_extra, x=\"POSIT\", y=\"POSIT_Mean\", hover_data=[\"Compound_ID\", \"Structure_Source\"], color=\"Structure_Source\")"
   ]
  },
  {
   "cell_type": "code",
   "execution_count": null,
   "id": "06eeb5ca-bd2a-4013-a17c-0fb1d71398fd",
   "metadata": {},
   "outputs": [],
   "source": [
    "fig = px.density_contour(df_extra, x=\"POSIT\", y=\"POSIT_Mean\")\n",
    "fig.update_traces(contours_coloring=\"fill\", contours_showlabels = True)\n",
    "fig.show()"
   ]
  },
  {
   "cell_type": "code",
   "execution_count": null,
   "id": "2c924e32-a90d-4dc3-932f-4964bd3f486f",
   "metadata": {},
   "outputs": [],
   "source": [
    "len(df)"
   ]
  },
  {
   "cell_type": "markdown",
   "id": "5c7c9819-196c-4fa0-9d47-103c2ee612e5",
   "metadata": {},
   "source": [
    "# How many clashes were there for the whole set?"
   ]
  },
  {
   "cell_type": "code",
   "execution_count": null,
   "id": "ba798ffd-c06c-4e00-8e0e-70bf46b058e9",
   "metadata": {},
   "outputs": [],
   "source": [
    "from asapdiscovery.docking.analysis import DockingResults"
   ]
  },
  {
   "cell_type": "code",
   "execution_count": null,
   "id": "9ef9dfc7-020b-490a-87c0-811ece5f20ff",
   "metadata": {},
   "outputs": [],
   "source": [
    "dr = DockingResults(csv_path=os.path.join(input_dir, \"all_results_cleaned.csv\"))"
   ]
  },
  {
   "cell_type": "code",
   "execution_count": null,
   "id": "7a85fd7e-fbcf-4afe-b2de-be67b8f3632e",
   "metadata": {},
   "outputs": [],
   "source": [
    "by_compound_clashes = dr.df.groupby(\"Compound_ID\", group_keys=True)[[\"Clash\"]].sum().rename(columns={\"Clash\": \"Clash_Sum\"})"
   ]
  },
  {
   "cell_type": "code",
   "execution_count": null,
   "id": "5f74d28e-4739-453c-8948-2f1558eda64b",
   "metadata": {},
   "outputs": [],
   "source": [
    "by_compound_clashes[\"Perc_Clash\"] = by_compound_clashes.Clash_Sum / dr.df.groupby(\"Compound_ID\", group_keys=True)[[\"Clash\"]].count()[\"Clash\"]"
   ]
  },
  {
   "cell_type": "code",
   "execution_count": null,
   "id": "d6a9c6e7-163d-4990-9c64-0e782ae5bba1",
   "metadata": {},
   "outputs": [],
   "source": [
    "by_compound_clashes.sort_values(\"Perc_Clash\")"
   ]
  },
  {
   "cell_type": "code",
   "execution_count": null,
   "id": "c785a98d-b9a5-4c9a-a812-dac4ee6f2f5c",
   "metadata": {},
   "outputs": [],
   "source": [
    "px.bar(by_compound_clashes.sort_values([\"Perc_Clash\", \"Compound_ID\"]), y=\"Perc_Clash\", color=\"Clash_Sum\")"
   ]
  },
  {
   "cell_type": "code",
   "execution_count": null,
   "id": "223f4003-dabb-4ee7-be88-ff0e0da877be",
   "metadata": {},
   "outputs": [],
   "source": []
  },
  {
   "cell_type": "code",
   "execution_count": null,
   "id": "04c13bf7-c578-4461-8b22-16dc6cf4a121",
   "metadata": {},
   "outputs": [],
   "source": [
    "best_df_plus_sum_clashes = pd.merge(df_extra, by_compound_clashes, on=\"Compound_ID\")"
   ]
  },
  {
   "cell_type": "code",
   "execution_count": null,
   "id": "08ca89b9-c0f8-45a0-86a5-909fae284d90",
   "metadata": {},
   "outputs": [],
   "source": [
    "best_df_plus_sum_clashes"
   ]
  },
  {
   "cell_type": "code",
   "execution_count": null,
   "id": "334f9d42-208b-4b8f-a7c6-9ace7256b363",
   "metadata": {},
   "outputs": [],
   "source": [
    "best_df_plus_sum_clashes.loc[best_df_plus_sum_clashes.Clash == 1, [\"Compound_ID\", \"Clash_Sum\", \"Perc_Clash\"]]"
   ]
  },
  {
   "cell_type": "code",
   "execution_count": null,
   "id": "bbc117f2-cf0f-4813-809a-6851822cade5",
   "metadata": {},
   "outputs": [],
   "source": [
    "dr.df.loc[dr.df.Compound_ID == \"MAT-POS-5d65ec79-2\",:]"
   ]
  },
  {
   "cell_type": "code",
   "execution_count": null,
   "id": "afbe659e-d751-4623-9631-9e3e832083e9",
   "metadata": {},
   "outputs": [],
   "source": []
  }
 ],
 "metadata": {
  "kernelspec": {
   "display_name": "Python 3 (ipykernel)",
   "language": "python",
   "name": "python3"
  },
  "language_info": {
   "codemirror_mode": {
    "name": "ipython",
    "version": 3
   },
   "file_extension": ".py",
   "mimetype": "text/x-python",
   "name": "python",
   "nbconvert_exporter": "python",
   "pygments_lexer": "ipython3",
   "version": "3.9.16"
  }
 },
 "nbformat": 4,
 "nbformat_minor": 5
}
