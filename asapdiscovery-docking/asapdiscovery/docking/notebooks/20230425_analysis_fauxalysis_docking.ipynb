{
 "cells": [
  {
   "cell_type": "markdown",
   "metadata": {},
   "source": [
    "# Imports"
   ]
  },
  {
   "cell_type": "code",
   "execution_count": 8,
   "metadata": {},
   "outputs": [],
   "source": [
    "from pathlib import Path\n",
    "import pandas as pd, numpy as np\n",
    "import plotly.express as px"
   ]
  },
  {
   "cell_type": "code",
   "execution_count": 5,
   "metadata": {},
   "outputs": [],
   "source": [
    "csvs = list(Path(\"/Users/alexpayne/lilac-mount-point/asap-datasets/mers_fauxalysis/20230425_docked_for_fauxalysis\").glob(\"run_docking_oe.*-results.csv\"))"
   ]
  },
  {
   "cell_type": "code",
   "execution_count": 24,
   "metadata": {},
   "outputs": [
    {
     "data": {
      "text/plain": "113"
     },
     "execution_count": 24,
     "metadata": {},
     "output_type": "execute_result"
    }
   ],
   "source": [
    "len(csvs)"
   ]
  },
  {
   "cell_type": "code",
   "execution_count": 12,
   "metadata": {},
   "outputs": [],
   "source": [
    "example = pd.read_csv(csvs[0])"
   ]
  },
  {
   "cell_type": "code",
   "execution_count": 14,
   "metadata": {},
   "outputs": [],
   "source": [
    "from asapdiscovery.docking.analysis import DockingResults"
   ]
  },
  {
   "cell_type": "code",
   "execution_count": 15,
   "metadata": {},
   "outputs": [],
   "source": [
    "dr = DockingResults(csvs[0])"
   ]
  },
  {
   "cell_type": "code",
   "execution_count": 20,
   "metadata": {},
   "outputs": [
    {
     "data": {
      "text/plain": [
       "Index(['ligand_id', 'du_structure', 'docked_file', 'pose_id', 'docked_RMSD',\n",
       "       'POSIT_prob', 'POSIT_method', 'chemgauss4_score', 'clash', 'SMILES',\n",
       "       'GAT_score'],\n",
       "      dtype='object')"
      ]
     },
     "execution_count": 20,
     "metadata": {},
     "output_type": "execute_result"
    }
   ],
   "source": [
    "dr.df.columns"
   ]
  },
  {
   "cell_type": "code",
   "execution_count": 23,
   "metadata": {},
   "outputs": [],
   "source": [
    "dr.df.columns = [\"Compound_ID\", \n",
    "                 \"Structure_Source\", \n",
    "                 \"Docked_File\", \n",
    "                 \"Pose_ID\", \n",
    "                 \"RMSD\", \n",
    "                 \"POSIT\", \n",
    "                 \"POSIT_Method\", \n",
    "                 \"Chemgauss4\", \n",
    "                 \"Clash\", \n",
    "                 \"SMILES\", \n",
    "                 \"GAT_Score\"]"
   ]
  },
  {
   "cell_type": "code",
   "execution_count": 26,
   "metadata": {},
   "outputs": [
    {
     "name": "stdout",
     "output_type": "stream",
     "text": [
      "RMSD 2.5\n",
      "Filtering by RMSD less than 2.5\n"
     ]
    },
    {
     "data": {
      "text/plain": "           Compound_ID Structure_Source  \\\n17  ALP-POS-95b75b4d-4             7t41   \n\n                                          Docked_File  Pose_ID      RMSD  \\\n17  /lila/data/chodera/asap-datasets/mers_fauxalys...        0  2.169371   \n\n    POSIT POSIT_Method  Chemgauss4  Clash                           SMILES  \\\n17   0.18       HYBRID   -7.629022      1  Cc1ccncc1NC(=O)Cc2cccc(c2)C3CC3   \n\n    GAT_Score  \n17        NaN  ",
      "text/html": "<div>\n<style scoped>\n    .dataframe tbody tr th:only-of-type {\n        vertical-align: middle;\n    }\n\n    .dataframe tbody tr th {\n        vertical-align: top;\n    }\n\n    .dataframe thead th {\n        text-align: right;\n    }\n</style>\n<table border=\"1\" class=\"dataframe\">\n  <thead>\n    <tr style=\"text-align: right;\">\n      <th></th>\n      <th>Compound_ID</th>\n      <th>Structure_Source</th>\n      <th>Docked_File</th>\n      <th>Pose_ID</th>\n      <th>RMSD</th>\n      <th>POSIT</th>\n      <th>POSIT_Method</th>\n      <th>Chemgauss4</th>\n      <th>Clash</th>\n      <th>SMILES</th>\n      <th>GAT_Score</th>\n    </tr>\n  </thead>\n  <tbody>\n    <tr>\n      <th>17</th>\n      <td>ALP-POS-95b75b4d-4</td>\n      <td>7t41</td>\n      <td>/lila/data/chodera/asap-datasets/mers_fauxalys...</td>\n      <td>0</td>\n      <td>2.169371</td>\n      <td>0.18</td>\n      <td>HYBRID</td>\n      <td>-7.629022</td>\n      <td>1</td>\n      <td>Cc1ccncc1NC(=O)Cc2cccc(c2)C3CC3</td>\n      <td>NaN</td>\n    </tr>\n  </tbody>\n</table>\n</div>"
     },
     "execution_count": 26,
     "metadata": {},
     "output_type": "execute_result"
    }
   ],
   "source": [
    "dr.get_best_structure_per_compound(score_order=[\"POSIT\", \"Chemgauss4\", \"RMSD\"], score_ascending=[False, True, True])"
   ]
  },
  {
   "cell_type": "code",
   "execution_count": null,
   "outputs": [],
   "source": [],
   "metadata": {
    "collapsed": false,
    "pycharm": {
     "name": "#%%\n"
    }
   }
  }
 ],
 "metadata": {
  "kernelspec": {
   "display_name": "Python 3 (ipykernel)",
   "language": "python",
   "name": "python3"
  },
  "language_info": {
   "codemirror_mode": {
    "name": "ipython",
    "version": 3
   },
   "file_extension": ".py",
   "mimetype": "text/x-python",
   "name": "python",
   "nbconvert_exporter": "python",
   "pygments_lexer": "ipython3",
   "version": "3.9.16"
  },
  "toc": {
   "base_numbering": 1,
   "nav_menu": {},
   "number_sections": true,
   "sideBar": true,
   "skip_h1_title": false,
   "title_cell": "Table of Contents",
   "title_sidebar": "Contents",
   "toc_cell": false,
   "toc_position": {},
   "toc_section_display": true,
   "toc_window_display": true
  }
 },
 "nbformat": 4,
 "nbformat_minor": 1
}