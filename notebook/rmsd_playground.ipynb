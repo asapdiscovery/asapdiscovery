{
 "cells": [
  {
   "cell_type": "code",
   "execution_count": null,
   "metadata": {
    "pycharm": {
     "is_executing": true
    }
   },
   "outputs": [],
   "source": [
    "import sys, os, argparse\n",
    "sys.path.append('../')\n",
    "from covid_moonshot_ml.docking.analysis import DockingDataset\n",
    "from covid_moonshot_ml.data.openeye import load_openeye_sdf, get_ligand_rmsd_openeye\n",
    "from openeye import oechem"
   ]
  },
  {
   "cell_type": "code",
   "execution_count": null,
   "metadata": {},
   "outputs": [],
   "source": [
    "sdf_path = \"/Users/alexpayne/lilac-mount-point/mers_hallucination/rcsb_6VH2/Mpro-x12419_0A_bound/docked.sdf\"\n",
    "# predocked = \"/Users/alexpayne/lilac-mount-point/mers_hallucination/rcsb_6VH2/Mpro-x12419_0A_bound/\"\n",
    "ref_path = \"/Users/alexpayne/lilac-mount-point/fragalysis/aligned/Mpro-x12419_0A/Mpro-x12419_0A.sdf\""
   ]
  },
  {
   "cell_type": "code",
   "execution_count": null,
   "metadata": {},
   "outputs": [],
   "source": [
    "print(f\"Loading rmsd calc on {sdf_path} compared to {ref_path}\")\n",
    "ref = load_openeye_sdf(ref_path)\n",
    "mobile = load_openeye_sdf(sdf_path)\n",
    "\n",
    "oechem.OEGetSDData(mobile, \"POSIT::Probability\")\n",
    "oechem.OEGetSDData(mobile, \"Chemgauss4\")\n",
    "\n",
    "rmsd = get_ligand_rmsd_openeye(ref, mobile)"
   ]
  },
  {
   "cell_type": "code",
   "execution_count": null,
   "metadata": {},
   "outputs": [],
   "source": [
    "rmsd"
   ]
  },
  {
   "cell_type": "code",
   "execution_count": null,
   "metadata": {},
   "outputs": [],
   "source": [
    "get_ligand_rmsd_openeye(ref, ref)"
   ]
  },
  {
   "cell_type": "code",
   "execution_count": null,
   "metadata": {},
   "outputs": [],
   "source": [
    "get_ligand_rmsd_openeye(mobile, mobile)"
   ]
  },
  {
   "cell_type": "code",
   "execution_count": null,
   "metadata": {},
   "outputs": [],
   "source": [
    "\n",
    "ref_path = \"/Users/alexpayne/lilac-mount-point/fragalysis/aligned/Mpro-x12419_0A/Mpro-x12419_0A.sdf\"\n",
    "\n",
    "\n",
    "ref2 = load_openeye_sdf(\"/Users/alexpayne/lilac-mount-point/fragalysis/aligned/Mpro-P0171_0A/Mpro-P0171_0A.sdf\")"
   ]
  },
  {
   "cell_type": "code",
   "execution_count": null,
   "metadata": {},
   "outputs": [],
   "source": [
    "get_ligand_rmsd_openeye(ref, ref2)"
   ]
  },
  {
   "cell_type": "code",
   "execution_count": null,
   "metadata": {},
   "outputs": [],
   "source": [
    "mobile2 = load_openeye_sdf(\"/Users/alexpayne/lilac-mount-point/mers_hallucination/rcsb_6VH2/Mpro-P0171_0A_bound/docked.sdf\")\n",
    "mobile3 = load_openeye_sdf(\"/Users/alexpayne/lilac-mount-point/sars-docking-evaluation/)"
   ]
  },
  {
   "cell_type": "code",
   "execution_count": null,
   "metadata": {},
   "outputs": [],
   "source": [
    "get_ligand_rmsd_openeye(mobile, mobile2)"
   ]
  },
  {
   "cell_type": "code",
   "execution_count": null,
   "metadata": {},
   "outputs": [],
   "source": [
    "mobile.GetCoords()"
   ]
  },
  {
   "cell_type": "code",
   "execution_count": null,
   "metadata": {},
   "outputs": [],
   "source": [
    "mobile2.GetCoords()"
   ]
  },
  {
   "cell_type": "code",
   "execution_count": null,
   "metadata": {},
   "outputs": [],
   "source": []
  },
  {
   "cell_type": "code",
   "execution_count": null,
   "metadata": {},
   "outputs": [],
   "source": [
    "mobile"
   ]
  },
  {
   "cell_type": "code",
   "execution_count": null,
   "metadata": {},
   "outputs": [],
   "source": []
  },
  {
   "cell_type": "code",
   "execution_count": null,
   "metadata": {},
   "outputs": [],
   "source": []
  },
  {
   "cell_type": "code",
   "execution_count": null,
   "metadata": {},
   "outputs": [],
   "source": [
    "ref_list = [coord for v in ref.GetCoords().values() for coord in v]\n",
    "mobile_list = [coord for v in mobile.GetCoords().values() for coord in v]"
   ]
  },
  {
   "cell_type": "code",
   "execution_count": null,
   "metadata": {},
   "outputs": [],
   "source": [
    "mobile_list"
   ]
  },
  {
   "cell_type": "code",
   "execution_count": null,
   "metadata": {},
   "outputs": [],
   "source": [
    "ref_list"
   ]
  },
  {
   "cell_type": "code",
   "execution_count": null,
   "metadata": {},
   "outputs": [],
   "source": [
    "oechem.OERMSD(ref_list,\n",
    "              mobile_list,\n",
    "              29\n",
    "             )"
   ]
  },
  {
   "cell_type": "markdown",
   "metadata": {},
   "source": [
    "# Test why MERS RMSDs are failing"
   ]
  },
  {
   "cell_type": "code",
   "execution_count": null,
   "metadata": {},
   "outputs": [],
   "source": [
    "imp"
   ]
  }
 ],
 "metadata": {
  "kernelspec": {
   "display_name": "Python 3 (ipykernel)",
   "language": "python",
   "name": "python3"
  },
  "language_info": {
   "codemirror_mode": {
    "name": "ipython",
    "version": 3
   },
   "file_extension": ".py",
   "mimetype": "text/x-python",
   "name": "python",
   "nbconvert_exporter": "python",
   "pygments_lexer": "ipython3",
   "version": "3.8.13"
  },
  "toc": {
   "base_numbering": 1,
   "nav_menu": {},
   "number_sections": true,
   "sideBar": true,
   "skip_h1_title": false,
   "title_cell": "Table of Contents",
   "title_sidebar": "Contents",
   "toc_cell": false,
   "toc_position": {},
   "toc_section_display": true,
   "toc_window_display": false
  }
 },
 "nbformat": 4,
 "nbformat_minor": 1
}
