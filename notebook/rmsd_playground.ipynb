{
 "cells": [
  {
   "cell_type": "code",
   "execution_count": 1,
   "metadata": {
    "pycharm": {
     "is_executing": true
    }
   },
   "outputs": [],
   "source": [
    "import sys, os, argparse\n",
    "sys.path.append('../')\n",
    "from covid_moonshot_ml.docking.analysis import DockingDataset\n",
    "from covid_moonshot_ml.data.openeye import load_openeye_sdf, get_ligand_rmsd_openeye\n",
    "from openeye import oechem"
   ]
  },
  {
   "cell_type": "code",
   "execution_count": 2,
   "metadata": {},
   "outputs": [],
   "source": [
    "sdf_path = \"/Users/alexpayne/lilac-mount-point/mers_hallucination/rcsb_6VH2/Mpro-x12419_0A_bound/docked.sdf\"\n",
    "# predocked = \"/Users/alexpayne/lilac-mount-point/mers_hallucination/rcsb_6VH2/Mpro-x12419_0A_bound/\"\n",
    "ref_path = \"/Users/alexpayne/lilac-mount-point/fragalysis/aligned/Mpro-x12419_0A/Mpro-x12419_0A.sdf\""
   ]
  },
  {
   "cell_type": "code",
   "execution_count": 3,
   "metadata": {},
   "outputs": [
    {
     "name": "stdout",
     "output_type": "stream",
     "text": [
      "Loading rmsd calc on /Users/alexpayne/lilac-mount-point/mers_hallucination/rcsb_6VH2/Mpro-x12419_0A_bound/docked.sdf compared to /Users/alexpayne/lilac-mount-point/fragalysis/aligned/Mpro-x12419_0A/Mpro-x12419_0A.sdf\n"
     ]
    }
   ],
   "source": [
    "print(f\"Loading rmsd calc on {sdf_path} compared to {ref_path}\")\n",
    "ref = load_openeye_sdf(ref_path)\n",
    "mobile = load_openeye_sdf(sdf_path)\n",
    "\n",
    "oechem.OEGetSDData(mobile, \"POSIT::Probability\")\n",
    "oechem.OEGetSDData(mobile, \"Chemgauss4\")\n",
    "\n",
    "rmsd = get_ligand_rmsd_openeye(ref, mobile)"
   ]
  },
  {
   "cell_type": "code",
   "execution_count": 4,
   "metadata": {},
   "outputs": [
    {
     "data": {
      "text/plain": [
       "-1.0"
      ]
     },
     "execution_count": 4,
     "metadata": {},
     "output_type": "execute_result"
    }
   ],
   "source": [
    "rmsd"
   ]
  },
  {
   "cell_type": "code",
   "execution_count": 5,
   "metadata": {},
   "outputs": [
    {
     "data": {
      "text/plain": [
       "0.0"
      ]
     },
     "execution_count": 5,
     "metadata": {},
     "output_type": "execute_result"
    }
   ],
   "source": [
    "get_ligand_rmsd_openeye(ref, ref)"
   ]
  },
  {
   "cell_type": "code",
   "execution_count": 6,
   "metadata": {},
   "outputs": [
    {
     "data": {
      "text/plain": [
       "0.0"
      ]
     },
     "execution_count": 6,
     "metadata": {},
     "output_type": "execute_result"
    }
   ],
   "source": [
    "get_ligand_rmsd_openeye(mobile, mobile)"
   ]
  },
  {
   "cell_type": "code",
   "execution_count": 7,
   "metadata": {},
   "outputs": [],
   "source": [
    "\n",
    "ref_path = \"/Users/alexpayne/lilac-mount-point/fragalysis/aligned/Mpro-x12419_0A/Mpro-x12419_0A.sdf\"\n",
    "\n",
    "\n",
    "ref2 = load_openeye_sdf(\"/Users/alexpayne/lilac-mount-point/fragalysis/aligned/Mpro-P0171_0A/Mpro-P0171_0A.sdf\")"
   ]
  },
  {
   "cell_type": "code",
   "execution_count": 9,
   "metadata": {},
   "outputs": [
    {
     "data": {
      "text/plain": [
       "-1.0"
      ]
     },
     "execution_count": 9,
     "metadata": {},
     "output_type": "execute_result"
    }
   ],
   "source": [
    "get_ligand_rmsd_openeye(ref, ref2)"
   ]
  },
  {
   "cell_type": "code",
   "execution_count": 10,
   "metadata": {},
   "outputs": [],
   "source": [
    "mobile2 = load_openeye_sdf(\"/Users/alexpayne/lilac-mount-point/mers_hallucination/rcsb_6VH2/Mpro-P0171_0A_bound/docked.sdf\")\n",
    "mobile3 = load_openeye_sdf(\"/Users/alexpayne/lilac-mount-point/sars-docking-evaluation/)"
   ]
  },
  {
   "cell_type": "code",
   "execution_count": 11,
   "metadata": {},
   "outputs": [
    {
     "data": {
      "text/plain": [
       "-1.0"
      ]
     },
     "execution_count": 11,
     "metadata": {},
     "output_type": "execute_result"
    }
   ],
   "source": [
    "get_ligand_rmsd_openeye(mobile, mobile2)"
   ]
  },
  {
   "cell_type": "code",
   "execution_count": 12,
   "metadata": {},
   "outputs": [
    {
     "data": {
      "text/plain": [
       "{0: (13.910200119018555, 2.377000093460083, 22.733999252319336),\n",
       " 1: (13.653400421142578, 1.2335000038146973, 23.487899780273438),\n",
       " 2: (12.862700462341309, 3.2219998836517334, 22.37529945373535),\n",
       " 3: (3.888200044631958, 1.954800009727478, 19.662799835205078),\n",
       " 4: (4.229000091552734, 1.5908000469207764, 20.96820068359375),\n",
       " 5: (12.34749984741211, 0.9290000200271606, 23.877199172973633),\n",
       " 6: (11.556900024414062, 2.9198999404907227, 22.764299392700195),\n",
       " 7: (4.69980001449585, 1.5988999605178833, 18.578500747680664),\n",
       " 8: (5.392300128936768, 0.8626999855041504, 21.239200592041016),\n",
       " 9: (10.024499893188477, -2.0631000995635986, 23.21660041809082),\n",
       " 10: (8.504199981689453, -1.17330002784729, 24.851600646972656),\n",
       " 11: (9.969099998474121, -3.3096001148223877, 23.85110092163086),\n",
       " 12: (8.427000045776367, -2.4337000846862793, 25.45479965209961),\n",
       " 13: (11.283599853515625, 1.7649999856948853, 23.511499404907227),\n",
       " 14: (5.866600036621094, 0.8650000095367432, 18.83530044555664),\n",
       " 15: (6.184800148010254, 0.5184000134468079, 20.142499923706055),\n",
       " 16: (9.291799545288086, -0.9879000186920166, 23.71780014038086),\n",
       " 17: (9.16569995880127, -3.538300037384033, 24.98579978942871),\n",
       " 18: (8.971400260925293, 0.491100013256073, 21.75149917602539),\n",
       " 19: (10.122699737548828, -5.792799949645996, 25.343599319458008),\n",
       " 20: (8.133099555969238, -5.049300193786621, 26.659900665283203),\n",
       " 21: (9.860600471496582, 1.409500002861023, 23.881399154663086),\n",
       " 22: (8.238800048828125, -0.6467999815940857, 21.054399490356445),\n",
       " 23: (6.833199977874756, 0.3935000002384186, 17.98740005493164),\n",
       " 24: (7.754000186920166, -0.22619999945163727, 18.715499877929688),\n",
       " 25: (7.374000072479248, -0.1437000036239624, 20.003000259399414),\n",
       " 26: (9.344900131225586, 0.2825999855995178, 23.084800720214844),\n",
       " 27: (9.102399826049805, -4.785999774932861, 25.605100631713867),\n",
       " 28: (9.168899536132812, 1.555299997329712, 21.157400131225586),\n",
       " 29: (14.925200462341309, 2.6092000007629395, 22.42530059814453),\n",
       " 30: (14.47029972076416, 0.574999988079071, 23.768600463867188),\n",
       " 31: (13.060500144958496, 4.11329984664917, 21.787099838256836),\n",
       " 32: (2.9811999797821045, 2.526700019836426, 19.485200881958008),\n",
       " 33: (3.5804998874664307, 1.8832999467849731, 21.79050064086914),\n",
       " 34: (12.166500091552734, 0.030300000682473183, 24.460899353027344),\n",
       " 35: (10.751500129699707, 3.5868000984191895, 22.466999053955078),\n",
       " 36: (4.4328999519348145, 1.891700029373169, 17.568700790405273),\n",
       " 37: (5.662099838256836, 0.5878000259399414, 22.252500534057617),\n",
       " 38: (10.670499801635742, -1.9412000179290771, 22.35059928894043),\n",
       " 39: (7.9079999923706055, -0.35839998722076416, 25.254100799560547),\n",
       " 40: (10.570899963378906, -4.106599807739258, 23.420400619506836),\n",
       " 41: (7.771399974822998, -2.5237998962402344, 26.31760025024414),\n",
       " 42: (9.986300468444824, -6.681099891662598, 25.97010040283203),\n",
       " 43: (10.086899757385254, -6.130799770355225, 24.302900314331055),\n",
       " 44: (11.120499610900879, -5.3968000411987305, 25.563800811767578),\n",
       " 45: (8.110300064086914, -6.1107001304626465, 26.93000030517578),\n",
       " 46: (8.381099700927734, -4.484499931335449, 27.564599990844727),\n",
       " 47: (7.118599891662598, -4.7906999588012695, 26.336200714111328),\n",
       " 48: (9.81089973449707, 1.1928999423980713, 24.95490074157715),\n",
       " 49: (9.203200340270996, 2.2701001167297363, 23.704599380493164),\n",
       " 50: (8.965900421142578, -1.326300024986267, 20.59910011291504),\n",
       " 51: (7.594399929046631, -1.2049000263214111, 21.739500045776367)}"
      ]
     },
     "execution_count": 12,
     "metadata": {},
     "output_type": "execute_result"
    }
   ],
   "source": [
    "mobile.GetCoords()"
   ]
  },
  {
   "cell_type": "code",
   "execution_count": 14,
   "metadata": {},
   "outputs": [
    {
     "data": {
      "text/plain": [
       "{0: (2.9937000274658203, 2.6473000049591064, 19.901199340820312),\n",
       " 1: (3.672600030899048, 2.5164999961853027, 21.11039924621582),\n",
       " 2: (3.5116000175476074, 2.0676000118255615, 18.74329948425293),\n",
       " 3: (4.872600078582764, 1.8056000471115112, 21.167200088500977),\n",
       " 4: (12.737199783325195, 0.32170000672340393, 24.054000854492188),\n",
       " 5: (13.432999610900879, -0.48100000619888306, 23.14620018005371),\n",
       " 6: (11.372300148010254, -0.9772999882698059, 22.021400451660156),\n",
       " 7: (5.281799793243408, 0.7497000098228455, 17.660900115966797),\n",
       " 8: (7.07289981842041, -0.05660000070929527, 18.851200103759766),\n",
       " 9: (4.718299865722656, 1.3497999906539917, 18.788700103759766),\n",
       " 10: (5.408699989318848, 1.2152999639511108, 20.01099967956543),\n",
       " 11: (10.661700248718262, -0.14830000698566437, 22.912799835205078),\n",
       " 12: (11.339500427246094, 0.4968999922275543, 23.979000091552734),\n",
       " 13: (6.609300136566162, 0.49630001187324524, 20.035200119018555),\n",
       " 14: (12.749300003051758, -1.1371999979019165, 22.1343994140625),\n",
       " 15: (8.7431001663208, 0.1624000072479248, 21.32360076904297),\n",
       " 16: (8.614500045776367, 1.1805000305175781, 23.541400909423828),\n",
       " 17: (9.187399864196777, 1.190500020980835, 24.947999954223633),\n",
       " 18: (9.15820026397705, -0.010200000368058681, 22.75429916381836),\n",
       " 19: (11.32129955291748, 1.9036999940872192, 26.030799865722656),\n",
       " 20: (6.439799785614014, 0.051600001752376556, 17.663700103759766),\n",
       " 21: (10.643899917602539, 1.2798999547958374, 24.902799606323242),\n",
       " 22: (7.366199970245361, 0.3118000030517578, 21.21660041809082),\n",
       " 23: (9.576600074768066, 0.16329999268054962, 20.423500061035156),\n",
       " 24: (13.596799850463867, -2.1445999145507812, 21.02750015258789),\n",
       " 25: (2.0601999759674072, 3.2007999420166016, 19.860000610351562),\n",
       " 26: (3.267400026321411, 2.968600034713745, 22.011199951171875),\n",
       " 27: (2.968600034713745, 2.1791999340057373, 17.807600021362305),\n",
       " 28: (5.373499870300293, 1.726199984550476, 22.12929916381836),\n",
       " 29: (13.323399543762207, 0.8147000074386597, 24.826200485229492),\n",
       " 30: (14.510700225830078, -0.5800999999046326, 23.246599197387695),\n",
       " 31: (10.829700469970703, -1.5011999607086182, 21.234600067138672),\n",
       " 32: (4.801599979400635, 0.8148000240325928, 16.688400268554688),\n",
       " 33: (7.998700141906738, -0.6237999796867371, 18.817699432373047),\n",
       " 34: (7.522900104522705, 1.1152000427246094, 23.599199295043945),\n",
       " 35: (8.855299949645996, 2.1201999187469482, 23.036800384521484),\n",
       " 36: (8.788999557495117, 2.0295000076293945, 25.526100158691406),\n",
       " 37: (8.878399848937988, 0.271699994802475, 25.4552001953125),\n",
       " 38: (8.659700393676758, -0.9079999923706055, 23.127199172973633),\n",
       " 39: (10.59280014038086, 2.4709999561309814, 26.62849998474121),\n",
       " 40: (11.78279972076416, 1.1259000301361084, 26.65690040588379),\n",
       " 41: (12.100600242614746, 2.5852999687194824, 25.659000396728516),\n",
       " 42: (6.827700138092041, 0.28839999437332153, 22.08009910583496)}"
      ]
     },
     "execution_count": 14,
     "metadata": {},
     "output_type": "execute_result"
    }
   ],
   "source": [
    "mobile2.GetCoords()"
   ]
  },
  {
   "cell_type": "code",
   "execution_count": null,
   "metadata": {},
   "outputs": [],
   "source": []
  },
  {
   "cell_type": "code",
   "execution_count": null,
   "metadata": {},
   "outputs": [],
   "source": [
    "mobile"
   ]
  },
  {
   "cell_type": "code",
   "execution_count": null,
   "metadata": {},
   "outputs": [],
   "source": []
  },
  {
   "cell_type": "code",
   "execution_count": null,
   "metadata": {},
   "outputs": [],
   "source": []
  },
  {
   "cell_type": "code",
   "execution_count": 39,
   "metadata": {},
   "outputs": [],
   "source": [
    "ref_list = [coord for v in ref.GetCoords().values() for coord in v]\n",
    "mobile_list = [coord for v in mobile.GetCoords().values() for coord in v]"
   ]
  },
  {
   "cell_type": "code",
   "execution_count": 42,
   "metadata": {},
   "outputs": [
    {
     "data": {
      "text/plain": [
       "[3.3879001140594482,\n",
       " 2.4375998973846436,\n",
       " 20.675800323486328,\n",
       " 4.3109002113342285,\n",
       " 2.156899929046631,\n",
       " 21.85409927368164,\n",
       " 4.160900115966797,\n",
       " 2.5357000827789307,\n",
       " 19.362699508666992,\n",
       " 5.16480016708374,\n",
       " 0.9165999889373779,\n",
       " 21.618600845336914,\n",
       " 13.04640007019043,\n",
       " 1.5467000007629395,\n",
       " 23.471500396728516,\n",
       " 13.803199768066406,\n",
       " 0.2524999976158142,\n",
       " 23.774700164794922,\n",
       " 8.881699562072754,\n",
       " 0.9754999876022339,\n",
       " 23.707599639892578,\n",
       " 11.798800468444824,\n",
       " -1.090999960899353,\n",
       " 23.032800674438477,\n",
       " 5.789999961853027,\n",
       " 1.399899959564209,\n",
       " 17.808700561523438,\n",
       " 7.556399822235107,\n",
       " -0.15219999849796295,\n",
       " 18.699100494384766,\n",
       " 9.675600051879883,\n",
       " 1.0820000171661377,\n",
       " 25.011199951171875,\n",
       " 5.004199981689453,\n",
       " 1.2797000408172607,\n",
       " 19.11400032043457,\n",
       " 5.956099987030029,\n",
       " 1.007599949836731,\n",
       " 20.30120086669922,\n",
       " 11.069199562072754,\n",
       " 0.21140000224113464,\n",
       " 22.645000457763672,\n",
       " 9.5378999710083,\n",
       " -0.024299999698996544,\n",
       " 22.742599487304688,\n",
       " 6.781099796295166,\n",
       " -0.28290000557899475,\n",
       " 20.021099090576172,\n",
       " 11.524200439453125,\n",
       " 1.389299988746643,\n",
       " 23.511499404907227,\n",
       " 13.315899848937988,\n",
       " -0.9585000276565552,\n",
       " 22.979900360107422,\n",
       " 6.696499824523926,\n",
       " -3.72979998588562,\n",
       " 20.005599975585938,\n",
       " 6.372499942779541,\n",
       " -2.9600000381469727,\n",
       " 21.28339958190918,\n",
       " 8.922599792480469,\n",
       " -0.007300000172108412,\n",
       " 21.30940055847168,\n",
       " 7.492099761962891,\n",
       " -2.002700090408325,\n",
       " 21.74970054626465,\n",
       " 7.593500137329102,\n",
       " -0.6362000107765198,\n",
       " 21.193599700927734,\n",
       " 6.590799808502197,\n",
       " 0.1550000011920929,\n",
       " 17.59670066833496,\n",
       " 11.09220027923584,\n",
       " 1.2000999450683594,\n",
       " 24.857099533081055,\n",
       " 8.932700157165527,\n",
       " 1.361799955368042,\n",
       " 20.87820053100586,\n",
       " 8.721400260925293,\n",
       " -2.738100051879883,\n",
       " 21.66200065612793,\n",
       " 13.866299629211426,\n",
       " -0.8711000084877014,\n",
       " 21.278200149536133,\n",
       " 2.641200065612793,\n",
       " 1.6375000476837158,\n",
       " 20.60110092163086,\n",
       " 2.8415000438690186,\n",
       " 3.3701999187469482,\n",
       " 20.85300064086914,\n",
       " 4.963799953460693,\n",
       " 3.02239990234375,\n",
       " 22.021799087524414,\n",
       " 3.719099998474121,\n",
       " 2.02239990234375,\n",
       " 22.76650047302246,\n",
       " 3.4523000717163086,\n",
       " 2.6768999099731445,\n",
       " 18.538400650024414,\n",
       " 4.806300163269043,\n",
       " 3.4228999614715576,\n",
       " 19.38559913635254,\n",
       " 5.84689998626709,\n",
       " 0.807699978351593,\n",
       " 22.469100952148438,\n",
       " 4.525100231170654,\n",
       " 0.02590000070631504,\n",
       " 21.60770034790039,\n",
       " 13.356499671936035,\n",
       " 2.3069000244140625,\n",
       " 24.198400497436523,\n",
       " 13.339099884033203,\n",
       " 1.910099983215332,\n",
       " 22.47920036315918,\n",
       " 14.873200416564941,\n",
       " 0.4129999876022339,\n",
       " 23.596500396728516,\n",
       " 13.695300102233887,\n",
       " 0.030899999663233757,\n",
       " 24.8435001373291,\n",
       " 7.8506999015808105,\n",
       " 0.6777999997138977,\n",
       " 23.929399490356445,\n",
       " 8.824299812316895,\n",
       " 1.9709999561309814,\n",
       " 23.252500534057617,\n",
       " 11.512700080871582,\n",
       " -1.3818999528884888,\n",
       " 24.052499771118164,\n",
       " 11.470100402832031,\n",
       " -1.9074000120162964,\n",
       " 22.37649917602539,\n",
       " 5.126200199127197,\n",
       " 1.4955999851226807,\n",
       " 16.943899154663086,\n",
       " 6.492800235748291,\n",
       " 2.240000009536743,\n",
       " 17.817800521850586,\n",
       " 8.288200378417969,\n",
       " 0.6590999960899353,\n",
       " 18.68630027770996,\n",
       " 8.05780029296875,\n",
       " -1.0849000215530396,\n",
       " 18.42449951171875,\n",
       " 9.327400207519531,\n",
       " 1.9452999830245972,\n",
       " 25.588499069213867,\n",
       " 9.496399879455566,\n",
       " 0.19470000267028809,\n",
       " 25.62820053100586,\n",
       " 4.3144001960754395,\n",
       " 0.42809998989105225,\n",
       " 19.020700454711914,\n",
       " 6.634099960327148,\n",
       " 1.8667000532150269,\n",
       " 20.38409996032715,\n",
       " 11.34850025177002,\n",
       " 0.44350001215934753,\n",
       " 21.610700607299805,\n",
       " 9.39050006866455,\n",
       " -1.010599970817566,\n",
       " 23.193899154663086,\n",
       " 6.026100158691406,\n",
       " -1.0503000020980835,\n",
       " 19.841899871826172,\n",
       " 11.09280014038086,\n",
       " 2.328900098800659,\n",
       " 23.14259910583496,\n",
       " 13.769200325012207,\n",
       " -1.8664000034332275,\n",
       " 23.389999389648438,\n",
       " 6.9527997970581055,\n",
       " -3.0703001022338867,\n",
       " 19.1742000579834,\n",
       " 7.538700103759766,\n",
       " -4.412399768829346,\n",
       " 20.165199279785156,\n",
       " 5.838699817657471,\n",
       " -4.339399814605713,\n",
       " 19.706499099731445,\n",
       " 6.225800037384033,\n",
       " -3.711400032043457,\n",
       " 22.07069969177246,\n",
       " 5.409900188446045,\n",
       " -2.4446001052856445,\n",
       " 21.19969940185547,\n",
       " 9.590800285339355,\n",
       " -0.5490000247955322,\n",
       " 20.627199172973633,\n",
       " 7.304699897766113,\n",
       " -1.843999981880188,\n",
       " 22.819400787353516,\n",
       " 5.973999977111816,\n",
       " -0.6218000054359436,\n",
       " 17.469499588012695,\n",
       " 7.097400188446045,\n",
       " 0.23980000615119934,\n",
       " 16.73870086669922,\n",
       " 9.83489990234375,\n",
       " 1.6232999563217163,\n",
       " 20.736499786376953,\n",
       " 8.641400337219238,\n",
       " -3.4895999431610107,\n",
       " 22.23780059814453]"
      ]
     },
     "execution_count": 42,
     "metadata": {},
     "output_type": "execute_result"
    }
   ],
   "source": [
    "mobile_list"
   ]
  },
  {
   "cell_type": "code",
   "execution_count": 40,
   "metadata": {},
   "outputs": [
    {
     "data": {
      "text/plain": [
       "[14.062999725341797,\n",
       " -1.3739999532699585,\n",
       " 21.207000732421875,\n",
       " 13.012999534606934,\n",
       " -0.46700000762939453,\n",
       " 22.260000228881836,\n",
       " 13.562000274658203,\n",
       " 0.46000000834465027,\n",
       " 23.11199951171875,\n",
       " 12.743000030517578,\n",
       " 1.1230000257492065,\n",
       " 24.006000518798828,\n",
       " 11.380000114440918,\n",
       " 0.8700000047683716,\n",
       " 24.0049991607666,\n",
       " 10.652999877929688,\n",
       " 1.5299999713897705,\n",
       " 24.964000701904297,\n",
       " 9.38599967956543,\n",
       " 0.9300000071525574,\n",
       " 25.27899932861328,\n",
       " 8.552000045776367,\n",
       " 0.7310000061988831,\n",
       " 24.04199981689453,\n",
       " 11.652000427246094,\n",
       " -0.718999981880188,\n",
       " 22.235000610351562,\n",
       " 10.803999900817871,\n",
       " -0.02500000037252903,\n",
       " 23.097000122070312,\n",
       " 9.293000221252441,\n",
       " -0.1679999977350235,\n",
       " 23.040000915527344,\n",
       " 8.729000091552734,\n",
       " 0.05400000140070915,\n",
       " 21.63800048828125,\n",
       " 9.038000106811523,\n",
       " 1.0329999923706055,\n",
       " 20.983999252319336,\n",
       " 7.750999927520752,\n",
       " -0.859000027179718,\n",
       " 21.128999710083008,\n",
       " 7.559000015258789,\n",
       " -2.190999984741211,\n",
       " 21.597000122070312,\n",
       " 8.406000137329102,\n",
       " -2.742000102996826,\n",
       " 22.285999298095703,\n",
       " 6.316999912261963,\n",
       " -2.936000108718872,\n",
       " 21.156999588012695,\n",
       " 6.63100004196167,\n",
       " -4.019000053405762,\n",
       " 20.118999481201172,\n",
       " 6.9039998054504395,\n",
       " -0.39100000262260437,\n",
       " 20.047000885009766,\n",
       " 7.315000057220459,\n",
       " -0.4740000069141388,\n",
       " 18.72100067138672,\n",
       " 6.710000038146973,\n",
       " 0.14100000262260437,\n",
       " 17.694000244140625,\n",
       " 5.64900016784668,\n",
       " 0.8899999856948853,\n",
       " 17.96500015258789,\n",
       " 5.120999813079834,\n",
       " 1.0800000429153442,\n",
       " 19.267000198364258,\n",
       " 5.767000198364258,\n",
       " 0.41600000858306885,\n",
       " 20.350000381469727,\n",
       " 3.99399995803833,\n",
       " 1.8960000276565552,\n",
       " 19.533000946044922,\n",
       " 3.5320000648498535,\n",
       " 2.0460000038146973,\n",
       " 20.80900001525879,\n",
       " 4.146999835968018,\n",
       " 1.3919999599456787,\n",
       " 21.865999221801758,\n",
       " 5.23799991607666,\n",
       " 0.5979999899864197,\n",
       " 21.65399932861328,\n",
       " 8.07800006866455,\n",
       " -3.7690000534057617,\n",
       " 19.055999755859375]"
      ]
     },
     "execution_count": 40,
     "metadata": {},
     "output_type": "execute_result"
    }
   ],
   "source": [
    "ref_list"
   ]
  },
  {
   "cell_type": "code",
   "execution_count": 43,
   "metadata": {},
   "outputs": [
    {
     "ename": "TypeError",
     "evalue": "Wrong number or type of arguments for overloaded function 'OERMSD'.\n  Possible C/C++ prototypes are:\n    OEChem::OERMSD(OEChem::OEMolBase const &,OEChem::OEMolBase const &,bool,bool,bool,double *,double *)\n    OEChem::OERMSD(OEChem::OEMolBase const &,OEChem::OEMolBase const &,bool,bool,bool,double *)\n    OEChem::OERMSD(OEChem::OEMolBase const &,OEChem::OEMolBase const &,bool,bool,bool)\n    OEChem::OERMSD(OEChem::OEMolBase const &,OEChem::OEMolBase const &,bool,bool)\n    OEChem::OERMSD(OEChem::OEMolBase const &,OEChem::OEMolBase const &,bool)\n    OEChem::OERMSD(OEChem::OEMolBase const &,OEChem::OEMolBase const &)\n    OEChem::OERMSD(OEChem::OEMolBase const &,OEChem::OEMolBase const &,OEChem::OEMatchBase const &,bool,double *,double *)\n    OEChem::OERMSD(OEChem::OEMolBase const &,OEChem::OEMolBase const &,OEChem::OEMatchBase const &,bool,double *)\n    OEChem::OERMSD(OEChem::OEMolBase const &,OEChem::OEMolBase const &,OEChem::OEMatchBase const &,bool)\n    OEChem::OERMSD(OEChem::OEMolBase const &,OEChem::OEMolBase const &,OEChem::OEMatchBase const &)\n    OEChem::OERMSD(OEChem::OEMolBase const &,OEChem::OEMCMolBase const &,double *,bool,bool,bool,double *,double *)\n    OEChem::OERMSD(OEChem::OEMolBase const &,OEChem::OEMCMolBase const &,double *,bool,bool,bool,double *)\n    OEChem::OERMSD(OEChem::OEMolBase const &,OEChem::OEMCMolBase const &,double *,bool,bool,bool)\n    OEChem::OERMSD(OEChem::OEMolBase const &,OEChem::OEMCMolBase const &,double *,bool,bool)\n    OEChem::OERMSD(OEChem::OEMolBase const &,OEChem::OEMCMolBase const &,double *,bool)\n    OEChem::OERMSD(OEChem::OEMolBase const &,OEChem::OEMCMolBase const &,double *)\n    OEChem::OERMSD(OEChem::OEMolBase const &,OEChem::OEMCMolBase const &,double *,OEChem::OEMatchBase const &,bool,double *,double *)\n    OEChem::OERMSD(OEChem::OEMolBase const &,OEChem::OEMCMolBase const &,double *,OEChem::OEMatchBase const &,bool,double *)\n    OEChem::OERMSD(OEChem::OEMolBase const &,OEChem::OEMCMolBase const &,double *,OEChem::OEMatchBase const &,bool)\n    OEChem::OERMSD(OEChem::OEMolBase const &,OEChem::OEMCMolBase const &,double *,OEChem::OEMatchBase const &)\n    OEChem::OERMSD(OEChem::OEMolBase const &,OEChem::OEMolBase const &,double *,OEChem::OEMatchBase const &,bool,double *,double *)\n    OEChem::OERMSD(OEChem::OEMolBase const &,OEChem::OEMolBase const &,double *,OEChem::OEMatchBase const &,bool,double *)\n    OEChem::OERMSD(OEChem::OEMolBase const &,OEChem::OEMolBase const &,double *,OEChem::OEMatchBase const &,bool)\n    OEChem::OERMSD(OEChem::OEMolBase const &,OEChem::OEMolBase const &,double *,OEChem::OEMatchBase const &)\n    OEChem::OERMSD(float const *,float const *,unsigned int,bool,double *,double *)\n    OEChem::OERMSD(float const *,float const *,unsigned int,bool,double *)\n    OEChem::OERMSD(float const *,float const *,unsigned int,bool)\n    OEChem::OERMSD(float const *,float const *,unsigned int)\n    OEChem::OERMSD(double const *,double const *,unsigned int,bool,double *,double *)\n    OEChem::OERMSD(double const *,double const *,unsigned int,bool,double *)\n    OEChem::OERMSD(double const *,double const *,unsigned int,bool)\n    OEChem::OERMSD(double const *,double const *,unsigned int)\n    OEChem::OERMSD(OEChem::OEMolBase const &,OEChem::OEMolBase const &,OEBio::OESequenceAlignment &,bool,bool,double *,double *)\n    OEChem::OERMSD(OEChem::OEMolBase const &,OEChem::OEMolBase const &,OEBio::OESequenceAlignment &,bool,bool,double *)\n    OEChem::OERMSD(OEChem::OEMolBase const &,OEChem::OEMolBase const &,OEBio::OESequenceAlignment &,bool,bool)\n    OEChem::OERMSD(OEChem::OEMolBase const &,OEChem::OEMolBase const &,OEBio::OESequenceAlignment &,bool)\n    OEChem::OERMSD(OEChem::OEMolBase const &,OEChem::OEMolBase const &,OEBio::OESequenceAlignment &)\n",
     "output_type": "error",
     "traceback": [
      "\u001b[0;31m---------------------------------------------------------------------------\u001b[0m",
      "\u001b[0;31mTypeError\u001b[0m                                 Traceback (most recent call last)",
      "Input \u001b[0;32mIn [43]\u001b[0m, in \u001b[0;36m<cell line: 1>\u001b[0;34m()\u001b[0m\n\u001b[0;32m----> 1\u001b[0m \u001b[43moechem\u001b[49m\u001b[38;5;241;43m.\u001b[39;49m\u001b[43mOERMSD\u001b[49m\u001b[43m(\u001b[49m\u001b[43mref_list\u001b[49m\u001b[43m,\u001b[49m\n\u001b[1;32m      2\u001b[0m \u001b[43m              \u001b[49m\u001b[43mmobile_list\u001b[49m\u001b[43m,\u001b[49m\n\u001b[1;32m      3\u001b[0m \u001b[43m              \u001b[49m\u001b[38;5;241;43m29\u001b[39;49m\n\u001b[1;32m      4\u001b[0m \u001b[43m             \u001b[49m\u001b[43m)\u001b[49m\n",
      "File \u001b[0;32m~/opt/anaconda3/envs/mers-docking2/lib/python3.8/site-packages/openeye/oechem.py:37040\u001b[0m, in \u001b[0;36mOERMSD\u001b[0;34m(*args)\u001b[0m\n\u001b[1;32m  37029\u001b[0m \u001b[38;5;28;01mdef\u001b[39;00m \u001b[38;5;21mOERMSD\u001b[39m(\u001b[38;5;241m*\u001b[39margs) \u001b[38;5;241m-\u001b[39m\u001b[38;5;241m>\u001b[39m \u001b[38;5;124m\"\u001b[39m\u001b[38;5;124mdouble\u001b[39m\u001b[38;5;124m\"\u001b[39m:\n\u001b[1;32m  37030\u001b[0m     \u001b[38;5;124mr\u001b[39m\u001b[38;5;124;03m\"\"\"\u001b[39;00m\n\u001b[1;32m  37031\u001b[0m \u001b[38;5;124;03m    OERMSD(OEMolBase ref, OEMolBase fit, bool automorph=True, bool heavyOnly=True, bool overlay=False, double * rot=None, double * trans=None) -> double\u001b[39;00m\n\u001b[1;32m  37032\u001b[0m \u001b[38;5;124;03m    OERMSD(OEMolBase ref, OEMolBase fit, OEMatchBase match, bool overlay=False, double * rot=None, double * trans=None) -> double\u001b[39;00m\n\u001b[0;32m   (...)\u001b[0m\n\u001b[1;32m  37038\u001b[0m \u001b[38;5;124;03m    OERMSD(OEMolBase ref, OEMolBase fit, OESequenceAlignment align, bool onlyCAlpha=True, bool overlay=False, double * rot=None, double * trans=None) -> double\u001b[39;00m\n\u001b[1;32m  37039\u001b[0m \u001b[38;5;124;03m    \"\"\"\u001b[39;00m\n\u001b[0;32m> 37040\u001b[0m     \u001b[38;5;28;01mreturn\u001b[39;00m \u001b[43m_oechem\u001b[49m\u001b[38;5;241;43m.\u001b[39;49m\u001b[43mOERMSD\u001b[49m\u001b[43m(\u001b[49m\u001b[38;5;241;43m*\u001b[39;49m\u001b[43margs\u001b[49m\u001b[43m)\u001b[49m\n",
      "\u001b[0;31mTypeError\u001b[0m: Wrong number or type of arguments for overloaded function 'OERMSD'.\n  Possible C/C++ prototypes are:\n    OEChem::OERMSD(OEChem::OEMolBase const &,OEChem::OEMolBase const &,bool,bool,bool,double *,double *)\n    OEChem::OERMSD(OEChem::OEMolBase const &,OEChem::OEMolBase const &,bool,bool,bool,double *)\n    OEChem::OERMSD(OEChem::OEMolBase const &,OEChem::OEMolBase const &,bool,bool,bool)\n    OEChem::OERMSD(OEChem::OEMolBase const &,OEChem::OEMolBase const &,bool,bool)\n    OEChem::OERMSD(OEChem::OEMolBase const &,OEChem::OEMolBase const &,bool)\n    OEChem::OERMSD(OEChem::OEMolBase const &,OEChem::OEMolBase const &)\n    OEChem::OERMSD(OEChem::OEMolBase const &,OEChem::OEMolBase const &,OEChem::OEMatchBase const &,bool,double *,double *)\n    OEChem::OERMSD(OEChem::OEMolBase const &,OEChem::OEMolBase const &,OEChem::OEMatchBase const &,bool,double *)\n    OEChem::OERMSD(OEChem::OEMolBase const &,OEChem::OEMolBase const &,OEChem::OEMatchBase const &,bool)\n    OEChem::OERMSD(OEChem::OEMolBase const &,OEChem::OEMolBase const &,OEChem::OEMatchBase const &)\n    OEChem::OERMSD(OEChem::OEMolBase const &,OEChem::OEMCMolBase const &,double *,bool,bool,bool,double *,double *)\n    OEChem::OERMSD(OEChem::OEMolBase const &,OEChem::OEMCMolBase const &,double *,bool,bool,bool,double *)\n    OEChem::OERMSD(OEChem::OEMolBase const &,OEChem::OEMCMolBase const &,double *,bool,bool,bool)\n    OEChem::OERMSD(OEChem::OEMolBase const &,OEChem::OEMCMolBase const &,double *,bool,bool)\n    OEChem::OERMSD(OEChem::OEMolBase const &,OEChem::OEMCMolBase const &,double *,bool)\n    OEChem::OERMSD(OEChem::OEMolBase const &,OEChem::OEMCMolBase const &,double *)\n    OEChem::OERMSD(OEChem::OEMolBase const &,OEChem::OEMCMolBase const &,double *,OEChem::OEMatchBase const &,bool,double *,double *)\n    OEChem::OERMSD(OEChem::OEMolBase const &,OEChem::OEMCMolBase const &,double *,OEChem::OEMatchBase const &,bool,double *)\n    OEChem::OERMSD(OEChem::OEMolBase const &,OEChem::OEMCMolBase const &,double *,OEChem::OEMatchBase const &,bool)\n    OEChem::OERMSD(OEChem::OEMolBase const &,OEChem::OEMCMolBase const &,double *,OEChem::OEMatchBase const &)\n    OEChem::OERMSD(OEChem::OEMolBase const &,OEChem::OEMolBase const &,double *,OEChem::OEMatchBase const &,bool,double *,double *)\n    OEChem::OERMSD(OEChem::OEMolBase const &,OEChem::OEMolBase const &,double *,OEChem::OEMatchBase const &,bool,double *)\n    OEChem::OERMSD(OEChem::OEMolBase const &,OEChem::OEMolBase const &,double *,OEChem::OEMatchBase const &,bool)\n    OEChem::OERMSD(OEChem::OEMolBase const &,OEChem::OEMolBase const &,double *,OEChem::OEMatchBase const &)\n    OEChem::OERMSD(float const *,float const *,unsigned int,bool,double *,double *)\n    OEChem::OERMSD(float const *,float const *,unsigned int,bool,double *)\n    OEChem::OERMSD(float const *,float const *,unsigned int,bool)\n    OEChem::OERMSD(float const *,float const *,unsigned int)\n    OEChem::OERMSD(double const *,double const *,unsigned int,bool,double *,double *)\n    OEChem::OERMSD(double const *,double const *,unsigned int,bool,double *)\n    OEChem::OERMSD(double const *,double const *,unsigned int,bool)\n    OEChem::OERMSD(double const *,double const *,unsigned int)\n    OEChem::OERMSD(OEChem::OEMolBase const &,OEChem::OEMolBase const &,OEBio::OESequenceAlignment &,bool,bool,double *,double *)\n    OEChem::OERMSD(OEChem::OEMolBase const &,OEChem::OEMolBase const &,OEBio::OESequenceAlignment &,bool,bool,double *)\n    OEChem::OERMSD(OEChem::OEMolBase const &,OEChem::OEMolBase const &,OEBio::OESequenceAlignment &,bool,bool)\n    OEChem::OERMSD(OEChem::OEMolBase const &,OEChem::OEMolBase const &,OEBio::OESequenceAlignment &,bool)\n    OEChem::OERMSD(OEChem::OEMolBase const &,OEChem::OEMolBase const &,OEBio::OESequenceAlignment &)\n"
     ]
    }
   ],
   "source": [
    "oechem.OERMSD(ref_list,\n",
    "              mobile_list,\n",
    "              29\n",
    "             )"
   ]
  },
  {
   "cell_type": "markdown",
   "metadata": {},
   "source": [
    "# Test why MERS RMSDs are failing"
   ]
  },
  {
   "cell_type": "code",
   "execution_count": null,
   "metadata": {},
   "outputs": [],
   "source": [
    "imp"
   ]
  }
 ],
 "metadata": {
  "kernelspec": {
   "display_name": "Python 3 (ipykernel)",
   "language": "python",
   "name": "python3"
  },
  "language_info": {
   "codemirror_mode": {
    "name": "ipython",
    "version": 3
   },
   "file_extension": ".py",
   "mimetype": "text/x-python",
   "name": "python",
   "nbconvert_exporter": "python",
   "pygments_lexer": "ipython3",
   "version": "3.8.13"
  },
  "toc": {
   "base_numbering": 1,
   "nav_menu": {},
   "number_sections": true,
   "sideBar": true,
   "skip_h1_title": false,
   "title_cell": "Table of Contents",
   "title_sidebar": "Contents",
   "toc_cell": false,
   "toc_position": {},
   "toc_section_display": true,
   "toc_window_display": false
  }
 },
 "nbformat": 4,
 "nbformat_minor": 1
}
