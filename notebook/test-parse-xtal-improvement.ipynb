{
 "cells": [
  {
   "cell_type": "markdown",
   "metadata": {},
   "source": [
    "# Imports"
   ]
  },
  {
   "cell_type": "code",
   "execution_count": null,
   "metadata": {},
   "outputs": [],
   "source": [
    "from asapdiscovery.data.fragalysis import parse_xtal\n",
    "from pathlib import Path\n",
    "from glob import glob\n",
    "import os"
   ]
  },
  {
   "cell_type": "markdown",
   "metadata": {},
   "source": [
    "## Paths"
   ]
  },
  {
   "cell_type": "code",
   "execution_count": null,
   "metadata": {},
   "outputs": [],
   "source": [
    "# xtal_fn = Path(\"/data/chodera/asap-datasets/mpro_fragalysis_2022_10_12/extra_files/Mpro_compound_tracker_csv.csv\")\n",
    "xtal_fn = Path(\"/Users/alexpayne/lilac-mount-point/asap-datasets/mpro_fragalysis_2022_10_12/extra_files/Mpro_compound_tracker_csv.csv\")\n",
    "x_dir = Path(\"/Users/alexpayne/lilac-mount-point/asap-datasets/mpro_fragalysis_2022_10_12/aligned/\")"
   ]
  },
  {
   "cell_type": "code",
   "execution_count": null,
   "metadata": {
    "pycharm": {
     "name": "#%%\n"
    }
   },
   "outputs": [],
   "source": [
    "help(parse_xtal)"
   ]
  },
  {
   "cell_type": "code",
   "execution_count": null,
   "metadata": {},
   "outputs": [],
   "source": [
    "xtal_compounds_p_only = parse_xtal(xtal_fn, x_dir)"
   ]
  },
  {
   "cell_type": "code",
   "execution_count": null,
   "metadata": {},
   "outputs": [],
   "source": [
    "len(xtal_compounds_p_only)"
   ]
  },
  {
   "cell_type": "code",
   "execution_count": null,
   "metadata": {},
   "outputs": [],
   "source": []
  },
  {
   "cell_type": "code",
   "execution_count": null,
   "metadata": {},
   "outputs": [],
   "source": [
    "xtal_compounds = parse_xtal(xtal_fn, x_dir, p_only=False)"
   ]
  },
  {
   "cell_type": "code",
   "execution_count": null,
   "metadata": {},
   "outputs": [],
   "source": [
    "len(xtal_compounds)"
   ]
  },
  {
   "cell_type": "markdown",
   "metadata": {},
   "source": [
    "# Implement version here:"
   ]
  },
  {
   "cell_type": "code",
   "execution_count": null,
   "metadata": {},
   "outputs": [],
   "source": [
    "def parse_xtal_test(x_fn, x_dir, p_only=True, keep_filter=True, enumerate_chains=False):\n",
    "    \"\"\"\n",
    "    Load all crystal structures into schema.CrystalCompoundData objects.\n",
    "    Parameters\n",
    "    ----------\n",
    "    x_fn : str\n",
    "        CSV file giving information on each crystal structure\n",
    "    x_dir : str\n",
    "        Path to directory containing directories with crystal structure PDB\n",
    "        files\n",
    "    p_only : bool, default=True\n",
    "        Whether to filter to only include fragalysis structures of the\n",
    "        format Mpro-P*\n",
    "    Returns\n",
    "    -------\n",
    "    List[schema.CrystalCompoundData]\n",
    "        List of parsed crystal structures\n",
    "    \"\"\"\n",
    "    import pandas\n",
    "    import os\n",
    "    from asapdiscovery.data.schema import CrystalCompoundData\n",
    "    f\n",
    "    \n",
    "    df = pandas.read_csv(x_fn)\n",
    "\n",
    "    if p_only:\n",
    "        ## Find all P-files\n",
    "        idx = [(type(d) is str) and (\"-P\" in d) for d in df[\"Dataset\"]]\n",
    "    else:\n",
    "        idx = [type(d) is str for d in df[\"Dataset\"]]\n",
    "\n",
    "    ## Build argument dicts for the CrystalCompoundData objects\n",
    "    xtal_dicts = [\n",
    "        dict(zip((\"smiles\", \"dataset\", \"compound_id\"), r[1].values))\n",
    "        for r in df.loc[idx, [\"SMILES\", \"Dataset\", \"Compound ID\"]].iterrows()\n",
    "    ]\n",
    "    \n",
    "    if keep_filter:\n",
    "        ## Add structure filename information and filter if not found\n",
    "        filtered_xtal_dicts = []\n",
    "        for d in tqdm(xtal_dicts):\n",
    "            fn_base = f'{x_dir}/{d[\"dataset\"]}_0{{}}/{d[\"dataset\"]}_0{{}}_{{}}.pdb'\n",
    "            for suf in [\"seqres\", \"bound\"]:\n",
    "                for chain in [\"A\", \"B\"]:\n",
    "                    fn = fn_base.format(chain, chain, suf)\n",
    "                    if os.path.isfile(fn):\n",
    "                        d[\"str_fn\"] = fn\n",
    "                        break\n",
    "                if os.path.isfile(fn):\n",
    "                    break\n",
    "            if os.path.isfile(fn):\n",
    "                filtered_xtal_dicts.append(d)\n",
    "            else:\n",
    "                print(f'No structure found for {d[\"dataset\"]}.')\n",
    "        assert (\n",
    "            len(filtered_xtal_dicts) > 0\n",
    "        ), \"No structure filenames were found by parse_xtal\"\n",
    "        ## Build CrystalCompoundData objects for each row\n",
    "        print(f\"Loading {len(filtered_xtal_dicts)} structures\")\n",
    "        xtal_dicts = filtered_xtal_dicts\n",
    "    xtal_compounds = [CrystalCompoundData(**d) for d in xtal_dicts]\n",
    "\n",
    "    return xtal_compounds"
   ]
  },
  {
   "cell_type": "code",
   "execution_count": null,
   "metadata": {},
   "outputs": [],
   "source": [
    "xtal_compounds_test = parse_xtal_test(xtal_fn, x_dir, p_only=False, keep_filter=False)"
   ]
  },
  {
   "cell_type": "code",
   "execution_count": null,
   "metadata": {},
   "outputs": [],
   "source": [
    "len(xtal_compounds_test)"
   ]
  },
  {
   "cell_type": "code",
   "execution_count": null,
   "metadata": {},
   "outputs": [],
   "source": [
    "xtal_compounds_test_v2 = parse_xtal_test(xtal_fn, x_dir, p_only=False, keep_filter=True)\n",
    "len(xtal_compounds_test_v2)"
   ]
  },
  {
   "cell_type": "code",
   "execution_count": null,
   "metadata": {},
   "outputs": [],
   "source": []
  },
  {
   "cell_type": "markdown",
   "metadata": {},
   "source": [
    "## where are the other 300 structures going?"
   ]
  },
  {
   "cell_type": "code",
   "execution_count": null,
   "metadata": {},
   "outputs": [],
   "source": [
    "df = pandas.read_csv(xtal_fn)"
   ]
  },
  {
   "cell_type": "code",
   "execution_count": null,
   "metadata": {},
   "outputs": [],
   "source": [
    "idx = [type(d) is str for d in df[\"Dataset\"]]"
   ]
  },
  {
   "cell_type": "code",
   "execution_count": null,
   "metadata": {},
   "outputs": [],
   "source": [
    "sum(idx)"
   ]
  },
  {
   "cell_type": "code",
   "execution_count": null,
   "metadata": {},
   "outputs": [],
   "source": [
    "xtal_compounds_test"
   ]
  },
  {
   "cell_type": "markdown",
   "metadata": {},
   "source": [
    "### they just aren't getting enumerated during the fn addition step"
   ]
  },
  {
   "cell_type": "code",
   "execution_count": null,
   "metadata": {},
   "outputs": [],
   "source": [
    "def parse_xtal_test(x_fn, x_dir, p_only=True, enumerate_chains=False):\n",
    "    \"\"\"\n",
    "    Load all crystal structures into schema.CrystalCompoundData objects.\n",
    "    Parameters\n",
    "    ----------\n",
    "    x_fn : str\n",
    "        CSV file giving information on each crystal structure\n",
    "    x_dir : str\n",
    "        Path to directory containing directories with crystal structure PDB\n",
    "        files\n",
    "    p_only : bool, default=True\n",
    "        Whether to filter to only include fragalysis structures of the\n",
    "        format Mpro-P*\n",
    "    Returns\n",
    "    -------\n",
    "    List[schema.CrystalCompoundData]\n",
    "        List of parsed crystal structures\n",
    "    \"\"\"\n",
    "    import pandas\n",
    "    import os\n",
    "    from asapdiscovery.data.schema import CrystalCompoundData\n",
    "    from tqdm import tqdm\n",
    "    \n",
    "    df = pandas.read_csv(x_fn)\n",
    "\n",
    "    if p_only:\n",
    "        ## Find all P-files\n",
    "        idx = [(type(d) is str) and (\"-P\" in d) for d in df[\"Dataset\"]]\n",
    "    else:\n",
    "        idx = [type(d) is str for d in df[\"Dataset\"]]\n",
    "\n",
    "    ## Build argument dicts for the CrystalCompoundData objects\n",
    "    xtal_dicts = [\n",
    "        dict(zip((\"smiles\", \"dataset\", \"compound_id\"), r[1].values))\n",
    "        for r in df.loc[idx, [\"SMILES\", \"Dataset\", \"Compound ID\"]].iterrows()\n",
    "    ]\n",
    "    \n",
    "    \n",
    "    ## Add structure filename information and filter if not found\n",
    "    filtered_xtal_dicts = []\n",
    "    for d in tqdm(xtal_dicts):\n",
    "        fn_base = f'{x_dir}/{d[\"dataset\"]}_0{{}}/{d[\"dataset\"]}_0{{}}_{{}}.pdb'\n",
    "        for suf in [\"seqres\", \"bound\"]:\n",
    "            for chain in [\"A\", \"B\"]:\n",
    "                fn = fn_base.format(chain, chain, suf)\n",
    "                if os.path.isfile(fn):\n",
    "                    d[\"str_fn\"] = fn\n",
    "                    break\n",
    "            if os.path.isfile(fn):\n",
    "                break\n",
    "        if os.path.isfile(fn):\n",
    "            filtered_xtal_dicts.append(d)\n",
    "        else:\n",
    "            print(f'No structure found for {d[\"dataset\"]}.')\n",
    "    assert (\n",
    "        len(filtered_xtal_dicts) > 0\n",
    "    ), \"No structure filenames were found by parse_xtal\"\n",
    "    ## Build CrystalCompoundData objects for each row\n",
    "    print(f\"Loading {len(filtered_xtal_dicts)} structures\")\n",
    "    xtal_dicts = filtered_xtal_dicts\n",
    "    xtal_compounds = [CrystalCompoundData(**d) for d in xtal_dicts]\n",
    "\n",
    "    return xtal_compounds"
   ]
  },
  {
   "cell_type": "code",
   "execution_count": null,
   "metadata": {},
   "outputs": [],
   "source": [
    "test =  parse_xtal_test(xtal_fn, x_dir, p_only=False, enumerate_chains=True)"
   ]
  },
  {
   "cell_type": "markdown",
   "metadata": {},
   "source": [
    "## split up function"
   ]
  },
  {
   "cell_type": "code",
   "execution_count": null,
   "metadata": {},
   "outputs": [],
   "source": [
    "df = pandas.read_csv(xtal_fn)\n",
    "idx = [type(d) is str for d in df[\"Dataset\"]]\n",
    "\n",
    "## Build argument dicts for the CrystalCompoundData objects\n",
    "xtal_dicts = [\n",
    "    dict(zip((\"smiles\", \"dataset\", \"compound_id\"), r[1].values))\n",
    "    for r in df.loc[idx, [\"SMILES\", \"Dataset\", \"Compound ID\"]].iterrows()\n",
    "]"
   ]
  },
  {
   "cell_type": "code",
   "execution_count": null,
   "metadata": {},
   "outputs": [],
   "source": [
    "xtal_dicts"
   ]
  },
  {
   "cell_type": "code",
   "execution_count": null,
   "metadata": {},
   "outputs": [],
   "source": [
    "len(xtal_dicts)"
   ]
  },
  {
   "cell_type": "markdown",
   "metadata": {},
   "source": [
    "## use glob instead"
   ]
  },
  {
   "cell_type": "code",
   "execution_count": null,
   "metadata": {},
   "outputs": [],
   "source": [
    "d0 = xtal_dicts[0]"
   ]
  },
  {
   "cell_type": "code",
   "execution_count": null,
   "metadata": {},
   "outputs": [],
   "source": [
    "glob_str = f\"{d0['dataset']}*/*.pdb\"\n",
    "glob_str"
   ]
  },
  {
   "cell_type": "code",
   "execution_count": null,
   "metadata": {},
   "outputs": [],
   "source": [
    "from glob import glob"
   ]
  },
  {
   "cell_type": "code",
   "execution_count": null,
   "metadata": {},
   "outputs": [],
   "source": [
    "list(x_dir.glob(glob_str))"
   ]
  },
  {
   "cell_type": "code",
   "execution_count": null,
   "metadata": {},
   "outputs": [],
   "source": [
    "filtered_xtal_dicts = []\n",
    "all_fns = []\n",
    "for d in xtal_dicts:\n",
    "    glob_str = f\"{d['dataset']}*/*.pdb\"\n",
    "    fns = list(x_dir.glob(glob_str))\n",
    "    for fn in fns:\n",
    "        d['str_fn'] = fn\n",
    "#         if os.path.isfile(fn):\n",
    "#             filtered_xtal_dicts.append(d)\n",
    "        all_fns.append(fn)\n",
    "    filtered_xtal_dicts.append(d)"
   ]
  },
  {
   "cell_type": "code",
   "execution_count": null,
   "metadata": {},
   "outputs": [],
   "source": [
    "len(filtered_xtal_dicts)"
   ]
  },
  {
   "cell_type": "markdown",
   "metadata": {},
   "source": [
    "## full glob "
   ]
  },
  {
   "cell_type": "code",
   "execution_count": null,
   "metadata": {},
   "outputs": [],
   "source": [
    "full_glob = list(x_dir.glob(\"*/*.pdb\"))"
   ]
  },
  {
   "cell_type": "code",
   "execution_count": null,
   "metadata": {},
   "outputs": [],
   "source": [
    "len(full_glob)"
   ]
  },
  {
   "cell_type": "markdown",
   "metadata": {},
   "source": [
    "## compare full glob to partial"
   ]
  },
  {
   "cell_type": "code",
   "execution_count": null,
   "metadata": {},
   "outputs": [],
   "source": [
    "missing = [fn for fn in full_glob if fn not in all_fns]"
   ]
  },
  {
   "cell_type": "code",
   "execution_count": null,
   "metadata": {},
   "outputs": [],
   "source": [
    "missing"
   ]
  },
  {
   "cell_type": "code",
   "execution_count": null,
   "metadata": {},
   "outputs": [],
   "source": [
    "len(missing)"
   ]
  },
  {
   "cell_type": "code",
   "execution_count": null,
   "metadata": {},
   "outputs": [],
   "source": [
    "len(all_fns)"
   ]
  },
  {
   "cell_type": "code",
   "execution_count": null,
   "metadata": {},
   "outputs": [],
   "source": [
    "len(full_glob)"
   ]
  },
  {
   "cell_type": "markdown",
   "metadata": {},
   "source": [
    "### missing structures that are in metadata.csv and not compound tracker.csv"
   ]
  },
  {
   "cell_type": "code",
   "execution_count": null,
   "metadata": {},
   "outputs": [],
   "source": []
  },
  {
   "cell_type": "markdown",
   "metadata": {},
   "source": [
    "# try using metadata.csv instead"
   ]
  },
  {
   "cell_type": "markdown",
   "metadata": {},
   "source": [
    "## load csv"
   ]
  },
  {
   "cell_type": "code",
   "execution_count": null,
   "metadata": {},
   "outputs": [],
   "source": [
    "metadata_csv = Path(\"/Users/alexpayne/lilac-mount-point/asap-datasets/mpro_fragalysis_2022_10_12/metadata.csv\")"
   ]
  },
  {
   "cell_type": "code",
   "execution_count": null,
   "metadata": {},
   "outputs": [],
   "source": [
    "metadata_csv"
   ]
  },
  {
   "cell_type": "code",
   "execution_count": null,
   "metadata": {},
   "outputs": [],
   "source": [
    "metadf = pandas.read_csv(metadata_csv, index_col=0)"
   ]
  },
  {
   "cell_type": "code",
   "execution_count": null,
   "metadata": {},
   "outputs": [],
   "source": [
    "metadf"
   ]
  },
  {
   "cell_type": "markdown",
   "metadata": {},
   "source": [
    "## build argument dicts"
   ]
  },
  {
   "cell_type": "code",
   "execution_count": null,
   "metadata": {},
   "outputs": [],
   "source": [
    "## Build argument dicts for the CrystalCompoundData objects\n",
    "xtal_dicts = [\n",
    "    dict(zip((\"smiles\", \"dataset\", \"compound_id\"), r[1].values))\n",
    "    for r in metadf.loc[:,[\"smiles\", \"crystal_name\", \"alternate_name\"]].iterrows()\n",
    "]"
   ]
  },
  {
   "cell_type": "code",
   "execution_count": null,
   "metadata": {},
   "outputs": [],
   "source": [
    "len(xtal_dicts)"
   ]
  },
  {
   "cell_type": "code",
   "execution_count": null,
   "metadata": {},
   "outputs": [],
   "source": [
    "from tqdm import tqdm\n",
    "filtered_xtal_dicts = []\n",
    "all_fns = []\n",
    "for d in tqdm(xtal_dicts):\n",
    "    glob_str = f\"{d['dataset']}*/*.pdb\"\n",
    "    fns = list(x_dir.glob(glob_str))\n",
    "    for fn in fns:\n",
    "        d['str_fn'] = str(fn)\n",
    "        if os.path.isfile(fn):\n",
    "            filtered_xtal_dicts.append(d)\n",
    "            all_fns.append(fn)"
   ]
  },
  {
   "cell_type": "code",
   "execution_count": null,
   "metadata": {},
   "outputs": [],
   "source": [
    "xtal_compounds = [CrystalCompoundData(**d) for d in filtered_xtal_dicts]"
   ]
  },
  {
   "cell_type": "code",
   "execution_count": null,
   "metadata": {},
   "outputs": [],
   "source": [
    "len(xtal_compounds)"
   ]
  },
  {
   "cell_type": "markdown",
   "metadata": {},
   "source": [
    "## using new version from repo"
   ]
  },
  {
   "cell_type": "code",
   "execution_count": null,
   "metadata": {},
   "outputs": [],
   "source": [
    "from asapdiscovery.data import fragalysis as f\n",
    "from importlib import reload\n",
    "reload(f)"
   ]
  },
  {
   "cell_type": "code",
   "execution_count": null,
   "metadata": {},
   "outputs": [],
   "source": [
    "xtals = f.parse_fragalysis(metadata_csv, x_dir)"
   ]
  },
  {
   "cell_type": "markdown",
   "metadata": {},
   "source": []
  },
  {
   "cell_type": "markdown",
   "metadata": {},
   "source": [
    "## testing filtering"
   ]
  },
  {
   "cell_type": "code",
   "execution_count": null,
   "metadata": {},
   "outputs": [],
   "source": [
    "idx = metadf.crystal_name.apply(lambda x: \"Mpro-P\" in x)"
   ]
  },
  {
   "cell_type": "code",
   "execution_count": null,
   "metadata": {},
   "outputs": [],
   "source": [
    "metadf[idx]"
   ]
  },
  {
   "cell_type": "markdown",
   "metadata": {},
   "source": [
    "## using new filtering version from repo"
   ]
  },
  {
   "cell_type": "code",
   "execution_count": null,
   "metadata": {},
   "outputs": [],
   "source": [
    "reload(f)"
   ]
  },
  {
   "cell_type": "code",
   "execution_count": null,
   "metadata": {},
   "outputs": [],
   "source": [
    "xtals = f.parse_fragalysis(metadata_csv, x_dir, name_filter=\"Mpro-P\", drop_duplicate_datasets=True)"
   ]
  },
  {
   "cell_type": "code",
   "execution_count": null,
   "metadata": {},
   "outputs": [],
   "source": [
    "xtals = f.parse_fragalysis(metadata_csv, x_dir, drop_duplicate_datasets=False)"
   ]
  },
  {
   "cell_type": "code",
   "execution_count": null,
   "metadata": {},
   "outputs": [],
   "source": [
    "xtals = f.parse_fragalysis(metadata_csv, x_dir, name_filter=[\"MAT-POS\"], name_filter_column=\"alternate_name\", drop_duplicate_datasets=True)"
   ]
  },
  {
   "cell_type": "code",
   "execution_count": null,
   "metadata": {},
   "outputs": [],
   "source": []
  }
 ],
 "metadata": {
  "kernelspec": {
   "display_name": "Python 3 (ipykernel)",
   "language": "python",
   "name": "python3"
  },
  "language_info": {
   "codemirror_mode": {
    "name": "ipython",
    "version": 3
   },
   "file_extension": ".py",
   "mimetype": "text/x-python",
   "name": "python",
   "nbconvert_exporter": "python",
   "pygments_lexer": "ipython3",
   "version": "3.8.13"
  },
  "toc": {
   "base_numbering": 1,
   "nav_menu": {},
   "number_sections": true,
   "sideBar": true,
   "skip_h1_title": false,
   "title_cell": "Table of Contents",
   "title_sidebar": "Contents",
   "toc_cell": false,
   "toc_position": {},
   "toc_section_display": true,
   "toc_window_display": true
  }
 },
 "nbformat": 4,
 "nbformat_minor": 1
}
