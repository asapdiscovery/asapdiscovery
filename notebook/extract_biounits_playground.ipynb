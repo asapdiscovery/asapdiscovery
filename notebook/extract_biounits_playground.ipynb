{
 "cells": [
  {
   "cell_type": "code",
   "execution_count": null,
   "id": "bc306c3f-4c60-4be0-b907-ff5db0d6f863",
   "metadata": {},
   "outputs": [],
   "source": [
    "import os\n",
    "\n",
    "from openeye import oechem, oespruce"
   ]
  },
  {
   "cell_type": "code",
   "execution_count": null,
   "id": "d73db484-fae3-41f1-a02c-034e46521444",
   "metadata": {},
   "outputs": [],
   "source": [
    "pdb_fn = \"input_pdbs/pdb8dgy.ent\"\n",
    "ref_fn = \"input_pdbs/reference.pdb\"\n",
    "\n",
    "out_dir = \"design_units/\""
   ]
  },
  {
   "cell_type": "code",
   "execution_count": null,
   "id": "c26e8911-58f1-4e8f-91fd-c5090bb4a4e3",
   "metadata": {},
   "outputs": [],
   "source": [
    "## Load molecule to extract\n",
    "ifs = oechem.oemolistream()\n",
    "ifs.SetFlavor(\n",
    "    oechem.OEFormat_PDB,\n",
    "    oechem.OEIFlavor_PDB_Default | oechem.OEIFlavor_PDB_DATA,\n",
    ")\n",
    "ifs.open(pdb_fn)\n",
    "in_mol = oechem.OEGraphMol()\n",
    "oechem.OEReadMolecule(ifs, in_mol)\n",
    "ifs.close()\n",
    "\n",
    "## Load reference molecule\n",
    "ifs.open(ref_fn)\n",
    "ref_mol = oechem.OEGraphMol()\n",
    "oechem.OEReadMolecule(ifs, ref_mol)\n",
    "ifs.close()"
   ]
  },
  {
   "cell_type": "code",
   "execution_count": null,
   "id": "a1d02398-fc5c-4bdc-8ca7-f530d6a1a480",
   "metadata": {},
   "outputs": [],
   "source": [
    "## Make BioUnitExtractionOptions object and set superpose\n",
    "##  (aligning to reference)\n",
    "opts = oespruce.OEBioUnitExtractionOptions()\n",
    "opts.SetSuperpose(True)\n",
    "\n",
    "## Run extraction\n",
    "# for i in range(1, 10):\n",
    "#     opts.SetMinScore(i * 100)\n",
    "#     biounits = oespruce.OEExtractBioUnits(in_mol, ref_mol, opts)\n",
    "#     try:\n",
    "#         next(iter(biounits))\n",
    "#     except StopIteration:\n",
    "#         break\n",
    "\n",
    "#     print(i * 100, flush=True)\n",
    "# else:\n",
    "#     ## If the loop finished successfully (still get matches at MinScore=1000)\n",
    "#     ##  then we want to add one so it stays at 10 when we subtract\n",
    "#     i += 1\n",
    "# i -= 1\n",
    "\n",
    "# ## Re-run extraction with appropriate MinScore\n",
    "# opts.SetMinScore(i * 100)\n",
    "biounits = oespruce.OEExtractBioUnits(in_mol, ref_mol, opts)"
   ]
  },
  {
   "cell_type": "code",
   "execution_count": null,
   "id": "269b83d8-ba59-4bf1-8761-f9f350634834",
   "metadata": {},
   "outputs": [],
   "source": [
    "## Output biounit\n",
    "out_base = f\"{out_dir}/{os.path.splitext(os.path.basename(pdb_fn))[0]}_biounit_{{}}.pdb\"\n",
    "ofs = oechem.oemolostream()\n",
    "ofs.SetFlavor(\n",
    "    oechem.OEFormat_PDB,\n",
    "    oechem.OEOFlavor_PDB_Default,\n",
    ")\n",
    "for i, biounit in enumerate(biounits):\n",
    "    print(out_base.format(i))\n",
    "    ofs.open(out_base.format(i))\n",
    "    oechem.OEWriteMolecule(ofs, biounit)\n",
    "    ofs.close()"
   ]
  },
  {
   "cell_type": "code",
   "execution_count": null,
   "id": "947644d5-e010-46e0-b26b-bf36ce96ff25",
   "metadata": {},
   "outputs": [],
   "source": [
    "in_mol_copy = oechem.OEGraphMol()\n",
    "oechem.OECopyMol(in_mol_copy, in_mol)\n",
    "# oechem.OEPerceiveResidues(in_mol_copy, oechem.OEPreserveResInfo_All)\n",
    "\n",
    "map_dict = {}\n",
    "# for :\n",
    "#     if oechem.OEIsStandardProteinResidue(oechem.OEGetAtom)"
   ]
  }
 ],
 "metadata": {
  "kernelspec": {
   "display_name": "Python 3 (ipykernel)",
   "language": "python",
   "name": "python3"
  },
  "language_info": {
   "codemirror_mode": {
    "name": "ipython",
    "version": 3
   },
   "file_extension": ".py",
   "mimetype": "text/x-python",
   "name": "python",
   "nbconvert_exporter": "python",
   "pygments_lexer": "ipython3",
   "version": "3.8.13"
  },
  "toc": {
   "base_numbering": 1,
   "nav_menu": {},
   "number_sections": true,
   "sideBar": true,
   "skip_h1_title": false,
   "title_cell": "Table of Contents",
   "title_sidebar": "Contents",
   "toc_cell": false,
   "toc_position": {},
   "toc_section_display": true,
   "toc_window_display": false
  }
 },
 "nbformat": 4,
 "nbformat_minor": 5
}
