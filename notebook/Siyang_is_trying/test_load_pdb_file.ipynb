{
 "cells": [
  {
   "cell_type": "markdown",
   "id": "8dcba0e4-9cde-445d-906c-fd71f836c098",
   "metadata": {},
   "source": [
    "Trying to load in the pdb file of ZIKV_NS2B3_ligands.pdb"
   ]
  },
  {
   "cell_type": "code",
   "execution_count": null,
   "id": "3bf3c293-c643-41f9-9b62-f0737221fdef",
   "metadata": {},
   "outputs": [],
   "source": [
    "# I think I need these packages\n",
    "#import pandas\n",
    "#import numpy\n",
    "\n",
    "# https://github.com/choderalab/asapdiscovery/blob/main/asapdiscovery-data/asapdiscovery/data/openeye.py\n",
    "from asapdiscovery.data.openeye import oechem, load_openeye_pdb, save_openeye_sdf, openeye_perceive_residues\n",
    "from asapdiscovery.modeling import modeling\n",
    "from openeye import oechem # might want oespruce as well: https://docs.eyesopen.com/applications/spruce/spruce/spruce_overview.html\n",
    "oechem.OEChemIsLicensed(\"python\")"
   ]
  },
  {
   "cell_type": "code",
   "execution_count": null,
   "id": "35df0b6f-a042-4335-b96b-4f4395695df6",
   "metadata": {},
   "outputs": [],
   "source": [
    "# Load in the pdb file\n",
    "zikv_file = \"/Users/choderalab/asapdiscovery/temp_storage/ZIKV_NS2B3_ligands.pdb\"\n",
    "zikv_complex= load_openeye_pdb(zikv_file)\n",
    "zikv_complex"
   ]
  },
  {
   "cell_type": "markdown",
   "id": "062886dc-4e73-416d-82b9-9f849649443a",
   "metadata": {},
   "source": [
    "Splitting function from: \n",
    "\n",
    "https://github.com/choderalab/asapdiscovery/blob/main/asapdiscovery-modeling/asapdiscovery/modeling/modeling.py#L567"
   ]
  },
  {
   "cell_type": "code",
   "execution_count": null,
   "id": "defcdc6a-541b-4d3c-8fdd-c4103805f8eb",
   "metadata": {},
   "outputs": [],
   "source": [
    "# documents: https://docs.eyesopen.com/toolkits/python/oechemtk/OEBioClasses/OESplitMolComplexOptions.html\n",
    "# oechem.OESplitMolComplexOptions() <- Not going to use, but seems kind of fun\n",
    "\n",
    "# Split the molecules\n",
    "split_zikv = modeling.split_openeye_mol(zikv_complex)\n",
    "split_zikv"
   ]
  },
  {
   "cell_type": "markdown",
   "id": "a3902751-8173-43b1-b8ad-1bd722cd8560",
   "metadata": {},
   "source": [
    "Recombining the individual ligands and the protein\n",
    "\n",
    "https://github.com/choderalab/asapdiscovery/blob/main/asapdiscovery-data/asapdiscovery/data/openeye.py#L25"
   ]
  },
  {
   "cell_type": "code",
   "execution_count": null,
   "id": "c8ac0a59-a1e8-4296-9f8d-56f7686f730c",
   "metadata": {},
   "outputs": [],
   "source": [
    "ligands = split_zikv['lig']\n",
    "ligands.NumGroups()"
   ]
  },
  {
   "cell_type": "code",
   "execution_count": null,
   "id": "ffc96ee8-dcdd-43fe-95a5-de688091aebc",
   "metadata": {},
   "outputs": [],
   "source": [
    "for i, atom in enumerate(ligands.GetAtoms()):\n",
    "    print(i)"
   ]
  },
  {
   "cell_type": "code",
   "execution_count": null,
   "id": "1eb78bf4-ae86-420f-a960-d5e38b89ceff",
   "metadata": {},
   "outputs": [],
   "source": [
    "# Try to see if this may be better\n",
    "perceived_ligs = openeye_perceive_residues(ligands)\n",
    "save_openeye_sdf(perceived_ligs, \"perceived_ligs.sdf\")"
   ]
  },
  {
   "cell_type": "code",
   "execution_count": null,
   "id": "9b4c5901-f752-455d-afe8-fff86fb921b0",
   "metadata": {},
   "outputs": [],
   "source": [
    "# bonds is a list of tuples representing the bonds between atoms\n",
    "bonds_list = []\n",
    "for i, bond in enumerate(ligands.GetBonds()):\n",
    "    bonds_list.append((bond.GetBgnIdx(), bond.GetEndIdx()))"
   ]
  },
  {
   "cell_type": "code",
   "execution_count": null,
   "id": "25b66d91-992d-4f98-8342-cb37be62b1c9",
   "metadata": {},
   "outputs": [],
   "source": [
    "def cluster_atoms(bonds):\n",
    "    atom_piles = {}\n",
    "    pile_number = 1\n",
    "\n",
    "    def dfs(atom, current_pile):\n",
    "        if atom in atom_piles:\n",
    "            return\n",
    "        atom_piles[atom] = current_pile\n",
    "        for bond in bonds:\n",
    "            if atom == bond[0] and bond[1] not in atom_piles:\n",
    "                dfs(bond[1], current_pile)\n",
    "            elif atom == bond[1] and bond[0] not in atom_piles:\n",
    "                dfs(bond[0], current_pile)\n",
    "\n",
    "    for bond in bonds:\n",
    "        start, end = bond\n",
    "        if start not in atom_piles and end not in atom_piles:\n",
    "            dfs(start, pile_number)\n",
    "            pile_number += 1\n",
    "\n",
    "    # Create a dictionary where keys are pile numbers and values are lists of atoms in each pile\n",
    "    result_dict = {pile: [] for pile in set(atom_piles.values())}\n",
    "    for atom, pile in atom_piles.items():\n",
    "        result_dict[pile].append(atom)\n",
    "\n",
    "    return result_dict\n",
    "\n",
    "result = cluster_atoms(bonds_list)\n",
    "\n",
    "print(\"Atom Piles:\", result)\n"
   ]
  },
  {
   "cell_type": "code",
   "execution_count": null,
   "id": "10121a2a-0e79-4bf9-b873-909fa1743e9a",
   "metadata": {},
   "outputs": [],
   "source": [
    "# Want to do the following after\n",
    "my_dict = {0: [0,1,2,3,4,5], 1: [6,7,8,9,10]}\n",
    "new_ligs = {}\n",
    "for lig_name, atom_idx in my_dict.items():\n",
    "    new_lig = ligs.CreateCopy()\n",
    "    for atom in new_lig.GetAtomIter():\n",
    "        if not atom.GetIdx() in :\n",
    "            new_lig.DeleteAtom(atom)\n",
    "    new_ligs[lig_name] = new_lig"
   ]
  },
  {
   "cell_type": "code",
   "execution_count": null,
   "id": "4987e62c-ccb2-4ef7-aa51-d99b243babd4",
   "metadata": {},
   "outputs": [],
   "source": [
    "# Neither of the things above work\n",
    "# There are definitely more than 15 ligands (probably parsed out during reading or splitting)\n",
    "# The way of deleting the atoms also probably wont work since it is OEMol objects are weird"
   ]
  }
 ],
 "metadata": {
  "kernelspec": {
   "display_name": "Python 3 (ipykernel)",
   "language": "python",
   "name": "python3"
  },
  "language_info": {
   "codemirror_mode": {
    "name": "ipython",
    "version": 3
   },
   "file_extension": ".py",
   "mimetype": "text/x-python",
   "name": "python",
   "nbconvert_exporter": "python",
   "pygments_lexer": "ipython3",
   "version": "3.10.13"
  }
 },
 "nbformat": 4,
 "nbformat_minor": 5
}
