{
 "cells": [
  {
   "cell_type": "markdown",
   "id": "8c5bf166-2bb2-45d9-89de-71ea12345284",
   "metadata": {},
   "source": [
    "## Want to be able to determine the SMILES string and annotate all the ligands that was parsed out individually from the conglomerate file\n",
    "## Put the ligands back into the zika protein but one ligand in the protein at a time and save each of these configuration into pdb file"
   ]
  },
  {
   "cell_type": "code",
   "execution_count": null,
   "id": "1dd99249-4f3c-4198-b5a8-8ae62ec22314",
   "metadata": {},
   "outputs": [],
   "source": [
    "## THINGS I THINK I NEED\n",
    "from asapdiscovery.data.openeye import load_openeye_pdb, combine_protein_ligand, oemol_to_smiles, save_openeye_pdb\n",
    "from pymol import cmd\n",
    "#, load_openeye_sdf, save_openeye_sdf, save_openeye_sdfs, openeye_perceive_residues\n",
    "\n",
    "#from asapdiscovery.modeling.modeling import \n",
    "#from asapdiscovery.modeling.schema import MoleculeFilter, MoleculeComponent\n",
    "#import numpy as nps"
   ]
  },
  {
   "cell_type": "code",
   "execution_count": null,
   "id": "35db5b9d-66d7-45ac-9731-d8bad3fd4ae4",
   "metadata": {},
   "outputs": [],
   "source": [
    "# FILE PATH\n",
    "from pathlib import Path\n",
    "local_path = Path(\"/Users/choderalab/asapdiscovery/temp_storage/\")"
   ]
  },
  {
   "cell_type": "markdown",
   "id": "3ba3c9d5-b4dd-40bb-9284-ead146409b0a",
   "metadata": {},
   "source": [
    "## I have each of the ligands saved in a separate pdb file at the moment\n",
    "## I would want to have the protein extracted (probably also saved in a separate pdb file)\n",
    "## I would like to have the oemol object of each to be in the original orientation and "
   ]
  },
  {
   "cell_type": "code",
   "execution_count": null,
   "id": "9baeacc3-d328-4c0e-aaf2-a8fc66b4cdc7",
   "metadata": {},
   "outputs": [],
   "source": [
    "cmd.load(local_path / \"ZIKV_NS2B3_ligands.pdb\", \"zikv\")\n",
    "\n",
    "# trying to just get the protein\n",
    "cmd.select(\"zikv_protein\", \"zikv and polymer.protein\")\n",
    "\n",
    "# Save the selected atoms to a PDB file\n",
    "cmd.save(local_path / 'zikv_protein.pdb', 'zikv_protein')\n",
    "\n",
    "cmd.delete(\"zikv\")"
   ]
  },
  {
   "cell_type": "markdown",
   "id": "64e70da4-92f3-4b4e-b029-b73657ccccdf",
   "metadata": {},
   "source": [
    "## Should be able to get the oemol in original orientation by just using \n",
    "\n",
    "function: (from asapdiscovery)combine_protein_ligand \n",
    "\n",
    "load pdb, load ligand and combine with function above and saving it\n"
   ]
  },
  {
   "cell_type": "code",
   "execution_count": null,
   "id": "e74fb2a1-7cf8-4ae2-9ce2-cdf096e11357",
   "metadata": {},
   "outputs": [],
   "source": [
    "# Load in the protein into openeye\n",
    "protein_file = local_path / \"zikv_protein.pdb\"\n",
    "protein = load_openeye_pdb(protein_file)"
   ]
  },
  {
   "cell_type": "code",
   "execution_count": null,
   "id": "55ef7f83-329a-49a0-b6e7-809a575f071d",
   "metadata": {},
   "outputs": [],
   "source": [
    "# Small scale try to see if process works\n",
    "lig_pdb_file = local_path / \"lig_1.pdb\"\n",
    "lig1 = load_openeye_pdb(lig_pdb_file)\n",
    "\n",
    "# Get the SMILES\n",
    "lig1_smiles = oemol_to_smiles(lig1) # I give up on this\n",
    "\n",
    "# Now try to dock this into the protein \n",
    "lig_back_in = combine_protein_ligand(protein, lig1)\n",
    "\n",
    "# save this in a file\n",
    "output_file = local_path / 'lig1_zikv.pdb'\n",
    "save_openeye_pdb(lig_back_in, output_file)"
   ]
  },
  {
   "cell_type": "code",
   "execution_count": null,
   "id": "79de8834-c03e-46f5-8624-45a8b24d489b",
   "metadata": {},
   "outputs": [],
   "source": [
    "output_path = Path(\"/Users/choderalab/asapdiscovery/temp_storage/output/\")\n",
    "\n",
    "# Load in the ligands and put them back into the protein\n",
    "for lig_pdb_file in local_path.glob(\"lig_*.pdb\"):\n",
    "    # Load in the ligand pdb into openeye\n",
    "    lig = load_openeye_pdb(lig_pdb_file)\n",
    "\n",
    "    # Put it back\n",
    "    lig_protein = combine_protein_ligand(protein, lig)\n",
    "    \n",
    "    # Save in file\n",
    "    output_file = str(lig_pdb_file.stem) + \"_protein.pdb\"\n",
    "    save_openeye_pdb(lig_protein, output_path/output_file)"
   ]
  },
  {
   "cell_type": "markdown",
   "id": "9a8151bf-8a80-403a-9ffa-31012d27ec73",
   "metadata": {},
   "source": [
    "### Now saved all the individually bound ligand into files named ligand_ligand#_protein.pdb onto same place keep original protein file"
   ]
  },
  {
   "cell_type": "code",
   "execution_count": null,
   "id": "1646bfd3-d738-4dd7-bf24-6d66e4ebd9db",
   "metadata": {},
   "outputs": [],
   "source": []
  }
 ],
 "metadata": {
  "kernelspec": {
   "display_name": "Python 3 (ipykernel)",
   "language": "python",
   "name": "python3"
  },
  "language_info": {
   "codemirror_mode": {
    "name": "ipython",
    "version": 3
   },
   "file_extension": ".py",
   "mimetype": "text/x-python",
   "name": "python",
   "nbconvert_exporter": "python",
   "pygments_lexer": "ipython3",
   "version": "3.10.13"
  }
 },
 "nbformat": 4,
 "nbformat_minor": 5
}
