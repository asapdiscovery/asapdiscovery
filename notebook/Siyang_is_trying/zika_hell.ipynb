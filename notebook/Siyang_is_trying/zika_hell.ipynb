{
 "cells": [
  {
   "cell_type": "markdown",
   "id": "3d49802e-fc2a-4691-84ff-37ee57188117",
   "metadata": {
    "collapsed": true,
    "jupyter": {
     "outputs_hidden": true
    }
   },
   "source": [
    "# import"
   ]
  },
  {
   "cell_type": "code",
   "execution_count": 24,
   "id": "a6bc109d-e1f4-4363-a36b-1e6609e0dd96",
   "metadata": {},
   "outputs": [],
   "source": [
    "from asapdiscovery.data.openeye import load_openeye_pdb, load_openeye_sdf, save_openeye_sdf, save_openeye_sdfs, openeye_perceive_residues\n",
    "from asapdiscovery.modeling.modeling import split_openeye_mol\n",
    "from asapdiscovery.modeling.schema import MoleculeFilter, MoleculeComponent\n",
    "import numpy as nps"
   ]
  },
  {
   "cell_type": "markdown",
   "id": "9542fdbc-48b1-4ba4-8dcf-ad3ee556a581",
   "metadata": {},
   "source": [
    "# PUT YOUR PATH HERE"
   ]
  },
  {
   "cell_type": "code",
   "execution_count": 3,
   "id": "fa1d9845-6ab9-4b2e-a480-43a97b6162c3",
   "metadata": {},
   "outputs": [],
   "source": [
    "from pathlib import Path\n",
    "local_path = Path(\"/Users/choderalab/asapdiscovery/temp_storage/\")"
   ]
  },
  {
   "cell_type": "markdown",
   "id": "5904b041-56d7-4be3-a211-3244f40c0386",
   "metadata": {},
   "source": [
    "# Attempt 1: Using OpenEye to Interpret"
   ]
  },
  {
   "cell_type": "code",
   "execution_count": 29,
   "id": "3c9e8f0a-4089-4514-a739-d9007faefc4f",
   "metadata": {},
   "outputs": [],
   "source": [
    "pdb_file = local_path / \"ZIKV_NS2B3_ligands.pdb\"\n",
    "pdb = load_openeye_pdb(pdb_file)"
   ]
  },
  {
   "cell_type": "code",
   "execution_count": null,
   "id": "746c32d8-20e3-4030-b62c-6b3b65da2495",
   "metadata": {},
   "outputs": [],
   "source": [
    "component_dict = split_openeye_mol(pdb, keep_one_lig=False)"
   ]
  },
  {
   "cell_type": "code",
   "execution_count": null,
   "id": "cd519a7e-b8f1-47d7-ae2c-6a54e9099d63",
   "metadata": {},
   "outputs": [],
   "source": [
    "ligs = component_dict[\"lig\"]"
   ]
  },
  {
   "cell_type": "code",
   "execution_count": null,
   "id": "03e81261-a9b3-4e1d-ac83-f7ef558a17cc",
   "metadata": {},
   "outputs": [],
   "source": [
    "matrix = np.full((ligs.NumAtoms(), ligs.NumAtoms()), False, dtype=bool)"
   ]
  },
  {
   "cell_type": "code",
   "execution_count": null,
   "id": "39602f3d-6150-4085-991c-4ca8d2997a1b",
   "metadata": {},
   "outputs": [],
   "source": [
    "for bond in ligs.GetBonds():\n",
    "    i = bond.GetBgnIdx()\n",
    "    j = bond.GetEndIdx()\n",
    "    matrix[i,j] = True\n",
    "    matrix[j,i] = True"
   ]
  },
  {
   "cell_type": "markdown",
   "id": "aeaa48fe-de5a-4d4a-9b5c-2187d1bec37b",
   "metadata": {},
   "source": [
    "## check to see if the adjacency matrix looks insane"
   ]
  },
  {
   "cell_type": "code",
   "execution_count": null,
   "id": "84c972ae-7c0e-406d-9b7d-b5481a4c51f3",
   "metadata": {},
   "outputs": [],
   "source": [
    "import plotly.express as px"
   ]
  },
  {
   "cell_type": "code",
   "execution_count": null,
   "id": "b958c202-7cd0-4244-99ba-8d9f77a52672",
   "metadata": {},
   "outputs": [],
   "source": [
    "fig = px.imshow(matrix, height=1200, width=1200)\n",
    "fig.show()"
   ]
  },
  {
   "cell_type": "code",
   "execution_count": null,
   "id": "be1c9a22-124e-4b6a-9ef0-c14fb6737de8",
   "metadata": {},
   "outputs": [],
   "source": [
    "import networkx"
   ]
  },
  {
   "cell_type": "code",
   "execution_count": null,
   "id": "a27b3be1-d4cd-448c-a662-52fd7f98713c",
   "metadata": {},
   "outputs": [],
   "source": [
    "g = networkx.Graph(matrix)"
   ]
  },
  {
   "cell_type": "code",
   "execution_count": null,
   "id": "7cb7d1c0-aec9-4210-afca-20acd3625de4",
   "metadata": {},
   "outputs": [],
   "source": [
    "len(list(networkx.connected_components(g)))"
   ]
  },
  {
   "cell_type": "markdown",
   "id": "a1e682c4-d550-4c12-ac9c-dfe06c7bb145",
   "metadata": {},
   "source": [
    "## wait a sec, this can't be right, there are way more than 4 ligs"
   ]
  },
  {
   "cell_type": "markdown",
   "id": "302123c5-5340-4ad9-b684-e9e5f4ad9b69",
   "metadata": {},
   "source": [
    "### let's see what happens"
   ]
  },
  {
   "cell_type": "code",
   "execution_count": null,
   "id": "3bab1f94-8836-43d9-ae91-13fc596aaa0c",
   "metadata": {},
   "outputs": [],
   "source": [
    "atom_list = list(networkx.connected_components(g))"
   ]
  },
  {
   "cell_type": "code",
   "execution_count": null,
   "id": "430cd77d-a558-4ce9-91b6-0518f6ee0695",
   "metadata": {},
   "outputs": [],
   "source": [
    "new_ligs = {}\n",
    "for i, atom_subset in enumerate(atom_list):\n",
    "    new_lig = ligs.CreateCopy()\n",
    "    for atom in new_lig.GetAtomIter():\n",
    "        if not atom.GetIdx() in atom_subset:\n",
    "            new_lig.DeleteAtom(atom)\n",
    "    new_ligs[i] = new_lig"
   ]
  },
  {
   "cell_type": "code",
   "execution_count": null,
   "id": "ce16c64b-7fff-4691-9eda-04ffb5eb4776",
   "metadata": {},
   "outputs": [],
   "source": [
    "for i, lig in new_ligs.items():\n",
    "    lig.SetTitle(f\"LIG_{i}\")"
   ]
  },
  {
   "cell_type": "code",
   "execution_count": null,
   "id": "ab6f11da-d90d-43e7-b29c-29b9d97825d2",
   "metadata": {},
   "outputs": [],
   "source": [
    "ligs = list(new_ligs.values())"
   ]
  },
  {
   "cell_type": "code",
   "execution_count": null,
   "id": "64ae15a0-922c-471c-b083-d14dfdf0a627",
   "metadata": {},
   "outputs": [],
   "source": [
    "for lig in new_ligs.values():\n",
    "    save_openeye_sdf(lig, local_path / f\"{lig.GetTitle()}.sdf\")"
   ]
  },
  {
   "cell_type": "markdown",
   "id": "19556026-ec43-4ec2-91ca-16e8c2b74eb1",
   "metadata": {},
   "source": [
    "### they look like garbage"
   ]
  },
  {
   "cell_type": "markdown",
   "id": "2e1afd70-a0e5-4bce-9018-ba6001257ce8",
   "metadata": {},
   "source": [
    "# Attempt 2: Use CONECT Records and PyMol to select the right atoms"
   ]
  },
  {
   "cell_type": "markdown",
   "id": "96257e35-d8ec-4142-b0d3-bcabf45ceb3b",
   "metadata": {},
   "source": [
    "## save first using pymol since it will rewrite the connect records it needs without making too many inferences"
   ]
  },
  {
   "cell_type": "code",
   "execution_count": 9,
   "id": "472c7e5c-5692-48c0-bd6f-44d188470039",
   "metadata": {},
   "outputs": [],
   "source": [
    "from pymol import cmd\n",
    "\n",
    "# Load the structure into PyMOL\n",
    "cmd.load(local_path / \"ZIKV_NS2B3_ligands.pdb\", \"zikv\")\n",
    "\n",
    "# Define a function to save residues named \"LIG\" to a PDB file\n",
    "def save_ligand_residues(structure_name, output_file):\n",
    "    # Select residues named (resn) \"LIG\"\n",
    "    selection = f\"{structure_name} and resn LIG\"\n",
    "    \n",
    "    # Save the selected residues to a PDB file\n",
    "    cmd.save(output_file, selection, format='pdb')\n",
    "\n",
    "# Example: Save residues named \"LIG\" to a new PDB file\n",
    "save_ligand_residues(\"zikv\", local_path / \"ligand_only.pdb\")"
   ]
  },
  {
   "cell_type": "markdown",
   "id": "13b19318-041d-4535-8fb1-a172d7eb839c",
   "metadata": {},
   "source": [
    "## Make a Graph out of the CONECT Records"
   ]
  },
  {
   "cell_type": "code",
   "execution_count": 20,
   "id": "8c1942e3-9423-4ef7-aa4c-ae20f10f131b",
   "metadata": {},
   "outputs": [],
   "source": [
    "pdb_file = local_path / \"ligand_only.pdb\""
   ]
  },
  {
   "cell_type": "code",
   "execution_count": 21,
   "id": "1e9d3121-cb5d-4b69-b0b9-5d69442067ef",
   "metadata": {},
   "outputs": [],
   "source": [
    "import networkx as nx\n",
    "G = nx.Graph()\n",
    "with open(pdb_file, 'r') as f:\n",
    "    for line in f:\n",
    "        if line.startswith('CONECT'):\n",
    "            # Extract atom numbers\n",
    "            atom_numbers = [int(x.strip()) for x in line.split()[1:]]\n",
    "            \n",
    "            # Add edges to the graph\n",
    "            for atom1 in atom_numbers[1:]:\n",
    "                G.add_edge(atom_numbers[0], atom1)"
   ]
  },
  {
   "cell_type": "code",
   "execution_count": 22,
   "id": "c93b6642-24ed-48dc-8a8b-0ef0fad7f67a",
   "metadata": {},
   "outputs": [
    {
     "data": {
      "text/plain": [
       "102"
      ]
     },
     "execution_count": 22,
     "metadata": {},
     "output_type": "execute_result"
    }
   ],
   "source": [
    "len(list(nx.connected_components(G)))"
   ]
  },
  {
   "cell_type": "markdown",
   "id": "023f3154-0952-4804-a4e2-c53b7a411418",
   "metadata": {},
   "source": [
    "## 102 ligands seems more reasonable"
   ]
  },
  {
   "cell_type": "markdown",
   "id": "7db0e106-5d05-4603-94ed-a8d9a96f5030",
   "metadata": {},
   "source": [
    "## Part of the OPENEYE attempt"
   ]
  },
  {
   "cell_type": "code",
   "execution_count": null,
   "id": "da0f7c6f-b387-489d-823f-4e248ac424ab",
   "metadata": {},
   "outputs": [],
   "source": [
    "# Try to make this work by deleting all the components that do not match on the OEMol object\n",
    "# Does not work because the atom index in the OEMol object does not match the graph index\n",
    "# The graph index is from the original pdb file while OEMol re-indexes all the atoms\n",
    "atom_list = list(nx.connected_components(G))\n",
    "new_ligs = {}\n",
    "for i, atom_subset in enumerate(atom_list):\n",
    "    new_lig = pdb.CreateCopy()\n",
    "    new_lig.SetTitle(f\"LIG_{i}\")\n",
    "    for atom in new_lig.GetAtomIter():\n",
    "        if not atom.GetIdx() in atom_subset:\n",
    "            new_lig.DeleteAtom(atom)\n",
    "    new_ligs[i] = new_lig\n",
    "\n",
    "# To visualize how it fails, here are the ligand structures that are generated\n",
    "# See file in pymol\n",
    "for lig in new_ligs.values():\n",
    "    save_openeye_sdf(lig, local_path / f\"{lig.GetTitle()}.sdf\")"
   ]
  },
  {
   "cell_type": "markdown",
   "id": "18f6359f-690e-4d1e-b3fe-ce9c527107eb",
   "metadata": {},
   "source": [
    "## Now load it in with PyMol so keep the same index of the atoms\n",
    "This thing actually works"
   ]
  },
  {
   "cell_type": "code",
   "execution_count": 33,
   "id": "2fa64786-412e-4aa7-a68d-67ee610bea85",
   "metadata": {},
   "outputs": [],
   "source": [
    "from pymol import cmd"
   ]
  },
  {
   "cell_type": "code",
   "execution_count": 34,
   "id": "6ab5a7d4-f7f5-4012-880e-3cd22b0c8895",
   "metadata": {},
   "outputs": [],
   "source": [
    "# Load the structure into PyMOL\n",
    "cmd.load(pdb_file, \"zikv\")"
   ]
  },
  {
   "cell_type": "code",
   "execution_count": 35,
   "id": "6f9da0de-cfab-41e7-9b02-e3df5e7aac3b",
   "metadata": {},
   "outputs": [],
   "source": [
    "# Define a function to save a subset of atoms with CONECT records to a PDB file\n",
    "def save_subset_with_conect(structure_name, atom_ids, output_file):\n",
    "    # Select atoms by IDs\n",
    "    selection = f\"{structure_name} and id {'+'.join(map(str, atom_ids))}\"\n",
    "    \n",
    "    # Create a new object containing only the selected atoms\n",
    "    cmd.create(\"selected_atoms\", selection)\n",
    "    \n",
    "    # Save the selection with CONECT records to a PDB file\n",
    "    cmd.save(output_file, \"selected_atoms\", format='pdb')\n",
    "    \n",
    "    # Delete the temporary object\n",
    "    cmd.delete(\"selected_atoms\")"
   ]
  },
  {
   "cell_type": "code",
   "execution_count": 53,
   "id": "c8439c45-4bae-40d4-b137-86cf1588a1ab",
   "metadata": {},
   "outputs": [],
   "source": [
    "# Know which atom is from which ligand based on the graph constructed\n",
    "# List of the different ligands as {} of atoms\n",
    "atom_list = list(nx.connected_components(G))\n",
    "\n",
    "for i, atom_ids in enumerate(atom_list):\n",
    "    # Example: Save the selected subset with CONECT records to a PDB file\n",
    "    save_subset_with_conect(\"zikv\", atom_ids, local_path / f\"lig_{i}.pdb\")"
   ]
  },
  {
   "cell_type": "markdown",
   "id": "b202ab94-c75e-4840-b76c-50a263c0de80",
   "metadata": {},
   "source": [
    "# Load the pdb files and save to a single multi ligand sdf"
   ]
  },
  {
   "cell_type": "code",
   "execution_count": 26,
   "id": "0b951de7-eaad-42d0-928a-8dbce8d02b88",
   "metadata": {},
   "outputs": [],
   "source": [
    "from pathlib import Path\n",
    "import os"
   ]
  },
  {
   "cell_type": "code",
   "execution_count": 27,
   "id": "652a43ec-7ea5-4650-91a3-6f6926e15491",
   "metadata": {},
   "outputs": [],
   "source": [
    "ligs = []\n",
    "for lig_pdb_file in local_path.glob(\"lig_*.pdb\"):\n",
    "    lig = load_openeye_pdb(lig_pdb_file)\n",
    "    lig.SetTitle(lig_pdb_file.stem)\n",
    "    ligs.append(lig)\n",
    "    os.remove(lig_pdb_file)"
   ]
  },
  {
   "cell_type": "code",
   "execution_count": 42,
   "id": "b0afc582-69b6-4af4-9fab-051a74454da7",
   "metadata": {},
   "outputs": [
    {
     "data": {
      "text/plain": [
       "PosixPath('/Users/choderalab/asapdiscovery/temp_storage/ZIKV_combined_ligs.sdf')"
      ]
     },
     "execution_count": 42,
     "metadata": {},
     "output_type": "execute_result"
    }
   ],
   "source": [
    "save_openeye_sdfs(ligs, local_path / \"ZIKV_combined_ligs.sdf\")"
   ]
  },
  {
   "cell_type": "code",
   "execution_count": null,
   "id": "93f24f7c-3ca8-4f1e-a4a4-189ee7940812",
   "metadata": {},
   "outputs": [],
   "source": []
  }
 ],
 "metadata": {
  "kernelspec": {
   "display_name": "Python 3 (ipykernel)",
   "language": "python",
   "name": "python3"
  },
  "language_info": {
   "codemirror_mode": {
    "name": "ipython",
    "version": 3
   },
   "file_extension": ".py",
   "mimetype": "text/x-python",
   "name": "python",
   "nbconvert_exporter": "python",
   "pygments_lexer": "ipython3",
   "version": "3.10.13"
  }
 },
 "nbformat": 4,
 "nbformat_minor": 5
}
