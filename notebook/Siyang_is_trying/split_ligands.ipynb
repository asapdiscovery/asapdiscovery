{
 "cells": [
  {
   "cell_type": "markdown",
   "id": "4ea7a0cd-c6cd-45c5-951f-3569be1b9555",
   "metadata": {},
   "source": [
    "# Use Case:\n",
    "## When multiple ligands are crystallized onto one protein and saved in the same pdb file all named LIG. Goal is to identify individual ligands and save them independently into different sdf files. "
   ]
  },
  {
   "cell_type": "code",
   "execution_count": 1,
   "id": "a3b93ab7-5ca8-495d-a27b-b8de3f4b2b39",
   "metadata": {},
   "outputs": [],
   "source": [
    "from pathlib import Path\n",
    "from pymol import cmd\n",
    "import networkx as nx\n",
    "from asapdiscovery.data.openeye import load_openeye_pdb, save_openeye_sdfs"
   ]
  },
  {
   "cell_type": "markdown",
   "id": "bd9c9d8a-3766-4d5b-8740-ed7a8b0ce756",
   "metadata": {},
   "source": [
    "# PUT YOUR PATH HERE"
   ]
  },
  {
   "cell_type": "code",
   "execution_count": null,
   "id": "a819d407-da2a-4402-b1bd-2e0e39229588",
   "metadata": {},
   "outputs": [],
   "source": [
    "local_path = Path(\"/Users/choderalab/asapdiscovery/temp_storage/\")"
   ]
  },
  {
   "cell_type": "code",
   "execution_count": null,
   "id": "e80270db-d821-4ed4-8ada-0eab59a11e9d",
   "metadata": {},
   "outputs": [],
   "source": [
    "# Load the structure into PyMOL\n",
    "cmd.load(local_path / \"ZIKV_NS2B3_ligands.pdb\", \"zikv\")\n"
   ]
  },
  {
   "cell_type": "markdown",
   "id": "fdf4db5a-bdd4-4d61-8f2d-6973e61df2b0",
   "metadata": {},
   "source": [
    "## Define a function to save residues named \"LIG\" to a PDB file"
   ]
  },
  {
   "cell_type": "code",
   "execution_count": null,
   "id": "6ea2f695-8ee6-464d-9cc3-b580aa8fe0c7",
   "metadata": {},
   "outputs": [],
   "source": [
    "def save_ligand_residues(structure_name, output_file):\n",
    "    # Select residues named \"LIG\"\n",
    "    selection = f\"{structure_name} and resn LIG\"\n",
    "    \n",
    "    # Save the selected residues to a PDB file\n",
    "    cmd.save(output_file, selection, format='pdb')"
   ]
  },
  {
   "cell_type": "markdown",
   "id": "391e8f47-dca9-429f-b511-ee5dfdba23d8",
   "metadata": {},
   "source": [
    "# Save all of the ligands into one file"
   ]
  },
  {
   "cell_type": "code",
   "execution_count": null,
   "id": "15e8b4a0-0cc5-4c36-bcc8-f85a33ef1dc7",
   "metadata": {},
   "outputs": [],
   "source": [
    "save_ligand_residues(\"zikv\", local_path / \"ligand_only.pdb\")"
   ]
  },
  {
   "cell_type": "markdown",
   "id": "2656f4c9-7a5d-492a-a641-836c5931af1a",
   "metadata": {},
   "source": [
    "# Make a Graph out of the CONECT Records"
   ]
  },
  {
   "cell_type": "code",
   "execution_count": null,
   "id": "8a325250-6237-402e-baac-7ea00cfad31f",
   "metadata": {},
   "outputs": [],
   "source": [
    "pdb_file = local_path / \"ligand_only.pdb\"\n",
    "\n",
    "G = nx.Graph()\n",
    "with open(pdb_file, 'r') as f:\n",
    "    for line in f:\n",
    "        if line.startswith('CONECT'):\n",
    "            # Extract atom numbers\n",
    "            atom_numbers = [int(x.strip()) for x in line.split()[1:]]\n",
    "            \n",
    "            # Add edges to the graph\n",
    "            for atom1 in atom_numbers[1:]:\n",
    "                G.add_edge(atom_numbers[0], atom1)"
   ]
  },
  {
   "cell_type": "markdown",
   "id": "2009964b-68dc-4b67-af42-bf21f50ab66a",
   "metadata": {},
   "source": [
    "Now have all the atoms in the same ligand on the same connected graph within G."
   ]
  },
  {
   "cell_type": "code",
   "execution_count": null,
   "id": "d75a786f-70ad-49fa-9de8-b4625c1acdf2",
   "metadata": {},
   "outputs": [],
   "source": [
    "# Delete the previous structure before proceeding so no weird PyMOL issues\n",
    "cmd.delete(\"zikv\")\n",
    "# Load the structure with only ligands into PyMOL\n",
    "cmd.load(pdb_file, \"zikv\")"
   ]
  },
  {
   "cell_type": "markdown",
   "id": "42cc693a-1fff-495c-927f-48380b06de65",
   "metadata": {},
   "source": [
    "# Define a function to save a subset of atoms with CONECT records to a PDB file"
   ]
  },
  {
   "cell_type": "code",
   "execution_count": null,
   "id": "6ea16d44-6062-4946-bcb9-2f42cb0bc568",
   "metadata": {},
   "outputs": [],
   "source": [
    "def save_subset_with_conect(structure_name, atom_ids, output_file):\n",
    "    # Select atoms by IDs\n",
    "    selection = f\"{structure_name} and id {'+'.join(map(str, atom_ids))}\"\n",
    "    \n",
    "    # Create a new object containing only the selected atoms\n",
    "    cmd.create(\"selected_atoms\", selection)\n",
    "    \n",
    "    # Save the selection with CONECT records to a PDB file\n",
    "    cmd.save(output_file, \"selected_atoms\", format='pdb')\n",
    "    \n",
    "    # Delete the temporary object\n",
    "    cmd.delete(\"selected_atoms\")"
   ]
  },
  {
   "cell_type": "code",
   "execution_count": null,
   "id": "b2d1392c-abf3-40f7-9246-67e42aca79de",
   "metadata": {},
   "outputs": [],
   "source": [
    "# Know which atom is from which ligand based on the graph constructed\n",
    "# List of the different ligands as {} of atoms\n",
    "atom_list = list(nx.connected_components(G))\n",
    "\n",
    "for i, atom_ids in enumerate(atom_list):\n",
    "    # Example: Save the selected subset with CONECT records to a PDB file\n",
    "    save_subset_with_conect(\"zikv\", atom_ids, local_path / f\"lig_{i}.pdb\")"
   ]
  },
  {
   "cell_type": "markdown",
   "id": "ffcfaf19-5ab7-4937-9b44-b279caaab4e8",
   "metadata": {},
   "source": [
    "# Load the pdb files and save to a single multi ligand sdf"
   ]
  },
  {
   "cell_type": "code",
   "execution_count": null,
   "id": "0fef63d5-2f59-4c08-b0b9-3853062ad297",
   "metadata": {},
   "outputs": [],
   "source": [
    "ligs = []\n",
    "for lig_pdb_file in local_path.glob(\"lig_*.pdb\"):\n",
    "    lig = load_openeye_pdb(lig_pdb_file)\n",
    "    lig.SetTitle(lig_pdb_file.stem)\n",
    "    ligs.append(lig)"
   ]
  },
  {
   "cell_type": "markdown",
   "id": "d4e3d784-acae-4feb-8a0f-c207b76efc33",
   "metadata": {},
   "source": [
    "# Save this in combined ligands sdf file"
   ]
  },
  {
   "cell_type": "code",
   "execution_count": null,
   "id": "c4e9734b-a9b2-4ea9-8d8c-3a004dbe8817",
   "metadata": {},
   "outputs": [],
   "source": [
    "save_openeye_sdfs(ligs, local_path / \"ZIKV_combined_ligss.sdf\")"
   ]
  }
 ],
 "metadata": {
  "kernelspec": {
   "display_name": "Python 3 (ipykernel)",
   "language": "python",
   "name": "python3"
  },
  "language_info": {
   "codemirror_mode": {
    "name": "ipython",
    "version": 3
   },
   "file_extension": ".py",
   "mimetype": "text/x-python",
   "name": "python",
   "nbconvert_exporter": "python",
   "pygments_lexer": "ipython3",
   "version": "3.10.13"
  }
 },
 "nbformat": 4,
 "nbformat_minor": 5
}
