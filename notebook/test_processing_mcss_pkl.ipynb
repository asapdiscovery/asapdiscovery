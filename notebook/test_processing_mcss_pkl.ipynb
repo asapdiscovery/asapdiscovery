{
 "cells": [
  {
   "cell_type": "code",
   "execution_count": null,
   "metadata": {},
   "outputs": [],
   "source": [
    "%env OE_LICENSE=/Users/alexpayne/oe_license.txt\n",
    "import numpy as np\n",
    "import sys\n",
    "import pickle as pkl\n",
    "import importlib\n",
    "import re\n",
    "from openeye import oechem\n",
    "oechem.OEChemIsLicensed(\"python\")"
   ]
  },
  {
   "cell_type": "code",
   "execution_count": null,
   "metadata": {},
   "outputs": [],
   "source": [
    "mcss_pkl = \"/Users/alexpayne/Downloads/mcs_sort_index.pkl\""
   ]
  },
  {
   "cell_type": "code",
   "execution_count": null,
   "metadata": {},
   "outputs": [],
   "source": [
    "compound_ids, xtal_ids, sort_idxs = pkl.load(open(mcss_pkl, \"rb\"))"
   ]
  },
  {
   "cell_type": "code",
   "execution_count": null,
   "metadata": {},
   "outputs": [],
   "source": [
    "len(compound_ids)"
   ]
  },
  {
   "cell_type": "markdown",
   "metadata": {},
   "source": [
    "# Mpro file"
   ]
  },
  {
   "cell_type": "code",
   "execution_count": null,
   "metadata": {},
   "outputs": [],
   "source": [
    "mpro_fragalysis_sdf = \"/Users/alexpayne/Downloads/Mpro_combined.sdf\""
   ]
  },
  {
   "cell_type": "code",
   "execution_count": null,
   "metadata": {},
   "outputs": [],
   "source": [
    "ifs = oechem.oemolistream()\n",
    "ifs.open(mpro_fragalysis_sdf)\n",
    "mols = [mol.CreateCopy() for mol in ifs.GetOEGraphMols()]"
   ]
  },
  {
   "cell_type": "code",
   "execution_count": null,
   "metadata": {},
   "outputs": [],
   "source": [
    "len(mols)"
   ]
  },
  {
   "cell_type": "code",
   "execution_count": null,
   "metadata": {},
   "outputs": [],
   "source": [
    "for mol in mols:\n",
    "    print(mol.GetTitle())\n",
    "#     print(oechem.OEGetSDData(mol, \"SMILES\"))"
   ]
  },
  {
   "cell_type": "code",
   "execution_count": null,
   "metadata": {},
   "outputs": [],
   "source": [
    "type(mol)"
   ]
  },
  {
   "cell_type": "code",
   "execution_count": null,
   "metadata": {},
   "outputs": [],
   "source": []
  },
  {
   "cell_type": "markdown",
   "metadata": {},
   "source": [
    "## Confirm that I can convert all these \"compound ids\" into real compounds ids"
   ]
  },
  {
   "cell_type": "code",
   "execution_count": null,
   "metadata": {},
   "outputs": [],
   "source": [
    "import yaml"
   ]
  },
  {
   "cell_type": "code",
   "execution_count": null,
   "metadata": {},
   "outputs": [],
   "source": [
    "cmpd_to_frag_fn = \"../metadata/cmpd_to_frag.yaml\""
   ]
  },
  {
   "cell_type": "code",
   "execution_count": null,
   "metadata": {},
   "outputs": [],
   "source": [
    "with open(cmpd_to_frag_fn) as f:\n",
    "    cmpd_to_frag_dict = yaml.safe_load(f)"
   ]
  },
  {
   "cell_type": "code",
   "execution_count": null,
   "metadata": {},
   "outputs": [],
   "source": [
    "frag_to_cmpd_dict = {v:k for k,v in cmpd_to_frag_dict.items()}"
   ]
  },
  {
   "cell_type": "code",
   "execution_count": null,
   "metadata": {},
   "outputs": [],
   "source": [
    "frag_to_cmpd_dict"
   ]
  },
  {
   "cell_type": "code",
   "execution_count": null,
   "metadata": {},
   "outputs": [],
   "source": [
    "succeeded = []\n",
    "failed = []\n",
    "for mol in mols:\n",
    "    try:\n",
    "        succeeded.append((mol.GetTitle(), frag_to_cmpd_dict[mol.GetTitle()[:-3]]))\n",
    "    except KeyError:\n",
    "        failed.append(mol.GetTitle())"
   ]
  },
  {
   "cell_type": "code",
   "execution_count": null,
   "metadata": {},
   "outputs": [],
   "source": [
    "len(failed)"
   ]
  },
  {
   "cell_type": "code",
   "execution_count": null,
   "metadata": {},
   "outputs": [],
   "source": [
    "len(succeeded)"
   ]
  },
  {
   "cell_type": "code",
   "execution_count": null,
   "metadata": {},
   "outputs": [],
   "source": [
    "print([name for name in failed])"
   ]
  },
  {
   "cell_type": "code",
   "execution_count": null,
   "metadata": {},
   "outputs": [],
   "source": [
    "succeeded[1]"
   ]
  },
  {
   "cell_type": "code",
   "execution_count": null,
   "metadata": {},
   "outputs": [],
   "source": []
  },
  {
   "cell_type": "markdown",
   "metadata": {},
   "source": [
    "# Why only 220?"
   ]
  },
  {
   "cell_type": "code",
   "execution_count": null,
   "metadata": {},
   "outputs": [],
   "source": [
    "sys.path.append(\"../\")\n",
    "from asapdiscovery import data\n",
    "importlib.reload(data)"
   ]
  },
  {
   "cell_type": "code",
   "execution_count": null,
   "metadata": {},
   "outputs": [],
   "source": [
    "structure_dir = \"/Users/alexpayne/Scientific_Projects/mers-drug-discovery/mpro-paper-ligand/aligned/\"\n",
    "xtal_csv = \"/Users/alexpayne/Scientific_Projects/mers-drug-discovery/mpro-paper-ligand/extra_files/Mpro_compound_tracker_csv.csv\""
   ]
  },
  {
   "cell_type": "code",
   "execution_count": null,
   "metadata": {},
   "outputs": [],
   "source": [
    "xtal_compounds = data.fragalysis.parse_xtal(xtal_csv, structure_dir)\n",
    "# for xtal in xtal_compounds:\n",
    "#     ## Get chain\n",
    "#     ## The parentheses in this string are the capture group\n",
    "#     re_pat = rf\"/{xtal.dataset}_([0-9][A-Z])/\"\n",
    "#     try:\n",
    "#         frag_chain = re.search(re_pat, xtal.str_fn).groups()[0]\n",
    "#     except AttributeError:\n",
    "#         print(\n",
    "#             f\"Regex chain search failed: {re_pat}, {xtal.str_fn}.\",\n",
    "#             \"Using A as default.\",\n",
    "#             flush=True,\n",
    "#         )\n",
    "#         frag_chain = \"0A\"\n",
    "#     xtal.output_name = f\"{xtal.dataset}_{frag_chain}_{xtal.compound_id}\"\n",
    "\n",
    "#     ## We also want the chain in the form of a single letter ('A', 'B'), etc\n",
    "#     xtal.active_site_chain = frag_chain[-1]"
   ]
  },
  {
   "cell_type": "code",
   "execution_count": null,
   "metadata": {},
   "outputs": [],
   "source": [
    "len(xtal_compounds)"
   ]
  },
  {
   "cell_type": "code",
   "execution_count": null,
   "metadata": {},
   "outputs": [],
   "source": [
    "data"
   ]
  },
  {
   "cell_type": "markdown",
   "metadata": {},
   "source": [
    "## it is filtered to 220 in the parse_xtal function"
   ]
  },
  {
   "cell_type": "markdown",
   "metadata": {},
   "source": [
    "### copied here:"
   ]
  },
  {
   "cell_type": "code",
   "execution_count": null,
   "metadata": {},
   "outputs": [],
   "source": [
    "def parse_xtal(x_fn, x_dir, p_filter=True, dataset_filter=True):\n",
    "    \"\"\"\n",
    "    Load all crystal structures into schema.CrystalCompoundData objects.\n",
    "    Parameters\n",
    "    ----------\n",
    "    x_fn : str\n",
    "        CSV file giving information on each crystal structure\n",
    "    x_dir : str\n",
    "        Path to directory containing directories with crystal structure PDB\n",
    "        files\n",
    "    Returns\n",
    "    -------\n",
    "    List[schema.CrystalCompoundData]\n",
    "        List of parsed crystal structures\n",
    "    \"\"\"\n",
    "    import pandas, os\n",
    "\n",
    "    df = pandas.read_csv(x_fn)\n",
    "\n",
    "    ## Filter the compound tracker\n",
    "    idx = []\n",
    "    for d in df[\"Dataset\"]:\n",
    "        keep = True\n",
    "        if dataset_filter:\n",
    "            keep = (type(d) is str)\n",
    "        if p_filter:\n",
    "            keep = keep and (\"-P\" in d)\n",
    "        idx.append(keep) \n",
    "    \n",
    "#     idx = [(type(d) is str) and (\"-P\" in d) for d in df[\"Dataset\"]]\n",
    "    print(sum(idx))\n",
    "\n",
    "    ## Build argument dicts for the CrystalCompoundData objects\n",
    "    xtal_dicts = [\n",
    "        dict(zip((\"smiles\", \"dataset\", \"compound_id\"), r[1].values))\n",
    "        for r in df.loc[idx, [\"SMILES\", \"Dataset\", \"Compound ID\"]].iterrows()\n",
    "    ]\n",
    "\n",
    "    ## Add structure filename information\n",
    "    for d in xtal_dicts:\n",
    "        fn_base = f'{x_dir}/{d[\"dataset\"]}_0{{}}/{d[\"dataset\"]}_0{{}}_{{}}.pdb'\n",
    "        for suf in [\"seqres\", \"bound\"]:\n",
    "            for chain in [\"A\", \"B\"]:\n",
    "                fn = fn_base.format(chain, chain, suf)\n",
    "                if os.path.isfile(fn):\n",
    "                    d[\"str_fn\"] = fn\n",
    "                    break\n",
    "            if os.path.isfile(fn):\n",
    "                break\n",
    "\n",
    "    ## Build CrystalCompoundData objects for each row\n",
    "    xtal_compounds = [data.schema.CrystalCompoundData(**d) for d in xtal_dicts]\n",
    "\n",
    "    return xtal_compounds"
   ]
  },
  {
   "cell_type": "code",
   "execution_count": null,
   "metadata": {},
   "outputs": [],
   "source": [
    "xtal_compounds = parse_xtal(xtal_csv, structure_dir, False, False)"
   ]
  },
  {
   "cell_type": "code",
   "execution_count": null,
   "metadata": {},
   "outputs": [],
   "source": []
  },
  {
   "cell_type": "code",
   "execution_count": null,
   "metadata": {},
   "outputs": [],
   "source": [
    "print([xtal.smiles for xtal in xtal_compounds])"
   ]
  },
  {
   "cell_type": "code",
   "execution_count": null,
   "metadata": {},
   "outputs": [],
   "source": [
    "print([xtal.compound_id for xtal in xtal_compounds])"
   ]
  },
  {
   "cell_type": "code",
   "execution_count": null,
   "metadata": {},
   "outputs": [],
   "source": [
    "coi = [c for c in xtal_compounds if c.dataset==\"Mpro-x10862\"]"
   ]
  },
  {
   "cell_type": "code",
   "execution_count": null,
   "metadata": {},
   "outputs": [],
   "source": [
    "coi"
   ]
  },
  {
   "cell_type": "code",
   "execution_count": null,
   "metadata": {},
   "outputs": [],
   "source": [
    "coi = [c for c in xtal_compounds if c.dataset==\"Mpro-x10889\"]"
   ]
  },
  {
   "cell_type": "code",
   "execution_count": null,
   "metadata": {},
   "outputs": [],
   "source": [
    "coi"
   ]
  },
  {
   "cell_type": "markdown",
   "metadata": {},
   "source": [
    "# Test Making GraphMols and saving sdf from parse_xtal input"
   ]
  },
  {
   "cell_type": "code",
   "execution_count": null,
   "metadata": {},
   "outputs": [],
   "source": [
    "from asapdiscovery.data.utils import save_openeye_sdf"
   ]
  },
  {
   "cell_type": "markdown",
   "metadata": {},
   "source": [
    "## save multiple molecule sdf file"
   ]
  },
  {
   "cell_type": "code",
   "execution_count": null,
   "metadata": {},
   "outputs": [],
   "source": [
    "def save_openeye_sdf(mol, sdf_fn):\n",
    "    ofs = oechem.oemolostream()\n",
    "    ofs.SetFlavor(oechem.OEFormat_SDF, oechem.OEOFlavor_SDF_Default)\n",
    "    ofs.open(sdf_fn)\n",
    "    oechem.OEWriteMolecule(ofs, mol)\n",
    "    ofs.close()\n",
    "\n",
    "def save_openeye_sdfs(mols, sdf_fn):\n",
    "    \"\"\"\n",
    "    Parameters\n",
    "    ----------\n",
    "    mols: list of OEGraphMol\n",
    "    sdf_fn: str\n",
    "        SDF file path\n",
    "    Returns\n",
    "    -------\n",
    "    list of OEGraphMol objects\n",
    "    \"\"\"\n",
    "    ofs = oechem.oemolostream()\n",
    "    ofs.SetFlavor(\n",
    "        oechem.OEFormat_SDF,\n",
    "        oechem.OEOFlavor_SDF_Default,\n",
    "    )\n",
    "    if ofs.open(sdf_fn):\n",
    "        for mol in mols:\n",
    "            oechem.OEWriteMolecule(ofs, mol)\n",
    "        ofs.close()\n",
    "    else:\n",
    "        oechem.OEThrow.Fatal(f\"Unable to open {sdf_fn}\")\n",
    "    \n",
    "\n",
    "    return True"
   ]
  },
  {
   "cell_type": "markdown",
   "metadata": {},
   "source": [
    "## make sure i'm saving the right set"
   ]
  },
  {
   "cell_type": "code",
   "execution_count": null,
   "metadata": {},
   "outputs": [],
   "source": [
    "xtal_compounds = parse_xtal(xtal_csv, structure_dir)"
   ]
  },
  {
   "cell_type": "markdown",
   "metadata": {},
   "source": [
    "## what data can we save?"
   ]
  },
  {
   "cell_type": "code",
   "execution_count": null,
   "metadata": {},
   "outputs": [],
   "source": [
    "mol = xtal_compounds[0]"
   ]
  },
  {
   "cell_type": "code",
   "execution_count": null,
   "metadata": {},
   "outputs": [],
   "source": [
    "mol"
   ]
  },
  {
   "cell_type": "markdown",
   "metadata": {},
   "source": [
    "## make OEGraphMol for each compound"
   ]
  },
  {
   "cell_type": "code",
   "execution_count": null,
   "metadata": {},
   "outputs": [],
   "source": [
    "mols = []\n",
    "for c in xtal_compounds:\n",
    "    new_mol = oechem.OEGraphMol()\n",
    "    oechem.OESmilesToMol(new_mol, c.smiles)\n",
    "    oechem.OEGetSDData(new_mol, f\"Compound_ID\")\n",
    "    oechem.OESetSDData(new_mol, f\"SMILES\", c.smiles)\n",
    "    oechem.OESetSDData(new_mol, f\"Dataset\", c.dataset)\n",
    "    oechem.OESetSDData(new_mol, f\"Compound_ID\", c.compound_id)\n",
    "    new_mol.SetTitle(c.compound_id)\n",
    "    mols.append(new_mol)"
   ]
  },
  {
   "cell_type": "markdown",
   "metadata": {},
   "source": [
    "## Save Openeye SDFs"
   ]
  },
  {
   "cell_type": "code",
   "execution_count": null,
   "metadata": {},
   "outputs": [],
   "source": [
    "save_openeye_sdfs(mols, \"/Volumes/Rohirrim/local_test/sars_docking/fragalysis_correct_bond_orders.sdf\")"
   ]
  },
  {
   "cell_type": "code",
   "execution_count": null,
   "metadata": {},
   "outputs": [],
   "source": []
  }
 ],
 "metadata": {
  "kernelspec": {
   "display_name": "Python 3 (ipykernel)",
   "language": "python",
   "name": "python3"
  },
  "language_info": {
   "codemirror_mode": {
    "name": "ipython",
    "version": 3
   },
   "file_extension": ".py",
   "mimetype": "text/x-python",
   "name": "python",
   "nbconvert_exporter": "python",
   "pygments_lexer": "ipython3",
   "version": "3.8.13"
  },
  "toc": {
   "base_numbering": 1,
   "nav_menu": {},
   "number_sections": true,
   "sideBar": true,
   "skip_h1_title": false,
   "title_cell": "Table of Contents",
   "title_sidebar": "Contents",
   "toc_cell": false,
   "toc_position": {},
   "toc_section_display": true,
   "toc_window_display": true
  }
 },
 "nbformat": 4,
 "nbformat_minor": 1
}