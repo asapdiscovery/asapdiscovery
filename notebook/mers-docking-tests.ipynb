{
 "cells": [
  {
   "cell_type": "markdown",
   "metadata": {
    "pycharm": {
     "is_executing": true
    }
   },
   "source": [
    "# load repos"
   ]
  },
  {
   "cell_type": "code",
   "execution_count": null,
   "metadata": {},
   "outputs": [],
   "source": [
    "import argparse\n",
    "import os\n",
    "import sys\n",
    "import pandas as pd\n",
    "\n",
    "repo_path = os.path.dirname(os.path.dirname(os.getcwd()))\n",
    "sys.path.append(repo_path)\n",
    "\n",
    "exp_data_fn = \"COVID_Moonshot_Takeda_panCorona_enzyme_measurements.csv\"\n",
    "sars2_structures_fn = \"/Users/alexpayne/lilac-mount-point/fragalysis/metadata.csv\"\n",
    "sars2_cmpds_fn = \"/Users/alexpayne/lilac-mount-point/fragalysis/extra_files/Mpro_compound_tracker_csv.csv\"\n",
    "\n",
    "from asapdiscovery.docking.docking import build_docking_systems,\\\n",
    "    parse_xtal, run_docking"
   ]
  },
  {
   "cell_type": "code",
   "execution_count": null,
   "metadata": {},
   "outputs": [],
   "source": [
    "os.environ['OE_LICENSE'] = \"/Users/alexpayne/Scientific_Packages/oe_license_the_laboratory_of_john_chodera_memorial_sloankettering_cancer_center_20200828-16-27-18.txt\""
   ]
  },
  {
   "cell_type": "markdown",
   "metadata": {},
   "source": [
    "# Load Datasets"
   ]
  },
  {
   "cell_type": "code",
   "execution_count": null,
   "metadata": {},
   "outputs": [],
   "source": [
    "sars2_structures = pd.read_csv(sars2_structures_fn)\n",
    "sars2_structures.head()"
   ]
  },
  {
   "cell_type": "code",
   "execution_count": null,
   "metadata": {},
   "outputs": [],
   "source": [
    "exp_data = pd.read_csv(exp_data_fn).fillna(\"\")\n",
    "exp_data"
   ]
  },
  {
   "cell_type": "markdown",
   "metadata": {},
   "source": [
    "# Filter sars2 cmps by mers data"
   ]
  },
  {
   "cell_type": "code",
   "execution_count": null,
   "metadata": {},
   "outputs": [],
   "source": [
    "sars2_filtered = sars2_structures[sars2_structures.alternate_name.isin(exp_data['External ID'])]"
   ]
  },
  {
   "cell_type": "code",
   "execution_count": null,
   "metadata": {},
   "outputs": [],
   "source": [
    "sars2_filtered"
   ]
  },
  {
   "cell_type": "code",
   "execution_count": null,
   "metadata": {},
   "outputs": [],
   "source": [
    "len(sars2_filtered)"
   ]
  },
  {
   "cell_type": "code",
   "execution_count": null,
   "metadata": {},
   "outputs": [],
   "source": [
    "exp_data[\"External ID\"]"
   ]
  },
  {
   "cell_type": "code",
   "execution_count": null,
   "metadata": {},
   "outputs": [],
   "source": [
    "sars2_filtered.alternate_name"
   ]
  },
  {
   "cell_type": "markdown",
   "metadata": {},
   "source": []
  },
  {
   "cell_type": "markdown",
   "metadata": {},
   "source": [
    "# Check what is going on with these ligands"
   ]
  },
  {
   "cell_type": "markdown",
   "metadata": {},
   "source": [
    "## get smiles strings"
   ]
  },
  {
   "cell_type": "code",
   "execution_count": null,
   "metadata": {},
   "outputs": [],
   "source": [
    "exp_smiles = exp_data['SMILES']"
   ]
  },
  {
   "cell_type": "code",
   "execution_count": null,
   "metadata": {},
   "outputs": [],
   "source": [
    "exp_smiles"
   ]
  },
  {
   "cell_type": "code",
   "execution_count": null,
   "metadata": {},
   "outputs": [],
   "source": [
    "type(exp_smiles[0])"
   ]
  },
  {
   "cell_type": "code",
   "execution_count": null,
   "metadata": {},
   "outputs": [],
   "source": [
    "from kinoml.core.ligands import Ligand"
   ]
  },
  {
   "cell_type": "code",
   "execution_count": null,
   "metadata": {},
   "outputs": [],
   "source": [
    "from openeye import oechem, oedepict"
   ]
  },
  {
   "cell_type": "code",
   "execution_count": null,
   "metadata": {},
   "outputs": [],
   "source": [
    "# mol = oechem.OEGraphMol()\n",
    "# if oechem.OESmilesToMol(mol, exp_smiles[0]):\n",
    "#     oedepict.OEPrepareDepiction(mol)\n",
    "#     oedepict.OE2DMolDisplay(mol)"
   ]
  },
  {
   "cell_type": "code",
   "execution_count": null,
   "metadata": {},
   "outputs": [],
   "source": [
    "# from rdkit import Chem\n",
    "# mols = [Chem.MolFromSmiles(exp_cmp) for exp_cmp in exp_smiles]\n",
    "# img = Chem.Draw.MolsToGridImage(mols, legends=list(exp_data[\"Molecule Name\"]))\n",
    "# img"
   ]
  },
  {
   "cell_type": "code",
   "execution_count": null,
   "metadata": {},
   "outputs": [],
   "source": []
  },
  {
   "cell_type": "code",
   "execution_count": null,
   "metadata": {},
   "outputs": [],
   "source": [
    "list(exp_data[\"CDD Number\"])"
   ]
  },
  {
   "cell_type": "markdown",
   "metadata": {},
   "source": [
    "# Try different SARS File"
   ]
  },
  {
   "cell_type": "code",
   "execution_count": null,
   "metadata": {},
   "outputs": [],
   "source": [
    "sars2_structures = pd.read_csv(sars2_cmpds_fn)\n",
    "sars2_structures.head()"
   ]
  },
  {
   "cell_type": "code",
   "execution_count": null,
   "metadata": {},
   "outputs": [],
   "source": [
    "sars2_filtered = sars2_structures[sars2_structures['Compound ID'].isin(exp_data['External ID'])]"
   ]
  },
  {
   "cell_type": "code",
   "execution_count": null,
   "metadata": {},
   "outputs": [],
   "source": [
    "sars2_filtered['Compound ID']"
   ]
  },
  {
   "cell_type": "code",
   "execution_count": null,
   "metadata": {},
   "outputs": [],
   "source": [
    "len(sars2_filtered)"
   ]
  },
  {
   "cell_type": "code",
   "execution_count": null,
   "metadata": {},
   "outputs": [],
   "source": [
    "len(exp_smiles)"
   ]
  },
  {
   "cell_type": "markdown",
   "metadata": {},
   "source": [
    "## Use this csv to get structures"
   ]
  },
  {
   "cell_type": "code",
   "execution_count": null,
   "metadata": {},
   "outputs": [],
   "source": [
    "from rdkit import Chem\n",
    "mols = [Chem.MolFromSmiles(exp_cmp) for exp_cmp in exp_smiles]\n",
    "img = Chem.Draw.MolsToGridImage(mols, legends=list(exp_data[\"External ID\"]))\n",
    "img"
   ]
  },
  {
   "cell_type": "code",
   "execution_count": null,
   "metadata": {},
   "outputs": [],
   "source": [
    "sars2_filtered"
   ]
  },
  {
   "cell_type": "code",
   "execution_count": null,
   "metadata": {},
   "outputs": [],
   "source": [
    "common_ids = sars2_filtered[\"Compound ID\"].tolist()"
   ]
  },
  {
   "cell_type": "code",
   "execution_count": null,
   "metadata": {},
   "outputs": [],
   "source": [
    "help(pd.Series.to_string)"
   ]
  },
  {
   "cell_type": "code",
   "execution_count": null,
   "metadata": {},
   "outputs": [],
   "source": [
    "mols = []\n",
    "for common_id in common_ids:\n",
    "    smiles = exp_data[exp_data[\"External ID\"] == common_id][\"SMILES\"].values[0]\n",
    "    mols.append(Chem.MolFromSmiles(smiles))\n",
    "img = Chem.Draw.MolsToGridImage(mols, legends=list(exp_data[\"External ID\"]))\n",
    "img"
   ]
  },
  {
   "cell_type": "code",
   "execution_count": null,
   "metadata": {},
   "outputs": [],
   "source": [
    "sars2_strucs = sars2_filtered[\"Dataset\"]"
   ]
  },
  {
   "cell_type": "code",
   "execution_count": null,
   "metadata": {},
   "outputs": [],
   "source": [
    "sars2_strucs"
   ]
  },
  {
   "cell_type": "code",
   "execution_count": null,
   "metadata": {},
   "outputs": [],
   "source": [
    "sum(sars2_strucs.isna())"
   ]
  },
  {
   "cell_type": "code",
   "execution_count": null,
   "metadata": {},
   "outputs": [],
   "source": [
    "sars2_strucs.isna()"
   ]
  },
  {
   "cell_type": "code",
   "execution_count": null,
   "metadata": {},
   "outputs": [],
   "source": [
    "mols_wo_sars2_xtal = sars2_filtered[sars2_strucs.isna()][[\"Compound ID\", \"SMILES\"]]"
   ]
  },
  {
   "cell_type": "code",
   "execution_count": null,
   "metadata": {},
   "outputs": [],
   "source": [
    "mols_wo_sars2_xtal"
   ]
  },
  {
   "cell_type": "code",
   "execution_count": null,
   "metadata": {},
   "outputs": [],
   "source": [
    "mols_w_sars2_xtal = sars2_filtered[~sars2_strucs.isna()][[\"Compound ID\", \"SMILES\", \"Dataset\"]]"
   ]
  },
  {
   "cell_type": "code",
   "execution_count": null,
   "metadata": {},
   "outputs": [],
   "source": [
    "mols_w_sars2_xtal"
   ]
  },
  {
   "cell_type": "code",
   "execution_count": null,
   "metadata": {},
   "outputs": [],
   "source": [
    "help(parse_xtal)"
   ]
  },
  {
   "cell_type": "markdown",
   "metadata": {},
   "source": [
    "## try a version of parse_xtal"
   ]
  },
  {
   "cell_type": "code",
   "execution_count": null,
   "metadata": {},
   "outputs": [],
   "source": [
    "from asapdiscovery.data.schema import CrystalCompoundData"
   ]
  },
  {
   "cell_type": "code",
   "execution_count": null,
   "metadata": {},
   "outputs": [],
   "source": [
    "## Find all P-files\n",
    "df = mols_w_sars2_xtal\n",
    "x_dir = \"/Users/alexpayne/lilac-mount-point/fragalysis/aligned/\"\n",
    "# idx = [(type(d) is str) and ('-P' in d) for d in df['Dataset']]\n",
    "idx = [(type(d) is str) for d in df['Dataset']]\n",
    "\n",
    "## Build argument dicts for the CrystalCompoundData objects\n",
    "xtal_dicts = [dict(zip(('smiles', 'dataset'), r[1].values)) \\\n",
    "    for r in df.loc[idx,['SMILES', 'Dataset']].iterrows()]\n",
    "\n",
    "## Add structure filename information\n",
    "for d in xtal_dicts:\n",
    "    fn_base = (f'{x_dir}/{d[\"dataset\"]}_0{{}}/{d[\"dataset\"]}_0{{}}_'\n",
    "        'seqres.pdb')\n",
    "    fn = fn_base.format('A', 'A')\n",
    "    if os.path.isfile(fn):\n",
    "        d['str_fn'] = fn\n",
    "    else:\n",
    "        fn = fn_base.format('B', 'B')\n",
    "        assert os.path.isfile(fn), f'No structure found for {d[\"dataset\"]}.'\n",
    "        d['str_fn'] = fn\n",
    "\n",
    "## Build CrystalCompoundData objects for each row\n",
    "xtal_compounds = [CrystalCompoundData(**d) for d in xtal_dicts]"
   ]
  },
  {
   "cell_type": "code",
   "execution_count": null,
   "metadata": {},
   "outputs": [],
   "source": [
    "len(xtal_compounds)"
   ]
  },
  {
   "cell_type": "code",
   "execution_count": null,
   "metadata": {},
   "outputs": [],
   "source": [
    "xtal_compounds"
   ]
  },
  {
   "cell_type": "markdown",
   "metadata": {},
   "source": [
    "## but this isn't really what I want, i need to load the mers structures for docking"
   ]
  },
  {
   "cell_type": "code",
   "execution_count": null,
   "metadata": {},
   "outputs": [],
   "source": [
    "from kinoml.features.complexes import OEDockingFeaturizer\n",
    "from kinoml.core.proteins import Protein\n",
    "from kinoml.core.ligands import Ligand\n",
    "from kinoml.core.systems import ProteinLigandComplex\n",
    "from asapdiscovery.data import pdb\n",
    "\n",
    "def parse_pdb_structs(pdb_list, pdb_dir):\n",
    "    proteins = []\n",
    "    \n",
    "    pdb_fn_list = [os.path.join(pdb_dir, f\"{pdb}_aligned_to_frag_ref.pdb\") for pdb in pdb_list]\n",
    "    \n",
    "    for pdb in pdb_fn_list:\n",
    "        protein = Protein.from_file(pdb, name='MPRO')\n",
    "        protein.chain_id = \"A\"\n",
    "        proteins.append(protein)\n",
    "    return proteins"
   ]
  },
  {
   "cell_type": "code",
   "execution_count": null,
   "metadata": {},
   "outputs": [],
   "source": [
    "pdb_list = pdb.load_pdbs_from_yaml(\"mers-structures.yaml\")\n",
    "proteins = parse_pdb_structs(pdb_list, \"/Users/alexpayne/lilac-mount-point/mers-structures/\")"
   ]
  },
  {
   "cell_type": "code",
   "execution_count": null,
   "metadata": {},
   "outputs": [],
   "source": [
    "proteins[0].pdb_id"
   ]
  },
  {
   "cell_type": "code",
   "execution_count": null,
   "metadata": {},
   "outputs": [],
   "source": [
    "help(Ligand.from_file)"
   ]
  },
  {
   "cell_type": "code",
   "execution_count": null,
   "metadata": {},
   "outputs": [],
   "source": [
    "def get_ligand_coords_from_sdf(df, db_dir, chain=\"A\"):\n",
    "    \n",
    "    fns = [os.path.join(db_dir, f\"{dataset}_0{chain}/{dataset}_0{chain}.sdf\") for dataset in df[\"Dataset\"].to_list()]\n",
    "    print(fns)\n",
    "#     df[\"sdf\"] = df[\"Datset\"]\n",
    "    \n",
    "    ligands = [Ligand.from_file(fn, allow_undefined_stereo=True) for fn in fns]\n",
    "    \n",
    "    return ligands\n",
    "    "
   ]
  },
  {
   "cell_type": "code",
   "execution_count": null,
   "metadata": {},
   "outputs": [],
   "source": [
    "get_ligand_coords_from_sdf(mols_w_sars2_xtal, \n",
    "                           db_dir = \"/Users/alexpayne/lilac-mount-point/fragalysis/aligned/\",\n",
    "                          )"
   ]
  },
  {
   "cell_type": "code",
   "execution_count": null,
   "metadata": {},
   "outputs": [],
   "source": [
    "from openff.toolkit.topology import Molecule\n",
    "help(Molecule)"
   ]
  },
  {
   "cell_type": "code",
   "execution_count": null,
   "metadata": {},
   "outputs": [],
   "source": [
    "Molecule.from_file('/Users/alexpayne/lilac-mount-point/fragalysis/aligned/Mpro-P1661_0A/Mpro-P1661_0A.sdf',\n",
    "                  allow_undefined_stereo=True)"
   ]
  },
  {
   "cell_type": "code",
   "execution_count": null,
   "metadata": {},
   "outputs": [],
   "source": []
  },
  {
   "cell_type": "code",
   "execution_count": null,
   "metadata": {},
   "outputs": [],
   "source": [
    "def build_systems(proteins, smiles_df):\n",
    "    \n",
    "    smiles = smiles_df\n",
    "    \n",
    "    for protein in proteins:\n",
    "        for ligand in ligands:\n",
    "            "
   ]
  },
  {
   "cell_type": "code",
   "execution_count": null,
   "metadata": {},
   "outputs": [],
   "source": []
  },
  {
   "cell_type": "markdown",
   "metadata": {},
   "source": [
    "# Try build_design_units"
   ]
  },
  {
   "cell_type": "code",
   "execution_count": null,
   "metadata": {},
   "outputs": [],
   "source": [
    "from openeye import oechem, oespruce"
   ]
  },
  {
   "cell_type": "code",
   "execution_count": null,
   "metadata": {},
   "outputs": [],
   "source": [
    "# -target\n",
    "# \"/Users/alexpayne/lilac-mount-point/mers-structures/rcsb_5WKK.pdb\"\n",
    "# -ref\n",
    "# \"/Users/alexpayne/lilac-mount-point/fragalysis/extra_files/reference.pdb\"\n",
    "# -loop\n",
    "# \"/Users/alexpayne/lilac-mount-point/rcsb_spruce.loop_db\"\n",
    "# -o\n",
    "# \"/Users/alexpayne/lilac-mount-point/mers-structures/spruce_test\""
   ]
  },
  {
   "cell_type": "code",
   "execution_count": null,
   "metadata": {},
   "outputs": [],
   "source": [
    "## Load target molecule\n",
    "ifs = oechem.oemolistream()\n",
    "ifs.SetFlavor(\n",
    "    oechem.OEFormat_PDB,\n",
    "    oechem.OEIFlavor_PDB_Default | oechem.OEIFlavor_PDB_DATA,\n",
    ")\n",
    "ifs.open(\"/home/paynea/mers-structures/rcsb_8DGY.pdb\")\n",
    "in_mol = oechem.OEGraphMol()\n",
    "oechem.OEReadMolecule(ifs, in_mol)\n",
    "ifs.close()"
   ]
  },
  {
   "cell_type": "code",
   "execution_count": null,
   "metadata": {},
   "outputs": [],
   "source": [
    "## Load reference molecule\n",
    "ifs.open(\"/home/paynea/fragalysis/extra_files/reference.pdb\")\n",
    "ref_mol = oechem.OEGraphMol()\n",
    "oechem.OEReadMolecule(ifs, ref_mol)\n",
    "ifs.close()\n",
    "\n",
    "##Extract and align protein\n",
    "bio_opts = oespruce.OEBioUnitExtractionOptions()\n",
    "bio_opts.SetSuperpose(True)\n",
    "\n",
    "biounits = oespruce.OEExtractBioUnits(in_mol, ref_mol, bio_opts)\n",
    "in_mol = list(biounits)[0]"
   ]
  },
  {
   "cell_type": "code",
   "execution_count": null,
   "metadata": {},
   "outputs": [],
   "source": [
    "in_mol"
   ]
  },
  {
   "cell_type": "code",
   "execution_count": null,
   "metadata": {},
   "outputs": [],
   "source": [
    "## Set up options for building DesignUnits\n",
    "opts = oespruce.OEMakeDesignUnitOptions()\n",
    "# opts.SetBioUnitExtractionOptions(bio_opts)\n",
    "opts.GetPrepOptions().GetBuildOptions().GetLoopBuilderOptions().SetBuildTails(\n",
    "    False\n",
    ")\n",
    "opts.GetPrepOptions().GetBuildOptions().GetLoopBuilderOptions().SetLoopDBFilename(\n",
    "    \"/home/paynea/rcsb_spruce.loop_db\"\n",
    ")\n",
    "opts.GetPrepOptions().GetEnumerateSitesOptions().SetRestrictToRefSite(True)"
   ]
  },
  {
   "cell_type": "code",
   "execution_count": null,
   "metadata": {},
   "outputs": [],
   "source": [
    "## Build DesignUnits\n",
    "design_units = oespruce.OEMakeDesignUnits(\n",
    "    in_mol, oespruce.OEStructureMetadata(), opts\n",
    ")\n",
    "design_units = list(design_units)"
   ]
  },
  {
   "cell_type": "code",
   "execution_count": null,
   "metadata": {},
   "outputs": [],
   "source": [
    "design_units"
   ]
  },
  {
   "cell_type": "code",
   "execution_count": null,
   "metadata": {},
   "outputs": [],
   "source": []
  },
  {
   "cell_type": "code",
   "execution_count": null,
   "metadata": {},
   "outputs": [],
   "source": [
    "out_base_du = (\n",
    "        f\"/home/paynea/mers-structures/spruce_test/\"\n",
    "        f\"rcsb_8DGY_{{}}.oedu\"\n",
    "    )\n",
    "out_base = (\n",
    "    f\"/home/paynea/mers-structures/spruce_test/\"\n",
    "    f\"rcsb_8DGY_du_protein_{{}}.pdb\"\n",
    ")\n",
    "ofs = oechem.oemolostream()\n",
    "ofs.SetFlavor(\n",
    "    oechem.OEFormat_PDB,\n",
    "    oechem.OEOFlavor_PDB_Default,\n",
    ")\n",
    "prot_mol = oechem.OEGraphMol()\n",
    "\n",
    "design_units = list(design_units)\n",
    "for i, du in enumerate(design_units):\n",
    "    print(i)\n",
    "    ## Save the DesignUnit object\n",
    "    oechem.OEWriteDesignUnit(out_base_du.format(i), du)\n",
    "\n",
    "    ## Save the protein as a PDB file\n",
    "    prot_mol.Clear()\n",
    "    du.GetProtein(prot_mol)\n",
    "\n",
    "    ofs.open(out_base.format(i))\n",
    "    oechem.OEWriteMolecule(ofs, prot_mol)\n",
    "    ofs.close()"
   ]
  },
  {
   "cell_type": "code",
   "execution_count": null,
   "metadata": {},
   "outputs": [],
   "source": [
    "du = design_units[0]"
   ]
  },
  {
   "cell_type": "code",
   "execution_count": null,
   "metadata": {},
   "outputs": [],
   "source": [
    "prot_mol = oechem.OEGraphMol()\n",
    "res = du.GetProtein(prot_mol)\n",
    "res"
   ]
  },
  {
   "cell_type": "code",
   "execution_count": null,
   "metadata": {},
   "outputs": [],
   "source": [
    "lig = oechem.OEGraphMol()\n",
    "du.GetLigand(lig)"
   ]
  },
  {
   "cell_type": "code",
   "execution_count": null,
   "metadata": {},
   "outputs": [],
   "source": [
    "atom = prot_mol.GetAtom(oechem.OEIsHetero())"
   ]
  },
  {
   "cell_type": "code",
   "execution_count": null,
   "metadata": {},
   "outputs": [],
   "source": [
    "atom.GetName()"
   ]
  },
  {
   "cell_type": "code",
   "execution_count": null,
   "metadata": {},
   "outputs": [],
   "source": []
  },
  {
   "cell_type": "code",
   "execution_count": null,
   "metadata": {},
   "outputs": [],
   "source": [
    "atom = prot_mol.GetAtom(oechem.OEHasAtomIdx(9191))"
   ]
  },
  {
   "cell_type": "code",
   "execution_count": null,
   "metadata": {},
   "outputs": [],
   "source": [
    "atom.GetName()"
   ]
  },
  {
   "cell_type": "code",
   "execution_count": null,
   "metadata": {},
   "outputs": [],
   "source": [
    "prot_mol.DeleteAtom(atom)"
   ]
  },
  {
   "cell_type": "code",
   "execution_count": null,
   "metadata": {},
   "outputs": [],
   "source": [
    "oespruce.OEBuildSidechains(prot_mol)"
   ]
  },
  {
   "cell_type": "code",
   "execution_count": null,
   "metadata": {},
   "outputs": [],
   "source": [
    "options = oechem.OEPlaceHydrogensOptions()\n",
    "options.SetBypassPredicate(oechem.OENotAtom(oespruce.OEIsModeledAtom()))\n",
    "oechem.OEPlaceHydrogens(prot_mol, options)"
   ]
  },
  {
   "cell_type": "code",
   "execution_count": null,
   "metadata": {},
   "outputs": [],
   "source": [
    "atom = prot_mol.GetAtom(oechem.OEHasAtomIdx(9191))"
   ]
  },
  {
   "cell_type": "code",
   "execution_count": null,
   "metadata": {},
   "outputs": [],
   "source": [
    "hier_view = oechem.OEHierView(prot_mol)"
   ]
  },
  {
   "cell_type": "code",
   "execution_count": null,
   "metadata": {},
   "outputs": [],
   "source": [
    "res = hier_view.GetResidue(\"A\", \"CYS\", 148)"
   ]
  },
  {
   "cell_type": "code",
   "execution_count": null,
   "metadata": {},
   "outputs": [],
   "source": [
    "res"
   ]
  },
  {
   "cell_type": "code",
   "execution_count": null,
   "metadata": {},
   "outputs": [],
   "source": [
    "for atom in res.GetAtoms():\n",
    "    print(atom.GetIdx(), atom.GetName())"
   ]
  },
  {
   "cell_type": "code",
   "execution_count": null,
   "metadata": {},
   "outputs": [],
   "source": [
    "ofs.open(\"test_w_hydrogens_v2.pdb\")\n",
    "oechem.OEWriteMolecule(ofs, prot_mol)\n",
    "ofs.close()"
   ]
  },
  {
   "cell_type": "code",
   "execution_count": null,
   "metadata": {},
   "outputs": [],
   "source": []
  },
  {
   "cell_type": "code",
   "execution_count": null,
   "metadata": {},
   "outputs": [],
   "source": [
    "hier_view = oechem.OEHierView(du.GetReceptor())\n",
    "res = hier_view.GetResidue(\"B\", \"CYS\", 148)\n",
    "for atom in res.GetAtoms():\n",
    "    print(atom.GetName())"
   ]
  },
  {
   "cell_type": "code",
   "execution_count": null,
   "metadata": {},
   "outputs": [],
   "source": [
    "receptor = du.GetProtein()"
   ]
  },
  {
   "cell_type": "code",
   "execution_count": null,
   "metadata": {},
   "outputs": [],
   "source": [
    "hier_view = oechem.OEHierView(in_mol)\n",
    "res = hier_view.GetResidue(\"A\", \"CYS\", 148)\n",
    "for atom in res.GetAtoms():\n",
    "    print(atom.GetName())"
   ]
  },
  {
   "cell_type": "code",
   "execution_count": null,
   "metadata": {},
   "outputs": [],
   "source": [
    "in_mol"
   ]
  },
  {
   "cell_type": "code",
   "execution_count": null,
   "metadata": {},
   "outputs": [],
   "source": [
    "for residue in hier_view.GetResidues():\n",
    "    print(residue.GetResidueNumber(), residue.GetResidueName())"
   ]
  },
  {
   "cell_type": "code",
   "execution_count": null,
   "metadata": {},
   "outputs": [],
   "source": [
    "oespruce.OEMutateResidue(in_mol, res.GetOEResidue(), \"ALA\")"
   ]
  },
  {
   "cell_type": "code",
   "execution_count": null,
   "metadata": {},
   "outputs": [],
   "source": [
    "hier_view = oechem.OEHierView(in_mol)\n",
    "res = hier_view.GetResidue(\"A\", \"ALA\", 148)\n",
    "for atom in res.GetAtoms():\n",
    "    print(atom.GetName())"
   ]
  },
  {
   "cell_type": "code",
   "execution_count": null,
   "metadata": {},
   "outputs": [],
   "source": [
    "oespruce.OEMutateResidue(in_mol, res.GetOEResidue(), \"CYS\")"
   ]
  },
  {
   "cell_type": "code",
   "execution_count": null,
   "metadata": {},
   "outputs": [],
   "source": []
  }
 ],
 "metadata": {
  "kernelspec": {
   "display_name": "Python 3 (ipykernel)",
   "language": "python",
   "name": "python3"
  },
  "language_info": {
   "codemirror_mode": {
    "name": "ipython",
    "version": 3
   },
   "file_extension": ".py",
   "mimetype": "text/x-python",
   "name": "python",
   "nbconvert_exporter": "python",
   "pygments_lexer": "ipython3",
   "version": "3.8.13"
  },
  "toc": {
   "base_numbering": 1,
   "nav_menu": {},
   "number_sections": true,
   "sideBar": true,
   "skip_h1_title": false,
   "title_cell": "Table of Contents",
   "title_sidebar": "Contents",
   "toc_cell": false,
   "toc_position": {
    "height": "calc(100% - 180px)",
    "left": "10px",
    "top": "150px",
    "width": "358.398px"
   },
   "toc_section_display": true,
   "toc_window_display": true
  }
 },
 "nbformat": 4,
 "nbformat_minor": 1
}