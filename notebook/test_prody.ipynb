{
 "cells": [
  {
   "cell_type": "code",
   "execution_count": 15,
   "id": "30aa66f8-960b-4e11-9fd3-3360001255d8",
   "metadata": {},
   "outputs": [],
   "source": [
    "#from Bio import AlignIO\n",
    "from pathlib import Path\n",
    "from Bio import SeqIO\n"
   ]
  },
  {
   "cell_type": "code",
   "execution_count": null,
   "id": "1795ec1e-021c-4685-a0cc-29b17f06c7ca",
   "metadata": {},
   "outputs": [],
   "source": [
    "file_path = Path(\"/Users/choderalab/asapdiscovery/temp_storage\")\n",
    "# Currently assuming file is from clustalX or clustalW but not quite sure \n",
    "# Reference: https://biopython.org/wiki/AlignIO\n",
    "#align = AlignIO.read(file_path/\"covid_BLAST.aln\",\"fasta\")"
   ]
  },
  {
   "cell_type": "code",
   "execution_count": null,
   "id": "c4616e8a-e25d-4d96-ae0b-739b88c43c30",
   "metadata": {},
   "outputs": [],
   "source": [
    "fasta_sequences = SeqIO.parse(open(input_file),'fasta')\n",
    "with open(output_file) as out_file:\n",
    "    for fasta in fasta_sequences:\n",
    "        name, sequence = fasta.id, str(fasta.seq)\n",
    "        new_sequence = some_function(sequence)\n",
    "        write_fasta(out_file)"
   ]
  },
  {
   "cell_type": "code",
   "execution_count": 27,
   "id": "71330765-e947-45a7-b6ea-bd731d57c709",
   "metadata": {},
   "outputs": [],
   "source": [
    "# Testing ProDy thing from example\n",
    "# Reference: http://prody.csb.pitt.edu/tutorials/structure_analysis/blastpdb.html\n",
    "from prody import *\n",
    "import pickle"
   ]
  },
  {
   "cell_type": "code",
   "execution_count": 28,
   "id": "1bc92f64-9dcc-482b-81e5-bfd98c177ae4",
   "metadata": {},
   "outputs": [
    {
     "name": "stderr",
     "output_type": "stream",
     "text": [
      "@> Blast searching NCBI PDB database for \"SGLVK...\"\n",
      "@> WARNING Blast search time out.                       \n"
     ]
    }
   ],
   "source": [
    "# sample blast sequence\n",
    "blast_record = blastPDB('''SGLVKMSHPSGDVEACMVQVTCGSMTLNGLWLDNTVWCPRHVMCPADQLSDPNYDALLIS\n",
    "MTNHSFSVQKHIGAPANLRVVGHAMQGTLLKLTVDVANPSTPAYTFTTVKPGAAFSVLAC\n",
    "YNGRPTGTFTVVMRPNYTIKGSFLCGSCGSVGYTKEGSVINFCYMHQMELANGTHTGSAF\n",
    "DGTMYGAFMDKQVHQVQLTDKYCSVNVVAWLYAAILNGCAWFVKPNRTSVVSFNEWALAN\n",
    "QFTEFVGTQSVDMLAVKTGVAIEQLLYAIQQLYTGFQGKQILGSTMLEDEFTPEDVNMQI\n",
    "M''')\n",
    "\n",
    "# blast_record = blastPDB('''SGLVKMSHPSGDVEACMVQVTCGSMTLNGLWLDNTVWCPR\n",
    "# HVMCPADQLSDPNYDALLISMTNHSFSVQKHIGAPANLRVV\n",
    "# GHAMQGTLLKLTVDVANPSTPAYTFTTVKPGAAFSVLACYN\n",
    "# GRPTGTFTVVMRPNYTIKGSFLCGSCGSVGYTKEGSVINFC\n",
    "# YMHQMELANGTHTGSAFDGTMYGAFMDKQVHQVQLTDKYCS\n",
    "# VNVVAWLYAAILNGCAWFVKPNRTSVVSFNEWALANQFTEF\n",
    "# VGTQSVDMLAVKTGVAIEQLLYAIQQLYTGFQGKQILGSTM\n",
    "# LEDEFTPEDVNMQIMGVVMQ:SGLVKMSHPSGDVEACMVQV\n",
    "# TCGSMTLNGLWLDNTVWCPRHVMCPADQLSDPNYDALLISM\n",
    "# TNHSFSVQKHIGAPANLRVVGHAMQGTLLKLTVDVANPSTP\n",
    "# AYTFTTVKPGAAFSVLACYNGRPTGTFTVVMRPNYTIKGSF\n",
    "# LCGSCGSVGYTKEGSVINFCYMHQMELANGTHTGSAFDGTM\n",
    "# YGAFMDKQVHQVQLTDKYCSVNVVAWLYAAILNGCAWFVKP\n",
    "# NRTSVVSFNEWALANQFTEFVGTQSVDMLAVKTGVAIEQLL\n",
    "# YAIQQLYTGFQGKQILGSTMLEDEFTPEDVNMQIMGVVMQ\n",
    "# ''')"
   ]
  },
  {
   "cell_type": "code",
   "execution_count": 5,
   "id": "099578ae-8ab1-40eb-9d3b-6126957d0070",
   "metadata": {},
   "outputs": [],
   "source": [
    "# To save and load the blast records\n",
    "pickle.dump(blast_record, open('blast_record.pkl', 'wb'))\n",
    "\n",
    "blast_record = pickle.load(open('blast_record.pkl', 'rb'))"
   ]
  },
  {
   "cell_type": "code",
   "execution_count": 6,
   "id": "26b5dfe8-8fa2-42d8-96a2-616e3c2fae40",
   "metadata": {},
   "outputs": [
    {
     "ename": "TypeError",
     "evalue": "'NoneType' object is not subscriptable",
     "output_type": "error",
     "traceback": [
      "\u001b[0;31m---------------------------------------------------------------------------\u001b[0m",
      "\u001b[0;31mTypeError\u001b[0m                                 Traceback (most recent call last)",
      "Cell \u001b[0;32mIn[6], line 1\u001b[0m\n\u001b[0;32m----> 1\u001b[0m best \u001b[38;5;241m=\u001b[39m \u001b[43mblast_record\u001b[49m\u001b[38;5;241;43m.\u001b[39;49m\u001b[43mgetBest\u001b[49m\u001b[43m(\u001b[49m\u001b[43m)\u001b[49m\n\u001b[1;32m      2\u001b[0m best[\u001b[38;5;124m'\u001b[39m\u001b[38;5;124mpdb_id\u001b[39m\u001b[38;5;124m'\u001b[39m]\n",
      "File \u001b[0;32m~/miniforge3/envs/asapdiscovery/lib/python3.10/site-packages/prody/proteins/blastpdb.py:333\u001b[0m, in \u001b[0;36mPDBBlastRecord.getBest\u001b[0;34m(self)\u001b[0m\n\u001b[1;32m    329\u001b[0m \u001b[38;5;28;01mdef\u001b[39;00m \u001b[38;5;21mgetBest\u001b[39m(\u001b[38;5;28mself\u001b[39m):\n\u001b[1;32m    330\u001b[0m \u001b[38;5;250m    \u001b[39m\u001b[38;5;124;03m\"\"\"Returns a dictionary containing structure and alignment information\u001b[39;00m\n\u001b[1;32m    331\u001b[0m \u001b[38;5;124;03m    for the hit with highest sequence identity.\"\"\"\u001b[39;00m\n\u001b[0;32m--> 333\u001b[0m     \u001b[38;5;28;01mreturn\u001b[39;00m \u001b[38;5;28mdict\u001b[39m(\u001b[38;5;28;43mself\u001b[39;49m\u001b[38;5;241;43m.\u001b[39;49m\u001b[43m_hits\u001b[49m\u001b[43m[\u001b[49m\u001b[38;5;241;43m0\u001b[39;49m\u001b[43m]\u001b[49m[\u001b[38;5;241m2\u001b[39m])\n",
      "\u001b[0;31mTypeError\u001b[0m: 'NoneType' object is not subscriptable"
     ]
    }
   ],
   "source": [
    "best = blast_record.getBest()\n",
    "best['pdb_id']\n"
   ]
  },
  {
   "cell_type": "code",
   "execution_count": null,
   "id": "be25ec51-b554-4094-9c7e-bbaace4acc61",
   "metadata": {},
   "outputs": [],
   "source": [
    "best['percent_identity']\n"
   ]
  },
  {
   "cell_type": "code",
   "execution_count": null,
   "id": "bfba28ca-7a3a-4f32-8adc-98ec171d6132",
   "metadata": {},
   "outputs": [],
   "source": [
    "hits = blast_record.getHits()"
   ]
  },
  {
   "cell_type": "code",
   "execution_count": null,
   "id": "627cc3c6-2b62-4073-a7dc-d2913f1a1bc2",
   "metadata": {},
   "outputs": [],
   "source": [
    "list(hits)"
   ]
  },
  {
   "cell_type": "code",
   "execution_count": null,
   "id": "d495b871-ef66-445b-acaa-d6ee9d5f865e",
   "metadata": {},
   "outputs": [],
   "source": [
    "hits = blast_record.getHits(percent_identity=90, percent_overlap=70)\n",
    "list(hits)\n"
   ]
  },
  {
   "cell_type": "code",
   "execution_count": null,
   "id": "712fa604-154b-46c0-8e24-17b6698e70e9",
   "metadata": {},
   "outputs": [],
   "source": [
    "hits = blast_record.getHits(percent_identity=50)\n",
    "list(hits)\n",
    "#hits = blast_record.getHits(percent_identity=40)\n",
    "#list(hits)"
   ]
  },
  {
   "cell_type": "code",
   "execution_count": 10,
   "id": "bcf45171-dba9-4f66-83b6-7555f33acd61",
   "metadata": {},
   "outputs": [
    {
     "data": {
      "text/plain": [
       "50.72463768115942"
      ]
     },
     "execution_count": 10,
     "metadata": {},
     "output_type": "execute_result"
    }
   ],
   "source": [
    "hits['1m3g']['percent_identity']"
   ]
  },
  {
   "cell_type": "code",
   "execution_count": 12,
   "id": "4b77c75c-34f6-4ab7-af7c-c3624b7f7ee3",
   "metadata": {},
   "outputs": [
    {
     "data": {
      "text/plain": [
       "138"
      ]
     },
     "execution_count": 12,
     "metadata": {},
     "output_type": "execute_result"
    }
   ],
   "source": [
    "hits['1m3g']['align-len']\n"
   ]
  },
  {
   "cell_type": "code",
   "execution_count": 13,
   "id": "570f9367-6ba2-4449-b00f-0aa13c0d8eab",
   "metadata": {},
   "outputs": [
    {
     "data": {
      "text/plain": [
       "70"
      ]
     },
     "execution_count": 13,
     "metadata": {},
     "output_type": "execute_result"
    }
   ],
   "source": [
    "hits['1m3g']['identity']"
   ]
  },
  {
   "cell_type": "code",
   "execution_count": 14,
   "id": "a53853ad-fc30-41dd-8dbd-77029d4db5da",
   "metadata": {},
   "outputs": [],
   "source": [
    "all_hits = blast_record.getHits()\n"
   ]
  },
  {
   "cell_type": "code",
   "execution_count": 15,
   "id": "16aa2de3-4d5b-4142-bab6-c8772bf854bd",
   "metadata": {},
   "outputs": [
    {
     "name": "stderr",
     "output_type": "stream",
     "text": [
      "@> WARNING dict_keys(['1mkp', '4y2e', '2hxp', '3lj8', '3ezz', '1m3g', '6apx', '6d65', '6d66', '6d67']) is not a valid identifier.\n"
     ]
    }
   ],
   "source": [
    "filenames = fetchPDB(hits.keys())\n",
    "filenames"
   ]
  },
  {
   "cell_type": "code",
   "execution_count": null,
   "id": "16e3eaac-b96d-40a1-b350-bd7bbcc3eb87",
   "metadata": {},
   "outputs": [],
   "source": []
  },
  {
   "cell_type": "code",
   "execution_count": 33,
   "id": "acc5445a-c183-42ef-b04d-46f3b3281fe7",
   "metadata": {},
   "outputs": [
    {
     "data": {
      "text/plain": [
       "613"
      ]
     },
     "execution_count": 33,
     "metadata": {},
     "output_type": "execute_result"
    }
   ],
   "source": [
    "len('''SGLVKMSHPSGDVEACMVQVTCGSMTLNGLWLDNTVWCPRHVMCPADQLSDPNYDALLISMTNHSFSVQKHIGAPANLRVVGHAMQGTLLKLTVDVANPSTPAYTFTTVKPGAAFSVLACYNGRPTGTFTVVMRPNYTIKGSFLCGSCGSVGYTKEGSVINFCYMHQMELANGTHTGSAFDGTMYGAFMDKQVHQVQLTDKYCSVNVVAWLYAAILNGCAWFVKPNRTSVVSFNEWALANQFTEFVGTQSVDMLAVKTGVAIEQLLYAIQQLYTGFQGKQILGSTMLEDEFTPEDVNMQIMGVVMQ:SGLVKMSHPSGDVEACMVQVTCGSMTLNGLWLDNTVWCPRHVMCPADQLSDPNYDALLISMTNHSFSVQKHIGAPANLRVVGHAMQGTLLKLTVDVANPSTPAYTFTTVKPGAAFSVLACYNGRPTGTFTVVMRPNYTIKGSFLCGSCGSVGYTKEGSVINFCYMHQMELANGTHTGSAFDGTMYGAFMDKQVHQVQLTDKYCSVNVVAWLYAAILNGCAWFVKPNRTSVVSFNEWALANQFTEFVGTQSVDMLAVKTGVAIEQLLYAIQQLYTGFQGKQILGSTMLEDEFTPEDVNMQIMGVVMQ''')"
   ]
  },
  {
   "cell_type": "code",
   "execution_count": null,
   "id": "b8eb000e-8340-4f24-8866-7268fdfb7a56",
   "metadata": {},
   "outputs": [],
   "source": []
  }
 ],
 "metadata": {
  "kernelspec": {
   "display_name": "Python 3 (ipykernel)",
   "language": "python",
   "name": "python3"
  },
  "language_info": {
   "codemirror_mode": {
    "name": "ipython",
    "version": 3
   },
   "file_extension": ".py",
   "mimetype": "text/x-python",
   "name": "python",
   "nbconvert_exporter": "python",
   "pygments_lexer": "ipython3",
   "version": "3.10.13"
  }
 },
 "nbformat": 4,
 "nbformat_minor": 5
}
