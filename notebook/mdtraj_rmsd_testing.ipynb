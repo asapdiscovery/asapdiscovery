{
 "cells": [
  {
   "cell_type": "code",
   "execution_count": 50,
   "id": "a86b70d7",
   "metadata": {
    "pycharm": {
     "is_executing": true
    }
   },
   "outputs": [],
   "source": [
    "import mdtraj as md\n",
    "import os"
   ]
  },
  {
   "cell_type": "code",
   "execution_count": 5,
   "id": "c3d58914",
   "metadata": {},
   "outputs": [],
   "source": [
    "mobile_sdf_fn = \"kinoml_OEDockingFeaturizer_MPRO_Mpro-P0764_0A_seqres_chainA_ADA-UCB-6c2cb422-1_ligand_1_1.sdf\"\n",
    "ref_sdf_fn = \"Mpro-P2005_0A/Mpro-P2005_0A.sdf\"\n",
    "\n",
    "mobile_pdb_fn = \"kinoml_OEDockingFeaturizer_MPRO_Mpro-P0098_0A_seqres_chainA_ADA-UCB-6c2cb422-1_complex_3.pdb\"\n",
    "ref_pdb_fn = \"Mpro-P2005_0A/Mpro-P2005_0A_bound.pdb\""
   ]
  },
  {
   "cell_type": "code",
   "execution_count": 6,
   "id": "a07def70",
   "metadata": {},
   "outputs": [],
   "source": [
    "sdf_dir = \"/Users/alexpayne/Scientific_Projects/sdfs/\""
   ]
  },
  {
   "cell_type": "code",
   "execution_count": 9,
   "id": "94e4d166",
   "metadata": {},
   "outputs": [],
   "source": [
    "ref = md.load_pdb(os.path.join(sdf_dir, ref_pdb_fn))"
   ]
  },
  {
   "cell_type": "code",
   "execution_count": 18,
   "id": "61c011cf",
   "metadata": {},
   "outputs": [],
   "source": [
    "ref_lig = ref.atom_slice(ref.topology.select(\"resn LIG\"))"
   ]
  },
  {
   "cell_type": "code",
   "execution_count": 19,
   "id": "e561d907",
   "metadata": {},
   "outputs": [
    {
     "data": {
      "text/plain": [
       "<mdtraj.Trajectory with 1 frames, 21 atoms, 1 residues, without unitcells at 0x7ff6fbf75af0>"
      ]
     },
     "execution_count": 19,
     "metadata": {},
     "output_type": "execute_result"
    }
   ],
   "source": [
    "ref_lig"
   ]
  },
  {
   "cell_type": "code",
   "execution_count": 22,
   "id": "95101705",
   "metadata": {},
   "outputs": [
    {
     "name": "stdout",
     "output_type": "stream",
     "text": [
      "LIG410-O\n",
      "LIG410-C6\n",
      "LIG410-C5\n",
      "LIG410-C4\n",
      "LIG410-C3\n",
      "LIG410-C2\n",
      "LIG410-C1\n",
      "LIG410-C16\n",
      "LIG410-C\n",
      "LIG410-CL\n",
      "LIG410-N\n",
      "LIG410-C7\n",
      "LIG410-C15\n",
      "LIG410-C14\n",
      "LIG410-C13\n",
      "LIG410-C12\n",
      "LIG410-C11\n",
      "LIG410-C10\n",
      "LIG410-C9\n",
      "LIG410-N1\n",
      "LIG410-C8\n"
     ]
    }
   ],
   "source": [
    "for atom in ref_lig.topology.atoms:\n",
    "    print(atom)"
   ]
  },
  {
   "cell_type": "code",
   "execution_count": 23,
   "id": "3464368e",
   "metadata": {},
   "outputs": [
    {
     "data": {
      "text/plain": [
       "array([[[ 0.8902,  0.0837,  2.1288],\n",
       "        [ 0.8367, -0.0234,  2.1579],\n",
       "        [ 0.8954, -0.1164,  2.2625],\n",
       "        [ 1.0367, -0.0797,  2.302 ],\n",
       "        [ 1.0609,  0.0104,  2.4051],\n",
       "        [ 1.1898,  0.0541,  2.4324],\n",
       "        [ 1.2965,  0.0085,  2.3567],\n",
       "        [ 1.1446, -0.1291,  2.2294],\n",
       "        [ 1.2722, -0.0837,  2.2568],\n",
       "        [ 1.4056, -0.1444,  2.1621],\n",
       "        [ 0.7226, -0.0691,  2.1005],\n",
       "        [ 0.6474, -0.0105,  1.9964],\n",
       "        [ 0.5351,  0.0715,  2.0309],\n",
       "        [ 0.4871,  0.088 ,  2.1635],\n",
       "        [ 0.3817,  0.1709,  2.1903],\n",
       "        [ 0.3195,  0.2418,  2.0882],\n",
       "        [ 0.3613,  0.2285,  1.9588],\n",
       "        [ 0.4692,  0.1423,  1.9263],\n",
       "        [ 0.5166,  0.1236,  1.794 ],\n",
       "        [ 0.619 ,  0.0456,  1.7615],\n",
       "        [ 0.6819, -0.0187,  1.8612]]], dtype=float32)"
      ]
     },
     "execution_count": 23,
     "metadata": {},
     "output_type": "execute_result"
    }
   ],
   "source": [
    "ref_lig.xyz"
   ]
  },
  {
   "cell_type": "code",
   "execution_count": 24,
   "id": "b03f2734",
   "metadata": {},
   "outputs": [],
   "source": [
    "mobile = md.load_pdb(os.path.join(sdf_dir, mobile_pdb_fn))"
   ]
  },
  {
   "cell_type": "code",
   "execution_count": 28,
   "id": "43e06d51",
   "metadata": {},
   "outputs": [
    {
     "data": {
      "text/plain": [
       "array([4613, 4614, 4615, 4616, 4617, 4618, 4619, 4620, 4621, 4622, 4623,\n",
       "       4624, 4625, 4626, 4627, 4628, 4629, 4630, 4631, 4632, 4633, 4634,\n",
       "       4635, 4636, 4637, 4638, 4639, 4640, 4641, 4642, 4643, 4644, 4645,\n",
       "       4646])"
      ]
     },
     "execution_count": 28,
     "metadata": {},
     "output_type": "execute_result"
    }
   ],
   "source": [
    "mobile.topology.select(\"resn LIG\")"
   ]
  },
  {
   "cell_type": "code",
   "execution_count": 49,
   "id": "f2f84b3c",
   "metadata": {},
   "outputs": [],
   "source": [
    "mobile_lig = mobile.atom_slice(mobile.topology.select(\"resn LIG and not symbol H\"))"
   ]
  },
  {
   "cell_type": "code",
   "execution_count": 50,
   "id": "525d4759",
   "metadata": {},
   "outputs": [
    {
     "name": "stdout",
     "output_type": "stream",
     "text": [
      "LIG303-C1\n",
      "LIG303-C2\n",
      "LIG303-C3\n",
      "LIG303-C4\n",
      "LIG303-C5\n",
      "LIG303-C6\n",
      "LIG303-C7\n",
      "LIG303-C8\n",
      "LIG303-C9\n",
      "LIG303-C10\n",
      "LIG303-C11\n",
      "LIG303-C12\n",
      "LIG303-C13\n",
      "LIG303-C14\n",
      "LIG303-C15\n",
      "LIG303-C16\n",
      "LIG303-C17\n",
      "LIG303-N18\n",
      "LIG303-N19\n",
      "LIG303-O20\n",
      "LIG303-CL21\n"
     ]
    }
   ],
   "source": [
    "for atom in mobile_lig.topology.atoms:\n",
    "    print(atom)\n",
    "    "
   ]
  },
  {
   "cell_type": "code",
   "execution_count": 51,
   "id": "852dd476",
   "metadata": {},
   "outputs": [],
   "source": [
    "mobile2 = md.load_pdb(os.path.join(sdf_dir, \n",
    "                                   \"kinoml_OEDockingFeaturizer_MPRO_Mpro-P2005_0A_seqres_chainA_ADA-UCB-6c2cb422-1_complex.pdb\"))"
   ]
  },
  {
   "cell_type": "code",
   "execution_count": 60,
   "id": "f7721d8c",
   "metadata": {},
   "outputs": [],
   "source": [
    "mobile2_lig = mobile2.atom_slice(mobile2.topology.select(\"resn LIG and not symbol H\"))"
   ]
  },
  {
   "cell_type": "code",
   "execution_count": 61,
   "id": "5e64f9a1",
   "metadata": {},
   "outputs": [
    {
     "name": "stdout",
     "output_type": "stream",
     "text": [
      "LIG307-C1\n",
      "LIG307-C2\n",
      "LIG307-C3\n",
      "LIG307-C4\n",
      "LIG307-C5\n",
      "LIG307-C6\n",
      "LIG307-C7\n",
      "LIG307-C8\n",
      "LIG307-C9\n",
      "LIG307-C10\n",
      "LIG307-C11\n",
      "LIG307-C12\n",
      "LIG307-C13\n",
      "LIG307-C14\n",
      "LIG307-C15\n",
      "LIG307-C16\n",
      "LIG307-C17\n",
      "LIG307-N18\n",
      "LIG307-N19\n",
      "LIG307-O20\n",
      "LIG307-CL21\n"
     ]
    }
   ],
   "source": [
    "for atom in mobile2_lig.topology.atoms:\n",
    "    print(atom)"
   ]
  },
  {
   "cell_type": "code",
   "execution_count": 66,
   "id": "51434980",
   "metadata": {},
   "outputs": [
    {
     "name": "stderr",
     "output_type": "stream",
     "text": [
      "/var/folders/cf/d42qwdmd5_g5s63r3g_vgx2c0000gn/T/ipykernel_7254/3593535001.py:1: RuntimeWarning: in rmsd(), precentered is ignored when atom_indices != None\n",
      "  md.rmsd(mobile2_lig, mobile_lig, precentered=True)\n"
     ]
    },
    {
     "data": {
      "text/plain": [
       "array([0.19073766], dtype=float32)"
      ]
     },
     "execution_count": 66,
     "metadata": {},
     "output_type": "execute_result"
    }
   ],
   "source": [
    "md.rmsd(mobile2_lig, mobile_lig, precentered=True)"
   ]
  },
  {
   "cell_type": "code",
   "execution_count": 69,
   "id": "445d193c",
   "metadata": {},
   "outputs": [
    {
     "name": "stderr",
     "output_type": "stream",
     "text": [
      "/var/folders/cf/d42qwdmd5_g5s63r3g_vgx2c0000gn/T/ipykernel_7254/4275661744.py:1: RuntimeWarning: in rmsd(), precentered is ignored when atom_indices != None\n",
      "  md.rmsd(ref_lig, mobile_lig, precentered=True)\n"
     ]
    },
    {
     "data": {
      "text/plain": [
       "array([0.51450497], dtype=float32)"
      ]
     },
     "execution_count": 69,
     "metadata": {},
     "output_type": "execute_result"
    }
   ],
   "source": [
    "md.rmsd(ref_lig, mobile_lig, precentered=True)"
   ]
  },
  {
   "cell_type": "code",
   "execution_count": 70,
   "id": "167886db",
   "metadata": {},
   "outputs": [
    {
     "name": "stdout",
     "output_type": "stream",
     "text": [
      "Help on built-in function rmsd in module mdtraj._rmsd:\n",
      "\n",
      "rmsd(...)\n",
      "    rmsd(target, reference, frame=0, atom_indices=None, parallel=True, precentered=False)\n",
      "    \n",
      "    Compute RMSD of all conformations in target to a reference conformation.\n",
      "    Note, this will center the conformations in place.\n",
      "    \n",
      "    Parameters\n",
      "    ----------\n",
      "    target : md.Trajectory\n",
      "        For each conformation in this trajectory, compute the RMSD to\n",
      "        a particular 'reference' conformation in another trajectory\n",
      "        object.\n",
      "    reference : md.Trajectory\n",
      "        The object containing the reference conformation to measure distances\n",
      "        to.\n",
      "    frame : int, default=0\n",
      "        The index of the conformation in `reference` to measure\n",
      "        distances to.\n",
      "    atom_indices : array_like, or None\n",
      "        The indices of the atoms to use in the RMSD calculation. If not\n",
      "        supplied, all atoms will be used.\n",
      "    ref_atom_indices : array_like, or None\n",
      "        Use these indices for the reference trajectory. If not supplied,\n",
      "        the atom indices will be the same as those for target.\n",
      "    parallel : bool\n",
      "        Use OpenMP to calculate each of the RMSDs in parallel over\n",
      "        multiple cores.\n",
      "    precentered : bool, default=False\n",
      "        Assume that the conformations are already centered at the origin, and that\n",
      "        the \"rmsd_traces\" have been computed, as is done by\n",
      "        `Trajectory.center_coordinates`. The \"rmsd_traces\" are intermediate\n",
      "        calculations needed for the RMSD calculation which can be computed\n",
      "        independently on each trajectory. Note that this has the potential to\n",
      "        be unsafe; if you use Trajectory.center_coordinates and then modify\n",
      "        the trajectory's coordinates, the center and traces will be out of\n",
      "        date and the RMSDs will be incorrect.\n",
      "    \n",
      "    Examples\n",
      "    --------\n",
      "    >>> import mdtraj as md                                      # doctest: +SKIP\n",
      "    >>> rmsds = md.rmsd(trajectory, trajectory, 0)               # doctest: +SKIP\n",
      "    >>> print rmsds                                              # doctest: +SKIP\n",
      "    array([ 0.0,  0.03076187,  0.02549562, ...,  0.06230228,\n",
      "        0.00666826,  0.24364147])\n",
      "    \n",
      "    The calculation is slightly faster if you precenter the trajectory\n",
      "    \n",
      "    >>> trajectory.center_coordinates()\n",
      "    >>> rmsds = md.rmsd(trajectory, trajectory, 0, precentered=True)\n",
      "    \n",
      "    See Also\n",
      "    --------\n",
      "    Trajectory.center_coordinates\n",
      "    \n",
      "    Notes\n",
      "    -----\n",
      "    This function uses OpenMP to parallelize the calculation across\n",
      "    multiple cores. To control the number of threads launched by OpenMP,\n",
      "    you can set the environment variable ``OMP_NUM_THREADS``.\n",
      "    \n",
      "    Returns\n",
      "    -------\n",
      "    rmsds : np.ndarray, shape=(target.n_frames,)\n",
      "        A 1-D numpy array of the optimal root-mean-square deviations from\n",
      "        the `frame`-th conformation in reference to each of the conformations\n",
      "        in target.\n",
      "\n"
     ]
    }
   ],
   "source": [
    "help(md.rmsd)"
   ]
  },
  {
   "cell_type": "code",
   "execution_count": 71,
   "id": "32d4f904",
   "metadata": {},
   "outputs": [],
   "source": [
    "mobile_paths = [path for path in os.listdir(\"/Users/alexpayne/Scientific_Projects/sdfs/\") if path[-3:] == \"pdb\"]"
   ]
  },
  {
   "cell_type": "code",
   "execution_count": 72,
   "id": "0f894640",
   "metadata": {},
   "outputs": [
    {
     "data": {
      "text/plain": [
       "['kinoml_OEDockingFeaturizer_MPRO_Mpro-P0098_0A_seqres_chainA_ADA-UCB-6c2cb422-1_complex_3.pdb',\n",
       " 'kinoml_OEDockingFeaturizer_MPRO_Mpro-P2176_0A_seqres_chainA_ADA-UCB-6c2cb422-1_complex_4.pdb',\n",
       " 'kinoml_OEDockingFeaturizer_MPRO_Mpro-P2185_0A_seqres_chainA_ADA-UCB-6c2cb422-1_complex_9.pdb',\n",
       " 'kinoml_OEDockingFeaturizer_MPRO_Mpro-P2028_0B_seqres_chainB_ADA-UCB-6c2cb422-1_complex_0.pdb',\n",
       " 'kinoml_OEDockingFeaturizer_MPRO_Mpro-P2210_0B_seqres_chainB_ADA-UCB-6c2cb422-1_complex_6.pdb',\n",
       " 'kinoml_OEDockingFeaturizer_MPRO_Mpro-P0764_0B_seqres_chainB_ADA-UCB-6c2cb422-1_complex_1.pdb',\n",
       " 'kinoml_OEDockingFeaturizer_MPRO_Mpro-P2028_1B_seqres_chainB_ADA-UCB-6c2cb422-1_complex_0.pdb',\n",
       " 'kinoml_OEDockingFeaturizer_MPRO_Mpro-P0764_0A_seqres_chainA_ADA-UCB-6c2cb422-1_complex_1.pdb',\n",
       " 'kinoml_OEDockingFeaturizer_MPRO_Mpro-P2210_0A_seqres_chainA_ADA-UCB-6c2cb422-1_complex_6.pdb',\n",
       " 'kinoml_OEDockingFeaturizer_MPRO_Mpro-P2028_1A_seqres_chainA_ADA-UCB-6c2cb422-1_complex_0.pdb',\n",
       " 'kinoml_OEDockingFeaturizer_MPRO_Mpro-P2028_0A_seqres_chainA_ADA-UCB-6c2cb422-1_complex_0.pdb',\n",
       " 'kinoml_OEDockingFeaturizer_MPRO_Mpro-P2205_0A_seqres_chainA_ADA-UCB-6c2cb422-1_complex_7.pdb',\n",
       " 'kinoml_OEDockingFeaturizer_MPRO_Mpro-P2218_0A_seqres_chainA_ADA-UCB-6c2cb422-1_complex_8.pdb',\n",
       " 'kinoml_OEDockingFeaturizer_MPRO_Mpro-P2141_0A_seqres_chainA_ADA-UCB-6c2cb422-1_complex_5.pdb',\n",
       " 'kinoml_OEDockingFeaturizer_MPRO_Mpro-P2185_0B_seqres_chainB_ADA-UCB-6c2cb422-1_complex_9.pdb',\n",
       " 'kinoml_OEDockingFeaturizer_MPRO_Mpro-P2005_0A_seqres_chainA_ADA-UCB-6c2cb422-1_complex.pdb',\n",
       " 'kinoml_OEDockingFeaturizer_MPRO_Mpro-P0394_0A_seqres_chainA_ADA-UCB-6c2cb422-1_complex_2.pdb']"
      ]
     },
     "execution_count": 72,
     "metadata": {},
     "output_type": "execute_result"
    }
   ],
   "source": [
    "mobile_paths"
   ]
  },
  {
   "cell_type": "code",
   "execution_count": 79,
   "id": "eff03655",
   "metadata": {},
   "outputs": [
    {
     "name": "stdout",
     "output_type": "stream",
     "text": [
      "kinoml_OEDockingFeaturizer_MPRO_Mpro-P0098_0A_seqres_chainA_ADA-UCB-6c2cb422-1_complex_3.pdb\n",
      "0.053289063\n",
      "0.53\n",
      "kinoml_OEDockingFeaturizer_MPRO_Mpro-P2176_0A_seqres_chainA_ADA-UCB-6c2cb422-1_complex_4.pdb\n"
     ]
    },
    {
     "name": "stderr",
     "output_type": "stream",
     "text": [
      "/var/folders/cf/d42qwdmd5_g5s63r3g_vgx2c0000gn/T/ipykernel_7254/2780060498.py:7: RuntimeWarning: in rmsd(), precentered is ignored when atom_indices != None\n",
      "  print(md.rmsd(fake_ref_lig, mobile_lig, precentered=True)[0])\n"
     ]
    },
    {
     "name": "stdout",
     "output_type": "stream",
     "text": [
      "0.15666892\n",
      "1.57\n",
      "kinoml_OEDockingFeaturizer_MPRO_Mpro-P2185_0A_seqres_chainA_ADA-UCB-6c2cb422-1_complex_9.pdb\n",
      "0.011323594\n",
      "0.11\n",
      "kinoml_OEDockingFeaturizer_MPRO_Mpro-P2028_0B_seqres_chainB_ADA-UCB-6c2cb422-1_complex_0.pdb\n",
      "0.010689213\n",
      "0.11\n",
      "kinoml_OEDockingFeaturizer_MPRO_Mpro-P2210_0B_seqres_chainB_ADA-UCB-6c2cb422-1_complex_6.pdb\n",
      "0.008861105\n",
      "0.09\n",
      "kinoml_OEDockingFeaturizer_MPRO_Mpro-P0764_0B_seqres_chainB_ADA-UCB-6c2cb422-1_complex_1.pdb\n",
      "0.15046376\n",
      "1.50\n",
      "kinoml_OEDockingFeaturizer_MPRO_Mpro-P2028_1B_seqres_chainB_ADA-UCB-6c2cb422-1_complex_0.pdb\n",
      "0.010689213\n",
      "0.11\n",
      "kinoml_OEDockingFeaturizer_MPRO_Mpro-P0764_0A_seqres_chainA_ADA-UCB-6c2cb422-1_complex_1.pdb\n",
      "0.14865035\n",
      "1.49\n",
      "kinoml_OEDockingFeaturizer_MPRO_Mpro-P2210_0A_seqres_chainA_ADA-UCB-6c2cb422-1_complex_6.pdb\n",
      "0.0055631828\n",
      "0.06\n",
      "kinoml_OEDockingFeaturizer_MPRO_Mpro-P2028_1A_seqres_chainA_ADA-UCB-6c2cb422-1_complex_0.pdb\n",
      "0.009602668\n",
      "0.10\n",
      "kinoml_OEDockingFeaturizer_MPRO_Mpro-P2028_0A_seqres_chainA_ADA-UCB-6c2cb422-1_complex_0.pdb\n",
      "0.009602668\n",
      "0.10\n",
      "kinoml_OEDockingFeaturizer_MPRO_Mpro-P2205_0A_seqres_chainA_ADA-UCB-6c2cb422-1_complex_7.pdb\n",
      "0.0872421\n",
      "0.87\n",
      "kinoml_OEDockingFeaturizer_MPRO_Mpro-P2218_0A_seqres_chainA_ADA-UCB-6c2cb422-1_complex_8.pdb\n",
      "0.017493311\n",
      "0.17\n",
      "kinoml_OEDockingFeaturizer_MPRO_Mpro-P2141_0A_seqres_chainA_ADA-UCB-6c2cb422-1_complex_5.pdb\n",
      "0.115462326\n",
      "1.15\n",
      "kinoml_OEDockingFeaturizer_MPRO_Mpro-P2185_0B_seqres_chainB_ADA-UCB-6c2cb422-1_complex_9.pdb\n",
      "0.021615032\n",
      "0.22\n",
      "kinoml_OEDockingFeaturizer_MPRO_Mpro-P2005_0A_seqres_chainA_ADA-UCB-6c2cb422-1_complex.pdb\n",
      "0.0\n",
      "0.00\n",
      "kinoml_OEDockingFeaturizer_MPRO_Mpro-P0394_0A_seqres_chainA_ADA-UCB-6c2cb422-1_complex_2.pdb\n",
      "0.19073766\n",
      "1.91\n"
     ]
    }
   ],
   "source": [
    "fake_ref_lig = mobile2_lig\n",
    "for path in mobile_paths:\n",
    "    print(path)\n",
    "    mobile = md.load_pdb(os.path.join(sdf_dir, path))\n",
    "    mobile_lig = mobile.atom_slice(mobile.topology.select(\"resn LIG and not symbol H\"))\n",
    "    rmsd = md.rmsd(fake_ref_lig, mobile_lig)[0] * 10\n",
    "    print(md.rmsd(fake_ref_lig, mobile_lig, precentered=True)[0])\n",
    "    print(f\"{rmsd:.2f}\")"
   ]
  },
  {
   "cell_type": "code",
   "execution_count": 80,
   "id": "979e54f9",
   "metadata": {},
   "outputs": [],
   "source": [
    "import numpy as np"
   ]
  },
  {
   "cell_type": "code",
   "execution_count": 81,
   "id": "6c19bd31",
   "metadata": {},
   "outputs": [
    {
     "name": "stderr",
     "output_type": "stream",
     "text": [
      "/Users/alexpayne/opt/anaconda3/envs/mers-docking2/lib/python3.8/site-packages/numpy/linalg/linalg.py:2517: FutureWarning: elementwise comparison failed; returning scalar instead, but in the future will perform elementwise comparison\n",
      "  (ord in ('f', 'fro') and ndim == 2) or\n"
     ]
    },
    {
     "ename": "ValueError",
     "evalue": "The truth value of an array with more than one element is ambiguous. Use a.any() or a.all()",
     "output_type": "error",
     "traceback": [
      "\u001B[0;31m---------------------------------------------------------------------------\u001B[0m",
      "\u001B[0;31mValueError\u001B[0m                                Traceback (most recent call last)",
      "Input \u001B[0;32mIn [81]\u001B[0m, in \u001B[0;36m<cell line: 1>\u001B[0;34m()\u001B[0m\n\u001B[0;32m----> 1\u001B[0m \u001B[43mnp\u001B[49m\u001B[38;5;241;43m.\u001B[39;49m\u001B[43mlinalg\u001B[49m\u001B[38;5;241;43m.\u001B[39;49m\u001B[43mnorm\u001B[49m\u001B[43m(\u001B[49m\u001B[43mref_lig\u001B[49m\u001B[38;5;241;43m.\u001B[39;49m\u001B[43mxyz\u001B[49m\u001B[43m[\u001B[49m\u001B[38;5;241;43m0\u001B[39;49m\u001B[43m]\u001B[49m\u001B[43m,\u001B[49m\u001B[43m \u001B[49m\u001B[43mref_lig\u001B[49m\u001B[38;5;241;43m.\u001B[39;49m\u001B[43mxyz\u001B[49m\u001B[43m[\u001B[49m\u001B[38;5;241;43m0\u001B[39;49m\u001B[43m]\u001B[49m\u001B[43m)\u001B[49m\n",
      "File \u001B[0;32m<__array_function__ internals>:180\u001B[0m, in \u001B[0;36mnorm\u001B[0;34m(*args, **kwargs)\u001B[0m\n",
      "File \u001B[0;32m~/opt/anaconda3/envs/mers-docking2/lib/python3.8/site-packages/numpy/linalg/linalg.py:2516\u001B[0m, in \u001B[0;36mnorm\u001B[0;34m(x, ord, axis, keepdims)\u001B[0m\n\u001B[1;32m   2514\u001B[0m \u001B[38;5;28;01mif\u001B[39;00m axis \u001B[38;5;129;01mis\u001B[39;00m \u001B[38;5;28;01mNone\u001B[39;00m:\n\u001B[1;32m   2515\u001B[0m     ndim \u001B[38;5;241m=\u001B[39m x\u001B[38;5;241m.\u001B[39mndim\n\u001B[0;32m-> 2516\u001B[0m     \u001B[38;5;28;01mif\u001B[39;00m ((\u001B[38;5;28mord\u001B[39m \u001B[38;5;129;01mis\u001B[39;00m \u001B[38;5;28;01mNone\u001B[39;00m) \u001B[38;5;129;01mor\u001B[39;00m\n\u001B[1;32m   2517\u001B[0m         (\u001B[38;5;28mord\u001B[39m \u001B[38;5;129;01min\u001B[39;00m (\u001B[38;5;124m'\u001B[39m\u001B[38;5;124mf\u001B[39m\u001B[38;5;124m'\u001B[39m, \u001B[38;5;124m'\u001B[39m\u001B[38;5;124mfro\u001B[39m\u001B[38;5;124m'\u001B[39m) \u001B[38;5;129;01mand\u001B[39;00m ndim \u001B[38;5;241m==\u001B[39m \u001B[38;5;241m2\u001B[39m) \u001B[38;5;129;01mor\u001B[39;00m\n\u001B[1;32m   2518\u001B[0m         (\u001B[38;5;28mord\u001B[39m \u001B[38;5;241m==\u001B[39m \u001B[38;5;241m2\u001B[39m \u001B[38;5;129;01mand\u001B[39;00m ndim \u001B[38;5;241m==\u001B[39m \u001B[38;5;241m1\u001B[39m)):\n\u001B[1;32m   2520\u001B[0m         x \u001B[38;5;241m=\u001B[39m x\u001B[38;5;241m.\u001B[39mravel(order\u001B[38;5;241m=\u001B[39m\u001B[38;5;124m'\u001B[39m\u001B[38;5;124mK\u001B[39m\u001B[38;5;124m'\u001B[39m)\n\u001B[1;32m   2521\u001B[0m         \u001B[38;5;28;01mif\u001B[39;00m isComplexType(x\u001B[38;5;241m.\u001B[39mdtype\u001B[38;5;241m.\u001B[39mtype):\n",
      "\u001B[0;31mValueError\u001B[0m: The truth value of an array with more than one element is ambiguous. Use a.any() or a.all()"
     ]
    }
   ],
   "source": [
    "np.linalg.norm(ref_lig.xyz[0], ref_lig.xyz[0])"
   ]
  },
  {
   "cell_type": "code",
   "execution_count": 46,
   "id": "f3a42f5d",
   "metadata": {},
   "outputs": [],
   "source": [
    "def cal_rmsd_numpy(coord_1, coord_2):\n",
    "    rmsd = np.sqrt((((coord_1 - coord_2)** 2)*3).mean())\n",
    "    return rmsd"
   ]
  },
  {
   "cell_type": "code",
   "execution_count": 84,
   "id": "46e91c7d",
   "metadata": {},
   "outputs": [
    {
     "data": {
      "text/plain": [
       "0.54625016"
      ]
     },
     "execution_count": 84,
     "metadata": {},
     "output_type": "execute_result"
    }
   ],
   "source": [
    "cal_rmsd_numpy(ref_lig.xyz[0], mobile_lig.xyz[0])"
   ]
  },
  {
   "cell_type": "code",
   "execution_count": 85,
   "id": "cb9295e1",
   "metadata": {},
   "outputs": [
    {
     "data": {
      "text/plain": [
       "'kinoml_OEDockingFeaturizer_MPRO_Mpro-P0394_0A_seqres_chainA_ADA-UCB-6c2cb422-1_complex_2.pdb'"
      ]
     },
     "execution_count": 85,
     "metadata": {},
     "output_type": "execute_result"
    }
   ],
   "source": [
    "path"
   ]
  },
  {
   "cell_type": "code",
   "execution_count": 95,
   "id": "b3a1f561",
   "metadata": {},
   "outputs": [],
   "source": [
    "xyz1 = ref_lig.xyz[0]*10\n",
    "xyz2 = mobile_lig.xyz[0]*10"
   ]
  },
  {
   "cell_type": "code",
   "execution_count": 96,
   "id": "cd0f426f",
   "metadata": {},
   "outputs": [
    {
     "data": {
      "text/plain": [
       "array([[ 0.9162859 ,  0.5541905 ,  0.06642751],\n",
       "       [ 0.38128603, -0.5168095 ,  0.35742936],\n",
       "       [ 0.96828556, -1.4468095 ,  1.4034289 ],\n",
       "       [ 2.381286  , -1.0798095 ,  1.7984289 ],\n",
       "       [ 2.6232853 , -0.1788095 ,  2.8294296 ],\n",
       "       [ 3.9122858 ,  0.25819048,  3.1024284 ],\n",
       "       [ 4.9792852 , -0.1978095 ,  2.345428  ],\n",
       "       [ 3.460286  , -1.5738094 ,  1.0724276 ],\n",
       "       [ 4.7362857 , -1.1198095 ,  1.3464278 ],\n",
       "       [ 6.0702853 , -1.7268095 ,  0.39942917],\n",
       "       [-0.7597145 , -0.9738095 , -0.21657059],\n",
       "       [-1.511714  , -0.38780951, -1.2575716 ],\n",
       "       [-2.6347146 ,  0.43219054, -0.91257155],\n",
       "       [-3.1147144 ,  0.5971905 ,  0.4134291 ],\n",
       "       [-4.1687145 ,  1.4261904 ,  0.6814283 ],\n",
       "       [-4.7907143 ,  2.1351905 , -0.33957067],\n",
       "       [-4.3727145 ,  2.0021904 , -1.633572  ],\n",
       "       [-3.2937145 ,  1.1401905 , -1.9585711 ],\n",
       "       [-2.8197143 ,  0.95319045, -3.2815714 ],\n",
       "       [-1.795714  ,  0.1731905 , -3.6065717 ],\n",
       "       [-1.1667141 , -0.4698095 , -2.609572  ]], dtype=float32)"
      ]
     },
     "execution_count": 96,
     "metadata": {},
     "output_type": "execute_result"
    }
   ],
   "source": [
    "xyz1"
   ]
  },
  {
   "cell_type": "code",
   "execution_count": 97,
   "id": "449fe655",
   "metadata": {},
   "outputs": [
    {
     "data": {
      "text/plain": [
       "array([[ 3.7079523 ,  3.3253808 ,  2.0664282 ],\n",
       "       [ 2.3149524 ,  3.3563805 ,  2.0444293 ],\n",
       "       [-3.0810478 , -2.0216188 , -2.9615717 ],\n",
       "       [ 4.3859525 ,  2.165381  ,  1.6944284 ],\n",
       "       [ 1.5949522 ,  2.2273812 ,  1.6504283 ],\n",
       "       [-2.4120476 , -1.9186189 , -1.7425709 ],\n",
       "       [-4.169048  , -1.191619  , -3.2325716 ],\n",
       "       [-3.9190474 , -0.15661903, -1.0635715 ],\n",
       "       [ 4.2989526 , -0.163619  ,  0.9124298 ],\n",
       "       [ 2.298952  , -1.219619  ,  0.5124278 ],\n",
       "       [ 3.6719522 ,  1.023381  ,  1.2954278 ],\n",
       "       [ 2.261952  ,  1.0513809 ,  1.2714286 ],\n",
       "       [-2.8310475 , -0.98561907, -0.79357195],\n",
       "       [ 1.5689527 , -0.09661905,  0.87142897],\n",
       "       [-4.5880475 , -0.25861895, -2.2835712 ],\n",
       "       [-0.6340476 , -1.238619  ,  0.4374285 ],\n",
       "       [-2.1080477 , -0.876619  ,  0.52342844],\n",
       "       [ 3.6479518 , -1.282619  ,  0.52342844],\n",
       "       [ 0.1729522 , -0.15661903,  0.8184285 ],\n",
       "       [-0.2520474 , -2.346619  ,  0.0734277 ],\n",
       "       [-5.9310474 ,  0.76438093, -2.6175709 ]], dtype=float32)"
      ]
     },
     "execution_count": 97,
     "metadata": {},
     "output_type": "execute_result"
    }
   ],
   "source": [
    "xyz2"
   ]
  },
  {
   "cell_type": "code",
   "execution_count": 98,
   "id": "c786c5c7",
   "metadata": {},
   "outputs": [
    {
     "data": {
      "text/plain": [
       "array([[-2.79166651e+00, -2.77119017e+00, -2.00000072e+00],\n",
       "       [-1.93366635e+00, -3.87318993e+00, -1.68699992e+00],\n",
       "       [ 4.04933357e+00,  5.74809313e-01,  4.36500072e+00],\n",
       "       [-2.00466657e+00, -3.24519062e+00,  1.04000449e-01],\n",
       "       [ 1.02833307e+00, -2.40619063e+00,  1.17900133e+00],\n",
       "       [ 6.32433319e+00,  2.17680931e+00,  4.84499931e+00],\n",
       "       [ 9.14833260e+00,  9.93809521e-01,  5.57799959e+00],\n",
       "       [ 7.37933350e+00, -1.41719031e+00,  2.13599920e+00],\n",
       "       [ 4.37333107e-01, -9.56190526e-01,  4.33997989e-01],\n",
       "       [ 3.77133322e+00, -5.07190466e-01, -1.12998635e-01],\n",
       "       [-4.43166685e+00, -1.99719048e+00, -1.51199841e+00],\n",
       "       [-3.77366590e+00, -1.43919039e+00, -2.52900028e+00],\n",
       "       [ 1.96332932e-01,  1.41780961e+00, -1.18999600e-01],\n",
       "       [-4.68366718e+00,  6.93809569e-01, -4.57999855e-01],\n",
       "       [ 4.19332981e-01,  1.68480933e+00,  2.96499968e+00],\n",
       "       [-4.15666676e+00,  3.37380934e+00, -7.76999176e-01],\n",
       "       [-2.26466680e+00,  2.87880945e+00, -2.15700054e+00],\n",
       "       [-6.94166660e+00,  2.42280960e+00, -2.48199940e+00],\n",
       "       [-2.99266648e+00,  1.10980952e+00, -4.09999990e+00],\n",
       "       [-1.54366660e+00,  2.51980948e+00, -3.67999935e+00],\n",
       "       [ 4.76433325e+00, -1.23419046e+00,  7.99894333e-03]], dtype=float32)"
      ]
     },
     "execution_count": 98,
     "metadata": {},
     "output_type": "execute_result"
    }
   ],
   "source": [
    "xyz1-xyz2"
   ]
  },
  {
   "cell_type": "code",
   "execution_count": 100,
   "id": "3e727db8",
   "metadata": {},
   "outputs": [
    {
     "data": {
      "text/plain": [
       "9.946311"
      ]
     },
     "execution_count": 100,
     "metadata": {},
     "output_type": "execute_result"
    }
   ],
   "source": [
    "((xyz1-xyz2)**2).mean()"
   ]
  },
  {
   "cell_type": "code",
   "execution_count": 102,
   "id": "2b3ae727",
   "metadata": {},
   "outputs": [
    {
     "data": {
      "text/plain": [
       "5.4625025"
      ]
     },
     "execution_count": 102,
     "metadata": {},
     "output_type": "execute_result"
    }
   ],
   "source": [
    "np.sqrt((((xyz1-xyz2)**2)*3).mean())"
   ]
  },
  {
   "cell_type": "markdown",
   "id": "16202c0b",
   "metadata": {},
   "source": [
    "# OpenEYE"
   ]
  },
  {
   "cell_type": "code",
   "execution_count": 9,
   "id": "7f60066f",
   "metadata": {},
   "outputs": [],
   "source": [
    "from covid_moonshot_ml.data.openeye import load_openeye_sdf\n",
    "# print(f\"Loading rmsd calc on {sdf_path} compared to {ref_path}\")\n",
    "mobile_sdf = \"/Users/alexpayne/Scientific_Projects/sdfs/kinoml_OEDockingFeaturizer_MPRO_Mpro-P0098_0A_seqres_chainA_ADA-UCB-6c2cb422-1_ligand_3.sdf\"\n",
    "mobile = load_openeye_sdf(mobile_sdf)\n",
    "ref = load_openeye_sdf(\"/Users/alexpayne/Scientific_Projects/sdfs/Mpro-P2005_0A/Mpro-P2005_0A.sdf\")"
   ]
  },
  {
   "cell_type": "code",
   "execution_count": 13,
   "id": "4c76ccdc",
   "metadata": {},
   "outputs": [],
   "source": [
    "oechem.OECanonicalOrderAtoms(mobile)\n",
    "oechem.OECanonicalOrderBonds(mobile)"
   ]
  },
  {
   "cell_type": "code",
   "execution_count": 14,
   "id": "a594a7bd",
   "metadata": {},
   "outputs": [],
   "source": [
    "oechem.OECanonicalOrderAtoms(ref)\n",
    "oechem.OECanonicalOrderBonds(ref)"
   ]
  },
  {
   "cell_type": "code",
   "execution_count": 16,
   "id": "18e2127b",
   "metadata": {},
   "outputs": [
    {
     "data": {
      "text/plain": [
       "-1.0"
      ]
     },
     "execution_count": 16,
     "metadata": {},
     "output_type": "execute_result"
    }
   ],
   "source": [
    "oechem.OERMSD(ref, mobile)"
   ]
  },
  {
   "cell_type": "code",
   "execution_count": 17,
   "id": "73300504",
   "metadata": {},
   "outputs": [
    {
     "name": "stdout",
     "output_type": "stream",
     "text": [
      "21 H\n",
      "22 H\n",
      "23 H\n",
      "24 H\n",
      "25 H\n",
      "26 H\n",
      "27 H\n",
      "28 H\n",
      "29 H\n",
      "30 H\n",
      "31 H\n",
      "32 H\n",
      "33 H\n",
      " 0 C\n",
      " 1 C\n",
      " 2 C\n",
      " 3 C\n",
      " 4 C\n",
      " 5 C\n",
      " 6 C\n",
      " 7 C\n",
      " 8 C\n",
      " 9 C\n",
      "10 C\n",
      "11 C\n",
      "12 C\n",
      "13 C\n",
      "14 C\n",
      "15 C\n",
      "16 C\n",
      "17 N\n",
      "18 N\n",
      "19 O\n",
      "20Cl\n"
     ]
    }
   ],
   "source": [
    "for atom in mobile.GetAtoms():\n",
    "    print(atom)"
   ]
  },
  {
   "cell_type": "code",
   "execution_count": 21,
   "id": "b42a339a",
   "metadata": {},
   "outputs": [
    {
     "name": "stdout",
     "output_type": "stream",
     "text": [
      "15 C\n",
      "14 C\n",
      " 5 C\n",
      "16 C\n",
      "13 C\n",
      " 4 C\n",
      " 6 C\n",
      " 7 C\n",
      "18 C\n",
      "20 C\n",
      " 2 C\n",
      " 3 C\n",
      " 8 C\n",
      "17 C\n",
      "12 C\n",
      "11 C\n",
      " 1 C\n",
      "19 N\n",
      "10 N\n",
      " 0 O\n",
      " 9Cl\n"
     ]
    }
   ],
   "source": [
    "for atom in ref.GetAtoms():\n",
    "    print(atom)"
   ]
  },
  {
   "cell_type": "code",
   "execution_count": 34,
   "id": "f5727370",
   "metadata": {},
   "outputs": [],
   "source": [
    "import numpy as np"
   ]
  },
  {
   "cell_type": "code",
   "execution_count": 38,
   "id": "b3da205f",
   "metadata": {},
   "outputs": [],
   "source": [
    "ref_xyz = np.array(list(ref.GetCoords().values()))"
   ]
  },
  {
   "cell_type": "code",
   "execution_count": 39,
   "id": "0ee728e5",
   "metadata": {},
   "outputs": [
    {
     "data": {
      "text/plain": [
       "array([[ 3.19499993,  2.41799998, 20.88199997],\n",
       "       [ 3.81699991,  1.70899999, 21.90299988],\n",
       "       [11.89799976,  0.54100001, 24.3239994 ],\n",
       "       [ 3.61299992,  2.28500009, 19.58799934],\n",
       "       [ 4.87099981,  0.88      , 21.63500023],\n",
       "       [10.60900021,  0.104     , 24.0510006 ],\n",
       "       [12.96500015,  0.085     , 23.56699944],\n",
       "       [11.4460001 , -1.29100001, 22.29400063],\n",
       "       [ 5.16599989,  1.23599994, 17.94000053],\n",
       "       [ 6.81899977, -0.18700001, 18.61199951],\n",
       "       [ 8.95400047, -1.16400003, 22.625     ],\n",
       "       [10.36699963, -0.79699999, 23.02000046],\n",
       "       [12.72200012, -0.83700001, 22.56800079],\n",
       "       [ 4.69199991,  1.42299998, 19.26300049],\n",
       "       [ 5.35099983,  0.71499997, 20.30900002],\n",
       "       [ 6.47399998, -0.105     , 19.9640007 ],\n",
       "       [ 8.36699963, -0.234     , 21.57900047],\n",
       "       [ 6.19000006,  0.456     , 17.61499977],\n",
       "       [ 7.22599983, -0.69099998, 21.00499916],\n",
       "       [ 8.90200043,  0.83700001, 21.28800011],\n",
       "       [14.05599976, -1.44400001, 21.62100029]])"
      ]
     },
     "execution_count": 39,
     "metadata": {},
     "output_type": "execute_result"
    }
   ],
   "source": [
    "ref_xyz"
   ]
  },
  {
   "cell_type": "code",
   "execution_count": 40,
   "id": "92c4bd30",
   "metadata": {},
   "outputs": [],
   "source": [
    "n_atoms = len(ref_xyz)"
   ]
  },
  {
   "cell_type": "code",
   "execution_count": 41,
   "id": "9098eaea",
   "metadata": {},
   "outputs": [],
   "source": [
    "mobile_xyz = np.array(list(mobile.GetCoords().values()))"
   ]
  },
  {
   "cell_type": "code",
   "execution_count": 43,
   "id": "f1aaa961",
   "metadata": {},
   "outputs": [
    {
     "data": {
      "text/plain": [
       "array([[ 2.87649989,  2.79029989, 20.58950043],\n",
       "       [ 3.47280002,  2.18540001, 21.68630028],\n",
       "       [11.34840012,  0.79149997, 23.95479965],\n",
       "       [ 3.35349989,  2.52640009, 19.3071003 ],\n",
       "       [ 4.57329988,  1.35140002, 21.50449944],\n",
       "       [10.0632    ,  0.32480001, 23.67140007],\n",
       "       [12.45740032,  0.1895    , 23.36470032],\n",
       "       [10.99139977, -1.34529996, 22.19490051],\n",
       "       [ 4.89669991,  1.3197    , 17.84029961],\n",
       "       [ 6.55420017, -0.0445    , 18.66939926],\n",
       "       [ 4.44229984,  1.65840006, 19.11319923],\n",
       "       [ 5.10550022,  1.0891    , 20.21999931],\n",
       "       [ 9.87320042, -0.7561    , 22.79850006],\n",
       "       [ 6.23600006,  0.26570001, 19.98649979],\n",
       "       [12.27330017, -0.87309998, 22.48220062],\n",
       "       [ 7.9835    , -1.12979996, 21.15089989],\n",
       "       [ 8.49489975, -1.31470001, 22.56970024],\n",
       "       [ 5.91069984,  0.4632    , 17.59370041],\n",
       "       [ 7.00670004, -0.1512    , 21.09600067],\n",
       "       [ 8.39439964, -1.82360005, 20.22649956],\n",
       "       [13.64050007, -1.62750006, 21.75849915]])"
      ]
     },
     "execution_count": 43,
     "metadata": {},
     "output_type": "execute_result"
    }
   ],
   "source": [
    "mobile_xyz[-n_atoms:]"
   ]
  },
  {
   "cell_type": "code",
   "execution_count": 44,
   "id": "80eeb5cc",
   "metadata": {},
   "outputs": [
    {
     "data": {
      "text/plain": [
       "array([[ 2.02950001,  3.45309997, 20.73259926],\n",
       "       [ 3.08789992,  2.35349989, 22.68720055],\n",
       "       [11.48560047,  1.61520004, 24.64970016],\n",
       "       [ 2.86190009,  2.99530005, 18.45820045],\n",
       "       [ 4.98670006,  0.88090003, 22.39319992],\n",
       "       [ 9.21249962,  0.79759997, 24.15589905],\n",
       "       [13.45320034,  0.55019999, 23.60720062],\n",
       "       [10.8579998 , -2.18560004, 21.51799965],\n",
       "       [ 4.43179989,  1.73080003, 16.94820023],\n",
       "       [ 7.37559986, -0.69700003, 18.39979935],\n",
       "       [ 8.49800014, -2.38840008, 22.78980064],\n",
       "       [ 7.79099989, -0.87910002, 23.29089928],\n",
       "       [ 6.81090021,  0.3249    , 21.95339966],\n",
       "       [ 2.87649989,  2.79029989, 20.58950043],\n",
       "       [ 3.47280002,  2.18540001, 21.68630028],\n",
       "       [11.34840012,  0.79149997, 23.95479965],\n",
       "       [ 3.35349989,  2.52640009, 19.3071003 ],\n",
       "       [ 4.57329988,  1.35140002, 21.50449944],\n",
       "       [10.0632    ,  0.32480001, 23.67140007],\n",
       "       [12.45740032,  0.1895    , 23.36470032],\n",
       "       [10.99139977, -1.34529996, 22.19490051],\n",
       "       [ 4.89669991,  1.3197    , 17.84029961],\n",
       "       [ 6.55420017, -0.0445    , 18.66939926],\n",
       "       [ 4.44229984,  1.65840006, 19.11319923],\n",
       "       [ 5.10550022,  1.0891    , 20.21999931],\n",
       "       [ 9.87320042, -0.7561    , 22.79850006],\n",
       "       [ 6.23600006,  0.26570001, 19.98649979],\n",
       "       [12.27330017, -0.87309998, 22.48220062],\n",
       "       [ 7.9835    , -1.12979996, 21.15089989],\n",
       "       [ 8.49489975, -1.31470001, 22.56970024],\n",
       "       [ 5.91069984,  0.4632    , 17.59370041],\n",
       "       [ 7.00670004, -0.1512    , 21.09600067],\n",
       "       [ 8.39439964, -1.82360005, 20.22649956],\n",
       "       [13.64050007, -1.62750006, 21.75849915]])"
      ]
     },
     "execution_count": 44,
     "metadata": {},
     "output_type": "execute_result"
    }
   ],
   "source": [
    "mobile_xyz"
   ]
  },
  {
   "cell_type": "code",
   "execution_count": 47,
   "id": "84b4204a",
   "metadata": {},
   "outputs": [
    {
     "data": {
      "text/plain": [
       "2.8140163275089867"
      ]
     },
     "execution_count": 47,
     "metadata": {},
     "output_type": "execute_result"
    }
   ],
   "source": [
    "cal_rmsd_numpy(ref_xyz, mobile_xyz[-n_atoms:])"
   ]
  },
  {
   "cell_type": "markdown",
   "id": "45fb9ae7",
   "metadata": {},
   "source": [
    "## automate"
   ]
  },
  {
   "cell_type": "code",
   "execution_count": 48,
   "id": "c0bddddd",
   "metadata": {},
   "outputs": [
    {
     "data": {
      "text/plain": [
       "array([[ 3.19499993,  2.41799998, 20.88199997],\n",
       "       [ 3.81699991,  1.70899999, 21.90299988],\n",
       "       [11.89799976,  0.54100001, 24.3239994 ],\n",
       "       [ 3.61299992,  2.28500009, 19.58799934],\n",
       "       [ 4.87099981,  0.88      , 21.63500023],\n",
       "       [10.60900021,  0.104     , 24.0510006 ],\n",
       "       [12.96500015,  0.085     , 23.56699944],\n",
       "       [11.4460001 , -1.29100001, 22.29400063],\n",
       "       [ 5.16599989,  1.23599994, 17.94000053],\n",
       "       [ 6.81899977, -0.18700001, 18.61199951],\n",
       "       [ 8.95400047, -1.16400003, 22.625     ],\n",
       "       [10.36699963, -0.79699999, 23.02000046],\n",
       "       [12.72200012, -0.83700001, 22.56800079],\n",
       "       [ 4.69199991,  1.42299998, 19.26300049],\n",
       "       [ 5.35099983,  0.71499997, 20.30900002],\n",
       "       [ 6.47399998, -0.105     , 19.9640007 ],\n",
       "       [ 8.36699963, -0.234     , 21.57900047],\n",
       "       [ 6.19000006,  0.456     , 17.61499977],\n",
       "       [ 7.22599983, -0.69099998, 21.00499916],\n",
       "       [ 8.90200043,  0.83700001, 21.28800011],\n",
       "       [14.05599976, -1.44400001, 21.62100029]])"
      ]
     },
     "execution_count": 48,
     "metadata": {},
     "output_type": "execute_result"
    }
   ],
   "source": [
    "ref_xyz"
   ]
  },
  {
   "cell_type": "code",
   "execution_count": 51,
   "id": "79ad4d08",
   "metadata": {},
   "outputs": [],
   "source": [
    "sdf_paths = [path for path in os.listdir(\"/Users/alexpayne/Scientific_Projects/sdfs/\") if path[-3:] == \"sdf\"]"
   ]
  },
  {
   "cell_type": "code",
   "execution_count": 52,
   "id": "f81a52ba",
   "metadata": {},
   "outputs": [
    {
     "data": {
      "text/plain": [
       "['kinoml_OEDockingFeaturizer_MPRO_Mpro-P2210_0A_seqres_chainA_ADA-UCB-6c2cb422-1_ligand_6.sdf',\n",
       " 'kinoml_OEDockingFeaturizer_MPRO_Mpro-P2218_0A_seqres_chainA_ADA-UCB-6c2cb422-1_ligand_8.sdf',\n",
       " 'kinoml_OEDockingFeaturizer_MPRO_Mpro-P2005_0A_seqres_chainA_ADA-UCB-6c2cb422-1_ligand.sdf',\n",
       " 'kinoml_OEDockingFeaturizer_MPRO_Mpro-P2210_0B_seqres_chainB_ADA-UCB-6c2cb422-1_ligand_6.sdf',\n",
       " 'kinoml_OEDockingFeaturizer_MPRO_Mpro-P2141_0A_seqres_chainA_ADA-UCB-6c2cb422-1_ligand_5.sdf',\n",
       " 'kinoml_OEDockingFeaturizer_MPRO_Mpro-P2028_0A_seqres_chainA_ADA-UCB-6c2cb422-1_ligand_0.sdf',\n",
       " 'kinoml_OEDockingFeaturizer_MPRO_Mpro-P2028_0B_seqres_chainB_ADA-UCB-6c2cb422-1_ligand_0.sdf',\n",
       " 'kinoml_OEDockingFeaturizer_MPRO_Mpro-P0098_0A_seqres_chainA_ADA-UCB-6c2cb422-1_ligand_3.sdf',\n",
       " 'kinoml_OEDockingFeaturizer_MPRO_Mpro-P2028_1B_seqres_chainB_ADA-UCB-6c2cb422-1_ligand_0.sdf',\n",
       " 'kinoml_OEDockingFeaturizer_MPRO_Mpro-P0764_0B_seqres_chainB_ADA-UCB-6c2cb422-1_ligand_1.sdf',\n",
       " 'kinoml_OEDockingFeaturizer_MPRO_Mpro-P0394_0A_seqres_chainA_ADA-UCB-6c2cb422-1_ligand_2.sdf',\n",
       " 'kinoml_OEDockingFeaturizer_MPRO_Mpro-P2028_1A_seqres_chainA_ADA-UCB-6c2cb422-1_ligand_0.sdf',\n",
       " 'kinoml_OEDockingFeaturizer_MPRO_Mpro-P0764_0A_seqres_chainA_ADA-UCB-6c2cb422-1_ligand_1.sdf',\n",
       " 'kinoml_OEDockingFeaturizer_MPRO_Mpro-P2205_0A_seqres_chainA_ADA-UCB-6c2cb422-1_ligand_7.sdf',\n",
       " 'kinoml_OEDockingFeaturizer_MPRO_Mpro-P2176_0A_seqres_chainA_ADA-UCB-6c2cb422-1_ligand_4.sdf',\n",
       " 'kinoml_OEDockingFeaturizer_MPRO_Mpro-P2185_0A_seqres_chainA_ADA-UCB-6c2cb422-1_ligand_9.sdf',\n",
       " 'kinoml_OEDockingFeaturizer_MPRO_Mpro-P2185_0B_seqres_chainB_ADA-UCB-6c2cb422-1_ligand_9.sdf']"
      ]
     },
     "execution_count": 52,
     "metadata": {},
     "output_type": "execute_result"
    }
   ],
   "source": [
    "sdf_paths"
   ]
  },
  {
   "cell_type": "code",
   "execution_count": 59,
   "id": "39a972d8",
   "metadata": {},
   "outputs": [
    {
     "name": "stdout",
     "output_type": "stream",
     "text": [
      "kinoml_OEDockingFeaturizer_MPRO_Mpro-P2210_0A_seqres_chainA_ADA-UCB-6c2cb422-1_ligand_6.sdf\n",
      "2.7235243327615213\n",
      "kinoml_OEDockingFeaturizer_MPRO_Mpro-P2218_0A_seqres_chainA_ADA-UCB-6c2cb422-1_ligand_8.sdf\n",
      "2.7404358763811048\n",
      "kinoml_OEDockingFeaturizer_MPRO_Mpro-P2005_0A_seqres_chainA_ADA-UCB-6c2cb422-1_ligand.sdf\n",
      "2.722149069046822\n",
      "kinoml_OEDockingFeaturizer_MPRO_Mpro-P2210_0B_seqres_chainB_ADA-UCB-6c2cb422-1_ligand_6.sdf\n",
      "2.7240898272767753\n",
      "kinoml_OEDockingFeaturizer_MPRO_Mpro-P2141_0A_seqres_chainA_ADA-UCB-6c2cb422-1_ligand_5.sdf\n",
      "7.251836827896964\n",
      "kinoml_OEDockingFeaturizer_MPRO_Mpro-P2028_0A_seqres_chainA_ADA-UCB-6c2cb422-1_ligand_0.sdf\n",
      "2.7180261019284693\n",
      "kinoml_OEDockingFeaturizer_MPRO_Mpro-P2028_0B_seqres_chainB_ADA-UCB-6c2cb422-1_ligand_0.sdf\n",
      "2.7219658922411494\n",
      "kinoml_OEDockingFeaturizer_MPRO_Mpro-P0098_0A_seqres_chainA_ADA-UCB-6c2cb422-1_ligand_3.sdf\n",
      "2.8140163275089867\n",
      "kinoml_OEDockingFeaturizer_MPRO_Mpro-P2028_1B_seqres_chainB_ADA-UCB-6c2cb422-1_ligand_0.sdf\n",
      "2.7219658922411494\n",
      "kinoml_OEDockingFeaturizer_MPRO_Mpro-P0764_0B_seqres_chainB_ADA-UCB-6c2cb422-1_ligand_1.sdf\n",
      "3.0221607554300465\n",
      "kinoml_OEDockingFeaturizer_MPRO_Mpro-P0394_0A_seqres_chainA_ADA-UCB-6c2cb422-1_ligand_2.sdf\n",
      "7.283266967325012\n",
      "kinoml_OEDockingFeaturizer_MPRO_Mpro-P2028_1A_seqres_chainA_ADA-UCB-6c2cb422-1_ligand_0.sdf\n",
      "2.7180261019284693\n",
      "kinoml_OEDockingFeaturizer_MPRO_Mpro-P0764_0A_seqres_chainA_ADA-UCB-6c2cb422-1_ligand_1.sdf\n",
      "3.0450088306110543\n",
      "kinoml_OEDockingFeaturizer_MPRO_Mpro-P2205_0A_seqres_chainA_ADA-UCB-6c2cb422-1_ligand_7.sdf\n",
      "2.982351476720768\n",
      "kinoml_OEDockingFeaturizer_MPRO_Mpro-P2176_0A_seqres_chainA_ADA-UCB-6c2cb422-1_ligand_4.sdf\n",
      "7.0773189387533755\n",
      "kinoml_OEDockingFeaturizer_MPRO_Mpro-P2185_0A_seqres_chainA_ADA-UCB-6c2cb422-1_ligand_9.sdf\n",
      "2.744818597930071\n",
      "kinoml_OEDockingFeaturizer_MPRO_Mpro-P2185_0B_seqres_chainB_ADA-UCB-6c2cb422-1_ligand_9.sdf\n",
      "2.748057673550887\n"
     ]
    }
   ],
   "source": [
    "for path in sdf_paths:\n",
    "    mobile = load_openeye_sdf(os.path.join(\"/Users/alexpayne/Scientific_Projects/sdfs\", path))\n",
    "    oechem.OECanonicalOrderAtoms(mobile)\n",
    "    oechem.OECanonicalOrderBonds(mobile)\n",
    "    mobile_xyz = np.array(list(mobile.GetCoords().values()))\n",
    "#     print(mobile_xyz)\n",
    "#     print(ref_xyz)\n",
    "    print(path)\n",
    "    print(cal_rmsd_numpy(ref_xyz, mobile_xyz[-n_atoms:]))"
   ]
  },
  {
   "cell_type": "code",
   "execution_count": null,
   "id": "f2cddd44",
   "metadata": {},
   "outputs": [],
   "source": []
  }
 ],
 "metadata": {
  "kernelspec": {
   "display_name": "Python 3 (ipykernel)",
   "language": "python",
   "name": "python3"
  },
  "language_info": {
   "codemirror_mode": {
    "name": "ipython",
    "version": 3
   },
   "file_extension": ".py",
   "mimetype": "text/x-python",
   "name": "python",
   "nbconvert_exporter": "python",
   "pygments_lexer": "ipython3",
   "version": "3.8.13"
  },
  "toc": {
   "base_numbering": 1,
   "nav_menu": {},
   "number_sections": true,
   "sideBar": true,
   "skip_h1_title": false,
   "title_cell": "Table of Contents",
   "title_sidebar": "Contents",
   "toc_cell": false,
   "toc_position": {},
   "toc_section_display": true,
   "toc_window_display": true
  }
 },
 "nbformat": 4,
 "nbformat_minor": 5
}