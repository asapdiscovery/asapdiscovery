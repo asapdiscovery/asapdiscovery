{
 "cells": [
  {
   "cell_type": "code",
   "execution_count": null,
   "id": "a86b70d7",
   "metadata": {
    "pycharm": {
     "is_executing": true
    }
   },
   "outputs": [],
   "source": [
    "import mdtraj as md\n",
    "import os"
   ]
  },
  {
   "cell_type": "code",
   "execution_count": null,
   "id": "c3d58914",
   "metadata": {},
   "outputs": [],
   "source": [
    "mobile_sdf_fn = \"kinoml_OEDockingFeaturizer_MPRO_Mpro-P0764_0A_seqres_chainA_ADA-UCB-6c2cb422-1_ligand_1_1.sdf\"\n",
    "ref_sdf_fn = \"Mpro-P2005_0A/Mpro-P2005_0A.sdf\"\n",
    "\n",
    "mobile_pdb_fn = \"kinoml_OEDockingFeaturizer_MPRO_Mpro-P0098_0A_seqres_chainA_ADA-UCB-6c2cb422-1_complex_3.pdb\"\n",
    "ref_pdb_fn = \"Mpro-P2005_0A/Mpro-P2005_0A_bound.pdb\""
   ]
  },
  {
   "cell_type": "code",
   "execution_count": null,
   "id": "a07def70",
   "metadata": {},
   "outputs": [],
   "source": [
    "sdf_dir = \"/Users/alexpayne/Scientific_Projects/sdfs/\""
   ]
  },
  {
   "cell_type": "code",
   "execution_count": null,
   "id": "94e4d166",
   "metadata": {},
   "outputs": [],
   "source": [
    "ref = md.load_pdb(os.path.join(sdf_dir, ref_pdb_fn))"
   ]
  },
  {
   "cell_type": "code",
   "execution_count": null,
   "id": "61c011cf",
   "metadata": {},
   "outputs": [],
   "source": [
    "ref_lig = ref.atom_slice(ref.topology.select(\"resn LIG\"))"
   ]
  },
  {
   "cell_type": "code",
   "execution_count": null,
   "id": "80236c1f",
   "metadata": {},
   "outputs": [],
   "source": [
    "ref_lig"
   ]
  },
  {
   "cell_type": "code",
   "execution_count": null,
   "id": "095cd944",
   "metadata": {},
   "outputs": [],
   "source": [
    "for atom in ref_lig.topology.atoms:\n",
    "    print(atom)"
   ]
  },
  {
   "cell_type": "code",
   "execution_count": null,
   "id": "d673d696",
   "metadata": {},
   "outputs": [],
   "source": [
    "ref_lig.xyz"
   ]
  },
  {
   "cell_type": "code",
   "execution_count": null,
   "id": "dbb2e98a",
   "metadata": {},
   "outputs": [],
   "source": [
    "mobile = md.load_pdb(os.path.join(sdf_dir, mobile_pdb_fn))"
   ]
  },
  {
   "cell_type": "code",
   "execution_count": null,
   "id": "dc30b2fd",
   "metadata": {},
   "outputs": [],
   "source": [
    "mobile.topology.select(\"resn LIG\")"
   ]
  },
  {
   "cell_type": "code",
   "execution_count": null,
   "id": "f1d697cc",
   "metadata": {},
   "outputs": [],
   "source": [
    "mobile_lig = mobile.atom_slice(mobile.topology.select(\"resn LIG and not symbol H\"))"
   ]
  },
  {
   "cell_type": "code",
   "execution_count": null,
   "id": "026f6387",
   "metadata": {},
   "outputs": [],
   "source": [
    "for atom in mobile_lig.topology.atoms:\n",
    "    print(atom)\n",
    "    "
   ]
  },
  {
   "cell_type": "code",
   "execution_count": null,
   "id": "b6c32650",
   "metadata": {},
   "outputs": [],
   "source": [
    "mobile2 = md.load_pdb(os.path.join(sdf_dir, \n",
    "                                   \"kinoml_OEDockingFeaturizer_MPRO_Mpro-P2005_0A_seqres_chainA_ADA-UCB-6c2cb422-1_complex.pdb\"))"
   ]
  },
  {
   "cell_type": "code",
   "execution_count": null,
   "id": "d488742b",
   "metadata": {},
   "outputs": [],
   "source": [
    "mobile2_lig = mobile2.atom_slice(mobile2.topology.select(\"resn LIG and not symbol H\"))"
   ]
  },
  {
   "cell_type": "code",
   "execution_count": null,
   "id": "8d15366d",
   "metadata": {},
   "outputs": [],
   "source": [
    "for atom in mobile2_lig.topology.atoms:\n",
    "    print(atom)"
   ]
  },
  {
   "cell_type": "code",
   "execution_count": null,
   "id": "cc657650",
   "metadata": {},
   "outputs": [],
   "source": [
    "md.rmsd(mobile2_lig, mobile_lig, precentered=True)"
   ]
  },
  {
   "cell_type": "code",
   "execution_count": null,
   "id": "5b8ca629",
   "metadata": {},
   "outputs": [],
   "source": [
    "md.rmsd(ref_lig, mobile_lig, precentered=True)"
   ]
  },
  {
   "cell_type": "code",
   "execution_count": null,
   "id": "cf5bda9b",
   "metadata": {},
   "outputs": [],
   "source": [
    "help(md.rmsd)"
   ]
  },
  {
   "cell_type": "code",
   "execution_count": null,
   "id": "80c816fc",
   "metadata": {},
   "outputs": [],
   "source": [
    "mobile_paths = [path for path in os.listdir(\"/Users/alexpayne/Scientific_Projects/sdfs/\") if path[-3:] == \"pdb\"]"
   ]
  },
  {
   "cell_type": "code",
   "execution_count": null,
   "id": "83ed39d7",
   "metadata": {},
   "outputs": [],
   "source": [
    "mobile_paths"
   ]
  },
  {
   "cell_type": "code",
   "execution_count": null,
   "id": "5e467155",
   "metadata": {},
   "outputs": [],
   "source": [
    "fake_ref_lig = mobile2_lig\n",
    "for path in mobile_paths:\n",
    "    print(path)\n",
    "    mobile = md.load_pdb(os.path.join(sdf_dir, path))\n",
    "    mobile_lig = mobile.atom_slice(mobile.topology.select(\"resn LIG and not symbol H\"))\n",
    "    rmsd = md.rmsd(fake_ref_lig, mobile_lig)[0] * 10\n",
    "    print(md.rmsd(fake_ref_lig, mobile_lig, precentered=True)[0])\n",
    "    print(f\"{rmsd:.2f}\")"
   ]
  },
  {
   "cell_type": "code",
   "execution_count": null,
   "id": "974814cb",
   "metadata": {},
   "outputs": [],
   "source": [
    "import numpy as np"
   ]
  },
  {
   "cell_type": "code",
   "execution_count": null,
   "id": "e64785ba",
   "metadata": {},
   "outputs": [],
   "source": [
    "np.linalg.norm(ref_lig.xyz[0], ref_lig.xyz[0])"
   ]
  },
  {
   "cell_type": "code",
   "execution_count": null,
   "id": "19768ea7",
   "metadata": {},
   "outputs": [],
   "source": [
    "def cal_rmsd_numpy(coord_1, coord_2):\n",
    "    rmsd = np.sqrt((((coord_1 - coord_2)** 2)*3).mean())\n",
    "    return rmsd"
   ]
  },
  {
   "cell_type": "code",
   "execution_count": null,
   "id": "74c05ec3",
   "metadata": {},
   "outputs": [],
   "source": [
    "cal_rmsd_numpy(ref_lig.xyz[0], mobile_lig.xyz[0])"
   ]
  },
  {
   "cell_type": "code",
   "execution_count": null,
   "id": "6f0a39dc",
   "metadata": {},
   "outputs": [],
   "source": [
    "path"
   ]
  },
  {
   "cell_type": "code",
   "execution_count": null,
   "id": "4939d01d",
   "metadata": {},
   "outputs": [],
   "source": [
    "xyz1 = ref_lig.xyz[0]*10\n",
    "xyz2 = mobile_lig.xyz[0]*10"
   ]
  },
  {
   "cell_type": "code",
   "execution_count": null,
   "id": "3ad0f86e",
   "metadata": {},
   "outputs": [],
   "source": [
    "xyz1"
   ]
  },
  {
   "cell_type": "code",
   "execution_count": null,
   "id": "2b21a184",
   "metadata": {},
   "outputs": [],
   "source": [
    "xyz2"
   ]
  },
  {
   "cell_type": "code",
   "execution_count": null,
   "id": "4ed31d40",
   "metadata": {},
   "outputs": [],
   "source": [
    "xyz1-xyz2"
   ]
  },
  {
   "cell_type": "code",
   "execution_count": null,
   "id": "17c04f98",
   "metadata": {},
   "outputs": [],
   "source": [
    "((xyz1-xyz2)**2).mean()"
   ]
  },
  {
   "cell_type": "code",
   "execution_count": null,
   "id": "43fb6f1f",
   "metadata": {},
   "outputs": [],
   "source": [
    "np.sqrt((((xyz1-xyz2)**2)*3).mean())"
   ]
  },
  {
   "cell_type": "markdown",
   "id": "dcc1de16",
   "metadata": {},
   "source": [
    "# OpenEYE"
   ]
  },
  {
   "cell_type": "code",
   "execution_count": null,
   "id": "d3b5e60b",
   "metadata": {},
   "outputs": [],
   "source": [
    "from asapdiscovery.data.openeye import load_openeye_sdf\n",
    "# print(f\"Loading rmsd calc on {sdf_path} compared to {ref_path}\")\n",
    "mobile_sdf = \"/Users/alexpayne/Scientific_Projects/sdfs/kinoml_OEDockingFeaturizer_MPRO_Mpro-P0098_0A_seqres_chainA_ADA-UCB-6c2cb422-1_ligand_3.sdf\"\n",
    "mobile = load_openeye_sdf(mobile_sdf)\n",
    "ref = load_openeye_sdf(\"/Users/alexpayne/Scientific_Projects/sdfs/Mpro-P2005_0A/Mpro-P2005_0A.sdf\")"
   ]
  },
  {
   "cell_type": "code",
   "execution_count": null,
   "id": "bd886995",
   "metadata": {},
   "outputs": [],
   "source": [
    "oechem.OECanonicalOrderAtoms(mobile)\n",
    "oechem.OECanonicalOrderBonds(mobile)"
   ]
  },
  {
   "cell_type": "code",
   "execution_count": null,
   "id": "edc7d493",
   "metadata": {},
   "outputs": [],
   "source": [
    "oechem.OECanonicalOrderAtoms(ref)\n",
    "oechem.OECanonicalOrderBonds(ref)"
   ]
  },
  {
   "cell_type": "code",
   "execution_count": null,
   "id": "c937427e",
   "metadata": {},
   "outputs": [],
   "source": [
    "oechem.OERMSD(ref, mobile)"
   ]
  },
  {
   "cell_type": "code",
   "execution_count": null,
   "id": "c521d909",
   "metadata": {},
   "outputs": [],
   "source": [
    "for atom in mobile.GetAtoms():\n",
    "    print(atom)"
   ]
  },
  {
   "cell_type": "code",
   "execution_count": null,
   "id": "dc2c90a3",
   "metadata": {},
   "outputs": [],
   "source": [
    "for atom in ref.GetAtoms():\n",
    "    print(atom)"
   ]
  },
  {
   "cell_type": "code",
   "execution_count": null,
   "id": "e58fab00",
   "metadata": {},
   "outputs": [],
   "source": [
    "import numpy as np"
   ]
  },
  {
   "cell_type": "code",
   "execution_count": null,
   "id": "931f9033",
   "metadata": {},
   "outputs": [],
   "source": [
    "ref_xyz = np.array(list(ref.GetCoords().values()))"
   ]
  },
  {
   "cell_type": "code",
   "execution_count": null,
   "id": "20537fb1",
   "metadata": {},
   "outputs": [],
   "source": [
    "ref_xyz"
   ]
  },
  {
   "cell_type": "code",
   "execution_count": null,
   "id": "83de5f67",
   "metadata": {},
   "outputs": [],
   "source": [
    "n_atoms = len(ref_xyz)"
   ]
  },
  {
   "cell_type": "code",
   "execution_count": null,
   "id": "31ea3e5e",
   "metadata": {},
   "outputs": [],
   "source": [
    "mobile_xyz = np.array(list(mobile.GetCoords().values()))"
   ]
  },
  {
   "cell_type": "code",
   "execution_count": null,
   "id": "3b883a3a",
   "metadata": {},
   "outputs": [],
   "source": [
    "mobile_xyz[-n_atoms:]"
   ]
  },
  {
   "cell_type": "code",
   "execution_count": null,
   "id": "1095c21d",
   "metadata": {},
   "outputs": [],
   "source": [
    "mobile_xyz"
   ]
  },
  {
   "cell_type": "code",
   "execution_count": null,
   "id": "d720ee08",
   "metadata": {},
   "outputs": [],
   "source": [
    "cal_rmsd_numpy(ref_xyz, mobile_xyz[-n_atoms:])"
   ]
  },
  {
   "cell_type": "markdown",
   "id": "aa655515",
   "metadata": {},
   "source": [
    "## automate"
   ]
  },
  {
   "cell_type": "code",
   "execution_count": null,
   "id": "445bc65d",
   "metadata": {},
   "outputs": [],
   "source": [
    "ref_xyz"
   ]
  },
  {
   "cell_type": "code",
   "execution_count": null,
   "id": "51c9910b",
   "metadata": {},
   "outputs": [],
   "source": [
    "sdf_paths = [path for path in os.listdir(\"/Users/alexpayne/Scientific_Projects/sdfs/\") if path[-3:] == \"sdf\"]"
   ]
  },
  {
   "cell_type": "code",
   "execution_count": null,
   "id": "62ee81b5",
   "metadata": {},
   "outputs": [],
   "source": [
    "sdf_paths"
   ]
  },
  {
   "cell_type": "code",
   "execution_count": null,
   "id": "37ad2854",
   "metadata": {},
   "outputs": [],
   "source": [
    "for path in sdf_paths:\n",
    "    mobile = load_openeye_sdf(os.path.join(\"/Users/alexpayne/Scientific_Projects/sdfs\", path))\n",
    "    oechem.OECanonicalOrderAtoms(mobile)\n",
    "    oechem.OECanonicalOrderBonds(mobile)\n",
    "    mobile_xyz = np.array(list(mobile.GetCoords().values()))\n",
    "#     print(mobile_xyz)\n",
    "#     print(ref_xyz)\n",
    "    print(path)\n",
    "    print(cal_rmsd_numpy(ref_xyz, mobile_xyz[-n_atoms:]))"
   ]
  },
  {
   "cell_type": "code",
   "execution_count": null,
   "id": "8d79bda9",
   "metadata": {},
   "outputs": [],
   "source": [
    "from asapdiscovery.data import openeye as oet\n",
    "from importlib import reload"
   ]
  },
  {
   "cell_type": "code",
   "execution_count": null,
   "id": "4e06cf53",
   "metadata": {},
   "outputs": [],
   "source": [
    "reload(oet)"
   ]
  },
  {
   "cell_type": "code",
   "execution_count": null,
   "id": "e31ad884",
   "metadata": {},
   "outputs": [],
   "source": [
    "ref = oet.load_openeye_sdf(\"/Users/alexpayne/Scientific_Projects/sdfs/Mpro-P2005_0A/Mpro-P2005_0A.sdf\")\n",
    "mobile = oet.load_openeye_sdf(os.path.join(\"/Users/alexpayne/Scientific_Projects/sdfs\", path))"
   ]
  },
  {
   "cell_type": "code",
   "execution_count": null,
   "id": "49312b02",
   "metadata": {},
   "outputs": [],
   "source": [
    "oet.get_ligand_rmsd_openeye(ref, mobile)"
   ]
  },
  {
   "cell_type": "code",
   "execution_count": null,
   "id": "b89c4af3",
   "metadata": {},
   "outputs": [],
   "source": []
  }
 ],
 "metadata": {
  "kernelspec": {
   "display_name": "Python 3 (ipykernel)",
   "language": "python",
   "name": "python3"
  },
  "language_info": {
   "codemirror_mode": {
    "name": "ipython",
    "version": 3
   },
   "file_extension": ".py",
   "mimetype": "text/x-python",
   "name": "python",
   "nbconvert_exporter": "python",
   "pygments_lexer": "ipython3",
   "version": "3.8.13"
  },
  "toc": {
   "base_numbering": 1,
   "nav_menu": {},
   "number_sections": true,
   "sideBar": true,
   "skip_h1_title": false,
   "title_cell": "Table of Contents",
   "title_sidebar": "Contents",
   "toc_cell": false,
   "toc_position": {},
   "toc_section_display": true,
   "toc_window_display": true
  }
 },
 "nbformat": 4,
 "nbformat_minor": 5
}