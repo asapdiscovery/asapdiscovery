{
 "cells": [
  {
   "cell_type": "code",
   "execution_count": null,
   "id": "0602ec43-6249-4af0-b794-283a5f87961d",
   "metadata": {},
   "outputs": [],
   "source": [
    "import os\n",
    "\n",
    "from openeye import oechem, oespruce"
   ]
  },
  {
   "cell_type": "code",
   "execution_count": null,
   "id": "34cd2227-145e-406d-b470-d56ddab0865c",
   "metadata": {},
   "outputs": [],
   "source": [
    "pdb_fn = \"input_pdbs/pdb8dgy.ent\"\n",
    "ref_fn = \"input_pdbs/reference.pdb\"\n",
    "loop_db = \"rcsb_spruce.loop_db\"\n",
    "\n",
    "out_dir = \"design_units/\""
   ]
  },
  {
   "cell_type": "code",
   "execution_count": null,
   "id": "462e2dea-97da-43c7-979a-0807ba284e3f",
   "metadata": {},
   "outputs": [],
   "source": [
    "## Load molecule to extract\n",
    "ifs = oechem.oemolistream()\n",
    "ifs.SetFlavor(\n",
    "    oechem.OEFormat_PDB,\n",
    "    oechem.OEIFlavor_PDB_Default | oechem.OEIFlavor_PDB_DATA,\n",
    ")\n",
    "ifs.open(pdb_fn)\n",
    "in_mol = oechem.OEGraphMol()\n",
    "oechem.OEReadMolecule(ifs, in_mol)\n",
    "ifs.close()\n",
    "\n",
    "## Load reference molecule\n",
    "ifs.open(ref_fn)\n",
    "ref_mol = oechem.OEGraphMol()\n",
    "oechem.OEReadMolecule(ifs, ref_mol)\n",
    "ifs.close()"
   ]
  },
  {
   "cell_type": "code",
   "execution_count": null,
   "id": "0bab0217-c611-47d6-82ae-ced91de55367",
   "metadata": {},
   "outputs": [],
   "source": [
    "## First convert ref from mol into design unit\n",
    "# opts = oespruce.OEMakeDesignUnitOptions()\n",
    "# ref_du = oespruce.OEMakeDesignUnits(\n",
    "#     ref_mol, oespruce.OEStructureMetadata(), opts\n",
    "# )\n",
    "# ref_du = next(iter(ref_du))\n",
    "\n",
    "# ref_du = oechem.OEDesignUnit()\n",
    "# oespruce.OEMakeDesignUnit(ref_du, ref_mol, oechem.OEGraphMol())"
   ]
  },
  {
   "cell_type": "code",
   "execution_count": null,
   "id": "c4098950-618c-411e-8c6f-cecf17bc7b4a",
   "metadata": {},
   "outputs": [],
   "source": [
    "## Make BioUnitExtractionOptions object and set superpose\n",
    "##  (aligning to reference)\n",
    "bio_opts = oespruce.OEBioUnitExtractionOptions()\n",
    "bio_opts.SetSuperpose(True)\n",
    "\n",
    "biounits = oespruce.OEExtractBioUnits(in_mol, ref_mol, bio_opts)\n",
    "aligned_prot = list(biounits)[0]"
   ]
  },
  {
   "cell_type": "code",
   "execution_count": null,
   "id": "f0a6dc3e-3c1a-4189-b3fd-14064e8f0a7b",
   "metadata": {},
   "outputs": [],
   "source": [
    "## Make DesignUnitOptions\n",
    "opts = oespruce.OEMakeDesignUnitOptions()\n",
    "# opts.SetBioUnitExtractionOptions(bio_opts)\n",
    "opts.GetPrepOptions().GetBuildOptions().GetLoopBuilderOptions().SetBuildTails(\n",
    "    False\n",
    ")\n",
    "opts.GetPrepOptions().GetBuildOptions().GetLoopBuilderOptions().SetLoopDBFilename(\n",
    "    loop_db\n",
    ")\n",
    "opts.GetPrepOptions().GetEnumerateSitesOptions().SetRestrictToRefSite(True)\n",
    "\n",
    "## Make Metadata object\n",
    "metadata = oespruce.OEStructureMetadata()"
   ]
  },
  {
   "cell_type": "code",
   "execution_count": null,
   "id": "b9df57f3-d724-4fa9-a88e-e5bdf66f30d4",
   "metadata": {},
   "outputs": [],
   "source": [
    "design_units = oespruce.OEMakeDesignUnits(aligned_prot, metadata, opts)\n",
    "design_units = list(design_units)"
   ]
  },
  {
   "cell_type": "code",
   "execution_count": null,
   "id": "2bccd1fb-daaf-4c1f-8c46-9aaece37593d",
   "metadata": {},
   "outputs": [],
   "source": [
    "out_base = (\n",
    "    f\"{out_dir}/{os.path.splitext(os.path.basename(pdb_fn))[0]}_{{}}.oedu\"\n",
    ")\n",
    "\n",
    "design_units = list(design_units)\n",
    "# for i, du in enumerate(design_units):\n",
    "#     print(i)\n",
    "#     oechem.OEWriteDesignUnit(out_base.format(i), du)"
   ]
  },
  {
   "cell_type": "code",
   "execution_count": null,
   "id": "42fec56a-d026-47d3-9af7-932034584c2c",
   "metadata": {},
   "outputs": [],
   "source": [
    "print(design_units)\n",
    "lig_mol = oechem.OEGraphMol()\n",
    "prot_mol = oechem.OEGraphMol()\n",
    "design_units[0].GetLigand(lig_mol)\n",
    "design_units[0].GetProtein(prot_mol)\n",
    "print(design_units[0].GetSiteResidues())\n",
    "du_site_res = sorted(\n",
    "    [int(r.split(\":\")[1]) for r in design_units[0].GetSiteResidues()]\n",
    ")"
   ]
  },
  {
   "cell_type": "code",
   "execution_count": null,
   "id": "4bc86089-1bfa-4d35-a274-b7ac3838a6e5",
   "metadata": {
    "scrolled": true,
    "tags": []
   },
   "outputs": [],
   "source": [
    "for a in lig_mol.GetAtoms():\n",
    "    print(oechem.OEGetResiduea)"
   ]
  },
  {
   "cell_type": "code",
   "execution_count": null,
   "id": "bef94bb2-7bf3-46d5-8f55-4090377c7e44",
   "metadata": {},
   "outputs": [],
   "source": [
    "out_base = f\"{out_dir}/{os.path.splitext(os.path.basename(pdb_fn))[0]}_du_protein_{{}}.pdb\"\n",
    "ofs = oechem.oemolostream()\n",
    "ofs.SetFlavor(\n",
    "    oechem.OEFormat_PDB,\n",
    "    oechem.OEOFlavor_PDB_Default,\n",
    ")\n",
    "prot_mol = oechem.OEGraphMol()\n",
    "for i, du in enumerate(design_units):\n",
    "    print(out_base.format(i))\n",
    "\n",
    "    prot_mol.Clear()\n",
    "    du.GetProtein(prot_mol)\n",
    "\n",
    "    ofs.open(out_base.format(i))\n",
    "    oechem.OEWriteMolecule(ofs, prot_mol)\n",
    "    ofs.close()"
   ]
  },
  {
   "cell_type": "code",
   "execution_count": null,
   "id": "62cad6e9-bd5e-457f-afcd-8a13ba16a16e",
   "metadata": {},
   "outputs": [],
   "source": [
    "import re\n",
    "\n",
    "import yaml\n",
    "\n",
    "active_site_fn = \"mers_active_site.yaml\"\n",
    "active_site_dict = yaml.load(open(active_site_fn), Loader=yaml.CLoader)\n",
    "\n",
    "## First parse all resids from the atom selection texts\n",
    "pat_match = r\"^resi ((?:[0-9]+\\+)*[0-9]+)$\"\n",
    "matches = [re.match(pat_match, sel) for sel in active_site_dict.values()]\n",
    "matches = [m.groups()[0] for m in matches if m is not None]\n",
    "all_active_res = {int(resid) for m in matches for resid in m.split(\"+\")}\n",
    "print(sorted(all_active_res))\n",
    "\n",
    "## Format in the site residue format for OE\n",
    "res_sites = []\n",
    "hv = oechem.OEHierView(aligned_prot)\n",
    "for chain in hv.GetChains():\n",
    "    chain_id = chain.GetChainID()\n",
    "    for frag in chain.GetFragments():\n",
    "        for hres in frag.GetResidues():\n",
    "            if hres.GetResidueNumber() not in all_active_res:\n",
    "                continue\n",
    "            site_spec = f\"{hres.GetResidueName()}:{hres.GetResidueNumber()}: :{chain_id}\"\n",
    "            res_sites.append(site_spec)\n",
    "\n",
    "print(res_sites)"
   ]
  },
  {
   "cell_type": "code",
   "execution_count": null,
   "id": "3b2a9caf-f676-459c-8372-84e77b85e566",
   "metadata": {},
   "outputs": [],
   "source": [
    "du = oechem.OEDesignUnit(aligned_prot, res_sites)\n",
    "prot_mol = oechem.OEGraphMol()\n",
    "lig_mol = oechem.OEGraphMol()\n",
    "print(du.GetProtein(prot_mol))\n",
    "print(du.GetLigand(lig_mol))\n",
    "\n",
    "print(prot_mol)\n",
    "lig_res = []\n",
    "for r in oechem.OEGetResidues(prot_mol):\n",
    "    if r.GetName() == \"S9U\":\n",
    "        lig_res.append(r)\n",
    "print(lig_res)\n",
    "# oespruce.OEMakeDesignUnit(du, aligned_prot, oechem.OEGraphMol())\n",
    "\n",
    "# oespruce.OEMakeDesignUnits(aligned_prot, )\n",
    "# dir(aligned_prot)"
   ]
  },
  {
   "cell_type": "markdown",
   "id": "035e6efb-aaad-42b9-9e97-301d1f167fed",
   "metadata": {},
   "source": [
    "# For already generated DesignUnits"
   ]
  },
  {
   "cell_type": "code",
   "execution_count": null,
   "id": "9a2f3596-7ff4-4880-9170-daca82ccee8b",
   "metadata": {},
   "outputs": [],
   "source": [
    "du_dir = \"design_units/\"\n",
    "frag_dir = \"fragalysis/\""
   ]
  },
  {
   "cell_type": "code",
   "execution_count": null,
   "id": "fd9ffc8d-609c-416b-8a70-ac56df231485",
   "metadata": {},
   "outputs": [],
   "source": [
    "du = oechem.OEDesignUnit()\n",
    "oechem.OEReadDesignUnit(f\"{du_dir}/pdb8dgy_0.oedu\", du)"
   ]
  },
  {
   "cell_type": "code",
   "execution_count": null,
   "id": "6357e481-2a0f-4fc2-a6be-09d62c1280cc",
   "metadata": {},
   "outputs": [],
   "source": [
    "lig_mol = oechem.OEGraphMol()\n",
    "prot_mol = oechem.OEGraphMol()\n",
    "print(du.GetLigand(lig_mol))\n",
    "print(du.GetProtein(prot_mol))\n",
    "\n",
    "print(lig_mol.GetCoords())"
   ]
  },
  {
   "cell_type": "code",
   "execution_count": null,
   "id": "f860035c-9d10-474c-a5c0-ecfa96b45f1e",
   "metadata": {},
   "outputs": [],
   "source": [
    "## Load a random molecule from SDF file\n",
    "sdf_fn = f\"{frag_dir}/aligned/Mpro-P2007_0A/Mpro-P2007_0A.sdf\"\n",
    "ifs = oechem.oemolistream()\n",
    "ifs.SetFlavor(\n",
    "    oechem.OEFormat_SDF,\n",
    "    oechem.OEIFlavor_SDF_Default,\n",
    ")\n",
    "ifs.open(sdf_fn)\n",
    "new_lig = oechem.OEGraphMol()\n",
    "oechem.OEReadMolecule(ifs, new_lig)\n",
    "ifs.close()\n",
    "\n",
    "print(new_lig.GetCoords())"
   ]
  },
  {
   "cell_type": "code",
   "execution_count": null,
   "id": "81ec3aaa-7b06-4536-96bb-24ae2446e046",
   "metadata": {},
   "outputs": [],
   "source": [
    "print(oespruce.OEMakeDesignUnit(du, prot_mol, new_lig))\n",
    "print(du.HasLigand(), du.HasProtein())"
   ]
  },
  {
   "cell_type": "code",
   "execution_count": null,
   "id": "7e39d058-cf36-4c82-b8e8-b947126afa07",
   "metadata": {},
   "outputs": [],
   "source": [
    "## Try and save full design unit as PDB?\n",
    "out_fn = \"test/pdb8dgy_0_P2007_0A_lig.pdb\"\n",
    "ofs = oechem.oemolostream()\n",
    "ofs.SetFlavor(\n",
    "    oechem.OEFormat_PDB,\n",
    "    oechem.OEOFlavor_PDB_Default,\n",
    ")\n",
    "ofs.open(out_fn)\n",
    "oechem.OEWriteDesignUnit(ofs, du)\n",
    "ofs.close()"
   ]
  },
  {
   "cell_type": "code",
   "execution_count": null,
   "id": "5d6cce10-e694-4260-8cf6-b6b1f4b49c88",
   "metadata": {},
   "outputs": [],
   "source": [
    "## Doesn't work... maybe we can combine the prot and lig molecules?\n",
    "prot_mol.Clear()\n",
    "lig_mol.Clear()\n",
    "print(du)\n",
    "print(du.GetProtein(prot_mol))\n",
    "print(du.GetLigand(lig_mol))"
   ]
  }
 ],
 "metadata": {
  "kernelspec": {
   "display_name": "Python 3 (ipykernel)",
   "language": "python",
   "name": "python3"
  },
  "language_info": {
   "codemirror_mode": {
    "name": "ipython",
    "version": 3
   },
   "file_extension": ".py",
   "mimetype": "text/x-python",
   "name": "python",
   "nbconvert_exporter": "python",
   "pygments_lexer": "ipython3",
   "version": "3.8.13"
  },
  "toc": {
   "base_numbering": 1,
   "nav_menu": {},
   "number_sections": true,
   "sideBar": true,
   "skip_h1_title": false,
   "title_cell": "Table of Contents",
   "title_sidebar": "Contents",
   "toc_cell": false,
   "toc_position": {},
   "toc_section_display": true,
   "toc_window_display": false
  }
 },
 "nbformat": 4,
 "nbformat_minor": 5
}
