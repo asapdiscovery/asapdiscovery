{
 "cells": [
  {
   "cell_type": "code",
   "execution_count": 1,
   "id": "0602ec43-6249-4af0-b794-283a5f87961d",
   "metadata": {},
   "outputs": [],
   "source": [
    "import os\n",
    "\n",
    "from openeye import oechem, oespruce"
   ]
  },
  {
   "cell_type": "code",
   "execution_count": 2,
   "id": "34cd2227-145e-406d-b470-d56ddab0865c",
   "metadata": {},
   "outputs": [],
   "source": [
    "pdb_fn = \"input_pdbs/pdb8dgy.ent\"\n",
    "ref_fn = \"input_pdbs/reference.pdb\"\n",
    "loop_db = \"rcsb_spruce.loop_db\"\n",
    "\n",
    "out_dir = \"design_units/\""
   ]
  },
  {
   "cell_type": "code",
   "execution_count": 3,
   "id": "462e2dea-97da-43c7-979a-0807ba284e3f",
   "metadata": {},
   "outputs": [],
   "source": [
    "## Load molecule to extract\n",
    "ifs = oechem.oemolistream()\n",
    "ifs.SetFlavor(\n",
    "    oechem.OEFormat_PDB,\n",
    "    oechem.OEIFlavor_PDB_Default | oechem.OEIFlavor_PDB_DATA,\n",
    ")\n",
    "ifs.open(pdb_fn)\n",
    "in_mol = oechem.OEGraphMol()\n",
    "oechem.OEReadMolecule(ifs, in_mol)\n",
    "ifs.close()\n",
    "\n",
    "## Load reference molecule\n",
    "ifs.open(ref_fn)\n",
    "ref_mol = oechem.OEGraphMol()\n",
    "oechem.OEReadMolecule(ifs, ref_mol)\n",
    "ifs.close()"
   ]
  },
  {
   "cell_type": "code",
   "execution_count": null,
   "id": "0bab0217-c611-47d6-82ae-ced91de55367",
   "metadata": {},
   "outputs": [],
   "source": [
    "## First convert ref from mol into design unit\n",
    "# opts = oespruce.OEMakeDesignUnitOptions()\n",
    "# ref_du = oespruce.OEMakeDesignUnits(\n",
    "#     ref_mol, oespruce.OEStructureMetadata(), opts\n",
    "# )\n",
    "# ref_du = next(iter(ref_du))\n",
    "\n",
    "# ref_du = oechem.OEDesignUnit()\n",
    "# oespruce.OEMakeDesignUnit(ref_du, ref_mol, oechem.OEGraphMol())"
   ]
  },
  {
   "cell_type": "code",
   "execution_count": 4,
   "id": "c4098950-618c-411e-8c6f-cecf17bc7b4a",
   "metadata": {},
   "outputs": [
    {
     "name": "stderr",
     "output_type": "stream",
     "text": [
      "  1 bio mols found\n"
     ]
    }
   ],
   "source": [
    "## Make BioUnitExtractionOptions object and set superpose\n",
    "##  (aligning to reference)\n",
    "bio_opts = oespruce.OEBioUnitExtractionOptions()\n",
    "bio_opts.SetSuperpose(True)\n",
    "\n",
    "biounits = oespruce.OEExtractBioUnits(in_mol, ref_mol, bio_opts)\n",
    "aligned_prot = list(biounits)[0]"
   ]
  },
  {
   "cell_type": "code",
   "execution_count": 5,
   "id": "f0a6dc3e-3c1a-4189-b3fd-14064e8f0a7b",
   "metadata": {},
   "outputs": [],
   "source": [
    "## Make DesignUnitOptions\n",
    "opts = oespruce.OEMakeDesignUnitOptions()\n",
    "# opts.SetBioUnitExtractionOptions(bio_opts)\n",
    "opts.GetPrepOptions().GetBuildOptions().GetLoopBuilderOptions().SetBuildTails(\n",
    "    False\n",
    ")\n",
    "opts.GetPrepOptions().GetBuildOptions().GetLoopBuilderOptions().SetLoopDBFilename(\n",
    "    loop_db\n",
    ")\n",
    "opts.GetPrepOptions().GetEnumerateSitesOptions().SetRestrictToRefSite(True)\n",
    "\n",
    "## Make Metadata object\n",
    "metadata = oespruce.OEStructureMetadata()"
   ]
  },
  {
   "cell_type": "code",
   "execution_count": 6,
   "id": "b9df57f3-d724-4fa9-a88e-e5bdf66f30d4",
   "metadata": {},
   "outputs": [
    {
     "name": "stderr",
     "output_type": "stream",
     "text": [
      "DPI: 0.09, RFree: 0.20, Resolution: 1.65\n",
      "Processing BU # 1 with title: 3C-LIKE PROTEINASE, chains AB\n",
      "Warning: For residue GLN 48   A 1   removing clashing solvent molecule HOH 660   A 2  \n",
      "Warning: For residue GLU 235   A 1   removing clashing solvent molecule HOH 645 A A 2  \n",
      "Warning: For residue GLU 235   A 1   removing clashing solvent molecule HOH 535 A A 2  \n",
      "Warning: For residue GLN 48   B 1   removing clashing solvent molecule HOH 660   B 2  \n",
      "Warning: For residue GLU 235   B 1   removing clashing solvent molecule HOH 535 A B 2  \n",
      "Warning: For residue GLU 235   B 1   removing clashing solvent molecule HOH 645 A B 2  \n",
      "Found unresolved N-terminal with 5 residues before HIS -1   A 1  , with sequence MHHHH\n",
      "Found 4 residue gap between HIS 71   A 1   and ALA 76   A 1  , with sequence IGAP\n",
      "Found unresolved C-terminal with 2 residues after VAL 304   A 1  , with sequence MQ\n",
      "Attempting to build loop: IGAP between HIS 71   A 1   and ALA 76   A 1  \n",
      "Opened database rcsb_spruce.loop_db\n",
      "LoopDatabase Info: \n",
      "    161412 loops from RCSB last synced on 04-10-2020, were added to LoopTemplateDatabase on 04-22-2020 using Spruce Toolkit 1.1.0.a.1\n",
      "    The loop database was built with a max loop length of 22, a terminus crop length of 2. Regular secondary structures were excluded\n",
      "Superposition - RMSD: 0.05, Ref: AB, Fit: BA, SeqScore: 3010\n"
     ]
    }
   ],
   "source": [
    "design_units = oespruce.OEMakeDesignUnits(aligned_prot, metadata, opts)\n",
    "design_units = list(design_units)"
   ]
  },
  {
   "cell_type": "code",
   "execution_count": 8,
   "id": "2bccd1fb-daaf-4c1f-8c46-9aaece37593d",
   "metadata": {},
   "outputs": [],
   "source": [
    "out_base = (\n",
    "    f\"{out_dir}/{os.path.splitext(os.path.basename(pdb_fn))[0]}_{{}}.oedu\"\n",
    ")\n",
    "\n",
    "design_units = list(design_units)\n",
    "# for i, du in enumerate(design_units):\n",
    "#     print(i)\n",
    "#     oechem.OEWriteDesignUnit(out_base.format(i), du)"
   ]
  },
  {
   "cell_type": "code",
   "execution_count": 34,
   "id": "42fec56a-d026-47d3-9af7-932034584c2c",
   "metadata": {},
   "outputs": [
    {
     "name": "stdout",
     "output_type": "stream",
     "text": [
      "[<oechem.OEDesignUnit; proxy of <Swig Object of type 'std::vector< OEBio::OEDesignUnit * >::value_type' at 0x7f5e6633bb40> >, <oechem.OEDesignUnit; proxy of <Swig Object of type 'std::vector< OEBio::OEDesignUnit * >::value_type' at 0x7f5e6633b5d0> >]\n",
      "('MET:25: :B:1: ', 'LEU:27: :B:1: ', 'PRO:39: :B:1: ', 'HIS:41: :B:1: ', 'LEU:49: :B:1: ', 'PRO:52: :B:1: ', 'TYR:54: :B:1: ', 'PHE:143: :B:1: ', 'LEU:144: :B:1: ', 'CYS:145: :B:1: ', 'GLY:146: :B:1: ', 'SER:147: :B:1: ', 'CYS:148: :B:1: ', 'GLY:149: :B:1: ', 'HIS:166: :B:1: ', 'GLN:167: :B:1: ', 'MET:168: :B:1: ', 'GLU:169: :B:1: ', 'LEU:170: :B:1: ', 'ALA:171: :B:1: ', 'HIS:175: :B:1: ', 'MET:189: :B:1: ', 'ASP:190: :B:1: ', 'LYS:191: :B:1: ', 'GLN:192: :B:1: ', 'VAL:193: :B:1: ', 'HIS:194: :B:1: ', 'GLN:195: :B:1: ', 'THR:26: :B:1: ', 'ASN:28: :B:1: ', 'ARG:40: :B:1: ', 'ALA:46: :B:1: ', 'TYR:121: :B:1: ', 'GLY:141: :B:1: ', 'SER:150: :B:1: ', 'TYR:164: :B:1: ', 'GLY:173: :B:1: ', 'THR:174: :B:1: ', 'THR:176: :B:1: ')\n"
     ]
    }
   ],
   "source": [
    "print(design_units)\n",
    "lig_mol = oechem.OEGraphMol()\n",
    "prot_mol = oechem.OEGraphMol()\n",
    "design_units[0].GetLigand(lig_mol)\n",
    "design_units[0].GetProtein(prot_mol)\n",
    "print(design_units[0].GetSiteResidues())\n",
    "du_site_res = sorted(\n",
    "    [int(r.split(\":\")[1]) for r in design_units[0].GetSiteResidues()]\n",
    ")"
   ]
  },
  {
   "cell_type": "code",
   "execution_count": 36,
   "id": "4bc86089-1bfa-4d35-a274-b7ac3838a6e5",
   "metadata": {
    "scrolled": true,
    "tags": []
   },
   "outputs": [
    {
     "name": "stdout",
     "output_type": "stream",
     "text": [
      " 0 O\n",
      " 1 C\n",
      " 2 N\n",
      " 3 C\n",
      " 4 C\n",
      " 5 C\n",
      " 6 C\n",
      " 7 C\n",
      " 8 C\n",
      " 9 N\n",
      "10 C\n",
      "11 C\n",
      "12 C\n",
      "13 C\n",
      "14 N\n",
      "15 C\n",
      "16 C\n",
      "17 O\n",
      "18 C\n",
      "19 O\n",
      "20 O\n",
      "21 O\n",
      "22 C\n",
      "23 C\n",
      "24 C\n",
      "25 C\n",
      "26 C\n",
      "27 C\n",
      "28 C\n",
      "29 C\n",
      "30 C\n",
      "31 C\n",
      "32 C\n",
      "33 H\n",
      "34 H\n",
      "35 H\n",
      "36 H\n",
      "37 H\n",
      "38 H\n",
      "39 H\n",
      "40 H\n",
      "41 H\n",
      "42 H\n",
      "43 H\n",
      "44 H\n",
      "45 H\n",
      "46 H\n",
      "47 H\n",
      "48 H\n",
      "49 H\n",
      "50 H\n",
      "51 H\n",
      "52 H\n",
      "53 H\n",
      "54 H\n",
      "55 H\n",
      "56 H\n",
      "57 H\n",
      "58 H\n",
      "59 H\n",
      "60 H\n",
      "61 H\n",
      "62 H\n",
      "63 H\n",
      "64 H\n",
      "65 H\n",
      "66 H\n",
      "67 H\n",
      "68 H\n",
      "69 H\n",
      "70 H\n",
      "71 H\n",
      "72 H\n",
      "73  \n"
     ]
    }
   ],
   "source": [
    "for a in lig_mol.GetAtoms():\n",
    "    print(oechem.OEGetResiduea)"
   ]
  },
  {
   "cell_type": "code",
   "execution_count": null,
   "id": "bef94bb2-7bf3-46d5-8f55-4090377c7e44",
   "metadata": {},
   "outputs": [],
   "source": [
    "out_base = f\"{out_dir}/{os.path.splitext(os.path.basename(pdb_fn))[0]}_du_protein_{{}}.pdb\"\n",
    "ofs = oechem.oemolostream()\n",
    "ofs.SetFlavor(\n",
    "    oechem.OEFormat_PDB,\n",
    "    oechem.OEOFlavor_PDB_Default,\n",
    ")\n",
    "prot_mol = oechem.OEGraphMol()\n",
    "for i, du in enumerate(design_units):\n",
    "    print(out_base.format(i))\n",
    "\n",
    "    prot_mol.Clear()\n",
    "    du.GetProtein(prot_mol)\n",
    "\n",
    "    ofs.open(out_base.format(i))\n",
    "    oechem.OEWriteMolecule(ofs, prot_mol)\n",
    "    ofs.close()"
   ]
  },
  {
   "cell_type": "code",
   "execution_count": 10,
   "id": "62cad6e9-bd5e-457f-afcd-8a13ba16a16e",
   "metadata": {},
   "outputs": [
    {
     "name": "stdout",
     "output_type": "stream",
     "text": [
      "[25, 26, 27, 41, 49, 54, 143, 144, 145, 146, 147, 148, 166, 167, 168, 169, 170, 171, 172, 175, 184, 189, 191, 192, 193, 194, 195]\n",
      "['MET:25: :A', 'THR:26: :A', 'LEU:27: :A', 'HIS:41: :A', 'LEU:49: :A', 'TYR:54: :A', 'PHE:143: :A', 'LEU:144: :A', 'CYS:145: :A', 'GLY:146: :A', 'SER:147: :A', 'CYS:148: :A', 'HIS:166: :A', 'GLN:167: :A', 'MET:168: :A', 'GLU:169: :A', 'LEU:170: :A', 'ALA:171: :A', 'ASN:172: :A', 'HIS:175: :A', 'MET:184: :A', 'MET:189: :A', 'LYS:191: :A', 'GLN:192: :A', 'VAL:193: :A', 'HIS:194: :A', 'GLN:195: :A']\n"
     ]
    }
   ],
   "source": [
    "import re\n",
    "\n",
    "import yaml\n",
    "\n",
    "active_site_fn = \"mers_active_site.yaml\"\n",
    "active_site_dict = yaml.load(open(active_site_fn), Loader=yaml.CLoader)\n",
    "\n",
    "## First parse all resids from the atom selection texts\n",
    "pat_match = r\"^resi ((?:[0-9]+\\+)*[0-9]+)$\"\n",
    "matches = [re.match(pat_match, sel) for sel in active_site_dict.values()]\n",
    "matches = [m.groups()[0] for m in matches if m is not None]\n",
    "all_active_res = {int(resid) for m in matches for resid in m.split(\"+\")}\n",
    "print(sorted(all_active_res))\n",
    "\n",
    "## Format in the site residue format for OE\n",
    "res_sites = []\n",
    "hv = oechem.OEHierView(aligned_prot)\n",
    "for chain in hv.GetChains():\n",
    "    chain_id = chain.GetChainID()\n",
    "    for frag in chain.GetFragments():\n",
    "        for hres in frag.GetResidues():\n",
    "            if hres.GetResidueNumber() not in all_active_res:\n",
    "                continue\n",
    "            site_spec = f\"{hres.GetResidueName()}:{hres.GetResidueNumber()}: :{chain_id}\"\n",
    "            res_sites.append(site_spec)\n",
    "\n",
    "print(res_sites)"
   ]
  },
  {
   "cell_type": "code",
   "execution_count": 32,
   "id": "3b2a9caf-f676-459c-8372-84e77b85e566",
   "metadata": {},
   "outputs": [
    {
     "name": "stdout",
     "output_type": "stream",
     "text": [
      "True\n",
      "False\n",
      "<oechem.OEGraphMol; proxy of <Swig Object of type 'OEGraphMolWrapper *' at 0x7f5e451ef660> >\n",
      "[<oechem.OEResidue; proxy of <Swig Object of type 'OEChem::OEResidue *' at 0x7f5e5861b7b0> >]\n"
     ]
    }
   ],
   "source": [
    "du = oechem.OEDesignUnit(aligned_prot, res_sites)\n",
    "prot_mol = oechem.OEGraphMol()\n",
    "lig_mol = oechem.OEGraphMol()\n",
    "print(du.GetProtein(prot_mol))\n",
    "print(du.GetLigand(lig_mol))\n",
    "\n",
    "print(prot_mol)\n",
    "lig_res = []\n",
    "for r in oechem.OEGetResidues(prot_mol):\n",
    "    if r.GetName() == \"S9U\":\n",
    "        lig_res.append(r)\n",
    "print(lig_res)\n",
    "# oespruce.OEMakeDesignUnit(du, aligned_prot, oechem.OEGraphMol())\n",
    "\n",
    "# oespruce.OEMakeDesignUnits(aligned_prot, )\n",
    "# dir(aligned_prot)"
   ]
  },
  {
   "cell_type": "markdown",
   "id": "035e6efb-aaad-42b9-9e97-301d1f167fed",
   "metadata": {},
   "source": [
    "# For already generated DesignUnits"
   ]
  },
  {
   "cell_type": "code",
   "execution_count": 9,
   "id": "9a2f3596-7ff4-4880-9170-daca82ccee8b",
   "metadata": {},
   "outputs": [],
   "source": [
    "du_dir = \"design_units/\"\n",
    "frag_dir = \"fragalysis/\""
   ]
  },
  {
   "cell_type": "code",
   "execution_count": 19,
   "id": "fd9ffc8d-609c-416b-8a70-ac56df231485",
   "metadata": {},
   "outputs": [
    {
     "data": {
      "text/plain": [
       "True"
      ]
     },
     "execution_count": 19,
     "metadata": {},
     "output_type": "execute_result"
    }
   ],
   "source": [
    "du = oechem.OEDesignUnit()\n",
    "oechem.OEReadDesignUnit(f\"{du_dir}/pdb8dgy_0.oedu\", du)"
   ]
  },
  {
   "cell_type": "code",
   "execution_count": 20,
   "id": "6357e481-2a0f-4fc2-a6be-09d62c1280cc",
   "metadata": {},
   "outputs": [
    {
     "name": "stdout",
     "output_type": "stream",
     "text": [
      "True\n",
      "True\n",
      "{0: (8.736869812011719, 1.840950608253479, 20.722593307495117), 1: (8.991327285766602, 1.8149514198303223, 21.915855407714844), 2: (9.627471923828125, 0.8253679275512695, 22.621824264526367), 3: (9.883052825927734, -0.4560964107513428, 21.951887130737305), 4: (10.668458938598633, -1.3675775527954102, 22.87837791442871), 5: (12.103649139404297, -0.9021434783935547, 23.11640739440918), 6: (12.891031265258789, -0.7986127138137817, 21.81521987915039), 7: (12.858545303344727, -1.8402495384216309, 24.04183578491211), 8: (8.529062271118164, -1.0746678113937378, 21.6446590423584), 9: (8.316762924194336, -1.6040165424346924, 20.41315460205078), 10: (7.0836944580078125, -2.1928112506866455, 19.99717140197754), 11: (6.5677032470703125, -1.4264198541641235, 18.764925003051758), 12: (6.186033248901367, 0.010240626521408558, 19.11873435974121), 13: (5.628711700439453, 0.7831991910934448, 17.94416618347168), 14: (4.517642974853516, 1.4991313219070435, 18.325023651123047), 15: (4.193065643310547, 1.3240245580673218, 19.734708786010742), 16: (5.079565048217773, 0.1592547446489334, 20.18944549560547), 17: (6.046855926513672, 0.8149275779724121, 16.784435272216797), 18: (7.312732696533203, -3.678938388824463, 19.706689834594727), 19: (6.090175628662109, -4.241611480712891, 19.329191207885742), 20: (7.6065673828125, -1.0832730531692505, 22.49959945678711), 21: (8.655372619628906, 2.8003780841827393, 22.7404842376709), 22: (7.99067497253418, 3.921985387802124, 22.183515548706055), 23: (8.069938659667969, 5.147120475769043, 23.034093856811523), 24: (9.375032424926758, 5.963251113891602, 23.06162452697754), 25: (9.915180206298828, 6.449003219604492, 24.382904052734375), 26: (9.870895385742188, 7.958800315856934, 24.592945098876953), 27: (10.079561233520508, 8.41702651977539, 26.035846710205078), 28: (9.969343185424805, 9.911736488342285, 26.169078826904297), 29: (10.980575561523438, 10.62364673614502, 25.2833309173584), 30: (10.828489303588867, 10.178555488586426, 23.842151641845703), 31: (10.90070915222168, 8.666271209716797, 23.715917587280273), 32: (8.109676361083984, 6.540581703186035, 22.442190170288086), 33: (9.910213470458984, 0.973172128200531, 23.569564819335938), 34: (10.442975997924805, -0.299547404050827, 21.018089294433594), 35: (10.150341033935547, -1.4090430736541748, 23.847827911376953), 36: (10.697549819946289, -2.373774528503418, 22.434844970703125), 37: (12.071331024169922, 0.09397102892398834, 23.581932067871094), 38: (13.915445327758789, -0.46144765615463257, 22.031770706176758), 39: (12.92485237121582, -1.7841745615005493, 21.327856063842773), 40: (12.400806427001953, -0.0756014883518219, 21.14668846130371), 41: (13.88377571105957, -1.4682809114456177, 24.18515968322754), 42: (12.346216201782227, -1.8867347240447998, 25.014131546020508), 43: (12.89225959777832, -2.8455984592437744, 23.596710205078125), 44: (9.070350646972656, -1.580370545387268, 19.756235122680664), 45: (6.336496353149414, -2.104459285736084, 20.799598693847656), 46: (5.682306289672852, -1.9438724517822266, 18.367033004760742), 47: (7.35692024230957, -1.408323049545288, 17.998889923095703), 48: (7.085866928100586, 0.5278028845787048, 19.482641220092773), 49: (3.9900760650634766, 2.076899528503418, 17.70224380493164), 50: (3.1289939880371094, 1.0754008293151855, 19.86095428466797), 51: (4.426578521728516, 2.235902786254883, 20.303874969482422), 52: (5.526105880737305, 0.38102081418037415, 21.169965744018555), 53: (4.487945556640625, -0.7656567096710205, 20.25672149658203), 54: (6.930604934692383, 3.66381573677063, 22.04351806640625), 55: (8.445430755615234, 4.146328926086426, 21.207366943359375), 56: (7.560703277587891, 5.074214935302734, 24.006391525268555), 57: (10.13576889038086, 5.634337425231934, 22.338369369506836), 58: (9.326784133911133, 5.977629661560059, 25.183902740478516), 59: (10.963977813720703, 6.126370429992676, 24.45992660522461), 60: (8.875871658325195, 8.306355476379395, 24.278093338012695), 61: (9.316780090332031, 7.945586204528809, 26.672956466674805), 62: (11.080011367797852, 8.102784156799316, 26.3680419921875), 63: (8.955652236938477, 10.223362922668457, 25.876983642578125), 64: (10.15144157409668, 10.192091941833496, 27.21704864501953), 65: (10.816204071044922, 11.70946979522705, 25.346343994140625), 66: (11.996912002563477, 10.385896682739258, 25.63051414489746), 67: (9.855165481567383, 10.522848129272461, 23.462541580200195), 68: (11.634969711303711, 10.626185417175293, 23.24280548095703), 69: (11.906173706054688, 8.334587097167969, 24.0142879486084), 70: (10.719985961914062, 8.39044189453125, 22.6665096282959), 71: (8.045595169067383, 6.674419403076172, 21.352245330810547), 72: (7.580785751342773, 7.363997459411621, 22.94444465637207), 73: (8.539434432983398, -3.827453851699829, 18.389280319213867)}\n"
     ]
    }
   ],
   "source": [
    "lig_mol = oechem.OEGraphMol()\n",
    "prot_mol = oechem.OEGraphMol()\n",
    "print(du.GetLigand(lig_mol))\n",
    "print(du.GetProtein(prot_mol))\n",
    "\n",
    "print(lig_mol.GetCoords())"
   ]
  },
  {
   "cell_type": "code",
   "execution_count": 21,
   "id": "f860035c-9d10-474c-a5c0-ecfa96b45f1e",
   "metadata": {},
   "outputs": [
    {
     "name": "stdout",
     "output_type": "stream",
     "text": [
      "{0: (9.133999824523926, 1.0069999694824219, 21.385000228881836), 1: (8.734000205993652, -0.08100000023841858, 21.79800033569336), 2: (9.326000213623047, -0.7480000257492065, 23.024999618530273), 3: (10.805000305175781, -0.45899999141693115, 23.16900062561035), 4: (11.255999565124512, 0.5249999761581421, 24.040000915527344), 5: (12.58899974822998, 0.9039999842643738, 24.055999755859375), 6: (13.498000144958496, 0.29899999499320984, 23.201000213623047), 7: (11.72700023651123, -1.100000023841858, 22.344999313354492), 8: (13.053000450134277, -0.7110000252723694, 22.3700008392334), 9: (14.196000099182129, -1.5379999876022339, 21.347000122070312), 10: (7.703999996185303, -0.7609999775886536, 21.211000442504883), 11: (7.065999984741211, -0.328000009059906, 20.047000885009766), 12: (5.927999973297119, 0.4569999873638153, 20.079999923706055), 13: (5.631999969482422, 0.7609999775886536, 18.75), 14: (6.514999866485596, 0.19699999690055847, 17.92300033569336), 15: (7.394000053405762, -0.4729999899864197, 18.738000869750977), 16: (5.171999931335449, 0.9449999928474426, 21.1299991607666), 17: (4.125, 1.7589999437332153, 20.87299919128418), 18: (3.7990000247955322, 2.1019999980926514, 19.53499984741211), 19: (4.525000095367432, 1.6080000400543213, 18.489999771118164)}\n"
     ]
    }
   ],
   "source": [
    "## Load a random molecule from SDF file\n",
    "sdf_fn = f\"{frag_dir}/aligned/Mpro-P2007_0A/Mpro-P2007_0A.sdf\"\n",
    "ifs = oechem.oemolistream()\n",
    "ifs.SetFlavor(\n",
    "    oechem.OEFormat_SDF,\n",
    "    oechem.OEIFlavor_SDF_Default,\n",
    ")\n",
    "ifs.open(sdf_fn)\n",
    "new_lig = oechem.OEGraphMol()\n",
    "oechem.OEReadMolecule(ifs, new_lig)\n",
    "ifs.close()\n",
    "\n",
    "print(new_lig.GetCoords())"
   ]
  },
  {
   "cell_type": "code",
   "execution_count": 23,
   "id": "81ec3aaa-7b06-4536-96bb-24ae2446e046",
   "metadata": {},
   "outputs": [
    {
     "name": "stdout",
     "output_type": "stream",
     "text": [
      "True\n",
      "False False\n"
     ]
    },
    {
     "name": "stderr",
     "output_type": "stream",
     "text": [
      "Warning: Not all pieces assigned, splitting the biounit into an OEDesignUnit failed\n",
      "Warning: Non-ligand component: 3C-LIKE PROTEINASE(AB), could not properly be split into a DesignUnit\n"
     ]
    }
   ],
   "source": [
    "print(oespruce.OEMakeDesignUnit(du, prot_mol, new_lig))\n",
    "print(du.HasLigand(), du.HasProtein())"
   ]
  },
  {
   "cell_type": "code",
   "execution_count": 15,
   "id": "7e39d058-cf36-4c82-b8e8-b947126afa07",
   "metadata": {},
   "outputs": [
    {
     "ename": "TypeError",
     "evalue": "Wrong number or type of arguments for overloaded function 'OEWriteDesignUnit'.\n  Possible C/C++ prototypes are:\n    OEBio::OEWriteDesignUnit(std::string const &,OEBio::OEDesignUnit const &)\n    OEBio::OEWriteDesignUnit(OEPlatform::oeostream &,OEBio::OEDesignUnit const &)\n",
     "output_type": "error",
     "traceback": [
      "\u001b[0;31m---------------------------------------------------------------------------\u001b[0m",
      "\u001b[0;31mTypeError\u001b[0m                                 Traceback (most recent call last)",
      "Input \u001b[0;32mIn [15]\u001b[0m, in \u001b[0;36m<cell line: 9>\u001b[0;34m()\u001b[0m\n\u001b[1;32m      4\u001b[0m ofs\u001b[38;5;241m.\u001b[39mSetFlavor(\n\u001b[1;32m      5\u001b[0m     oechem\u001b[38;5;241m.\u001b[39mOEFormat_PDB,\n\u001b[1;32m      6\u001b[0m     oechem\u001b[38;5;241m.\u001b[39mOEOFlavor_PDB_Default,\n\u001b[1;32m      7\u001b[0m )\n\u001b[1;32m      8\u001b[0m ofs\u001b[38;5;241m.\u001b[39mopen(out_fn)\n\u001b[0;32m----> 9\u001b[0m \u001b[43moechem\u001b[49m\u001b[38;5;241;43m.\u001b[39;49m\u001b[43mOEWriteDesignUnit\u001b[49m\u001b[43m(\u001b[49m\u001b[43mofs\u001b[49m\u001b[43m,\u001b[49m\u001b[43m \u001b[49m\u001b[43mdu\u001b[49m\u001b[43m)\u001b[49m\n\u001b[1;32m     10\u001b[0m ofs\u001b[38;5;241m.\u001b[39mclose()\n",
      "File \u001b[0;32m~/miniconda3/envs/structure_ml/lib/python3.9/site-packages/openeye/oechem.py:35915\u001b[0m, in \u001b[0;36mOEWriteDesignUnit\u001b[0;34m(*args)\u001b[0m\n\u001b[1;32m  35910\u001b[0m \u001b[38;5;28;01mdef\u001b[39;00m \u001b[38;5;21mOEWriteDesignUnit\u001b[39m(\u001b[38;5;241m*\u001b[39margs) \u001b[38;5;241m-\u001b[39m\u001b[38;5;241m>\u001b[39m \u001b[38;5;124m\"\u001b[39m\u001b[38;5;124mbool\u001b[39m\u001b[38;5;124m\"\u001b[39m:\n\u001b[1;32m  35911\u001b[0m     \u001b[38;5;124mr\u001b[39m\u001b[38;5;124;03m\"\"\"\u001b[39;00m\n\u001b[1;32m  35912\u001b[0m \u001b[38;5;124;03m    OEWriteDesignUnit(std::string const & fname, OEDesignUnit du) -> bool\u001b[39;00m\n\u001b[1;32m  35913\u001b[0m \u001b[38;5;124;03m    OEWriteDesignUnit(oeostream ofs, OEDesignUnit du) -> bool\u001b[39;00m\n\u001b[1;32m  35914\u001b[0m \u001b[38;5;124;03m    \"\"\"\u001b[39;00m\n\u001b[0;32m> 35915\u001b[0m     \u001b[38;5;28;01mreturn\u001b[39;00m \u001b[43m_oechem\u001b[49m\u001b[38;5;241;43m.\u001b[39;49m\u001b[43mOEWriteDesignUnit\u001b[49m\u001b[43m(\u001b[49m\u001b[38;5;241;43m*\u001b[39;49m\u001b[43margs\u001b[49m\u001b[43m)\u001b[49m\n",
      "\u001b[0;31mTypeError\u001b[0m: Wrong number or type of arguments for overloaded function 'OEWriteDesignUnit'.\n  Possible C/C++ prototypes are:\n    OEBio::OEWriteDesignUnit(std::string const &,OEBio::OEDesignUnit const &)\n    OEBio::OEWriteDesignUnit(OEPlatform::oeostream &,OEBio::OEDesignUnit const &)\n"
     ]
    }
   ],
   "source": [
    "## Try and save full design unit as PDB?\n",
    "out_fn = \"test/pdb8dgy_0_P2007_0A_lig.pdb\"\n",
    "ofs = oechem.oemolostream()\n",
    "ofs.SetFlavor(\n",
    "    oechem.OEFormat_PDB,\n",
    "    oechem.OEOFlavor_PDB_Default,\n",
    ")\n",
    "ofs.open(out_fn)\n",
    "oechem.OEWriteDesignUnit(ofs, du)\n",
    "ofs.close()"
   ]
  },
  {
   "cell_type": "code",
   "execution_count": 18,
   "id": "5d6cce10-e694-4260-8cf6-b6b1f4b49c88",
   "metadata": {},
   "outputs": [
    {
     "name": "stdout",
     "output_type": "stream",
     "text": [
      "<oechem.OEDesignUnit; proxy of <Swig Object of type 'std::vector< OEBio::OEDesignUnit * >::value_type' at 0x7f0f540f0d80> >\n",
      "False\n",
      "False\n"
     ]
    }
   ],
   "source": [
    "## Doesn't work... maybe we can combine the prot and lig molecules?\n",
    "prot_mol.Clear()\n",
    "lig_mol.Clear()\n",
    "print(du)\n",
    "print(du.GetProtein(prot_mol))\n",
    "print(du.GetLigand(lig_mol))"
   ]
  }
 ],
 "metadata": {
  "kernelspec": {
   "display_name": "Python 3 (ipykernel)",
   "language": "python",
   "name": "python3"
  },
  "language_info": {
   "codemirror_mode": {
    "name": "ipython",
    "version": 3
   },
   "file_extension": ".py",
   "mimetype": "text/x-python",
   "name": "python",
   "nbconvert_exporter": "python",
   "pygments_lexer": "ipython3",
   "version": "3.9.13"
  }
 },
 "nbformat": 4,
 "nbformat_minor": 5
}
