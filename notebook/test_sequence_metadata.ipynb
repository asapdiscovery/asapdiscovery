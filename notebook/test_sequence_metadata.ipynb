{
 "cells": [
  {
   "cell_type": "code",
   "execution_count": 31,
   "id": "7f96bab6-e2ab-4a06-b302-c6e85a4bd2f6",
   "metadata": {},
   "outputs": [],
   "source": [
    "import re\n",
    "import sys\n",
    "\n",
    "import yaml\n",
    "from openeye import oechem, oespruce\n",
    "\n",
    "sys.path.append(\"../\")\n",
    "from asapdiscovery.data import pdb\n",
    "from asapdiscovery.data.fragalysis import parse_xtal\n",
    "from asapdiscovery.data.openeye import (\n",
    "    load_openeye_pdb,\n",
    "    save_openeye_pdb,\n",
    "    split_openeye_mol,\n",
    ")\n",
    "from asapdiscovery.data.schema import CrystalCompoundData\n",
    "from asapdiscovery.data.utils import edit_pdb_file, seqres_to_res_list\n",
    "from asapdiscovery.docking.modeling import (\n",
    "    align_receptor,\n",
    "    du_to_complex,\n",
    "    mutate_residues,\n",
    "    prep_receptor,\n",
    "    remove_extra_ligands,\n",
    ")"
   ]
  },
  {
   "cell_type": "code",
   "execution_count": 6,
   "id": "307a5158-8dd7-499d-8987-e748ebfbb355",
   "metadata": {},
   "outputs": [],
   "source": [
    "frag_dir = \"/lila/data/chodera/asap-datasets/mpro_fragalysis_2022_10_12/aligned\"\n",
    "main_dir = \"/lila/data/chodera/kaminowb/stereochemistry_pred/mers/\"\n",
    "frag_fn = f\"{main_dir}/test_sequence_metadata_xtal.csv\"\n",
    "xtal_compounds = parse_xtal(frag_fn, frag_dir)\n",
    "assert len(xtal_compounds) == 1\n",
    "xtal = xtal_compounds[0]\n",
    "## From prep_proteins.py\n",
    "re_pat = rf\"/{xtal.dataset}_([0-9][A-Z])/\"\n",
    "try:\n",
    "    frag_chain = re.search(re_pat, xtal.str_fn).groups()[0]\n",
    "except AttributeError:\n",
    "    print(\n",
    "        f\"Regex chain search failed: {re_pat}, {xtal.str_fn}.\",\n",
    "        \"Using A as default.\",\n",
    "        flush=True,\n",
    "    )\n",
    "    frag_chain = \"0A\"\n",
    "xtal.output_name = f\"{xtal.dataset}_{frag_chain}_{xtal.compound_id}\"\n",
    "\n",
    "## We also want the chain in the form of a single letter ('A', 'B'), etc\n",
    "xtal.active_site_chain = frag_chain[-1]"
   ]
  },
  {
   "cell_type": "code",
   "execution_count": 7,
   "id": "541b4280-f53e-4efc-b127-93d470bfbd72",
   "metadata": {},
   "outputs": [
    {
     "name": "stdout",
     "output_type": "stream",
     "text": [
      "smiles='CC(C)(C)C=1C=CC(=CC1)N([C@H](C(=O)NCCC=2C=CC=C(F)C2)C=3C=CC=NC3)C(=O)C4=CC=CO4' compound_id='MAT-POS-f2460aef-1' dataset='Mpro-P0009' str_fn='/lila/data/chodera/asap-datasets/mpro_fragalysis_2022_10_12/aligned/Mpro-P0009_0A/Mpro-P0009_0A_bound.pdb' sdf_fn=None active_site_chain='A' output_name='Mpro-P0009_0A_MAT-POS-f2460aef-1' active_site=None oligomeric_state=None chains=None protein_chains=None\n"
     ]
    }
   ],
   "source": [
    "print(xtal, flush=True)"
   ]
  },
  {
   "cell_type": "code",
   "execution_count": 15,
   "id": "c482351c-688e-4747-99ea-a8779a35d64d",
   "metadata": {},
   "outputs": [
    {
     "name": "stdout",
     "output_type": "stream",
     "text": [
      "['SER', 'GLY', 'PHE', 'ARG', 'LYS', 'MET', 'ALA', 'PHE', 'PRO', 'SER', 'GLY', 'LYS', 'VAL', 'GLU', 'GLY', 'CYS', 'MET', 'VAL', 'GLN', 'VAL', 'THR', 'CYS', 'GLY', 'THR', 'THR', 'THR', 'LEU', 'ASN', 'GLY', 'LEU', 'TRP', 'LEU', 'ASP', 'ASP', 'VAL', 'VAL', 'TYR', 'CYS', 'PRO', 'ARG', 'HIS', 'VAL', 'ILE', 'CYS', 'THR', 'SER', 'GLU', 'ASP', 'MET', 'LEU', 'ASN', 'PRO', 'ASN', 'TYR', 'GLU', 'ASP', 'LEU', 'LEU', 'ILE', 'ARG', 'LYS', 'SER', 'ASN', 'HIS', 'ASN', 'PHE', 'LEU', 'VAL', 'GLN', 'ALA', 'GLY', 'ASN', 'VAL', 'GLN', 'LEU', 'ARG', 'VAL', 'ILE', 'GLY', 'HIS', 'SER', 'MET', 'GLN', 'ASN', 'CYS', 'VAL', 'LEU', 'LYS', 'LEU', 'LYS', 'VAL', 'ASP', 'THR', 'ALA', 'ASN', 'PRO', 'LYS', 'THR', 'PRO', 'LYS', 'TYR', 'LYS', 'PHE', 'VAL', 'ARG', 'ILE', 'GLN', 'PRO', 'GLY', 'GLN', 'THR', 'PHE', 'SER', 'VAL', 'LEU', 'ALA', 'CYS', 'TYR', 'ASN', 'GLY', 'SER', 'PRO', 'SER', 'GLY', 'VAL', 'TYR', 'GLN', 'CYS', 'ALA', 'MET', 'ARG', 'PRO', 'ASN', 'PHE', 'THR', 'ILE', 'LYS', 'GLY', 'SER', 'PHE', 'LEU', 'ASN', 'GLY', 'SER', 'CYS', 'GLY', 'SER', 'VAL', 'GLY', 'PHE', 'ASN', 'ILE', 'ASP', 'TYR', 'ASP', 'CYS', 'VAL', 'SER', 'PHE', 'CYS', 'TYR', 'MET', 'HIS', 'HIS', 'MET', 'GLU', 'LEU', 'PRO', 'THR', 'GLY', 'VAL', 'HIS', 'ALA', 'GLY', 'THR', 'ASP', 'LEU', 'GLU', 'GLY', 'ASN', 'PHE', 'TYR', 'GLY', 'PRO', 'PHE', 'VAL', 'ASP', 'ARG', 'GLN', 'THR', 'ALA', 'GLN', 'ALA', 'ALA', 'GLY', 'THR', 'ASP', 'THR', 'THR', 'ILE', 'THR', 'VAL', 'ASN', 'VAL', 'LEU', 'ALA', 'TRP', 'LEU', 'TYR', 'ALA', 'ALA', 'VAL', 'ILE', 'ASN', 'GLY', 'ASP', 'ARG', 'TRP', 'PHE', 'LEU', 'ASN', 'ARG', 'PHE', 'THR', 'THR', 'THR', 'LEU', 'ASN', 'ASP', 'PHE', 'ASN', 'LEU', 'VAL', 'ALA', 'MET', 'LYS', 'TYR', 'ASN', 'TYR', 'GLU', 'PRO', 'LEU', 'THR', 'GLN', 'ASP', 'HIS', 'VAL', 'ASP', 'ILE', 'LEU', 'GLY', 'PRO', 'LEU', 'SER', 'ALA', 'GLN', 'THR', 'GLY', 'ILE', 'ALA', 'VAL', 'LEU', 'ASP', 'MET', 'CYS', 'ALA', 'SER', 'LEU', 'LYS', 'GLU', 'LEU', 'LEU', 'GLN', 'ASN', 'GLY', 'MET', 'ASN', 'GLY', 'ARG', 'THR', 'ILE', 'LEU', 'GLY', 'SER', 'ALA', 'LEU', 'LEU', 'GLU', 'ASP', 'GLU', 'PHE', 'THR', 'PRO', 'PHE', 'ASP', 'VAL', 'VAL', 'ARG', 'GLN', 'CYS', 'SER', 'GLY', 'VAL', 'THR', 'PHE', 'GLN']\n",
      "SER GLY PHE ARG LYS MET ALA PHE PRO SER GLY LYS VAL GLU GLY CYS MET VAL GLN VAL THR CYS GLY THR THR THR LEU ASN GLY LEU TRP LEU ASP ASP VAL VAL TYR CYS PRO ARG HIS VAL ILE CYS THR SER GLU ASP MET LEU ASN PRO ASN TYR GLU ASP LEU LEU ILE ARG LYS SER ASN HIS ASN PHE LEU VAL GLN ALA GLY ASN VAL GLN LEU ARG VAL ILE GLY HIS SER MET GLN ASN CYS VAL LEU LYS LEU LYS VAL ASP THR ALA ASN PRO LYS THR PRO LYS TYR LYS PHE VAL ARG ILE GLN PRO GLY GLN THR PHE SER VAL LEU ALA CYS TYR ASN GLY SER PRO SER GLY VAL TYR GLN CYS ALA MET ARG PRO ASN PHE THR ILE LYS GLY SER PHE LEU ASN GLY SER CYS GLY SER VAL GLY PHE ASN ILE ASP TYR ASP CYS VAL SER PHE CYS TYR MET HIS HIS MET GLU LEU PRO THR GLY VAL HIS ALA GLY THR ASP LEU GLU GLY ASN PHE TYR GLY PRO PHE VAL ASP ARG GLN THR ALA GLN ALA ALA GLY THR ASP THR THR ILE THR VAL ASN VAL LEU ALA TRP LEU TYR ALA ALA VAL ILE ASN GLY ASP ARG TRP PHE LEU ASN ARG PHE THR THR THR LEU ASN ASP PHE ASN LEU VAL ALA MET LYS TYR ASN TYR GLU PRO LEU THR GLN ASP HIS VAL ASP ILE LEU GLY PRO LEU SER ALA GLN THR GLY ILE ALA VAL LEU ASP MET CYS ALA SER LEU LYS GLU LEU LEU GLN ASN GLY MET ASN GLY ARG THR ILE LEU GLY SER ALA LEU LEU GLU ASP GLU PHE THR PRO PHE ASP VAL VAL ARG GLN CYS SER GLY VAL THR PHE GLN\n",
      "306\n"
     ]
    }
   ],
   "source": [
    "seqres_fn = \"../metadata/mpro_sars2_seqres.yaml\"\n",
    "with open(seqres_fn) as f:\n",
    "    seqres_dict = yaml.safe_load(f)\n",
    "seqres = seqres_dict[\"SEQRES\"]\n",
    "seqres_list = seqres_to_res_list(seqres)\n",
    "seqres = \" \".join(seqres_list)\n",
    "print(seqres_list, flush=True)\n",
    "print(seqres, flush=True)\n",
    "print(len(seqres_list), flush=True)"
   ]
  },
  {
   "cell_type": "code",
   "execution_count": 30,
   "id": "cc12e9a3-1d3e-4080-aea5-5b958a09c0a4",
   "metadata": {},
   "outputs": [
    {
     "name": "stdout",
     "output_type": "stream",
     "text": [
      "['SER', 'GLY', 'PHE', 'ARG', 'LYS', 'MET', 'ALA', 'PHE', 'PRO', 'SER', 'GLY', 'LYS', 'VAL', 'GLU', 'GLY', 'CYS', 'MET', 'VAL', 'GLN', 'VAL', 'THR', 'CYS', 'GLY', 'THR', 'THR', 'THR', 'LEU', 'ASN', 'GLY', 'LEU', 'TRP', 'LEU', 'ASP', 'ASP', 'VAL', 'VAL', 'TYR', 'CYS', 'PRO', 'ARG', 'HIS', 'VAL', 'ILE', 'CYS', 'THR', 'SER', 'GLU', 'ASP', 'MET', 'LEU', 'ASN', 'PRO', 'ASN', 'TYR', 'GLU', 'ASP', 'LEU', 'LEU', 'ILE', 'ARG', 'LYS', 'SER', 'ASN', 'HIS', 'ASN', 'PHE', 'LEU', 'VAL', 'GLN', 'ALA', 'GLY', 'ASN', 'VAL', 'GLN', 'LEU', 'ARG', 'VAL', 'ILE', 'GLY', 'HIS', 'SER', 'MET', 'GLN', 'ASN', 'CYS', 'VAL', 'LEU', 'LYS', 'LEU', 'LYS', 'VAL', 'ASP', 'THR', 'ALA', 'ASN', 'PRO', 'LYS', 'THR', 'PRO', 'LYS', 'TYR', 'LYS', 'PHE', 'VAL', 'ARG', 'ILE', 'GLN', 'PRO', 'GLY', 'GLN', 'THR', 'PHE', 'SER', 'VAL', 'LEU', 'ALA', 'CYS', 'TYR', 'ASN', 'GLY', 'SER', 'PRO', 'SER', 'GLY', 'VAL', 'TYR', 'GLN', 'CYS', 'ALA', 'MET', 'ARG', 'PRO', 'ASN', 'PHE', 'THR', 'ILE', 'LYS', 'GLY', 'SER', 'PHE', 'LEU', 'ASN', 'GLY', 'SER', 'CYS', 'GLY', 'SER', 'VAL', 'GLY', 'PHE', 'ASN', 'ILE', 'ASP', 'TYR', 'ASP', 'CYS', 'VAL', 'SER', 'PHE', 'CYS', 'TYR', 'MET', 'HIS', 'HIS', 'MET', 'GLU', 'LEU', 'PRO', 'THR', 'GLY', 'VAL', 'HIS', 'ALA', 'GLY', 'THR', 'ASP', 'LEU', 'GLU', 'GLY', 'ASN', 'PHE', 'TYR', 'GLY', 'PRO', 'PHE', 'VAL', 'ASP', 'ARG', 'GLN', 'THR', 'ALA', 'GLN', 'ALA', 'ALA', 'GLY', 'THR', 'ASP', 'THR', 'THR', 'ILE', 'THR', 'VAL', 'ASN', 'VAL', 'LEU', 'ALA', 'TRP', 'LEU', 'TYR', 'ALA', 'ALA', 'VAL', 'ILE', 'ASN', 'GLY', 'ASP', 'ARG', 'TRP', 'PHE', 'LEU', 'ASN', 'ARG', 'PHE', 'THR', 'THR', 'THR', 'LEU', 'ASN', 'ASP', 'PHE', 'ASN', 'LEU', 'VAL', 'ALA', 'MET', 'LYS', 'TYR', 'ASN', 'TYR', 'GLU', 'PRO', 'LEU', 'THR', 'GLN', 'ASP', 'HIS', 'VAL', 'ASP', 'ILE', 'LEU', 'GLY', 'PRO', 'LEU', 'SER', 'ALA', 'GLN', 'THR', 'GLY', 'ILE', 'ALA', 'VAL', 'LEU', 'ASP', 'MET', 'CYS', 'ALA', 'SER', 'LEU', 'LYS', 'GLU', 'LEU', 'LEU', 'GLN', 'ASN', 'GLY', 'MET', 'ASN', 'GLY', 'ARG', 'THR', 'ILE', 'LEU', 'GLY', 'SER', 'ALA', 'LEU', 'LEU', 'GLU', 'ASP', 'GLU', 'PHE', 'THR', 'PRO', 'PHE', 'ASP', 'VAL', 'VAL', 'ARG', 'GLN', 'CYS', 'SER', 'GLY']\n",
      "302\n"
     ]
    }
   ],
   "source": [
    "initial_complex = load_openeye_pdb(xtal.str_fn)\n",
    "initial_split = split_openeye_mol(initial_complex)\n",
    "initial_prot = initial_split[\"pro\"]\n",
    "prot_seq = [\n",
    "    res.GetName()\n",
    "    for res in oechem.OEGetResidues(initial_prot)\n",
    "    if (res.GetExtChainID() == \"A\")\n",
    "    # and (res.GetName() != \"DMS\")\n",
    "    # and (res.GetName() != \"LIG\")\n",
    "]\n",
    "print(prot_seq)\n",
    "print(len(prot_seq))"
   ]
  },
  {
   "cell_type": "code",
   "execution_count": 57,
   "id": "adee0d95-e27b-434f-a7c0-06efe78b28d3",
   "metadata": {},
   "outputs": [
    {
     "name": "stdout",
     "output_type": "stream",
     "text": [
      "A\n",
      "SER GLY PHE ARG LYS MET ALA PHE PRO SER GLY LYS VAL GLU GLY CYS MET VAL GLN VAL THR CYS GLY THR THR THR LEU ASN GLY LEU TRP LEU ASP ASP VAL VAL TYR CYS PRO ARG HIS VAL ILE CYS THR SER GLU ASP MET LEU ASN PRO ASN TYR GLU ASP LEU LEU ILE ARG LYS SER ASN HIS ASN PHE LEU VAL GLN ALA GLY ASN VAL GLN LEU ARG VAL ILE GLY HIS SER MET GLN ASN CYS VAL LEU LYS LEU LYS VAL ASP THR ALA ASN PRO LYS THR PRO LYS TYR LYS PHE VAL ARG ILE GLN PRO GLY GLN THR PHE SER VAL LEU ALA CYS TYR ASN GLY SER PRO SER GLY VAL TYR GLN CYS ALA MET ARG PRO ASN PHE THR ILE LYS GLY SER PHE LEU ASN GLY SER CYS GLY SER VAL GLY PHE ASN ILE ASP TYR ASP CYS VAL SER PHE CYS TYR MET HIS HIS MET GLU LEU PRO THR GLY VAL HIS ALA GLY THR ASP LEU GLU GLY ASN PHE TYR GLY PRO PHE VAL ASP ARG GLN THR ALA GLN ALA ALA GLY THR ASP THR THR ILE THR VAL ASN VAL LEU ALA TRP LEU TYR ALA ALA VAL ILE ASN GLY ASP ARG TRP PHE LEU ASN ARG PHE THR THR THR LEU ASN ASP PHE ASN LEU VAL ALA MET LYS TYR ASN TYR GLU PRO LEU THR GLN ASP HIS VAL ASP ILE LEU GLY PRO LEU SER ALA GLN THR GLY ILE ALA VAL LEU ASP MET CYS ALA SER LEU LYS GLU LEU LEU GLN ASN GLY MET ASN GLY ARG THR ILE LEU GLY SER ALA LEU LEU GLU ASP GLU PHE THR PRO PHE ASP VAL VAL ARG GLN CYS SER GLY VAL THR PHE GLN\n",
      "B\n",
      "SER GLY PHE ARG LYS MET ALA PHE PRO SER GLY LYS VAL GLU GLY CYS MET VAL GLN VAL THR CYS GLY THR THR THR LEU ASN GLY LEU TRP LEU ASP ASP VAL VAL TYR CYS PRO ARG HIS VAL ILE CYS THR SER GLU ASP MET LEU ASN PRO ASN TYR GLU ASP LEU LEU ILE ARG LYS SER ASN HIS ASN PHE LEU VAL GLN ALA GLY ASN VAL GLN LEU ARG VAL ILE GLY HIS SER MET GLN ASN CYS VAL LEU LYS LEU LYS VAL ASP THR ALA ASN PRO LYS THR PRO LYS TYR LYS PHE VAL ARG ILE GLN PRO GLY GLN THR PHE SER VAL LEU ALA CYS TYR ASN GLY SER PRO SER GLY VAL TYR GLN CYS ALA MET ARG PRO ASN PHE THR ILE LYS GLY SER PHE LEU ASN GLY SER CYS GLY SER VAL GLY PHE ASN ILE ASP TYR ASP CYS VAL SER PHE CYS TYR MET HIS HIS MET GLU LEU PRO THR GLY VAL HIS ALA GLY THR ASP LEU GLU GLY ASN PHE TYR GLY PRO PHE VAL ASP ARG GLN THR ALA GLN ALA ALA GLY THR ASP THR THR ILE THR VAL ASN VAL LEU ALA TRP LEU TYR ALA ALA VAL ILE ASN GLY ASP ARG TRP PHE LEU ASN ARG PHE THR THR THR LEU ASN ASP PHE ASN LEU VAL ALA MET LYS TYR ASN TYR GLU PRO LEU THR GLN ASP HIS VAL ASP ILE LEU GLY PRO LEU SER ALA GLN THR GLY ILE ALA VAL LEU ASP MET CYS ALA SER LEU LYS GLU LEU LEU GLN ASN GLY MET ASN GLY ARG THR ILE LEU GLY SER ALA LEU LEU GLU ASP GLU PHE THR PRO PHE ASP VAL VAL ARG GLN CYS SER GLY VAL THR PHE GLN\n"
     ]
    }
   ],
   "source": [
    "metadata = oespruce.OEStructureMetadata()\n",
    "all_prot_chains = {\n",
    "    res.GetExtChainID() for res in oechem.OEGetResidues(initial_prot)\n",
    "}\n",
    "for chain in all_prot_chains:\n",
    "    seq_metadata = oespruce.OESequenceMetadata()\n",
    "    seq_metadata.SetChainID(chain)\n",
    "    seq_metadata.SetSequence(seqres)\n",
    "    metadata.AddSequenceMetadata(seq_metadata)\n",
    "for seq in metadata.GetSequenceMetadata():\n",
    "    print(seq.GetChainID())\n",
    "    print(seq.GetSequence())"
   ]
  },
  {
   "cell_type": "code",
   "execution_count": 48,
   "id": "e7b6f675-2753-4bed-88e8-e6e6ed7f8d57",
   "metadata": {},
   "outputs": [],
   "source": [
    "loop_db = \"/lila/home/kaminowb/.openeye/rcsb_spruce.loop_db\""
   ]
  },
  {
   "cell_type": "code",
   "execution_count": 60,
   "id": "4b72fc63-6915-4779-8755-2cf7d2a5b3ed",
   "metadata": {},
   "outputs": [
    {
     "data": {
      "text/plain": [
       "True"
      ]
     },
     "execution_count": 60,
     "metadata": {},
     "output_type": "execute_result"
    }
   ],
   "source": [
    "## Set up DU building options\n",
    "opts = oespruce.OEMakeDesignUnitOptions()\n",
    "opts.SetSuperpose(False)\n",
    "if loop_db is not None:\n",
    "    opts.GetPrepOptions().GetBuildOptions().GetLoopBuilderOptions().SetLoopDBFilename(\n",
    "        loop_db\n",
    "    )\n",
    "\n",
    "## Options set from John's function ########################################\n",
    "## (https://github.com/FoldingAtHome/covid-moonshot/blob/454098f4255467f4655102e0330ebf9da0d09ccb/synthetic-enumeration/sprint-14-quinolones/00-prep-receptor.py)\n",
    "opts.GetPrepOptions().SetStrictProtonationMode(True)\n",
    "# set minimal number of ligand atoms to 5, e.g. a 5-membered ring fragment\\\n",
    "opts.GetSplitOptions().SetMinLigAtoms(5)\n",
    "\n",
    "# also consider alternate locations outside binding pocket, important for later filtering\n",
    "opts.GetPrepOptions().GetEnumerateSitesOptions().SetCollapseNonSiteAlts(False)\n",
    "\n",
    "# alignment options, only matches are important\n",
    "opts.GetPrepOptions().GetBuildOptions().GetLoopBuilderOptions().SetSeqAlignMethod(\n",
    "    oechem.OESeqAlignmentMethod_Identity\n",
    ")\n",
    "opts.GetPrepOptions().GetBuildOptions().GetLoopBuilderOptions().SetSeqAlignGapPenalty(\n",
    "    -1\n",
    ")\n",
    "opts.GetPrepOptions().GetBuildOptions().GetLoopBuilderOptions().SetSeqAlignExtendPenalty(\n",
    "    0\n",
    ")\n",
    "\n",
    "# Both N- and C-termini should be zwitterionic\n",
    "# Mpro cleaves its own N- and C-termini\n",
    "# See https://www.pnas.org/content/113/46/12997\n",
    "opts.GetPrepOptions().GetBuildOptions().SetCapNTermini(False)\n",
    "opts.GetPrepOptions().GetBuildOptions().SetCapCTermini(False)\n",
    "# Don't allow truncation of termini, since force fields don't have\n",
    "#  parameters for this\n",
    "opts.GetPrepOptions().GetBuildOptions().GetCapBuilderOptions().SetAllowTruncate(\n",
    "    False\n",
    ")\n",
    "# Build loops and sidechains\n",
    "opts.GetPrepOptions().GetBuildOptions().SetBuildLoops(True)\n",
    "opts.GetPrepOptions().GetBuildOptions().SetBuildSidechains(True)\n",
    "\n",
    "# Generate ligand tautomers\n",
    "opts.GetPrepOptions().GetProtonateOptions().SetGenerateTautomers(True)\n",
    "\n",
    "## Allow spruce to build tails at the ends of the protein\n",
    "opts.GetPrepOptions().GetBuildOptions().GetLoopBuilderOptions().SetBuildTails(\n",
    "    True\n",
    ")"
   ]
  },
  {
   "cell_type": "code",
   "execution_count": 61,
   "id": "f721ae1a-c9d2-41cc-84bb-a170eb244edc",
   "metadata": {},
   "outputs": [
    {
     "name": "stdout",
     "output_type": "stream",
     "text": [
      "<oespruce.OEDesignUnitIter; proxy of <Swig Object of type 'OESystem::OEIter< OEBio::OEDesignUnit > *' at 0x7f8deefb06c0> >\n"
     ]
    },
    {
     "name": "stderr",
     "output_type": "stream",
     "text": [
      "Warning: No BioAssembly transforms found, using input molecule as biounit: _chainA._chainB_LIG\n",
      "Warning: Cannot set Rfree, due to lack of R value for _chainA._chainB_LIG\n",
      "Warning: Calc DPI: no reflection number found for _chainA._chainB_LIG \n",
      "DPI: 20.00, RFree: 0.00, Resolution: 0.00\n",
      "Processing BU # 1 with title: _chainA._chainB_LIG, chains AB\n",
      "Found unresolved C-terminal with 4 residues after GLY 302   A 1  , with sequence VTFQ\n",
      "Found unresolved C-terminal with 1 residues after PHE 305   B 2  , with sequence Q\n",
      "Attempting to build a C terminal tail: Q after PHE 305   B 2  \n",
      "Attempting to build a C terminal tail: VTFQ after GLY 302   A 1  \n",
      "Opened database /lila/home/kaminowb/.openeye/rcsb_spruce.loop_db\n",
      "LoopDatabase Info: \n",
      "    161412 loops from RCSB last synced on 04-10-2020, were added to LoopTemplateDatabase on 04-22-2020 using Spruce Toolkit 1.1.0.a.1\n",
      "    The loop database was built with a max loop length of 22, a terminus crop length of 2. Regular secondary structures were excluded\n",
      "Warning: Failed.For LIG, could not update 'CC(C)(C)c1ccc(cc1)N(C(c2cccnc2)C(=O)NCCc3cccc(c3)F)C(=O)c4ccco4' to match 'c1ccc-2c(c1)Cc3c2[nH]nc3c4ccncc4'\n",
      "Warning: Failed.For LIG, could not update 'CC(C)(C)c1ccc(cc1)N(C(c2cccnc2)C(=O)NCCc3cccc(c3)F)C(=O)c4ccco4' to match 'c1ccc-2c(c1)Cc3c2n[nH]c3c4ccncc4'\n"
     ]
    }
   ],
   "source": [
    "initial_bound = initial_prot.CreateCopy()\n",
    "oechem.OEAddMols(initial_bound, initial_split[\"lig\"].CreateCopy())\n",
    "dus = oespruce.OEMakeDesignUnits(initial_bound, metadata, opts)\n",
    "print(dus)"
   ]
  },
  {
   "cell_type": "code",
   "execution_count": 62,
   "id": "d2a68280-7a44-41d5-982a-942c1660f300",
   "metadata": {},
   "outputs": [
    {
     "name": "stdout",
     "output_type": "stream",
     "text": [
      "True True\n"
     ]
    }
   ],
   "source": [
    "for du in dus:\n",
    "    print(du.HasProtein(), du.HasLigand())"
   ]
  },
  {
   "cell_type": "code",
   "execution_count": 63,
   "id": "a3b7d83d-c3c9-429a-bb75-4063a6263347",
   "metadata": {},
   "outputs": [
    {
     "name": "stdout",
     "output_type": "stream",
     "text": [
      "True\n"
     ]
    }
   ],
   "source": [
    "du_prot = oechem.OEGraphMol()\n",
    "print(du.GetProtein(du_prot))"
   ]
  },
  {
   "cell_type": "code",
   "execution_count": 64,
   "id": "7f6c4ece-6d8c-4f4b-aa6e-857b4c0d4825",
   "metadata": {},
   "outputs": [
    {
     "name": "stdout",
     "output_type": "stream",
     "text": [
      "607\n",
      "612\n",
      "612\n",
      "SER GLY PHE ARG LYS MET ALA PHE PRO SER GLY LYS VAL GLU GLY CYS MET VAL GLN VAL THR CYS GLY THR THR THR LEU ASN GLY LEU TRP LEU ASP ASP VAL VAL TYR CYS PRO ARG HIS VAL ILE CYS THR SER GLU ASP MET LEU ASN PRO ASN TYR GLU ASP LEU LEU ILE ARG LYS SER ASN HIS ASN PHE LEU VAL GLN ALA GLY ASN VAL GLN LEU ARG VAL ILE GLY HIS SER MET GLN ASN CYS VAL LEU LYS LEU LYS VAL ASP THR ALA ASN PRO LYS THR PRO LYS TYR LYS PHE VAL ARG ILE GLN PRO GLY GLN THR PHE SER VAL LEU ALA CYS TYR ASN GLY SER PRO SER GLY VAL TYR GLN CYS ALA MET ARG PRO ASN PHE THR ILE LYS GLY SER PHE LEU ASN GLY SER CYS GLY SER VAL GLY PHE ASN ILE ASP TYR ASP CYS VAL SER PHE CYS TYR MET HIS HIS MET GLU LEU PRO THR GLY VAL HIS ALA GLY THR ASP LEU GLU GLY ASN PHE TYR GLY PRO PHE VAL ASP ARG GLN THR ALA GLN ALA ALA GLY THR ASP THR THR ILE THR VAL ASN VAL LEU ALA TRP LEU TYR ALA ALA VAL ILE ASN GLY ASP ARG TRP PHE LEU ASN ARG PHE THR THR THR LEU ASN ASP PHE ASN LEU VAL ALA MET LYS TYR ASN TYR GLU PRO LEU THR GLN ASP HIS VAL ASP ILE LEU GLY PRO LEU SER ALA GLN THR GLY ILE ALA VAL LEU ASP MET CYS ALA SER LEU LYS GLU LEU LEU GLN ASN GLY MET ASN GLY ARG THR ILE LEU GLY SER ALA LEU LEU GLU ASP GLU PHE THR PRO PHE ASP VAL VAL ARG GLN CYS SER GLY\n",
      "---\n",
      "SER GLY PHE ARG LYS MET ALA PHE PRO SER GLY LYS VAL GLU GLY CYS MET VAL GLN VAL THR CYS GLY THR THR THR LEU ASN GLY LEU TRP LEU ASP ASP VAL VAL TYR CYS PRO ARG HIS VAL ILE CYS THR SER GLU ASP MET LEU ASN PRO ASN TYR GLU ASP LEU LEU ILE ARG LYS SER ASN HIS ASN PHE LEU VAL GLN ALA GLY ASN VAL GLN LEU ARG VAL ILE GLY HIS SER MET GLN ASN CYS VAL LEU LYS LEU LYS VAL ASP THR ALA ASN PRO LYS THR PRO LYS TYR LYS PHE VAL ARG ILE GLN PRO GLY GLN THR PHE SER VAL LEU ALA CYS TYR ASN GLY SER PRO SER GLY VAL TYR GLN CYS ALA MET ARG PRO ASN PHE THR ILE LYS GLY SER PHE LEU ASN GLY SER CYS GLY SER VAL GLY PHE ASN ILE ASP TYR ASP CYS VAL SER PHE CYS TYR MET HIS HIS MET GLU LEU PRO THR GLY VAL HIS ALA GLY THR ASP LEU GLU GLY ASN PHE TYR GLY PRO PHE VAL ASP ARG GLN THR ALA GLN ALA ALA GLY THR ASP THR THR ILE THR VAL ASN VAL LEU ALA TRP LEU TYR ALA ALA VAL ILE ASN GLY ASP ARG TRP PHE LEU ASN ARG PHE THR THR THR LEU ASN ASP PHE ASN LEU VAL ALA MET LYS TYR ASN TYR GLU PRO LEU THR GLN ASP HIS VAL ASP ILE LEU GLY PRO LEU SER ALA GLN THR GLY ILE ALA VAL LEU ASP MET CYS ALA SER LEU LYS GLU LEU LEU GLN ASN GLY MET ASN GLY ARG THR ILE LEU GLY SER ALA LEU LEU GLU ASP GLU PHE THR PRO PHE ASP VAL VAL ARG GLN CYS SER GLY VAL THR PHE GLN\n",
      "---\n",
      "SER GLY PHE ARG LYS MET ALA PHE PRO SER GLY LYS VAL GLU GLY CYS MET VAL GLN VAL THR CYS GLY THR THR THR LEU ASN GLY LEU TRP LEU ASP ASP VAL VAL TYR CYS PRO ARG HIS VAL ILE CYS THR SER GLU ASP MET LEU ASN PRO ASN TYR GLU ASP LEU LEU ILE ARG LYS SER ASN HIS ASN PHE LEU VAL GLN ALA GLY ASN VAL GLN LEU ARG VAL ILE GLY HIS SER MET GLN ASN CYS VAL LEU LYS LEU LYS VAL ASP THR ALA ASN PRO LYS THR PRO LYS TYR LYS PHE VAL ARG ILE GLN PRO GLY GLN THR PHE SER VAL LEU ALA CYS TYR ASN GLY SER PRO SER GLY VAL TYR GLN CYS ALA MET ARG PRO ASN PHE THR ILE LYS GLY SER PHE LEU ASN GLY SER CYS GLY SER VAL GLY PHE ASN ILE ASP TYR ASP CYS VAL SER PHE CYS TYR MET HIS HIS MET GLU LEU PRO THR GLY VAL HIS ALA GLY THR ASP LEU GLU GLY ASN PHE TYR GLY PRO PHE VAL ASP ARG GLN THR ALA GLN ALA ALA GLY THR ASP THR THR ILE THR VAL ASN VAL LEU ALA TRP LEU TYR ALA ALA VAL ILE ASN GLY ASP ARG TRP PHE LEU ASN ARG PHE THR THR THR LEU ASN ASP PHE ASN LEU VAL ALA MET LYS TYR ASN TYR GLU PRO LEU THR GLN ASP HIS VAL ASP ILE LEU GLY PRO LEU SER ALA GLN THR GLY ILE ALA VAL LEU ASP MET CYS ALA SER LEU LYS GLU LEU LEU GLN ASN GLY MET ASN GLY ARG THR ILE LEU GLY SER ALA LEU LEU GLU ASP GLU PHE THR PRO PHE ASP VAL VAL ARG GLN CYS SER GLY VAL THR PHE GLN\n",
      "-----\n",
      "SER GLY PHE ARG LYS MET ALA PHE PRO SER GLY LYS VAL GLU GLY CYS MET VAL GLN VAL THR CYS GLY THR THR THR LEU ASN GLY LEU TRP LEU ASP ASP VAL VAL TYR CYS PRO ARG HIS VAL ILE CYS THR SER GLU ASP MET LEU ASN PRO ASN TYR GLU ASP LEU LEU ILE ARG LYS SER ASN HIS ASN PHE LEU VAL GLN ALA GLY ASN VAL GLN LEU ARG VAL ILE GLY HIS SER MET GLN ASN CYS VAL LEU LYS LEU LYS VAL ASP THR ALA ASN PRO LYS THR PRO LYS TYR LYS PHE VAL ARG ILE GLN PRO GLY GLN THR PHE SER VAL LEU ALA CYS TYR ASN GLY SER PRO SER GLY VAL TYR GLN CYS ALA MET ARG PRO ASN PHE THR ILE LYS GLY SER PHE LEU ASN GLY SER CYS GLY SER VAL GLY PHE ASN ILE ASP TYR ASP CYS VAL SER PHE CYS TYR MET HIS HIS MET GLU LEU PRO THR GLY VAL HIS ALA GLY THR ASP LEU GLU GLY ASN PHE TYR GLY PRO PHE VAL ASP ARG GLN THR ALA GLN ALA ALA GLY THR ASP THR THR ILE THR VAL ASN VAL LEU ALA TRP LEU TYR ALA ALA VAL ILE ASN GLY ASP ARG TRP PHE LEU ASN ARG PHE THR THR THR LEU ASN ASP PHE ASN LEU VAL ALA MET LYS TYR ASN TYR GLU PRO LEU THR GLN ASP HIS VAL ASP ILE LEU GLY PRO LEU SER ALA GLN THR GLY ILE ALA VAL LEU ASP MET CYS ALA SER LEU LYS GLU LEU LEU GLN ASN GLY MET ASN GLY ARG THR ILE LEU GLY SER ALA LEU LEU GLU ASP GLU PHE THR PRO PHE ASP VAL VAL ARG GLN CYS SER GLY VAL THR PHE\n",
      "---\n",
      "SER GLY PHE ARG LYS MET ALA PHE PRO SER GLY LYS VAL GLU GLY CYS MET VAL GLN VAL THR CYS GLY THR THR THR LEU ASN GLY LEU TRP LEU ASP ASP VAL VAL TYR CYS PRO ARG HIS VAL ILE CYS THR SER GLU ASP MET LEU ASN PRO ASN TYR GLU ASP LEU LEU ILE ARG LYS SER ASN HIS ASN PHE LEU VAL GLN ALA GLY ASN VAL GLN LEU ARG VAL ILE GLY HIS SER MET GLN ASN CYS VAL LEU LYS LEU LYS VAL ASP THR ALA ASN PRO LYS THR PRO LYS TYR LYS PHE VAL ARG ILE GLN PRO GLY GLN THR PHE SER VAL LEU ALA CYS TYR ASN GLY SER PRO SER GLY VAL TYR GLN CYS ALA MET ARG PRO ASN PHE THR ILE LYS GLY SER PHE LEU ASN GLY SER CYS GLY SER VAL GLY PHE ASN ILE ASP TYR ASP CYS VAL SER PHE CYS TYR MET HIS HIS MET GLU LEU PRO THR GLY VAL HIS ALA GLY THR ASP LEU GLU GLY ASN PHE TYR GLY PRO PHE VAL ASP ARG GLN THR ALA GLN ALA ALA GLY THR ASP THR THR ILE THR VAL ASN VAL LEU ALA TRP LEU TYR ALA ALA VAL ILE ASN GLY ASP ARG TRP PHE LEU ASN ARG PHE THR THR THR LEU ASN ASP PHE ASN LEU VAL ALA MET LYS TYR ASN TYR GLU PRO LEU THR GLN ASP HIS VAL ASP ILE LEU GLY PRO LEU SER ALA GLN THR GLY ILE ALA VAL LEU ASP MET CYS ALA SER LEU LYS GLU LEU LEU GLN ASN GLY MET ASN GLY ARG THR ILE LEU GLY SER ALA LEU LEU GLU ASP GLU PHE THR PRO PHE ASP VAL VAL ARG GLN CYS SER GLY VAL THR PHE GLN\n",
      "---\n",
      "SER GLY PHE ARG LYS MET ALA PHE PRO SER GLY LYS VAL GLU GLY CYS MET VAL GLN VAL THR CYS GLY THR THR THR LEU ASN GLY LEU TRP LEU ASP ASP VAL VAL TYR CYS PRO ARG HIS VAL ILE CYS THR SER GLU ASP MET LEU ASN PRO ASN TYR GLU ASP LEU LEU ILE ARG LYS SER ASN HIS ASN PHE LEU VAL GLN ALA GLY ASN VAL GLN LEU ARG VAL ILE GLY HIS SER MET GLN ASN CYS VAL LEU LYS LEU LYS VAL ASP THR ALA ASN PRO LYS THR PRO LYS TYR LYS PHE VAL ARG ILE GLN PRO GLY GLN THR PHE SER VAL LEU ALA CYS TYR ASN GLY SER PRO SER GLY VAL TYR GLN CYS ALA MET ARG PRO ASN PHE THR ILE LYS GLY SER PHE LEU ASN GLY SER CYS GLY SER VAL GLY PHE ASN ILE ASP TYR ASP CYS VAL SER PHE CYS TYR MET HIS HIS MET GLU LEU PRO THR GLY VAL HIS ALA GLY THR ASP LEU GLU GLY ASN PHE TYR GLY PRO PHE VAL ASP ARG GLN THR ALA GLN ALA ALA GLY THR ASP THR THR ILE THR VAL ASN VAL LEU ALA TRP LEU TYR ALA ALA VAL ILE ASN GLY ASP ARG TRP PHE LEU ASN ARG PHE THR THR THR LEU ASN ASP PHE ASN LEU VAL ALA MET LYS TYR ASN TYR GLU PRO LEU THR GLN ASP HIS VAL ASP ILE LEU GLY PRO LEU SER ALA GLN THR GLY ILE ALA VAL LEU ASP MET CYS ALA SER LEU LYS GLU LEU LEU GLN ASN GLY MET ASN GLY ARG THR ILE LEU GLY SER ALA LEU LEU GLU ASP GLU PHE THR PRO PHE ASP VAL VAL ARG GLN CYS SER GLY VAL THR PHE GLN\n"
     ]
    }
   ],
   "source": [
    "print(len(list(oechem.OEGetResidues(initial_prot))))\n",
    "print(len(list(oechem.OEGetResidues(du_prot))))\n",
    "print(len(seqres_list) * 2)\n",
    "print(\n",
    "    \" \".join(\n",
    "        [\n",
    "            res.GetName()\n",
    "            for res in oechem.OEGetResidues(initial_prot)\n",
    "            if res.GetExtChainID() == \"A\"\n",
    "        ]\n",
    "    )\n",
    ")\n",
    "print(\"---\")\n",
    "print(\n",
    "    \" \".join(\n",
    "        [\n",
    "            res.GetName()\n",
    "            for res in oechem.OEGetResidues(du_prot)\n",
    "            if res.GetExtChainID() == \"A\"\n",
    "        ]\n",
    "    )\n",
    ")\n",
    "print(\"---\")\n",
    "print(seqres)\n",
    "print(\"-----\")\n",
    "print(\n",
    "    \" \".join(\n",
    "        [\n",
    "            res.GetName()\n",
    "            for res in oechem.OEGetResidues(initial_prot)\n",
    "            if res.GetExtChainID() == \"B\"\n",
    "        ]\n",
    "    )\n",
    ")\n",
    "print(\"---\")\n",
    "print(\n",
    "    \" \".join(\n",
    "        [\n",
    "            res.GetName()\n",
    "            for res in oechem.OEGetResidues(du_prot)\n",
    "            if res.GetExtChainID() == \"B\"\n",
    "        ]\n",
    "    )\n",
    ")\n",
    "print(\"---\")\n",
    "print(seqres)"
   ]
  },
  {
   "cell_type": "code",
   "execution_count": 65,
   "id": "98940723-ee4e-4b75-8ae8-d3450c30eef0",
   "metadata": {},
   "outputs": [],
   "source": [
    "for i, (init_res, du_res, seqres_res) in enumerate(\n",
    "    zip(\n",
    "        [\n",
    "            res.GetName()\n",
    "            for res in oechem.OEGetResidues(initial_prot)\n",
    "            if res.GetExtChainID() == \"A\"\n",
    "        ],\n",
    "        [\n",
    "            res.GetName()\n",
    "            for res in oechem.OEGetResidues(du_prot)\n",
    "            if res.GetExtChainID() == \"A\"\n",
    "        ],\n",
    "        seqres_list,\n",
    "    )\n",
    "):\n",
    "    if (\n",
    "        (init_res != du_res)\n",
    "        or (init_res != seqres_res)\n",
    "        or (du_res != seqres_res)\n",
    "    ):\n",
    "        print(i, init_res, du_res, seqres_res, flush=True)"
   ]
  }
 ],
 "metadata": {
  "kernelspec": {
   "display_name": "Python 3 (ipykernel)",
   "language": "python",
   "name": "python3"
  },
  "language_info": {
   "codemirror_mode": {
    "name": "ipython",
    "version": 3
   },
   "file_extension": ".py",
   "mimetype": "text/x-python",
   "name": "python",
   "nbconvert_exporter": "python",
   "pygments_lexer": "ipython3",
   "version": "3.10.8"
  }
 },
 "nbformat": 4,
 "nbformat_minor": 5
}
