{
 "cells": [
  {
   "cell_type": "code",
   "execution_count": null,
   "id": "7f96bab6-e2ab-4a06-b302-c6e85a4bd2f6",
   "metadata": {},
   "outputs": [],
   "source": [
    "import re\n",
    "import sys\n",
    "\n",
    "import yaml\n",
    "from openeye import oechem, oespruce\n",
    "\n",
    "sys.path.append(\"../\")\n",
    "from asapdiscovery.data import pdb\n",
    "from asapdiscovery.data.fragalysis import parse_xtal\n",
    "from asapdiscovery.data.openeye import (\n",
    "    load_openeye_pdb,\n",
    "    save_openeye_pdb,\n",
    "    split_openeye_mol,\n",
    ")\n",
    "from asapdiscovery.data.schema import CrystalCompoundData\n",
    "from asapdiscovery.data.utils import edit_pdb_file, seqres_to_res_list\n",
    "from asapdiscovery.docking.modeling import (\n",
    "    align_receptor,\n",
    "    du_to_complex,\n",
    "    mutate_residues,\n",
    "    prep_receptor,\n",
    "    remove_extra_ligands,\n",
    ")"
   ]
  },
  {
   "cell_type": "code",
   "execution_count": null,
   "id": "307a5158-8dd7-499d-8987-e748ebfbb355",
   "metadata": {},
   "outputs": [],
   "source": [
    "frag_dir = \"/lila/data/chodera/asap-datasets/mpro_fragalysis_2022_10_12/aligned\"\n",
    "main_dir = \"/lila/data/chodera/kaminowb/stereochemistry_pred/mers/\"\n",
    "frag_fn = f\"{main_dir}/test_sequence_metadata_xtal.csv\"\n",
    "xtal_compounds = parse_xtal(frag_fn, frag_dir)\n",
    "assert len(xtal_compounds) == 1\n",
    "xtal = xtal_compounds[0]\n",
    "## From prep_proteins.py\n",
    "re_pat = rf\"/{xtal.dataset}_([0-9][A-Z])/\"\n",
    "try:\n",
    "    frag_chain = re.search(re_pat, xtal.str_fn).groups()[0]\n",
    "except AttributeError:\n",
    "    print(\n",
    "        f\"Regex chain search failed: {re_pat}, {xtal.str_fn}.\",\n",
    "        \"Using A as default.\",\n",
    "        flush=True,\n",
    "    )\n",
    "    frag_chain = \"0A\"\n",
    "xtal.output_name = f\"{xtal.dataset}_{frag_chain}_{xtal.compound_id}\"\n",
    "\n",
    "## We also want the chain in the form of a single letter ('A', 'B'), etc\n",
    "xtal.active_site_chain = frag_chain[-1]"
   ]
  },
  {
   "cell_type": "code",
   "execution_count": null,
   "id": "541b4280-f53e-4efc-b127-93d470bfbd72",
   "metadata": {},
   "outputs": [],
   "source": [
    "print(xtal, flush=True)"
   ]
  },
  {
   "cell_type": "code",
   "execution_count": null,
   "id": "c482351c-688e-4747-99ea-a8779a35d64d",
   "metadata": {},
   "outputs": [],
   "source": [
    "seqres_fn = \"../metadata/mpro_sars2_seqres.yaml\"\n",
    "with open(seqres_fn) as f:\n",
    "    seqres_dict = yaml.safe_load(f)\n",
    "seqres = seqres_dict[\"SEQRES\"]\n",
    "seqres_list = seqres_to_res_list(seqres)\n",
    "seqres_list[3] = \"GLY\"\n",
    "seqres = \" \".join(seqres_list)\n",
    "print(seqres_list, flush=True)\n",
    "print(seqres, flush=True)\n",
    "print(len(seqres_list), flush=True)"
   ]
  },
  {
   "cell_type": "code",
   "execution_count": null,
   "id": "cc12e9a3-1d3e-4080-aea5-5b958a09c0a4",
   "metadata": {},
   "outputs": [],
   "source": [
    "initial_complex = load_openeye_pdb(xtal.str_fn)\n",
    "initial_split = split_openeye_mol(initial_complex)\n",
    "initial_prot = initial_split[\"pro\"]\n",
    "prot_seq = [\n",
    "    res.GetName()\n",
    "    for res in oechem.OEGetResidues(initial_prot)\n",
    "    if (res.GetExtChainID() == \"A\")\n",
    "    # and (res.GetName() != \"DMS\")\n",
    "    # and (res.GetName() != \"LIG\")\n",
    "]\n",
    "print(prot_seq)\n",
    "print(len(prot_seq))"
   ]
  },
  {
   "cell_type": "code",
   "execution_count": null,
   "id": "adee0d95-e27b-434f-a7c0-06efe78b28d3",
   "metadata": {},
   "outputs": [],
   "source": [
    "metadata = oespruce.OEStructureMetadata()\n",
    "all_prot_chains = {\n",
    "    res.GetExtChainID() for res in oechem.OEGetResidues(initial_prot)\n",
    "}\n",
    "for chain in all_prot_chains:\n",
    "    seq_metadata = oespruce.OESequenceMetadata()\n",
    "    seq_metadata.SetChainID(chain)\n",
    "    seq_metadata.SetSequence(seqres)\n",
    "    metadata.AddSequenceMetadata(seq_metadata)\n",
    "for seq in metadata.GetSequenceMetadata():\n",
    "    print(seq.GetChainID())\n",
    "    print(seq.GetSequence())"
   ]
  },
  {
   "cell_type": "code",
   "execution_count": null,
   "id": "e7b6f675-2753-4bed-88e8-e6e6ed7f8d57",
   "metadata": {},
   "outputs": [],
   "source": [
    "loop_db = \"/lila/home/kaminowb/.openeye/rcsb_spruce.loop_db\""
   ]
  },
  {
   "cell_type": "code",
   "execution_count": null,
   "id": "4b72fc63-6915-4779-8755-2cf7d2a5b3ed",
   "metadata": {},
   "outputs": [],
   "source": [
    "## Set up DU building options\n",
    "opts = oespruce.OEMakeDesignUnitOptions()\n",
    "opts.SetSuperpose(False)\n",
    "if loop_db is not None:\n",
    "    opts.GetPrepOptions().GetBuildOptions().GetLoopBuilderOptions().SetLoopDBFilename(\n",
    "        loop_db\n",
    "    )\n",
    "\n",
    "## Options set from John's function ########################################\n",
    "## (https://github.com/FoldingAtHome/covid-moonshot/blob/454098f4255467f4655102e0330ebf9da0d09ccb/synthetic-enumeration/sprint-14-quinolones/00-prep-receptor.py)\n",
    "opts.GetPrepOptions().SetStrictProtonationMode(True)\n",
    "# set minimal number of ligand atoms to 5, e.g. a 5-membered ring fragment\\\n",
    "opts.GetSplitOptions().SetMinLigAtoms(5)\n",
    "\n",
    "# also consider alternate locations outside binding pocket, important for later filtering\n",
    "opts.GetPrepOptions().GetEnumerateSitesOptions().SetCollapseNonSiteAlts(False)\n",
    "\n",
    "# alignment options, only matches are important\n",
    "opts.GetPrepOptions().GetBuildOptions().GetLoopBuilderOptions().SetSeqAlignMethod(\n",
    "    oechem.OESeqAlignmentMethod_Identity\n",
    ")\n",
    "opts.GetPrepOptions().GetBuildOptions().GetLoopBuilderOptions().SetSeqAlignGapPenalty(\n",
    "    -1\n",
    ")\n",
    "opts.GetPrepOptions().GetBuildOptions().GetLoopBuilderOptions().SetSeqAlignExtendPenalty(\n",
    "    0\n",
    ")\n",
    "\n",
    "# Both N- and C-termini should be zwitterionic\n",
    "# Mpro cleaves its own N- and C-termini\n",
    "# See https://www.pnas.org/content/113/46/12997\n",
    "opts.GetPrepOptions().GetBuildOptions().SetCapNTermini(False)\n",
    "opts.GetPrepOptions().GetBuildOptions().SetCapCTermini(False)\n",
    "# Don't allow truncation of termini, since force fields don't have\n",
    "#  parameters for this\n",
    "opts.GetPrepOptions().GetBuildOptions().GetCapBuilderOptions().SetAllowTruncate(\n",
    "    False\n",
    ")\n",
    "# Build loops and sidechains\n",
    "opts.GetPrepOptions().GetBuildOptions().SetBuildLoops(True)\n",
    "opts.GetPrepOptions().GetBuildOptions().SetBuildSidechains(True)\n",
    "\n",
    "# Generate ligand tautomers\n",
    "opts.GetPrepOptions().GetProtonateOptions().SetGenerateTautomers(True)\n",
    "\n",
    "## Allow spruce to build tails at the ends of the protein\n",
    "opts.GetPrepOptions().GetBuildOptions().GetLoopBuilderOptions().SetBuildTails(\n",
    "    True\n",
    ")"
   ]
  },
  {
   "cell_type": "code",
   "execution_count": null,
   "id": "f721ae1a-c9d2-41cc-84bb-a170eb244edc",
   "metadata": {},
   "outputs": [],
   "source": [
    "initial_bound = initial_prot.CreateCopy()\n",
    "oechem.OEAddMols(initial_bound, initial_split[\"lig\"].CreateCopy())\n",
    "dus = oespruce.OEMakeDesignUnits(initial_bound, metadata, opts)\n",
    "print(dus)"
   ]
  },
  {
   "cell_type": "code",
   "execution_count": null,
   "id": "d2a68280-7a44-41d5-982a-942c1660f300",
   "metadata": {},
   "outputs": [],
   "source": [
    "for du in dus:\n",
    "    print(du.HasProtein(), du.HasLigand())"
   ]
  },
  {
   "cell_type": "code",
   "execution_count": null,
   "id": "03314257-50da-47c1-8053-41e0f3d31f8c",
   "metadata": {},
   "outputs": [],
   "source": [
    "assert du.HasPDBMetaData()"
   ]
  },
  {
   "cell_type": "code",
   "execution_count": null,
   "id": "362a423f-0aab-46f2-b5a1-581732c1b54f",
   "metadata": {},
   "outputs": [],
   "source": [
    "complex_mol = du_to_complex(du, include_solvent=True)\n",
    "# save_openeye_pdb(complex_mol, \"../../test_seqres_du.pdb\")\n",
    "# ofs = oechem.oemolostream()\n",
    "# ofs.open(\"../../test_seqres_du.pdb\")\n",
    "# print(oechem.OEWritePDBFile(ofs, complex_mol))"
   ]
  },
  {
   "cell_type": "code",
   "execution_count": null,
   "id": "85ec32d2-4880-4b10-991d-e96ac1d301e4",
   "metadata": {},
   "outputs": [],
   "source": [
    "print(oechem.OEHasPDBData(complex_mol))"
   ]
  },
  {
   "cell_type": "code",
   "execution_count": null,
   "id": "5e504186-42ad-4a6b-91b7-8479cd517373",
   "metadata": {},
   "outputs": [],
   "source": [
    "if not oechem.OEHasPDBData(complex_mol, \"SEQRES\"):\n",
    "    for seqres_line in seqres_dict[\"SEQRES\"].split(\"\\n\"):\n",
    "        if seqres_line != \"\":\n",
    "            oechem.OEAddPDBData(complex_mol, \"SEQRES\", seqres_line[6:])"
   ]
  },
  {
   "cell_type": "code",
   "execution_count": null,
   "id": "25f89075-00b9-415e-9d5c-26adcbde65ca",
   "metadata": {},
   "outputs": [],
   "source": [
    "save_openeye_pdb(complex_mol, \"../../test_seqres_du.pdb\")"
   ]
  },
  {
   "cell_type": "code",
   "execution_count": null,
   "id": "f4e6c708-eec2-4fc6-8540-e881c2bf2ed6",
   "metadata": {},
   "outputs": [],
   "source": [
    "du_prot_mol = oechem.OEGraphMol()\n",
    "print(du.GetProtein(du_prot_mol))\n",
    "print(du.GetPDBMetaData(du_prot_mol))\n",
    "save_openeye_pdb(du_prot_mol, \"../../test_seqres_du_prot.pdb\")"
   ]
  },
  {
   "cell_type": "code",
   "execution_count": null,
   "id": "e9b4f0b9-20c1-4057-99c8-c9506fa617b4",
   "metadata": {},
   "outputs": [],
   "source": [
    "for d in complex_mol.GetDataIter():\n",
    "    t = d.GetTag()\n",
    "    print(t, d, d.GetDataType())"
   ]
  },
  {
   "cell_type": "code",
   "execution_count": null,
   "id": "98940723-ee4e-4b75-8ae8-d3450c30eef0",
   "metadata": {},
   "outputs": [],
   "source": [
    "for i, (init_res, du_res, seqres_res) in enumerate(\n",
    "    zip(\n",
    "        [\n",
    "            res.GetName()\n",
    "            for res in oechem.OEGetResidues(initial_prot)\n",
    "            if res.GetExtChainID() == \"A\"\n",
    "        ],\n",
    "        [\n",
    "            res.GetName()\n",
    "            for res in oechem.OEGetResidues(du_prot)\n",
    "            if res.GetExtChainID() == \"A\"\n",
    "        ],\n",
    "        seqres_list,\n",
    "    )\n",
    "):\n",
    "    if (\n",
    "        (init_res != du_res)\n",
    "        or (init_res != seqres_res)\n",
    "        or (du_res != seqres_res)\n",
    "    ):\n",
    "        print(i, init_res, du_res, seqres_res, flush=True)"
   ]
  }
 ],
 "metadata": {
  "kernelspec": {
   "display_name": "Python 3 (ipykernel)",
   "language": "python",
   "name": "python3"
  },
  "language_info": {
   "codemirror_mode": {
    "name": "ipython",
    "version": 3
   },
   "file_extension": ".py",
   "mimetype": "text/x-python",
   "name": "python",
   "nbconvert_exporter": "python",
   "pygments_lexer": "ipython3",
   "version": "3.10.8"
  }
 },
 "nbformat": 4,
 "nbformat_minor": 5
}
