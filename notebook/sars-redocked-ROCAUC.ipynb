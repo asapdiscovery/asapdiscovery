{
 "cells": [
  {
   "cell_type": "markdown",
   "id": "6c63c46c",
   "metadata": {},
   "source": [
    "# Imports"
   ]
  },
  {
   "cell_type": "code",
   "execution_count": null,
   "id": "0efced53",
   "metadata": {},
   "outputs": [],
   "source": [
    "import plotly.express as ex\n",
    "import pandas as pd\n",
    "import numpy as np\n",
    "import math, sys, os\n",
    "from collections import Counter\n",
    "sys.path.append('../')\n",
    "from asapdiscovery.docking import rocauc\n",
    "from asapdiscovery.docking import plotting as pl\n",
    "fn = \"/Users/alexpayne/Scientific_Projects/local_test/datasets/sars-redocked.csv\"\n",
    "fn = \"/Volumes/Rohirrim/local_test/datasets/sars-redocked.csv\"\n",
    "df = pd.read_csv(fn).fillna(\"-1\")"
   ]
  },
  {
   "cell_type": "code",
   "execution_count": null,
   "id": "7069ac10",
   "metadata": {},
   "outputs": [],
   "source": [
    "from importlib import reload\n",
    "reload(rocauc)\n",
    "reload(pl)"
   ]
  },
  {
   "cell_type": "code",
   "execution_count": null,
   "id": "a1493c70",
   "metadata": {},
   "outputs": [],
   "source": [
    "rocks = rocauc.Rocks(fn, [\"MCSS_Rank\", \"POSIT_R\", \"Chemgauss4\"], \n",
    "                 \"RMSD\", \n",
    "                 100,\n",
    "                100)"
   ]
  },
  {
   "cell_type": "code",
   "execution_count": null,
   "id": "6f3f6228",
   "metadata": {},
   "outputs": [],
   "source": [
    "rocks.score_list"
   ]
  },
  {
   "cell_type": "code",
   "execution_count": null,
   "id": "6a7e7ac4",
   "metadata": {},
   "outputs": [],
   "source": [
    "rocks.get_aucs()"
   ]
  },
  {
   "cell_type": "code",
   "execution_count": null,
   "id": "35370b3b",
   "metadata": {},
   "outputs": [],
   "source": [
    "rocks.combine_dfs()"
   ]
  },
  {
   "cell_type": "code",
   "execution_count": null,
   "id": "45b84943",
   "metadata": {},
   "outputs": [],
   "source": [
    "rocks.rock_dict"
   ]
  },
  {
   "cell_type": "code",
   "execution_count": null,
   "id": "9a9c34b8",
   "metadata": {},
   "outputs": [],
   "source": [
    "rocks.score_list"
   ]
  },
  {
   "cell_type": "code",
   "execution_count": null,
   "id": "2ec01a20",
   "metadata": {},
   "outputs": [],
   "source": [
    "rocks.poses_df"
   ]
  },
  {
   "cell_type": "code",
   "execution_count": null,
   "id": "67aaa680",
   "metadata": {},
   "outputs": [],
   "source": [
    "pl.plot_poses_auc(rocks.poses_df)"
   ]
  },
  {
   "cell_type": "code",
   "execution_count": null,
   "id": "c43ac240",
   "metadata": {},
   "outputs": [],
   "source": [
    "rocks.get_auc_cis()"
   ]
  },
  {
   "cell_type": "code",
   "execution_count": null,
   "id": "20779bbc",
   "metadata": {},
   "outputs": [],
   "source": [
    "rocks.model_df"
   ]
  },
  {
   "cell_type": "code",
   "execution_count": null,
   "id": "faf70906",
   "metadata": {},
   "outputs": [],
   "source": [
    "ex.bar(rocks.model_df, \n",
    "       x=\"Score_Type\", \n",
    "       y=\"AUC\", \n",
    "       error_y=\"Upper_Bound\", \n",
    "       error_y_minus=\"Lower_Bound\")"
   ]
  },
  {
   "cell_type": "code",
   "execution_count": null,
   "id": "6ff1cc9e",
   "metadata": {},
   "outputs": [],
   "source": [
    "pl.plot_precision_recall(rocks.poses_df)"
   ]
  },
  {
   "cell_type": "code",
   "execution_count": null,
   "id": "c5dc9889",
   "metadata": {},
   "outputs": [],
   "source": [
    "ex.scatter(rocks.df, \n",
    "           x=\"POSIT_R\", \n",
    "           y=\"RMSD\", \n",
    "           color=\"Chemgauss4\", \n",
    "           hover_data=[\"Compound_ID\",\n",
    "                       \"Crystal_ID\", \n",
    "                       \"Reference\", \n",
    "                       \"Chain_ID\"], \n",
    "          )"
   ]
  },
  {
   "cell_type": "code",
   "execution_count": null,
   "id": "f227e315",
   "metadata": {},
   "outputs": [],
   "source": [
    "ex.density_heatmap(rocks.df,\n",
    "                  x=\"POSIT_R\",\n",
    "                  y=\"RMSD\")"
   ]
  },
  {
   "cell_type": "code",
   "execution_count": null,
   "id": "aec7735a",
   "metadata": {},
   "outputs": [],
   "source": [
    "positr = rocks.rock_dict[\"POSIT_R\"]    "
   ]
  },
  {
   "cell_type": "code",
   "execution_count": null,
   "id": "a7977ad4",
   "metadata": {},
   "outputs": [],
   "source": [
    "positr.get_score_range(10)"
   ]
  },
  {
   "cell_type": "code",
   "execution_count": null,
   "id": "0a832fa3",
   "metadata": {},
   "outputs": [],
   "source": []
  }
 ],
 "metadata": {
  "kernelspec": {
   "display_name": "Python 3 (ipykernel)",
   "language": "python",
   "name": "python3"
  },
  "language_info": {
   "codemirror_mode": {
    "name": "ipython",
    "version": 3
   },
   "file_extension": ".py",
   "mimetype": "text/x-python",
   "name": "python",
   "nbconvert_exporter": "python",
   "pygments_lexer": "ipython3",
   "version": "3.8.13"
  },
  "toc": {
   "base_numbering": 1,
   "nav_menu": {},
   "number_sections": true,
   "sideBar": true,
   "skip_h1_title": false,
   "title_cell": "Table of Contents",
   "title_sidebar": "Contents",
   "toc_cell": false,
   "toc_position": {},
   "toc_section_display": true,
   "toc_window_display": true
  }
 },
 "nbformat": 4,
 "nbformat_minor": 5
}