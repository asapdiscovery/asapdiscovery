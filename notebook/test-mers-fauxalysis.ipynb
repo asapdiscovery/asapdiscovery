{
 "cells": [
  {
   "cell_type": "markdown",
   "metadata": {},
   "source": [
    "# Imports and Data Loading"
   ]
  },
  {
   "cell_type": "code",
   "execution_count": null,
   "metadata": {},
   "outputs": [],
   "source": [
    "import os, pandas as pd, numpy as np"
   ]
  },
  {
   "cell_type": "code",
   "execution_count": null,
   "metadata": {},
   "outputs": [],
   "source": [
    "docking_results_path = \"/Users/alexpayne/Scientific_Projects/local_test/mers_hallucination_hybrid/\""
   ]
  },
  {
   "cell_type": "code",
   "execution_count": null,
   "metadata": {},
   "outputs": [],
   "source": [
    "csv_name = \"all_results.csv\""
   ]
  },
  {
   "cell_type": "code",
   "execution_count": null,
   "metadata": {},
   "outputs": [],
   "source": [
    "csv_path = os.path.join(docking_results_path, csv_name)"
   ]
  },
  {
   "cell_type": "code",
   "execution_count": null,
   "metadata": {},
   "outputs": [],
   "source": [
    "os.path.exists(csv_path)"
   ]
  },
  {
   "cell_type": "code",
   "execution_count": null,
   "metadata": {},
   "outputs": [],
   "source": [
    "df = pd.read_csv(csv_path)"
   ]
  },
  {
   "cell_type": "code",
   "execution_count": null,
   "metadata": {},
   "outputs": [],
   "source": [
    "df.head()"
   ]
  },
  {
   "cell_type": "code",
   "execution_count": null,
   "metadata": {},
   "outputs": [],
   "source": [
    "df"
   ]
  },
  {
   "cell_type": "code",
   "execution_count": null,
   "metadata": {},
   "outputs": [],
   "source": []
  },
  {
   "cell_type": "code",
   "execution_count": null,
   "metadata": {},
   "outputs": [],
   "source": [
    "df"
   ]
  },
  {
   "cell_type": "markdown",
   "metadata": {},
   "source": [
    "# Basic Plotting"
   ]
  },
  {
   "cell_type": "code",
   "execution_count": null,
   "metadata": {},
   "outputs": [],
   "source": [
    "import plotly.express as px"
   ]
  },
  {
   "cell_type": "markdown",
   "metadata": {},
   "source": [
    "## RMSD vs Chemgauss4"
   ]
  },
  {
   "cell_type": "code",
   "execution_count": null,
   "metadata": {},
   "outputs": [],
   "source": [
    "px.density_heatmap(df, \n",
    "           x=\"docked_RMSD\", \n",
    "           y=\"chemgauss4_score\", \n",
    "#            color=\"POSIT_prob\", \n",
    "#            hover_data=[\"MERS_structure\", \n",
    "#                        \"SARS_ligand\", \n",
    "#                        ], \n",
    "          )"
   ]
  },
  {
   "cell_type": "markdown",
   "metadata": {},
   "source": [
    "# How many structures < 2 Å do we have per compound?"
   ]
  },
  {
   "cell_type": "markdown",
   "metadata": {},
   "source": [
    "### don't understand how this lambda function works but it does seem to work"
   ]
  },
  {
   "cell_type": "code",
   "execution_count": null,
   "metadata": {},
   "outputs": [],
   "source": [
    "RMSD_gt0 = df.groupby('SARS_ligand')[['docked_RMSD']].apply(lambda x: x[(x > 0)].count())\n",
    "RMSD_gt0_lt2 = df.groupby('SARS_ligand')[['docked_RMSD']].apply(lambda x: x[(x > 0) & (x <= 2)].count())\n",
    "RMSD_mean = df.groupby('SARS_ligand')[['docked_RMSD']].apply(lambda x: x[(x > 0)].mean())\n",
    "RMSD_min = df.groupby('SARS_ligand')[['docked_RMSD']].apply(lambda x: x[(x > 0)].min())\n",
    "compound_df = pd.concat([RMSD_gt0, RMSD_gt0_lt2, RMSD_mean, RMSD_min], axis=1)\n",
    "compound_df.columns = [\"Count_Calc_RMSD\", \"Count_Good_RMSD\", \"Mean\", \"Min\"]\n",
    "compound_df[\"Compound ID\"] = compound_df.index"
   ]
  },
  {
   "cell_type": "code",
   "execution_count": null,
   "metadata": {},
   "outputs": [],
   "source": [
    "compound_df"
   ]
  },
  {
   "cell_type": "code",
   "execution_count": null,
   "metadata": {},
   "outputs": [],
   "source": []
  },
  {
   "cell_type": "code",
   "execution_count": null,
   "metadata": {},
   "outputs": [],
   "source": []
  },
  {
   "cell_type": "code",
   "execution_count": null,
   "metadata": {},
   "outputs": [],
   "source": [
    "RMSD_min = df.groupby('SARS_ligand')[['docked_RMSD']].apply(lambda x: x[(x > 0)].min())"
   ]
  },
  {
   "cell_type": "code",
   "execution_count": null,
   "metadata": {},
   "outputs": [],
   "source": [
    "RMSD_min"
   ]
  },
  {
   "cell_type": "code",
   "execution_count": null,
   "metadata": {},
   "outputs": [],
   "source": [
    "set(RMSD_min.MERS_structure)"
   ]
  },
  {
   "cell_type": "code",
   "execution_count": null,
   "metadata": {},
   "outputs": [],
   "source": [
    "compound_df.head()"
   ]
  },
  {
   "cell_type": "code",
   "execution_count": null,
   "metadata": {},
   "outputs": [],
   "source": [
    "compound_df[compound_df.Count_Calc_RMSD == 0]"
   ]
  },
  {
   "cell_type": "code",
   "execution_count": null,
   "metadata": {},
   "outputs": [],
   "source": [
    "compound_df[compound_df.Count_Good_RMSD == 0]"
   ]
  },
  {
   "cell_type": "code",
   "execution_count": null,
   "metadata": {},
   "outputs": [],
   "source": [
    "compound_df[compound_df.Count_Calc_RMSD == 10]"
   ]
  },
  {
   "cell_type": "markdown",
   "metadata": {},
   "source": [
    "## For how many compounds are we just not able to calculate RMSD?"
   ]
  },
  {
   "cell_type": "code",
   "execution_count": null,
   "metadata": {},
   "outputs": [],
   "source": [
    "fig = px.bar(compound_df.sort_values(\"Count_Calc_RMSD\"), y='Count_Calc_RMSD')\n",
    "fig.update_traces(width=1)\n",
    "fig.update_layout(height=800, \n",
    "                  width=12600, \n",
    "                  font_size=12,\n",
    "#                  xaxis={'categoryorder':'category ascending'}\n",
    "                 )\n",
    "fig.show()\n",
    "fig.write_image(\"../figures/compounds_missing_RMSD_calcs.png\")"
   ]
  },
  {
   "cell_type": "code",
   "execution_count": null,
   "metadata": {},
   "outputs": [],
   "source": [
    "px.histogram(compound_df, x='Count_Calc_RMSD')"
   ]
  },
  {
   "cell_type": "code",
   "execution_count": null,
   "metadata": {},
   "outputs": [],
   "source": [
    "px.histogram(compound_df, x='Count_Good_RMSD')"
   ]
  },
  {
   "cell_type": "code",
   "execution_count": null,
   "metadata": {},
   "outputs": [],
   "source": [
    "px.histogram(compound_df, x='Mean')"
   ]
  },
  {
   "cell_type": "code",
   "execution_count": null,
   "metadata": {},
   "outputs": [],
   "source": []
  },
  {
   "cell_type": "markdown",
   "metadata": {},
   "source": [
    "### How many < 2Å structures per compound?"
   ]
  },
  {
   "cell_type": "code",
   "execution_count": null,
   "metadata": {},
   "outputs": [],
   "source": [
    "fig = px.bar(compound_df.sort_values(\"Count_Good_RMSD\"), y=\"Count_Good_RMSD\")\n",
    "fig.update_traces(width=1)\n",
    "fig.update_layout(height=600, \n",
    "                  width=12600, \n",
    "                  font_size=12,\n",
    "#                  xaxis={'categoryorder':'category ascending'}\n",
    "                 )\n",
    "fig.show()\n",
    "fig.write_image(\"../figures/how_many_successful_complexes_per_compound_id.png\")"
   ]
  },
  {
   "cell_type": "markdown",
   "metadata": {},
   "source": [
    "## Average RMSD per compound?"
   ]
  },
  {
   "cell_type": "code",
   "execution_count": null,
   "metadata": {},
   "outputs": [],
   "source": [
    "fig = px.bar(compound_df.sort_values(\"Mean\"), y=\"Mean\")\n",
    "fig.update_traces(width=1)\n",
    "fig.update_layout(height=600, \n",
    "                  width=12600, \n",
    "                  font_size=12,\n",
    "#                  xaxis={'categoryorder':'category ascending'}\n",
    "                 )\n",
    "fig.show()\n",
    "fig.write_image(\"../figures/avg_rmsd_per_compound_id.png\")"
   ]
  },
  {
   "cell_type": "markdown",
   "metadata": {},
   "source": [
    "## Scatter plot"
   ]
  },
  {
   "cell_type": "code",
   "execution_count": null,
   "metadata": {},
   "outputs": [],
   "source": [
    "fig = px.scatter(compound_df,\n",
    "          x=\"Mean\",\n",
    "          y=\"Count_Good_RMSD\",\n",
    "           color=\"Count_Calc_RMSD\",\n",
    "          hover_data=[\"Compound ID\"],\n",
    "          color_continuous_scale=\"Viridis_R\")\n",
    "fig.update_layout(height=800,\n",
    "                 width=1200,\n",
    "                 font_size=16)\n",
    "fig.show()\n",
    "fig.write_image(\"../figures/compound_results_scatterplot.png\")"
   ]
  },
  {
   "cell_type": "markdown",
   "metadata": {},
   "source": [
    "## analyzing specific examples"
   ]
  },
  {
   "cell_type": "code",
   "execution_count": null,
   "metadata": {},
   "outputs": [],
   "source": [
    "RMSD_count[RMSD_count.index == 'Mpro-z7vh8_0A_bound']"
   ]
  },
  {
   "cell_type": "code",
   "execution_count": null,
   "metadata": {},
   "outputs": [],
   "source": []
  },
  {
   "cell_type": "markdown",
   "metadata": {},
   "source": [
    "# Try Per Compound Analysis with API"
   ]
  },
  {
   "cell_type": "code",
   "execution_count": null,
   "metadata": {},
   "outputs": [],
   "source": [
    "sys.path.append(\"../\")\n",
    "from asapdiscovery.docking import analysis as a\n",
    "from importlib import reload"
   ]
  },
  {
   "cell_type": "code",
   "execution_count": null,
   "metadata": {},
   "outputs": [],
   "source": [
    "reload(a)"
   ]
  },
  {
   "cell_type": "code",
   "execution_count": null,
   "metadata": {},
   "outputs": [],
   "source": [
    "dr = a.DockingResults(\"/Users/alexpayne/Scientific_Projects/local_test/mers_hallucination_hybrid/all_results.csv\")\n",
    "dr.df = dr.df.drop(\"Unnamed: 0\", axis=1)\n",
    "dr.df[\"MERS_structure\"] = dr.df[\"MERS_structure\"].apply(lambda x: x.split(\"_\")[1])\n",
    "dr.df"
   ]
  },
  {
   "cell_type": "code",
   "execution_count": null,
   "metadata": {},
   "outputs": [],
   "source": [
    "dr.df.columns = [\"Compound_ID\", \"Structure_Source\", \"Docked_File\", \"RMSD\", \"POSIT\", \"Chemgauss4\"]"
   ]
  },
  {
   "cell_type": "code",
   "execution_count": null,
   "metadata": {},
   "outputs": [],
   "source": [
    "dr.df"
   ]
  },
  {
   "cell_type": "code",
   "execution_count": null,
   "metadata": {},
   "outputs": [],
   "source": [
    "dr.get_grouped_df(groupby_ID_column=\"Compound_ID\")"
   ]
  },
  {
   "cell_type": "code",
   "execution_count": null,
   "metadata": {},
   "outputs": [],
   "source": [
    "dr.get_compound_df()"
   ]
  },
  {
   "cell_type": "code",
   "execution_count": null,
   "metadata": {},
   "outputs": [],
   "source": [
    "dr.get_structure_df()"
   ]
  },
  {
   "cell_type": "code",
   "execution_count": null,
   "metadata": {},
   "outputs": [],
   "source": []
  },
  {
   "cell_type": "code",
   "execution_count": null,
   "metadata": {},
   "outputs": [],
   "source": [
    "dr.structure_df"
   ]
  },
  {
   "cell_type": "code",
   "execution_count": null,
   "metadata": {},
   "outputs": [],
   "source": [
    "px.scatter(dr.compound_df,\n",
    "          x=\"Mean_RMSD\",\n",
    "          y=\"Mean_Chemgauss4\")"
   ]
  },
  {
   "cell_type": "code",
   "execution_count": null,
   "metadata": {},
   "outputs": [],
   "source": [
    "px.scatter(dr.compound_df,\n",
    "          x=\"Min_RMSD\",\n",
    "          y=\"Min_Chemgauss4\")"
   ]
  },
  {
   "cell_type": "code",
   "execution_count": null,
   "metadata": {},
   "outputs": [],
   "source": [
    "px.scatter(dr.structure_df,\n",
    "          x=\"Min_RMSD\",\n",
    "          y=\"Min_Chemgauss4\",\n",
    "          color=\"Resolution\")"
   ]
  },
  {
   "cell_type": "code",
   "execution_count": null,
   "metadata": {},
   "outputs": [],
   "source": [
    "px.scatter(dr.structure_df,\n",
    "          x=\"Min_RMSD\",\n",
    "          y=\"Min_Chemgauss4\",\n",
    "          color=\"Structure_Source\")"
   ]
  },
  {
   "cell_type": "code",
   "execution_count": null,
   "metadata": {},
   "outputs": [],
   "source": [
    "px.scatter(dr.compound_df,\n",
    "           x=\"Not_NA_RMSD\",\n",
    "           y=\"Not_NA_Chemgauss4\",)"
   ]
  },
  {
   "cell_type": "code",
   "execution_count": null,
   "metadata": {},
   "outputs": [],
   "source": [
    "px.histogram(dr.compound_df,\n",
    "            x=\"Not_NA_RMSD\")"
   ]
  },
  {
   "cell_type": "code",
   "execution_count": null,
   "metadata": {},
   "outputs": [],
   "source": []
  },
  {
   "cell_type": "markdown",
   "metadata": {},
   "source": [
    "## test lambda function"
   ]
  },
  {
   "cell_type": "code",
   "execution_count": null,
   "metadata": {},
   "outputs": [],
   "source": [
    "compound_ID_column = \"Compound_ID\"\n",
    "\n",
    "\n",
    "def get_n_good_score(feature):\n",
    "    if feature == \"RMSD\":\n",
    "        lambda_func = lambda x: x[(x <= 2)].count()\n",
    "    elif feature == \"POSIT\":\n",
    "        lambda_func = lambda x: x[(x > 0.7)].count()\n",
    "    elif feature == \"Chemgauss4\":\n",
    "        lambda_func = lambda x: x[(x < 0)].count()\n",
    "    else:\n",
    "        raise NotImplementedError(f\"good score acquisition not implemented for {feature}\")\n",
    "    return lambda_func\n",
    "# get_good_score(feature)\n",
    "for feature in [\"RMSD\", \"POSIT\", \"Chemgauss4\"]:\n",
    "    print(dr.df.groupby(compound_ID_column)[[feature]].apply(get_good_score(feature)).head())"
   ]
  },
  {
   "cell_type": "code",
   "execution_count": null,
   "metadata": {},
   "outputs": [],
   "source": []
  },
  {
   "cell_type": "code",
   "execution_count": null,
   "metadata": {},
   "outputs": [],
   "source": []
  },
  {
   "cell_type": "markdown",
   "metadata": {},
   "source": [
    "# Were some MERS structures better than others?"
   ]
  },
  {
   "cell_type": "code",
   "execution_count": null,
   "metadata": {},
   "outputs": [],
   "source": [
    "# PDB_structure_mean = df[['docked_RMSD', 'MERS_structure',]].groupby('MERS_structure').mean()\n",
    "PDB_structure_mean = df.groupby('MERS_structure')[['docked_RMSD']].apply(lambda x: x[(x > 0)].mean())\n",
    "# PDB_structure_total = df[['docked_RMSD', 'MERS_structure',]].groupby('MERS_structure').count()\n",
    "PDB_structure_count = df.groupby('MERS_structure')[['docked_RMSD']].apply(lambda x: x[(x > 0) & (x <= 2)].count())\n",
    "\n",
    "# RMSD_gt0_lt2 = df.groupby('SARS_ligand')[['docked_RMSD']].apply(lambda x: x[(x > 0) & (x <= 2)].count())\n",
    "# RMSD_mean = df.groupby('SARS_ligand')[['docked_RMSD']].apply(lambda x: x[(x > 0)].mean())\n",
    "structure_df = pd.concat([PDB_structure_mean, PDB_structure_count], axis=1)\n",
    "structure_df.columns = [\"Mean\", \"Count_Good_RMSD\"]\n",
    "structure_df[\"PDB_ID\"] = [pdb_id.split(\"_\")[1] for pdb_id in structure_df.index]\n",
    "structure_df.index = structure_df.PDB_ID"
   ]
  },
  {
   "cell_type": "code",
   "execution_count": null,
   "metadata": {},
   "outputs": [],
   "source": [
    "structure_df"
   ]
  },
  {
   "cell_type": "code",
   "execution_count": null,
   "metadata": {},
   "outputs": [],
   "source": [
    "with open(\"../scripts/mers_structures.csv\") as f:\n",
    "    mers_structure_df = pd.read_csv(f)"
   ]
  },
  {
   "cell_type": "code",
   "execution_count": null,
   "metadata": {},
   "outputs": [],
   "source": [
    "mers_structure_df"
   ]
  },
  {
   "cell_type": "code",
   "execution_count": null,
   "metadata": {},
   "outputs": [],
   "source": [
    "structure_df[\"Resolution\"] = list(mers_structure_df.Resolution)"
   ]
  },
  {
   "cell_type": "code",
   "execution_count": null,
   "metadata": {},
   "outputs": [],
   "source": [
    "structure_df"
   ]
  },
  {
   "cell_type": "code",
   "execution_count": null,
   "metadata": {},
   "outputs": [],
   "source": [
    "px.scatter(structure_df,\n",
    "          x='Mean',\n",
    "          y='Count_Good_RMSD',\n",
    "           color=\"Resolution\",\n",
    "          hover_data=[\"Resolution\"]\n",
    "          )"
   ]
  },
  {
   "cell_type": "code",
   "execution_count": null,
   "metadata": {},
   "outputs": [],
   "source": [
    "px.scatter(structure_df,\n",
    "          x='Resolution',\n",
    "          y='Count_Good_RMSD',\n",
    "           color=\"Mean\",\n",
    "          hover_data=[\"Resolution\"]\n",
    "          )"
   ]
  },
  {
   "cell_type": "code",
   "execution_count": null,
   "metadata": {},
   "outputs": [],
   "source": [
    "px.bar(structure_df.sort_values(\"Mean\"),\n",
    "       y='Mean',\n",
    "      )"
   ]
  },
  {
   "cell_type": "markdown",
   "metadata": {},
   "source": [
    "# test importing pickle"
   ]
  },
  {
   "cell_type": "code",
   "execution_count": null,
   "metadata": {},
   "outputs": [],
   "source": [
    "import pickle as pkl"
   ]
  },
  {
   "cell_type": "code",
   "execution_count": null,
   "metadata": {},
   "outputs": [],
   "source": [
    "with open(os.path.join(docking_results_path, \"AAR-POS-0daf6b7e-10_0A/rcsb_4RSP/results.pkl\"), \"rb\") as f:\n",
    "    results = pkl.load(f)"
   ]
  },
  {
   "cell_type": "code",
   "execution_count": null,
   "metadata": {},
   "outputs": [],
   "source": [
    "results"
   ]
  },
  {
   "cell_type": "markdown",
   "metadata": {},
   "source": [
    "# Test if using NAN instead of -1 gives nice results"
   ]
  },
  {
   "cell_type": "code",
   "execution_count": null,
   "metadata": {},
   "outputs": [],
   "source": [
    "nandf = df.fillna(float(-1.0))"
   ]
  },
  {
   "cell_type": "code",
   "execution_count": null,
   "metadata": {},
   "outputs": [],
   "source": [
    "nandf"
   ]
  },
  {
   "cell_type": "code",
   "execution_count": null,
   "metadata": {},
   "outputs": [],
   "source": [
    "type(list(set(df.POSIT_prob))[0])"
   ]
  },
  {
   "cell_type": "markdown",
   "metadata": {},
   "source": [
    "## nvm can't get it to work"
   ]
  },
  {
   "cell_type": "code",
   "execution_count": null,
   "metadata": {},
   "outputs": [],
   "source": []
  }
 ],
 "metadata": {
  "kernelspec": {
   "display_name": "Python 3 (ipykernel)",
   "language": "python",
   "name": "python3"
  },
  "language_info": {
   "codemirror_mode": {
    "name": "ipython",
    "version": 3
   },
   "file_extension": ".py",
   "mimetype": "text/x-python",
   "name": "python",
   "nbconvert_exporter": "python",
   "pygments_lexer": "ipython3",
   "version": "3.8.13"
  },
  "toc": {
   "base_numbering": 1,
   "nav_menu": {},
   "number_sections": true,
   "sideBar": true,
   "skip_h1_title": false,
   "title_cell": "Table of Contents",
   "title_sidebar": "Contents",
   "toc_cell": false,
   "toc_position": {
    "height": "calc(100% - 180px)",
    "left": "10px",
    "top": "150px",
    "width": "249px"
   },
   "toc_section_display": true,
   "toc_window_display": true
  }
 },
 "nbformat": 4,
 "nbformat_minor": 1
}