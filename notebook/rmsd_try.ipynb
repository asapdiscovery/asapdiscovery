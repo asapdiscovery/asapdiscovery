{
 "cells": [
  {
   "cell_type": "code",
   "execution_count": 1,
   "id": "6e65a687-dcd4-4924-b34a-03714cebe423",
   "metadata": {},
   "outputs": [],
   "source": [
    "from asapdiscovery.data.openeye import load_openeye_pdb\n",
    "from asapdiscovery.modeling.modeling import superpose_molecule\n",
    "from openeye import oechem\n",
    "from pathlib import Path\n",
    "import os\n",
    "import glob"
   ]
  },
  {
   "cell_type": "code",
   "execution_count": 2,
   "id": "3344675d-5493-4583-bbee-9f529450f154",
   "metadata": {},
   "outputs": [],
   "source": [
    "# Make a list of all pdb files within the directory\n",
    "def find_pdb_files(directory):\n",
    "    pdb_files = []\n",
    "    for root, dirs, files in os.walk(directory):\n",
    "        for file in files:\n",
    "            if file.endswith('.pdb'):\n",
    "                pdb_files.append(os.path.join(root, file))\n",
    "    return pdb_files\n"
   ]
  },
  {
   "cell_type": "markdown",
   "id": "5aa2efd0-31be-4943-8e62-5f6222f5a45b",
   "metadata": {},
   "source": [
    "## Where the pdb be"
   ]
  },
  {
   "cell_type": "code",
   "execution_count": 14,
   "id": "5718c40d-ac7e-45cc-a3df-9eafb5837c5a",
   "metadata": {},
   "outputs": [],
   "source": [
    "results_path = Path(\"/Users/choderalab/asapdiscovery/temp_storage/collabfold_results/\")\n",
    "template = \"/Users/choderalab/asapdiscovery/temp_storage/8e6e.pdb\""
   ]
  },
  {
   "cell_type": "markdown",
   "id": "ab50c08b-ccfc-453e-a93a-a60e8920a823",
   "metadata": {},
   "source": [
    "## Iterate through the pdb files and find the one with the lowest RMSD"
   ]
  },
  {
   "cell_type": "code",
   "execution_count": 15,
   "id": "1a27439e-667e-4618-a22b-4e221f356f9d",
   "metadata": {},
   "outputs": [],
   "source": [
    "# template = path to template file\n",
    "# results = path to the results generated from collabfold\n",
    "def find_pdb_low_rmsd(template, results):\n",
    "    # Load in template file\n",
    "    ref = load_openeye_pdb(template)\n",
    "    lowest = 100\n",
    "    the_pdb = ''\n",
    "    # Iterate through the different structures generated and calculate RMSD\n",
    "    pdb_files = find_pdb_files(results_path)\n",
    "    for pdb_file in pdb_files:\n",
    "        fit = load_openeye_pdb(pdb_file)\n",
    "        rmsd = superpose_molecule(ref,fit)[1]\n",
    "        if rmsd < lowest:\n",
    "            lowest = rmsd\n",
    "            the_pdb = pdb_file\n",
    "    # Return the pdb file with the lowest rmsd value\n",
    "    return the_pdb, lowest"
   ]
  },
  {
   "cell_type": "code",
   "execution_count": 17,
   "id": "176809d4-7635-4855-ad19-3a50a95dcd22",
   "metadata": {},
   "outputs": [
    {
     "data": {
      "text/plain": [
       "('/Users/choderalab/asapdiscovery/temp_storage/collabfold_results/Beta_ORF1a_6790_unrelaxed_rank_001_alphafold2_ptm_model_1_seed_6790.pdb',\n",
       " 0.1882351865053622)"
      ]
     },
     "execution_count": 17,
     "metadata": {},
     "output_type": "execute_result"
    }
   ],
   "source": [
    "find_pdb_low_rmsd(template, results_path)"
   ]
  },
  {
   "cell_type": "code",
   "execution_count": null,
   "id": "6b1977bb-844f-43a7-81c1-b605a6cca489",
   "metadata": {},
   "outputs": [],
   "source": []
  },
  {
   "cell_type": "code",
   "execution_count": null,
   "id": "4a166c42-09d4-4416-bf6d-51be753bdbd1",
   "metadata": {},
   "outputs": [],
   "source": []
  },
  {
   "cell_type": "markdown",
   "id": "3014f8ff-8839-4de7-a399-b0fbb38091b1",
   "metadata": {},
   "source": [
    "## Everything forward is something completely different\n",
    "Attempt to fetch the different pdb structures in a different manner"
   ]
  },
  {
   "cell_type": "code",
   "execution_count": 1,
   "id": "703d9f9c-c9eb-45e5-9e0f-be831ba05157",
   "metadata": {},
   "outputs": [],
   "source": [
    "from pymol import cmd"
   ]
  },
  {
   "cell_type": "code",
   "execution_count": 3,
   "id": "11bff6f2-08c1-4f7c-9543-f3efa866eb79",
   "metadata": {},
   "outputs": [
    {
     "name": "stdout",
     "output_type": "stream",
     "text": [
      " ExecutiveLoad-Detail: Detected mmCIF\n"
     ]
    },
    {
     "data": {
      "text/plain": [
       "'default'"
      ]
     },
     "execution_count": 3,
     "metadata": {},
     "output_type": "execute_result"
    }
   ],
   "source": [
    "# https://pymol.org/dokuwiki/doku.php?id=api:cmd:fetch\n",
    "cmd.fetch(\"8e6e\", name = \"default\")"
   ]
  },
  {
   "cell_type": "code",
   "execution_count": 5,
   "id": "d2eb8000-6e9f-44e8-b5ab-fe0c4438e94c",
   "metadata": {},
   "outputs": [
    {
     "data": {
      "text/plain": [
       "'pdb'"
      ]
     },
     "execution_count": 5,
     "metadata": {},
     "output_type": "execute_result"
    }
   ],
   "source": [
    "cmd.fetch(\"8e6e\", name = \"pdb\", type = \"pdb\")"
   ]
  },
  {
   "cell_type": "code",
   "execution_count": 8,
   "id": "6bf5c5b3-1db5-4037-9f5e-3c11ac13432d",
   "metadata": {},
   "outputs": [
    {
     "data": {
      "text/plain": [
       "'pdb1'"
      ]
     },
     "execution_count": 8,
     "metadata": {},
     "output_type": "execute_result"
    }
   ],
   "source": [
    "cmd.fetch(\"8e6e\", name = \"pdb1\", type = \"pdb1\")"
   ]
  },
  {
   "cell_type": "code",
   "execution_count": 5,
   "id": "01d7d37d-70c0-4848-ac5d-e5710687ffbb",
   "metadata": {},
   "outputs": [],
   "source": [
    "from pathlib import Path"
   ]
  },
  {
   "cell_type": "code",
   "execution_count": 7,
   "id": "419abfce-7cf5-4599-9a21-fd722a853bb2",
   "metadata": {},
   "outputs": [],
   "source": [
    "structure_name = 'zikv'\n",
    "local_path = Path(\"/Users/choderalab/asapdiscovery/temp_storage/\")\n",
    "cmd.load(\"/Users/choderalab/asapdiscovery/temp_storage/ZIKV_NS2B3_ligands.pdb\", structure_name)\n",
    "cmd.select(\"protein\", structure_name + \" and polymer.protein\")\n",
    "cmd.save(local_path / \"protein.pdb\", \"protein\")"
   ]
  },
  {
   "cell_type": "code",
   "execution_count": null,
   "id": "9ab2ddca-0900-46a9-b707-7b6325be5d5d",
   "metadata": {},
   "outputs": [],
   "source": []
  }
 ],
 "metadata": {
  "kernelspec": {
   "display_name": "Python 3 (ipykernel)",
   "language": "python",
   "name": "python3"
  },
  "language_info": {
   "codemirror_mode": {
    "name": "ipython",
    "version": 3
   },
   "file_extension": ".py",
   "mimetype": "text/x-python",
   "name": "python",
   "nbconvert_exporter": "python",
   "pygments_lexer": "ipython3",
   "version": "3.10.13"
  }
 },
 "nbformat": 4,
 "nbformat_minor": 5
}
