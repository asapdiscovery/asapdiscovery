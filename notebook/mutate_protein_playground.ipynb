{
 "cells": [
  {
   "cell_type": "markdown",
   "metadata": {
    "collapsed": true,
    "jupyter": {
     "outputs_hidden": true
    }
   },
   "source": [
    "# Imports"
   ]
  },
  {
   "cell_type": "code",
   "execution_count": null,
   "metadata": {},
   "outputs": [],
   "source": [
    "%env OE_LICENSE=/Users/alexpayne/oe_license.txt\n",
    "import numpy as np\n",
    "import sys\n",
    "import pickle as pkl\n",
    "import importlib\n",
    "import re\n",
    "from glob import glob\n",
    "from openeye import oechem\n",
    "oechem.OEChemIsLicensed(\"python\")"
   ]
  },
  {
   "cell_type": "code",
   "execution_count": null,
   "metadata": {},
   "outputs": [],
   "source": [
    "from asapdiscovery.data import openeye, pdb, utils"
   ]
  },
  {
   "cell_type": "code",
   "execution_count": null,
   "metadata": {},
   "outputs": [],
   "source": [
    "utils.seqres_to_res_list"
   ]
  },
  {
   "cell_type": "markdown",
   "metadata": {},
   "source": [
    "## file paths"
   ]
  },
  {
   "cell_type": "code",
   "execution_count": null,
   "metadata": {},
   "outputs": [],
   "source": [
    "mers_pdb_dir = \"/Users/alexpayne/lilac-mount-point/asap-datasets/mers_fauxalysis/mers_pdb_download/\""
   ]
  },
  {
   "cell_type": "markdown",
   "metadata": {},
   "source": [
    "# Goal"
   ]
  },
  {
   "cell_type": "markdown",
   "metadata": {},
   "source": [
    "it feels like there should be an easier way of mutating the residue and / or generating the seqres from the amino acid sequence"
   ]
  },
  {
   "cell_type": "markdown",
   "metadata": {},
   "source": [
    "\n",
    "# What information does a loaded pdb have?"
   ]
  },
  {
   "cell_type": "code",
   "execution_count": null,
   "metadata": {},
   "outputs": [],
   "source": [
    "pdbs = [openeye.load_openeye_pdb(pdb_path) for pdb_path in glob(f\"{mers_pdb_dir}/*.pdb\")]"
   ]
  },
  {
   "cell_type": "code",
   "execution_count": null,
   "metadata": {},
   "outputs": [],
   "source": [
    "pdb0 = pdbs[0]"
   ]
  },
  {
   "cell_type": "code",
   "execution_count": null,
   "metadata": {},
   "outputs": [],
   "source": [
    "type(pdb0)"
   ]
  },
  {
   "cell_type": "code",
   "execution_count": null,
   "metadata": {},
   "outputs": [],
   "source": [
    "pdb0.GetData()"
   ]
  },
  {
   "cell_type": "markdown",
   "metadata": {},
   "source": [
    "## Can I get the sequence?"
   ]
  },
  {
   "cell_type": "code",
   "execution_count": null,
   "metadata": {},
   "outputs": [],
   "source": [
    "pdb0.GetTitle()"
   ]
  },
  {
   "cell_type": "code",
   "execution_count": null,
   "metadata": {},
   "outputs": [],
   "source": [
    "pdb1 = pdbs[1]\n",
    "pdb1.GetTitle()"
   ]
  },
  {
   "cell_type": "code",
   "execution_count": null,
   "metadata": {},
   "outputs": [],
   "source": [
    "def openeye_get_seqres(mol):\n",
    "    seqres = [data_pair.GetValue() for data_pair in oechem.OEGetPDBDataPairs(mol) if data_pair.GetTag() == \"SEQRES\"]\n",
    "    return seqres"
   ]
  },
  {
   "cell_type": "code",
   "execution_count": null,
   "metadata": {},
   "outputs": [],
   "source": [
    "for i, data_pair in enumerate(oechem.OEGetPDBDataPairs(pdb0)):\n",
    "    print(data_pair.GetTag(), \":\\t\", data_pair.GetValue())"
   ]
  },
  {
   "cell_type": "code",
   "execution_count": null,
   "metadata": {},
   "outputs": [],
   "source": [
    "print(i)"
   ]
  },
  {
   "cell_type": "code",
   "execution_count": null,
   "metadata": {},
   "outputs": [],
   "source": [
    "oechem.OEGetPDBData(pdb0, \"HEADER\")"
   ]
  },
  {
   "cell_type": "code",
   "execution_count": null,
   "metadata": {},
   "outputs": [],
   "source": [
    "oechem.OEGetPDBData(pdb1, \"HEADER\")"
   ]
  },
  {
   "cell_type": "code",
   "execution_count": null,
   "metadata": {},
   "outputs": [],
   "source": [
    "seqres0 = openeye_get_seqres(pdb0)\n",
    "seqres1 = openeye_get_seqres(pdb1)"
   ]
  },
  {
   "cell_type": "code",
   "execution_count": null,
   "metadata": {},
   "outputs": [],
   "source": [
    "seqres0"
   ]
  },
  {
   "cell_type": "code",
   "execution_count": null,
   "metadata": {},
   "outputs": [],
   "source": [
    "seqres1"
   ]
  },
  {
   "cell_type": "markdown",
   "metadata": {},
   "source": [
    "### not really, but I can get the seqres"
   ]
  },
  {
   "cell_type": "markdown",
   "metadata": {},
   "source": [
    "## can i convert seqres to reslist?"
   ]
  },
  {
   "cell_type": "markdown",
   "metadata": {},
   "source": [
    "### converting old script"
   ]
  },
  {
   "cell_type": "code",
   "execution_count": null,
   "metadata": {},
   "outputs": [],
   "source": [
    "seqres0[0][5]"
   ]
  },
  {
   "cell_type": "code",
   "execution_count": null,
   "metadata": {},
   "outputs": [],
   "source": [
    "seqres0[0][13:]"
   ]
  },
  {
   "cell_type": "code",
   "execution_count": null,
   "metadata": {},
   "outputs": [],
   "source": [
    "def seqres_to_res_list(seqres_str, seqres_chain_column = 11, seq_start_column = 19):\n",
    "    \"\"\"\n",
    "    https://www.wwpdb.org/documentation/file-format-content/format33/sect3.html#SEQRES\n",
    "    Parameters\n",
    "    ----------\n",
    "    SEQRES_str\n",
    "\n",
    "    Returns\n",
    "    -------\n",
    "\n",
    "    \"\"\"\n",
    "    ## Grab the sequence from the sequence str\n",
    "    ## use chain ID column\n",
    "    seq_lines = [\n",
    "        line[seq_start_column:]\n",
    "        for line in seqres_str.split(\"\\n\")\n",
    "        if len(line) > 0\n",
    "        if line[seqres_chain_column] == \"A\"\n",
    "    ]\n",
    "    seq_str = \" \".join(seq_lines)\n",
    "    res_list = seq_str.split(\" \")\n",
    "    return res_list"
   ]
  },
  {
   "cell_type": "code",
   "execution_count": null,
   "metadata": {},
   "outputs": [],
   "source": [
    "seqres_to_res_list('\\n'.join(seqres0), 5, 13)"
   ]
  },
  {
   "cell_type": "code",
   "execution_count": null,
   "metadata": {},
   "outputs": [],
   "source": []
  },
  {
   "cell_type": "code",
   "execution_count": null,
   "metadata": {},
   "outputs": [],
   "source": [
    "utils.seqres_to_res_list('\\n'.join(seqres0))"
   ]
  },
  {
   "cell_type": "markdown",
   "metadata": {},
   "source": [
    "## Can I align two sequences?"
   ]
  },
  {
   "cell_type": "code",
   "execution_count": null,
   "metadata": {},
   "outputs": [],
   "source": [
    "alignment = oechem.OEGetAlignment(pdb1, \n",
    "                                  pdb0, \n",
    "                                  oechem.OESeqAlignmentMethod_PAM250 ## best for aligning similar sequences\n",
    "                                  \n",
    "                                 )"
   ]
  },
  {
   "cell_type": "code",
   "execution_count": null,
   "metadata": {},
   "outputs": [],
   "source": [
    "alignment.GetMethod()"
   ]
  },
  {
   "cell_type": "code",
   "execution_count": null,
   "metadata": {},
   "outputs": [],
   "source": [
    "oechem.OEGetAlignmentMethodName(2)"
   ]
  },
  {
   "cell_type": "code",
   "execution_count": null,
   "metadata": {},
   "outputs": [],
   "source": [
    "oechem.OESequenceAlignmentIter()"
   ]
  },
  {
   "cell_type": "code",
   "execution_count": null,
   "metadata": {},
   "outputs": [],
   "source": [
    "print(oechem.OESeqAlignmentMethod_None)\n",
    "print(oechem.OESeqAlignmentMethod_Identity)\n",
    "print(oechem.OESeqAlignmentMethod_GONNET)"
   ]
  },
  {
   "cell_type": "code",
   "execution_count": null,
   "metadata": {},
   "outputs": [],
   "source": [
    "ofs = oechem.oeofstream()\n",
    "ofs.open(\"test_alignment_pdb1_pdb0.txt\")"
   ]
  },
  {
   "cell_type": "code",
   "execution_count": null,
   "metadata": {},
   "outputs": [],
   "source": [
    "oechem.OEWriteAlignment(ofs, alignment)\n",
    "ofs.close()"
   ]
  },
  {
   "cell_type": "code",
   "execution_count": null,
   "metadata": {},
   "outputs": [],
   "source": [
    "def openeye_get_sequence_alignment(pdb0, pdb1, out_fn):\n",
    "    alignment = oechem.OEGetAlignment(pdb0, \n",
    "                                  pdb1, \n",
    "                                  oechem.OESeqAlignmentMethod_PAM250 ## best for aligning similar sequences\n",
    "                                 )\n",
    "    ofs = oechem.oeofstream()\n",
    "    ofs.open(out_fn)\n",
    "    oechem.OEWriteAlignment(ofs, alignment)\n",
    "    ofs.close()\n",
    "    return alignment"
   ]
  },
  {
   "cell_type": "markdown",
   "metadata": {},
   "source": [
    "### conclusion...yes?"
   ]
  },
  {
   "cell_type": "markdown",
   "metadata": {},
   "source": [
    "## what happens when you align proteins with a single chain?"
   ]
  },
  {
   "cell_type": "code",
   "execution_count": null,
   "metadata": {},
   "outputs": [],
   "source": [
    "pdb2 = pdbs[-4]\n",
    "oechem.OEGetPDBData(pdb2, \"HEADER\")"
   ]
  },
  {
   "cell_type": "code",
   "execution_count": null,
   "metadata": {},
   "outputs": [],
   "source": [
    "pdb3 = pdbs[7]\n",
    "oechem.OEGetPDBData(pdb3, \"HEADER\")"
   ]
  },
  {
   "cell_type": "code",
   "execution_count": null,
   "metadata": {},
   "outputs": [],
   "source": [
    "openeye_get_seqres(pdb2)"
   ]
  },
  {
   "cell_type": "code",
   "execution_count": null,
   "metadata": {},
   "outputs": [],
   "source": [
    "openeye_get_seqres(pdb3)"
   ]
  },
  {
   "cell_type": "code",
   "execution_count": null,
   "metadata": {},
   "outputs": [],
   "source": [
    "alignment = openeye_get_sequence_alignment(pdb2, pdb3, \"test_alignment_pdb2_pdb3.txt\")"
   ]
  },
  {
   "cell_type": "code",
   "execution_count": null,
   "metadata": {},
   "outputs": [],
   "source": [
    "alignment.GetChainID(0)"
   ]
  },
  {
   "cell_type": "code",
   "execution_count": null,
   "metadata": {},
   "outputs": [],
   "source": [
    "alignment = openeye_get_sequence_alignment(pdb0, pdb1, \"test_alignment_pdb0_pdb1.txt\")\n",
    "alignment.GetChainID(0)"
   ]
  },
  {
   "cell_type": "code",
   "execution_count": null,
   "metadata": {},
   "outputs": [],
   "source": [
    "alignment.GetChainID(1)"
   ]
  },
  {
   "cell_type": "code",
   "execution_count": null,
   "metadata": {},
   "outputs": [],
   "source": [
    "pdb5 = [pdb for pdb in pdbs if \"4WMD\" in oechem.OEGetPDBData(pdb, \"HEADER\")][0]"
   ]
  },
  {
   "cell_type": "code",
   "execution_count": null,
   "metadata": {},
   "outputs": [],
   "source": [
    "multichain = openeye_get_sequence_alignment(pdb2, pdb5, \"test_multichain.txt\")"
   ]
  },
  {
   "cell_type": "code",
   "execution_count": null,
   "metadata": {},
   "outputs": [],
   "source": [
    "oechem.OECopyPDBData()"
   ]
  },
  {
   "cell_type": "markdown",
   "metadata": {},
   "source": [
    "# How does setting PDB data work?"
   ]
  },
  {
   "cell_type": "code",
   "execution_count": null,
   "metadata": {},
   "outputs": [],
   "source": [
    "oechem.OECopyPDBData(pdb5, pdb2)"
   ]
  },
  {
   "cell_type": "code",
   "execution_count": null,
   "metadata": {},
   "outputs": [],
   "source": [
    "oechem.OEGetPDBData(pdb5, \"SEQRES\")"
   ]
  },
  {
   "cell_type": "code",
   "execution_count": null,
   "metadata": {},
   "outputs": [],
   "source": [
    "oechem.OEGetPDBData(pdb2, \"SEQRES\")"
   ]
  },
  {
   "cell_type": "code",
   "execution_count": null,
   "metadata": {},
   "outputs": [],
   "source": [
    "oechem.OEAddPDBData()"
   ]
  },
  {
   "cell_type": "code",
   "execution_count": null,
   "metadata": {},
   "outputs": [],
   "source": [
    "def openeye_copy_pdb_data(pdb0, pdb1, tag):\n",
    "    ## first, delete data with that tag\n",
    "    oechem.OEDeletePDBData(pdb0, tag)\n",
    "    for data_pair in oechem.OEGetPDBDataPairs(pdb1):\n",
    "        if data_pair.GetTag() == tag:\n",
    "            oechem.OEAddPDBData(pdb0, data_pair)"
   ]
  },
  {
   "cell_type": "code",
   "execution_count": null,
   "metadata": {},
   "outputs": [],
   "source": []
  }
 ],
 "metadata": {
  "kernelspec": {
   "display_name": "Python 3 (ipykernel)",
   "language": "python",
   "name": "python3"
  },
  "language_info": {
   "codemirror_mode": {
    "name": "ipython",
    "version": 3
   },
   "file_extension": ".py",
   "mimetype": "text/x-python",
   "name": "python",
   "nbconvert_exporter": "python",
   "pygments_lexer": "ipython3",
   "version": "3.10.13"
  },
  "toc": {
   "base_numbering": 1,
   "nav_menu": {},
   "number_sections": true,
   "sideBar": true,
   "skip_h1_title": false,
   "title_cell": "Table of Contents",
   "title_sidebar": "Contents",
   "toc_cell": false,
   "toc_position": {},
   "toc_section_display": true,
   "toc_window_display": true
  }
 },
 "nbformat": 4,
 "nbformat_minor": 4
}
