{
 "cells": [
  {
   "cell_type": "markdown",
   "id": "648060da",
   "metadata": {},
   "source": [
    "# Imports"
   ]
  },
  {
   "cell_type": "code",
   "execution_count": null,
   "id": "fbc78903",
   "metadata": {},
   "outputs": [],
   "source": [
    "import plotly.express as ex\n",
    "import pandas as pd\n",
    "import numpy as np\n",
    "import math, sys, os\n",
    "from collections import Counter\n",
    "sys.path.append('../')\n",
    "from asapdiscovery.docking import plotting as pl\n",
    "# from asapdiscovery.docking.analysis import DockingDataset"
   ]
  },
  {
   "cell_type": "code",
   "execution_count": null,
   "id": "becd5ed0",
   "metadata": {},
   "outputs": [],
   "source": [
    "fn = \"../scripts/docking_results.csv\""
   ]
  },
  {
   "cell_type": "code",
   "execution_count": null,
   "id": "ef325d8e",
   "metadata": {},
   "outputs": [],
   "source": [
    "df = pd.read_csv(fn).fillna(\"-1\")"
   ]
  },
  {
   "cell_type": "code",
   "execution_count": null,
   "id": "2c30fd01",
   "metadata": {},
   "outputs": [],
   "source": [
    "df.index = df.Complex_ID"
   ]
  },
  {
   "cell_type": "code",
   "execution_count": null,
   "id": "562fac11",
   "metadata": {},
   "outputs": [],
   "source": [
    "df[\"POSIT_R\"] = -df.POSIT+1"
   ]
  },
  {
   "cell_type": "code",
   "execution_count": null,
   "id": "40850da6",
   "metadata": {},
   "outputs": [],
   "source": [
    "df.head()"
   ]
  },
  {
   "cell_type": "markdown",
   "id": "c78ce422",
   "metadata": {},
   "source": [
    "# filter df"
   ]
  },
  {
   "cell_type": "code",
   "execution_count": null,
   "id": "90f7b52b",
   "metadata": {},
   "outputs": [],
   "source": [
    "redocked_df = df[df.MCSS_Rank == -1]"
   ]
  },
  {
   "cell_type": "code",
   "execution_count": null,
   "id": "9153575e",
   "metadata": {},
   "outputs": [],
   "source": [
    "redocked_df"
   ]
  },
  {
   "cell_type": "code",
   "execution_count": null,
   "id": "5cdefbd1",
   "metadata": {},
   "outputs": [],
   "source": [
    "test_df = df[df.MCSS_Rank > -1]"
   ]
  },
  {
   "cell_type": "code",
   "execution_count": null,
   "id": "411faa36",
   "metadata": {},
   "outputs": [],
   "source": [
    "test_df"
   ]
  },
  {
   "cell_type": "code",
   "execution_count": null,
   "id": "859b822f",
   "metadata": {},
   "outputs": [],
   "source": [
    "cmplx_list = df.index"
   ]
  },
  {
   "cell_type": "code",
   "execution_count": null,
   "id": "9d66e711",
   "metadata": {},
   "outputs": [],
   "source": [
    "len(cmplx_list)"
   ]
  },
  {
   "cell_type": "code",
   "execution_count": null,
   "id": "9ed2f38f",
   "metadata": {},
   "outputs": [],
   "source": [
    "len(redocked_df.index)"
   ]
  },
  {
   "cell_type": "code",
   "execution_count": null,
   "id": "e23ea5d2",
   "metadata": {},
   "outputs": [],
   "source": [
    "len(test_df.index)"
   ]
  },
  {
   "cell_type": "markdown",
   "id": "0034d94a",
   "metadata": {},
   "source": [
    "## make sure the numbers match up"
   ]
  },
  {
   "cell_type": "code",
   "execution_count": null,
   "id": "0ed50715",
   "metadata": {},
   "outputs": [],
   "source": [
    "len(np.append(redocked_df.Complex_ID, test_df.Complex_ID))"
   ]
  },
  {
   "cell_type": "markdown",
   "id": "b4d13055",
   "metadata": {},
   "source": [
    "### they do!"
   ]
  },
  {
   "cell_type": "markdown",
   "id": "9e69a174",
   "metadata": {},
   "source": [
    "## Filter out wacky results from docked dataset"
   ]
  },
  {
   "cell_type": "markdown",
   "id": "02d93a35",
   "metadata": {},
   "source": [
    "### plot histogram of RMSDs"
   ]
  },
  {
   "cell_type": "code",
   "execution_count": null,
   "id": "1ffeb0f0",
   "metadata": {},
   "outputs": [],
   "source": [
    "ex.histogram(df, x=\"RMSD\")"
   ]
  },
  {
   "cell_type": "markdown",
   "id": "b88f30c6",
   "metadata": {},
   "source": [
    "### examine RMSDs lower than 0"
   ]
  },
  {
   "cell_type": "code",
   "execution_count": null,
   "id": "36c10c8a",
   "metadata": {},
   "outputs": [],
   "source": [
    "RMSDs_less_than_0 = df[df.RMSD < 0]"
   ]
  },
  {
   "cell_type": "code",
   "execution_count": null,
   "id": "22824120",
   "metadata": {},
   "outputs": [],
   "source": [
    "len(RMSDs_less_than_0)"
   ]
  },
  {
   "cell_type": "code",
   "execution_count": null,
   "id": "a09a1483",
   "metadata": {},
   "outputs": [],
   "source": [
    "set(RMSDs_less_than_0.Compound_ID)"
   ]
  },
  {
   "cell_type": "code",
   "execution_count": null,
   "id": "5412278b",
   "metadata": {},
   "outputs": [],
   "source": [
    "MAT_POS_090737b9_1_df = df[df.Compound_ID == 'MAT-POS-090737b9-1']"
   ]
  },
  {
   "cell_type": "code",
   "execution_count": null,
   "id": "32d0a60d",
   "metadata": {},
   "outputs": [],
   "source": [
    "set(MAT_POS_090737b9_1_df.RMSD)"
   ]
  },
  {
   "cell_type": "code",
   "execution_count": null,
   "id": "dfba8a23",
   "metadata": {},
   "outputs": [],
   "source": [
    "set(MAT_POS_090737b9_1_df.Reference_SDF)"
   ]
  },
  {
   "cell_type": "code",
   "execution_count": null,
   "id": "ae088e08",
   "metadata": {},
   "outputs": [],
   "source": []
  },
  {
   "cell_type": "markdown",
   "id": "bdafc64a",
   "metadata": {},
   "source": [
    "#### Conclusion: all the RMSDs calculated from this ligand \"MAT-POS-090737b9-1\" are -1"
   ]
  },
  {
   "cell_type": "markdown",
   "id": "6299cf73",
   "metadata": {},
   "source": [
    "### Examine RMSDs higher than the rest"
   ]
  },
  {
   "cell_type": "code",
   "execution_count": null,
   "id": "a27cd561",
   "metadata": {},
   "outputs": [],
   "source": [
    "RMSDs_large = df[df.RMSD >15]"
   ]
  },
  {
   "cell_type": "code",
   "execution_count": null,
   "id": "2422e0d1",
   "metadata": {},
   "outputs": [],
   "source": [
    "len(RMSDs_large)"
   ]
  },
  {
   "cell_type": "code",
   "execution_count": null,
   "id": "bd294e69",
   "metadata": {},
   "outputs": [],
   "source": [
    "len(RMSDs_large[(RMSDs_large.Compound_ID == \"MAT-POS-5d65ec79-1\") | (RMSDs_large.Crystal_ID == \"Mpro-P0097\")])"
   ]
  },
  {
   "cell_type": "markdown",
   "id": "1adb6f4f",
   "metadata": {},
   "source": [
    "#### Conclusion: All large RMSDs have to do with the fragalysis structure \"Mpro-P0097\" which had \"MAT-POS-5d65ec79-1\" as its ligand"
   ]
  },
  {
   "cell_type": "code",
   "execution_count": null,
   "id": "b7f9a38f",
   "metadata": {},
   "outputs": [],
   "source": [
    "set(RMSDs_large.Compound_ID)"
   ]
  },
  {
   "cell_type": "code",
   "execution_count": null,
   "id": "6126e217",
   "metadata": {},
   "outputs": [],
   "source": [
    "set(RMSDs_large.Crystal_ID)"
   ]
  },
  {
   "cell_type": "markdown",
   "id": "690d3441",
   "metadata": {},
   "source": [
    "### plot histogram of chemgauss4 score"
   ]
  },
  {
   "cell_type": "code",
   "execution_count": null,
   "id": "73d80731",
   "metadata": {},
   "outputs": [],
   "source": [
    "ex.histogram(df, x=\"Chemgauss4\")"
   ]
  },
  {
   "cell_type": "code",
   "execution_count": null,
   "id": "36734115",
   "metadata": {},
   "outputs": [],
   "source": [
    "large_chemgauss4 = df[df.Chemgauss4 > 100]"
   ]
  },
  {
   "cell_type": "code",
   "execution_count": null,
   "id": "a6713af0",
   "metadata": {},
   "outputs": [],
   "source": [
    "len(large_chemgauss4)"
   ]
  },
  {
   "cell_type": "code",
   "execution_count": null,
   "id": "3eba4d1a",
   "metadata": {},
   "outputs": [],
   "source": []
  },
  {
   "cell_type": "code",
   "execution_count": null,
   "id": "28cb0de7",
   "metadata": {},
   "outputs": [],
   "source": []
  },
  {
   "cell_type": "code",
   "execution_count": null,
   "id": "003053c3",
   "metadata": {},
   "outputs": [],
   "source": [
    "set(large_chemgauss4.Chemgauss4)"
   ]
  },
  {
   "cell_type": "code",
   "execution_count": null,
   "id": "ff2ed5be",
   "metadata": {},
   "outputs": [],
   "source": [
    "set(large_chemgauss4.Crystal_ID)"
   ]
  },
  {
   "cell_type": "code",
   "execution_count": null,
   "id": "d799fb92",
   "metadata": {},
   "outputs": [],
   "source": [
    "set(large_chemgauss4.Reference_SDF)"
   ]
  },
  {
   "cell_type": "code",
   "execution_count": null,
   "id": "0954763c",
   "metadata": {},
   "outputs": [],
   "source": [
    "set(large_chemgauss4.Compound_ID)"
   ]
  },
  {
   "cell_type": "code",
   "execution_count": null,
   "id": "a33ecf71",
   "metadata": {},
   "outputs": [],
   "source": [
    "ex.scatter(large_chemgauss4, x=\"RMSD\", y=\"POSIT_R\", color=\"Compound_ID\", symbol=\"Crystal_ID\")"
   ]
  },
  {
   "cell_type": "markdown",
   "id": "880fd1a6",
   "metadata": {},
   "source": [
    "#### Conclusion: no idea"
   ]
  },
  {
   "cell_type": "markdown",
   "id": "78a8c2b0",
   "metadata": {},
   "source": [
    "## Filter out bad data"
   ]
  },
  {
   "cell_type": "code",
   "execution_count": null,
   "id": "cd8473fb",
   "metadata": {},
   "outputs": [],
   "source": [
    "bad_data_df = pd.concat([large_chemgauss4, RMSDs_large, RMSDs_less_than_0])"
   ]
  },
  {
   "cell_type": "markdown",
   "id": "da594a31",
   "metadata": {},
   "source": [
    "### are there any redocked structures in the bad data?"
   ]
  },
  {
   "cell_type": "code",
   "execution_count": null,
   "id": "c0642348",
   "metadata": {},
   "outputs": [],
   "source": [
    "redocked_bad_data_df = bad_data_df[bad_data_df.MCSS_Rank == -1]"
   ]
  },
  {
   "cell_type": "code",
   "execution_count": null,
   "id": "54568a22",
   "metadata": {},
   "outputs": [],
   "source": [
    "test_bad_data_df = bad_data_df[bad_data_df.MCSS_Rank != -1]"
   ]
  },
  {
   "cell_type": "code",
   "execution_count": null,
   "id": "4fe83eb8",
   "metadata": {},
   "outputs": [],
   "source": [
    "redocked_bad_data_df"
   ]
  },
  {
   "cell_type": "markdown",
   "id": "f700797c",
   "metadata": {},
   "source": [
    "#### Conclusion: the only bad redocked structures where from the RMSDs = -1 one"
   ]
  },
  {
   "cell_type": "code",
   "execution_count": null,
   "id": "27c87c25",
   "metadata": {},
   "outputs": [],
   "source": [
    "len(bad_data_df)"
   ]
  },
  {
   "cell_type": "code",
   "execution_count": null,
   "id": "9f9128c8",
   "metadata": {},
   "outputs": [],
   "source": [
    "redocked_filtered_df = redocked_df.drop(redocked_bad_data_df.Complex_ID, axis='index')"
   ]
  },
  {
   "cell_type": "code",
   "execution_count": null,
   "id": "3f259bd5",
   "metadata": {},
   "outputs": [],
   "source": [
    "test_filtered_df = test_df.drop(test_bad_data_df.Complex_ID, axis='index')"
   ]
  },
  {
   "cell_type": "code",
   "execution_count": null,
   "id": "6818b39a",
   "metadata": {},
   "outputs": [],
   "source": [
    "bad_data_df = df[(df.Chemgauss4 > 0) | (df.RMSD < 0) | (df.RMSD > 15)]"
   ]
  },
  {
   "cell_type": "code",
   "execution_count": null,
   "id": "ba9367ff",
   "metadata": {},
   "outputs": [],
   "source": [
    "len(redocked_df) - len(redocked_filtered_df)"
   ]
  },
  {
   "cell_type": "code",
   "execution_count": null,
   "id": "2cf9a568",
   "metadata": {},
   "outputs": [],
   "source": [
    "len(test_df) - len(test_filtered_df)"
   ]
  },
  {
   "cell_type": "markdown",
   "id": "4bf12f5a",
   "metadata": {},
   "source": [
    "#### Conclusion: 2 redocked and 62 test complexes were removed"
   ]
  },
  {
   "cell_type": "code",
   "execution_count": null,
   "id": "d3da4931",
   "metadata": {},
   "outputs": [],
   "source": []
  },
  {
   "cell_type": "markdown",
   "id": "c055fecd",
   "metadata": {},
   "source": [
    "# Make a compound results Dataframe"
   ]
  },
  {
   "cell_type": "markdown",
   "id": "faee94c1",
   "metadata": {},
   "source": [
    "## get all the info"
   ]
  },
  {
   "cell_type": "code",
   "execution_count": null,
   "id": "4e6ae49c",
   "metadata": {},
   "outputs": [],
   "source": [
    "test_filtered_df.groupby(\"Compound_ID\")[\"RMSD\"].agg([\"count\", \"min\"])"
   ]
  },
  {
   "cell_type": "code",
   "execution_count": null,
   "id": "0d499bf4",
   "metadata": {},
   "outputs": [],
   "source": []
  },
  {
   "cell_type": "code",
   "execution_count": null,
   "id": "7e208e8e",
   "metadata": {},
   "outputs": [],
   "source": [
    "total_poses = test_filtered_df.groupby('Compound_ID')[\"RMSD\"].count()"
   ]
  },
  {
   "cell_type": "code",
   "execution_count": null,
   "id": "cc62a6ff",
   "metadata": {},
   "outputs": [],
   "source": [
    "total_poses"
   ]
  },
  {
   "cell_type": "code",
   "execution_count": null,
   "id": "a09ee35b",
   "metadata": {},
   "outputs": [],
   "source": [
    "RMSDs = test_filtered_df.groupby('Compound_ID')[['RMSD']].apply(lambda x: x[x <= 2].agg([\"count\", \"min\"]))"
   ]
  },
  {
   "cell_type": "code",
   "execution_count": null,
   "id": "5d96e24f",
   "metadata": {},
   "outputs": [],
   "source": [
    "RMSDs"
   ]
  },
  {
   "cell_type": "code",
   "execution_count": null,
   "id": "8be5c26a",
   "metadata": {},
   "outputs": [],
   "source": [
    "n_good_poses = RMSDs.xs(\"count\", level=1)[\"RMSD\"]"
   ]
  },
  {
   "cell_type": "code",
   "execution_count": null,
   "id": "58f9c3d0",
   "metadata": {},
   "outputs": [],
   "source": [
    "min_RMSD = RMSDs.xs(\"min\", level=1)[\"RMSD\"]"
   ]
  },
  {
   "cell_type": "code",
   "execution_count": null,
   "id": "2b870375",
   "metadata": {},
   "outputs": [],
   "source": [
    "perc_good_poses = n_good_poses / total_poses"
   ]
  },
  {
   "cell_type": "code",
   "execution_count": null,
   "id": "0f0ece47",
   "metadata": {},
   "outputs": [],
   "source": [
    "perc_good_poses"
   ]
  },
  {
   "cell_type": "code",
   "execution_count": null,
   "id": "fbab322a",
   "metadata": {},
   "outputs": [],
   "source": []
  },
  {
   "cell_type": "code",
   "execution_count": null,
   "id": "47cce893",
   "metadata": {},
   "outputs": [],
   "source": [
    "min_posit_R = test_filtered_df.groupby('Compound_ID')['POSIT_R'].min()"
   ]
  },
  {
   "cell_type": "code",
   "execution_count": null,
   "id": "3f33f66b",
   "metadata": {},
   "outputs": [],
   "source": [
    "min_posit_R"
   ]
  },
  {
   "cell_type": "code",
   "execution_count": null,
   "id": "35817e3c",
   "metadata": {},
   "outputs": [],
   "source": [
    "cmpd_df = pd.DataFrame({\n",
    "#     \"Compound_ID\": all_cmpd_counter.keys(),\n",
    "    \"N_Poses\": total_poses,\n",
    "    \"N_Good_Poses\": n_good_poses,\n",
    "    \"Perc_Good_Poses\": perc_good_poses, \n",
    "    \"Min_RMSD\": min_RMSD,\n",
    "    \"Min_POSIT_R\": min_posit_R,\n",
    "                      })"
   ]
  },
  {
   "cell_type": "code",
   "execution_count": null,
   "id": "999bbf80",
   "metadata": {},
   "outputs": [],
   "source": [
    "cmpd_df"
   ]
  },
  {
   "cell_type": "code",
   "execution_count": null,
   "id": "349279a6",
   "metadata": {},
   "outputs": [],
   "source": [
    "cmpd_df.sort_values(\"Perc_Good_Poses\")"
   ]
  },
  {
   "cell_type": "markdown",
   "id": "46157df7",
   "metadata": {},
   "source": [
    "## Plot the dataframe"
   ]
  },
  {
   "cell_type": "code",
   "execution_count": null,
   "id": "430a61f2",
   "metadata": {},
   "outputs": [],
   "source": [
    "fig = ex.bar(cmpd_df.sort_values(\"Perc_Good_Poses\"), \n",
    "       x=cmpd_df.sort_values(\"Perc_Good_Poses\").index, \n",
    "       y=\"Perc_Good_Poses\",\n",
    "      )\n",
    "fig.update_traces(width=1)\n",
    "fig.update_layout(height=600, \n",
    "                  width=3600, \n",
    "                  font_size=12,\n",
    "#                  xaxis={'categoryorder':'category ascending'}\n",
    "                 )\n",
    "fig.show()"
   ]
  },
  {
   "cell_type": "code",
   "execution_count": null,
   "id": "c988849d",
   "metadata": {},
   "outputs": [],
   "source": [
    "too_good_df = cmpd_df[cmpd_df.Perc_Good_Poses == 1]"
   ]
  },
  {
   "cell_type": "code",
   "execution_count": null,
   "id": "c34003ba",
   "metadata": {},
   "outputs": [],
   "source": [
    "too_good_df"
   ]
  },
  {
   "cell_type": "code",
   "execution_count": null,
   "id": "5a498e07",
   "metadata": {},
   "outputs": [],
   "source": [
    "_df = test_filtered_df[test_filtered_df.Compound_ID.isin(too_good_df.index)]"
   ]
  },
  {
   "cell_type": "code",
   "execution_count": null,
   "id": "343e0dbc",
   "metadata": {},
   "outputs": [],
   "source": [
    "ex.scatter(_df, \n",
    "           x=\"RMSD\", \n",
    "           y=\"POSIT_R\", \n",
    "           color=\"Compound_ID\", \n",
    "           hover_data=[\"Crystal_ID\", \n",
    "                       \"Reference_SDF\", \n",
    "                       \"Chain_ID\"], \n",
    "          )"
   ]
  },
  {
   "cell_type": "code",
   "execution_count": null,
   "id": "f5ca1fd0",
   "metadata": {},
   "outputs": [],
   "source": []
  },
  {
   "cell_type": "markdown",
   "id": "92a9e25c",
   "metadata": {},
   "source": [
    "## what percentage of compounds have at least 1 structure with RMSD < 2?"
   ]
  },
  {
   "cell_type": "code",
   "execution_count": null,
   "id": "63faa40e",
   "metadata": {},
   "outputs": [],
   "source": [
    "sum(cmpd_df.Perc_Good_Poses > 0)"
   ]
  },
  {
   "cell_type": "code",
   "execution_count": null,
   "id": "f7b6e08f",
   "metadata": {},
   "outputs": [],
   "source": [
    "sum(cmpd_df.Perc_Good_Poses == 0)"
   ]
  },
  {
   "cell_type": "code",
   "execution_count": null,
   "id": "83bb366e",
   "metadata": {},
   "outputs": [],
   "source": [
    "perc_cmpds = sum(cmpd_df.Perc_Good_Poses > 0) / len(cmpd_df)"
   ]
  },
  {
   "cell_type": "code",
   "execution_count": null,
   "id": "3b4fbfd2",
   "metadata": {},
   "outputs": [],
   "source": [
    "perc_cmpds"
   ]
  },
  {
   "cell_type": "markdown",
   "id": "31bb69d8",
   "metadata": {},
   "source": [
    "### Conclusion: 87.6% of compounds with at least 1 structure"
   ]
  },
  {
   "cell_type": "code",
   "execution_count": null,
   "id": "25da1d7e",
   "metadata": {},
   "outputs": [],
   "source": []
  },
  {
   "cell_type": "markdown",
   "id": "8a97a5da",
   "metadata": {},
   "source": [
    "# Plotting Test Data"
   ]
  },
  {
   "cell_type": "code",
   "execution_count": null,
   "id": "3fa76b5d",
   "metadata": {},
   "outputs": [],
   "source": [
    "ex.scatter(test_filtered_df, \n",
    "           x=\"MCSS_Rank\", \n",
    "           y=\"RMSD\", \n",
    "           color=\"Compound_ID\", \n",
    "           hover_data=[\"Crystal_ID\", \n",
    "                       \"Reference_SDF\", \n",
    "                       \"Chain_ID\"]\n",
    "          )"
   ]
  },
  {
   "cell_type": "markdown",
   "id": "f2a3b88e",
   "metadata": {},
   "source": [
    "## General"
   ]
  },
  {
   "cell_type": "code",
   "execution_count": null,
   "id": "5e52224b",
   "metadata": {},
   "outputs": [],
   "source": [
    "ex.scatter(test_filtered_df, \n",
    "           x=\"RMSD\", \n",
    "           y=\"Chemgauss4\", \n",
    "           color=\"POSIT_R\", \n",
    "           hover_data=[\"Crystal_ID\", \n",
    "                       \"Reference_SDF\", \n",
    "                       \"Chain_ID\"], \n",
    "          )"
   ]
  },
  {
   "cell_type": "markdown",
   "id": "c0b335a2",
   "metadata": {},
   "source": [
    "## How well does POSIT recapitulate RMSD?"
   ]
  },
  {
   "cell_type": "code",
   "execution_count": null,
   "id": "aa0392d0",
   "metadata": {},
   "outputs": [],
   "source": [
    "ex.scatter(test_filtered_df, \n",
    "           x=\"POSIT_R\", \n",
    "           y=\"RMSD\", \n",
    "           color=\"Chemgauss4\", \n",
    "           hover_data=[\"Crystal_ID\", \n",
    "                       \"Reference_SDF\", \n",
    "                       \"Chain_ID\"], \n",
    "          )"
   ]
  },
  {
   "cell_type": "code",
   "execution_count": null,
   "id": "26cdaa13",
   "metadata": {},
   "outputs": [],
   "source": [
    "ex.density_heatmap(test_filtered_df, \n",
    "           x=\"POSIT_R\", \n",
    "           y=\"RMSD\", \n",
    "#            color=\"Chemgauss4\", \n",
    "           hover_data=[\"Crystal_ID\", \n",
    "                       \"Reference_SDF\", \n",
    "                       \"Chain_ID\"], \n",
    "                   marginal_x=\"histogram\", \n",
    "                   marginal_y=\"histogram\"\n",
    "          )"
   ]
  },
  {
   "cell_type": "markdown",
   "id": "381febe5",
   "metadata": {},
   "source": [
    "## How well does chemgauss4 recapitulate RMSD?"
   ]
  },
  {
   "cell_type": "code",
   "execution_count": null,
   "id": "05e38613",
   "metadata": {},
   "outputs": [],
   "source": [
    "ex.density_heatmap(test_filtered_df, \n",
    "           x=\"RMSD\", \n",
    "           y=\"Chemgauss4\", \n",
    "#            color=\"POSIT_R\", \n",
    "           hover_data=[\"Crystal_ID\", \n",
    "                       \"Reference_SDF\", \n",
    "                       \"Chain_ID\"], \n",
    "                   marginal_x=\"histogram\", \n",
    "                   marginal_y=\"histogram\"\n",
    "          )"
   ]
  },
  {
   "cell_type": "code",
   "execution_count": null,
   "id": "4f243326",
   "metadata": {},
   "outputs": [],
   "source": []
  },
  {
   "cell_type": "code",
   "execution_count": null,
   "id": "b168e1ca",
   "metadata": {},
   "outputs": [],
   "source": [
    "ex.scatter(test_filtered_df, \n",
    "           x=\"MCSS_Rank\", \n",
    "           y=\"Chemgauss4\", \n",
    "           color=\"RMSD\", \n",
    "           hover_data=[\"Crystal_ID\", \n",
    "                       \"Reference_SDF\", \n",
    "                       \"Chain_ID\"], \n",
    "#            facet_row=\"MCSS_Rank\",\n",
    "          )"
   ]
  },
  {
   "cell_type": "code",
   "execution_count": null,
   "id": "a4b98cff",
   "metadata": {},
   "outputs": [],
   "source": [
    "ex.density_heatmap(test_filtered_df, \n",
    "           x=\"MCSS_Rank\", \n",
    "           y=\"Chemgauss4\", \n",
    "          )"
   ]
  },
  {
   "cell_type": "code",
   "execution_count": null,
   "id": "2d9d1977",
   "metadata": {},
   "outputs": [],
   "source": [
    "ex.density_heatmap(test_filtered_df, \n",
    "           x=\"MCSS_Rank\", \n",
    "           y=\"POSIT_R\", \n",
    "                   marginal_y='histogram'\n",
    "          )"
   ]
  },
  {
   "cell_type": "code",
   "execution_count": null,
   "id": "092f9130",
   "metadata": {},
   "outputs": [],
   "source": [
    "ex.density_heatmap(test_filtered_df, \n",
    "                   x=\"MCSS_Rank\", \n",
    "                   y=\"RMSD\",\n",
    "                   marginal_y='histogram'\n",
    "          )"
   ]
  },
  {
   "cell_type": "code",
   "execution_count": null,
   "id": "686b731a",
   "metadata": {},
   "outputs": [],
   "source": [
    "ex.density_heatmap(test_filtered_df, \n",
    "           x=\"MCSS_Rank\", \n",
    "           y=\"POSIT\",\n",
    "                   marginal_y='histogram'\n",
    "          )"
   ]
  },
  {
   "cell_type": "code",
   "execution_count": null,
   "id": "2b6152d3",
   "metadata": {},
   "outputs": [],
   "source": []
  },
  {
   "cell_type": "markdown",
   "id": "2d91bcad",
   "metadata": {},
   "source": [
    "# Plotting Redocked Data"
   ]
  },
  {
   "cell_type": "code",
   "execution_count": null,
   "id": "374d3922",
   "metadata": {},
   "outputs": [],
   "source": [
    "redocked_filtered_df"
   ]
  },
  {
   "cell_type": "code",
   "execution_count": null,
   "id": "8c916031",
   "metadata": {},
   "outputs": [],
   "source": [
    "ex.scatter(redocked_filtered_df, \n",
    "           x=\"POSIT_R\", \n",
    "           y=\"RMSD\", \n",
    "           color=\"Chemgauss4\", \n",
    "           hover_data=[\"Crystal_ID\", \n",
    "                       \"Reference_SDF\", \n",
    "                       \"Chain_ID\"], \n",
    "          )"
   ]
  },
  {
   "cell_type": "code",
   "execution_count": null,
   "id": "026649ab",
   "metadata": {},
   "outputs": [],
   "source": [
    "ex.density_heatmap(test_filtered_df, \n",
    "                   x=\"POSIT_R\", \n",
    "                   y=\"RMSD\",\n",
    "                   marginal_y='histogram',\n",
    "                   marginal_x='histogram'\n",
    "          )"
   ]
  },
  {
   "cell_type": "code",
   "execution_count": null,
   "id": "4ef32900",
   "metadata": {},
   "outputs": [],
   "source": [
    "total_good_cmpds = len(set(df[df[\"RMSD\"] <= 2].Compound_ID))"
   ]
  },
  {
   "cell_type": "code",
   "execution_count": null,
   "id": "501532dd",
   "metadata": {},
   "outputs": [],
   "source": [
    "total_good_cmpds"
   ]
  },
  {
   "cell_type": "code",
   "execution_count": null,
   "id": "66a62e0d",
   "metadata": {},
   "outputs": [],
   "source": [
    "Counter(test_df[test_df[\"RMSD\"] <= 2].Compound_ID)"
   ]
  },
  {
   "cell_type": "code",
   "execution_count": null,
   "id": "347e9025",
   "metadata": {},
   "outputs": [],
   "source": [
    "test_df[test_df.Compound_ID == 'ALP-POS-64a710fa-1']"
   ]
  },
  {
   "cell_type": "code",
   "execution_count": null,
   "id": "b0ab5272",
   "metadata": {},
   "outputs": [],
   "source": []
  },
  {
   "cell_type": "code",
   "execution_count": null,
   "id": "b95b86dd",
   "metadata": {},
   "outputs": [],
   "source": []
  },
  {
   "cell_type": "markdown",
   "id": "488ebe25",
   "metadata": {},
   "source": [
    "# AUC"
   ]
  },
  {
   "cell_type": "markdown",
   "id": "2b0fe940",
   "metadata": {},
   "source": [
    "## write AUC calculation functions"
   ]
  },
  {
   "cell_type": "code",
   "execution_count": null,
   "id": "821a74c1",
   "metadata": {},
   "outputs": [],
   "source": [
    "class Rock():\n",
    "    def __init__(self, \n",
    "                 df,\n",
    "                 score_name,\n",
    "                 n_samples, \n",
    "                 ):\n",
    "        self.df = df\n",
    "        self.score_name = score_name\n",
    "        self.n_samples = n_samples\n",
    "        self.get_score_range()\n",
    "        \n",
    "        self.total_poses, self.total_good_poses, self.total_bad_poses, self.total_cmpds, self.total_good_cmpds, self.total_bad_cmpds = self.calc_data(self.df)\n",
    "\n",
    "        self.auc_poses = []\n",
    "        self.auc_cmpds = []\n",
    "    \n",
    "    def calc_data(self, df):\n",
    "        n_poses = len(df)\n",
    "        n_good_poses = sum(df[\"RMSD\"] <= 2)\n",
    "        n_bad_poses = n_poses - n_good_poses\n",
    "        \n",
    "        n_cmpds = len(set(df.Compound_ID))\n",
    "        set_of_good_cmpds = set(df[df[\"RMSD\"] <= 2].Compound_ID)\n",
    "        n_good_cmpds = len(set_of_good_cmpds)\n",
    "        n_bad_cmpds = n_cmpds - n_good_cmpds\n",
    "        \n",
    "        return n_poses, n_good_poses, n_bad_poses, n_cmpds, n_good_cmpds, n_bad_cmpds\n",
    "    \n",
    "    def calc_auc_from_fpr_tpr(self, fpr, tpr):\n",
    "        return np.trapz(x=fpr, y=tpr)\n",
    "    \n",
    "    def get_score_range(self):\n",
    "        self.score_range = np.linspace(self.df[self.score_name].min() - 1,\n",
    "                                  self.df[self.score_name].max(),\n",
    "                                  self.n_samples,\n",
    "                                 endpoint=True)\n",
    "    \n",
    "    def weird_division(self, n, d):\n",
    "        return n / d if d else 0\n",
    "    \n",
    "    def get_auc_from_df(self, df=None, bootstrap=False):\n",
    "        if df is None:\n",
    "            df = self.df\n",
    "#             print(\"Using self.df\")\n",
    "        else:\n",
    "#             print(f\"using {df}\")\n",
    "            self.total_poses, self.total_good_poses, self.total_bad_poses, self.total_cmpds, self.total_good_cmpds, self.total_bad_cmpds = self.calc_data(df)\n",
    "            \n",
    "#         print(self.score_range)\n",
    "        self.tpr_poses = [] ## same thing as recall\n",
    "        self.fpr_poses = []\n",
    "        self.precision_poses = []\n",
    "        \n",
    "        self.tpr_cmpds = [] ## same thing as recall\n",
    "        self.fpr_cmpds = []\n",
    "        self.precision_cmpds = []\n",
    "            \n",
    "        data = [self.calc_data(df[df[self.score_name] <= cutoff]) for cutoff in self.score_range]\n",
    "        n_poses_list, n_good_poses_list, n_bad_poses_list, n_cmpds_list, n_good_cmpds_list, n_bad_cmpds_list = zip(*data)\n",
    "        \n",
    "        for idx in range(len(n_poses_list)):\n",
    "            n_poses = n_poses_list[idx]\n",
    "            n_good_poses = n_good_poses_list[idx]\n",
    "            n_bad_poses = n_bad_poses_list[idx]\n",
    "            n_cmpds = n_cmpds_list[idx]\n",
    "            n_good_cmpds = n_good_cmpds_list[idx]\n",
    "            n_bad_cmpds = n_bad_cmpds_list[idx]\n",
    "\n",
    "            self.tpr_poses.append(n_good_poses / self.total_good_poses)\n",
    "            self.fpr_poses.append(n_bad_poses / self.total_bad_poses)\n",
    "            self.precision_poses.append(self.weird_division(n_good_poses, n_poses))\n",
    "            \n",
    "            self.tpr_cmpds.append(n_good_cmpds / self.total_good_cmpds)\n",
    "#             self.fpr_cmpds.append(n_bad_cmpds / self.total_bad_cmpds) ## this doesn't really make sense mathematically\n",
    "            self.precision_cmpds.append(self.weird_division(n_good_cmpds, n_cmpds))\n",
    "            \n",
    "#             print(n_good_cmpds, n_bad_cmpds, self.total_cmpds)\n",
    "                \n",
    "        \n",
    "        self.auc_poses.append(self.calc_auc_from_fpr_tpr(self.fpr_poses, self.tpr_poses))\n",
    "#         self.auc_cmpds.append(self.calc_auc_from_fpr_tpr(self.fpr_cmpds, self.tpr_cmpds))\n",
    "    \n",
    "    def get_bootstrapped_error_bars(self, n_bootstraps):\n",
    "        \n",
    "        _ = [self.get_auc_from_df(self.df.sample(frac=1, replace=True)) for n in range(n_bootstraps)]\n",
    "\n",
    "        auc_poses_array = np.array(self.auc_poses)\n",
    "#         auc_cmpds_array = np.array(self.auc_cmpds)\n",
    "        \n",
    "        auc_poses_array.sort()\n",
    "#         auc_cmpds_array.sort()\n",
    "        \n",
    "        auc_poses_bounds = math.floor(len(auc_poses_array) * 0.025)\n",
    "#         auc_cmpds_bounds = math.floor(len(auc_cmpds_array) * 0.025)\n",
    "        self.poses_ci = (auc_poses_array.mean() - auc_poses_array[auc_poses_bounds], auc_poses_array[-auc_poses_bounds] - auc_poses_array.mean())\n",
    "#         self.cmpds_ci = (auc_cmpds_array.mean() - auc_cmpds_array[auc_cmpds_bounds], auc_cmpds_array[-auc_cmpds_bounds] - auc_cmpds_array.mean())\n",
    "    \n",
    "    def get_df(self):\n",
    "        self.auc_poses_df = pd.DataFrame({\"True_Positive\": self.tpr_poses,\n",
    "                      \"False_Positive\": self.fpr_poses,\n",
    "                      \"Value\": self.score_range,\n",
    "                      \"Score_Type\": self.score_name,\n",
    "                                          \"Precision\": self.precision_poses\n",
    "                              })\n",
    "        self.auc_cmpds_df = pd.DataFrame({\"True_Positive\": self.tpr_cmpds,\n",
    "#                       \"False_Positive\": self.fpr_cmpds,\n",
    "                      \"Value\": self.score_range,\n",
    "                      \"Score_Type\": self.score_name,\n",
    "                                          \"Precision\": self.precision_cmpds\n",
    "                              })\n",
    "        \n",
    "\n",
    "class Rocks():\n",
    "    def __init__(self, \n",
    "                 df, \n",
    "                 score_list, \n",
    "                 n_samples, \n",
    "                 n_bootstraps=None,\n",
    "                ):\n",
    "        self.df = df\n",
    "        self.score_list = score_list\n",
    "        self.n_samples = n_samples\n",
    "        self.n_bootstraps = n_bootstraps\n",
    "        self.rock_dict = {}\n",
    "        \n",
    "        self.build_rocks()\n",
    "\n",
    "    def build_rocks(self):\n",
    "        for score_name in self.score_list:\n",
    "            assert score_name in self.df.columns\n",
    "            self.rock_dict[score_name] = Rock(self.df, score_name, self.n_samples)\n",
    "    \n",
    "    def get_aucs(self):\n",
    "        for score_name, rock in self.rock_dict.items():\n",
    "            rock.get_auc_from_df()\n",
    "            rock.get_df()\n",
    "            self.rock_dict[score_name] = rock\n",
    "            \n",
    "    def combine_dfs(self):\n",
    "        _ = [rock.get_df() for rock in self.rock_dict.values()]\n",
    "        poses_dfs = [rock.auc_poses_df for rock in self.rock_dict.values()]\n",
    "        cmpds_dfs = [rock.auc_cmpds_df for rock in self.rock_dict.values()]\n",
    "        self.poses_df = pd.concat(poses_dfs)\n",
    "        self.cmpds_df = pd.concat(cmpds_dfs)\n",
    "            \n",
    "        \n",
    "    def get_auc_cis(self):\n",
    "        \n",
    "        lower_bound_list = []\n",
    "        upper_bound_list = []\n",
    "        auc_list = []\n",
    "        for score_name, rock in self.rock_dict.items():\n",
    "            print(score_name)\n",
    "            rock.get_bootstrapped_error_bars(self.n_bootstraps)\n",
    "            lower_bound_list.append(rock.poses_ci[0])\n",
    "            upper_bound_list.append(rock.poses_ci[1])\n",
    "            auc_list.append(rock.auc_poses[0])\n",
    "        self.model_df = pd.DataFrame({\n",
    "            \"Score_Type\": self.score_list,\n",
    "            \"Lower_Bound\": lower_bound_list,\n",
    "            \"AUC\": auc_list,\n",
    "            \"Upper_Bound\": upper_bound_list\n",
    "        })\n",
    "        \n",
    "    \n",
    "    def plot_auc(self, df_type='poses'):\n",
    "        if df_type=='poses':\n",
    "            df = self.poses_df\n",
    "        elif df_type=='cmpds':\n",
    "            df = self.cmpds_df\n",
    "        fig = ex.line(df, \n",
    "            x=\"False_Positive\", \n",
    "            y=\"True_Positive\", \n",
    "            color=\"Score_Type\",\n",
    "            hover_data=[\"Value\"],\n",
    "                     )\n",
    "        fig.update_layout(height=600, width=600, title=df_type)\n",
    "        fig.update_yaxes(\n",
    "            scaleanchor=\"x\",\n",
    "            scaleratio=1,\n",
    "        )\n",
    "        \n",
    "        \n",
    "        return fig"
   ]
  },
  {
   "cell_type": "code",
   "execution_count": null,
   "id": "c5fc7de4",
   "metadata": {},
   "outputs": [],
   "source": [
    "rocks = Rocks(test_filtered_df,\n",
    "             [\"POSIT_R\", \"Chemgauss4\", \"MCSS_Rank\"],\n",
    "             n_samples=100,\n",
    "             n_bootstraps=100)"
   ]
  },
  {
   "cell_type": "code",
   "execution_count": null,
   "id": "603843f2",
   "metadata": {},
   "outputs": [],
   "source": [
    "rocks.get_aucs()"
   ]
  },
  {
   "cell_type": "code",
   "execution_count": null,
   "id": "b96d1fac",
   "metadata": {},
   "outputs": [],
   "source": [
    "rocks.combine_dfs()"
   ]
  },
  {
   "cell_type": "code",
   "execution_count": null,
   "id": "29fe63c7",
   "metadata": {},
   "outputs": [],
   "source": [
    "rocks.plot_auc()"
   ]
  },
  {
   "cell_type": "code",
   "execution_count": null,
   "id": "cc68b021",
   "metadata": {},
   "outputs": [],
   "source": [
    "rocks.get_auc_cis()"
   ]
  },
  {
   "cell_type": "code",
   "execution_count": null,
   "id": "893dafd9",
   "metadata": {},
   "outputs": [],
   "source": [
    "rocks.model_df"
   ]
  },
  {
   "cell_type": "code",
   "execution_count": null,
   "id": "abe23d5a",
   "metadata": {},
   "outputs": [],
   "source": [
    "def get_auc_from_df(df, score_name, n_samples):\n",
    "    score_range = np.linspace(df[score_name].min() - 1,\n",
    "                              df[score_name].max(),\n",
    "                              n_samples,\n",
    "                             endpoint=True)\n",
    "    total_good_poses = sum(df[\"RMSD\"] <= 2)\n",
    "    total_bad_poses = sum(df[\"RMSD\"] > 2)\n",
    "    total_n_cmpds = len(set(df.Compound_ID))\n",
    "    total_good_cmpds = len(set(df[df[\"RMSD\"] <= 2].Compound_ID))\n",
    "    \n",
    "    tps = []\n",
    "    fps = []\n",
    "    perc_cmpds = []\n",
    "    perc_good_cmpds = []\n",
    "    for cutoff in score_range:\n",
    "        new_df = df[df[score_name] <= cutoff]\n",
    "        good_poses = new_df[new_df[\"RMSD\"] <= 2]\n",
    "        \n",
    "        n_good_poses = len(good_poses)\n",
    "        n_good_cmpds = len(set(good_poses.Compound_ID))\n",
    "        n_bad_poses = sum(new_df[\"RMSD\"] > 2)\n",
    "        n_cmpds = len(set(new_df.Compound_ID))\n",
    "        \n",
    "        tps.append(n_good_poses / total_good_poses)\n",
    "        fps.append(n_bad_poses / total_bad_poses)\n",
    "        perc_cmpds.append(n_cmpds / total_n_cmpds)\n",
    "        perc_good_cmpds.append(n_good_cmpds / total_good_cmpds)\n",
    "    \n",
    "    \n",
    "    auc = np.trapz(x=fps, y=tps)\n",
    "    \n",
    "    return tps, fps, auc, perc_cmpds, perc_good_cmpds, score_range"
   ]
  },
  {
   "cell_type": "code",
   "execution_count": null,
   "id": "411cd264",
   "metadata": {},
   "outputs": [],
   "source": [
    "def get_auc_bootstrap_error_bars(df, score_name, n_samples, n_bootstraps=1):\n",
    "    auc_list = []\n",
    "    for n in range(n_bootstraps):\n",
    "        bootstrap_df = df.sample(frac=1, replace=True)\n",
    "        tps, fps, auc, perc_cmpds, perc_good_cmpds, score_range = get_auc_from_df(bootstrap_df, score_name, n_samples)\n",
    "        auc_list.append(auc)\n",
    "    auc_array = np.array(auc_list)\n",
    "    auc_array.sort()\n",
    "#     print(auc_array)\n",
    "    bounds = math.floor(len(auc_array) * 0.025)\n",
    "    ci = (auc_array.mean() - auc_array[bounds], auc_array[-bounds] - auc_array.mean())\n",
    "    return ci"
   ]
  },
  {
   "cell_type": "code",
   "execution_count": null,
   "id": "f00eb09b",
   "metadata": {},
   "outputs": [],
   "source": [
    "get_auc_bootstrap_error_bars(df=test_filtered_df, \n",
    "                             score_name=\"Chemgauss4\", \n",
    "                             n_samples=10, \n",
    "                             n_bootstraps=10)"
   ]
  },
  {
   "cell_type": "code",
   "execution_count": null,
   "id": "49cdd090",
   "metadata": {},
   "outputs": [],
   "source": [
    "def get_all_aucs(df, score_list, n_samples, n_bootstraps):\n",
    "    auc_data_df_list = []\n",
    "    \n",
    "    auc_list = []\n",
    "    lower_bound_list = []\n",
    "    upper_bound_list = []\n",
    "    score_name_list = []\n",
    "    \n",
    "    for score_name in score_list:\n",
    "        print(score_name)\n",
    "        tps, fps, auc, perc_cmpds, perc_good_cmpds, pscore_range = get_auc_from_df(df, score_name, n_samples)\n",
    "        auc_df = pd.DataFrame({\"True_Positive\": tps,\n",
    "                      \"False_Positive\": fps,\n",
    "                      \"Value\": score_range,\n",
    "                      \"Score_Type\": score_name,\n",
    "                              \"Perc_CMPDs\": perc_cmpds,\n",
    "                               \"Perc_Good_CMPDs\": perc_good_cmpds\n",
    "                              })\n",
    "        auc_data_df_list.append(auc_df)\n",
    "        \n",
    "        lower_bound, upper_bound = get_auc_bootstrap_error_bars(df, score_name, n_samples, n_bootstraps)\n",
    "        \n",
    "        auc_list.append(auc)\n",
    "        lower_bound_list.append(lower_bound)\n",
    "        upper_bound_list.append(upper_bound)\n",
    "        score_name_list.append(score_name)\n",
    "    \n",
    "    ## Add random\n",
    "    random_auc_df = pd.DataFrame({\"True_Positive\": np.linspace(0,1, len(tps)),\n",
    "                      \"False_Positive\": np.linspace(0,1, len(tps)),\n",
    "                      \"Value\": np.linspace(0,1, len(tps)),\n",
    "                      \"Score_Type\": \"RANDOM\"})\n",
    "    \n",
    "    model_df = pd.DataFrame({\n",
    "        \"Score_Type\": score_name_list,\n",
    "        \"Lower_Bound\": lower_bound_list,\n",
    "        \"AUC\": auc_list,\n",
    "        \"Upper_Bound\": upper_bound_list\n",
    "    })\n",
    "        \n",
    "        \n",
    "    return pd.concat(auc_data_df_list + [random_auc_df]), model_df"
   ]
  },
  {
   "cell_type": "code",
   "execution_count": null,
   "id": "8ef5f1d4",
   "metadata": {},
   "outputs": [],
   "source": []
  },
  {
   "cell_type": "markdown",
   "id": "13cea993",
   "metadata": {},
   "source": [
    "## calculate all AUCs for test data"
   ]
  },
  {
   "cell_type": "code",
   "execution_count": null,
   "id": "e7ca40e7",
   "metadata": {},
   "outputs": [],
   "source": [
    "auc_data_df, model_df = get_all_aucs(test_filtered_df, \n",
    "                                     [\"Chemgauss4\", \n",
    "                                      \"POSIT_R\", \n",
    "                                      \"MCSS_Rank\"], \n",
    "                                     n_samples=100, \n",
    "                                     n_bootstraps=100)"
   ]
  },
  {
   "cell_type": "markdown",
   "id": "d345236e",
   "metadata": {},
   "source": [
    "## which score function does the best job at predicting good poses (RMSD <=2)?"
   ]
  },
  {
   "cell_type": "code",
   "execution_count": null,
   "id": "3ffa44b3",
   "metadata": {},
   "outputs": [],
   "source": [
    "fig = ex.line(auc_data_df, \n",
    "        x=\"False_Positive\", \n",
    "        y=\"True_Positive\", \n",
    "        color=\"Score_Type\",\n",
    "       hover_data=[\"Value\"],\n",
    "       )\n",
    "fig.update_layout(height=600, width=600)\n",
    "fig.update_yaxes(\n",
    "    scaleanchor=\"x\",\n",
    "    scaleratio=1,\n",
    ")"
   ]
  },
  {
   "cell_type": "markdown",
   "id": "a912388c",
   "metadata": {},
   "source": [
    "### Conclusion: POSIT"
   ]
  },
  {
   "cell_type": "markdown",
   "id": "fc72886c",
   "metadata": {},
   "source": [
    "### i don't think this graph is very helpful:"
   ]
  },
  {
   "cell_type": "code",
   "execution_count": null,
   "id": "2f99695a",
   "metadata": {},
   "outputs": [],
   "source": [
    "fig = ex.line(auc_data_df, \n",
    "        x=\"False_Positive\", \n",
    "        y=\"Perc_CMPDs\", \n",
    "        color=\"Score_Type\",\n",
    "       hover_data=[\"Value\"],\n",
    "       )\n",
    "fig.update_layout(height=600, width=600)\n",
    "fig.update_yaxes(\n",
    "    scaleanchor=\"x\",\n",
    "    scaleratio=1,\n",
    ")"
   ]
  },
  {
   "cell_type": "code",
   "execution_count": null,
   "id": "dc5db53b",
   "metadata": {},
   "outputs": [],
   "source": []
  },
  {
   "cell_type": "markdown",
   "id": "44f19222",
   "metadata": {},
   "source": [
    "## Which score function does the best at returning at least 1 good pose per compound?"
   ]
  },
  {
   "cell_type": "code",
   "execution_count": null,
   "id": "dcb0155f",
   "metadata": {},
   "outputs": [],
   "source": [
    "fig = ex.line(auc_data_df, \n",
    "        x=\"False_Positive\", \n",
    "        y=\"Perc_Good_CMPDs\", \n",
    "        color=\"Score_Type\",\n",
    "       hover_data=[\"Value\"],\n",
    "       )\n",
    "fig.update_layout(height=600, width=600)\n",
    "fig.update_yaxes(\n",
    "    scaleanchor=\"x\",\n",
    "    scaleratio=1,\n",
    ")"
   ]
  },
  {
   "cell_type": "markdown",
   "id": "2ed37529",
   "metadata": {},
   "source": [
    "### Conclusion: still POSIT"
   ]
  },
  {
   "cell_type": "markdown",
   "id": "ff4e7761",
   "metadata": {},
   "source": [
    "## How many are we actually returning?"
   ]
  },
  {
   "cell_type": "markdown",
   "id": "e13ad3fe",
   "metadata": {},
   "source": [
    "### POSIT > 0.25"
   ]
  },
  {
   "cell_type": "code",
   "execution_count": null,
   "id": "0e51ebd5",
   "metadata": {},
   "outputs": [],
   "source": [
    "good_POSIT_R = test_df[test_df.POSIT_R < 0.75]"
   ]
  },
  {
   "cell_type": "code",
   "execution_count": null,
   "id": "0c6ac813",
   "metadata": {},
   "outputs": [],
   "source": [
    "sum(good_POSIT_R.RMSD <=2)"
   ]
  },
  {
   "cell_type": "code",
   "execution_count": null,
   "id": "7e4d7b7a",
   "metadata": {},
   "outputs": [],
   "source": [
    "sum(good_POSIT_R.RMSD > 2)"
   ]
  },
  {
   "cell_type": "code",
   "execution_count": null,
   "id": "1fa4657b",
   "metadata": {},
   "outputs": [],
   "source": [
    "len(good_POSIT_R)"
   ]
  },
  {
   "cell_type": "code",
   "execution_count": null,
   "id": "2c7bd9e7",
   "metadata": {},
   "outputs": [],
   "source": [
    "sum(test_df.RMSD <= 2)"
   ]
  },
  {
   "cell_type": "code",
   "execution_count": null,
   "id": "6081e85a",
   "metadata": {},
   "outputs": [],
   "source": [
    "sum(good_POSIT_R.RMSD <=2) / sum(test_df.RMSD <= 2)"
   ]
  },
  {
   "cell_type": "code",
   "execution_count": null,
   "id": "06aa67ca",
   "metadata": {},
   "outputs": [],
   "source": [
    "len(set(good_POSIT_R.Compound_ID)) / len(set(test_df.Compound_ID))"
   ]
  },
  {
   "cell_type": "markdown",
   "id": "0880b71c",
   "metadata": {},
   "source": [
    "### Conclusion: At a POSIT score larger than 0.25, we return 97.8% of good RMSD"
   ]
  },
  {
   "cell_type": "code",
   "execution_count": null,
   "id": "11105a01",
   "metadata": {},
   "outputs": [],
   "source": []
  },
  {
   "cell_type": "code",
   "execution_count": null,
   "id": "0732c6f0",
   "metadata": {},
   "outputs": [],
   "source": []
  },
  {
   "cell_type": "markdown",
   "id": "74f3c72e",
   "metadata": {},
   "source": [
    "## Plot Precision vs Recall"
   ]
  },
  {
   "cell_type": "code",
   "execution_count": null,
   "id": "953a56be",
   "metadata": {},
   "outputs": [],
   "source": [
    "auc_data_df"
   ]
  },
  {
   "cell_type": "code",
   "execution_count": null,
   "id": "d1039b89",
   "metadata": {},
   "outputs": [],
   "source": []
  },
  {
   "cell_type": "code",
   "execution_count": null,
   "id": "3768a1d6",
   "metadata": {},
   "outputs": [],
   "source": []
  },
  {
   "cell_type": "code",
   "execution_count": null,
   "id": "e307fda3",
   "metadata": {},
   "outputs": [],
   "source": [
    "model_df"
   ]
  },
  {
   "cell_type": "code",
   "execution_count": null,
   "id": "25dfdd3e",
   "metadata": {},
   "outputs": [],
   "source": [
    "ex.bar(model_df, x=\"Score_Type\", y=\"AUC\", error_y=\"Upper_Bound\", error_y_minus=\"Lower_Bound\")"
   ]
  },
  {
   "cell_type": "markdown",
   "id": "329b1e58",
   "metadata": {},
   "source": [
    "## calculate all AUCs for redocked data"
   ]
  },
  {
   "cell_type": "code",
   "execution_count": null,
   "id": "f382adb6",
   "metadata": {},
   "outputs": [],
   "source": [
    "auc_data_df, model_df = get_all_aucs(redocked_filtered_df, [\"Chemgauss4\", \"POSIT_R\"], 100, 100)"
   ]
  },
  {
   "cell_type": "code",
   "execution_count": null,
   "id": "1e2987f9",
   "metadata": {},
   "outputs": [],
   "source": [
    "fig = ex.line(auc_data_df, \n",
    "        x=\"False_Positive\", \n",
    "        y=\"True_Positive\", \n",
    "        color=\"Score_Type\",\n",
    "       hover_data=[\"Value\"],\n",
    "       )\n",
    "fig.update_layout(height=600, width=600)\n",
    "fig.update_yaxes(\n",
    "    scaleanchor=\"x\",\n",
    "    scaleratio=1,\n",
    ")"
   ]
  },
  {
   "cell_type": "code",
   "execution_count": null,
   "id": "04a03d12",
   "metadata": {},
   "outputs": [],
   "source": [
    "model_df"
   ]
  },
  {
   "cell_type": "code",
   "execution_count": null,
   "id": "88622972",
   "metadata": {},
   "outputs": [],
   "source": [
    "ex.bar(model_df, \n",
    "       x=\"Score_Type\", \n",
    "       y=\"AUC\", \n",
    "       error_y=\"Upper_Bound\", \n",
    "       error_y_minus=\"Lower_Bound\")"
   ]
  },
  {
   "cell_type": "code",
   "execution_count": null,
   "id": "67fc01d4",
   "metadata": {},
   "outputs": [],
   "source": []
  },
  {
   "cell_type": "markdown",
   "id": "021afd49",
   "metadata": {},
   "source": [
    "# Testing analyzing mers data using the module code"
   ]
  },
  {
   "cell_type": "code",
   "execution_count": null,
   "id": "4ca409af",
   "metadata": {},
   "outputs": [],
   "source": [
    "import os, sys\n",
    "from importlib import reload\n",
    "sys.path.append('../')"
   ]
  },
  {
   "cell_type": "code",
   "execution_count": null,
   "id": "8afdefa5",
   "metadata": {},
   "outputs": [],
   "source": [
    "from asapdiscovery.docking import plotting as pl"
   ]
  },
  {
   "cell_type": "code",
   "execution_count": null,
   "id": "61ca9f58",
   "metadata": {},
   "outputs": [],
   "source": [
    "reload(pl)"
   ]
  },
  {
   "cell_type": "code",
   "execution_count": null,
   "id": "9f69c5a6",
   "metadata": {},
   "outputs": [],
   "source": [
    "fn = \"/Users/alexpayne/lilac-mount-point/mers_hallucination/all_results.csv\""
   ]
  },
  {
   "cell_type": "code",
   "execution_count": null,
   "id": "4ff33142",
   "metadata": {},
   "outputs": [],
   "source": [
    "rocks = pl.Rocks(fn, [\"POSIT_prob\", \"chemgauss4_score\"], \"docked_RMSD\", 10)"
   ]
  },
  {
   "cell_type": "code",
   "execution_count": null,
   "id": "7ead4ace",
   "metadata": {},
   "outputs": [],
   "source": [
    "import pandas as pd\n",
    "df = pd.read_csv(fn)"
   ]
  },
  {
   "cell_type": "code",
   "execution_count": null,
   "id": "db5d1ab4",
   "metadata": {},
   "outputs": [],
   "source": [
    "df.docked_file[0]"
   ]
  },
  {
   "cell_type": "code",
   "execution_count": null,
   "id": "76abbe49",
   "metadata": {},
   "outputs": [],
   "source": [
    "df"
   ]
  },
  {
   "cell_type": "code",
   "execution_count": null,
   "id": "0cb5b789",
   "metadata": {},
   "outputs": [],
   "source": [
    "df[df.docked_RMSD == -1]"
   ]
  },
  {
   "cell_type": "markdown",
   "id": "1fa25430",
   "metadata": {},
   "source": [
    "# Try on sars data instead"
   ]
  },
  {
   "cell_type": "code",
   "execution_count": null,
   "id": "20ad9fe2",
   "metadata": {},
   "outputs": [],
   "source": [
    "import os, sys\n",
    "from importlib import reload\n",
    "sys.path.append('../')\n",
    "from asapdiscovery.docking import plotting as pl\n",
    "reload(pl)"
   ]
  },
  {
   "cell_type": "code",
   "execution_count": null,
   "id": "469ba28a",
   "metadata": {},
   "outputs": [],
   "source": [
    "reload(pl)"
   ]
  },
  {
   "cell_type": "code",
   "execution_count": null,
   "id": "932523d1",
   "metadata": {},
   "outputs": [],
   "source": [
    "fn = \"../scripts/20220818-sars-docking_v2.csv\""
   ]
  },
  {
   "cell_type": "code",
   "execution_count": null,
   "id": "19d24cb1",
   "metadata": {},
   "outputs": [],
   "source": [
    "rocks = pl.Rocks(fn,\n",
    "        [\"POSIT_R\", \"Chemgauss4\", \"MCSS_Rank\"],\n",
    "        \"RMSD\",\n",
    "        100,\n",
    "        100)"
   ]
  },
  {
   "cell_type": "code",
   "execution_count": null,
   "id": "985b4f75",
   "metadata": {},
   "outputs": [],
   "source": [
    "rocks.clean_dataframe()"
   ]
  },
  {
   "cell_type": "code",
   "execution_count": null,
   "id": "1bc81269",
   "metadata": {},
   "outputs": [],
   "source": [
    "rocks.df"
   ]
  },
  {
   "cell_type": "markdown",
   "id": "6724355e",
   "metadata": {},
   "source": [
    "# initial plotting"
   ]
  },
  {
   "cell_type": "code",
   "execution_count": null,
   "id": "e6b9e85b",
   "metadata": {},
   "outputs": [],
   "source": [
    "ex.histogram(rocks.df, x=\"RMSD\")"
   ]
  },
  {
   "cell_type": "code",
   "execution_count": null,
   "id": "3df25196",
   "metadata": {},
   "outputs": [],
   "source": [
    "ex.scatter(rocks.df, \n",
    "           x=\"MCSS_Rank\", \n",
    "           y=\"RMSD\", \n",
    "           color=\"Compound_ID\", \n",
    "           hover_data=[\"Crystal_ID\", \n",
    "                       \"Reference\", \n",
    "                       \"Chain_ID\"]\n",
    "          )"
   ]
  },
  {
   "cell_type": "code",
   "execution_count": null,
   "id": "192518cb",
   "metadata": {},
   "outputs": [],
   "source": [
    "ex.scatter(rocks.df, \n",
    "           x=\"RMSD\", \n",
    "           y=\"Chemgauss4\", \n",
    "           color=\"POSIT\", \n",
    "           hover_data=[\"Crystal_ID\", \n",
    "                       \"Reference\", \n",
    "                       \"Chain_ID\"], \n",
    "          )"
   ]
  },
  {
   "cell_type": "code",
   "execution_count": null,
   "id": "11542a78",
   "metadata": {},
   "outputs": [],
   "source": [
    "ex.scatter(rocks.df, \n",
    "           x=\"POSIT_R\", \n",
    "           y=\"RMSD\", \n",
    "           color=\"Chemgauss4\", \n",
    "           hover_data=[\"Compound_ID\",\n",
    "                       \"Crystal_ID\", \n",
    "                       \"Reference\", \n",
    "                       \"Chain_ID\"], \n",
    "          )"
   ]
  },
  {
   "cell_type": "code",
   "execution_count": null,
   "id": "772ac022",
   "metadata": {},
   "outputs": [],
   "source": [
    "rocks.get_aucs()"
   ]
  },
  {
   "cell_type": "code",
   "execution_count": null,
   "id": "a5f02a58",
   "metadata": {},
   "outputs": [],
   "source": [
    "rocks.combine_dfs()"
   ]
  },
  {
   "cell_type": "code",
   "execution_count": null,
   "id": "2b2ea7db",
   "metadata": {},
   "outputs": [],
   "source": [
    "rocks.plot_poses_auc()"
   ]
  },
  {
   "cell_type": "code",
   "execution_count": null,
   "id": "dde7666d",
   "metadata": {},
   "outputs": [],
   "source": [
    "rocks.poses_df"
   ]
  },
  {
   "cell_type": "code",
   "execution_count": null,
   "id": "4c58322b",
   "metadata": {},
   "outputs": [],
   "source": [
    "rocks.combine_dfs()"
   ]
  },
  {
   "cell_type": "code",
   "execution_count": null,
   "id": "d47dfe0a",
   "metadata": {},
   "outputs": [],
   "source": [
    "rocks.get_auc_cis()"
   ]
  },
  {
   "cell_type": "code",
   "execution_count": null,
   "id": "5bd9d637",
   "metadata": {},
   "outputs": [],
   "source": [
    "rocks.plot_precision_recall()"
   ]
  },
  {
   "cell_type": "code",
   "execution_count": null,
   "id": "3f711008",
   "metadata": {},
   "outputs": [],
   "source": [
    "rocks.model_df"
   ]
  },
  {
   "cell_type": "code",
   "execution_count": null,
   "id": "eb7d2ce8",
   "metadata": {},
   "outputs": [],
   "source": [
    "ex.bar(rocks.model_df, \n",
    "       x=\"Score_Type\", \n",
    "       y=\"AUC\", \n",
    "       error_y=\"Upper_Bound\", \n",
    "       error_y_minus=\"Lower_Bound\")"
   ]
  },
  {
   "cell_type": "code",
   "execution_count": null,
   "id": "e1a64855",
   "metadata": {},
   "outputs": [],
   "source": [
    "fig = rocks.plot_poses_auc()"
   ]
  },
  {
   "cell_type": "code",
   "execution_count": null,
   "id": "cc2391cf",
   "metadata": {},
   "outputs": [],
   "source": [
    "fig.add_shape(x0=0, x1=1, y0=0, y1=1)"
   ]
  },
  {
   "cell_type": "code",
   "execution_count": null,
   "id": "8b3176bf",
   "metadata": {},
   "outputs": [],
   "source": []
  }
 ],
 "metadata": {
  "kernelspec": {
   "display_name": "Python 3 (ipykernel)",
   "language": "python",
   "name": "python3"
  },
  "language_info": {
   "codemirror_mode": {
    "name": "ipython",
    "version": 3
   },
   "file_extension": ".py",
   "mimetype": "text/x-python",
   "name": "python",
   "nbconvert_exporter": "python",
   "pygments_lexer": "ipython3",
   "version": "3.8.13"
  },
  "toc": {
   "base_numbering": 1,
   "nav_menu": {},
   "number_sections": true,
   "sideBar": true,
   "skip_h1_title": false,
   "title_cell": "Table of Contents",
   "title_sidebar": "Contents",
   "toc_cell": false,
   "toc_position": {
    "height": "calc(100% - 180px)",
    "left": "10px",
    "top": "150px",
    "width": "578px"
   },
   "toc_section_display": true,
   "toc_window_display": true
  }
 },
 "nbformat": 4,
 "nbformat_minor": 5
}