{
 "cells": [
  {
   "cell_type": "code",
   "execution_count": 1,
   "id": "042246e1-f799-4d40-8283-b71a41e54b7b",
   "metadata": {},
   "outputs": [],
   "source": [
    "import pandas\n",
    "from openeye import oechem, oespruce"
   ]
  },
  {
   "cell_type": "markdown",
   "id": "0151419a-9a0d-49ac-b00c-1820b8a84022",
   "metadata": {},
   "source": [
    "# Loading protein, splitting, and aligning to reference"
   ]
  },
  {
   "cell_type": "code",
   "execution_count": 2,
   "id": "e8dd1fe2-fedc-4092-90c4-29c6e9bcec39",
   "metadata": {},
   "outputs": [
    {
     "name": "stdout",
     "output_type": "stream",
     "text": [
      "2634\n",
      "2603\n"
     ]
    }
   ],
   "source": [
    "pdb_fn = \"input_pdbs/5WKK.pdb\"\n",
    "## Load molecule to extract\n",
    "ifs = oechem.oemolistream()\n",
    "ifs.SetFlavor(\n",
    "    oechem.OEFormat_PDB,\n",
    "    oechem.OEIFlavor_PDB_Default\n",
    "    | oechem.OEIFlavor_PDB_DATA\n",
    "    | oechem.OEIFlavor_PDB_ALTLOC,\n",
    ")\n",
    "ifs.open(pdb_fn)\n",
    "complex_mol = oechem.OEGraphMol()\n",
    "oechem.OEReadMolecule(ifs, complex_mol)\n",
    "ifs.close()\n",
    "\n",
    "## Keep only highest occupancy alt location\n",
    "alf = oechem.OEAltLocationFactory(complex_mol)\n",
    "if alf.GetGroupCount() != 0:\n",
    "    print(complex_mol.NumAtoms())\n",
    "    alf.MakePrimaryAltMol(complex_mol)\n",
    "    print(complex_mol.NumAtoms())"
   ]
  },
  {
   "cell_type": "code",
   "execution_count": 3,
   "id": "ca2d3459-3694-43d9-a2a8-d67772ffddd1",
   "metadata": {},
   "outputs": [
    {
     "name": "stdout",
     "output_type": "stream",
     "text": [
      "True\n",
      "2603 62 2256 24 261\n"
     ]
    }
   ],
   "source": [
    "## Test splitting\n",
    "lig_mol = oechem.OEGraphMol()\n",
    "prot_mol = oechem.OEGraphMol()\n",
    "water_mol = oechem.OEGraphMol()\n",
    "oth_mol = oechem.OEGraphMol()\n",
    "\n",
    "## Make splitting split out covalent ligands\n",
    "## TODO: look into different covalent-related options here\n",
    "opts = oechem.OESplitMolComplexOptions()\n",
    "opts.SetSplitCovalent(True)\n",
    "opts.SetSplitCovalentCofactors(True)\n",
    "print(\n",
    "    oechem.OESplitMolComplex(lig_mol, prot_mol, water_mol, oth_mol, complex_mol)\n",
    ")\n",
    "\n",
    "print(\n",
    "    complex_mol.NumAtoms(),\n",
    "    lig_mol.NumAtoms(),\n",
    "    prot_mol.NumAtoms(),\n",
    "    water_mol.NumAtoms(),\n",
    "    oth_mol.NumAtoms(),\n",
    ")"
   ]
  },
  {
   "cell_type": "code",
   "execution_count": 4,
   "id": "19bef282-9d06-4fb7-82d7-e992919bdf02",
   "metadata": {},
   "outputs": [
    {
     "name": "stdout",
     "output_type": "stream",
     "text": [
      "2832\n",
      "True\n",
      "2832 34 2316 18 464\n"
     ]
    }
   ],
   "source": [
    "## Load ref PDB molecule\n",
    "ref_fn = \"input_pdbs/reference.pdb\"\n",
    "ref_complex_mol = oechem.OEGraphMol()\n",
    "ifs.open(ref_fn)\n",
    "oechem.OEReadMolecule(ifs, ref_complex_mol)\n",
    "ifs.close()\n",
    "print(ref_complex_mol.NumAtoms())\n",
    "\n",
    "## Perform splitting for ref\n",
    "ref_lig_mol = oechem.OEGraphMol()\n",
    "ref_prot_mol = oechem.OEGraphMol()\n",
    "ref_water_mol = oechem.OEGraphMol()\n",
    "ref_oth_mol = oechem.OEGraphMol()\n",
    "print(\n",
    "    oechem.OESplitMolComplex(\n",
    "        ref_lig_mol, ref_prot_mol, ref_water_mol, ref_oth_mol, ref_complex_mol\n",
    "    )\n",
    ")\n",
    "print(\n",
    "    ref_complex_mol.NumAtoms(),\n",
    "    ref_lig_mol.NumAtoms(),\n",
    "    ref_prot_mol.NumAtoms(),\n",
    "    ref_water_mol.NumAtoms(),\n",
    "    ref_oth_mol.NumAtoms(),\n",
    ")"
   ]
  },
  {
   "cell_type": "code",
   "execution_count": 5,
   "id": "5c8de739-fa8b-450d-aa36-485e2e767b74",
   "metadata": {},
   "outputs": [
    {
     "name": "stdout",
     "output_type": "stream",
     "text": [
      "RMSD: 1.8288194400350355\n",
      "True\n"
     ]
    }
   ],
   "source": [
    "## Align new protein to ref\n",
    "aln_res = oespruce.OESuperposeResults()\n",
    "superpos = oespruce.OESuperpose()\n",
    "superpos.SetupRef(ref_prot_mol)\n",
    "superpos.Superpose(aln_res, prot_mol)\n",
    "print(f\"RMSD: {aln_res.GetRMSD()}\")\n",
    "\n",
    "prot_mol_aligned = prot_mol.CreateCopy()\n",
    "print(aln_res.Transform(prot_mol_aligned))\n",
    "\n",
    "## Save new aligned molecule for inspection\n",
    "out_fn = \"test/5WKK_split_aligned.pdb\"\n",
    "ofs = oechem.oemolostream()\n",
    "ofs.SetFlavor(oechem.OEFormat_PDB, oechem.OEOFlavor_PDB_Default)\n",
    "ofs.open(out_fn)\n",
    "oechem.OEWriteMolecule(ofs, prot_mol_aligned)\n",
    "ofs.close()"
   ]
  },
  {
   "cell_type": "markdown",
   "id": "a1e21cc9-12ed-4897-86b0-c15e5acf07ed",
   "metadata": {},
   "source": [
    "# Load in new ligand and create DesignUnit"
   ]
  },
  {
   "cell_type": "code",
   "execution_count": 6,
   "id": "a53d8ccb-cab2-4897-b538-9b1ef8bf60bb",
   "metadata": {},
   "outputs": [
    {
     "name": "stdout",
     "output_type": "stream",
     "text": [
      "20\n",
      "20\n"
     ]
    }
   ],
   "source": [
    "## Load ligand molecule\n",
    "sdf_fn = f\"fragalysis/aligned/Mpro-P2007_0A/Mpro-P2007_0A.sdf\"\n",
    "ifs = oechem.oemolistream()\n",
    "ifs.SetFlavor(\n",
    "    oechem.OEFormat_SDF,\n",
    "    oechem.OEIFlavor_SDF_Default,\n",
    ")\n",
    "ifs.open(sdf_fn)\n",
    "coords_mol = oechem.OEGraphMol()\n",
    "oechem.OEReadMolecule(ifs, coords_mol)\n",
    "ifs.close()\n",
    "print(coords_mol.NumAtoms())\n",
    "\n",
    "## Load CDD compound tracker\n",
    "compound_df = pandas.read_csv(\n",
    "    \"fragalysis/extra_files/Mpro_compound_tracker_csv.csv\"\n",
    ")\n",
    "\n",
    "## Get SMILES from compound tracker\n",
    "idx = compound_df[\"Dataset\"] == \"Mpro-P2007\"\n",
    "smiles = compound_df.loc[idx, \"SMILES\"].values[0]\n",
    "new_lig_mol = oechem.OEGraphMol()\n",
    "oechem.OESmilesToMol(new_lig_mol, smiles)\n",
    "print(new_lig_mol.NumAtoms())"
   ]
  },
  {
   "cell_type": "code",
   "execution_count": 7,
   "id": "eda7e1ee-0fd5-4afb-81a0-b39855c9a93b",
   "metadata": {},
   "outputs": [
    {
     "name": "stdout",
     "output_type": "stream",
     "text": [
      "15 C 18 C\n",
      "16 C 17 C\n",
      " 3 C  5 C\n",
      "14 C 19 C\n",
      " 4 C  4 C\n",
      " 2 C  6 C\n",
      "17 C 16 C\n",
      "19 C  7 C\n",
      "11 C 15 C\n",
      " 6 C  2 C\n",
      " 5 C  3 C\n",
      " 1 C  8 C\n",
      "13 C 13 C\n",
      "10 C 11 C\n",
      " 7 C  1 C\n",
      "12 N 14 N\n",
      " 9 N 10 N\n",
      "18 N 12 N\n",
      " 8 O  0 O\n",
      " 0Cl  9Cl\n"
     ]
    },
    {
     "data": {
      "text/plain": [
       "True"
      ]
     },
     "execution_count": 7,
     "metadata": {},
     "output_type": "execute_result"
    }
   ],
   "source": [
    "## Make copy of new_lig_mol so we don't mess up the atom ordering in the\n",
    "##  actual molecule\n",
    "temp_mol = new_lig_mol.CreateCopy()\n",
    "\n",
    "## Reorder the atoms and bonds so the iterate together\n",
    "oechem.OECanonicalOrderAtoms(coords_mol)\n",
    "oechem.OECanonicalOrderBonds(coords_mol)\n",
    "oechem.OECanonicalOrderAtoms(temp_mol)\n",
    "oechem.OECanonicalOrderBonds(temp_mol)\n",
    "\n",
    "## Copy coordinates from the SDF-loaded mol into the SMILES-generated one\n",
    "## Build new coordinate dict with the proper numbering for the\n",
    "##  smiles-based molecule\n",
    "new_lig_mol_coords = {}\n",
    "coords_mol_coords = coords_mol.GetCoords()\n",
    "for a1, a2 in zip(temp_mol.GetAtoms(), coords_mol.GetAtoms()):\n",
    "    print(a1, a2)\n",
    "    idx1 = a1.GetIdx()\n",
    "    idx2 = a2.GetIdx()\n",
    "    new_lig_mol_coords[idx1] = coords_mol_coords[idx2]\n",
    "new_lig_mol.SetCoords(new_lig_mol_coords)"
   ]
  },
  {
   "cell_type": "markdown",
   "id": "3d4e5759-af75-4f6d-ae26-b5d80aeee8bd",
   "metadata": {},
   "source": [
    "# Brief aside to see if transferring coordinates works\n",
    "(run to here)"
   ]
  },
  {
   "cell_type": "code",
   "execution_count": 8,
   "id": "700e1027-6d82-4b0b-bd4d-901539cff66f",
   "metadata": {},
   "outputs": [
    {
     "ename": "NameError",
     "evalue": "name 'new_lig_mol_test' is not defined",
     "output_type": "error",
     "traceback": [
      "\u001B[0;31m---------------------------------------------------------------------------\u001B[0m",
      "\u001B[0;31mNameError\u001B[0m                                 Traceback (most recent call last)",
      "Input \u001B[0;32mIn [8]\u001B[0m, in \u001B[0;36m<cell line: 3>\u001B[0;34m()\u001B[0m\n\u001B[1;32m      1\u001B[0m \u001B[38;5;28;01mfrom\u001B[39;00m \u001B[38;5;21;01mopeneye\u001B[39;00m \u001B[38;5;28;01mimport\u001B[39;00m oedepict\n\u001B[0;32m----> 3\u001B[0m oedepict\u001B[38;5;241m.\u001B[39mOEPrepareDepiction(\u001B[43mnew_lig_mol_test\u001B[49m)\n\u001B[1;32m      4\u001B[0m oedepict\u001B[38;5;241m.\u001B[39mOEPrepareDepiction(smiles_mol_test)\n\u001B[1;32m      5\u001B[0m width, height \u001B[38;5;241m=\u001B[39m \u001B[38;5;241m600\u001B[39m, \u001B[38;5;241m600\u001B[39m\n",
      "\u001B[0;31mNameError\u001B[0m: name 'new_lig_mol_test' is not defined"
     ]
    }
   ],
   "source": [
    "from openeye import oedepict\n",
    "\n",
    "oedepict.OEPrepareDepiction(new_lig_mol_test)\n",
    "oedepict.OEPrepareDepiction(smiles_mol_test)\n",
    "width, height = 600, 600\n",
    "\n",
    "opts = oedepict.OE2DMolDisplayOptions(width, height, oedepict.OEScale_AutoScale)\n",
    "opts.SetAtomPropertyFunctor(oedepict.OEDisplayAtomIdx())\n",
    "opts.SetAtomPropLabelFont(oedepict.OEFont(oechem.OEDarkGreen))\n",
    "\n",
    "disp = oedepict.OE2DMolDisplay(new_lig_mol_test, opts)\n",
    "oedepict.OERenderMolecule(\"test1.png\", disp)\n",
    "\n",
    "disp = oedepict.OE2DMolDisplay(smiles_mol_test, opts)\n",
    "oedepict.OERenderMolecule(\"test2.png\", disp)"
   ]
  },
  {
   "cell_type": "code",
   "execution_count": null,
   "id": "f58f4730-f2f0-4103-a388-8d13e54e9e84",
   "metadata": {},
   "outputs": [],
   "source": [
    "## Build new coordinate dict with the proper numbering for the\n",
    "##  smiles-based molecule\n",
    "smiles_mol_coords = {}\n",
    "new_lig_mol_coords = new_lig_mol_test.GetCoords()\n",
    "for a1, a2 in zip(new_lig_mol_test.GetAtoms(), smiles_mol_test.GetAtoms()):\n",
    "    idx1 = a1.GetIdx()\n",
    "    idx2 = a2.GetIdx()\n",
    "    smiles_mol_coords[idx2] = new_lig_mol_coords[idx1]\n",
    "smiles_mol_test.SetCoords(smiles_mol_coords)\n",
    "\n",
    "## Add Hs to both to be able to see double bonds in PDB\n",
    "print(oechem.OEAddExplicitHydrogens(new_lig_mol_test))\n",
    "print(oechem.OEAddExplicitHydrogens(smiles_mol_test))\n",
    "## Update H coordinates to be 3D (not sure why this is necessary,\n",
    "##  I think only for smiles_mol_test)\n",
    "print(oechem.OESet3DHydrogenGeom(new_lig_mol_test))\n",
    "print(oechem.OESet3DHydrogenGeom(smiles_mol_test))\n",
    "\n",
    "## Save both as PDB to load and see if it worked\n",
    "ofs = oechem.oemolostream()\n",
    "ofs.SetFlavor(oechem.OEFormat_PDB, oechem.OEOFlavor_PDB_Default)\n",
    "\n",
    "ofs.open(\"test/original_ligand.pdb\")\n",
    "oechem.OEWriteMolecule(ofs, new_lig_mol_test)\n",
    "ofs.close()\n",
    "\n",
    "ofs.open(\"test/coord_copied_ligand.pdb\")\n",
    "oechem.OEWriteMolecule(ofs, smiles_mol_test)\n",
    "ofs.close()\n",
    "## It works!"
   ]
  },
  {
   "cell_type": "markdown",
   "id": "4130f9ae-ea9d-473d-bd32-f9bf12a0ca03",
   "metadata": {},
   "source": [
    "# End aside\n",
    "(run from here)"
   ]
  },
  {
   "cell_type": "code",
   "execution_count": 8,
   "id": "a8de7907-375e-4684-98d7-60d017a9661a",
   "metadata": {},
   "outputs": [
    {
     "name": "stdout",
     "output_type": "stream",
     "text": [
      "True\n",
      "True\n",
      "True\n"
     ]
    }
   ],
   "source": [
    "## Add explicit Hs to protein and new ligand to prep\n",
    "prot_mol_prep = prot_mol_aligned.CreateCopy()\n",
    "new_lig_prep = new_lig_mol.CreateCopy()\n",
    "print(oechem.OEAddExplicitHydrogens(prot_mol_prep))\n",
    "print(oechem.OEAddExplicitHydrogens(new_lig_prep))\n",
    "## Update H coordinates to be 3D (not sure why this is necessary)\n",
    "print(oechem.OESet3DHydrogenGeom(new_lig_prep))\n",
    "\n",
    "## Re-reorder the atoms and bonds\n",
    "# oechem.OECanonicalOrderAtoms(new_lig_prep)\n",
    "# oechem.OECanonicalOrderBonds(new_lig_prep)"
   ]
  },
  {
   "cell_type": "code",
   "execution_count": 9,
   "id": "229a1776-79cb-4e21-9660-8a3b2cba2362",
   "metadata": {},
   "outputs": [
    {
     "name": "stdout",
     "output_type": "stream",
     "text": [
      " 0Cl\n",
      " 1 C\n",
      " 2 C\n",
      " 3 C\n",
      " 4 C\n",
      " 5 C\n",
      " 6 C\n",
      " 7 C\n",
      " 8 O\n",
      " 9 N\n",
      "10 C\n",
      "11 C\n",
      "12 N\n",
      "13 C\n",
      "14 C\n",
      "15 C\n",
      "16 C\n",
      "17 C\n",
      "18 N\n",
      "19 C\n",
      "20 H\n",
      "21 H\n",
      "22 H\n",
      "23 H\n",
      "24 H\n",
      "25 H\n",
      "26 H\n",
      "27 H\n",
      "28 H\n",
      "29 H\n",
      "30 H\n",
      "31 H\n"
     ]
    }
   ],
   "source": [
    "from openeye import oedepict\n",
    "\n",
    "\n",
    "def PrepareDepiction(mol, clearcoords=False, suppressH=True):\n",
    "    oechem.OESetDimensionFromCoords(mol)\n",
    "    oechem.OEPerceiveChiral(mol)\n",
    "\n",
    "    if mol.GetDimension() != 2 or clearcoords:\n",
    "        if mol.GetDimension() == 3:\n",
    "            oechem.OE3DToBondStereo(mol)\n",
    "            oechem.OE3DToAtomStereo(mol)\n",
    "        if suppressH:\n",
    "            oechem.OESuppressHydrogens(mol)\n",
    "        # oedepict.OEAddDepictionHydrogens(mol)\n",
    "\n",
    "        oedepict.OEDepictCoordinates(mol)\n",
    "        oechem.OEMDLPerceiveBondStereo(mol)\n",
    "\n",
    "    mol.SetDimension(2)\n",
    "    return True\n",
    "\n",
    "\n",
    "depict_mol = new_lig_prep.CreateCopy()\n",
    "PrepareDepiction(depict_mol, False, False)\n",
    "width, height = 600, 600\n",
    "\n",
    "opts = oedepict.OE2DMolDisplayOptions(width, height, oedepict.OEScale_AutoScale)\n",
    "opts.SetAtomPropertyFunctor(oedepict.OEDisplayAtomIdx())\n",
    "opts.SetAtomPropLabelFont(oedepict.OEFont(oechem.OEDarkGreen))\n",
    "\n",
    "disp = oedepict.OE2DMolDisplay(depict_mol, opts)\n",
    "oedepict.OERenderMolecule(\"new_lig.png\", disp)\n",
    "\n",
    "for a in new_lig_prep.GetAtoms():\n",
    "    print(a)"
   ]
  },
  {
   "cell_type": "code",
   "execution_count": 10,
   "id": "92e3417f-9032-4087-b533-b88fb34008aa",
   "metadata": {},
   "outputs": [
    {
     "name": "stdout",
     "output_type": "stream",
     "text": [
      "True\n",
      "True True\n"
     ]
    },
    {
     "name": "stderr",
     "output_type": "stream",
     "text": [
      "Warning: There was a problem building some missing pieces, built as much as was possible\n",
      "Warning: Failed.For LIG, could not update 'c1ccn2c(c1)ncc2NC(=O)Cc3cccc(c3)Cl' to match 'c1ccc-2c(c1)Cc3c2[nH]nc3c4ccncc4'\n",
      "Warning: Failed.For LIG, could not update 'c1ccn2c(c1)ncc2NC(=O)Cc3cccc(c3)Cl' to match 'c1ccc-2c(c1)Cc3c2n[nH]c3c4ccncc4'\n"
     ]
    }
   ],
   "source": [
    "## Make the design unit and save\n",
    "du = oechem.OEDesignUnit()\n",
    "print(oespruce.OEMakeDesignUnit(du, prot_mol_prep, new_lig_prep))\n",
    "print(du.HasProtein(), du.HasLigand())\n",
    "du_out_fn = \"test/5WKK_new_lig.oedu\"\n",
    "if du.HasProtein() and du.HasLigand():\n",
    "    oechem.OEWriteDesignUnit(du_out_fn, du)"
   ]
  },
  {
   "cell_type": "code",
   "execution_count": 11,
   "id": "12421f1b-64f2-466f-9c70-b1cbb47fd089",
   "metadata": {},
   "outputs": [
    {
     "name": "stdout",
     "output_type": "stream",
     "text": [
      "True\n",
      "4583\n",
      "True\n",
      "32\n",
      "True\n",
      "4615\n"
     ]
    }
   ],
   "source": [
    "## Save protein + new ligand as PDB\n",
    "new_complex_mol = oechem.OEGraphMol()\n",
    "print(du.GetProtein(new_complex_mol))\n",
    "print(new_complex_mol.NumAtoms())\n",
    "print(du.GetLigand(new_complex_mol))\n",
    "print(new_complex_mol.NumAtoms())\n",
    "print(\n",
    "    du.GetComponents(\n",
    "        new_complex_mol,\n",
    "        oechem.OEDesignUnitComponents_Protein\n",
    "        | oechem.OEDesignUnitComponents_Ligand,\n",
    "    )\n",
    ")\n",
    "print(new_complex_mol.NumAtoms())\n",
    "ofs.open(\"test/5WKK_new_lig.pdb\")\n",
    "oechem.OEWriteMolecule(ofs, new_complex_mol)\n",
    "ofs.close()\n",
    "\n",
    "## Also save just lig to check CONECT records\n",
    "ofs.open(\"test/5WKK_new_lig_only.pdb\")\n",
    "oechem.OEWriteMolecule(ofs, new_lig_prep)\n",
    "ofs.close()"
   ]
  },
  {
   "cell_type": "markdown",
   "id": "9fac44b7-6942-41aa-86e2-7e15034645d8",
   "metadata": {},
   "source": [
    "# Re-docking of new ligand"
   ]
  },
  {
   "cell_type": "code",
   "execution_count": 12,
   "id": "26458949-6346-43cb-8414-93d6f7010b0b",
   "metadata": {
    "scrolled": true,
    "tags": []
   },
   "outputs": [
    {
     "name": "stderr",
     "output_type": "stream",
     "text": [
      "/home/kaminowb/miniconda3/envs/structure_ml/lib/python3.9/site-packages/numpy/core/getlimits.py:499: UserWarning: The value of the smallest subnormal for <class 'numpy.float64'> type is zero.\n",
      "  setattr(self, word, getattr(machar, word).flat[0])\n",
      "/home/kaminowb/miniconda3/envs/structure_ml/lib/python3.9/site-packages/numpy/core/getlimits.py:89: UserWarning: The value of the smallest subnormal for <class 'numpy.float64'> type is zero.\n",
      "  return self._float_to_str(self.smallest_subnormal)\n",
      "/home/kaminowb/miniconda3/envs/structure_ml/lib/python3.9/site-packages/numpy/core/getlimits.py:499: UserWarning: The value of the smallest subnormal for <class 'numpy.float32'> type is zero.\n",
      "  setattr(self, word, getattr(machar, word).flat[0])\n",
      "/home/kaminowb/miniconda3/envs/structure_ml/lib/python3.9/site-packages/numpy/core/getlimits.py:89: UserWarning: The value of the smallest subnormal for <class 'numpy.float32'> type is zero.\n",
      "  return self._float_to_str(self.smallest_subnormal)\n"
     ]
    },
    {
     "name": "stdout",
     "output_type": "stream",
     "text": [
      "None\n"
     ]
    }
   ],
   "source": [
    "from kinoml.docking.OEDocking import pose_molecules\n",
    "\n",
    "# score_pose = True\n",
    "docked_molecules = pose_molecules(du, [new_lig_prep.CreateCopy()])\n",
    "print(docked_molecules)"
   ]
  },
  {
   "cell_type": "code",
   "execution_count": 13,
   "id": "13009443-646d-41db-b773-436ddc8105a2",
   "metadata": {},
   "outputs": [
    {
     "name": "stdout",
     "output_type": "stream",
     "text": [
      "False\n"
     ]
    }
   ],
   "source": [
    "mol = new_lig_prep.CreateCopy()\n",
    "# print(oechem.OEClearChiralPerception(mol))\n",
    "# print(oechem.OEPerceiveChiral(mol, True))\n",
    "print(oechem.OE3DToAtomStereo(mol))"
   ]
  },
  {
   "cell_type": "code",
   "execution_count": 14,
   "id": "0248bd1c-ba77-4691-896b-6a2b2429980c",
   "metadata": {},
   "outputs": [
    {
     "name": "stdout",
     "output_type": "stream",
     "text": [
      "False\n",
      "None\n",
      "False\n",
      "True\n",
      "True\n"
     ]
    }
   ],
   "source": [
    "print(mol.HasPerceived(oechem.OEPerceived_Chiral))\n",
    "print(oechem.OEClearChiralPerception(mol))\n",
    "print(mol.HasPerceived(oechem.OEPerceived_Chiral))\n",
    "print(oechem.OEPerceiveChiral(mol))\n",
    "print(mol.HasPerceived(oechem.OEPerceived_Chiral))\n",
    "for a in mol.GetAtoms():\n",
    "    if a.IsChiral():\n",
    "        print(a)"
   ]
  },
  {
   "cell_type": "code",
   "execution_count": 16,
   "id": "2a9a333c-79a7-4b3a-9bb0-cea6e0ad1dea",
   "metadata": {},
   "outputs": [
    {
     "name": "stdout",
     "output_type": "stream",
     "text": [
      "{15: (3.7990000247955322, 2.1019999980926514, 19.53499984741211), 16: (4.125, 1.7589999437332153, 20.87299919128418), 3: (12.58899974822998, 0.9039999842643738, 24.055999755859375), 14: (4.525000095367432, 1.6080000400543213, 18.489999771118164), 4: (11.255999565124512, 0.5249999761581421, 24.040000915527344), 2: (13.498000144958496, 0.29899999499320984, 23.201000213623047), 17: (5.171999931335449, 0.9449999928474426, 21.1299991607666), 19: (11.72700023651123, -1.100000023841858, 22.344999313354492), 11: (7.394000053405762, -0.4729999899864197, 18.738000869750977), 6: (9.326000213623047, -0.7480000257492065, 23.024999618530273), 5: (10.805000305175781, -0.45899999141693115, 23.16900062561035), 1: (13.053000450134277, -0.7110000252723694, 22.3700008392334), 13: (5.631999969482422, 0.7609999775886536, 18.75), 10: (7.065999984741211, -0.328000009059906, 20.047000885009766), 7: (8.734000205993652, -0.08100000023841858, 21.79800033569336), 12: (6.514999866485596, 0.19699999690055847, 17.92300033569336), 9: (7.703999996185303, -0.7609999775886536, 21.211000442504883), 18: (5.927999973297119, 0.4569999873638153, 20.079999923706055), 8: (9.133999824523926, 1.0069999694824219, 21.385000228881836), 0: (14.196000099182129, -1.5379999876022339, 21.347000122070312)}\n",
      " 0Cl 0 (14.196000099182129, -1.5379999876022339, 21.347000122070312)\n",
      " 1 C 1 (13.053000450134277, -0.7110000252723694, 22.3700008392334)\n",
      " 2 C 2 (13.498000144958496, 0.29899999499320984, 23.201000213623047)\n",
      " 3 C 3 (12.58899974822998, 0.9039999842643738, 24.055999755859375)\n",
      " 4 C 4 (11.255999565124512, 0.5249999761581421, 24.040000915527344)\n",
      " 5 C 5 (10.805000305175781, -0.45899999141693115, 23.16900062561035)\n",
      " 6 C 6 (9.326000213623047, -0.7480000257492065, 23.024999618530273)\n",
      " 7 C 7 (8.734000205993652, -0.08100000023841858, 21.79800033569336)\n",
      " 8 O 8 (9.133999824523926, 1.0069999694824219, 21.385000228881836)\n",
      " 9 N 9 (7.703999996185303, -0.7609999775886536, 21.211000442504883)\n",
      "10 C 10 (7.065999984741211, -0.328000009059906, 20.047000885009766)\n",
      "11 C 11 (7.394000053405762, -0.4729999899864197, 18.738000869750977)\n",
      "12 N 12 (6.514999866485596, 0.19699999690055847, 17.92300033569336)\n",
      "13 C 13 (5.631999969482422, 0.7609999775886536, 18.75)\n",
      "14 C 14 (4.525000095367432, 1.6080000400543213, 18.489999771118164)\n",
      "15 C 15 (3.7990000247955322, 2.1019999980926514, 19.53499984741211)\n",
      "16 C 16 (4.125, 1.7589999437332153, 20.87299919128418)\n",
      "17 C 17 (5.171999931335449, 0.9449999928474426, 21.1299991607666)\n",
      "18 N 18 (5.927999973297119, 0.4569999873638153, 20.079999923706055)\n",
      "19 C 19 (11.72700023651123, -1.100000023841858, 22.344999313354492)\n",
      "20 H 20 (14.53188705444336, 0.6108106374740601, 23.185123443603516)\n",
      "21 H 21 (12.921208381652832, 1.673570156097412, 24.737028121948242)\n",
      "22 H 22 (10.558603286743164, 1.0008529424667358, 24.7135009765625)\n",
      "23 H 23 (9.182994842529297, -1.83549964427948, 22.94196891784668)\n",
      "24 H 24 (8.802833557128906, -0.37653952836990356, 23.91848373413086)\n",
      "25 H 25 (7.391903400421143, -1.6106069087982178, 21.63616371154785)\n",
      "26 H 26 (8.239421844482422, -1.0432227849960327, 18.382320404052734)\n",
      "27 H 27 (4.258615016937256, 1.860039472579956, 17.474166870117188)\n",
      "28 H 28 (2.9663240909576416, 2.761939287185669, 19.341270446777344)\n",
      "29 H 29 (3.5342307090759277, 2.149946928024292, 21.688199996948242)\n",
      "30 H 30 (5.4166436195373535, 0.6775076389312744, 22.14734649658203)\n",
      "31 H 31 (11.407405853271484, -1.8969216346740723, 21.689884185791016)\n",
      "-----\n",
      "18 C 18 (3.7990000247955322, 2.1019999980926514, 19.53499984741211)\n",
      "17 C 17 (4.125, 1.7589999437332153, 20.87299919128418)\n",
      " 5 C 5 (12.58899974822998, 0.9039999842643738, 24.055999755859375)\n",
      "19 C 19 (4.525000095367432, 1.6080000400543213, 18.489999771118164)\n",
      " 4 C 4 (11.255999565124512, 0.5249999761581421, 24.040000915527344)\n",
      " 6 C 6 (13.498000144958496, 0.29899999499320984, 23.201000213623047)\n",
      "16 C 16 (5.171999931335449, 0.9449999928474426, 21.1299991607666)\n",
      " 7 C 7 (11.72700023651123, -1.100000023841858, 22.344999313354492)\n",
      "15 C 15 (7.394000053405762, -0.4729999899864197, 18.738000869750977)\n",
      " 2 C 2 (9.326000213623047, -0.7480000257492065, 23.024999618530273)\n",
      " 3 C 3 (10.805000305175781, -0.45899999141693115, 23.16900062561035)\n",
      " 8 C 8 (13.053000450134277, -0.7110000252723694, 22.3700008392334)\n",
      "13 C 13 (5.631999969482422, 0.7609999775886536, 18.75)\n",
      "11 C 11 (7.065999984741211, -0.328000009059906, 20.047000885009766)\n",
      " 1 C 1 (8.734000205993652, -0.08100000023841858, 21.79800033569336)\n",
      "14 N 14 (6.514999866485596, 0.19699999690055847, 17.92300033569336)\n",
      "10 N 10 (7.703999996185303, -0.7609999775886536, 21.211000442504883)\n",
      "12 N 12 (5.927999973297119, 0.4569999873638153, 20.079999923706055)\n",
      " 0 O 0 (9.133999824523926, 1.0069999694824219, 21.385000228881836)\n",
      " 9Cl 9 (14.196000099182129, -1.5379999876022339, 21.347000122070312)\n"
     ]
    }
   ],
   "source": [
    "print(new_lig_mol_coords)\n",
    "for a in new_lig_prep.GetAtoms():\n",
    "    #     print(a, [str(nbr) for nbr in a.GetAtoms()])\n",
    "    print(a, a.GetIdx(), new_lig_prep.GetCoords()[a.GetIdx()])\n",
    "\n",
    "print(\"-----\")\n",
    "\n",
    "for a in coords_mol.GetAtoms():\n",
    "    print(a, a.GetIdx(), coords_mol.GetCoords()[a.GetIdx()])"
   ]
  }
 ],
 "metadata": {
  "kernelspec": {
   "display_name": "Python 3 (ipykernel)",
   "language": "python",
   "name": "python3"
  },
  "language_info": {
   "codemirror_mode": {
    "name": "ipython",
    "version": 3
   },
   "file_extension": ".py",
   "mimetype": "text/x-python",
   "name": "python",
   "nbconvert_exporter": "python",
   "pygments_lexer": "ipython3",
   "version": "3.9.13"
  }
 },
 "nbformat": 4,
 "nbformat_minor": 5
}