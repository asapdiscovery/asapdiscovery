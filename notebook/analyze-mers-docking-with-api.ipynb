{
 "cells": [
  {
   "cell_type": "markdown",
   "id": "2068b948",
   "metadata": {},
   "source": [
    "# Imports"
   ]
  },
  {
   "cell_type": "code",
   "execution_count": null,
   "id": "0041d158",
   "metadata": {
    "pycharm": {
     "is_executing": true
    }
   },
   "outputs": [],
   "source": [
    "import sys, os, pandas as pd, numpy as np\n",
    "sys.path.append(\"../\")\n",
    "from asapdiscovery.docking import analysis as a\n",
    "from importlib import reload\n",
    "import plotly.express as px"
   ]
  },
  {
   "cell_type": "code",
   "execution_count": null,
   "id": "2ef51977",
   "metadata": {},
   "outputs": [],
   "source": []
  },
  {
   "cell_type": "code",
   "execution_count": null,
   "id": "dddac7b4",
   "metadata": {},
   "outputs": [],
   "source": [
    "dr = a.DockingResults(\"/Volumes/Rohirrim/local_test/mers_hallucination_hybrid/all_results.csv\")\n",
    "dr.df.head()"
   ]
  },
  {
   "cell_type": "code",
   "execution_count": null,
   "id": "62349be2",
   "metadata": {},
   "outputs": [],
   "source": [
    "len(dr.df)"
   ]
  },
  {
   "cell_type": "markdown",
   "id": "837a33c4",
   "metadata": {},
   "source": [
    "## minimal data cleanup"
   ]
  },
  {
   "cell_type": "code",
   "execution_count": null,
   "id": "01fe47e4",
   "metadata": {},
   "outputs": [],
   "source": [
    "dr.df = dr.df.drop(\"Unnamed: 0\", axis=1)\n",
    "dr.df[\"MERS_structure\"] = dr.df[\"MERS_structure\"].apply(lambda x: x.split(\"_\")[1])\n",
    "dr.df.head()"
   ]
  },
  {
   "cell_type": "code",
   "execution_count": null,
   "id": "41f991a6",
   "metadata": {},
   "outputs": [],
   "source": [
    "dr.df.columns = [\"Compound_ID\", \"Structure_Source\", \"Docked_File\", \"RMSD\", \"POSIT\", \"Chemgauss4\"]\n",
    "dr.df.head()"
   ]
  },
  {
   "cell_type": "markdown",
   "id": "dcdcbaeb",
   "metadata": {},
   "source": [
    "# Get Grouped dfs"
   ]
  },
  {
   "cell_type": "code",
   "execution_count": null,
   "id": "e829afcd",
   "metadata": {},
   "outputs": [],
   "source": [
    "dr.get_compound_df()\n",
    "dr.get_structure_df()"
   ]
  },
  {
   "cell_type": "markdown",
   "id": "90ff3d0f",
   "metadata": {},
   "source": [
    "# When did our scoring functions fail?"
   ]
  },
  {
   "cell_type": "code",
   "execution_count": null,
   "id": "49858a57",
   "metadata": {},
   "outputs": [],
   "source": [
    "dr.df[dr.df.Docked_File.isna()].groupby(\"Compound_ID\")[\"Structure_Source\"].count()"
   ]
  },
  {
   "cell_type": "code",
   "execution_count": null,
   "id": "ef4de41b",
   "metadata": {},
   "outputs": [],
   "source": [
    "dr.compound_df[dr.compound_df.Not_NA_RMSD < 30]"
   ]
  },
  {
   "cell_type": "code",
   "execution_count": null,
   "id": "ae8ecff9",
   "metadata": {},
   "outputs": [],
   "source": [
    "px.scatter(dr.compound_df,\n",
    "           x=\"Not_NA_RMSD\",\n",
    "           y=\"Not_NA_Chemgauss4\",)"
   ]
  },
  {
   "cell_type": "code",
   "execution_count": null,
   "id": "0ea9e0e7",
   "metadata": {},
   "outputs": [],
   "source": [
    "px.scatter(dr.structure_df,\n",
    "           x=\"Not_NA_RMSD\",\n",
    "           y=\"Not_NA_Chemgauss4\",\n",
    "          color=\"Structure_Source\")"
   ]
  },
  {
   "cell_type": "markdown",
   "id": "db78ad38",
   "metadata": {},
   "source": [
    "# Automate basic plotting functions"
   ]
  },
  {
   "cell_type": "code",
   "execution_count": null,
   "id": "8f49d40b",
   "metadata": {},
   "outputs": [],
   "source": [
    "dr.structure_df.columns"
   ]
  },
  {
   "cell_type": "code",
   "execution_count": null,
   "id": "85622f32",
   "metadata": {},
   "outputs": [],
   "source": [
    "features = [feature for feature in dr.structure_df.columns if feature.split(\"_\")[0] in [\"Not\", \"Good\", \"Mean\", \"Min\"]]"
   ]
  },
  {
   "cell_type": "code",
   "execution_count": null,
   "id": "62c8b7d6",
   "metadata": {},
   "outputs": [],
   "source": [
    "df = dr.structure_df\n",
    "for feature in features:\n",
    "    fig = px.bar(df.sort_values(feature),\n",
    "          y=feature,\n",
    "                text_auto=\".2s\")\n",
    "#     fig.show()\n",
    "    file_path = f\"../figures/MERS_fauxalysis_{feature}_by_structure.png\"\n",
    "    fig.write_image(file_path)"
   ]
  },
  {
   "cell_type": "code",
   "execution_count": null,
   "id": "b1a0ce94",
   "metadata": {},
   "outputs": [],
   "source": [
    "df = dr.compound_df\n",
    "for feature in features:\n",
    "    fig = px.histogram(df.sort_values(feature),\n",
    "          x=feature,\n",
    "                text_auto=\".2s\")\n",
    "#     fig.show()\n",
    "    file_path = f\"../figures/MERS_fauxalysis_{feature}_compound_histograms.png\"\n",
    "    fig.write_image(file_path)"
   ]
  },
  {
   "cell_type": "markdown",
   "id": "f669a52d",
   "metadata": {},
   "source": [
    "# Get best structure for each compound"
   ]
  },
  {
   "cell_type": "markdown",
   "id": "cacb0fa8",
   "metadata": {},
   "source": [
    "## directly copying from this:\n",
    "https://stackoverflow.com/questions/54470917/pandas-groupby-and-select-rows-with-the-minimum-value-in-a-specific-column"
   ]
  },
  {
   "cell_type": "code",
   "execution_count": null,
   "id": "bcf461ab",
   "metadata": {},
   "outputs": [],
   "source": [
    "min_value = dr.df.groupby(\"Compound_ID\").RMSD.min()\n",
    "min_value.head()"
   ]
  },
  {
   "cell_type": "code",
   "execution_count": null,
   "id": "864fc20b",
   "metadata": {},
   "outputs": [],
   "source": [
    "test_df = dr.df.merge(min_value, on=\"Compound_ID\", suffixes=('', '_min'))"
   ]
  },
  {
   "cell_type": "code",
   "execution_count": null,
   "id": "74fea181",
   "metadata": {},
   "outputs": [],
   "source": [
    "test_df"
   ]
  },
  {
   "cell_type": "code",
   "execution_count": null,
   "id": "cf1755a9",
   "metadata": {},
   "outputs": [],
   "source": [
    "best_structures = test_df[test_df.RMSD == test_df.RMSD_min]"
   ]
  },
  {
   "cell_type": "code",
   "execution_count": null,
   "id": "b9f21a20",
   "metadata": {},
   "outputs": [],
   "source": [
    "best_structures"
   ]
  },
  {
   "cell_type": "markdown",
   "id": "6e76d5cc",
   "metadata": {},
   "source": [
    "## need to do extra filtering step bc of some duplicates"
   ]
  },
  {
   "cell_type": "code",
   "execution_count": null,
   "id": "af0edb37",
   "metadata": {},
   "outputs": [],
   "source": [
    "min_value = best_structures.groupby(\"Compound_ID\")[[\"Chemgauss4\"]].min()\n",
    "best_structures = best_structures.merge(min_value, on=\"Compound_ID\", suffixes=('', '_min'))\n",
    "very_best_structures = best_structures[best_structures.Chemgauss4 == best_structures.Chemgauss4_min]"
   ]
  },
  {
   "cell_type": "code",
   "execution_count": null,
   "id": "0a7ec485",
   "metadata": {},
   "outputs": [],
   "source": [
    "very_best_structures"
   ]
  },
  {
   "cell_type": "code",
   "execution_count": null,
   "id": "7afe4df2",
   "metadata": {},
   "outputs": [],
   "source": [
    "very_best_structures.to_csv(\"../csvs/mers_fauxalysis.csv\", index=False)"
   ]
  },
  {
   "cell_type": "markdown",
   "id": "4e7eb6f3",
   "metadata": {},
   "source": [
    "## try using API"
   ]
  },
  {
   "cell_type": "code",
   "execution_count": null,
   "id": "608b417a",
   "metadata": {},
   "outputs": [],
   "source": [
    "dr.get_best_structure_per_compound()"
   ]
  },
  {
   "cell_type": "code",
   "execution_count": null,
   "id": "4ca9dd9a",
   "metadata": {},
   "outputs": [],
   "source": [
    "dr.best_df"
   ]
  },
  {
   "cell_type": "markdown",
   "id": "7559c03c",
   "metadata": {},
   "source": [
    "## which compounds are missing?"
   ]
  },
  {
   "cell_type": "code",
   "execution_count": null,
   "id": "da7effd9",
   "metadata": {},
   "outputs": [],
   "source": [
    "set(dr.df.Compound_ID) - set(very_best_structures.Compound_ID)"
   ]
  },
  {
   "cell_type": "markdown",
   "id": "4fdbc501",
   "metadata": {},
   "source": [
    "### of course, the wierd ones for which we couldn't calculate any RMSDs"
   ]
  },
  {
   "cell_type": "markdown",
   "id": "2ef659f3",
   "metadata": {},
   "source": [
    "## histograms of best structures"
   ]
  },
  {
   "cell_type": "code",
   "execution_count": null,
   "id": "91ecba71",
   "metadata": {},
   "outputs": [],
   "source": [
    "for score in [\"RMSD\", \"Chemgauss4\"]:\n",
    "    fig = px.histogram(very_best_structures,\n",
    "                x=score)\n",
    "    fig.show()"
   ]
  },
  {
   "cell_type": "markdown",
   "id": "b3e648bf",
   "metadata": {},
   "source": [
    "# Try new way of finding best structures"
   ]
  },
  {
   "cell_type": "code",
   "execution_count": null,
   "id": "2d3e41bc",
   "metadata": {},
   "outputs": [],
   "source": [
    "sum(dr.df[dr.df.RMSD<2.5].groupby(\"Compound_ID\").count()[\"Structure_Source\"] == 0)"
   ]
  },
  {
   "cell_type": "code",
   "execution_count": null,
   "id": "94b55845",
   "metadata": {},
   "outputs": [],
   "source": [
    "sum(dr.df[(dr.df.RMSD<2.5) & (dr.df.Chemgauss4<0)].groupby(\"Compound_ID\").count()[\"Structure_Source\"] == 0)"
   ]
  },
  {
   "cell_type": "code",
   "execution_count": null,
   "id": "0c853c95",
   "metadata": {},
   "outputs": [],
   "source": [
    "filtered_df = dr.df[(dr.df.RMSD<2.5)].groupby(\"Compound_ID\").count()"
   ]
  },
  {
   "cell_type": "code",
   "execution_count": null,
   "id": "7cdc335a",
   "metadata": {},
   "outputs": [],
   "source": [
    "filtered_df"
   ]
  },
  {
   "cell_type": "code",
   "execution_count": null,
   "id": "1db4b7df",
   "metadata": {},
   "outputs": [],
   "source": [
    "set(dr.compound_df.Compound_ID) - set(filtered_df.index)"
   ]
  },
  {
   "cell_type": "code",
   "execution_count": null,
   "id": "8c802b73",
   "metadata": {},
   "outputs": [],
   "source": [
    "dr.compound_df"
   ]
  },
  {
   "cell_type": "markdown",
   "id": "b746ea59",
   "metadata": {},
   "source": [
    "# Analyze posit results"
   ]
  },
  {
   "cell_type": "code",
   "execution_count": null,
   "id": "d327a735",
   "metadata": {},
   "outputs": [],
   "source": [
    "reload(a)"
   ]
  },
  {
   "cell_type": "markdown",
   "id": "e6a9db0c",
   "metadata": {},
   "source": [
    "## Load and process results csv"
   ]
  },
  {
   "cell_type": "code",
   "execution_count": null,
   "id": "bd390c74",
   "metadata": {},
   "outputs": [],
   "source": [
    "dr = a.DockingResults(\"/Volumes/Rohirrim/local_test/mers_hallucination_hybrid/posit_hybrid_no_relax/all_results.csv\")\n",
    "dr.df = dr.df.drop(\"Unnamed: 0\", axis=1)\n",
    "dr.df[\"MERS_structure\"] = dr.df[\"MERS_structure\"].apply(lambda x: x.split(\"_\")[1])\n",
    "dr.df.columns = [\"Compound_ID\", \"Structure_Source\", \"Docked_File\", \"RMSD\", \"POSIT\", \"Chemgauss4\", \"Clash\"]\n",
    "dr.df['POSIT_R'] = 1-dr.df.POSIT\n",
    "dr.df[\"Complex_ID\"] = dr.df.Compound_ID + \"_\" + dr.df.Structure_Source\n",
    "dr.df = dr.df.sort_values([\"Compound_ID\"]).reset_index(drop=True)\n",
    "dr.get_compound_df()\n",
    "dr.get_structure_df()"
   ]
  },
  {
   "cell_type": "markdown",
   "id": "259a8b9c",
   "metadata": {},
   "source": [
    "## when did we fail?"
   ]
  },
  {
   "cell_type": "code",
   "execution_count": null,
   "id": "c0ecdf28",
   "metadata": {},
   "outputs": [],
   "source": [
    "dr.df[dr.df.Docked_File.isna()].groupby(\"Compound_ID\")[\"Structure_Source\"].count()"
   ]
  },
  {
   "cell_type": "markdown",
   "id": "c7e1964e",
   "metadata": {},
   "source": [
    "## Write out images"
   ]
  },
  {
   "cell_type": "code",
   "execution_count": null,
   "id": "692e9bb1",
   "metadata": {},
   "outputs": [],
   "source": [
    "features = [feature for feature in dr.structure_df.columns if feature.split(\"_\")[0] in [\"Not\", \"Good\", \"Mean\", \"Min\"]]"
   ]
  },
  {
   "cell_type": "code",
   "execution_count": null,
   "id": "35e67025",
   "metadata": {},
   "outputs": [],
   "source": [
    "df = dr.structure_df\n",
    "for feature in features:\n",
    "    fig = px.bar(df.sort_values(feature),\n",
    "          y=feature,\n",
    "                text_auto=\".2s\")\n",
    "#     fig.show()\n",
    "    file_path = f\"../figures/MERS_fauxalysis_{feature}_by_structure.png\"\n",
    "    fig.write_image(file_path)"
   ]
  },
  {
   "cell_type": "code",
   "execution_count": null,
   "id": "aa1a30ab",
   "metadata": {},
   "outputs": [],
   "source": [
    "df = dr.compound_df\n",
    "for feature in features:\n",
    "    fig = px.histogram(df.sort_values(feature),\n",
    "          x=feature,\n",
    "                text_auto=\".2s\")\n",
    "#     fig.show()\n",
    "    file_path = f\"../figures/MERS_fauxalysis_{feature}_compound_histograms.png\"\n",
    "    fig.write_image(file_path)"
   ]
  },
  {
   "cell_type": "markdown",
   "id": "da35231b",
   "metadata": {},
   "source": [
    "## Get best structure per compound"
   ]
  },
  {
   "cell_type": "code",
   "execution_count": null,
   "id": "79509504",
   "metadata": {},
   "outputs": [],
   "source": [
    "dr.get_best_structure_per_compound()"
   ]
  },
  {
   "cell_type": "code",
   "execution_count": null,
   "id": "e42d5545",
   "metadata": {},
   "outputs": [],
   "source": [
    "dr.best_df[dr.best_df.Complex_ID == \"Mpro-z7qbb_0A_bound_7DR8\"]"
   ]
  },
  {
   "cell_type": "code",
   "execution_count": null,
   "id": "45df6301",
   "metadata": {},
   "outputs": [],
   "source": []
  }
 ],
 "metadata": {
  "kernelspec": {
   "display_name": "Python 3 (ipykernel)",
   "language": "python",
   "name": "python3"
  },
  "language_info": {
   "codemirror_mode": {
    "name": "ipython",
    "version": 3
   },
   "file_extension": ".py",
   "mimetype": "text/x-python",
   "name": "python",
   "nbconvert_exporter": "python",
   "pygments_lexer": "ipython3",
   "version": "3.8.13"
  },
  "toc": {
   "base_numbering": 1,
   "nav_menu": {},
   "number_sections": true,
   "sideBar": true,
   "skip_h1_title": false,
   "title_cell": "Table of Contents",
   "title_sidebar": "Contents",
   "toc_cell": false,
   "toc_position": {
    "height": "calc(100% - 180px)",
    "left": "10px",
    "top": "150px",
    "width": "280.391px"
   },
   "toc_section_display": true,
   "toc_window_display": true
  }
 },
 "nbformat": 4,
 "nbformat_minor": 5
}
