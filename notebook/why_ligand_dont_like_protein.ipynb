{
 "cells": [
  {
   "cell_type": "code",
   "execution_count": 1,
   "id": "6aa25b30-5c42-4d16-8c7c-6045aa96029c",
   "metadata": {},
   "outputs": [],
   "source": [
    "lig_file = \"/Users/choderalab/asapdiscovery/temp_storage/test_out/lig_69.pdb\" \n",
    "protein_file = \"/Users/choderalab/asapdiscovery/temp_storage/arborvirus/zikv_ns2b3.pdb\"\n"
   ]
  },
  {
   "cell_type": "code",
   "execution_count": 2,
   "id": "7b835c85-f1ba-4704-b371-cbd2702304fe",
   "metadata": {},
   "outputs": [],
   "source": [
    "from asapdiscovery.data.openeye import (\n",
    "    combine_protein_ligand,\n",
    "    load_openeye_pdb,\n",
    "    save_openeye_pdb\n",
    ")"
   ]
  },
  {
   "cell_type": "code",
   "execution_count": 12,
   "id": "28c7104e-adf2-4baf-ae08-563e5be42de9",
   "metadata": {},
   "outputs": [],
   "source": [
    "from pathlib import Path\n",
    "from pymol import cmd\n",
    "import re"
   ]
  },
  {
   "cell_type": "code",
   "execution_count": 3,
   "id": "688bfb9e-6635-494a-b9ef-6afd1dea8e03",
   "metadata": {},
   "outputs": [
    {
     "data": {
      "text/plain": [
       "PosixPath('/Users/choderalab/asapdiscovery/temp_storage/test_out/combo_69.pdb')"
      ]
     },
     "execution_count": 3,
     "metadata": {},
     "output_type": "execute_result"
    }
   ],
   "source": [
    "# Load proteins into openeye\n",
    "lig = load_openeye_pdb(lig_file)\n",
    "prot = load_openeye_pdb(protein_file)\n",
    "combo = combine_protein_ligand(prot, lig)\n",
    "save_openeye_pdb(combo, \"/Users/choderalab/asapdiscovery/temp_storage/test_out/combo_69.pdb\")"
   ]
  },
  {
   "cell_type": "code",
   "execution_count": 20,
   "id": "3500d7c4-08cb-44b9-b5f9-733e7bc4fd6d",
   "metadata": {},
   "outputs": [
    {
     "name": "stdout",
     "output_type": "stream",
     "text": [
      "/Users/choderalab/asapdiscovery/temp_storage/test_out/output/lig_66_protein.pdb\n",
      "/Users/choderalab/asapdiscovery/temp_storage/test_out/output/lig_70_protein.pdb\n",
      "/Users/choderalab/asapdiscovery/temp_storage/test_out/output/lig_69_protein.pdb\n",
      "/Users/choderalab/asapdiscovery/temp_storage/test_out/output/lig_67_protein.pdb\n",
      "/Users/choderalab/asapdiscovery/temp_storage/test_out/output/lig_68_protein.pdb\n",
      "/Users/choderalab/asapdiscovery/temp_storage/test_out/output/lig_71_protein.pdb\n"
     ]
    }
   ],
   "source": [
    "# Try to see if all the files have a ligand and two chains in them \n",
    "folder = Path(\"/Users/choderalab/asapdiscovery/temp_storage/test_out/output/\")\n",
    "count = 1\n",
    "for pdb_file in folder.glob(\"lig_*_protein.pdb\"):\n",
    "    structure_name = count\n",
    "    cmd.load(folder / pdb_file, structure_name)\n",
    "    selection = f\"{structure_name} and resn LIG\"\n",
    "    if cmd.count_atoms(selection)==0:\n",
    "        print(pdb_file)\n",
    "    count += 1"
   ]
  },
  {
   "cell_type": "code",
   "execution_count": 24,
   "id": "dee03537-33fb-4587-bbff-b11d3edbdbfc",
   "metadata": {},
   "outputs": [],
   "source": [
    "def check_lig_presence(directory):\n",
    "    folder = Path(directory) / \"output\"\n",
    "    count = 1\n",
    "    for pdb_file in folder.glob(\"lig_*_protein.pdb\"):\n",
    "        # Distinguish the structures\n",
    "        structure_name = count\n",
    "        cmd.load(folder / pdb_file, structure_name)\n",
    "        selection = f\"{structure_name} and resn LIG\"\n",
    "        # If the file does not contain any ligands\n",
    "        if cmd.count_atoms(selection)==0:\n",
    "            # Print out the file name with a warning\n",
    "            print(\"This file does not contain a ligand:\\n\" + str(pdb_file))\n",
    "        count += 1"
   ]
  },
  {
   "cell_type": "code",
   "execution_count": 25,
   "id": "0fc1c21d-a13d-4292-a16e-fc6814c01862",
   "metadata": {},
   "outputs": [
    {
     "name": "stdout",
     "output_type": "stream",
     "text": [
      "This file does not contain a ligand:\n",
      "/Users/choderalab/asapdiscovery/temp_storage/test_out/output/lig_66_protein.pdb\n",
      "This file does not contain a ligand:\n",
      "/Users/choderalab/asapdiscovery/temp_storage/test_out/output/lig_70_protein.pdb\n",
      "This file does not contain a ligand:\n",
      "/Users/choderalab/asapdiscovery/temp_storage/test_out/output/lig_69_protein.pdb\n",
      "This file does not contain a ligand:\n",
      "/Users/choderalab/asapdiscovery/temp_storage/test_out/output/lig_67_protein.pdb\n",
      "This file does not contain a ligand:\n",
      "/Users/choderalab/asapdiscovery/temp_storage/test_out/output/lig_68_protein.pdb\n",
      "This file does not contain a ligand:\n",
      "/Users/choderalab/asapdiscovery/temp_storage/test_out/output/lig_71_protein.pdb\n"
     ]
    }
   ],
   "source": [
    "check_lig_presence(\"/Users/choderalab/asapdiscovery/temp_storage/test_out\")"
   ]
  },
  {
   "cell_type": "code",
   "execution_count": null,
   "id": "e98efdc4-02fb-4b18-8d74-3a6e9b434c69",
   "metadata": {},
   "outputs": [],
   "source": []
  }
 ],
 "metadata": {
  "kernelspec": {
   "display_name": "Python 3 (ipykernel)",
   "language": "python",
   "name": "python3"
  },
  "language_info": {
   "codemirror_mode": {
    "name": "ipython",
    "version": 3
   },
   "file_extension": ".py",
   "mimetype": "text/x-python",
   "name": "python",
   "nbconvert_exporter": "python",
   "pygments_lexer": "ipython3",
   "version": "3.10.13"
  }
 },
 "nbformat": 4,
 "nbformat_minor": 5
}
