{
 "cells": [
  {
   "cell_type": "markdown",
   "id": "a5352196",
   "metadata": {},
   "source": [
    "# imports"
   ]
  },
  {
   "cell_type": "code",
   "execution_count": 10,
   "id": "53fd55e9",
   "metadata": {},
   "outputs": [],
   "source": [
    "import pandas as pd, numpy as np, plotly.express as px"
   ]
  },
  {
   "cell_type": "code",
   "execution_count": 11,
   "id": "3a1b3f19",
   "metadata": {},
   "outputs": [],
   "source": [
    "df = pd.read_csv(\"/Volumes/Rohirrim/local_test/mers_hallucination_hybrid/posit_hybrid_no_relax/by_structure.csv\")"
   ]
  },
  {
   "cell_type": "code",
   "execution_count": 15,
   "id": "ab4455ed",
   "metadata": {},
   "outputs": [
    {
     "data": {
      "text/html": [
       "<div>\n",
       "<style scoped>\n",
       "    .dataframe tbody tr th:only-of-type {\n",
       "        vertical-align: middle;\n",
       "    }\n",
       "\n",
       "    .dataframe tbody tr th {\n",
       "        vertical-align: top;\n",
       "    }\n",
       "\n",
       "    .dataframe thead th {\n",
       "        text-align: right;\n",
       "    }\n",
       "</style>\n",
       "<table border=\"1\" class=\"dataframe\">\n",
       "  <thead>\n",
       "    <tr style=\"text-align: right;\">\n",
       "      <th></th>\n",
       "      <th>RMSD_Not_NA</th>\n",
       "      <th>RMSD_Good</th>\n",
       "      <th>RMSD_Mean</th>\n",
       "      <th>RMSD_Min</th>\n",
       "      <th>POSIT_R_Not_NA</th>\n",
       "      <th>POSIT_R_Good</th>\n",
       "      <th>POSIT_R_Mean</th>\n",
       "      <th>POSIT_R_Min</th>\n",
       "      <th>Chemgauss4_Not_NA</th>\n",
       "      <th>Chemgauss4_Good</th>\n",
       "      <th>Chemgauss4_Mean</th>\n",
       "      <th>Chemgauss4_Min</th>\n",
       "      <th>Structure_Source</th>\n",
       "      <th>Resolution</th>\n",
       "    </tr>\n",
       "  </thead>\n",
       "  <tbody>\n",
       "    <tr>\n",
       "      <th>0</th>\n",
       "      <td>404</td>\n",
       "      <td>276</td>\n",
       "      <td>2.890484e+00</td>\n",
       "      <td>0.955928</td>\n",
       "      <td>794</td>\n",
       "      <td>6</td>\n",
       "      <td>0.779068</td>\n",
       "      <td>0.15</td>\n",
       "      <td>794</td>\n",
       "      <td>24</td>\n",
       "      <td>15.065372</td>\n",
       "      <td>-4.035570</td>\n",
       "      <td>4RSP</td>\n",
       "      <td>1.620</td>\n",
       "    </tr>\n",
       "    <tr>\n",
       "      <th>1</th>\n",
       "      <td>705</td>\n",
       "      <td>588</td>\n",
       "      <td>2.010653e+00</td>\n",
       "      <td>0.448782</td>\n",
       "      <td>795</td>\n",
       "      <td>134</td>\n",
       "      <td>0.629182</td>\n",
       "      <td>0.11</td>\n",
       "      <td>795</td>\n",
       "      <td>614</td>\n",
       "      <td>-3.270067</td>\n",
       "      <td>-13.219154</td>\n",
       "      <td>4WMD</td>\n",
       "      <td>2.585</td>\n",
       "    </tr>\n",
       "    <tr>\n",
       "      <th>2</th>\n",
       "      <td>789</td>\n",
       "      <td>579</td>\n",
       "      <td>2.359281e+04</td>\n",
       "      <td>0.259957</td>\n",
       "      <td>795</td>\n",
       "      <td>101</td>\n",
       "      <td>0.659472</td>\n",
       "      <td>0.09</td>\n",
       "      <td>795</td>\n",
       "      <td>612</td>\n",
       "      <td>-2.439679</td>\n",
       "      <td>-11.826693</td>\n",
       "      <td>4WME</td>\n",
       "      <td>1.550</td>\n",
       "    </tr>\n",
       "    <tr>\n",
       "      <th>3</th>\n",
       "      <td>784</td>\n",
       "      <td>651</td>\n",
       "      <td>2.086537e+00</td>\n",
       "      <td>0.198769</td>\n",
       "      <td>795</td>\n",
       "      <td>233</td>\n",
       "      <td>0.546956</td>\n",
       "      <td>0.01</td>\n",
       "      <td>795</td>\n",
       "      <td>623</td>\n",
       "      <td>-2.323503</td>\n",
       "      <td>-11.802132</td>\n",
       "      <td>4WMF</td>\n",
       "      <td>1.970</td>\n",
       "    </tr>\n",
       "    <tr>\n",
       "      <th>4</th>\n",
       "      <td>794</td>\n",
       "      <td>676</td>\n",
       "      <td>1.843250e+00</td>\n",
       "      <td>0.215614</td>\n",
       "      <td>798</td>\n",
       "      <td>266</td>\n",
       "      <td>0.510263</td>\n",
       "      <td>0.09</td>\n",
       "      <td>798</td>\n",
       "      <td>771</td>\n",
       "      <td>-6.990940</td>\n",
       "      <td>-12.059378</td>\n",
       "      <td>4YLU</td>\n",
       "      <td>2.100</td>\n",
       "    </tr>\n",
       "    <tr>\n",
       "      <th>5</th>\n",
       "      <td>772</td>\n",
       "      <td>666</td>\n",
       "      <td>2.050736e+00</td>\n",
       "      <td>0.445283</td>\n",
       "      <td>795</td>\n",
       "      <td>43</td>\n",
       "      <td>0.706717</td>\n",
       "      <td>0.11</td>\n",
       "      <td>795</td>\n",
       "      <td>607</td>\n",
       "      <td>-3.657681</td>\n",
       "      <td>-11.681658</td>\n",
       "      <td>5C3N</td>\n",
       "      <td>3.000</td>\n",
       "    </tr>\n",
       "    <tr>\n",
       "      <th>6</th>\n",
       "      <td>301</td>\n",
       "      <td>210</td>\n",
       "      <td>NaN</td>\n",
       "      <td>0.800021</td>\n",
       "      <td>642</td>\n",
       "      <td>8</td>\n",
       "      <td>0.774953</td>\n",
       "      <td>0.11</td>\n",
       "      <td>642</td>\n",
       "      <td>40</td>\n",
       "      <td>14.380204</td>\n",
       "      <td>-3.763183</td>\n",
       "      <td>5WKJ</td>\n",
       "      <td>2.050</td>\n",
       "    </tr>\n",
       "    <tr>\n",
       "      <th>7</th>\n",
       "      <td>250</td>\n",
       "      <td>159</td>\n",
       "      <td>NaN</td>\n",
       "      <td>0.773610</td>\n",
       "      <td>641</td>\n",
       "      <td>5</td>\n",
       "      <td>0.782652</td>\n",
       "      <td>0.18</td>\n",
       "      <td>641</td>\n",
       "      <td>50</td>\n",
       "      <td>13.551228</td>\n",
       "      <td>-3.770531</td>\n",
       "      <td>5WKK</td>\n",
       "      <td>1.550</td>\n",
       "    </tr>\n",
       "    <tr>\n",
       "      <th>8</th>\n",
       "      <td>324</td>\n",
       "      <td>233</td>\n",
       "      <td>2.608810e+00</td>\n",
       "      <td>0.937535</td>\n",
       "      <td>641</td>\n",
       "      <td>7</td>\n",
       "      <td>0.773042</td>\n",
       "      <td>0.09</td>\n",
       "      <td>641</td>\n",
       "      <td>31</td>\n",
       "      <td>14.678984</td>\n",
       "      <td>-3.678762</td>\n",
       "      <td>5WKL</td>\n",
       "      <td>1.850</td>\n",
       "    </tr>\n",
       "    <tr>\n",
       "      <th>9</th>\n",
       "      <td>248</td>\n",
       "      <td>134</td>\n",
       "      <td>2.950765e+00</td>\n",
       "      <td>0.649191</td>\n",
       "      <td>641</td>\n",
       "      <td>8</td>\n",
       "      <td>0.775944</td>\n",
       "      <td>0.15</td>\n",
       "      <td>641</td>\n",
       "      <td>55</td>\n",
       "      <td>11.401929</td>\n",
       "      <td>-3.757903</td>\n",
       "      <td>5WKM</td>\n",
       "      <td>2.250</td>\n",
       "    </tr>\n",
       "    <tr>\n",
       "      <th>10</th>\n",
       "      <td>244</td>\n",
       "      <td>153</td>\n",
       "      <td>7.628411e+04</td>\n",
       "      <td>0.839696</td>\n",
       "      <td>644</td>\n",
       "      <td>3</td>\n",
       "      <td>0.779037</td>\n",
       "      <td>0.15</td>\n",
       "      <td>644</td>\n",
       "      <td>49</td>\n",
       "      <td>13.538128</td>\n",
       "      <td>-3.785697</td>\n",
       "      <td>6VGY</td>\n",
       "      <td>2.050</td>\n",
       "    </tr>\n",
       "    <tr>\n",
       "      <th>11</th>\n",
       "      <td>286</td>\n",
       "      <td>160</td>\n",
       "      <td>2.862625e+00</td>\n",
       "      <td>0.888721</td>\n",
       "      <td>644</td>\n",
       "      <td>7</td>\n",
       "      <td>0.775373</td>\n",
       "      <td>0.15</td>\n",
       "      <td>644</td>\n",
       "      <td>40</td>\n",
       "      <td>13.546292</td>\n",
       "      <td>-3.667930</td>\n",
       "      <td>6VGZ</td>\n",
       "      <td>2.250</td>\n",
       "    </tr>\n",
       "    <tr>\n",
       "      <th>12</th>\n",
       "      <td>237</td>\n",
       "      <td>152</td>\n",
       "      <td>2.743047e+00</td>\n",
       "      <td>0.942920</td>\n",
       "      <td>644</td>\n",
       "      <td>4</td>\n",
       "      <td>0.782220</td>\n",
       "      <td>0.15</td>\n",
       "      <td>644</td>\n",
       "      <td>46</td>\n",
       "      <td>14.236344</td>\n",
       "      <td>-3.626825</td>\n",
       "      <td>6VH0</td>\n",
       "      <td>1.950</td>\n",
       "    </tr>\n",
       "    <tr>\n",
       "      <th>13</th>\n",
       "      <td>296</td>\n",
       "      <td>174</td>\n",
       "      <td>1.329776e+05</td>\n",
       "      <td>0.984262</td>\n",
       "      <td>778</td>\n",
       "      <td>9</td>\n",
       "      <td>0.778252</td>\n",
       "      <td>0.15</td>\n",
       "      <td>778</td>\n",
       "      <td>38</td>\n",
       "      <td>13.349518</td>\n",
       "      <td>-4.232438</td>\n",
       "      <td>6VH1</td>\n",
       "      <td>2.300</td>\n",
       "    </tr>\n",
       "    <tr>\n",
       "      <th>14</th>\n",
       "      <td>306</td>\n",
       "      <td>189</td>\n",
       "      <td>4.227422e+05</td>\n",
       "      <td>0.822958</td>\n",
       "      <td>644</td>\n",
       "      <td>5</td>\n",
       "      <td>0.779984</td>\n",
       "      <td>0.11</td>\n",
       "      <td>644</td>\n",
       "      <td>46</td>\n",
       "      <td>12.774046</td>\n",
       "      <td>-4.531243</td>\n",
       "      <td>6VH2</td>\n",
       "      <td>2.260</td>\n",
       "    </tr>\n",
       "    <tr>\n",
       "      <th>15</th>\n",
       "      <td>276</td>\n",
       "      <td>154</td>\n",
       "      <td>2.863588e+00</td>\n",
       "      <td>1.099253</td>\n",
       "      <td>642</td>\n",
       "      <td>0</td>\n",
       "      <td>0.786713</td>\n",
       "      <td>0.50</td>\n",
       "      <td>642</td>\n",
       "      <td>44</td>\n",
       "      <td>13.628066</td>\n",
       "      <td>-3.559983</td>\n",
       "      <td>6VH3</td>\n",
       "      <td>2.200</td>\n",
       "    </tr>\n",
       "    <tr>\n",
       "      <th>16</th>\n",
       "      <td>635</td>\n",
       "      <td>504</td>\n",
       "      <td>3.081202e+06</td>\n",
       "      <td>0.401450</td>\n",
       "      <td>642</td>\n",
       "      <td>66</td>\n",
       "      <td>0.666028</td>\n",
       "      <td>0.09</td>\n",
       "      <td>642</td>\n",
       "      <td>618</td>\n",
       "      <td>-5.632601</td>\n",
       "      <td>-12.547724</td>\n",
       "      <td>7D3C</td>\n",
       "      <td>2.200</td>\n",
       "    </tr>\n",
       "    <tr>\n",
       "      <th>17</th>\n",
       "      <td>679</td>\n",
       "      <td>612</td>\n",
       "      <td>5.948929e+02</td>\n",
       "      <td>0.158411</td>\n",
       "      <td>794</td>\n",
       "      <td>319</td>\n",
       "      <td>0.487922</td>\n",
       "      <td>0.01</td>\n",
       "      <td>794</td>\n",
       "      <td>619</td>\n",
       "      <td>-2.774875</td>\n",
       "      <td>-11.786648</td>\n",
       "      <td>7DR8</td>\n",
       "      <td>2.340</td>\n",
       "    </tr>\n",
       "    <tr>\n",
       "      <th>18</th>\n",
       "      <td>695</td>\n",
       "      <td>620</td>\n",
       "      <td>1.212636e+06</td>\n",
       "      <td>0.576406</td>\n",
       "      <td>797</td>\n",
       "      <td>56</td>\n",
       "      <td>0.692572</td>\n",
       "      <td>0.15</td>\n",
       "      <td>797</td>\n",
       "      <td>617</td>\n",
       "      <td>-1.669258</td>\n",
       "      <td>-9.327986</td>\n",
       "      <td>7DR9</td>\n",
       "      <td>2.780</td>\n",
       "    </tr>\n",
       "    <tr>\n",
       "      <th>19</th>\n",
       "      <td>698</td>\n",
       "      <td>633</td>\n",
       "      <td>1.398597e+05</td>\n",
       "      <td>0.499596</td>\n",
       "      <td>797</td>\n",
       "      <td>89</td>\n",
       "      <td>0.664366</td>\n",
       "      <td>0.11</td>\n",
       "      <td>797</td>\n",
       "      <td>616</td>\n",
       "      <td>-2.043011</td>\n",
       "      <td>-10.708580</td>\n",
       "      <td>7DRA</td>\n",
       "      <td>2.780</td>\n",
       "    </tr>\n",
       "    <tr>\n",
       "      <th>20</th>\n",
       "      <td>255</td>\n",
       "      <td>159</td>\n",
       "      <td>2.807698e+00</td>\n",
       "      <td>0.984262</td>\n",
       "      <td>641</td>\n",
       "      <td>5</td>\n",
       "      <td>0.780811</td>\n",
       "      <td>0.15</td>\n",
       "      <td>641</td>\n",
       "      <td>35</td>\n",
       "      <td>13.189243</td>\n",
       "      <td>-4.698969</td>\n",
       "      <td>7T3Y</td>\n",
       "      <td>1.900</td>\n",
       "    </tr>\n",
       "    <tr>\n",
       "      <th>21</th>\n",
       "      <td>240</td>\n",
       "      <td>138</td>\n",
       "      <td>2.893441e+00</td>\n",
       "      <td>1.043772</td>\n",
       "      <td>641</td>\n",
       "      <td>4</td>\n",
       "      <td>0.780749</td>\n",
       "      <td>0.18</td>\n",
       "      <td>641</td>\n",
       "      <td>48</td>\n",
       "      <td>12.965622</td>\n",
       "      <td>-3.633895</td>\n",
       "      <td>7T3Z</td>\n",
       "      <td>1.950</td>\n",
       "    </tr>\n",
       "    <tr>\n",
       "      <th>22</th>\n",
       "      <td>303</td>\n",
       "      <td>192</td>\n",
       "      <td>2.746435e+00</td>\n",
       "      <td>0.596780</td>\n",
       "      <td>641</td>\n",
       "      <td>3</td>\n",
       "      <td>0.784353</td>\n",
       "      <td>0.15</td>\n",
       "      <td>641</td>\n",
       "      <td>27</td>\n",
       "      <td>13.044768</td>\n",
       "      <td>-3.413420</td>\n",
       "      <td>7T40</td>\n",
       "      <td>1.700</td>\n",
       "    </tr>\n",
       "    <tr>\n",
       "      <th>23</th>\n",
       "      <td>282</td>\n",
       "      <td>165</td>\n",
       "      <td>2.835808e+00</td>\n",
       "      <td>0.909708</td>\n",
       "      <td>642</td>\n",
       "      <td>7</td>\n",
       "      <td>0.776340</td>\n",
       "      <td>0.11</td>\n",
       "      <td>642</td>\n",
       "      <td>32</td>\n",
       "      <td>13.966963</td>\n",
       "      <td>-4.212499</td>\n",
       "      <td>7T41</td>\n",
       "      <td>2.100</td>\n",
       "    </tr>\n",
       "    <tr>\n",
       "      <th>24</th>\n",
       "      <td>282</td>\n",
       "      <td>183</td>\n",
       "      <td>1.204569e+05</td>\n",
       "      <td>0.952914</td>\n",
       "      <td>642</td>\n",
       "      <td>4</td>\n",
       "      <td>0.785156</td>\n",
       "      <td>0.18</td>\n",
       "      <td>642</td>\n",
       "      <td>33</td>\n",
       "      <td>13.347793</td>\n",
       "      <td>-4.422434</td>\n",
       "      <td>7TQ7</td>\n",
       "      <td>1.700</td>\n",
       "    </tr>\n",
       "    <tr>\n",
       "      <th>25</th>\n",
       "      <td>284</td>\n",
       "      <td>172</td>\n",
       "      <td>2.779414e+00</td>\n",
       "      <td>1.061583</td>\n",
       "      <td>641</td>\n",
       "      <td>7</td>\n",
       "      <td>0.776053</td>\n",
       "      <td>0.09</td>\n",
       "      <td>641</td>\n",
       "      <td>39</td>\n",
       "      <td>13.474588</td>\n",
       "      <td>-4.102154</td>\n",
       "      <td>7TQ8</td>\n",
       "      <td>1.650</td>\n",
       "    </tr>\n",
       "    <tr>\n",
       "      <th>26</th>\n",
       "      <td>253</td>\n",
       "      <td>163</td>\n",
       "      <td>2.663896e+00</td>\n",
       "      <td>0.849810</td>\n",
       "      <td>641</td>\n",
       "      <td>7</td>\n",
       "      <td>0.778580</td>\n",
       "      <td>0.15</td>\n",
       "      <td>641</td>\n",
       "      <td>24</td>\n",
       "      <td>14.443739</td>\n",
       "      <td>-3.889750</td>\n",
       "      <td>8CZT</td>\n",
       "      <td>2.100</td>\n",
       "    </tr>\n",
       "    <tr>\n",
       "      <th>27</th>\n",
       "      <td>228</td>\n",
       "      <td>138</td>\n",
       "      <td>2.710787e+00</td>\n",
       "      <td>0.681992</td>\n",
       "      <td>641</td>\n",
       "      <td>4</td>\n",
       "      <td>0.781061</td>\n",
       "      <td>0.11</td>\n",
       "      <td>641</td>\n",
       "      <td>25</td>\n",
       "      <td>13.639480</td>\n",
       "      <td>-4.301030</td>\n",
       "      <td>8CZU</td>\n",
       "      <td>2.700</td>\n",
       "    </tr>\n",
       "    <tr>\n",
       "      <th>28</th>\n",
       "      <td>256</td>\n",
       "      <td>166</td>\n",
       "      <td>2.660369e+00</td>\n",
       "      <td>0.803401</td>\n",
       "      <td>641</td>\n",
       "      <td>10</td>\n",
       "      <td>0.777083</td>\n",
       "      <td>0.15</td>\n",
       "      <td>641</td>\n",
       "      <td>32</td>\n",
       "      <td>13.780628</td>\n",
       "      <td>-3.691908</td>\n",
       "      <td>8CZV</td>\n",
       "      <td>1.950</td>\n",
       "    </tr>\n",
       "    <tr>\n",
       "      <th>29</th>\n",
       "      <td>290</td>\n",
       "      <td>171</td>\n",
       "      <td>NaN</td>\n",
       "      <td>0.756689</td>\n",
       "      <td>641</td>\n",
       "      <td>5</td>\n",
       "      <td>0.782886</td>\n",
       "      <td>0.18</td>\n",
       "      <td>641</td>\n",
       "      <td>54</td>\n",
       "      <td>13.103974</td>\n",
       "      <td>-5.014632</td>\n",
       "      <td>8DGY</td>\n",
       "      <td>1.650</td>\n",
       "    </tr>\n",
       "  </tbody>\n",
       "</table>\n",
       "</div>"
      ],
      "text/plain": [
       "    RMSD_Not_NA  RMSD_Good     RMSD_Mean  RMSD_Min  POSIT_R_Not_NA  \\\n",
       "0           404        276  2.890484e+00  0.955928             794   \n",
       "1           705        588  2.010653e+00  0.448782             795   \n",
       "2           789        579  2.359281e+04  0.259957             795   \n",
       "3           784        651  2.086537e+00  0.198769             795   \n",
       "4           794        676  1.843250e+00  0.215614             798   \n",
       "5           772        666  2.050736e+00  0.445283             795   \n",
       "6           301        210           NaN  0.800021             642   \n",
       "7           250        159           NaN  0.773610             641   \n",
       "8           324        233  2.608810e+00  0.937535             641   \n",
       "9           248        134  2.950765e+00  0.649191             641   \n",
       "10          244        153  7.628411e+04  0.839696             644   \n",
       "11          286        160  2.862625e+00  0.888721             644   \n",
       "12          237        152  2.743047e+00  0.942920             644   \n",
       "13          296        174  1.329776e+05  0.984262             778   \n",
       "14          306        189  4.227422e+05  0.822958             644   \n",
       "15          276        154  2.863588e+00  1.099253             642   \n",
       "16          635        504  3.081202e+06  0.401450             642   \n",
       "17          679        612  5.948929e+02  0.158411             794   \n",
       "18          695        620  1.212636e+06  0.576406             797   \n",
       "19          698        633  1.398597e+05  0.499596             797   \n",
       "20          255        159  2.807698e+00  0.984262             641   \n",
       "21          240        138  2.893441e+00  1.043772             641   \n",
       "22          303        192  2.746435e+00  0.596780             641   \n",
       "23          282        165  2.835808e+00  0.909708             642   \n",
       "24          282        183  1.204569e+05  0.952914             642   \n",
       "25          284        172  2.779414e+00  1.061583             641   \n",
       "26          253        163  2.663896e+00  0.849810             641   \n",
       "27          228        138  2.710787e+00  0.681992             641   \n",
       "28          256        166  2.660369e+00  0.803401             641   \n",
       "29          290        171           NaN  0.756689             641   \n",
       "\n",
       "    POSIT_R_Good  POSIT_R_Mean  POSIT_R_Min  Chemgauss4_Not_NA  \\\n",
       "0              6      0.779068         0.15                794   \n",
       "1            134      0.629182         0.11                795   \n",
       "2            101      0.659472         0.09                795   \n",
       "3            233      0.546956         0.01                795   \n",
       "4            266      0.510263         0.09                798   \n",
       "5             43      0.706717         0.11                795   \n",
       "6              8      0.774953         0.11                642   \n",
       "7              5      0.782652         0.18                641   \n",
       "8              7      0.773042         0.09                641   \n",
       "9              8      0.775944         0.15                641   \n",
       "10             3      0.779037         0.15                644   \n",
       "11             7      0.775373         0.15                644   \n",
       "12             4      0.782220         0.15                644   \n",
       "13             9      0.778252         0.15                778   \n",
       "14             5      0.779984         0.11                644   \n",
       "15             0      0.786713         0.50                642   \n",
       "16            66      0.666028         0.09                642   \n",
       "17           319      0.487922         0.01                794   \n",
       "18            56      0.692572         0.15                797   \n",
       "19            89      0.664366         0.11                797   \n",
       "20             5      0.780811         0.15                641   \n",
       "21             4      0.780749         0.18                641   \n",
       "22             3      0.784353         0.15                641   \n",
       "23             7      0.776340         0.11                642   \n",
       "24             4      0.785156         0.18                642   \n",
       "25             7      0.776053         0.09                641   \n",
       "26             7      0.778580         0.15                641   \n",
       "27             4      0.781061         0.11                641   \n",
       "28            10      0.777083         0.15                641   \n",
       "29             5      0.782886         0.18                641   \n",
       "\n",
       "    Chemgauss4_Good  Chemgauss4_Mean  Chemgauss4_Min Structure_Source  \\\n",
       "0                24        15.065372       -4.035570             4RSP   \n",
       "1               614        -3.270067      -13.219154             4WMD   \n",
       "2               612        -2.439679      -11.826693             4WME   \n",
       "3               623        -2.323503      -11.802132             4WMF   \n",
       "4               771        -6.990940      -12.059378             4YLU   \n",
       "5               607        -3.657681      -11.681658             5C3N   \n",
       "6                40        14.380204       -3.763183             5WKJ   \n",
       "7                50        13.551228       -3.770531             5WKK   \n",
       "8                31        14.678984       -3.678762             5WKL   \n",
       "9                55        11.401929       -3.757903             5WKM   \n",
       "10               49        13.538128       -3.785697             6VGY   \n",
       "11               40        13.546292       -3.667930             6VGZ   \n",
       "12               46        14.236344       -3.626825             6VH0   \n",
       "13               38        13.349518       -4.232438             6VH1   \n",
       "14               46        12.774046       -4.531243             6VH2   \n",
       "15               44        13.628066       -3.559983             6VH3   \n",
       "16              618        -5.632601      -12.547724             7D3C   \n",
       "17              619        -2.774875      -11.786648             7DR8   \n",
       "18              617        -1.669258       -9.327986             7DR9   \n",
       "19              616        -2.043011      -10.708580             7DRA   \n",
       "20               35        13.189243       -4.698969             7T3Y   \n",
       "21               48        12.965622       -3.633895             7T3Z   \n",
       "22               27        13.044768       -3.413420             7T40   \n",
       "23               32        13.966963       -4.212499             7T41   \n",
       "24               33        13.347793       -4.422434             7TQ7   \n",
       "25               39        13.474588       -4.102154             7TQ8   \n",
       "26               24        14.443739       -3.889750             8CZT   \n",
       "27               25        13.639480       -4.301030             8CZU   \n",
       "28               32        13.780628       -3.691908             8CZV   \n",
       "29               54        13.103974       -5.014632             8DGY   \n",
       "\n",
       "    Resolution  \n",
       "0        1.620  \n",
       "1        2.585  \n",
       "2        1.550  \n",
       "3        1.970  \n",
       "4        2.100  \n",
       "5        3.000  \n",
       "6        2.050  \n",
       "7        1.550  \n",
       "8        1.850  \n",
       "9        2.250  \n",
       "10       2.050  \n",
       "11       2.250  \n",
       "12       1.950  \n",
       "13       2.300  \n",
       "14       2.260  \n",
       "15       2.200  \n",
       "16       2.200  \n",
       "17       2.340  \n",
       "18       2.780  \n",
       "19       2.780  \n",
       "20       1.900  \n",
       "21       1.950  \n",
       "22       1.700  \n",
       "23       2.100  \n",
       "24       1.700  \n",
       "25       1.650  \n",
       "26       2.100  \n",
       "27       2.700  \n",
       "28       1.950  \n",
       "29       1.650  "
      ]
     },
     "execution_count": 15,
     "metadata": {},
     "output_type": "execute_result"
    }
   ],
   "source": [
    "df"
   ]
  },
  {
   "cell_type": "code",
   "execution_count": 12,
   "id": "ee459f16",
   "metadata": {},
   "outputs": [],
   "source": [
    "tidy_df = df.melt(id_vars='Structure_Source')"
   ]
  },
  {
   "cell_type": "code",
   "execution_count": 16,
   "id": "ce1c4131",
   "metadata": {},
   "outputs": [
    {
     "data": {
      "text/html": [
       "<div>\n",
       "<style scoped>\n",
       "    .dataframe tbody tr th:only-of-type {\n",
       "        vertical-align: middle;\n",
       "    }\n",
       "\n",
       "    .dataframe tbody tr th {\n",
       "        vertical-align: top;\n",
       "    }\n",
       "\n",
       "    .dataframe thead th {\n",
       "        text-align: right;\n",
       "    }\n",
       "</style>\n",
       "<table border=\"1\" class=\"dataframe\">\n",
       "  <thead>\n",
       "    <tr style=\"text-align: right;\">\n",
       "      <th></th>\n",
       "      <th>Structure_Source</th>\n",
       "      <th>variable</th>\n",
       "      <th>value</th>\n",
       "    </tr>\n",
       "  </thead>\n",
       "  <tbody>\n",
       "    <tr>\n",
       "      <th>0</th>\n",
       "      <td>4RSP</td>\n",
       "      <td>RMSD_Not_NA</td>\n",
       "      <td>404.00</td>\n",
       "    </tr>\n",
       "    <tr>\n",
       "      <th>1</th>\n",
       "      <td>4WMD</td>\n",
       "      <td>RMSD_Not_NA</td>\n",
       "      <td>705.00</td>\n",
       "    </tr>\n",
       "    <tr>\n",
       "      <th>2</th>\n",
       "      <td>4WME</td>\n",
       "      <td>RMSD_Not_NA</td>\n",
       "      <td>789.00</td>\n",
       "    </tr>\n",
       "    <tr>\n",
       "      <th>3</th>\n",
       "      <td>4WMF</td>\n",
       "      <td>RMSD_Not_NA</td>\n",
       "      <td>784.00</td>\n",
       "    </tr>\n",
       "    <tr>\n",
       "      <th>4</th>\n",
       "      <td>4YLU</td>\n",
       "      <td>RMSD_Not_NA</td>\n",
       "      <td>794.00</td>\n",
       "    </tr>\n",
       "    <tr>\n",
       "      <th>...</th>\n",
       "      <td>...</td>\n",
       "      <td>...</td>\n",
       "      <td>...</td>\n",
       "    </tr>\n",
       "    <tr>\n",
       "      <th>385</th>\n",
       "      <td>7TQ8</td>\n",
       "      <td>Resolution</td>\n",
       "      <td>1.65</td>\n",
       "    </tr>\n",
       "    <tr>\n",
       "      <th>386</th>\n",
       "      <td>8CZT</td>\n",
       "      <td>Resolution</td>\n",
       "      <td>2.10</td>\n",
       "    </tr>\n",
       "    <tr>\n",
       "      <th>387</th>\n",
       "      <td>8CZU</td>\n",
       "      <td>Resolution</td>\n",
       "      <td>2.70</td>\n",
       "    </tr>\n",
       "    <tr>\n",
       "      <th>388</th>\n",
       "      <td>8CZV</td>\n",
       "      <td>Resolution</td>\n",
       "      <td>1.95</td>\n",
       "    </tr>\n",
       "    <tr>\n",
       "      <th>389</th>\n",
       "      <td>8DGY</td>\n",
       "      <td>Resolution</td>\n",
       "      <td>1.65</td>\n",
       "    </tr>\n",
       "  </tbody>\n",
       "</table>\n",
       "<p>390 rows × 3 columns</p>\n",
       "</div>"
      ],
      "text/plain": [
       "    Structure_Source     variable   value\n",
       "0               4RSP  RMSD_Not_NA  404.00\n",
       "1               4WMD  RMSD_Not_NA  705.00\n",
       "2               4WME  RMSD_Not_NA  789.00\n",
       "3               4WMF  RMSD_Not_NA  784.00\n",
       "4               4YLU  RMSD_Not_NA  794.00\n",
       "..               ...          ...     ...\n",
       "385             7TQ8   Resolution    1.65\n",
       "386             8CZT   Resolution    2.10\n",
       "387             8CZU   Resolution    2.70\n",
       "388             8CZV   Resolution    1.95\n",
       "389             8DGY   Resolution    1.65\n",
       "\n",
       "[390 rows x 3 columns]"
      ]
     },
     "execution_count": 16,
     "metadata": {},
     "output_type": "execute_result"
    }
   ],
   "source": [
    "tidy_df"
   ]
  },
  {
   "cell_type": "code",
   "execution_count": 17,
   "id": "5a37d316",
   "metadata": {},
   "outputs": [
    {
     "data": {
      "application/vnd.plotly.v1+json": {
       "config": {
        "plotlyServerURL": "https://plot.ly"
       },
       "data": [
        {
         "alignmentgroup": "True",
         "hovertemplate": "RMSD_Mean=%{x}<br>Structure_Source=%{y}<extra></extra>",
         "legendgroup": "",
         "marker": {
          "color": "#636efa",
          "pattern": {
           "shape": ""
          }
         },
         "name": "",
         "offsetgroup": "",
         "orientation": "h",
         "showlegend": false,
         "textposition": "auto",
         "type": "bar",
         "x": [
          2.9507652666272626,
          2.7107869657967014,
          2.893440748058683,
          2.7430465014916483,
          76284.10902714774,
          2.863588103173855,
          null,
          2.807698098457228,
          2.862624548129653,
          2.6638964043206665,
          2.835808053938912,
          2.6603685138349267,
          null,
          2.779414237705123,
          132977.5936329423,
          120456.91491130082,
          422742.1963701492,
          2.7464347124353674,
          null,
          2.6088103247509515,
          2.890483967790761,
          3081202.2731334493,
          23592.80526616139,
          2.010653426996704,
          594.8929089840566,
          1212636.1767792858,
          139859.68066065246,
          2.0865370689411327,
          2.050736405538718,
          1.8432495754084004
         ],
         "xaxis": "x",
         "y": [
          "5WKM",
          "8CZU",
          "7T3Z",
          "6VH0",
          "6VGY",
          "6VH3",
          "5WKK",
          "7T3Y",
          "6VGZ",
          "8CZT",
          "7T41",
          "8CZV",
          "8DGY",
          "7TQ8",
          "6VH1",
          "7TQ7",
          "6VH2",
          "7T40",
          "5WKJ",
          "5WKL",
          "4RSP",
          "7D3C",
          "4WME",
          "4WMD",
          "7DR8",
          "7DR9",
          "7DRA",
          "4WMF",
          "5C3N",
          "4YLU"
         ],
         "yaxis": "y"
        }
       ],
       "layout": {
        "barmode": "relative",
        "height": 800,
        "legend": {
         "tracegroupgap": 0
        },
        "margin": {
         "t": 60
        },
        "template": {
         "data": {
          "bar": [
           {
            "error_x": {
             "color": "#2a3f5f"
            },
            "error_y": {
             "color": "#2a3f5f"
            },
            "marker": {
             "line": {
              "color": "#E5ECF6",
              "width": 0.5
             },
             "pattern": {
              "fillmode": "overlay",
              "size": 10,
              "solidity": 0.2
             }
            },
            "type": "bar"
           }
          ],
          "barpolar": [
           {
            "marker": {
             "line": {
              "color": "#E5ECF6",
              "width": 0.5
             },
             "pattern": {
              "fillmode": "overlay",
              "size": 10,
              "solidity": 0.2
             }
            },
            "type": "barpolar"
           }
          ],
          "carpet": [
           {
            "aaxis": {
             "endlinecolor": "#2a3f5f",
             "gridcolor": "white",
             "linecolor": "white",
             "minorgridcolor": "white",
             "startlinecolor": "#2a3f5f"
            },
            "baxis": {
             "endlinecolor": "#2a3f5f",
             "gridcolor": "white",
             "linecolor": "white",
             "minorgridcolor": "white",
             "startlinecolor": "#2a3f5f"
            },
            "type": "carpet"
           }
          ],
          "choropleth": [
           {
            "colorbar": {
             "outlinewidth": 0,
             "ticks": ""
            },
            "type": "choropleth"
           }
          ],
          "contour": [
           {
            "colorbar": {
             "outlinewidth": 0,
             "ticks": ""
            },
            "colorscale": [
             [
              0,
              "#0d0887"
             ],
             [
              0.1111111111111111,
              "#46039f"
             ],
             [
              0.2222222222222222,
              "#7201a8"
             ],
             [
              0.3333333333333333,
              "#9c179e"
             ],
             [
              0.4444444444444444,
              "#bd3786"
             ],
             [
              0.5555555555555556,
              "#d8576b"
             ],
             [
              0.6666666666666666,
              "#ed7953"
             ],
             [
              0.7777777777777778,
              "#fb9f3a"
             ],
             [
              0.8888888888888888,
              "#fdca26"
             ],
             [
              1,
              "#f0f921"
             ]
            ],
            "type": "contour"
           }
          ],
          "contourcarpet": [
           {
            "colorbar": {
             "outlinewidth": 0,
             "ticks": ""
            },
            "type": "contourcarpet"
           }
          ],
          "heatmap": [
           {
            "colorbar": {
             "outlinewidth": 0,
             "ticks": ""
            },
            "colorscale": [
             [
              0,
              "#0d0887"
             ],
             [
              0.1111111111111111,
              "#46039f"
             ],
             [
              0.2222222222222222,
              "#7201a8"
             ],
             [
              0.3333333333333333,
              "#9c179e"
             ],
             [
              0.4444444444444444,
              "#bd3786"
             ],
             [
              0.5555555555555556,
              "#d8576b"
             ],
             [
              0.6666666666666666,
              "#ed7953"
             ],
             [
              0.7777777777777778,
              "#fb9f3a"
             ],
             [
              0.8888888888888888,
              "#fdca26"
             ],
             [
              1,
              "#f0f921"
             ]
            ],
            "type": "heatmap"
           }
          ],
          "heatmapgl": [
           {
            "colorbar": {
             "outlinewidth": 0,
             "ticks": ""
            },
            "colorscale": [
             [
              0,
              "#0d0887"
             ],
             [
              0.1111111111111111,
              "#46039f"
             ],
             [
              0.2222222222222222,
              "#7201a8"
             ],
             [
              0.3333333333333333,
              "#9c179e"
             ],
             [
              0.4444444444444444,
              "#bd3786"
             ],
             [
              0.5555555555555556,
              "#d8576b"
             ],
             [
              0.6666666666666666,
              "#ed7953"
             ],
             [
              0.7777777777777778,
              "#fb9f3a"
             ],
             [
              0.8888888888888888,
              "#fdca26"
             ],
             [
              1,
              "#f0f921"
             ]
            ],
            "type": "heatmapgl"
           }
          ],
          "histogram": [
           {
            "marker": {
             "pattern": {
              "fillmode": "overlay",
              "size": 10,
              "solidity": 0.2
             }
            },
            "type": "histogram"
           }
          ],
          "histogram2d": [
           {
            "colorbar": {
             "outlinewidth": 0,
             "ticks": ""
            },
            "colorscale": [
             [
              0,
              "#0d0887"
             ],
             [
              0.1111111111111111,
              "#46039f"
             ],
             [
              0.2222222222222222,
              "#7201a8"
             ],
             [
              0.3333333333333333,
              "#9c179e"
             ],
             [
              0.4444444444444444,
              "#bd3786"
             ],
             [
              0.5555555555555556,
              "#d8576b"
             ],
             [
              0.6666666666666666,
              "#ed7953"
             ],
             [
              0.7777777777777778,
              "#fb9f3a"
             ],
             [
              0.8888888888888888,
              "#fdca26"
             ],
             [
              1,
              "#f0f921"
             ]
            ],
            "type": "histogram2d"
           }
          ],
          "histogram2dcontour": [
           {
            "colorbar": {
             "outlinewidth": 0,
             "ticks": ""
            },
            "colorscale": [
             [
              0,
              "#0d0887"
             ],
             [
              0.1111111111111111,
              "#46039f"
             ],
             [
              0.2222222222222222,
              "#7201a8"
             ],
             [
              0.3333333333333333,
              "#9c179e"
             ],
             [
              0.4444444444444444,
              "#bd3786"
             ],
             [
              0.5555555555555556,
              "#d8576b"
             ],
             [
              0.6666666666666666,
              "#ed7953"
             ],
             [
              0.7777777777777778,
              "#fb9f3a"
             ],
             [
              0.8888888888888888,
              "#fdca26"
             ],
             [
              1,
              "#f0f921"
             ]
            ],
            "type": "histogram2dcontour"
           }
          ],
          "mesh3d": [
           {
            "colorbar": {
             "outlinewidth": 0,
             "ticks": ""
            },
            "type": "mesh3d"
           }
          ],
          "parcoords": [
           {
            "line": {
             "colorbar": {
              "outlinewidth": 0,
              "ticks": ""
             }
            },
            "type": "parcoords"
           }
          ],
          "pie": [
           {
            "automargin": true,
            "type": "pie"
           }
          ],
          "scatter": [
           {
            "fillpattern": {
             "fillmode": "overlay",
             "size": 10,
             "solidity": 0.2
            },
            "type": "scatter"
           }
          ],
          "scatter3d": [
           {
            "line": {
             "colorbar": {
              "outlinewidth": 0,
              "ticks": ""
             }
            },
            "marker": {
             "colorbar": {
              "outlinewidth": 0,
              "ticks": ""
             }
            },
            "type": "scatter3d"
           }
          ],
          "scattercarpet": [
           {
            "marker": {
             "colorbar": {
              "outlinewidth": 0,
              "ticks": ""
             }
            },
            "type": "scattercarpet"
           }
          ],
          "scattergeo": [
           {
            "marker": {
             "colorbar": {
              "outlinewidth": 0,
              "ticks": ""
             }
            },
            "type": "scattergeo"
           }
          ],
          "scattergl": [
           {
            "marker": {
             "colorbar": {
              "outlinewidth": 0,
              "ticks": ""
             }
            },
            "type": "scattergl"
           }
          ],
          "scattermapbox": [
           {
            "marker": {
             "colorbar": {
              "outlinewidth": 0,
              "ticks": ""
             }
            },
            "type": "scattermapbox"
           }
          ],
          "scatterpolar": [
           {
            "marker": {
             "colorbar": {
              "outlinewidth": 0,
              "ticks": ""
             }
            },
            "type": "scatterpolar"
           }
          ],
          "scatterpolargl": [
           {
            "marker": {
             "colorbar": {
              "outlinewidth": 0,
              "ticks": ""
             }
            },
            "type": "scatterpolargl"
           }
          ],
          "scatterternary": [
           {
            "marker": {
             "colorbar": {
              "outlinewidth": 0,
              "ticks": ""
             }
            },
            "type": "scatterternary"
           }
          ],
          "surface": [
           {
            "colorbar": {
             "outlinewidth": 0,
             "ticks": ""
            },
            "colorscale": [
             [
              0,
              "#0d0887"
             ],
             [
              0.1111111111111111,
              "#46039f"
             ],
             [
              0.2222222222222222,
              "#7201a8"
             ],
             [
              0.3333333333333333,
              "#9c179e"
             ],
             [
              0.4444444444444444,
              "#bd3786"
             ],
             [
              0.5555555555555556,
              "#d8576b"
             ],
             [
              0.6666666666666666,
              "#ed7953"
             ],
             [
              0.7777777777777778,
              "#fb9f3a"
             ],
             [
              0.8888888888888888,
              "#fdca26"
             ],
             [
              1,
              "#f0f921"
             ]
            ],
            "type": "surface"
           }
          ],
          "table": [
           {
            "cells": {
             "fill": {
              "color": "#EBF0F8"
             },
             "line": {
              "color": "white"
             }
            },
            "header": {
             "fill": {
              "color": "#C8D4E3"
             },
             "line": {
              "color": "white"
             }
            },
            "type": "table"
           }
          ]
         },
         "layout": {
          "annotationdefaults": {
           "arrowcolor": "#2a3f5f",
           "arrowhead": 0,
           "arrowwidth": 1
          },
          "autotypenumbers": "strict",
          "coloraxis": {
           "colorbar": {
            "outlinewidth": 0,
            "ticks": ""
           }
          },
          "colorscale": {
           "diverging": [
            [
             0,
             "#8e0152"
            ],
            [
             0.1,
             "#c51b7d"
            ],
            [
             0.2,
             "#de77ae"
            ],
            [
             0.3,
             "#f1b6da"
            ],
            [
             0.4,
             "#fde0ef"
            ],
            [
             0.5,
             "#f7f7f7"
            ],
            [
             0.6,
             "#e6f5d0"
            ],
            [
             0.7,
             "#b8e186"
            ],
            [
             0.8,
             "#7fbc41"
            ],
            [
             0.9,
             "#4d9221"
            ],
            [
             1,
             "#276419"
            ]
           ],
           "sequential": [
            [
             0,
             "#0d0887"
            ],
            [
             0.1111111111111111,
             "#46039f"
            ],
            [
             0.2222222222222222,
             "#7201a8"
            ],
            [
             0.3333333333333333,
             "#9c179e"
            ],
            [
             0.4444444444444444,
             "#bd3786"
            ],
            [
             0.5555555555555556,
             "#d8576b"
            ],
            [
             0.6666666666666666,
             "#ed7953"
            ],
            [
             0.7777777777777778,
             "#fb9f3a"
            ],
            [
             0.8888888888888888,
             "#fdca26"
            ],
            [
             1,
             "#f0f921"
            ]
           ],
           "sequentialminus": [
            [
             0,
             "#0d0887"
            ],
            [
             0.1111111111111111,
             "#46039f"
            ],
            [
             0.2222222222222222,
             "#7201a8"
            ],
            [
             0.3333333333333333,
             "#9c179e"
            ],
            [
             0.4444444444444444,
             "#bd3786"
            ],
            [
             0.5555555555555556,
             "#d8576b"
            ],
            [
             0.6666666666666666,
             "#ed7953"
            ],
            [
             0.7777777777777778,
             "#fb9f3a"
            ],
            [
             0.8888888888888888,
             "#fdca26"
            ],
            [
             1,
             "#f0f921"
            ]
           ]
          },
          "colorway": [
           "#636efa",
           "#EF553B",
           "#00cc96",
           "#ab63fa",
           "#FFA15A",
           "#19d3f3",
           "#FF6692",
           "#B6E880",
           "#FF97FF",
           "#FECB52"
          ],
          "font": {
           "color": "#2a3f5f"
          },
          "geo": {
           "bgcolor": "white",
           "lakecolor": "white",
           "landcolor": "#E5ECF6",
           "showlakes": true,
           "showland": true,
           "subunitcolor": "white"
          },
          "hoverlabel": {
           "align": "left"
          },
          "hovermode": "closest",
          "mapbox": {
           "style": "light"
          },
          "paper_bgcolor": "white",
          "plot_bgcolor": "#E5ECF6",
          "polar": {
           "angularaxis": {
            "gridcolor": "white",
            "linecolor": "white",
            "ticks": ""
           },
           "bgcolor": "#E5ECF6",
           "radialaxis": {
            "gridcolor": "white",
            "linecolor": "white",
            "ticks": ""
           }
          },
          "scene": {
           "xaxis": {
            "backgroundcolor": "#E5ECF6",
            "gridcolor": "white",
            "gridwidth": 2,
            "linecolor": "white",
            "showbackground": true,
            "ticks": "",
            "zerolinecolor": "white"
           },
           "yaxis": {
            "backgroundcolor": "#E5ECF6",
            "gridcolor": "white",
            "gridwidth": 2,
            "linecolor": "white",
            "showbackground": true,
            "ticks": "",
            "zerolinecolor": "white"
           },
           "zaxis": {
            "backgroundcolor": "#E5ECF6",
            "gridcolor": "white",
            "gridwidth": 2,
            "linecolor": "white",
            "showbackground": true,
            "ticks": "",
            "zerolinecolor": "white"
           }
          },
          "shapedefaults": {
           "line": {
            "color": "#2a3f5f"
           }
          },
          "ternary": {
           "aaxis": {
            "gridcolor": "white",
            "linecolor": "white",
            "ticks": ""
           },
           "baxis": {
            "gridcolor": "white",
            "linecolor": "white",
            "ticks": ""
           },
           "bgcolor": "#E5ECF6",
           "caxis": {
            "gridcolor": "white",
            "linecolor": "white",
            "ticks": ""
           }
          },
          "title": {
           "x": 0.05
          },
          "xaxis": {
           "automargin": true,
           "gridcolor": "white",
           "linecolor": "white",
           "ticks": "",
           "title": {
            "standoff": 15
           },
           "zerolinecolor": "white",
           "zerolinewidth": 2
          },
          "yaxis": {
           "automargin": true,
           "gridcolor": "white",
           "linecolor": "white",
           "ticks": "",
           "title": {
            "standoff": 15
           },
           "zerolinecolor": "white",
           "zerolinewidth": 2
          }
         }
        },
        "width": 800,
        "xaxis": {
         "anchor": "y",
         "domain": [
          0,
          1
         ],
         "title": {
          "text": "RMSD_Mean"
         }
        },
        "yaxis": {
         "anchor": "x",
         "domain": [
          0,
          1
         ],
         "title": {
          "text": "Structure_Source"
         }
        }
       }
      },
      "text/html": [
       "<div>                            <div id=\"96c53033-c25c-4cce-a96e-c16ced14d671\" class=\"plotly-graph-div\" style=\"height:800px; width:800px;\"></div>            <script type=\"text/javascript\">                require([\"plotly\"], function(Plotly) {                    window.PLOTLYENV=window.PLOTLYENV || {};                                    if (document.getElementById(\"96c53033-c25c-4cce-a96e-c16ced14d671\")) {                    Plotly.newPlot(                        \"96c53033-c25c-4cce-a96e-c16ced14d671\",                        [{\"alignmentgroup\":\"True\",\"hovertemplate\":\"RMSD_Mean=%{x}<br>Structure_Source=%{y}<extra></extra>\",\"legendgroup\":\"\",\"marker\":{\"color\":\"#636efa\",\"pattern\":{\"shape\":\"\"}},\"name\":\"\",\"offsetgroup\":\"\",\"orientation\":\"h\",\"showlegend\":false,\"textposition\":\"auto\",\"x\":[2.9507652666272626,2.7107869657967014,2.893440748058683,2.7430465014916483,76284.10902714774,2.863588103173855,null,2.807698098457228,2.862624548129653,2.6638964043206665,2.835808053938912,2.6603685138349267,null,2.779414237705123,132977.5936329423,120456.91491130082,422742.1963701492,2.7464347124353674,null,2.6088103247509515,2.890483967790761,3081202.2731334493,23592.80526616139,2.010653426996704,594.8929089840566,1212636.1767792858,139859.68066065246,2.0865370689411327,2.050736405538718,1.8432495754084004],\"xaxis\":\"x\",\"y\":[\"5WKM\",\"8CZU\",\"7T3Z\",\"6VH0\",\"6VGY\",\"6VH3\",\"5WKK\",\"7T3Y\",\"6VGZ\",\"8CZT\",\"7T41\",\"8CZV\",\"8DGY\",\"7TQ8\",\"6VH1\",\"7TQ7\",\"6VH2\",\"7T40\",\"5WKJ\",\"5WKL\",\"4RSP\",\"7D3C\",\"4WME\",\"4WMD\",\"7DR8\",\"7DR9\",\"7DRA\",\"4WMF\",\"5C3N\",\"4YLU\"],\"yaxis\":\"y\",\"type\":\"bar\"}],                        {\"template\":{\"data\":{\"histogram2dcontour\":[{\"type\":\"histogram2dcontour\",\"colorbar\":{\"outlinewidth\":0,\"ticks\":\"\"},\"colorscale\":[[0.0,\"#0d0887\"],[0.1111111111111111,\"#46039f\"],[0.2222222222222222,\"#7201a8\"],[0.3333333333333333,\"#9c179e\"],[0.4444444444444444,\"#bd3786\"],[0.5555555555555556,\"#d8576b\"],[0.6666666666666666,\"#ed7953\"],[0.7777777777777778,\"#fb9f3a\"],[0.8888888888888888,\"#fdca26\"],[1.0,\"#f0f921\"]]}],\"choropleth\":[{\"type\":\"choropleth\",\"colorbar\":{\"outlinewidth\":0,\"ticks\":\"\"}}],\"histogram2d\":[{\"type\":\"histogram2d\",\"colorbar\":{\"outlinewidth\":0,\"ticks\":\"\"},\"colorscale\":[[0.0,\"#0d0887\"],[0.1111111111111111,\"#46039f\"],[0.2222222222222222,\"#7201a8\"],[0.3333333333333333,\"#9c179e\"],[0.4444444444444444,\"#bd3786\"],[0.5555555555555556,\"#d8576b\"],[0.6666666666666666,\"#ed7953\"],[0.7777777777777778,\"#fb9f3a\"],[0.8888888888888888,\"#fdca26\"],[1.0,\"#f0f921\"]]}],\"heatmap\":[{\"type\":\"heatmap\",\"colorbar\":{\"outlinewidth\":0,\"ticks\":\"\"},\"colorscale\":[[0.0,\"#0d0887\"],[0.1111111111111111,\"#46039f\"],[0.2222222222222222,\"#7201a8\"],[0.3333333333333333,\"#9c179e\"],[0.4444444444444444,\"#bd3786\"],[0.5555555555555556,\"#d8576b\"],[0.6666666666666666,\"#ed7953\"],[0.7777777777777778,\"#fb9f3a\"],[0.8888888888888888,\"#fdca26\"],[1.0,\"#f0f921\"]]}],\"heatmapgl\":[{\"type\":\"heatmapgl\",\"colorbar\":{\"outlinewidth\":0,\"ticks\":\"\"},\"colorscale\":[[0.0,\"#0d0887\"],[0.1111111111111111,\"#46039f\"],[0.2222222222222222,\"#7201a8\"],[0.3333333333333333,\"#9c179e\"],[0.4444444444444444,\"#bd3786\"],[0.5555555555555556,\"#d8576b\"],[0.6666666666666666,\"#ed7953\"],[0.7777777777777778,\"#fb9f3a\"],[0.8888888888888888,\"#fdca26\"],[1.0,\"#f0f921\"]]}],\"contourcarpet\":[{\"type\":\"contourcarpet\",\"colorbar\":{\"outlinewidth\":0,\"ticks\":\"\"}}],\"contour\":[{\"type\":\"contour\",\"colorbar\":{\"outlinewidth\":0,\"ticks\":\"\"},\"colorscale\":[[0.0,\"#0d0887\"],[0.1111111111111111,\"#46039f\"],[0.2222222222222222,\"#7201a8\"],[0.3333333333333333,\"#9c179e\"],[0.4444444444444444,\"#bd3786\"],[0.5555555555555556,\"#d8576b\"],[0.6666666666666666,\"#ed7953\"],[0.7777777777777778,\"#fb9f3a\"],[0.8888888888888888,\"#fdca26\"],[1.0,\"#f0f921\"]]}],\"surface\":[{\"type\":\"surface\",\"colorbar\":{\"outlinewidth\":0,\"ticks\":\"\"},\"colorscale\":[[0.0,\"#0d0887\"],[0.1111111111111111,\"#46039f\"],[0.2222222222222222,\"#7201a8\"],[0.3333333333333333,\"#9c179e\"],[0.4444444444444444,\"#bd3786\"],[0.5555555555555556,\"#d8576b\"],[0.6666666666666666,\"#ed7953\"],[0.7777777777777778,\"#fb9f3a\"],[0.8888888888888888,\"#fdca26\"],[1.0,\"#f0f921\"]]}],\"mesh3d\":[{\"type\":\"mesh3d\",\"colorbar\":{\"outlinewidth\":0,\"ticks\":\"\"}}],\"scatter\":[{\"fillpattern\":{\"fillmode\":\"overlay\",\"size\":10,\"solidity\":0.2},\"type\":\"scatter\"}],\"parcoords\":[{\"type\":\"parcoords\",\"line\":{\"colorbar\":{\"outlinewidth\":0,\"ticks\":\"\"}}}],\"scatterpolargl\":[{\"type\":\"scatterpolargl\",\"marker\":{\"colorbar\":{\"outlinewidth\":0,\"ticks\":\"\"}}}],\"bar\":[{\"error_x\":{\"color\":\"#2a3f5f\"},\"error_y\":{\"color\":\"#2a3f5f\"},\"marker\":{\"line\":{\"color\":\"#E5ECF6\",\"width\":0.5},\"pattern\":{\"fillmode\":\"overlay\",\"size\":10,\"solidity\":0.2}},\"type\":\"bar\"}],\"scattergeo\":[{\"type\":\"scattergeo\",\"marker\":{\"colorbar\":{\"outlinewidth\":0,\"ticks\":\"\"}}}],\"scatterpolar\":[{\"type\":\"scatterpolar\",\"marker\":{\"colorbar\":{\"outlinewidth\":0,\"ticks\":\"\"}}}],\"histogram\":[{\"marker\":{\"pattern\":{\"fillmode\":\"overlay\",\"size\":10,\"solidity\":0.2}},\"type\":\"histogram\"}],\"scattergl\":[{\"type\":\"scattergl\",\"marker\":{\"colorbar\":{\"outlinewidth\":0,\"ticks\":\"\"}}}],\"scatter3d\":[{\"type\":\"scatter3d\",\"line\":{\"colorbar\":{\"outlinewidth\":0,\"ticks\":\"\"}},\"marker\":{\"colorbar\":{\"outlinewidth\":0,\"ticks\":\"\"}}}],\"scattermapbox\":[{\"type\":\"scattermapbox\",\"marker\":{\"colorbar\":{\"outlinewidth\":0,\"ticks\":\"\"}}}],\"scatterternary\":[{\"type\":\"scatterternary\",\"marker\":{\"colorbar\":{\"outlinewidth\":0,\"ticks\":\"\"}}}],\"scattercarpet\":[{\"type\":\"scattercarpet\",\"marker\":{\"colorbar\":{\"outlinewidth\":0,\"ticks\":\"\"}}}],\"carpet\":[{\"aaxis\":{\"endlinecolor\":\"#2a3f5f\",\"gridcolor\":\"white\",\"linecolor\":\"white\",\"minorgridcolor\":\"white\",\"startlinecolor\":\"#2a3f5f\"},\"baxis\":{\"endlinecolor\":\"#2a3f5f\",\"gridcolor\":\"white\",\"linecolor\":\"white\",\"minorgridcolor\":\"white\",\"startlinecolor\":\"#2a3f5f\"},\"type\":\"carpet\"}],\"table\":[{\"cells\":{\"fill\":{\"color\":\"#EBF0F8\"},\"line\":{\"color\":\"white\"}},\"header\":{\"fill\":{\"color\":\"#C8D4E3\"},\"line\":{\"color\":\"white\"}},\"type\":\"table\"}],\"barpolar\":[{\"marker\":{\"line\":{\"color\":\"#E5ECF6\",\"width\":0.5},\"pattern\":{\"fillmode\":\"overlay\",\"size\":10,\"solidity\":0.2}},\"type\":\"barpolar\"}],\"pie\":[{\"automargin\":true,\"type\":\"pie\"}]},\"layout\":{\"autotypenumbers\":\"strict\",\"colorway\":[\"#636efa\",\"#EF553B\",\"#00cc96\",\"#ab63fa\",\"#FFA15A\",\"#19d3f3\",\"#FF6692\",\"#B6E880\",\"#FF97FF\",\"#FECB52\"],\"font\":{\"color\":\"#2a3f5f\"},\"hovermode\":\"closest\",\"hoverlabel\":{\"align\":\"left\"},\"paper_bgcolor\":\"white\",\"plot_bgcolor\":\"#E5ECF6\",\"polar\":{\"bgcolor\":\"#E5ECF6\",\"angularaxis\":{\"gridcolor\":\"white\",\"linecolor\":\"white\",\"ticks\":\"\"},\"radialaxis\":{\"gridcolor\":\"white\",\"linecolor\":\"white\",\"ticks\":\"\"}},\"ternary\":{\"bgcolor\":\"#E5ECF6\",\"aaxis\":{\"gridcolor\":\"white\",\"linecolor\":\"white\",\"ticks\":\"\"},\"baxis\":{\"gridcolor\":\"white\",\"linecolor\":\"white\",\"ticks\":\"\"},\"caxis\":{\"gridcolor\":\"white\",\"linecolor\":\"white\",\"ticks\":\"\"}},\"coloraxis\":{\"colorbar\":{\"outlinewidth\":0,\"ticks\":\"\"}},\"colorscale\":{\"sequential\":[[0.0,\"#0d0887\"],[0.1111111111111111,\"#46039f\"],[0.2222222222222222,\"#7201a8\"],[0.3333333333333333,\"#9c179e\"],[0.4444444444444444,\"#bd3786\"],[0.5555555555555556,\"#d8576b\"],[0.6666666666666666,\"#ed7953\"],[0.7777777777777778,\"#fb9f3a\"],[0.8888888888888888,\"#fdca26\"],[1.0,\"#f0f921\"]],\"sequentialminus\":[[0.0,\"#0d0887\"],[0.1111111111111111,\"#46039f\"],[0.2222222222222222,\"#7201a8\"],[0.3333333333333333,\"#9c179e\"],[0.4444444444444444,\"#bd3786\"],[0.5555555555555556,\"#d8576b\"],[0.6666666666666666,\"#ed7953\"],[0.7777777777777778,\"#fb9f3a\"],[0.8888888888888888,\"#fdca26\"],[1.0,\"#f0f921\"]],\"diverging\":[[0,\"#8e0152\"],[0.1,\"#c51b7d\"],[0.2,\"#de77ae\"],[0.3,\"#f1b6da\"],[0.4,\"#fde0ef\"],[0.5,\"#f7f7f7\"],[0.6,\"#e6f5d0\"],[0.7,\"#b8e186\"],[0.8,\"#7fbc41\"],[0.9,\"#4d9221\"],[1,\"#276419\"]]},\"xaxis\":{\"gridcolor\":\"white\",\"linecolor\":\"white\",\"ticks\":\"\",\"title\":{\"standoff\":15},\"zerolinecolor\":\"white\",\"automargin\":true,\"zerolinewidth\":2},\"yaxis\":{\"gridcolor\":\"white\",\"linecolor\":\"white\",\"ticks\":\"\",\"title\":{\"standoff\":15},\"zerolinecolor\":\"white\",\"automargin\":true,\"zerolinewidth\":2},\"scene\":{\"xaxis\":{\"backgroundcolor\":\"#E5ECF6\",\"gridcolor\":\"white\",\"linecolor\":\"white\",\"showbackground\":true,\"ticks\":\"\",\"zerolinecolor\":\"white\",\"gridwidth\":2},\"yaxis\":{\"backgroundcolor\":\"#E5ECF6\",\"gridcolor\":\"white\",\"linecolor\":\"white\",\"showbackground\":true,\"ticks\":\"\",\"zerolinecolor\":\"white\",\"gridwidth\":2},\"zaxis\":{\"backgroundcolor\":\"#E5ECF6\",\"gridcolor\":\"white\",\"linecolor\":\"white\",\"showbackground\":true,\"ticks\":\"\",\"zerolinecolor\":\"white\",\"gridwidth\":2}},\"shapedefaults\":{\"line\":{\"color\":\"#2a3f5f\"}},\"annotationdefaults\":{\"arrowcolor\":\"#2a3f5f\",\"arrowhead\":0,\"arrowwidth\":1},\"geo\":{\"bgcolor\":\"white\",\"landcolor\":\"#E5ECF6\",\"subunitcolor\":\"white\",\"showland\":true,\"showlakes\":true,\"lakecolor\":\"white\"},\"title\":{\"x\":0.05},\"mapbox\":{\"style\":\"light\"}}},\"xaxis\":{\"anchor\":\"y\",\"domain\":[0.0,1.0],\"title\":{\"text\":\"RMSD_Mean\"}},\"yaxis\":{\"anchor\":\"x\",\"domain\":[0.0,1.0],\"title\":{\"text\":\"Structure_Source\"}},\"legend\":{\"tracegroupgap\":0},\"margin\":{\"t\":60},\"barmode\":\"relative\",\"height\":800,\"width\":800},                        {\"responsive\": true}                    ).then(function(){\n",
       "                            \n",
       "var gd = document.getElementById('96c53033-c25c-4cce-a96e-c16ced14d671');\n",
       "var x = new MutationObserver(function (mutations, observer) {{\n",
       "        var display = window.getComputedStyle(gd).display;\n",
       "        if (!display || display === 'none') {{\n",
       "            console.log([gd, 'removed!']);\n",
       "            Plotly.purge(gd);\n",
       "            observer.disconnect();\n",
       "        }}\n",
       "}});\n",
       "\n",
       "// Listen for the removal of the full notebook cells\n",
       "var notebookContainer = gd.closest('#notebook-container');\n",
       "if (notebookContainer) {{\n",
       "    x.observe(notebookContainer, {childList: true});\n",
       "}}\n",
       "\n",
       "// Listen for the clearing of the current output cell\n",
       "var outputEl = gd.closest('.output');\n",
       "if (outputEl) {{\n",
       "    x.observe(outputEl, {childList: true});\n",
       "}}\n",
       "\n",
       "                        })                };                });            </script>        </div>"
      ]
     },
     "metadata": {},
     "output_type": "display_data"
    }
   ],
   "source": [
    "px.bar(\n",
    "        df.sort_values('RMSD_Good'),\n",
    "        x=\"RMSD_Mean\",\n",
    "        y='Structure_Source',\n",
    "        height=800,\n",
    "        width=800,\n",
    "    )"
   ]
  },
  {
   "cell_type": "code",
   "execution_count": 19,
   "id": "163ac8dd",
   "metadata": {},
   "outputs": [
    {
     "data": {
      "text/html": [
       "<div>\n",
       "<style scoped>\n",
       "    .dataframe tbody tr th:only-of-type {\n",
       "        vertical-align: middle;\n",
       "    }\n",
       "\n",
       "    .dataframe tbody tr th {\n",
       "        vertical-align: top;\n",
       "    }\n",
       "\n",
       "    .dataframe thead th {\n",
       "        text-align: right;\n",
       "    }\n",
       "</style>\n",
       "<table border=\"1\" class=\"dataframe\">\n",
       "  <thead>\n",
       "    <tr style=\"text-align: right;\">\n",
       "      <th></th>\n",
       "      <th>RMSD_Not_NA</th>\n",
       "      <th>RMSD_Good</th>\n",
       "      <th>RMSD_Mean</th>\n",
       "      <th>RMSD_Min</th>\n",
       "      <th>POSIT_R_Not_NA</th>\n",
       "      <th>POSIT_R_Good</th>\n",
       "      <th>POSIT_R_Mean</th>\n",
       "      <th>POSIT_R_Min</th>\n",
       "      <th>Chemgauss4_Not_NA</th>\n",
       "      <th>Chemgauss4_Good</th>\n",
       "      <th>Chemgauss4_Mean</th>\n",
       "      <th>Chemgauss4_Min</th>\n",
       "      <th>Structure_Source</th>\n",
       "      <th>Resolution</th>\n",
       "    </tr>\n",
       "  </thead>\n",
       "  <tbody>\n",
       "    <tr>\n",
       "      <th>2</th>\n",
       "      <td>789</td>\n",
       "      <td>579</td>\n",
       "      <td>2.359281e+04</td>\n",
       "      <td>0.259957</td>\n",
       "      <td>795</td>\n",
       "      <td>101</td>\n",
       "      <td>0.659472</td>\n",
       "      <td>0.09</td>\n",
       "      <td>795</td>\n",
       "      <td>612</td>\n",
       "      <td>-2.439679</td>\n",
       "      <td>-11.826693</td>\n",
       "      <td>4WME</td>\n",
       "      <td>1.55</td>\n",
       "    </tr>\n",
       "    <tr>\n",
       "      <th>10</th>\n",
       "      <td>244</td>\n",
       "      <td>153</td>\n",
       "      <td>7.628411e+04</td>\n",
       "      <td>0.839696</td>\n",
       "      <td>644</td>\n",
       "      <td>3</td>\n",
       "      <td>0.779037</td>\n",
       "      <td>0.15</td>\n",
       "      <td>644</td>\n",
       "      <td>49</td>\n",
       "      <td>13.538128</td>\n",
       "      <td>-3.785697</td>\n",
       "      <td>6VGY</td>\n",
       "      <td>2.05</td>\n",
       "    </tr>\n",
       "    <tr>\n",
       "      <th>13</th>\n",
       "      <td>296</td>\n",
       "      <td>174</td>\n",
       "      <td>1.329776e+05</td>\n",
       "      <td>0.984262</td>\n",
       "      <td>778</td>\n",
       "      <td>9</td>\n",
       "      <td>0.778252</td>\n",
       "      <td>0.15</td>\n",
       "      <td>778</td>\n",
       "      <td>38</td>\n",
       "      <td>13.349518</td>\n",
       "      <td>-4.232438</td>\n",
       "      <td>6VH1</td>\n",
       "      <td>2.30</td>\n",
       "    </tr>\n",
       "    <tr>\n",
       "      <th>14</th>\n",
       "      <td>306</td>\n",
       "      <td>189</td>\n",
       "      <td>4.227422e+05</td>\n",
       "      <td>0.822958</td>\n",
       "      <td>644</td>\n",
       "      <td>5</td>\n",
       "      <td>0.779984</td>\n",
       "      <td>0.11</td>\n",
       "      <td>644</td>\n",
       "      <td>46</td>\n",
       "      <td>12.774046</td>\n",
       "      <td>-4.531243</td>\n",
       "      <td>6VH2</td>\n",
       "      <td>2.26</td>\n",
       "    </tr>\n",
       "    <tr>\n",
       "      <th>16</th>\n",
       "      <td>635</td>\n",
       "      <td>504</td>\n",
       "      <td>3.081202e+06</td>\n",
       "      <td>0.401450</td>\n",
       "      <td>642</td>\n",
       "      <td>66</td>\n",
       "      <td>0.666028</td>\n",
       "      <td>0.09</td>\n",
       "      <td>642</td>\n",
       "      <td>618</td>\n",
       "      <td>-5.632601</td>\n",
       "      <td>-12.547724</td>\n",
       "      <td>7D3C</td>\n",
       "      <td>2.20</td>\n",
       "    </tr>\n",
       "    <tr>\n",
       "      <th>17</th>\n",
       "      <td>679</td>\n",
       "      <td>612</td>\n",
       "      <td>5.948929e+02</td>\n",
       "      <td>0.158411</td>\n",
       "      <td>794</td>\n",
       "      <td>319</td>\n",
       "      <td>0.487922</td>\n",
       "      <td>0.01</td>\n",
       "      <td>794</td>\n",
       "      <td>619</td>\n",
       "      <td>-2.774875</td>\n",
       "      <td>-11.786648</td>\n",
       "      <td>7DR8</td>\n",
       "      <td>2.34</td>\n",
       "    </tr>\n",
       "    <tr>\n",
       "      <th>18</th>\n",
       "      <td>695</td>\n",
       "      <td>620</td>\n",
       "      <td>1.212636e+06</td>\n",
       "      <td>0.576406</td>\n",
       "      <td>797</td>\n",
       "      <td>56</td>\n",
       "      <td>0.692572</td>\n",
       "      <td>0.15</td>\n",
       "      <td>797</td>\n",
       "      <td>617</td>\n",
       "      <td>-1.669258</td>\n",
       "      <td>-9.327986</td>\n",
       "      <td>7DR9</td>\n",
       "      <td>2.78</td>\n",
       "    </tr>\n",
       "    <tr>\n",
       "      <th>19</th>\n",
       "      <td>698</td>\n",
       "      <td>633</td>\n",
       "      <td>1.398597e+05</td>\n",
       "      <td>0.499596</td>\n",
       "      <td>797</td>\n",
       "      <td>89</td>\n",
       "      <td>0.664366</td>\n",
       "      <td>0.11</td>\n",
       "      <td>797</td>\n",
       "      <td>616</td>\n",
       "      <td>-2.043011</td>\n",
       "      <td>-10.708580</td>\n",
       "      <td>7DRA</td>\n",
       "      <td>2.78</td>\n",
       "    </tr>\n",
       "    <tr>\n",
       "      <th>24</th>\n",
       "      <td>282</td>\n",
       "      <td>183</td>\n",
       "      <td>1.204569e+05</td>\n",
       "      <td>0.952914</td>\n",
       "      <td>642</td>\n",
       "      <td>4</td>\n",
       "      <td>0.785156</td>\n",
       "      <td>0.18</td>\n",
       "      <td>642</td>\n",
       "      <td>33</td>\n",
       "      <td>13.347793</td>\n",
       "      <td>-4.422434</td>\n",
       "      <td>7TQ7</td>\n",
       "      <td>1.70</td>\n",
       "    </tr>\n",
       "  </tbody>\n",
       "</table>\n",
       "</div>"
      ],
      "text/plain": [
       "    RMSD_Not_NA  RMSD_Good     RMSD_Mean  RMSD_Min  POSIT_R_Not_NA  \\\n",
       "2           789        579  2.359281e+04  0.259957             795   \n",
       "10          244        153  7.628411e+04  0.839696             644   \n",
       "13          296        174  1.329776e+05  0.984262             778   \n",
       "14          306        189  4.227422e+05  0.822958             644   \n",
       "16          635        504  3.081202e+06  0.401450             642   \n",
       "17          679        612  5.948929e+02  0.158411             794   \n",
       "18          695        620  1.212636e+06  0.576406             797   \n",
       "19          698        633  1.398597e+05  0.499596             797   \n",
       "24          282        183  1.204569e+05  0.952914             642   \n",
       "\n",
       "    POSIT_R_Good  POSIT_R_Mean  POSIT_R_Min  Chemgauss4_Not_NA  \\\n",
       "2            101      0.659472         0.09                795   \n",
       "10             3      0.779037         0.15                644   \n",
       "13             9      0.778252         0.15                778   \n",
       "14             5      0.779984         0.11                644   \n",
       "16            66      0.666028         0.09                642   \n",
       "17           319      0.487922         0.01                794   \n",
       "18            56      0.692572         0.15                797   \n",
       "19            89      0.664366         0.11                797   \n",
       "24             4      0.785156         0.18                642   \n",
       "\n",
       "    Chemgauss4_Good  Chemgauss4_Mean  Chemgauss4_Min Structure_Source  \\\n",
       "2               612        -2.439679      -11.826693             4WME   \n",
       "10               49        13.538128       -3.785697             6VGY   \n",
       "13               38        13.349518       -4.232438             6VH1   \n",
       "14               46        12.774046       -4.531243             6VH2   \n",
       "16              618        -5.632601      -12.547724             7D3C   \n",
       "17              619        -2.774875      -11.786648             7DR8   \n",
       "18              617        -1.669258       -9.327986             7DR9   \n",
       "19              616        -2.043011      -10.708580             7DRA   \n",
       "24               33        13.347793       -4.422434             7TQ7   \n",
       "\n",
       "    Resolution  \n",
       "2         1.55  \n",
       "10        2.05  \n",
       "13        2.30  \n",
       "14        2.26  \n",
       "16        2.20  \n",
       "17        2.34  \n",
       "18        2.78  \n",
       "19        2.78  \n",
       "24        1.70  "
      ]
     },
     "execution_count": 19,
     "metadata": {},
     "output_type": "execute_result"
    }
   ],
   "source": [
    "df[df.RMSD_Mean > 10]"
   ]
  },
  {
   "cell_type": "code",
   "execution_count": 20,
   "id": "3d1ab57a",
   "metadata": {},
   "outputs": [],
   "source": [
    "alldf = pd.read_csv(\"/Volumes/Rohirrim/local_test/mers_hallucination_hybrid/posit_hybrid_no_relax/all_results_cleaned.csv\")"
   ]
  },
  {
   "cell_type": "code",
   "execution_count": 23,
   "id": "2449357e",
   "metadata": {},
   "outputs": [
    {
     "data": {
      "text/html": [
       "<div>\n",
       "<style scoped>\n",
       "    .dataframe tbody tr th:only-of-type {\n",
       "        vertical-align: middle;\n",
       "    }\n",
       "\n",
       "    .dataframe tbody tr th {\n",
       "        vertical-align: top;\n",
       "    }\n",
       "\n",
       "    .dataframe thead th {\n",
       "        text-align: right;\n",
       "    }\n",
       "</style>\n",
       "<table border=\"1\" class=\"dataframe\">\n",
       "  <thead>\n",
       "    <tr style=\"text-align: right;\">\n",
       "      <th></th>\n",
       "      <th>Compound_ID</th>\n",
       "      <th>Structure_Source</th>\n",
       "      <th>Docked_File</th>\n",
       "      <th>RMSD</th>\n",
       "      <th>POSIT</th>\n",
       "      <th>Chemgauss4</th>\n",
       "      <th>Clash</th>\n",
       "      <th>POSIT_R</th>\n",
       "      <th>Complex_ID</th>\n",
       "    </tr>\n",
       "  </thead>\n",
       "  <tbody>\n",
       "    <tr>\n",
       "      <th>9630</th>\n",
       "      <td>ERI-UCB-a0b0dbcb-8_0A</td>\n",
       "      <td>5C3N</td>\n",
       "      <td>/lila/data/chodera/kaminowb/stereochemistry_pr...</td>\n",
       "      <td>1.707202e+01</td>\n",
       "      <td>0.24</td>\n",
       "      <td>-7.915588</td>\n",
       "      <td>NaN</td>\n",
       "      <td>0.76</td>\n",
       "      <td>ERI-UCB-a0b0dbcb-8_0A_5C3N</td>\n",
       "    </tr>\n",
       "    <tr>\n",
       "      <th>9631</th>\n",
       "      <td>ERI-UCB-a0b0dbcb-8_0A</td>\n",
       "      <td>4WMD</td>\n",
       "      <td>/lila/data/chodera/kaminowb/stereochemistry_pr...</td>\n",
       "      <td>1.780613e+01</td>\n",
       "      <td>0.18</td>\n",
       "      <td>-10.417195</td>\n",
       "      <td>NaN</td>\n",
       "      <td>0.82</td>\n",
       "      <td>ERI-UCB-a0b0dbcb-8_0A_4WMD</td>\n",
       "    </tr>\n",
       "    <tr>\n",
       "      <th>9632</th>\n",
       "      <td>ERI-UCB-a0b0dbcb-8_0A</td>\n",
       "      <td>5WKK</td>\n",
       "      <td>/lila/data/chodera/kaminowb/stereochemistry_pr...</td>\n",
       "      <td>inf</td>\n",
       "      <td>0.24</td>\n",
       "      <td>14.601819</td>\n",
       "      <td>NaN</td>\n",
       "      <td>0.76</td>\n",
       "      <td>ERI-UCB-a0b0dbcb-8_0A_5WKK</td>\n",
       "    </tr>\n",
       "    <tr>\n",
       "      <th>9633</th>\n",
       "      <td>ERI-UCB-a0b0dbcb-8_0A</td>\n",
       "      <td>6VGZ</td>\n",
       "      <td>/lila/data/chodera/kaminowb/stereochemistry_pr...</td>\n",
       "      <td>1.762498e+01</td>\n",
       "      <td>0.05</td>\n",
       "      <td>15.415245</td>\n",
       "      <td>NaN</td>\n",
       "      <td>0.95</td>\n",
       "      <td>ERI-UCB-a0b0dbcb-8_0A_6VGZ</td>\n",
       "    </tr>\n",
       "    <tr>\n",
       "      <th>9635</th>\n",
       "      <td>ERI-UCB-a0b0dbcb-8_0A</td>\n",
       "      <td>6VH3</td>\n",
       "      <td>/lila/data/chodera/kaminowb/stereochemistry_pr...</td>\n",
       "      <td>1.768493e+01</td>\n",
       "      <td>0.24</td>\n",
       "      <td>15.343102</td>\n",
       "      <td>NaN</td>\n",
       "      <td>0.76</td>\n",
       "      <td>ERI-UCB-a0b0dbcb-8_0A_6VH3</td>\n",
       "    </tr>\n",
       "    <tr>\n",
       "      <th>9636</th>\n",
       "      <td>ERI-UCB-a0b0dbcb-8_0A</td>\n",
       "      <td>7DR8</td>\n",
       "      <td>/lila/data/chodera/kaminowb/stereochemistry_pr...</td>\n",
       "      <td>4.029300e+05</td>\n",
       "      <td>0.24</td>\n",
       "      <td>-9.595913</td>\n",
       "      <td>NaN</td>\n",
       "      <td>0.76</td>\n",
       "      <td>ERI-UCB-a0b0dbcb-8_0A_7DR8</td>\n",
       "    </tr>\n",
       "    <tr>\n",
       "      <th>9637</th>\n",
       "      <td>ERI-UCB-a0b0dbcb-8_0A</td>\n",
       "      <td>4WMF</td>\n",
       "      <td>/lila/data/chodera/kaminowb/stereochemistry_pr...</td>\n",
       "      <td>1.767623e+01</td>\n",
       "      <td>0.24</td>\n",
       "      <td>-2.109760</td>\n",
       "      <td>NaN</td>\n",
       "      <td>0.76</td>\n",
       "      <td>ERI-UCB-a0b0dbcb-8_0A_4WMF</td>\n",
       "    </tr>\n",
       "    <tr>\n",
       "      <th>9638</th>\n",
       "      <td>ERI-UCB-a0b0dbcb-8_0A</td>\n",
       "      <td>5WKJ</td>\n",
       "      <td>/lila/data/chodera/kaminowb/stereochemistry_pr...</td>\n",
       "      <td>inf</td>\n",
       "      <td>0.05</td>\n",
       "      <td>15.495279</td>\n",
       "      <td>NaN</td>\n",
       "      <td>0.95</td>\n",
       "      <td>ERI-UCB-a0b0dbcb-8_0A_5WKJ</td>\n",
       "    </tr>\n",
       "    <tr>\n",
       "      <th>9640</th>\n",
       "      <td>ERI-UCB-a0b0dbcb-8_0A</td>\n",
       "      <td>4WME</td>\n",
       "      <td>/lila/data/chodera/kaminowb/stereochemistry_pr...</td>\n",
       "      <td>1.861265e+07</td>\n",
       "      <td>0.24</td>\n",
       "      <td>-5.046726</td>\n",
       "      <td>NaN</td>\n",
       "      <td>0.76</td>\n",
       "      <td>ERI-UCB-a0b0dbcb-8_0A_4WME</td>\n",
       "    </tr>\n",
       "    <tr>\n",
       "      <th>9641</th>\n",
       "      <td>ERI-UCB-a0b0dbcb-8_0A</td>\n",
       "      <td>6VGY</td>\n",
       "      <td>/lila/data/chodera/kaminowb/stereochemistry_pr...</td>\n",
       "      <td>1.861265e+07</td>\n",
       "      <td>0.05</td>\n",
       "      <td>15.429607</td>\n",
       "      <td>NaN</td>\n",
       "      <td>0.95</td>\n",
       "      <td>ERI-UCB-a0b0dbcb-8_0A_6VGY</td>\n",
       "    </tr>\n",
       "    <tr>\n",
       "      <th>9642</th>\n",
       "      <td>ERI-UCB-a0b0dbcb-8_0A</td>\n",
       "      <td>8CZU</td>\n",
       "      <td>/lila/data/chodera/kaminowb/stereochemistry_pr...</td>\n",
       "      <td>1.758104e+01</td>\n",
       "      <td>0.05</td>\n",
       "      <td>15.051839</td>\n",
       "      <td>NaN</td>\n",
       "      <td>0.95</td>\n",
       "      <td>ERI-UCB-a0b0dbcb-8_0A_8CZU</td>\n",
       "    </tr>\n",
       "    <tr>\n",
       "      <th>9643</th>\n",
       "      <td>ERI-UCB-a0b0dbcb-8_0A</td>\n",
       "      <td>7TQ7</td>\n",
       "      <td>/lila/data/chodera/kaminowb/stereochemistry_pr...</td>\n",
       "      <td>3.396809e+07</td>\n",
       "      <td>0.24</td>\n",
       "      <td>15.710644</td>\n",
       "      <td>NaN</td>\n",
       "      <td>0.76</td>\n",
       "      <td>ERI-UCB-a0b0dbcb-8_0A_7TQ7</td>\n",
       "    </tr>\n",
       "    <tr>\n",
       "      <th>9645</th>\n",
       "      <td>ERI-UCB-a0b0dbcb-8_0A</td>\n",
       "      <td>5WKL</td>\n",
       "      <td>/lila/data/chodera/kaminowb/stereochemistry_pr...</td>\n",
       "      <td>1.778194e+01</td>\n",
       "      <td>0.05</td>\n",
       "      <td>15.196744</td>\n",
       "      <td>NaN</td>\n",
       "      <td>0.95</td>\n",
       "      <td>ERI-UCB-a0b0dbcb-8_0A_5WKL</td>\n",
       "    </tr>\n",
       "    <tr>\n",
       "      <th>9647</th>\n",
       "      <td>ERI-UCB-a0b0dbcb-8_0A</td>\n",
       "      <td>7T41</td>\n",
       "      <td>/lila/data/chodera/kaminowb/stereochemistry_pr...</td>\n",
       "      <td>1.763137e+01</td>\n",
       "      <td>0.24</td>\n",
       "      <td>15.334509</td>\n",
       "      <td>NaN</td>\n",
       "      <td>0.76</td>\n",
       "      <td>ERI-UCB-a0b0dbcb-8_0A_7T41</td>\n",
       "    </tr>\n",
       "    <tr>\n",
       "      <th>9648</th>\n",
       "      <td>ERI-UCB-a0b0dbcb-8_0A</td>\n",
       "      <td>7DRA</td>\n",
       "      <td>/lila/data/chodera/kaminowb/stereochemistry_pr...</td>\n",
       "      <td>9.762089e+07</td>\n",
       "      <td>0.18</td>\n",
       "      <td>-9.478354</td>\n",
       "      <td>NaN</td>\n",
       "      <td>0.82</td>\n",
       "      <td>ERI-UCB-a0b0dbcb-8_0A_7DRA</td>\n",
       "    </tr>\n",
       "    <tr>\n",
       "      <th>9649</th>\n",
       "      <td>ERI-UCB-a0b0dbcb-8_0A</td>\n",
       "      <td>8DGY</td>\n",
       "      <td>/lila/data/chodera/kaminowb/stereochemistry_pr...</td>\n",
       "      <td>inf</td>\n",
       "      <td>0.24</td>\n",
       "      <td>14.837072</td>\n",
       "      <td>NaN</td>\n",
       "      <td>0.76</td>\n",
       "      <td>ERI-UCB-a0b0dbcb-8_0A_8DGY</td>\n",
       "    </tr>\n",
       "    <tr>\n",
       "      <th>9650</th>\n",
       "      <td>ERI-UCB-a0b0dbcb-8_0A</td>\n",
       "      <td>7T3Y</td>\n",
       "      <td>/lila/data/chodera/kaminowb/stereochemistry_pr...</td>\n",
       "      <td>1.764320e+01</td>\n",
       "      <td>0.24</td>\n",
       "      <td>15.350528</td>\n",
       "      <td>NaN</td>\n",
       "      <td>0.76</td>\n",
       "      <td>ERI-UCB-a0b0dbcb-8_0A_7T3Y</td>\n",
       "    </tr>\n",
       "    <tr>\n",
       "      <th>9651</th>\n",
       "      <td>ERI-UCB-a0b0dbcb-8_0A</td>\n",
       "      <td>5WKM</td>\n",
       "      <td>/lila/data/chodera/kaminowb/stereochemistry_pr...</td>\n",
       "      <td>1.757479e+01</td>\n",
       "      <td>0.24</td>\n",
       "      <td>7.128349</td>\n",
       "      <td>NaN</td>\n",
       "      <td>0.76</td>\n",
       "      <td>ERI-UCB-a0b0dbcb-8_0A_5WKM</td>\n",
       "    </tr>\n",
       "    <tr>\n",
       "      <th>9652</th>\n",
       "      <td>ERI-UCB-a0b0dbcb-8_0A</td>\n",
       "      <td>6VH2</td>\n",
       "      <td>/lila/data/chodera/kaminowb/stereochemistry_pr...</td>\n",
       "      <td>1.293583e+08</td>\n",
       "      <td>0.24</td>\n",
       "      <td>11.610850</td>\n",
       "      <td>NaN</td>\n",
       "      <td>0.76</td>\n",
       "      <td>ERI-UCB-a0b0dbcb-8_0A_6VH2</td>\n",
       "    </tr>\n",
       "    <tr>\n",
       "      <th>9655</th>\n",
       "      <td>ERI-UCB-a0b0dbcb-8_0A</td>\n",
       "      <td>4RSP</td>\n",
       "      <td>/lila/data/chodera/kaminowb/stereochemistry_pr...</td>\n",
       "      <td>1.764837e+01</td>\n",
       "      <td>0.24</td>\n",
       "      <td>16.687649</td>\n",
       "      <td>NaN</td>\n",
       "      <td>0.76</td>\n",
       "      <td>ERI-UCB-a0b0dbcb-8_0A_4RSP</td>\n",
       "    </tr>\n",
       "    <tr>\n",
       "      <th>9656</th>\n",
       "      <td>ERI-UCB-a0b0dbcb-8_0A</td>\n",
       "      <td>7DR9</td>\n",
       "      <td>/lila/data/chodera/kaminowb/stereochemistry_pr...</td>\n",
       "      <td>8.427809e+08</td>\n",
       "      <td>0.18</td>\n",
       "      <td>-7.363606</td>\n",
       "      <td>NaN</td>\n",
       "      <td>0.82</td>\n",
       "      <td>ERI-UCB-a0b0dbcb-8_0A_7DR9</td>\n",
       "    </tr>\n",
       "    <tr>\n",
       "      <th>9658</th>\n",
       "      <td>ERI-UCB-a0b0dbcb-8_0A</td>\n",
       "      <td>7D3C</td>\n",
       "      <td>/lila/data/chodera/kaminowb/stereochemistry_pr...</td>\n",
       "      <td>1.956562e+09</td>\n",
       "      <td>0.18</td>\n",
       "      <td>-6.991251</td>\n",
       "      <td>NaN</td>\n",
       "      <td>0.82</td>\n",
       "      <td>ERI-UCB-a0b0dbcb-8_0A_7D3C</td>\n",
       "    </tr>\n",
       "    <tr>\n",
       "      <th>9659</th>\n",
       "      <td>ERI-UCB-a0b0dbcb-8_0A</td>\n",
       "      <td>6VH1</td>\n",
       "      <td>/lila/data/chodera/kaminowb/stereochemistry_pr...</td>\n",
       "      <td>3.936051e+07</td>\n",
       "      <td>0.05</td>\n",
       "      <td>13.855348</td>\n",
       "      <td>NaN</td>\n",
       "      <td>0.95</td>\n",
       "      <td>ERI-UCB-a0b0dbcb-8_0A_6VH1</td>\n",
       "    </tr>\n",
       "  </tbody>\n",
       "</table>\n",
       "</div>"
      ],
      "text/plain": [
       "                Compound_ID Structure_Source  \\\n",
       "9630  ERI-UCB-a0b0dbcb-8_0A             5C3N   \n",
       "9631  ERI-UCB-a0b0dbcb-8_0A             4WMD   \n",
       "9632  ERI-UCB-a0b0dbcb-8_0A             5WKK   \n",
       "9633  ERI-UCB-a0b0dbcb-8_0A             6VGZ   \n",
       "9635  ERI-UCB-a0b0dbcb-8_0A             6VH3   \n",
       "9636  ERI-UCB-a0b0dbcb-8_0A             7DR8   \n",
       "9637  ERI-UCB-a0b0dbcb-8_0A             4WMF   \n",
       "9638  ERI-UCB-a0b0dbcb-8_0A             5WKJ   \n",
       "9640  ERI-UCB-a0b0dbcb-8_0A             4WME   \n",
       "9641  ERI-UCB-a0b0dbcb-8_0A             6VGY   \n",
       "9642  ERI-UCB-a0b0dbcb-8_0A             8CZU   \n",
       "9643  ERI-UCB-a0b0dbcb-8_0A             7TQ7   \n",
       "9645  ERI-UCB-a0b0dbcb-8_0A             5WKL   \n",
       "9647  ERI-UCB-a0b0dbcb-8_0A             7T41   \n",
       "9648  ERI-UCB-a0b0dbcb-8_0A             7DRA   \n",
       "9649  ERI-UCB-a0b0dbcb-8_0A             8DGY   \n",
       "9650  ERI-UCB-a0b0dbcb-8_0A             7T3Y   \n",
       "9651  ERI-UCB-a0b0dbcb-8_0A             5WKM   \n",
       "9652  ERI-UCB-a0b0dbcb-8_0A             6VH2   \n",
       "9655  ERI-UCB-a0b0dbcb-8_0A             4RSP   \n",
       "9656  ERI-UCB-a0b0dbcb-8_0A             7DR9   \n",
       "9658  ERI-UCB-a0b0dbcb-8_0A             7D3C   \n",
       "9659  ERI-UCB-a0b0dbcb-8_0A             6VH1   \n",
       "\n",
       "                                            Docked_File          RMSD  POSIT  \\\n",
       "9630  /lila/data/chodera/kaminowb/stereochemistry_pr...  1.707202e+01   0.24   \n",
       "9631  /lila/data/chodera/kaminowb/stereochemistry_pr...  1.780613e+01   0.18   \n",
       "9632  /lila/data/chodera/kaminowb/stereochemistry_pr...           inf   0.24   \n",
       "9633  /lila/data/chodera/kaminowb/stereochemistry_pr...  1.762498e+01   0.05   \n",
       "9635  /lila/data/chodera/kaminowb/stereochemistry_pr...  1.768493e+01   0.24   \n",
       "9636  /lila/data/chodera/kaminowb/stereochemistry_pr...  4.029300e+05   0.24   \n",
       "9637  /lila/data/chodera/kaminowb/stereochemistry_pr...  1.767623e+01   0.24   \n",
       "9638  /lila/data/chodera/kaminowb/stereochemistry_pr...           inf   0.05   \n",
       "9640  /lila/data/chodera/kaminowb/stereochemistry_pr...  1.861265e+07   0.24   \n",
       "9641  /lila/data/chodera/kaminowb/stereochemistry_pr...  1.861265e+07   0.05   \n",
       "9642  /lila/data/chodera/kaminowb/stereochemistry_pr...  1.758104e+01   0.05   \n",
       "9643  /lila/data/chodera/kaminowb/stereochemistry_pr...  3.396809e+07   0.24   \n",
       "9645  /lila/data/chodera/kaminowb/stereochemistry_pr...  1.778194e+01   0.05   \n",
       "9647  /lila/data/chodera/kaminowb/stereochemistry_pr...  1.763137e+01   0.24   \n",
       "9648  /lila/data/chodera/kaminowb/stereochemistry_pr...  9.762089e+07   0.18   \n",
       "9649  /lila/data/chodera/kaminowb/stereochemistry_pr...           inf   0.24   \n",
       "9650  /lila/data/chodera/kaminowb/stereochemistry_pr...  1.764320e+01   0.24   \n",
       "9651  /lila/data/chodera/kaminowb/stereochemistry_pr...  1.757479e+01   0.24   \n",
       "9652  /lila/data/chodera/kaminowb/stereochemistry_pr...  1.293583e+08   0.24   \n",
       "9655  /lila/data/chodera/kaminowb/stereochemistry_pr...  1.764837e+01   0.24   \n",
       "9656  /lila/data/chodera/kaminowb/stereochemistry_pr...  8.427809e+08   0.18   \n",
       "9658  /lila/data/chodera/kaminowb/stereochemistry_pr...  1.956562e+09   0.18   \n",
       "9659  /lila/data/chodera/kaminowb/stereochemistry_pr...  3.936051e+07   0.05   \n",
       "\n",
       "      Chemgauss4  Clash  POSIT_R                  Complex_ID  \n",
       "9630   -7.915588    NaN     0.76  ERI-UCB-a0b0dbcb-8_0A_5C3N  \n",
       "9631  -10.417195    NaN     0.82  ERI-UCB-a0b0dbcb-8_0A_4WMD  \n",
       "9632   14.601819    NaN     0.76  ERI-UCB-a0b0dbcb-8_0A_5WKK  \n",
       "9633   15.415245    NaN     0.95  ERI-UCB-a0b0dbcb-8_0A_6VGZ  \n",
       "9635   15.343102    NaN     0.76  ERI-UCB-a0b0dbcb-8_0A_6VH3  \n",
       "9636   -9.595913    NaN     0.76  ERI-UCB-a0b0dbcb-8_0A_7DR8  \n",
       "9637   -2.109760    NaN     0.76  ERI-UCB-a0b0dbcb-8_0A_4WMF  \n",
       "9638   15.495279    NaN     0.95  ERI-UCB-a0b0dbcb-8_0A_5WKJ  \n",
       "9640   -5.046726    NaN     0.76  ERI-UCB-a0b0dbcb-8_0A_4WME  \n",
       "9641   15.429607    NaN     0.95  ERI-UCB-a0b0dbcb-8_0A_6VGY  \n",
       "9642   15.051839    NaN     0.95  ERI-UCB-a0b0dbcb-8_0A_8CZU  \n",
       "9643   15.710644    NaN     0.76  ERI-UCB-a0b0dbcb-8_0A_7TQ7  \n",
       "9645   15.196744    NaN     0.95  ERI-UCB-a0b0dbcb-8_0A_5WKL  \n",
       "9647   15.334509    NaN     0.76  ERI-UCB-a0b0dbcb-8_0A_7T41  \n",
       "9648   -9.478354    NaN     0.82  ERI-UCB-a0b0dbcb-8_0A_7DRA  \n",
       "9649   14.837072    NaN     0.76  ERI-UCB-a0b0dbcb-8_0A_8DGY  \n",
       "9650   15.350528    NaN     0.76  ERI-UCB-a0b0dbcb-8_0A_7T3Y  \n",
       "9651    7.128349    NaN     0.76  ERI-UCB-a0b0dbcb-8_0A_5WKM  \n",
       "9652   11.610850    NaN     0.76  ERI-UCB-a0b0dbcb-8_0A_6VH2  \n",
       "9655   16.687649    NaN     0.76  ERI-UCB-a0b0dbcb-8_0A_4RSP  \n",
       "9656   -7.363606    NaN     0.82  ERI-UCB-a0b0dbcb-8_0A_7DR9  \n",
       "9658   -6.991251    NaN     0.82  ERI-UCB-a0b0dbcb-8_0A_7D3C  \n",
       "9659   13.855348    NaN     0.95  ERI-UCB-a0b0dbcb-8_0A_6VH1  "
      ]
     },
     "execution_count": 23,
     "metadata": {},
     "output_type": "execute_result"
    }
   ],
   "source": [
    "alldf[alldf.RMSD > 10]"
   ]
  }
 ],
 "metadata": {
  "kernelspec": {
   "display_name": "Python 3 (ipykernel)",
   "language": "python",
   "name": "python3"
  },
  "language_info": {
   "codemirror_mode": {
    "name": "ipython",
    "version": 3
   },
   "file_extension": ".py",
   "mimetype": "text/x-python",
   "name": "python",
   "nbconvert_exporter": "python",
   "pygments_lexer": "ipython3",
   "version": "3.8.13"
  },
  "toc": {
   "base_numbering": 1,
   "nav_menu": {},
   "number_sections": true,
   "sideBar": true,
   "skip_h1_title": false,
   "title_cell": "Table of Contents",
   "title_sidebar": "Contents",
   "toc_cell": false,
   "toc_position": {},
   "toc_section_display": true,
   "toc_window_display": false
  }
 },
 "nbformat": 4,
 "nbformat_minor": 5
}
