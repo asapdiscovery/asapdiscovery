{
 "cells": [
  {
   "cell_type": "markdown",
   "id": "a5352196",
   "metadata": {},
   "source": [
    "# imports"
   ]
  },
  {
   "cell_type": "code",
   "execution_count": null,
   "id": "ba8b0c26",
   "metadata": {},
   "outputs": [],
   "source": [
    "import pandas as pd, numpy as np, plotly.express as px"
   ]
  },
  {
   "cell_type": "code",
   "execution_count": null,
   "id": "c8f22957",
   "metadata": {},
   "outputs": [],
   "source": [
    "df = pd.read_csv(\"/Volumes/Rohirrim/local_test/mers_hallucination_hybrid/posit_hybrid_no_relax/by_structure.csv\")"
   ]
  },
  {
   "cell_type": "code",
   "execution_count": null,
   "id": "5177391e",
   "metadata": {},
   "outputs": [],
   "source": [
    "df"
   ]
  },
  {
   "cell_type": "code",
   "execution_count": null,
   "id": "04be02c9",
   "metadata": {},
   "outputs": [],
   "source": [
    "tidy_df = df.melt(id_vars='Structure_Source')"
   ]
  },
  {
   "cell_type": "code",
   "execution_count": null,
   "id": "e2f16c6c",
   "metadata": {},
   "outputs": [],
   "source": [
    "tidy_df"
   ]
  },
  {
   "cell_type": "code",
   "execution_count": null,
   "id": "f17066d5",
   "metadata": {},
   "outputs": [],
   "source": [
    "px.bar(\n",
    "        df.sort_values('RMSD_Good'),\n",
    "        x=\"RMSD_Mean\",\n",
    "        y='Structure_Source',\n",
    "        height=800,\n",
    "        width=800,\n",
    "    )"
   ]
  },
  {
   "cell_type": "code",
   "execution_count": null,
   "id": "ba2ec5c2",
   "metadata": {},
   "outputs": [],
   "source": [
    "df[df.RMSD_Mean > 10]"
   ]
  },
  {
   "cell_type": "code",
   "execution_count": null,
   "id": "75d493ec",
   "metadata": {},
   "outputs": [],
   "source": [
    "alldf = pd.read_csv(\"/Volumes/Rohirrim/local_test/mers_hallucination_hybrid/posit_hybrid_no_relax/all_results_cleaned.csv\")"
   ]
  },
  {
   "cell_type": "code",
   "execution_count": null,
   "id": "fb64f725",
   "metadata": {},
   "outputs": [],
   "source": [
    "alldf[alldf.RMSD > 10]"
   ]
  },
  {
   "cell_type": "code",
   "execution_count": null,
   "id": "5f032072",
   "metadata": {},
   "outputs": [],
   "source": []
  },
  {
   "cell_type": "code",
   "execution_count": null,
   "id": "9b1795d0",
   "metadata": {},
   "outputs": [],
   "source": [
    "by_compound = pd.read_csv(\"/Volumes/Rohirrim/local_test/mers_hallucination_hybrid/posit_hybrid_no_relax/by_compound.csv\")"
   ]
  },
  {
   "cell_type": "code",
   "execution_count": null,
   "id": "93031ca4",
   "metadata": {},
   "outputs": [],
   "source": [
    "by_compound"
   ]
  },
  {
   "cell_type": "code",
   "execution_count": null,
   "id": "c6dfb99f",
   "metadata": {},
   "outputs": [],
   "source": []
  }
 ],
 "metadata": {
  "kernelspec": {
   "display_name": "Python 3 (ipykernel)",
   "language": "python",
   "name": "python3"
  },
  "language_info": {
   "codemirror_mode": {
    "name": "ipython",
    "version": 3
   },
   "file_extension": ".py",
   "mimetype": "text/x-python",
   "name": "python",
   "nbconvert_exporter": "python",
   "pygments_lexer": "ipython3",
   "version": "3.8.13"
  },
  "toc": {
   "base_numbering": 1,
   "nav_menu": {},
   "number_sections": true,
   "sideBar": true,
   "skip_h1_title": false,
   "title_cell": "Table of Contents",
   "title_sidebar": "Contents",
   "toc_cell": false,
   "toc_position": {},
   "toc_section_display": true,
   "toc_window_display": false
  }
 },
 "nbformat": 4,
 "nbformat_minor": 5
}
