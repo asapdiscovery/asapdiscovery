{
 "cells": [
  {
   "cell_type": "markdown",
   "metadata": {
    "collapsed": true
   },
   "source": [
    "# Imports"
   ]
  },
  {
   "cell_type": "code",
   "execution_count": null,
   "metadata": {},
   "outputs": [],
   "source": [
    "from pathlib import Path\n",
    "from openeye import oechem, oespruce\n",
    "from asapdiscovery.data.openeye import load_openeye_pdb, save_openeye_design_unit, save_openeye_pdb, save_openeye_sdf\n",
    "from asapdiscovery.docking.modeling import remove_extra_ligands, prep_receptor"
   ]
  },
  {
   "cell_type": "code",
   "execution_count": null,
   "metadata": {},
   "outputs": [],
   "source": [
    "oechem.OEChemIsLicensed()"
   ]
  },
  {
   "cell_type": "code",
   "execution_count": null,
   "metadata": {},
   "outputs": [],
   "source": [
    "pdb_path = Path(\"../asapdiscovery/data/tests/pdb_download/8dgy.pdb1\")"
   ]
  },
  {
   "cell_type": "code",
   "execution_count": null,
   "metadata": {},
   "outputs": [],
   "source": [
    "pdb = openeye.load_openeye_pdb(str(pdb_path))"
   ]
  },
  {
   "cell_type": "code",
   "execution_count": null,
   "metadata": {},
   "outputs": [],
   "source": [
    "prot = remove_extra_ligands(pdb, lig_chain=\"A\")"
   ]
  },
  {
   "cell_type": "code",
   "execution_count": null,
   "metadata": {},
   "outputs": [],
   "source": [
    "design_units = prep_receptor(prot)"
   ]
  },
  {
   "cell_type": "code",
   "execution_count": null,
   "metadata": {},
   "outputs": [],
   "source": [
    "len(design_units)"
   ]
  },
  {
   "cell_type": "code",
   "execution_count": null,
   "metadata": {},
   "outputs": [],
   "source": [
    "lig, protein, prot_complex = save_openeye_design_unit(design_units[0])"
   ]
  },
  {
   "cell_type": "code",
   "execution_count": null,
   "metadata": {},
   "outputs": [],
   "source": [
    "save_openeye_pdb(protein, str(pdb_path.parent / \"8dgy_prepped.pdb\")"
   ]
  },
  {
   "cell_type": "code",
   "execution_count": null,
   "metadata": {},
   "outputs": [],
   "source": [
    "save_openeye_sdf(lig, str(pdb_path.parent / \"8dgy_ligand.sdf\"))"
   ]
  },
  {
   "cell_type": "code",
   "execution_count": null,
   "metadata": {},
   "outputs": [],
   "source": [
    "save_openeye_pdb(prot_complex, str(pdb_path.parent / \"8dgy_complex.pdb\"))"
   ]
  },
  {
   "cell_type": "code",
   "execution_count": null,
   "metadata": {},
   "outputs": [],
   "source": [
    "oespruce.OEExtractBioUnits(prot)"
   ]
  },
  {
   "cell_type": "code",
   "execution_count": null,
   "metadata": {},
   "outputs": [],
   "source": [
    "pdb_path = Path(\"../asapdiscovery/data/tests/pdb_download/8dgy.pdb1\")\n",
    "pdb = openeye.load_openeye_pdb(str(pdb_path))\n",
    "biounit = oechem.OEGraphMol(list(oespruce.OEExtractBioUnits(pdb))[0])"
   ]
  },
  {
   "cell_type": "code",
   "execution_count": null,
   "metadata": {},
   "outputs": [],
   "source": [
    "from asapdiscovery.docking.modeling import build_dimer_from_monomer"
   ]
  },
  {
   "cell_type": "code",
   "execution_count": null,
   "metadata": {},
   "outputs": [],
   "source": [
    "build_dimer_from_monomer(pdb)"
   ]
  },
  {
   "cell_type": "code",
   "execution_count": null,
   "metadata": {},
   "outputs": [],
   "source": [
    "pdb_path = Path(\"../asapdiscovery/data/tests/pdb_download/rcsb_8DGY.cif\")\n",
    "pdb = openeye.load_openeye_pdb(str(pdb_path))"
   ]
  },
  {
   "cell_type": "code",
   "execution_count": null,
   "metadata": {},
   "outputs": [],
   "source": [
    "design_units = prep_receptor(pdb)"
   ]
  },
  {
   "cell_type": "code",
   "execution_count": null,
   "metadata": {},
   "outputs": [],
   "source": [
    "for i in range(len(design_units)):\n",
    "    lig, protein, prot_complex = save_openeye_design_unit(design_units[i])\n",
    "    save_openeye_pdb(protein, str(pdb_path.parent / f\"8dgy_prepped_{i}.pdb\"))\n",
    "    save_openeye_sdf(lig, str(pdb_path.parent / f\"8dgy_ligand_{i}.sdf\"))\n",
    "    save_openeye_pdb(prot_complex, str(pdb_path.parent / f\"8dgy_complex_{i}.pdb\"))"
   ]
  },
  {
   "cell_type": "code",
   "execution_count": null,
   "metadata": {},
   "outputs": [],
   "source": []
  }
 ],
 "metadata": {
  "kernelspec": {
   "display_name": "Python 3 (ipykernel)",
   "language": "python",
   "name": "python3"
  },
  "language_info": {
   "codemirror_mode": {
    "name": "ipython",
    "version": 3
   },
   "file_extension": ".py",
   "mimetype": "text/x-python",
   "name": "python",
   "nbconvert_exporter": "python",
   "pygments_lexer": "ipython3",
   "version": "3.8.13"
  },
  "toc": {
   "base_numbering": 1,
   "nav_menu": {},
   "number_sections": true,
   "sideBar": true,
   "skip_h1_title": false,
   "title_cell": "Table of Contents",
   "title_sidebar": "Contents",
   "toc_cell": false,
   "toc_position": {},
   "toc_section_display": true,
   "toc_window_display": false
  }
 },
 "nbformat": 4,
 "nbformat_minor": 1
}
