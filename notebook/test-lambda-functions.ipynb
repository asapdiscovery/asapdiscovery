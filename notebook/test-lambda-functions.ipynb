{
 "cells": [
  {
   "cell_type": "code",
   "execution_count": null,
   "id": "4117007d",
   "metadata": {},
   "outputs": [],
   "source": [
    "def get_good_score(feature):\n",
    "    if feature == \"RMSD\":\n",
    "        lambda_func = lambda x: x[(x <= 2)]\n",
    "    return lambda_func"
   ]
  },
  {
   "cell_type": "code",
   "execution_count": null,
   "id": "cd4ae701",
   "metadata": {},
   "outputs": [],
   "source": [
    "lambda_func = get_good_score(\"RMSD\")"
   ]
  },
  {
   "cell_type": "code",
   "execution_count": null,
   "id": "2bbcc859",
   "metadata": {},
   "outputs": [],
   "source": [
    "lambda_func(0)"
   ]
  },
  {
   "cell_type": "code",
   "execution_count": null,
   "id": "be770413",
   "metadata": {},
   "outputs": [],
   "source": []
  }
 ],
 "metadata": {
  "kernelspec": {
   "display_name": "Python 3 (ipykernel)",
   "language": "python",
   "name": "python3"
  },
  "language_info": {
   "codemirror_mode": {
    "name": "ipython",
    "version": 3
   },
   "file_extension": ".py",
   "mimetype": "text/x-python",
   "name": "python",
   "nbconvert_exporter": "python",
   "pygments_lexer": "ipython3",
   "version": "3.8.13"
  },
  "toc": {
   "base_numbering": 1,
   "nav_menu": {},
   "number_sections": true,
   "sideBar": true,
   "skip_h1_title": false,
   "title_cell": "Table of Contents",
   "title_sidebar": "Contents",
   "toc_cell": false,
   "toc_position": {},
   "toc_section_display": true,
   "toc_window_display": false
  }
 },
 "nbformat": 4,
 "nbformat_minor": 5
}
