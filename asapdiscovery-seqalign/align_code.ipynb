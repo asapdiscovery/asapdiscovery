{
 "cells": [
  {
   "cell_type": "markdown",
   "metadata": {},
   "source": [
    "# Code for protein sequence alignment\n",
    "Returns a PNG showing similarities between the sequences"
   ]
  },
  {
   "cell_type": "code",
   "execution_count": 46,
   "metadata": {},
   "outputs": [],
   "source": [
    "import numpy as np\n",
    "\n",
    "from Bio.Seq import Seq\n",
    "from Bio.Align import MultipleSeqAlignment\n",
    "from Bio import AlignIO, SeqIO\n",
    "from Bio.SeqRecord import SeqRecord\n",
    "import os\n",
    "import subprocess"
   ]
  },
  {
   "cell_type": "code",
   "execution_count": 2,
   "metadata": {},
   "outputs": [],
   "source": [
    "# Defining colors for each protein residue\n",
    "def get_colors_protein(seqs):\n",
    "    \"\"\"Make colors for bases in sequence\n",
    "\n",
    "    Args:\n",
    "        seqs (list, str): List or string with protein sequence\n",
    "\n",
    "    Returns:\n",
    "        list: List with colors\n",
    "    \"\"\"\n",
    "    text = [i for s in list(seqs) for i in s]\n",
    "    aa_colors = {\n",
    "    'A': 'red',    # Alanine\n",
    "    'R': 'blue',   # Arginine\n",
    "    'N': 'green',  # Asparagine\n",
    "    'D': 'yellow', # Aspartic acid\n",
    "    'C': 'orange', # Cysteine\n",
    "    'Q': 'purple', # Glutamine\n",
    "    'E': 'cyan',   # Glutamic acid\n",
    "    'G': 'magenta',# Glycine\n",
    "    'H': 'pink',   # Histidine\n",
    "    'I': 'brown',  # Isoleucine\n",
    "    'L': 'gray',   # Leucine\n",
    "    'K': 'lime',   # Lysine\n",
    "    'M': 'teal',   # Methionine\n",
    "    'F': 'navy',   # Phenylalanine\n",
    "    'P': 'olive',  # Proline\n",
    "    'S': 'maroon', # Serine\n",
    "    'T': 'silver', # Threonine\n",
    "    'W': 'gold',   # Tryptophan\n",
    "    'Y': 'skyblue',# Tyrosine\n",
    "    'V': 'violet', # Valine\n",
    "    '-':'white'\n",
    "    }\n",
    "    colors = [aa_colors[i] for i in text]\n",
    "    return colors"
   ]
  },
  {
   "cell_type": "markdown",
   "metadata": {},
   "source": [
    "## Bokeh sequence plotter\n",
    "Code using the Bokeh-panel strategy"
   ]
  },
  {
   "cell_type": "code",
   "execution_count": 3,
   "metadata": {},
   "outputs": [
    {
     "data": {
      "application/javascript": "(function(root) {\n  function now() {\n    return new Date();\n  }\n\n  var force = true;\n  var py_version = '3.3.4'.replace('rc', '-rc.').replace('.dev', '-dev.');\n  var reloading = false;\n  var Bokeh = root.Bokeh;\n\n  if (typeof (root._bokeh_timeout) === \"undefined\" || force) {\n    root._bokeh_timeout = Date.now() + 5000;\n    root._bokeh_failed_load = false;\n  }\n\n  function run_callbacks() {\n    try {\n      root._bokeh_onload_callbacks.forEach(function(callback) {\n        if (callback != null)\n          callback();\n      });\n    } finally {\n      delete root._bokeh_onload_callbacks;\n    }\n    console.debug(\"Bokeh: all callbacks have finished\");\n  }\n\n  function load_libs(css_urls, js_urls, js_modules, js_exports, callback) {\n    if (css_urls == null) css_urls = [];\n    if (js_urls == null) js_urls = [];\n    if (js_modules == null) js_modules = [];\n    if (js_exports == null) js_exports = {};\n\n    root._bokeh_onload_callbacks.push(callback);\n\n    if (root._bokeh_is_loading > 0) {\n      console.debug(\"Bokeh: BokehJS is being loaded, scheduling callback at\", now());\n      return null;\n    }\n    if (js_urls.length === 0 && js_modules.length === 0 && Object.keys(js_exports).length === 0) {\n      run_callbacks();\n      return null;\n    }\n    if (!reloading) {\n      console.debug(\"Bokeh: BokehJS not loaded, scheduling load and callback at\", now());\n    }\n\n    function on_load() {\n      root._bokeh_is_loading--;\n      if (root._bokeh_is_loading === 0) {\n        console.debug(\"Bokeh: all BokehJS libraries/stylesheets loaded\");\n        run_callbacks()\n      }\n    }\n    window._bokeh_on_load = on_load\n\n    function on_error() {\n      console.error(\"failed to load \" + url);\n    }\n\n    var skip = [];\n    if (window.requirejs) {\n      window.requirejs.config({'packages': {}, 'paths': {'jspanel': 'https://cdn.jsdelivr.net/npm/jspanel4@4.12.0/dist/jspanel', 'jspanel-modal': 'https://cdn.jsdelivr.net/npm/jspanel4@4.12.0/dist/extensions/modal/jspanel.modal', 'jspanel-tooltip': 'https://cdn.jsdelivr.net/npm/jspanel4@4.12.0/dist/extensions/tooltip/jspanel.tooltip', 'jspanel-hint': 'https://cdn.jsdelivr.net/npm/jspanel4@4.12.0/dist/extensions/hint/jspanel.hint', 'jspanel-layout': 'https://cdn.jsdelivr.net/npm/jspanel4@4.12.0/dist/extensions/layout/jspanel.layout', 'jspanel-contextmenu': 'https://cdn.jsdelivr.net/npm/jspanel4@4.12.0/dist/extensions/contextmenu/jspanel.contextmenu', 'jspanel-dock': 'https://cdn.jsdelivr.net/npm/jspanel4@4.12.0/dist/extensions/dock/jspanel.dock', 'gridstack': 'https://cdn.jsdelivr.net/npm/gridstack@7.2.3/dist/gridstack-all', 'notyf': 'https://cdn.jsdelivr.net/npm/notyf@3/notyf.min'}, 'shim': {'jspanel': {'exports': 'jsPanel'}, 'gridstack': {'exports': 'GridStack'}}});\n      require([\"jspanel\"], function(jsPanel) {\n\twindow.jsPanel = jsPanel\n\ton_load()\n      })\n      require([\"jspanel-modal\"], function() {\n\ton_load()\n      })\n      require([\"jspanel-tooltip\"], function() {\n\ton_load()\n      })\n      require([\"jspanel-hint\"], function() {\n\ton_load()\n      })\n      require([\"jspanel-layout\"], function() {\n\ton_load()\n      })\n      require([\"jspanel-contextmenu\"], function() {\n\ton_load()\n      })\n      require([\"jspanel-dock\"], function() {\n\ton_load()\n      })\n      require([\"gridstack\"], function(GridStack) {\n\twindow.GridStack = GridStack\n\ton_load()\n      })\n      require([\"notyf\"], function() {\n\ton_load()\n      })\n      root._bokeh_is_loading = css_urls.length + 9;\n    } else {\n      root._bokeh_is_loading = css_urls.length + js_urls.length + js_modules.length + Object.keys(js_exports).length;\n    }\n\n    var existing_stylesheets = []\n    var links = document.getElementsByTagName('link')\n    for (var i = 0; i < links.length; i++) {\n      var link = links[i]\n      if (link.href != null) {\n\texisting_stylesheets.push(link.href)\n      }\n    }\n    for (var i = 0; i < css_urls.length; i++) {\n      var url = css_urls[i];\n      if (existing_stylesheets.indexOf(url) !== -1) {\n\ton_load()\n\tcontinue;\n      }\n      const element = document.createElement(\"link\");\n      element.onload = on_load;\n      element.onerror = on_error;\n      element.rel = \"stylesheet\";\n      element.type = \"text/css\";\n      element.href = url;\n      console.debug(\"Bokeh: injecting link tag for BokehJS stylesheet: \", url);\n      document.body.appendChild(element);\n    }    if (((window['jsPanel'] !== undefined) && (!(window['jsPanel'] instanceof HTMLElement))) || window.requirejs) {\n      var urls = ['https://cdn.holoviz.org/panel/1.3.8/dist/bundled/floatpanel/jspanel4@4.12.0/dist/jspanel.js', 'https://cdn.holoviz.org/panel/1.3.8/dist/bundled/floatpanel/jspanel4@4.12.0/dist/extensions/modal/jspanel.modal.js', 'https://cdn.holoviz.org/panel/1.3.8/dist/bundled/floatpanel/jspanel4@4.12.0/dist/extensions/tooltip/jspanel.tooltip.js', 'https://cdn.holoviz.org/panel/1.3.8/dist/bundled/floatpanel/jspanel4@4.12.0/dist/extensions/hint/jspanel.hint.js', 'https://cdn.holoviz.org/panel/1.3.8/dist/bundled/floatpanel/jspanel4@4.12.0/dist/extensions/layout/jspanel.layout.js', 'https://cdn.holoviz.org/panel/1.3.8/dist/bundled/floatpanel/jspanel4@4.12.0/dist/extensions/contextmenu/jspanel.contextmenu.js', 'https://cdn.holoviz.org/panel/1.3.8/dist/bundled/floatpanel/jspanel4@4.12.0/dist/extensions/dock/jspanel.dock.js'];\n      for (var i = 0; i < urls.length; i++) {\n        skip.push(urls[i])\n      }\n    }    if (((window['GridStack'] !== undefined) && (!(window['GridStack'] instanceof HTMLElement))) || window.requirejs) {\n      var urls = ['https://cdn.holoviz.org/panel/1.3.8/dist/bundled/gridstack/gridstack@7.2.3/dist/gridstack-all.js'];\n      for (var i = 0; i < urls.length; i++) {\n        skip.push(urls[i])\n      }\n    }    if (((window['Notyf'] !== undefined) && (!(window['Notyf'] instanceof HTMLElement))) || window.requirejs) {\n      var urls = ['https://cdn.holoviz.org/panel/1.3.8/dist/bundled/notificationarea/notyf@3/notyf.min.js'];\n      for (var i = 0; i < urls.length; i++) {\n        skip.push(urls[i])\n      }\n    }    var existing_scripts = []\n    var scripts = document.getElementsByTagName('script')\n    for (var i = 0; i < scripts.length; i++) {\n      var script = scripts[i]\n      if (script.src != null) {\n\texisting_scripts.push(script.src)\n      }\n    }\n    for (var i = 0; i < js_urls.length; i++) {\n      var url = js_urls[i];\n      if (skip.indexOf(url) !== -1 || existing_scripts.indexOf(url) !== -1) {\n\tif (!window.requirejs) {\n\t  on_load();\n\t}\n\tcontinue;\n      }\n      var element = document.createElement('script');\n      element.onload = on_load;\n      element.onerror = on_error;\n      element.async = false;\n      element.src = url;\n      console.debug(\"Bokeh: injecting script tag for BokehJS library: \", url);\n      document.head.appendChild(element);\n    }\n    for (var i = 0; i < js_modules.length; i++) {\n      var url = js_modules[i];\n      if (skip.indexOf(url) !== -1 || existing_scripts.indexOf(url) !== -1) {\n\tif (!window.requirejs) {\n\t  on_load();\n\t}\n\tcontinue;\n      }\n      var element = document.createElement('script');\n      element.onload = on_load;\n      element.onerror = on_error;\n      element.async = false;\n      element.src = url;\n      element.type = \"module\";\n      console.debug(\"Bokeh: injecting script tag for BokehJS library: \", url);\n      document.head.appendChild(element);\n    }\n    for (const name in js_exports) {\n      var url = js_exports[name];\n      if (skip.indexOf(url) >= 0 || root[name] != null) {\n\tif (!window.requirejs) {\n\t  on_load();\n\t}\n\tcontinue;\n      }\n      var element = document.createElement('script');\n      element.onerror = on_error;\n      element.async = false;\n      element.type = \"module\";\n      console.debug(\"Bokeh: injecting script tag for BokehJS library: \", url);\n      element.textContent = `\n      import ${name} from \"${url}\"\n      window.${name} = ${name}\n      window._bokeh_on_load()\n      `\n      document.head.appendChild(element);\n    }\n    if (!js_urls.length && !js_modules.length) {\n      on_load()\n    }\n  };\n\n  function inject_raw_css(css) {\n    const element = document.createElement(\"style\");\n    element.appendChild(document.createTextNode(css));\n    document.body.appendChild(element);\n  }\n\n  var js_urls = [\"https://cdn.bokeh.org/bokeh/release/bokeh-3.3.4.min.js\", \"https://cdn.bokeh.org/bokeh/release/bokeh-gl-3.3.4.min.js\", \"https://cdn.bokeh.org/bokeh/release/bokeh-widgets-3.3.4.min.js\", \"https://cdn.bokeh.org/bokeh/release/bokeh-tables-3.3.4.min.js\", \"https://cdn.holoviz.org/panel/1.3.8/dist/panel.min.js\"];\n  var js_modules = [];\n  var js_exports = {};\n  var css_urls = [];\n  var inline_js = [    function(Bokeh) {\n      Bokeh.set_log_level(\"info\");\n    },\nfunction(Bokeh) {} // ensure no trailing comma for IE\n  ];\n\n  function run_inline_js() {\n    if ((root.Bokeh !== undefined) || (force === true)) {\n      for (var i = 0; i < inline_js.length; i++) {\n\ttry {\n          inline_js[i].call(root, root.Bokeh);\n\t} catch(e) {\n\t  if (!reloading) {\n\t    throw e;\n\t  }\n\t}\n      }\n      // Cache old bokeh versions\n      if (Bokeh != undefined && !reloading) {\n\tvar NewBokeh = root.Bokeh;\n\tif (Bokeh.versions === undefined) {\n\t  Bokeh.versions = new Map();\n\t}\n\tif (NewBokeh.version !== Bokeh.version) {\n\t  Bokeh.versions.set(NewBokeh.version, NewBokeh)\n\t}\n\troot.Bokeh = Bokeh;\n      }} else if (Date.now() < root._bokeh_timeout) {\n      setTimeout(run_inline_js, 100);\n    } else if (!root._bokeh_failed_load) {\n      console.log(\"Bokeh: BokehJS failed to load within specified timeout.\");\n      root._bokeh_failed_load = true;\n    }\n    root._bokeh_is_initializing = false\n  }\n\n  function load_or_wait() {\n    // Implement a backoff loop that tries to ensure we do not load multiple\n    // versions of Bokeh and its dependencies at the same time.\n    // In recent versions we use the root._bokeh_is_initializing flag\n    // to determine whether there is an ongoing attempt to initialize\n    // bokeh, however for backward compatibility we also try to ensure\n    // that we do not start loading a newer (Panel>=1.0 and Bokeh>3) version\n    // before older versions are fully initialized.\n    if (root._bokeh_is_initializing && Date.now() > root._bokeh_timeout) {\n      root._bokeh_is_initializing = false;\n      root._bokeh_onload_callbacks = undefined;\n      console.log(\"Bokeh: BokehJS was loaded multiple times but one version failed to initialize.\");\n      load_or_wait();\n    } else if (root._bokeh_is_initializing || (typeof root._bokeh_is_initializing === \"undefined\" && root._bokeh_onload_callbacks !== undefined)) {\n      setTimeout(load_or_wait, 100);\n    } else {\n      root._bokeh_is_initializing = true\n      root._bokeh_onload_callbacks = []\n      var bokeh_loaded = Bokeh != null && (Bokeh.version === py_version || (Bokeh.versions !== undefined && Bokeh.versions.has(py_version)));\n      if (!reloading && !bokeh_loaded) {\n\troot.Bokeh = undefined;\n      }\n      load_libs(css_urls, js_urls, js_modules, js_exports, function() {\n\tconsole.debug(\"Bokeh: BokehJS plotting callback run at\", now());\n\trun_inline_js();\n      });\n    }\n  }\n  // Give older versions of the autoload script a head-start to ensure\n  // they initialize before we start loading newer version.\n  setTimeout(load_or_wait, 100)\n}(window));",
      "application/vnd.holoviews_load.v0+json": ""
     },
     "metadata": {},
     "output_type": "display_data"
    },
    {
     "data": {
      "application/javascript": "\nif ((window.PyViz === undefined) || (window.PyViz instanceof HTMLElement)) {\n  window.PyViz = {comms: {}, comm_status:{}, kernels:{}, receivers: {}, plot_index: []}\n}\n\n\n    function JupyterCommManager() {\n    }\n\n    JupyterCommManager.prototype.register_target = function(plot_id, comm_id, msg_handler) {\n      if (window.comm_manager || ((window.Jupyter !== undefined) && (Jupyter.notebook.kernel != null))) {\n        var comm_manager = window.comm_manager || Jupyter.notebook.kernel.comm_manager;\n        comm_manager.register_target(comm_id, function(comm) {\n          comm.on_msg(msg_handler);\n        });\n      } else if ((plot_id in window.PyViz.kernels) && (window.PyViz.kernels[plot_id])) {\n        window.PyViz.kernels[plot_id].registerCommTarget(comm_id, function(comm) {\n          comm.onMsg = msg_handler;\n        });\n      } else if (typeof google != 'undefined' && google.colab.kernel != null) {\n        google.colab.kernel.comms.registerTarget(comm_id, (comm) => {\n          var messages = comm.messages[Symbol.asyncIterator]();\n          function processIteratorResult(result) {\n            var message = result.value;\n            console.log(message)\n            var content = {data: message.data, comm_id};\n            var buffers = []\n            for (var buffer of message.buffers || []) {\n              buffers.push(new DataView(buffer))\n            }\n            var metadata = message.metadata || {};\n            var msg = {content, buffers, metadata}\n            msg_handler(msg);\n            return messages.next().then(processIteratorResult);\n          }\n          return messages.next().then(processIteratorResult);\n        })\n      }\n    }\n\n    JupyterCommManager.prototype.get_client_comm = function(plot_id, comm_id, msg_handler) {\n      if (comm_id in window.PyViz.comms) {\n        return window.PyViz.comms[comm_id];\n      } else if (window.comm_manager || ((window.Jupyter !== undefined) && (Jupyter.notebook.kernel != null))) {\n        var comm_manager = window.comm_manager || Jupyter.notebook.kernel.comm_manager;\n        var comm = comm_manager.new_comm(comm_id, {}, {}, {}, comm_id);\n        if (msg_handler) {\n          comm.on_msg(msg_handler);\n        }\n      } else if ((plot_id in window.PyViz.kernels) && (window.PyViz.kernels[plot_id])) {\n        var comm = window.PyViz.kernels[plot_id].connectToComm(comm_id);\n        comm.open();\n        if (msg_handler) {\n          comm.onMsg = msg_handler;\n        }\n      } else if (typeof google != 'undefined' && google.colab.kernel != null) {\n        var comm_promise = google.colab.kernel.comms.open(comm_id)\n        comm_promise.then((comm) => {\n          window.PyViz.comms[comm_id] = comm;\n          if (msg_handler) {\n            var messages = comm.messages[Symbol.asyncIterator]();\n            function processIteratorResult(result) {\n              var message = result.value;\n              var content = {data: message.data};\n              var metadata = message.metadata || {comm_id};\n              var msg = {content, metadata}\n              msg_handler(msg);\n              return messages.next().then(processIteratorResult);\n            }\n            return messages.next().then(processIteratorResult);\n          }\n        }) \n        var sendClosure = (data, metadata, buffers, disposeOnDone) => {\n          return comm_promise.then((comm) => {\n            comm.send(data, metadata, buffers, disposeOnDone);\n          });\n        };\n        var comm = {\n          send: sendClosure\n        };\n      }\n      window.PyViz.comms[comm_id] = comm;\n      return comm;\n    }\n    window.PyViz.comm_manager = new JupyterCommManager();\n    \n\n\nvar JS_MIME_TYPE = 'application/javascript';\nvar HTML_MIME_TYPE = 'text/html';\nvar EXEC_MIME_TYPE = 'application/vnd.holoviews_exec.v0+json';\nvar CLASS_NAME = 'output';\n\n/**\n * Render data to the DOM node\n */\nfunction render(props, node) {\n  var div = document.createElement(\"div\");\n  var script = document.createElement(\"script\");\n  node.appendChild(div);\n  node.appendChild(script);\n}\n\n/**\n * Handle when a new output is added\n */\nfunction handle_add_output(event, handle) {\n  var output_area = handle.output_area;\n  var output = handle.output;\n  if ((output.data == undefined) || (!output.data.hasOwnProperty(EXEC_MIME_TYPE))) {\n    return\n  }\n  var id = output.metadata[EXEC_MIME_TYPE][\"id\"];\n  var toinsert = output_area.element.find(\".\" + CLASS_NAME.split(' ')[0]);\n  if (id !== undefined) {\n    var nchildren = toinsert.length;\n    var html_node = toinsert[nchildren-1].children[0];\n    html_node.innerHTML = output.data[HTML_MIME_TYPE];\n    var scripts = [];\n    var nodelist = html_node.querySelectorAll(\"script\");\n    for (var i in nodelist) {\n      if (nodelist.hasOwnProperty(i)) {\n        scripts.push(nodelist[i])\n      }\n    }\n\n    scripts.forEach( function (oldScript) {\n      var newScript = document.createElement(\"script\");\n      var attrs = [];\n      var nodemap = oldScript.attributes;\n      for (var j in nodemap) {\n        if (nodemap.hasOwnProperty(j)) {\n          attrs.push(nodemap[j])\n        }\n      }\n      attrs.forEach(function(attr) { newScript.setAttribute(attr.name, attr.value) });\n      newScript.appendChild(document.createTextNode(oldScript.innerHTML));\n      oldScript.parentNode.replaceChild(newScript, oldScript);\n    });\n    if (JS_MIME_TYPE in output.data) {\n      toinsert[nchildren-1].children[1].textContent = output.data[JS_MIME_TYPE];\n    }\n    output_area._hv_plot_id = id;\n    if ((window.Bokeh !== undefined) && (id in Bokeh.index)) {\n      window.PyViz.plot_index[id] = Bokeh.index[id];\n    } else {\n      window.PyViz.plot_index[id] = null;\n    }\n  } else if (output.metadata[EXEC_MIME_TYPE][\"server_id\"] !== undefined) {\n    var bk_div = document.createElement(\"div\");\n    bk_div.innerHTML = output.data[HTML_MIME_TYPE];\n    var script_attrs = bk_div.children[0].attributes;\n    for (var i = 0; i < script_attrs.length; i++) {\n      toinsert[toinsert.length - 1].childNodes[1].setAttribute(script_attrs[i].name, script_attrs[i].value);\n    }\n    // store reference to server id on output_area\n    output_area._bokeh_server_id = output.metadata[EXEC_MIME_TYPE][\"server_id\"];\n  }\n}\n\n/**\n * Handle when an output is cleared or removed\n */\nfunction handle_clear_output(event, handle) {\n  var id = handle.cell.output_area._hv_plot_id;\n  var server_id = handle.cell.output_area._bokeh_server_id;\n  if (((id === undefined) || !(id in PyViz.plot_index)) && (server_id !== undefined)) { return; }\n  var comm = window.PyViz.comm_manager.get_client_comm(\"hv-extension-comm\", \"hv-extension-comm\", function () {});\n  if (server_id !== null) {\n    comm.send({event_type: 'server_delete', 'id': server_id});\n    return;\n  } else if (comm !== null) {\n    comm.send({event_type: 'delete', 'id': id});\n  }\n  delete PyViz.plot_index[id];\n  if ((window.Bokeh !== undefined) & (id in window.Bokeh.index)) {\n    var doc = window.Bokeh.index[id].model.document\n    doc.clear();\n    const i = window.Bokeh.documents.indexOf(doc);\n    if (i > -1) {\n      window.Bokeh.documents.splice(i, 1);\n    }\n  }\n}\n\n/**\n * Handle kernel restart event\n */\nfunction handle_kernel_cleanup(event, handle) {\n  delete PyViz.comms[\"hv-extension-comm\"];\n  window.PyViz.plot_index = {}\n}\n\n/**\n * Handle update_display_data messages\n */\nfunction handle_update_output(event, handle) {\n  handle_clear_output(event, {cell: {output_area: handle.output_area}})\n  handle_add_output(event, handle)\n}\n\nfunction register_renderer(events, OutputArea) {\n  function append_mime(data, metadata, element) {\n    // create a DOM node to render to\n    var toinsert = this.create_output_subarea(\n    metadata,\n    CLASS_NAME,\n    EXEC_MIME_TYPE\n    );\n    this.keyboard_manager.register_events(toinsert);\n    // Render to node\n    var props = {data: data, metadata: metadata[EXEC_MIME_TYPE]};\n    render(props, toinsert[0]);\n    element.append(toinsert);\n    return toinsert\n  }\n\n  events.on('output_added.OutputArea', handle_add_output);\n  events.on('output_updated.OutputArea', handle_update_output);\n  events.on('clear_output.CodeCell', handle_clear_output);\n  events.on('delete.Cell', handle_clear_output);\n  events.on('kernel_ready.Kernel', handle_kernel_cleanup);\n\n  OutputArea.prototype.register_mime_type(EXEC_MIME_TYPE, append_mime, {\n    safe: true,\n    index: 0\n  });\n}\n\nif (window.Jupyter !== undefined) {\n  try {\n    var events = require('base/js/events');\n    var OutputArea = require('notebook/js/outputarea').OutputArea;\n    if (OutputArea.prototype.mime_types().indexOf(EXEC_MIME_TYPE) == -1) {\n      register_renderer(events, OutputArea);\n    }\n  } catch(err) {\n  }\n}\n",
      "application/vnd.holoviews_load.v0+json": ""
     },
     "metadata": {},
     "output_type": "display_data"
    },
    {
     "data": {
      "text/html": [
       "<style>*[data-root-id],\n",
       "*[data-root-id] > * {\n",
       "  box-sizing: border-box;\n",
       "  font-family: var(--jp-ui-font-family);\n",
       "  font-size: var(--jp-ui-font-size1);\n",
       "  color: var(--vscode-editor-foreground, var(--jp-ui-font-color1));\n",
       "}\n",
       "\n",
       "/* Override VSCode background color */\n",
       ".cell-output-ipywidget-background:has(\n",
       "    > .cell-output-ipywidget-background > .lm-Widget > *[data-root-id]\n",
       "  ),\n",
       ".cell-output-ipywidget-background:has(> .lm-Widget > *[data-root-id]) {\n",
       "  background-color: transparent !important;\n",
       "}\n",
       "</style>"
      ]
     },
     "metadata": {},
     "output_type": "display_data"
    },
    {
     "data": {
      "application/vnd.holoviews_exec.v0+json": "",
      "text/html": [
       "<div id='f8f6274b-a78c-4394-a818-9c3863eaaa21'>\n",
       "  <div id=\"e7a10610-c15c-44aa-a998-7a6ea7c5e79b\" data-root-id=\"f8f6274b-a78c-4394-a818-9c3863eaaa21\" style=\"display: contents;\"></div>\n",
       "</div>\n",
       "<script type=\"application/javascript\">(function(root) {\n",
       "  var docs_json = {\"01ce9d49-993b-4812-a764-e9ce059b2a3c\":{\"version\":\"3.3.4\",\"title\":\"Bokeh Application\",\"roots\":[{\"type\":\"object\",\"name\":\"panel.models.browser.BrowserInfo\",\"id\":\"f8f6274b-a78c-4394-a818-9c3863eaaa21\"},{\"type\":\"object\",\"name\":\"panel.models.comm_manager.CommManager\",\"id\":\"6e48ede3-c3e2-4dce-b969-784d80e0476f\",\"attributes\":{\"plot_id\":\"f8f6274b-a78c-4394-a818-9c3863eaaa21\",\"comm_id\":\"6fb3ad418b33477287c2c2cc20681317\",\"client_comm_id\":\"3b3f9a03b54b447c9da4de9775d3aa1e\"}}],\"defs\":[{\"type\":\"model\",\"name\":\"ReactiveHTML1\"},{\"type\":\"model\",\"name\":\"FlexBox1\",\"properties\":[{\"name\":\"align_content\",\"kind\":\"Any\",\"default\":\"flex-start\"},{\"name\":\"align_items\",\"kind\":\"Any\",\"default\":\"flex-start\"},{\"name\":\"flex_direction\",\"kind\":\"Any\",\"default\":\"row\"},{\"name\":\"flex_wrap\",\"kind\":\"Any\",\"default\":\"wrap\"},{\"name\":\"justify_content\",\"kind\":\"Any\",\"default\":\"flex-start\"}]},{\"type\":\"model\",\"name\":\"FloatPanel1\",\"properties\":[{\"name\":\"config\",\"kind\":\"Any\",\"default\":{\"type\":\"map\"}},{\"name\":\"contained\",\"kind\":\"Any\",\"default\":true},{\"name\":\"position\",\"kind\":\"Any\",\"default\":\"right-top\"},{\"name\":\"offsetx\",\"kind\":\"Any\",\"default\":null},{\"name\":\"offsety\",\"kind\":\"Any\",\"default\":null},{\"name\":\"theme\",\"kind\":\"Any\",\"default\":\"primary\"},{\"name\":\"status\",\"kind\":\"Any\",\"default\":\"normalized\"}]},{\"type\":\"model\",\"name\":\"GridStack1\",\"properties\":[{\"name\":\"mode\",\"kind\":\"Any\",\"default\":\"warn\"},{\"name\":\"ncols\",\"kind\":\"Any\",\"default\":null},{\"name\":\"nrows\",\"kind\":\"Any\",\"default\":null},{\"name\":\"allow_resize\",\"kind\":\"Any\",\"default\":true},{\"name\":\"allow_drag\",\"kind\":\"Any\",\"default\":true},{\"name\":\"state\",\"kind\":\"Any\",\"default\":[]}]},{\"type\":\"model\",\"name\":\"drag1\",\"properties\":[{\"name\":\"slider_width\",\"kind\":\"Any\",\"default\":5},{\"name\":\"slider_color\",\"kind\":\"Any\",\"default\":\"black\"},{\"name\":\"value\",\"kind\":\"Any\",\"default\":50}]},{\"type\":\"model\",\"name\":\"click1\",\"properties\":[{\"name\":\"terminal_output\",\"kind\":\"Any\",\"default\":\"\"},{\"name\":\"debug_name\",\"kind\":\"Any\",\"default\":\"\"},{\"name\":\"clears\",\"kind\":\"Any\",\"default\":0}]},{\"type\":\"model\",\"name\":\"copy_to_clipboard1\",\"properties\":[{\"name\":\"fill\",\"kind\":\"Any\",\"default\":\"none\"},{\"name\":\"value\",\"kind\":\"Any\",\"default\":null}]},{\"type\":\"model\",\"name\":\"FastWrapper1\",\"properties\":[{\"name\":\"object\",\"kind\":\"Any\",\"default\":null},{\"name\":\"style\",\"kind\":\"Any\",\"default\":null}]},{\"type\":\"model\",\"name\":\"NotificationAreaBase1\",\"properties\":[{\"name\":\"js_events\",\"kind\":\"Any\",\"default\":{\"type\":\"map\"}},{\"name\":\"position\",\"kind\":\"Any\",\"default\":\"bottom-right\"},{\"name\":\"_clear\",\"kind\":\"Any\",\"default\":0}]},{\"type\":\"model\",\"name\":\"NotificationArea1\",\"properties\":[{\"name\":\"js_events\",\"kind\":\"Any\",\"default\":{\"type\":\"map\"}},{\"name\":\"notifications\",\"kind\":\"Any\",\"default\":[]},{\"name\":\"position\",\"kind\":\"Any\",\"default\":\"bottom-right\"},{\"name\":\"_clear\",\"kind\":\"Any\",\"default\":0},{\"name\":\"types\",\"kind\":\"Any\",\"default\":[{\"type\":\"map\",\"entries\":[[\"type\",\"warning\"],[\"background\",\"#ffc107\"],[\"icon\",{\"type\":\"map\",\"entries\":[[\"className\",\"fas fa-exclamation-triangle\"],[\"tagName\",\"i\"],[\"color\",\"white\"]]}]]},{\"type\":\"map\",\"entries\":[[\"type\",\"info\"],[\"background\",\"#007bff\"],[\"icon\",{\"type\":\"map\",\"entries\":[[\"className\",\"fas fa-info-circle\"],[\"tagName\",\"i\"],[\"color\",\"white\"]]}]]}]}]},{\"type\":\"model\",\"name\":\"Notification\",\"properties\":[{\"name\":\"background\",\"kind\":\"Any\",\"default\":null},{\"name\":\"duration\",\"kind\":\"Any\",\"default\":3000},{\"name\":\"icon\",\"kind\":\"Any\",\"default\":null},{\"name\":\"message\",\"kind\":\"Any\",\"default\":\"\"},{\"name\":\"notification_type\",\"kind\":\"Any\",\"default\":null},{\"name\":\"_destroyed\",\"kind\":\"Any\",\"default\":false}]},{\"type\":\"model\",\"name\":\"TemplateActions1\",\"properties\":[{\"name\":\"open_modal\",\"kind\":\"Any\",\"default\":0},{\"name\":\"close_modal\",\"kind\":\"Any\",\"default\":0}]},{\"type\":\"model\",\"name\":\"BootstrapTemplateActions1\",\"properties\":[{\"name\":\"open_modal\",\"kind\":\"Any\",\"default\":0},{\"name\":\"close_modal\",\"kind\":\"Any\",\"default\":0}]},{\"type\":\"model\",\"name\":\"MaterialTemplateActions1\",\"properties\":[{\"name\":\"open_modal\",\"kind\":\"Any\",\"default\":0},{\"name\":\"close_modal\",\"kind\":\"Any\",\"default\":0}]}]}};\n",
       "  var render_items = [{\"docid\":\"01ce9d49-993b-4812-a764-e9ce059b2a3c\",\"roots\":{\"f8f6274b-a78c-4394-a818-9c3863eaaa21\":\"e7a10610-c15c-44aa-a998-7a6ea7c5e79b\"},\"root_ids\":[\"f8f6274b-a78c-4394-a818-9c3863eaaa21\"]}];\n",
       "  var docs = Object.values(docs_json)\n",
       "  if (!docs) {\n",
       "    return\n",
       "  }\n",
       "  const py_version = docs[0].version.replace('rc', '-rc.').replace('.dev', '-dev.')\n",
       "  function embed_document(root) {\n",
       "    var Bokeh = get_bokeh(root)\n",
       "    Bokeh.embed.embed_items_notebook(docs_json, render_items);\n",
       "    for (const render_item of render_items) {\n",
       "      for (const root_id of render_item.root_ids) {\n",
       "\tconst id_el = document.getElementById(root_id)\n",
       "\tif (id_el.children.length && (id_el.children[0].className === 'bk-root')) {\n",
       "\t  const root_el = id_el.children[0]\n",
       "\t  root_el.id = root_el.id + '-rendered'\n",
       "\t}\n",
       "      }\n",
       "    }\n",
       "  }\n",
       "  function get_bokeh(root) {\n",
       "    if (root.Bokeh === undefined) {\n",
       "      return null\n",
       "    } else if (root.Bokeh.version !== py_version) {\n",
       "      if (root.Bokeh.versions === undefined || !root.Bokeh.versions.has(py_version)) {\n",
       "\treturn null\n",
       "      }\n",
       "      return root.Bokeh.versions.get(py_version);\n",
       "    } else if (root.Bokeh.version === py_version) {\n",
       "      return root.Bokeh\n",
       "    }\n",
       "    return null\n",
       "  }\n",
       "  function is_loaded(root) {\n",
       "    var Bokeh = get_bokeh(root)\n",
       "    return (Bokeh != null && Bokeh.Panel !== undefined)\n",
       "  }\n",
       "  if (is_loaded(root)) {\n",
       "    embed_document(root);\n",
       "  } else {\n",
       "    var attempts = 0;\n",
       "    var timer = setInterval(function(root) {\n",
       "      if (is_loaded(root)) {\n",
       "        clearInterval(timer);\n",
       "        embed_document(root);\n",
       "      } else if (document.readyState == \"complete\") {\n",
       "        attempts++;\n",
       "        if (attempts > 200) {\n",
       "          clearInterval(timer);\n",
       "\t  var Bokeh = get_bokeh(root)\n",
       "\t  if (Bokeh == null || Bokeh.Panel == null) {\n",
       "            console.warn(\"Panel: ERROR: Unable to run Panel code because Bokeh or Panel library is missing\");\n",
       "\t  } else {\n",
       "\t    console.warn(\"Panel: WARNING: Attempting to render but not all required libraries could be resolved.\")\n",
       "\t    embed_document(root)\n",
       "\t  }\n",
       "        }\n",
       "      }\n",
       "    }, 25, root)\n",
       "  }\n",
       "})(window);</script>"
      ]
     },
     "metadata": {
      "application/vnd.holoviews_exec.v0+json": {
       "id": "f8f6274b-a78c-4394-a818-9c3863eaaa21"
      }
     },
     "output_type": "display_data"
    }
   ],
   "source": [
    "import panel as pn\n",
    "import panel.widgets as pnw\n",
    "pn.extension()\n",
    "\n",
    "from bokeh.plotting import figure\n",
    "from bokeh.models import ColumnDataSource, Plot, Grid, Range1d\n",
    "from bokeh.models.glyphs import Text, Rect\n",
    "from bokeh.layouts import gridplot\n",
    "from bokeh.plotting import output_file, save"
   ]
  },
  {
   "cell_type": "code",
   "execution_count": 4,
   "metadata": {},
   "outputs": [],
   "source": [
    "def view_alignment_bokeh(aln, fontsize=\"9pt\", plot_width=800, file_name='alignment'):\n",
    "    \"\"\"Bokeh sequence alignment view\n",
    "    From: https://dmnfarrell.github.io/bioinformatics/bokeh-sequence-aligner\"\"\"\n",
    "    # The function takes a biopython alignment object as input.\n",
    "    # rec is the alignment record: Each one of the entries given as input\n",
    "    seqs = [rec.seq for rec in (aln)] # Each sequence input\n",
    "    ids = [rec.id for rec in aln] # Each entry ID\n",
    "    text = [i for s in list(seqs) for i in s] #Al units joind on same list\n",
    "    # List with ALL colors\n",
    "    colors = get_colors_protein(seqs)    \n",
    "    N = len(seqs[0]) # What if they're not the same length???\n",
    "    S = len(seqs)    \n",
    "    width = .4\n",
    "\n",
    "    x = np.arange(1,N+1)\n",
    "    y = np.arange(0,S,1)\n",
    "    #creates a 2D grid of coords from the 1D arrays\n",
    "    xx, yy = np.meshgrid(x, y)\n",
    "    #flattens the arrays\n",
    "    gx = xx.ravel()\n",
    "    gy = yy.flatten()\n",
    "    #use recty for rect coords with an offset\n",
    "    recty = gy+.5 # Just to make the rectangles twice the size and the letter in the middle\n",
    "    h= 1/S\n",
    "    #now we can create the ColumnDataSource with all the arrays\n",
    "    print(f'Aligning {S} sequences of lenght {N}')\n",
    "    # ColumnDataSource is a JSON dict that maps names to arrays of values\n",
    "    source = ColumnDataSource(dict(x=gx, y=gy, recty=recty, text=text, colors=colors))\n",
    "    plot_height = len(seqs)*10+50\n",
    "    x_range = Range1d(0, N+1, bounds='auto') # (start, end)\n",
    "    if N>150:\n",
    "        viewlen=150\n",
    "    else:\n",
    "        viewlen=N\n",
    "    #view_range is for the close up view\n",
    "    view_range = (0,viewlen)\n",
    "    tools=\"xpan, xwheel_zoom, reset, save\"\n",
    "\n",
    "    #entire sequence view (no text, with zoom)\n",
    "    p = figure(title=None, width=plot_width, height=plot_height,\n",
    "               x_range=x_range, y_range=(0,S), tools=tools,\n",
    "               min_border=0, toolbar_location='below')\n",
    "    # Rect simply places rectangles of wifth \"width\" into the positions defined by x and y\n",
    "    rects = Rect(x=\"x\", y=\"recty\",  width=1, height=1, fill_color=\"colors\",\n",
    "                 line_color=None, fill_alpha=0.6)\n",
    "    # Source does mapping from keys in rects to values in ColumnDataSource definition\n",
    "    p.add_glyph(source, rects) \n",
    "    p.yaxis.visible = False\n",
    "    p.grid.visible = False  \n",
    "\n",
    "    #sequence text view with ability to scroll along x axis\n",
    "    p1 = figure(title=None, width=plot_width, height=plot_height,\n",
    "                x_range=view_range, y_range=ids, tools=\"xpan,reset\",\n",
    "                min_border=0, toolbar_location='below')#, lod_factor=1)   \n",
    "    # Text does the same thing as rectangles but placing letter (or words) instead, aligned accordingly   \n",
    "    glyph = Text(x=\"x\", y=\"y\", text=\"text\", text_align='center',text_color=\"black\",\n",
    "                text_font=\"monospace\",text_font_size=fontsize)\n",
    "    rects = Rect(x=\"x\", y=\"recty\",  width=1, height=1, fill_color=\"colors\",\n",
    "                line_color=None, fill_alpha=0.4)\n",
    "    p1.add_glyph(source, glyph)\n",
    "    p1.add_glyph(source, rects)\n",
    "\n",
    "    p1.grid.visible = True\n",
    "    p1.xaxis.major_label_text_font_style = \"bold\"\n",
    "    p1.yaxis.major_label_text_font_style = \"bold\"\n",
    "    p1.yaxis.minor_tick_line_width = 0\n",
    "    p1.yaxis.major_tick_line_width = 0\n",
    "\n",
    "    p = gridplot([[p],[p1]], toolbar_location='below')\n",
    "\n",
    "    output_file(filename=f\"{file_name}.html\", title=\"Alignment result\")\n",
    "    save(p)\n",
    "    \n",
    "    return p"
   ]
  },
  {
   "cell_type": "markdown",
   "metadata": {},
   "source": [
    "Testing with two sequences of equal length"
   ]
  },
  {
   "cell_type": "code",
   "execution_count": 5,
   "metadata": {},
   "outputs": [
    {
     "name": "stderr",
     "output_type": "stream",
     "text": [
      "ERROR:bokeh.core.validation.check:E-1001 (BAD_COLUMN_NAME): Glyph refers to nonexistent column name. This could either be due to a misspelling or typo, or due to an expected column being missing. : text_font='monospace' [no close matches] {renderer: GlyphRenderer(id='eab2c717-8c61-496f-b296-58931aced063', ...)}\n"
     ]
    },
    {
     "name": "stdout",
     "output_type": "stream",
     "text": [
      "Aligning 2 sequences of lenght 301\n"
     ]
    }
   ],
   "source": [
    "# Note here: The aminoacid sequences must be the same length, with missing units represented as '-'\n",
    "aln = AlignIO.read('covid.aln','fasta')\n",
    "p = view_alignment_bokeh(aln, plot_width=1500, file_name='simple_alignment')\n",
    "# pn.pane.Bokeh(p)"
   ]
  },
  {
   "cell_type": "markdown",
   "metadata": {},
   "source": [
    "## BLAST-Mafft-Bokeh sequence alignment\n",
    "*Input reference sequence on BLAST to query for similar sequences, select seqs in the output to finally generate an HTML file with multi seq alignment*"
   ]
  },
  {
   "cell_type": "markdown",
   "metadata": {},
   "source": [
    "---This implementation needs the installation of both Bokeh and also the command-line mafft program---"
   ]
  },
  {
   "cell_type": "code",
   "execution_count": 131,
   "metadata": {},
   "outputs": [],
   "source": [
    "def parse_blast(results_file, verbose):\n",
    "    from Bio.Blast import NCBIXML\n",
    "    # Parse results\n",
    "    E_VALUE_THRESH = 1e-20 \n",
    "\n",
    "    matches_seq = []\n",
    "    matches_id = []\n",
    "    scores = []\n",
    "\n",
    "    for record in NCBIXML.parse(open(results_file)): \n",
    "        if record.alignments: \n",
    "            if verbose:\n",
    "                print(\"\\n\") \n",
    "                print(\"query: %s\" % record.query[:100]) \n",
    "            query_seqs = []\n",
    "            query_ids = []\n",
    "            query_scores = []\n",
    "            for align in record.alignments: \n",
    "                for hsp in align.hsps: \n",
    "                    if hsp.expect < E_VALUE_THRESH: \n",
    "                        # Print sequence identity, title, and gapless sequence substring that aligns\n",
    "                        hsps0 = align.hsps[0]\n",
    "                        sequence_to_model = hsps0.sbjct.replace('-','')\n",
    "                        pidentity = round(100.0 * hsps0.identities / (hsps0.query_end-hsps0.query_start+1), 2)\n",
    "                        if verbose:\n",
    "                            print(f'length {hsps0.identities}, score {pidentity}: {align.title}')# {sequence_to_model}')\n",
    "                        query_seqs.append(sequence_to_model)\n",
    "                        query_ids.append(align.title)\n",
    "                        query_scores.append(pidentity)\n",
    "        matches_seq.append(query_seqs)\n",
    "        matches_id.append(query_ids)\n",
    "        scores.append(query_scores)\n",
    "\n",
    "    return matches_seq, matches_id, scores\n",
    "\n",
    "def get_blast_seqs(seq_source, input_type=\"fasta\", save_file=\"results.xml\", nalign=500, database=\"refseq_protein\", verbose=True):\n",
    "    \"\"\"Run a BLAST search on a protein sequence.\n",
    "    Args:\n",
    "        seq_source (string, list): Source with the sequence.\n",
    "        input_type (str, optional): Type of sequence source [\"pre-cal\", \"fasta\", \"sequence\"]. Defaults to \"fasta\".\n",
    "        save_file (str, optional): Name of output file storing BLAST results. Defaults to \"results.xml\".\n",
    "\n",
    "    Returns:\n",
    "        (list, list): Matched sequences, Matched IDs\n",
    "    \"\"\"\n",
    "    from Bio.Blast import NCBIWWW\n",
    "    \n",
    "    if input_type == \"pre-calc\":\n",
    "        matches_seq, matches_id, scores = parse_blast(seq_source, verbose)\n",
    "        return matches_seq, matches_id, scores\n",
    "    elif input_type == \"fasta\":\n",
    "        # Input is file name\n",
    "        sequence = open(seq_source).read() \n",
    "    elif input_type == \"sequence\":\n",
    "        # Input is sequence\n",
    "        sequence = seq_source\n",
    "    else: # Another source?\n",
    "        return\n",
    "    \n",
    "    # Retrieve blastp results\n",
    "    program = 'blastp' # protein sequence BLAST\n",
    "    database =  database # non-redundant protein database\n",
    "    alignments = nalign # number of alignments to retrieve\n",
    "    result_handle = NCBIWWW.qblast(program, database, sequence, alignments=alignments) \n",
    "\n",
    "    with open(save_file, 'w') as file: \n",
    "        blast_results = result_handle.read() \n",
    "        file.write(blast_results)\n",
    "\n",
    "    matches_seq, matches_id, scores = parse_blast(save_file, verbose)\n",
    "\n",
    "    return matches_seq, matches_id, scores\n",
    "\n",
    "def process_align_data(input_alignment, output_file):\n",
    "    ''' Modify sequences in multi-seq alignment to remove gap characters '-' \n",
    "    '''\n",
    "    alignment = SeqIO.parse(input_alignment, \"fasta\")\n",
    "    filtered_sequences = []\n",
    "    for rec in alignment:\n",
    "        # Remove gap characters '-' from the sequence\n",
    "        filtered_sequence = rec.seq.ungap(\"-\")\n",
    "        # Update SeqRecord with the filtered sequence\n",
    "        filtered_seq_record = SeqRecord(filtered_sequence, id=rec.id, description=rec.description)\n",
    "        filtered_sequences.append(filtered_seq_record)\n",
    "\n",
    "    SeqIO.write(filtered_sequences, output_file, \"fasta\")\n",
    "    return output_file"
   ]
  },
  {
   "cell_type": "code",
   "execution_count": 165,
   "metadata": {},
   "outputs": [
    {
     "name": "stdout",
     "output_type": "stream",
     "text": [
      "\n",
      "\n",
      "query: MERS-CoV Mpro\n",
      "length 301, score 100.0: ref|YP_007188578.1| ORF1a polyprotein [Betacoronavirus England 1]\n",
      "length 301, score 100.0: ref|YP_009047203.1| 1A polyprotein [Middle East respiratory syndrome-related coronavirus]\n",
      "length 301, score 100.0: ref|YP_007188577.3| ORF1ab polyprotein [Betacoronavirus England 1]\n",
      "length 301, score 100.0: ref|YP_009047202.1| 1AB polyprotein [Middle East respiratory syndrome-related coronavirus]\n",
      "length 301, score 100.0: ref|YP_009047217.1| nsp5 protein [Middle East respiratory syndrome-related coronavirus] >ref|YP_009047233.1| nsp5 protein [Middle East respiratory syndrome-related coronavirus] >ref|YP_009944285.1| nsp5 [Betacoronavirus England 1] >ref|YP_009944296.1| nsp5 [Betacoronavirus England 1]\n",
      "length 288, score 95.68: ref|YP_009361855.1| ORF1a polyprotein [Bat coronavirus]\n",
      "length 288, score 95.68: ref|YP_009361856.2| ORF1ab polyprotein [Bat coronavirus]\n",
      "length 248, score 82.39: ref|YP_009944343.1| nsp5 [Pipistrellus bat coronavirus HKU5] >ref|YP_009944358.1| nsp5 [Pipistrellus bat coronavirus HKU5]\n",
      "length 243, score 80.73: ref|YP_009944314.1| nsp5 [Tylonycteris bat coronavirus HKU4] >ref|YP_009944329.1| nsp5 [Tylonycteris bat coronavirus HKU4]\n",
      "length 248, score 82.39: ref|YP_009944337.1| ORF1a polyprotein [Pipistrellus bat coronavirus HKU5]\n",
      "length 248, score 82.39: ref|YP_001039961.1| ORF1ab polyprotein [Pipistrellus bat coronavirus HKU5]\n",
      "length 243, score 80.73: ref|YP_009944308.1| ORF1a polyprotein [Tylonycteris bat coronavirus HKU4]\n",
      "length 243, score 80.73: ref|YP_001039952.1| ORF1ab polyprotein [Tylonycteris bat coronavirus HKU4]\n",
      "length 237, score 78.74: ref|YP_009513009.1| ORF1a polyprotein [Betacoronavirus Erinaceus/VMC/DEU/2012]\n",
      "length 237, score 78.74: ref|YP_009513008.1| ORF1ab polyprotein [Betacoronavirus Erinaceus/VMC/DEU/2012]\n",
      "length 165, score 55.0: ref|YP_009924361.1| nsp5 [Rat coronavirus Parker] >ref|YP_009924372.1| nsp5 [Rat coronavirus Parker]\n",
      "length 164, score 54.67: ref|YP_209248.1| nsp5 or 3CLpro [Murine hepatitis virus strain JHM]\n",
      "length 164, score 54.67: ref|YP_009944273.1| nsp5 [Human coronavirus HKU1] >ref|YP_459936.1| nsp5 [Human coronavirus HKU1]\n",
      "length 160, score 53.33: ref|YP_009924413.1| nsp5 [Rabbit coronavirus HKU14] >ref|YP_009944258.1| nsp5 [Rabbit coronavirus HKU14]\n",
      "length 160, score 53.33: ref|YP_009915677.1| nsp5 [Murine hepatitis virus] >ref|YP_009915692.1| nsp5 [Murine hepatitis virus] >ref|YP_009924335.1| nsp5 [Murine hepatitis virus] >ref|YP_009924346.1| nsp5 [Murine hepatitis virus]\n",
      "length 160, score 53.33: ref|YP_009555250.1| nsp2 [Human coronavirus OC43] >ref|YP_009924323.1| nsp5 [Human coronavirus OC43]\n",
      "length 157, score 52.51: ref|NP_828863.1| nsp5 [SARS coronavirus Tor2] >ref|YP_009944370.1| nsp5 [SARS coronavirus Tor2]\n",
      "length 154, score 51.51: ref|YP_009725301.1| 3C-like proteinase [Severe acute respiratory syndrome coronavirus 2] >ref|YP_009742612.1| 3C-like proteinase [Severe acute respiratory syndrome coronavirus 2]\n",
      "length 154, score 51.16: ref|YP_009924387.1| nsp5 [Rousettus bat coronavirus HKU9]\n",
      "length 165, score 55.0: ref|YP_003029845.1| ORF1a polyprotein [Rat coronavirus Parker]\n",
      "length 165, score 55.0: ref|YP_003029844.1| ORF1ab polyprotein [Rat coronavirus Parker]\n",
      "length 164, score 54.67: ref|YP_209230.1| ORF1a polyprotein [Murine hepatitis virus strain JHM]\n",
      "length 164, score 54.67: ref|YP_209229.2| ORF1ab polyprotein [Murine hepatitis virus strain JHM]\n",
      "length 164, score 54.67: ref|YP_009944268.1| ORF1a polyprotein [Human coronavirus HKU1]\n",
      "length 164, score 54.67: ref|YP_173236.1| ORF1ab polyprotein [Human coronavirus HKU1]\n",
      "length 160, score 53.33: ref|YP_009944253.1| ORF1a polyprotein [Rabbit coronavirus HKU14]\n",
      "length 160, score 53.33: ref|YP_005454239.1| ORF1ab polyprotein [Rabbit coronavirus HKU14]\n",
      "length 160, score 53.33: ref|YP_009755832.1| ORF1ab polyprotein [Rodent coronavirus]\n",
      "length 160, score 53.33: ref|YP_009944265.1| ORF1a polyprotein [Rodent coronavirus]\n",
      "length 161, score 53.67: ref|NP_150074.1| orf1a polyprotein [Bovine coronavirus]\n",
      "length 161, score 53.67: ref|NP_150073.3| orf1ab polyprotein [Bovine coronavirus]\n",
      "length 160, score 53.33: ref|NP_045299.2| ORF1ab polyprotein [Murine hepatitis virus]\n",
      "length 160, score 53.33: ref|NP_045298.1| ORF1a polyprotein [Murine hepatitis virus]\n",
      "length 160, score 53.33: ref|YP_009924317.1| ORF1a polyprotein [Human coronavirus OC43]\n",
      "length 160, score 53.33: ref|YP_009824979.1| ORF1a polyprotein [Murine hepatitis virus]\n",
      "length 160, score 53.33: ref|YP_009555238.1| ORF1ab polyprotein [Human coronavirus OC43]\n",
      "length 160, score 53.33: ref|YP_009824978.1| ORF1ab polyprotein [Murine hepatitis virus]\n",
      "length 160, score 53.33: ref|YP_009113022.1| ORF1ab polyprotein [Betacoronavirus HKU24]\n",
      "length 160, score 53.33: ref|YP_009944267.1| ORF1a polyprotein [Betacoronavirus HKU24]\n",
      "length 157, score 52.51: ref|YP_009944365.1| ORF1a polyprotein [SARS coronavirus Tor2]\n",
      "length 157, score 52.51: ref|NP_828849.7| ORF1ab polyprotein [SARS coronavirus Tor2]\n",
      "length 157, score 52.51: ref|YP_010229071.1| ORF1a polyprotein [Bat coronavirus BM48-31/BGR/2008]\n",
      "length 157, score 52.51: ref|YP_003858583.1| ORF1ab polyprotein [Bat coronavirus BM48-31/BGR/2008]\n",
      "length 154, score 51.51: ref|YP_009725295.1| ORF1a polyprotein [Severe acute respiratory syndrome coronavirus 2]\n",
      "length 154, score 51.51: ref|YP_009724389.1| ORF1ab polyprotein [Severe acute respiratory syndrome coronavirus 2]\n",
      "\n",
      "\n",
      "query: SARS-CoV-2 MPro\n",
      "length 300, score 100.0: ref|YP_009725295.1| ORF1a polyprotein [Severe acute respiratory syndrome coronavirus 2]\n",
      "length 300, score 100.0: ref|YP_009724389.1| ORF1ab polyprotein [Severe acute respiratory syndrome coronavirus 2]\n",
      "length 300, score 100.0: ref|YP_009725301.1| 3C-like proteinase [Severe acute respiratory syndrome coronavirus 2] >ref|YP_009742612.1| 3C-like proteinase [Severe acute respiratory syndrome coronavirus 2]\n",
      "length 288, score 96.0: ref|YP_009944365.1| ORF1a polyprotein [SARS coronavirus Tor2]\n",
      "length 288, score 96.0: ref|NP_828849.7| ORF1ab polyprotein [SARS coronavirus Tor2]\n",
      "length 288, score 96.0: ref|NP_828863.1| nsp5 [SARS coronavirus Tor2] >ref|YP_009944370.1| nsp5 [SARS coronavirus Tor2]\n",
      "length 282, score 94.0: ref|YP_010229071.1| ORF1a polyprotein [Bat coronavirus BM48-31/BGR/2008]\n",
      "length 282, score 94.0: ref|YP_003858583.1| ORF1ab polyprotein [Bat coronavirus BM48-31/BGR/2008]\n",
      "length 205, score 68.33: ref|YP_009915659.1| ORF1a polyprotein [Bat Hp-betacoronavirus/Zhejiang2013]\n",
      "length 205, score 68.33: ref|YP_009072438.1| ORF1ab polyprotein [Bat Hp-betacoronavirus/Zhejiang2013]\n",
      "length 156, score 52.17: ref|YP_009924387.1| nsp5 [Rousettus bat coronavirus HKU9]\n",
      "length 154, score 51.51: ref|YP_009047217.1| nsp5 protein [Middle East respiratory syndrome-related coronavirus] >ref|YP_009047233.1| nsp5 protein [Middle East respiratory syndrome-related coronavirus] >ref|YP_009944285.1| nsp5 [Betacoronavirus England 1] >ref|YP_009944296.1| nsp5 [Betacoronavirus England 1]\n",
      "length 156, score 52.17: ref|YP_009273004.1| ORF1ab polyprotein [Rousettus bat coronavirus]\n",
      "length 156, score 52.17: ref|YP_009944377.1| ORF1a polyprotein [Rousettus bat coronavirus HKU9]\n",
      "length 158, score 53.02: ref|YP_009824988.1| ORF1a polyprotein [Bat coronavirus]\n",
      "length 156, score 52.17: ref|YP_001039970.1| orf1ab polyprotein [Rousettus bat coronavirus HKU9]\n",
      "length 158, score 53.02: ref|YP_009824989.2| ORF1ab polyprotein [Bat coronavirus]\n",
      "length 152, score 50.84: ref|YP_009944343.1| nsp5 [Pipistrellus bat coronavirus HKU5] >ref|YP_009944358.1| nsp5 [Pipistrellus bat coronavirus HKU5]\n",
      "length 151, score 50.5: ref|YP_009944314.1| nsp5 [Tylonycteris bat coronavirus HKU4] >ref|YP_009944329.1| nsp5 [Tylonycteris bat coronavirus HKU4]\n",
      "length 152, score 50.84: ref|YP_009915677.1| nsp5 [Murine hepatitis virus] >ref|YP_009915692.1| nsp5 [Murine hepatitis virus] >ref|YP_009924335.1| nsp5 [Murine hepatitis virus] >ref|YP_009924346.1| nsp5 [Murine hepatitis virus]\n",
      "length 152, score 50.84: ref|YP_009924361.1| nsp5 [Rat coronavirus Parker] >ref|YP_009924372.1| nsp5 [Rat coronavirus Parker]\n",
      "length 145, score 48.49: ref|YP_009924413.1| nsp5 [Rabbit coronavirus HKU14] >ref|YP_009944258.1| nsp5 [Rabbit coronavirus HKU14]\n",
      "length 151, score 50.5: ref|YP_209248.1| nsp5 or 3CLpro [Murine hepatitis virus strain JHM]\n",
      "length 147, score 49.16: ref|YP_009944273.1| nsp5 [Human coronavirus HKU1] >ref|YP_459936.1| nsp5 [Human coronavirus HKU1]\n",
      "length 145, score 48.49: ref|YP_009555250.1| nsp2 [Human coronavirus OC43] >ref|YP_009924323.1| nsp5 [Human coronavirus OC43]\n",
      "length 154, score 51.51: ref|YP_009047203.1| 1A polyprotein [Middle East respiratory syndrome-related coronavirus]\n",
      "length 154, score 51.51: ref|YP_007188578.1| ORF1a polyprotein [Betacoronavirus England 1]\n",
      "length 154, score 51.51: ref|YP_009047202.1| 1AB polyprotein [Middle East respiratory syndrome-related coronavirus]\n",
      "length 154, score 51.51: ref|YP_007188577.3| ORF1ab polyprotein [Betacoronavirus England 1]\n",
      "length 150, score 50.17: ref|YP_009361855.1| ORF1a polyprotein [Bat coronavirus]\n",
      "length 155, score 51.84: ref|YP_009513009.1| ORF1a polyprotein [Betacoronavirus Erinaceus/VMC/DEU/2012]\n",
      "length 150, score 50.17: ref|YP_009361856.2| ORF1ab polyprotein [Bat coronavirus]\n",
      "length 155, score 51.84: ref|YP_009513008.1| ORF1ab polyprotein [Betacoronavirus Erinaceus/VMC/DEU/2012]\n",
      "length 152, score 50.84: ref|YP_009944265.1| ORF1a polyprotein [Rodent coronavirus]\n",
      "length 152, score 50.84: ref|YP_009755832.1| ORF1ab polyprotein [Rodent coronavirus]\n",
      "length 152, score 50.84: ref|YP_009944337.1| ORF1a polyprotein [Pipistrellus bat coronavirus HKU5]\n",
      "length 152, score 50.84: ref|YP_001039961.1| ORF1ab polyprotein [Pipistrellus bat coronavirus HKU5]\n",
      "length 152, score 50.84: ref|NP_045298.1| ORF1a polyprotein [Murine hepatitis virus]\n",
      "length 152, score 50.84: ref|YP_009824979.1| ORF1a polyprotein [Murine hepatitis virus]\n",
      "length 151, score 50.5: ref|YP_009944308.1| ORF1a polyprotein [Tylonycteris bat coronavirus HKU4]\n",
      "length 152, score 50.84: ref|YP_009824978.1| ORF1ab polyprotein [Murine hepatitis virus]\n",
      "length 152, score 50.84: ref|NP_045299.2| ORF1ab polyprotein [Murine hepatitis virus]\n",
      "length 151, score 50.5: ref|YP_001039952.1| ORF1ab polyprotein [Tylonycteris bat coronavirus HKU4]\n",
      "length 152, score 50.84: ref|YP_003029845.1| ORF1a polyprotein [Rat coronavirus Parker]\n",
      "length 152, score 50.84: ref|YP_003029844.1| ORF1ab polyprotein [Rat coronavirus Parker]\n",
      "length 145, score 48.49: ref|YP_009944253.1| ORF1a polyprotein [Rabbit coronavirus HKU14]\n",
      "length 145, score 48.49: ref|YP_005454239.1| ORF1ab polyprotein [Rabbit coronavirus HKU14]\n",
      "length 151, score 50.5: ref|YP_209230.1| ORF1a polyprotein [Murine hepatitis virus strain JHM]\n",
      "length 151, score 50.5: ref|YP_209229.2| ORF1ab polyprotein [Murine hepatitis virus strain JHM]\n",
      "length 148, score 49.5: ref|YP_009944267.1| ORF1a polyprotein [Betacoronavirus HKU24]\n"
     ]
    }
   ],
   "source": [
    "# Calculate homologous sequences (this takes some time)\n",
    "# matches_seq, matches_id = get_blast_seqs('covid.aln', input_type=\"fasta\", save_file=\"results.xml\", nalign=500, database=\"refseq_protein\")\n",
    "\n",
    "# Retrieve pre-computed file\n",
    "matches_seq, matches_id, scores = get_blast_seqs(\"results.xml\", input_type=\"pre-calc\")"
   ]
  },
  {
   "cell_type": "markdown",
   "metadata": {},
   "source": [
    "Select sequences to visualize from a checklist with BLAST results (example for MERS-CoV)"
   ]
  },
  {
   "cell_type": "code",
   "execution_count": 9,
   "metadata": {},
   "outputs": [
    {
     "name": "stdout",
     "output_type": "stream",
     "text": [
      "Choose which proteins you want to compare with the REF: \n",
      "\n"
     ]
    },
    {
     "data": {
      "application/vnd.jupyter.widget-view+json": {
       "model_id": "363e444fa386431a8aee6ed92a2a2ab0",
       "version_major": 2,
       "version_minor": 0
      },
      "text/plain": [
       "Box(children=(Checkbox(value=False, description='ORF1a polyprotein [Betacoronavirus England 1]', layout=Layout…"
      ]
     },
     "metadata": {},
     "output_type": "display_data"
    }
   ],
   "source": [
    "\n",
    "from ipywidgets import Layout, Checkbox, Box\n",
    "\n",
    "items_layout = Layout(flex='1 1 auto',\n",
    "                      width='auto')    \n",
    "\n",
    "box_layout = Layout(display='flex',\n",
    "                    flex_flow='column',\n",
    "                    align_items='stretch',\n",
    "                    border='',\n",
    "                    width='80%')\n",
    "\n",
    "data = [(' '.join(matches_id[0][s].split(' ')[1:])) for s in range(len(matches_id[0]))]\n",
    "ref_nums = [(''.join(matches_id[0][s].split(' ')[0])) for s in range(len(matches_id[0]))]\n",
    "items = [Checkbox(description=w, layout=items_layout) for w in data]\n",
    "output = Box(children=items, layout=box_layout)\n",
    "print(\"Choose which proteins you want to compare with the REF: \\n\")\n",
    "display(output)"
   ]
  },
  {
   "cell_type": "markdown",
   "metadata": {},
   "source": [
    "Comparing the chosen sequences"
   ]
  },
  {
   "cell_type": "code",
   "execution_count": 144,
   "metadata": {},
   "outputs": [
    {
     "name": "stderr",
     "output_type": "stream",
     "text": [
      "nthread = 0\n",
      "nthreadpair = 0\n",
      "nthreadtb = 0\n",
      "ppenalty_ex = 0\n",
      "stacksize: 8176 kb\n",
      "rescale = 1\n",
      "Gap Penalty = -1.53, +0.00, +0.00\n",
      "\n",
      "\n",
      "\n",
      "Making a distance matrix ..\n",
      "    1 / 6\n",
      "done.\n",
      "\n",
      "Constructing a UPGMA tree (efffree=0) ... \n",
      "    0 / 6\n",
      "done.\n",
      "\n",
      "Progressive alignment 1/2... \n",
      "STEP     5 / 5 \n",
      "done.\n",
      "\n",
      "Making a distance matrix from msa.. \n",
      "    0 / 6\n",
      "done.\n",
      "\n",
      "Constructing a UPGMA tree (efffree=1) ... \n",
      "    0 / 6\n",
      "done.\n",
      "\n",
      "Progressive alignment 2/2... \n",
      "STEP     5 / 5 \n",
      "done.\n",
      "\n",
      "disttbfast (aa) Version 7.490\n",
      "alg=A, model=BLOSUM62, 1.53, -0.00, -0.00, noshift, amax=0.0\n",
      "0 thread(s)\n",
      "\n",
      "\n",
      "Strategy:\n",
      " FFT-NS-2 (Fast but rough)\n",
      " Progressive method (guide trees were built 2 times.)\n",
      "\n",
      "If unsure which option to use, try 'mafft --auto input > output'.\n",
      "For more information, see 'mafft --help', 'mafft --man' and the mafft page.\n",
      "\n",
      "The default gap scoring scheme has been changed in version 7.110 (2013 Oct).\n",
      "It tends to insert more gaps into gap-rich regions than previous versions.\n",
      "To disable this change, add the --leavegappyregion option.\n",
      "\n"
     ]
    }
   ],
   "source": [
    "# Add selected sequences to array\n",
    "selected_labels = [ref_nums[0]]#['REF']\n",
    "selected_description= [items[0].description]\n",
    "selected_seqs = [matches_seq[0][0]]\n",
    "\n",
    "for i in range(0, len(items)):\n",
    "    if items[i].value == True:\n",
    "        selected_seqs.append(matches_seq[0][i])\n",
    "        selected_labels.append(ref_nums[i])\n",
    "        selected_description.append(items[i].description)\n",
    "records = []\n",
    "for r in range(len(selected_labels)):\n",
    "    rec = SeqRecord(Seq(selected_seqs[r]), id=selected_labels[r],  description=selected_description[r])\n",
    "    records.append(rec)\n",
    "\n",
    "# Run alignment with MAFFT\n",
    "input_file = \"covid_BLAST.aln\"\n",
    "out_file = \"output.fasta\"\n",
    "SeqIO.write(records, input_file, \"fasta\")\n",
    "cmd = f\"mafft {input_file} > {out_file}\"\n",
    "subprocess.run(cmd, shell=True)\n",
    "\n",
    "align = AlignIO.read(out_file, \"fasta\")\n",
    "\n",
    "# Generate output file without gaps for later steps\n",
    "clean_output = process_align_data(out_file, \"blast_selection.fasta\")"
   ]
  },
  {
   "cell_type": "code",
   "execution_count": 145,
   "metadata": {},
   "outputs": [
    {
     "name": "stderr",
     "output_type": "stream",
     "text": [
      "ERROR:bokeh.core.validation.check:E-1001 (BAD_COLUMN_NAME): Glyph refers to nonexistent column name. This could either be due to a misspelling or typo, or due to an expected column being missing. : text_font='monospace' [no close matches] {renderer: GlyphRenderer(id='1696524c-34c1-4e13-8ed3-a27f1aa3a3d8', ...)}\n"
     ]
    },
    {
     "name": "stdout",
     "output_type": "stream",
     "text": [
      "Aligning 6 sequences of lenght 305\n"
     ]
    }
   ],
   "source": [
    "p = view_alignment_bokeh(align, plot_width=1500, file_name='alignment_blast') "
   ]
  },
  {
   "cell_type": "markdown",
   "metadata": {},
   "source": [
    "Retrieve PDB for chosen sequences using prody"
   ]
  },
  {
   "cell_type": "code",
   "execution_count": 162,
   "metadata": {},
   "outputs": [],
   "source": [
    "\n",
    "def retrieve_pdb_prody(seq, label, pre_gen=False, min_id_match=99):\n",
    "    ''' Retrieve the PDB record of a given sequence'''\n",
    "    from pathlib import Path\n",
    "    import pickle\n",
    "    import prody\n",
    "\n",
    "    folder_for_bkps = \"pdb_search_bkp/\"\n",
    "    Path(folder_for_bkps).mkdir(parents=True, exist_ok=True)\n",
    "    record_name = f\"{folder_for_bkps}{label}_blast_record.pkl\"\n",
    "\n",
    "    if pre_gen: # the search was done before \n",
    "        # Check if the file exists\n",
    "        record_path = Path(record_name)\n",
    "        if not record_path.exists():\n",
    "            raise ValueError(\"pre_gen was set to True but the file does not exist. Set to False to generate the record\")\n",
    "    else:\n",
    "        # Find pdb matching given sequence\n",
    "        blast_record = prody.blastPDB(seq, filename=folder_for_bkps + \"test\")\n",
    "        print(\"saving in \", record_name)\n",
    "        # Save data on pkl file\n",
    "        pickle.dump(blast_record, open(record_name, 'wb'))\n",
    "\n",
    "    # Load pickle data \n",
    "    blast_record = pickle.load(open(record_name, 'rb'))\n",
    "    best = blast_record.getBest()\n",
    "    print(f\"The best match is '{best['pdb_id']}' with a match of {best['percent_identity']}%\")\n",
    "    hits = blast_record.getHits(percent_identity=min_id_match, percent_overlap=90)\n",
    "    \n",
    "    if len(hits) == 0: # The record doesn't have a PDB with high confidence\n",
    "        filename = get_seq_alphafold(seq)\n",
    "    else:\n",
    "        # Return the pdb entry with the max alignment and max resolution (if there are multiple matches)\n",
    "        best_pdb_record = choose_best_pdb_entry(hits, best['percent_identity'])\n",
    "        filename = prody.fetchPDB(best_pdb_record, folder=folder_for_bkps)\n",
    "        subprocess.run([\"gunzip\", filename])\n",
    "    return filename\n",
    "\n",
    "def get_seq_alphafold(seq, seq_name, file_dir):\n",
    "    ''' Generate alphafold structure of a given sequence'''\n",
    "    print(\"Alphafold has not been implemented\")\n",
    "\n",
    "    # Write CSV file for the sequence\n",
    "    import csv\n",
    "    csv_file_name = file_dir + \"mers_input.csv\"\n",
    "    with open(csv_file_name, \"w\", newline=\"\") as csvfile:\n",
    "        writer = csv.writer(csvfile)\n",
    "        # Write the header\n",
    "        writer.writerow([\"id\", \"sequence\"])\n",
    "        # Write the sequence\n",
    "        writer.writerow([seq_name + \"_{}\", seq])\n",
    "    \n",
    "        return csv_file_name\n",
    "\n",
    "import sys, requests\n",
    "\n",
    "def request_rcsb_pdbid(pdb_id):\n",
    "    \"\"\"\n",
    "    A function to request a protein entry from the UniProt API with a pdb ID\n",
    "    \"\"\"\n",
    "    requestURL = f\"https://data.rcsb.org/rest/v1/core/entry/{pdb_id}\"\n",
    "    r = requests.get(requestURL, headers={ \"Accept\" : \"application/json\"})\n",
    "    if not r.ok:\n",
    "        r.raise_for_status()\n",
    "        sys.exit()\n",
    "    return r.json()\n",
    "\n",
    "\n",
    "def check_resolution(pdb_id):\n",
    "    fjson = request_rcsb_pdbid(pdb_id)\n",
    "    return fjson['rcsb_entry_info']['resolution_combined'][0]\n",
    "\n",
    "def choose_best_pdb_entry(hits, best_match_percent):\n",
    "    ''' If a sequence have different PDB files all with the same alignment match, we choose and retrieve the one with the highest resolution'''\n",
    "    max_res = 10 # some unrealistically large number?\n",
    "    best_pdb_record = \"\"\n",
    "    for h in hits:\n",
    "        id_match = hits[h]['percent_identity']\n",
    "        if id_match == best_match_percent: \n",
    "            res = check_resolution(h)\n",
    "            if res < max_res:\n",
    "                best_pdb_record = h\n",
    "                max_res = res\n",
    "        else: # We're only interested in the entries with the max possible alignment\n",
    "            break\n",
    "    print(f\"The best PDB entry is {best_pdb_record}, with match {best_match_percent}% and res {max_res}A\")\n",
    "    return best_pdb_record"
   ]
  },
  {
   "cell_type": "markdown",
   "metadata": {},
   "source": [
    "Using ProDy to find and retrieve best PDBs.  \n",
    "**NOTE:** This implementation should technically work, but for some reason, the Blast queries ProDy is doing take a long time to run and the search times-out. It's commented for now.   \n",
    "I'm temporarily (*or not?*) building a solution based on the BLAST function I wrote above."
   ]
  },
  {
   "cell_type": "code",
   "execution_count": 147,
   "metadata": {},
   "outputs": [
    {
     "data": {
      "text/plain": [
       "'\\nfor rec in align:\\n    raw_label = (rec.id).split(\\'|\\')\\n    \\n    label = raw_label[0]\\n    if len(raw_label) > 1:\\n        label_name = raw_label[1].split(\\'.\\')[0]\\n        label_chain = raw_label[1].split(\\'.\\')[-1]\\n        label = f\"{label_name}_{label_chain}\"\\n    seq = str(rec.seq).replace(\\'-\\',\\'\\')\\n    print(\"Retrieving best pdb match for \", label_name, seq)\\n    retrieve_pdb_prody(seq, label, pre_gen=False, min_id_match=99)\\n'"
      ]
     },
     "execution_count": 147,
     "metadata": {},
     "output_type": "execute_result"
    }
   ],
   "source": [
    "'''\n",
    "for rec in align:\n",
    "    raw_label = (rec.id).split('|')\n",
    "    \n",
    "    label = raw_label[0]\n",
    "    if len(raw_label) > 1:\n",
    "        label_name = raw_label[1].split('.')[0]\n",
    "        label_chain = raw_label[1].split('.')[-1]\n",
    "        label = f\"{label_name}_{label_chain}\"\n",
    "    seq = str(rec.seq).replace('-','')\n",
    "    print(\"Retrieving best pdb match for \", label_name, seq)\n",
    "    retrieve_pdb_prody(seq, label, pre_gen=False, min_id_match=99)\n",
    "'''"
   ]
  },
  {
   "cell_type": "markdown",
   "metadata": {},
   "source": [
    "Manual implementation of PDB search because ProDy has problems with retrieving data. Only `retrieve_pdb_prody` is modified, the other functions above are still used.  \n",
    "**NOTE** I'm still using ProDy to retrieve PDB files (`prody.fetchPDB`). If we're keeping this solution, it may be worth it to implement that by hand too (to minimize unnecessary package imports)"
   ]
  },
  {
   "cell_type": "code",
   "execution_count": 138,
   "metadata": {},
   "outputs": [],
   "source": [
    "class pdb_record():\n",
    "    def __init__(self, label:str, query_seq:str, description:str) -> None:\n",
    "        self.label = label\n",
    "        self.description = description\n",
    "        self.seq = query_seq\n",
    "\n",
    "\n",
    "def retrieve_pdb_temp(seq_file, blast_file=\"results.xml\", pre_gen=False, min_id_match=99, pdb_folder=\"pdb_search_bkp/\"):\n",
    "    ''' Retrieve the PDB record of a given sequence. Temp solution to prody'''\n",
    "    from pathlib import Path\n",
    "    import prody\n",
    "\n",
    "    folder_for_bkps = pdb_folder\n",
    "    Path(folder_for_bkps).mkdir(parents=True, exist_ok=True)\n",
    "    record_name = f\"{folder_for_bkps}{blast_file}\"\n",
    "\n",
    "    if pre_gen: # the search was done before \n",
    "        # Check if the file exists\n",
    "        record_path = Path(record_name)\n",
    "        if not record_path.exists():\n",
    "            raise ValueError(\"pre_gen was set to True but the file does not exist. Set to False to generate the record\")\n",
    "    else:\n",
    "        # Find pdb matching given sequence\n",
    "        matches_seq, matches_id, scores = get_blast_seqs(seq_file, input_type=\"fasta\", save_file=record_name, nalign=500, database=\"pdb\", verbose=False)\n",
    "        print(\"saving in \", record_name)\n",
    "\n",
    "    # Load original sequence names and descriptors for reference\n",
    "    pdb_file_record = []\n",
    "    for seq_record in SeqIO.parse(seq_file, \"fasta\"):\n",
    "        seq_id = seq_record.id\n",
    "        seq_description = seq_record.description\n",
    "        pdb_file_record.append(pdb_record(seq_id, seq_record.seq, seq_description))\n",
    "\n",
    "    # Load data \n",
    "    matches_seq, matches_id, scores = get_blast_seqs(record_name, input_type=\"pre-calc\", verbose=False)\n",
    "    # best_ids = matches_id[:,0]\n",
    "    best_scores = [max(s) for s in scores]\n",
    "    # print(f\"The best matches are '{best_ids}' with scores {best_scores}\")\n",
    "    \n",
    "    match_hits = parse_pdb_blast_results(matches_seq, matches_id, scores, min_score=min_id_match)\n",
    "\n",
    "    \n",
    "    for i, hits in enumerate(match_hits):\n",
    "        if len(hits) == 0: # The record doesn't have a PDB with high confidence\n",
    "            filename = get_seq_alphafold(hits)\n",
    "            get_seq_alphafold(pdb_file_record[i].seq, 'some_seq', folder_for_bkps)\n",
    "            pdb_file_record[i].pdb_file = filename\n",
    "            pdb_file_record[i].pdb_id = None\n",
    "            \n",
    "        else:\n",
    "            # Return the pdb entry with the max alignment and max resolution (if there are multiple matches)\n",
    "            best_pdb_record = choose_best_pdb_entry(hits, best_scores[i])\n",
    "            filename = prody.fetchPDB(best_pdb_record, folder=folder_for_bkps)\n",
    "            subprocess.run([\"gunzip\", filename])\n",
    "            pdb_file_record[i].pdb_file = filename\n",
    "            pdb_file_record[i].pdb_id = best_pdb_record\n",
    "\n",
    "    return pdb_file_record\n",
    "\n",
    "\n",
    "def parse_pdb_blast_results(blast_seq, blast_ids, blast_scores, min_score):\n",
    "    ''' For a pdb database searchm extract pdb ids with a minimum score (Temp fix to prody).\n",
    "        Outputs are lists because iterables are needed for functions down the pipeline.\n",
    "    '''\n",
    "\n",
    "    assert len(blast_ids) == len(blast_scores) == len(blast_seq)\n",
    "\n",
    "    match_hits = []\n",
    "    for q in range(len(blast_ids)): # Loop over queries\n",
    "        hits = {}\n",
    "        for e in range(len(blast_ids[q])): # Loop over BLAST entries\n",
    "            if blast_scores[q][e] >= min_score:\n",
    "                raw_id = blast_ids[q][e].split(' ')\n",
    "                pdb_id = raw_id[0].split('|')[1].lower()\n",
    "                hits[pdb_id] = {}\n",
    "                hits[pdb_id]['percent_identity'] = blast_scores[q][e]\n",
    "                hits[pdb_id]['sequence'] = blast_seq[q][e]\n",
    "\n",
    "        match_hits.append(hits)\n",
    "\n",
    "    return match_hits"
   ]
  },
  {
   "cell_type": "markdown",
   "metadata": {},
   "source": [
    "The best PDB entry (if any) for each alignment sequence is saved on the provided `pdb_folder`."
   ]
  },
  {
   "cell_type": "code",
   "execution_count": 148,
   "metadata": {},
   "outputs": [
    {
     "name": "stderr",
     "output_type": "stream",
     "text": [
      "@> PDB file is found in working directory (pdb_search_bkp/7xry.pdb).\n"
     ]
    },
    {
     "name": "stdout",
     "output_type": "stream",
     "text": [
      "The best PDB entry is 7xry, with match 100.0% and res 1.99A\n"
     ]
    },
    {
     "name": "stderr",
     "output_type": "stream",
     "text": [
      "gunzip: pdb_search_bkp/7xry.pdb: unknown suffix -- ignored\n",
      "@> PDB file is found in working directory (pdb_search_bkp/6xhl.pdb).\n"
     ]
    },
    {
     "name": "stdout",
     "output_type": "stream",
     "text": [
      "The best PDB entry is 6xhl, with match 100.0% and res 1.471A\n"
     ]
    },
    {
     "name": "stderr",
     "output_type": "stream",
     "text": [
      "gunzip: pdb_search_bkp/6xhl.pdb: unknown suffix -- ignored\n",
      "@> PDB file is found in working directory (pdb_search_bkp/6xhl.pdb).\n"
     ]
    },
    {
     "name": "stdout",
     "output_type": "stream",
     "text": [
      "The best PDB entry is 6xhl, with match 100.0% and res 1.471A\n"
     ]
    },
    {
     "name": "stderr",
     "output_type": "stream",
     "text": [
      "gunzip: pdb_search_bkp/6xhl.pdb: unknown suffix -- ignored\n",
      "@> PDB file is found in working directory (pdb_search_bkp/6xhl.pdb).\n"
     ]
    },
    {
     "name": "stdout",
     "output_type": "stream",
     "text": [
      "The best PDB entry is 6xhl, with match 100.0% and res 1.471A\n"
     ]
    },
    {
     "name": "stderr",
     "output_type": "stream",
     "text": [
      "gunzip: pdb_search_bkp/6xhl.pdb: unknown suffix -- ignored\n",
      "@> PDB file is found in working directory (pdb_search_bkp/7wqb.pdb).\n"
     ]
    },
    {
     "name": "stdout",
     "output_type": "stream",
     "text": [
      "The best PDB entry is 7wqb, with match 100.0% and res 1.87A\n"
     ]
    },
    {
     "name": "stderr",
     "output_type": "stream",
     "text": [
      "gunzip: pdb_search_bkp/7wqb.pdb: unknown suffix -- ignored\n",
      "@> PDB file is found in working directory (pdb_search_bkp/3f9f.pdb).\n"
     ]
    },
    {
     "name": "stdout",
     "output_type": "stream",
     "text": [
      "The best PDB entry is 3f9f, with match 100.0% and res 2.3A\n"
     ]
    },
    {
     "name": "stderr",
     "output_type": "stream",
     "text": [
      "gunzip: pdb_search_bkp/3f9f.pdb: unknown suffix -- ignored\n"
     ]
    }
   ],
   "source": [
    "pdb_file_record = retrieve_pdb_temp(clean_output, blast_file=\"results_pdb.xml\", pre_gen=True, min_id_match=99, pdb_folder=\"pdb_search_bkp/\")"
   ]
  },
  {
   "cell_type": "markdown",
   "metadata": {},
   "source": [
    "The sequence label and descriptor, query sequence, and pdb_id found in the database, are stored in the `pdb_record` class."
   ]
  },
  {
   "cell_type": "code",
   "execution_count": 159,
   "metadata": {},
   "outputs": [
    {
     "name": "stdout",
     "output_type": "stream",
     "text": [
      "For the sequence ref|YP_007188578.1|: SGLVKMSHPSGDVEACMVQV..., a PDB was found and save in pdb_search_bkp/7xry.pdb.\n",
      "For the sequence ref|YP_001039952.1|: SGFRKMAFPSGKVEGCMVQV..., a PDB was found and save in pdb_search_bkp/6xhl.pdb.\n",
      "For the sequence ref|YP_009944273.1|: SGFRKMAFPSGKVEGCMVQV..., a PDB was found and save in pdb_search_bkp/6xhl.pdb.\n",
      "For the sequence ref|YP_009555250.1|: SGFRKMAFPSGKVEGCMVQV..., a PDB was found and save in pdb_search_bkp/6xhl.pdb.\n",
      "For the sequence ref|NP_150074.1|: SGFRKMAFPSGKVEGCMVQV..., a PDB was found and save in pdb_search_bkp/7wqb.pdb.\n",
      "For the sequence ref|YP_009924317.1|: SGFRKMAFPSGKVEGCMVQV..., a PDB was found and save in pdb_search_bkp/3f9f.pdb.\n"
     ]
    }
   ],
   "source": [
    "for rec in pdb_file_record:\n",
    "    if rec.pdb_id:\n",
    "        print(f\"For the sequence {rec.label}: {rec.seq[:20]}..., a PDB was found and save in {rec.pdb_file}.\")\n",
    "    else:\n",
    "        print(f\"For the sequence {rec.label}: {rec.seq[:20]}..., no PDB entry was found.\")"
   ]
  },
  {
   "cell_type": "markdown",
   "metadata": {},
   "source": [
    "All of the sequences have crystal pdb entries, so I'm going to use run ColabFold with one of the sequences for testing.  \n",
    "Right now the `get_seq_alphafold` function only does generates the input csv file with the sequence, but will integrate with the lilac workflow later."
   ]
  },
  {
   "cell_type": "code",
   "execution_count": 164,
   "metadata": {},
   "outputs": [
    {
     "name": "stdout",
     "output_type": "stream",
     "text": [
      "Alphafold has not been implemented\n",
      "Copy the files pdb_search_bkp/mers_input.csv and pdb_search_bkp/6xhl.pdb to the ColabFold working directory\n"
     ]
    }
   ],
   "source": [
    "csv_file = get_seq_alphafold(pdb_file_record[1].seq, \"MERS_CoV\", \"pdb_search_bkp/\")\n",
    "print(f\"Copy the files {csv_file} and {pdb_file_record[1].pdb_file} to the ColabFold working directory\")\n"
   ]
  },
  {
   "cell_type": "markdown",
   "metadata": {},
   "source": []
  },
  {
   "cell_type": "markdown",
   "metadata": {},
   "source": [
    "## Implementation with Matplotlib (**Not optimized**)"
   ]
  },
  {
   "cell_type": "code",
   "execution_count": 24,
   "metadata": {},
   "outputs": [],
   "source": [
    "import matplotlib.pyplot as plt\n",
    "from matplotlib.patches import Rectangle\n",
    "from matplotlib.ticker import MaxNLocator"
   ]
  },
  {
   "cell_type": "markdown",
   "metadata": {},
   "source": [
    "Implementing a sequence reader class"
   ]
  },
  {
   "cell_type": "code",
   "execution_count": 25,
   "metadata": {},
   "outputs": [],
   "source": [
    "class Seq_reader():\n",
    "\n",
    "    def __init__(self, seq, format='list'):\n",
    "        \"\"\"Read the sequences for alignment as a file or list, and returns data\n",
    "\n",
    "        Args:\n",
    "            seq (str, list, numpy ndarray): The alignment sequences as a list of lists or tuples,\n",
    "                                            (seq id, seq)\n",
    "            format (str): Format of the input: {list, fasta}\n",
    "        \"\"\"\n",
    "\n",
    "        if format == 'list':\n",
    "            if isinstance(seq, list) or isinstance(seq, np.ndarray):\n",
    "                if len(seq[0])==2 and isinstance(seq[0][0], str):\n",
    "                    self.ids = [s[0] for s in seq]\n",
    "                    self.seqs = [s[1] for s in seq]\n",
    "                else: \n",
    "                    raise ValueError(\"The format of each sequence must be a list/tuple (seqID, seq)\")\n",
    "            else:\n",
    "                raise ValueError(\"Format 'list' only takes a list or np.ndarray, please specify the correct format\")\n",
    "        elif format == 'fasta':\n",
    "            if isinstance(seq, str):\n",
    "                self.seqs, self.ids = self.read_fasta(seq)\n",
    "            else:\n",
    "                raise ValueError(\"'fasta' format takes a sequence file, please specify the correct format\")\n",
    "\n",
    "        else:\n",
    "            raise NotImplementedError(\"Only list and fasta inputs are implemented...for now\")\n",
    "        \n",
    "    def read_fasta(self, file):\n",
    "        \"\"\"Read a valid fasta file\n",
    "\n",
    "        Args:\n",
    "            file (str): Fasta file\n",
    "        \"\"\"\n",
    "        seqs = []\n",
    "        ids = []\n",
    "        start = -1\n",
    "        with open(file, 'r') as f:\n",
    "            for i, line in enumerate(f):\n",
    "                if line[0] == \">\":\n",
    "                    start = i\n",
    "                    label = line[1:].split()\n",
    "                    ids.append(label[0])\n",
    "                if start>-1 and i==start+1:\n",
    "                    seqs.append(line.strip())\n",
    "        if start < 0:\n",
    "            raise RuntimeError(\"No sequences were read in the file. Make sure each label is initialized with '>'\")\n",
    "        else:\n",
    "            return seqs, ids \n",
    "    \n",
    "    def adjust_length(self):\n",
    "        \"\"\"If the sequences have different length, pads on the right the missing sequences\n",
    "\n",
    "        Returns:\n",
    "            list: Adjusted strings\n",
    "        \"\"\"\n",
    "        # Get the length of the longest seq string\n",
    "        longest =  max(len(s) for s in self.seqs)\n",
    "\n",
    "        # Adjust all strings to have the same length\n",
    "        adjusted_strings = [s.ljust(longest, '-') for s in self.seqs]\n",
    "        self.seqs = adjusted_strings\n",
    "        return "
   ]
  },
  {
   "cell_type": "code",
   "execution_count": 26,
   "metadata": {},
   "outputs": [],
   "source": [
    "def view_alignment(seq, fontsize=9, plot_height=1, plot_width=10, img_file=\"alignment.png\"):\n",
    "    \"\"\"Implementation of alignment function, that returns a png with the alignment view\n",
    "\n",
    "    Args:\n",
    "        seq (Seq_reader): Object with sequences info\n",
    "        fontsize (int, optional): Printing font of aminoacids. Defaults to 9.\n",
    "        plot_height (int, optional): Plot height. Defaults to 1.\n",
    "        plot_width (int, optional): Plot width. Defaults to 10.\n",
    "        img_file (str, optional): Name of the image file with the final alignment.\n",
    "\n",
    "    Returns:\n",
    "        fig, ax1, ax2\n",
    "    \"\"\"\n",
    "    seqs = seq.seqs # Each sequence input\n",
    "    ids = seq.ids # Each entry ID\n",
    "    text = [i for s in list(seqs) for i in s] #Al units joined on same list\n",
    "    # List with ALL colors\n",
    "    colors = get_colors_protein(seqs)    \n",
    "    N = len(seqs[0]) \n",
    "    S = len(seqs)    \n",
    "    print(f'Aligning {S} sequences of lenght {N}')\n",
    "    x = np.arange(1,N+1)\n",
    "    y = np.arange(0,S,1)\n",
    "    #creates a 2D grid of coords from the 1D arrays\n",
    "    xx, yy = np.meshgrid(x, y)\n",
    "    #flattens the arrays\n",
    "    gx = xx.ravel()\n",
    "    gy = yy.flatten()\n",
    "    # Rectangles have to be defined at an offset\n",
    "    rectx = gx - 0.5\n",
    "    recty = gy - 0.5 \n",
    "    # Heigth and width\n",
    "    w = 1\n",
    "    h = 1\n",
    "    rectangles = [(x, y, facecolor, id) for x, y, facecolor, id in zip(rectx, recty, colors, text)]\n",
    "\n",
    "    # Defining the plot\n",
    "    fig, (ax1, ax2) = plt.subplots(2, 1, figsize=(plot_width, plot_height))\n",
    "\n",
    "    # Top plot (label-less)\n",
    "    ax1.plot([rectx[0], N+1],[recty[0], recty[-1]], lw=0)\n",
    "    for x, y, facecolor, id in rectangles:\n",
    "        rect = Rectangle((x, y), w, h, facecolor=facecolor,\n",
    "                         edgecolor='black', fill=True, lw=0.0, alpha=0.6)\n",
    "        ax1.add_patch(rect)\n",
    "    ax1.set_yticks([])   \n",
    "    ax1.spines['top'].set_visible(False)\n",
    "    ax1.spines['bottom'].set_visible(True)\n",
    "    ax1.spines['right'].set_visible(False)\n",
    "    ax1.set_xlim(rectx[0], rectx[-1]+1)\n",
    "    # ax1.set_xticks(range(0,N+1)) \n",
    "    # ax1.xaxis.set_major_locator(MaxNLocator(integer=True))\n",
    "    \n",
    "    # Bottom plot\n",
    "    #### Current problem: The range of the bottom plot is changed to show the first 100 aa's\n",
    "    #### But the letters are still printed outside the plot...\n",
    "    if N > 100:\n",
    "        N = 100 # Zoom the first 100 aa's\n",
    "    ax2.set(xlim=(rectx[0], N+0.5), ylim=(-0.5, S), autoscale_on=False)\n",
    "    ax2.plot([rectx[0], N+1],[recty[0], recty[-1]], lw=0)\n",
    "    # Adding rectagle to the axis one by one: O(n)\n",
    "    rectangles = [(x, y, facecolor, id) for x, y, facecolor, id in zip(rectx, recty, colors, text)]\n",
    "    \n",
    "    for x, y, facecolor, id in rectangles:\n",
    "        rect = Rectangle((x, y), w, h, facecolor=facecolor,\n",
    "                         edgecolor='black', fill=True, lw=0.1, alpha=0.6)\n",
    "        ax2.add_patch(rect)\n",
    "        # Adding the aminoacid identifier\n",
    "        ax2.text(x+0.5, y+0.5, id, fontsize=fontsize, ha='center', va='center')    \n",
    "        \n",
    "    ax2.set_yticks(range(0,S)) \n",
    "    ax2.set_yticklabels(ids)  \n",
    "    ax2.set_xticks(range(0,N+1)) \n",
    "    ax2.xaxis.set_major_locator(MaxNLocator(integer=True))\n",
    "    ax2.spines['top'].set_visible(False)\n",
    "    ax2.spines['right'].set_visible(False)\n",
    "    #ax2.set_xlim(rectx[0], N+0.5)\n",
    "    \n",
    "\n",
    "    fig.savefig(img_file)\n",
    "\n",
    "    return fig, ax1, ax2"
   ]
  },
  {
   "cell_type": "markdown",
   "metadata": {},
   "source": [
    "This version of the code corrects for sequences with different lengths by padding to the left"
   ]
  },
  {
   "cell_type": "code",
   "execution_count": 27,
   "metadata": {},
   "outputs": [
    {
     "name": "stdout",
     "output_type": "stream",
     "text": [
      "Aligning 2 sequences of lenght 301\n"
     ]
    },
    {
     "data": {
      "image/png": "[encoded data removed]",
      "text/plain": [
       "<Figure size 2000x100 with 2 Axes>"
      ]
     },
     "metadata": {},
     "output_type": "display_data"
    }
   ],
   "source": [
    "aln = Seq_reader('covid.aln','fasta')\n",
    "aln.adjust_length()\n",
    "fig, ax1, ax2 = view_alignment(aln, plot_height=1, plot_width=20, fontsize=5, img_file=\"CoV-Mpro_align.png\")\n",
    "plt.show()"
   ]
  },
  {
   "cell_type": "markdown",
   "metadata": {},
   "source": [
    "Using pairwise to print pair alignments for each sequence with the reference sequence. It is not clear to me whether the alignment should be local or global"
   ]
  },
  {
   "cell_type": "code",
   "execution_count": 463,
   "metadata": {},
   "outputs": [],
   "source": [
    "from Bio import pairwise2\n",
    "from Bio.pairwise2 import format_alignment\n",
    "import matplotlib.pyplot as plt\n",
    "from matplotlib.patches import Rectangle\n",
    "from matplotlib.ticker import MaxNLocator"
   ]
  },
  {
   "cell_type": "code",
   "execution_count": 464,
   "metadata": {},
   "outputs": [],
   "source": [
    "def align_to_ref(raw_seqs, ref, penalties=(2, -1, -2, -1)):\n",
    "    \"\"\"Use BioPython pairwise to locally align a list of sequences to a reference\n",
    "\n",
    "    Args:\n",
    "        raw_seqs (list):  A list of sequences to align to a reference (not necessaryly the same length)\n",
    "        ref (string): Sequence to use as reference\n",
    "        penalties (tuple, optional): Penalties associated to alignment (match, mismatch, gap, gap extension).\n",
    "\n",
    "    Returns:\n",
    "        (list, list, list): final seqs, scores, align objects\n",
    "    \"\"\"\n",
    "    m, mm, g, e = penalties\n",
    "    idx = raw_seqs.index(ref)\n",
    "    alns = []\n",
    "    for s in range(len(raw_seqs)):\n",
    "        if s != idx:\n",
    "            aln = pairwise2.align.localms(ref, raw_seqs[s], m, mm, g, e, one_alignment_only=True)\n",
    "            alns.append(aln)\n",
    "    final_seqs = []\n",
    "    scores = []\n",
    "    for i, aln in enumerate(alns):\n",
    "        a = aln[0] # Result with highest score\n",
    "        # print(format_alignment(*a, full_sequences=True))\n",
    "        # view_alignment(raw_seqs, ref)\n",
    "        seq = [a.seqA, a.seqB]\n",
    "        final_seqs.append(seq)\n",
    "        score = a.score\n",
    "        scores.append(score)\n",
    "        # print(i, seq, score)\n",
    "    \n",
    "    return final_seqs, scores, alns\n",
    "\n",
    "def make_eq_len(seq_pairs, ref, raw_seqs, raw_labels):\n",
    "    ''' Only works for small sequences'''\n",
    "\n",
    "    ref_seqs = [seq[0] for seq in seq_pairs]\n",
    "    comps = [seq[1] for seq in seq_pairs]\n",
    "\n",
    "    start_indices = []\n",
    "    end_indices = []\n",
    "\n",
    "    for seq in ref_seqs:\n",
    "        start_index = seq.find(ref)\n",
    "        if start_index != -1:\n",
    "            end_index = start_index + len(ref) - 1\n",
    "        else:\n",
    "            start_index = None\n",
    "            end_index = None\n",
    "        start_indices.append(start_index)\n",
    "        end_indices.append(end_index)\n",
    "\n",
    "\n",
    "    def pad(the_string, padl, padr, pad_char='-'):\n",
    "        return pad_char*padl + the_string + pad_char*padr\n",
    "\n",
    "    max_string = len(max(ref_seqs, key=len))\n",
    "    print(start_indices)\n",
    "    max_start = max(start_indices)\n",
    "    padded_strings = []\n",
    "    for i in range(len(ref_seqs)):\n",
    "        extral = max_start - start_indices[i]  \n",
    "        extrar = max_string - (len(comps[i]) + extral)\n",
    "        padded_st = pad(comps[i], extral, extrar, pad_char='-')\n",
    "        padded_ref = pad(ref_seqs[i], extral, extrar, pad_char='-')\n",
    "        padded_strings.append(padded_st)\n",
    "\n",
    "    # Correct ordering of labels\n",
    "    idx = raw_seqs.index(ref)\n",
    "    ref_name = raw_labels[idx]\n",
    "    reordered_labels = list(filter(lambda x: x != ref_name, raw_labels))\n",
    "\n",
    "    return [padded_ref] + padded_strings, ['REF ' + ref_name] + reordered_labels\n",
    "    "
   ]
  },
  {
   "cell_type": "markdown",
   "metadata": {},
   "source": [
    "Aligning and viewing test DNA sequences"
   ]
  },
  {
   "cell_type": "code",
   "execution_count": 474,
   "metadata": {},
   "outputs": [
    {
     "name": "stdout",
     "output_type": "stream",
     "text": [
      "[2, 0]\n",
      "Aligning 3 sequences of lenght 8\n"
     ]
    },
    {
     "data": {
      "image/png": "[encoded data removed]",
      "text/plain": [
       "<Figure size 1000x300 with 2 Axes>"
      ]
     },
     "metadata": {},
     "output_type": "display_data"
    }
   ],
   "source": [
    "raw_seqs = [\"ACCGT\", \"TTAGCGAG\", \"TAGT\"]\n",
    "ids = ['seqA', 'seqB', 'seqC']\n",
    "ref = \"ACCGT\"\n",
    "final_seqs, scores, alns = align_to_ref(raw_seqs, ref, penalties=(2, -1, -2, -1))\n",
    "\n",
    "new_seqs, new_ids = make_eq_len(final_seqs, ref, raw_seqs, ids)\n",
    "\n",
    " # Build seq object\n",
    "formatted_in = [(new_ids[i], new_seqs[i]) for i in range(len(new_seqs))]\n",
    "aln = Seq_reader(formatted_in, format='list')\n",
    "fig, ax1, ax2 = view_alignment(aln, plot_height=3, plot_width=10, fontsize=9, img_file=\"test.png\")\n",
    "plt.show()"
   ]
  },
  {
   "cell_type": "markdown",
   "metadata": {},
   "source": [
    "Aligning MERS-CoV BLAST matches "
   ]
  },
  {
   "cell_type": "code",
   "execution_count": null,
   "metadata": {},
   "outputs": [],
   "source": [
    "aln = Seq_reader('covid.aln','fasta')\n",
    "ref = aln.seqs[0]\n",
    "ref_label = \"MERS-CoV\"\n",
    "raw_seqs = matches_seq[0]\n",
    "labels = [' '.join(s.split(' ')[1:5]) for s in matches_id[0]]\n",
    "\n",
    "final_seqs, scores, alns = align_to_ref(raw_seqs, ref, penalties=(2, -1, -2, -1))\n",
    "#new_seqs, new_ids = make_eq_len(final_seqs, ref, raw_seqs, labels)\n",
    "\n",
    "# Build seq object\n",
    "for s in range(2,len(final_seqs)):\n",
    "    formatted_in = [(ref_label, final_seqs[s][0]), (labels[s], final_seqs[s][1])]\n",
    "    aln = Seq_reader(formatted_in, format='list')\n",
    "    fig, ax1, ax2 = view_alignment(aln, plot_height=3, plot_width=20, fontsize=9, img_file=\"mers.png\")\n",
    "    # plt.show()"
   ]
  }
 ],
 "metadata": {
  "kernelspec": {
   "display_name": "align",
   "language": "python",
   "name": "python3"
  },
  "language_info": {
   "codemirror_mode": {
    "name": "ipython",
    "version": 3
   },
   "file_extension": ".py",
   "mimetype": "text/x-python",
   "name": "python",
   "nbconvert_exporter": "python",
   "pygments_lexer": "ipython3",
   "version": "3.9.18"
  }
 },
 "nbformat": 4,
 "nbformat_minor": 2
}
