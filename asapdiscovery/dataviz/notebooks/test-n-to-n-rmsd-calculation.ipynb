{
 "cells": [
  {
   "cell_type": "markdown",
   "metadata": {
    "collapsed": true,
    "pycharm": {
     "is_executing": true
    }
   },
   "source": [
    "# Imports"
   ]
  },
  {
   "cell_type": "code",
   "execution_count": 1,
   "metadata": {},
   "outputs": [],
   "source": [
    "import mdtraj as md\n",
    "import numpy as np\n",
    "from datetime import datetime\n",
    "from tqdm import tqdm\n",
    "from pathlib import Path\n",
    "import yaml"
   ]
  },
  {
   "cell_type": "code",
   "execution_count": null,
   "metadata": {},
   "outputs": [],
   "source": []
  },
  {
   "cell_type": "code",
   "execution_count": null,
   "metadata": {},
   "outputs": [],
   "source": []
  },
  {
   "cell_type": "code",
   "execution_count": null,
   "metadata": {},
   "outputs": [],
   "source": []
  },
  {
   "cell_type": "markdown",
   "metadata": {},
   "source": [
    "## Paths"
   ]
  },
  {
   "cell_type": "code",
   "execution_count": 2,
   "metadata": {},
   "outputs": [],
   "source": [
    "idir = Path(\"/Users/alexpayne/lilac-mount-point/asap-datasets/current/sars_01_prepped_v3\")\n",
    "pdb_fn = Path(\"/Users/alexpayne/lilac-mount-point/asap-datasets/current/sars_01_prepped_v3/Mpro-x0072_0A_AAR-POS-d2a4d1df-1/Mpro-x0072_0A_AAR-POS-d2a4d1df-1_prepped_receptor_0.pdb\")\n",
    "pdb_fn2 = Path(\"/Users/alexpayne/lilac-mount-point/asap-datasets/current/sars_01_prepped_v3/Mpro-P0010_0A_PET-UNK-c9c1e0d8-4/Mpro-P0010_0A_PET-UNK-c9c1e0d8-4_prepped_receptor_0.pdb\")\n",
    "sars_selection_fn = Path(\"../../../metadata/sars2.yaml\")"
   ]
  },
  {
   "cell_type": "code",
   "execution_count": 3,
   "metadata": {},
   "outputs": [
    {
     "data": {
      "text/plain": [
       "True"
      ]
     },
     "execution_count": 3,
     "metadata": {},
     "output_type": "execute_result"
    }
   ],
   "source": [
    "pdb_fn.exists()"
   ]
  },
  {
   "cell_type": "code",
   "execution_count": 4,
   "metadata": {},
   "outputs": [
    {
     "data": {
      "text/plain": [
       "True"
      ]
     },
     "execution_count": 4,
     "metadata": {},
     "output_type": "execute_result"
    }
   ],
   "source": [
    "pdb_fn2.exists()"
   ]
  },
  {
   "cell_type": "markdown",
   "metadata": {},
   "source": [
    "## load files"
   ]
  },
  {
   "cell_type": "code",
   "execution_count": 5,
   "metadata": {},
   "outputs": [],
   "source": [
    "pdb1 = md.load(pdb_fn)"
   ]
  },
  {
   "cell_type": "code",
   "execution_count": 6,
   "metadata": {},
   "outputs": [],
   "source": [
    "pdb2 = md.load(pdb_fn2)"
   ]
  },
  {
   "cell_type": "code",
   "execution_count": 53,
   "metadata": {},
   "outputs": [],
   "source": [
    "with open(sars_selection_fn, 'r') as f:\n",
    "    sars_sel = yaml.safe_load(f)"
   ]
  },
  {
   "cell_type": "code",
   "execution_count": 54,
   "metadata": {},
   "outputs": [
    {
     "data": {
      "text/plain": [
       "{'ligand': 'resn LIG',\n",
       " 'P1': 'resi 140-145+163+172 and polymer.protein',\n",
       " 'P1_prime': 'resi 25-27 and polymer.protein',\n",
       " 'P2': 'resi 41+49+54 and polymer.protein',\n",
       " 'P3_4_5': 'resi 165-168+189-192 and polymer.protein',\n",
       " 'sars_unique': 'resi 25+49+142+164+168+169+181+186+188+190+191 and polymer.protein'}"
      ]
     },
     "execution_count": 54,
     "metadata": {},
     "output_type": "execute_result"
    }
   ],
   "source": [
    "sars_sel"
   ]
  },
  {
   "cell_type": "code",
   "execution_count": 68,
   "metadata": {},
   "outputs": [],
   "source": [
    "def pymol_to_mdtraj(pymol_string):\n",
    "    \"\"\"\n",
    "    Simple function to convert a pymol-like residue string into mdtraj-like\n",
    "    \"\"\"\n",
    "    x = pymol_string.replace('+', ' or residue ')\n",
    "    x = x.replace('-', ' to ')\n",
    "    x = x.replace('resi ', 'residue ')\n",
    "    x = x.replace(\"polymer.protein\", \"\")\n",
    "    return x"
   ]
  },
  {
   "cell_type": "code",
   "execution_count": 69,
   "metadata": {},
   "outputs": [
    {
     "name": "stdout",
     "output_type": "stream",
     "text": [
      "resn LIG\n",
      "residue 140 to 145 or residue 163 or residue 172 and \n",
      "residue 25 to 27 and \n",
      "residue 41 or residue 49 or residue 54 and \n",
      "residue 165 to 168 or residue 189 to 192 and \n",
      "residue 25 or residue 49 or residue 142 or residue 164 or residue 168 or residue 169 or residue 181 or residue 186 or residue 188 or residue 190 or residue 191 and \n"
     ]
    }
   ],
   "source": [
    "for selection in sars_sel.values():\n",
    "    print(pymol_to_mdtraj(selection))"
   ]
  },
  {
   "cell_type": "markdown",
   "metadata": {},
   "source": [
    "# Examine topology"
   ]
  },
  {
   "cell_type": "code",
   "execution_count": 20,
   "metadata": {},
   "outputs": [
    {
     "data": {
      "text/plain": [
       "<mdtraj.Topology with 4 chains, 1070 residues, 10783 atoms, 11349 bonds at 0x17e59f1c0>"
      ]
     },
     "execution_count": 20,
     "metadata": {},
     "output_type": "execute_result"
    }
   ],
   "source": [
    "pdb1.topology"
   ]
  },
  {
   "cell_type": "code",
   "execution_count": 22,
   "metadata": {},
   "outputs": [
    {
     "data": {
      "text/plain": [
       "<mdtraj.Topology with 4 chains, 937 residues, 10376 atoms, 10809 bonds at 0x17e0be6a0>"
      ]
     },
     "execution_count": 22,
     "metadata": {},
     "output_type": "execute_result"
    }
   ],
   "source": [
    "pdb2.topology"
   ]
  },
  {
   "cell_type": "code",
   "execution_count": 31,
   "metadata": {},
   "outputs": [
    {
     "data": {
      "text/plain": [
       "<mdtraj.Trajectory with 1 frames, 4682 atoms, 306 residues, without unitcells at 0x17df7ceb0>"
      ]
     },
     "execution_count": 31,
     "metadata": {},
     "output_type": "execute_result"
    }
   ],
   "source": [
    "pdb1.atom_slice(pdb1.topology.select(\"chainid 0\"))"
   ]
  },
  {
   "cell_type": "code",
   "execution_count": 29,
   "metadata": {},
   "outputs": [
    {
     "data": {
      "text/plain": [
       "<mdtraj.Topology with 4 chains, 937 residues, 10376 atoms, 10809 bonds at 0x17e0be6a0>"
      ]
     },
     "execution_count": 29,
     "metadata": {},
     "output_type": "execute_result"
    }
   ],
   "source": [
    "pdb2.topology.chain(1).topology"
   ]
  },
  {
   "cell_type": "code",
   "execution_count": 9,
   "metadata": {},
   "outputs": [],
   "source": [
    "def make_selection(t, string_):\n",
    "    print(t.atom_slice(t.topology.select(string_)))"
   ]
  },
  {
   "cell_type": "code",
   "execution_count": 42,
   "metadata": {},
   "outputs": [
    {
     "name": "stdout",
     "output_type": "stream",
     "text": [
      "<mdtraj.Trajectory with 1 frames, 4682 atoms, 306 residues, without unitcells>\n",
      "<mdtraj.Trajectory with 1 frames, 4684 atoms, 306 residues, without unitcells>\n"
     ]
    }
   ],
   "source": [
    "string_ = \"chainid 0\"\n",
    "for pdb in [pdb1, pdb2]:\n",
    "    make_selection(pdb, string_)"
   ]
  },
  {
   "cell_type": "code",
   "execution_count": 43,
   "metadata": {},
   "outputs": [
    {
     "name": "stdout",
     "output_type": "stream",
     "text": [
      "<mdtraj.Trajectory with 1 frames, 48 atoms, 1 residues, without unitcells>\n",
      "<mdtraj.Trajectory with 1 frames, 38 atoms, 1 residues, without unitcells>\n"
     ]
    }
   ],
   "source": [
    "string_ = \"chainid 1\"\n",
    "for pdb in [pdb1, pdb2]:\n",
    "    make_selection(pdb, string_)"
   ]
  },
  {
   "cell_type": "code",
   "execution_count": 44,
   "metadata": {},
   "outputs": [
    {
     "name": "stdout",
     "output_type": "stream",
     "text": [
      "<mdtraj.Trajectory with 1 frames, 4682 atoms, 306 residues, without unitcells>\n",
      "<mdtraj.Trajectory with 1 frames, 4682 atoms, 306 residues, without unitcells>\n"
     ]
    }
   ],
   "source": [
    "string_ = \"chainid 2\"\n",
    "for pdb in [pdb1, pdb2]:\n",
    "    make_selection(pdb, string_)"
   ]
  },
  {
   "cell_type": "code",
   "execution_count": 45,
   "metadata": {},
   "outputs": [
    {
     "name": "stdout",
     "output_type": "stream",
     "text": [
      "<mdtraj.Trajectory with 1 frames, 1371 atoms, 457 residues, without unitcells>\n",
      "<mdtraj.Trajectory with 1 frames, 972 atoms, 324 residues, without unitcells>\n"
     ]
    }
   ],
   "source": [
    "string_ = \"chainid 3\"\n",
    "for pdb in [pdb1, pdb2]:\n",
    "    make_selection(pdb, string_)"
   ]
  },
  {
   "cell_type": "code",
   "execution_count": 60,
   "metadata": {},
   "outputs": [
    {
     "name": "stdout",
     "output_type": "stream",
     "text": [
      "<mdtraj.Trajectory with 1 frames, 16 atoms, 1 residues, without unitcells>\n",
      "<mdtraj.Trajectory with 1 frames, 16 atoms, 1 residues, without unitcells>\n"
     ]
    }
   ],
   "source": [
    "string_ = \"(chainid 0 or chainid 1) and resid 41\"\n",
    "for pdb in [pdb1, pdb2]:\n",
    "    make_selection(pdb, string_)"
   ]
  },
  {
   "cell_type": "code",
   "execution_count": 121,
   "metadata": {},
   "outputs": [
    {
     "name": "stdout",
     "output_type": "stream",
     "text": [
      "<mdtraj.Trajectory with 1 frames, 2368 atoms, 306 residues, without unitcells>\n",
      "<mdtraj.Trajectory with 1 frames, 2368 atoms, 306 residues, without unitcells>\n"
     ]
    }
   ],
   "source": [
    "string_ = \"not (name =~ 'H.*') and chainid 2\"\n",
    "for pdb in [pdb1, pdb2]:\n",
    "    make_selection(pdb, string_)"
   ]
  },
  {
   "cell_type": "code",
   "execution_count": null,
   "metadata": {},
   "outputs": [],
   "source": []
  },
  {
   "cell_type": "code",
   "execution_count": null,
   "metadata": {},
   "outputs": [],
   "source": []
  },
  {
   "cell_type": "markdown",
   "metadata": {},
   "source": [
    "## doin it"
   ]
  },
  {
   "cell_type": "code",
   "execution_count": 10,
   "metadata": {},
   "outputs": [],
   "source": [
    "full_protein = \"not element H and (chainid 0 or chainid 2)\"\n",
    "active_site_string = \"not element H and (chainid 0 or chainid 2) and (residue 140 to 145 or residue 163 or residue 172 or residue 25 to 27 or residue 41 or residue 49 or residue 54 or residue 165 to 168 or residue 189 to 192)\""
   ]
  },
  {
   "cell_type": "code",
   "execution_count": 11,
   "metadata": {},
   "outputs": [
    {
     "name": "stdout",
     "output_type": "stream",
     "text": [
      "<mdtraj.Trajectory with 1 frames, 4736 atoms, 612 residues, without unitcells>\n",
      "<mdtraj.Trajectory with 1 frames, 4736 atoms, 612 residues, without unitcells>\n"
     ]
    }
   ],
   "source": [
    "for pdb in [pdb1, pdb2]:\n",
    "    make_selection(pdb, full_protein)"
   ]
  },
  {
   "cell_type": "code",
   "execution_count": 12,
   "metadata": {},
   "outputs": [
    {
     "data": {
      "text/plain": [
       "array([0.48162633], dtype=float32)"
      ]
     },
     "execution_count": 12,
     "metadata": {},
     "output_type": "execute_result"
    }
   ],
   "source": [
    "md.rmsd(pdb1, pdb2, atom_indices=pdb1.topology.select(active_site_string))"
   ]
  },
  {
   "cell_type": "code",
   "execution_count": 13,
   "metadata": {},
   "outputs": [
    {
     "data": {
      "text/plain": [
       "array([0.42694336], dtype=float32)"
      ]
     },
     "execution_count": 13,
     "metadata": {},
     "output_type": "execute_result"
    }
   ],
   "source": [
    "md.rmsd(pdb1, pdb2, atom_indices=pdb2.topology.select(active_site_string))"
   ]
  },
  {
   "cell_type": "code",
   "execution_count": 14,
   "metadata": {},
   "outputs": [],
   "source": [
    "pdb1_active_site = pdb1.atom_slice(pdb1.topology.select(active_site_string))"
   ]
  },
  {
   "cell_type": "code",
   "execution_count": 15,
   "metadata": {},
   "outputs": [],
   "source": [
    "pdb2_active_site = pdb2.atom_slice(pdb2.topology.select(active_site_string))"
   ]
  },
  {
   "cell_type": "code",
   "execution_count": 16,
   "metadata": {},
   "outputs": [
    {
     "data": {
      "text/plain": [
       "<mdtraj.Trajectory with 1 frames, 354 atoms, 44 residues, without unitcells at 0x10c101520>"
      ]
     },
     "execution_count": 16,
     "metadata": {},
     "output_type": "execute_result"
    }
   ],
   "source": [
    "pdb2_active_site"
   ]
  },
  {
   "cell_type": "code",
   "execution_count": 17,
   "metadata": {},
   "outputs": [
    {
     "data": {
      "text/plain": [
       "<mdtraj.Trajectory with 1 frames, 354 atoms, 44 residues, without unitcells at 0x10c185730>"
      ]
     },
     "execution_count": 17,
     "metadata": {},
     "output_type": "execute_result"
    }
   ],
   "source": [
    "pdb1_active_site"
   ]
  },
  {
   "cell_type": "code",
   "execution_count": 18,
   "metadata": {},
   "outputs": [],
   "source": [
    "t = md.join([pdb1_active_site, pdb2_active_site])"
   ]
  },
  {
   "cell_type": "code",
   "execution_count": 19,
   "metadata": {},
   "outputs": [],
   "source": [
    "t.save_pdb(\"combined_test.pdb\")"
   ]
  },
  {
   "cell_type": "code",
   "execution_count": 20,
   "metadata": {},
   "outputs": [
    {
     "name": "stdout",
     "output_type": "stream",
     "text": [
      "Help on method save_pdb in module mdtraj.core.trajectory:\n",
      "\n",
      "save_pdb(filename, force_overwrite=True, bfactors=None) method of mdtraj.core.trajectory.Trajectory instance\n",
      "    Save trajectory to RCSB PDB format\n",
      "    \n",
      "    Parameters\n",
      "    ----------\n",
      "    filename : path-like\n",
      "        filesystem path in which to save the trajectory\n",
      "    force_overwrite : bool, default=True\n",
      "        Overwrite anything that exists at filename, if its already there\n",
      "    bfactors : array_like, default=None, shape=(n_frames, n_atoms) or (n_atoms,)\n",
      "        Save bfactors with pdb file. If the array is two dimensional it should\n",
      "        contain a bfactor for each atom in each frame of the trajectory.\n",
      "        Otherwise, the same bfactor will be saved in each frame.\n",
      "\n"
     ]
    }
   ],
   "source": [
    "help(t.save_pdb)"
   ]
  },
  {
   "cell_type": "code",
   "execution_count": 24,
   "metadata": {},
   "outputs": [
    {
     "data": {
      "text/plain": [
       "array([[4.47687835e-01, 9.30880159e-02, 1.25794613e-03, 3.15857202e-01,\n",
       "        8.93141776e-02, 4.18538690e-01, 2.13850841e-01, 6.72101304e-02,\n",
       "        2.64168680e-02, 0.00000000e+00, 1.64067164e-01, 1.20762825e-01,\n",
       "        3.88403893e-01, 4.74245697e-01, 1.82264764e-02, 6.28973078e-03,\n",
       "        1.71080679e-01, 3.57152998e-01, 2.13850848e-02, 1.25794616e-02,\n",
       "        4.33991402e-01, 1.55985326e-01, 3.93008411e-01, 2.64168680e-02,\n",
       "        1.92465752e-01, 1.93085849e-01, 1.50953531e-02, 0.00000000e+00,\n",
       "        1.82264764e-02, 2.66684592e-01, 1.35858178e-01, 8.54366049e-02,\n",
       "        4.59079385e-01, 4.40281145e-02, 2.75490195e-01, 2.12059602e-01,\n",
       "        6.54131994e-02, 2.67942518e-01, 1.90338627e-01, 2.13850841e-01,\n",
       "        4.46548671e-01, 7.04449862e-02, 3.05680901e-01, 5.12291372e-01,\n",
       "        2.42783606e-01, 3.27065997e-02, 2.46557444e-01, 2.36493871e-01,\n",
       "        1.16988987e-01, 3.23292166e-01, 6.66711479e-02, 2.29917243e-01,\n",
       "        3.49720508e-01, 4.90598977e-02, 0.00000000e+00, 1.41745105e-01,\n",
       "        1.38374073e-02, 1.25794613e-03, 6.54131994e-02, 2.01271381e-02,\n",
       "        2.27688253e-01, 1.92465752e-01, 2.66684592e-01, 3.41746435e-02,\n",
       "        2.89327614e-02, 2.51589231e-02, 4.12958153e-02, 1.23278722e-01,\n",
       "        7.67347142e-02, 6.17651522e-01, 5.19531727e-01, 6.72101304e-02,\n",
       "        3.27065997e-02, 1.63532998e-02, 2.80141890e-01, 2.42783606e-01,\n",
       "        7.29608759e-02, 4.21886981e-01, 5.43376803e-01, 1.09358862e-01,\n",
       "        1.74854517e-01, 3.64804380e-02, 2.29917243e-01, 4.55661910e-03,\n",
       "        7.67347142e-02, 1.25794613e-03, 1.84157014e-01, 1.81144238e-01,\n",
       "        1.11610312e-02, 0.00000000e+00, 0.00000000e+00, 1.55985326e-01,\n",
       "        1.30584061e-01, 2.76748147e-02, 2.69422978e-01, 4.92114872e-01,\n",
       "        9.93777439e-02, 1.50953531e-01, 1.64067164e-01, 6.79290891e-02,\n",
       "        0.00000000e+00, 8.54366049e-02, 0.00000000e+00, 0.00000000e+00,\n",
       "        4.78444993e-02, 1.10498011e-01, 5.66075742e-02, 5.03178453e-03,\n",
       "        5.58051560e-03, 5.78655228e-02, 2.89327621e-01, 3.49847764e-01,\n",
       "        1.66048884e-01, 8.99932235e-02, 0.00000000e+00, 0.00000000e+00,\n",
       "        2.26568937e-01, 1.53469428e-01, 5.91234677e-02, 6.54131994e-02,\n",
       "        4.70995516e-01, 1.78576499e-01, 6.83492888e-03, 1.25794613e-03,\n",
       "        1.25794613e-03, 1.39512897e-01, 1.37116134e-01, 8.80562328e-03,\n",
       "        4.84309256e-01, 1.25794619e-01, 4.55661910e-03, 1.04409531e-01,\n",
       "        2.22656459e-01, 5.00014186e-01, 3.32097769e-01, 2.52847165e-01,\n",
       "        6.79290891e-02, 2.98458546e-01, 0.00000000e+00, 1.74854517e-01,\n",
       "        4.57602292e-01, 1.03151582e-01, 0.00000000e+00, 1.62899137e-01,\n",
       "        5.03178453e-03, 3.11970651e-01, 4.55661910e-03, 1.83403924e-01,\n",
       "        5.03178462e-02, 1.88691914e-02, 3.12508881e-01, 4.40281145e-02,\n",
       "        2.23914415e-01, 7.92506039e-02, 3.49340290e-01, 5.41098535e-01,\n",
       "        2.27830955e-03, 4.27701697e-02, 3.89963314e-02, 6.58500865e-02,\n",
       "        1.06925420e-01, 3.76126766e-01, 2.91843504e-01, 9.68281552e-02,\n",
       "        5.15757911e-02, 1.38374073e-02, 2.08711281e-01, 5.81171095e-01,\n",
       "        1.59481671e-02, 7.92506039e-02, 3.43419284e-01, 1.23887450e-01,\n",
       "        7.79926628e-02, 8.30244422e-02, 3.27065997e-02, 4.54253972e-01,\n",
       "        1.01384774e-01, 4.49966133e-01, 9.56039056e-02, 1.25794613e-03,\n",
       "        3.20321590e-01, 8.93141776e-02, 4.20770884e-01, 2.10077003e-01,\n",
       "        6.60709739e-02, 2.26430297e-02, 0.00000000e+00, 1.62951052e-01,\n",
       "        1.15731046e-01, 3.88403893e-01, 4.74245697e-01, 1.70873217e-02,\n",
       "        6.28973078e-03, 1.68564782e-01, 3.62733513e-01, 2.01271381e-02,\n",
       "        1.13215148e-02, 4.31475520e-01, 1.52211487e-01, 3.90730083e-01,\n",
       "        2.13850848e-02, 1.98755488e-01, 1.88621432e-01, 1.88691914e-02,\n",
       "        1.25794613e-03, 1.59481671e-02, 2.59136915e-01, 1.28310502e-01,\n",
       "        8.08799863e-02, 4.60218519e-01, 4.65440080e-02, 2.76748151e-01,\n",
       "        2.09827393e-01, 6.79290891e-02, 2.65426636e-01, 1.83636561e-01,\n",
       "        2.10077003e-01, 4.47687835e-01, 6.91870376e-02, 3.08196813e-01,\n",
       "        5.15639663e-01, 2.39009768e-01, 3.14486548e-02, 2.46557444e-01,\n",
       "        2.42783606e-01, 1.13215148e-01, 3.19518328e-01, 7.04449862e-02,\n",
       "        2.25452840e-01, 3.50859672e-01, 4.65440080e-02, 1.25794613e-03,\n",
       "        1.42861202e-01, 1.25794616e-02, 1.25794613e-03, 7.04449862e-02,\n",
       "        2.13850848e-02, 2.27688253e-01, 1.93723708e-01, 2.67942518e-01,\n",
       "        3.30354869e-02, 2.64168680e-02, 2.51589231e-02, 3.90636101e-02,\n",
       "        1.22020774e-01, 7.67347142e-02, 6.17651522e-01, 5.22047639e-01,\n",
       "        6.49318248e-02, 2.89327614e-02, 1.50953531e-02, 2.74561375e-01,\n",
       "        2.42783606e-01, 7.67347142e-02, 4.18538690e-01, 5.43376803e-01,\n",
       "        1.08219706e-01, 1.63533002e-01, 3.27065997e-02, 2.32149452e-01,\n",
       "        4.55661910e-03, 7.79926628e-02, 0.00000000e+00, 1.84157014e-01,\n",
       "        1.81144238e-01, 1.22771347e-02, 0.00000000e+00, 0.00000000e+00,\n",
       "        1.54727370e-01, 1.35048479e-01, 2.51589231e-02, 2.66742170e-01,\n",
       "        4.89836544e-01, 9.93777439e-02, 1.54727370e-01, 1.65183261e-01,\n",
       "        6.28973097e-02, 0.00000000e+00, 8.31582993e-02, 1.25794613e-03,\n",
       "        1.25794613e-03, 4.89836559e-02, 1.09358862e-01, 5.91234677e-02,\n",
       "        5.03178453e-03, 5.58051560e-03, 6.28973097e-02, 2.79264033e-01,\n",
       "        3.47166926e-01, 1.68564782e-01, 9.22715366e-02, 0.00000000e+00,\n",
       "        0.00000000e+00, 2.27685034e-01, 1.50953531e-01, 6.03814125e-02,\n",
       "        6.54131994e-02, 4.75459933e-01, 1.74112096e-01, 7.97408354e-03,\n",
       "        0.00000000e+00, 2.51589227e-03, 1.42861202e-01, 1.34600237e-01,\n",
       "        6.28973078e-03, 4.81793374e-01, 1.18246935e-01, 4.55661910e-03,\n",
       "        1.04409531e-01, 2.18882620e-01, 4.95549798e-01, 3.32097769e-01,\n",
       "        2.54105121e-01, 7.04449862e-02, 3.01876009e-01, 0.00000000e+00,\n",
       "        1.78628355e-01, 4.56486195e-01, 1.04409531e-01, 0.00000000e+00,\n",
       "        1.66316599e-01, 5.03178453e-03, 3.10712695e-01, 5.69577375e-03,\n",
       "        1.89099699e-01, 5.28337359e-02, 1.63532998e-02, 3.12508881e-01,\n",
       "        4.65440080e-02, 2.31462091e-01, 7.42188245e-02, 3.42643678e-01,\n",
       "        5.41098535e-01, 3.41746444e-03, 3.77383828e-02, 3.64804380e-02,\n",
       "        6.69661909e-02, 1.04409531e-01, 3.71662349e-01, 2.84295827e-01,\n",
       "        1.01384774e-01, 4.65440080e-02, 1.50953531e-02, 2.06479087e-01,\n",
       "        5.78655243e-01, 1.36698578e-02, 8.05085525e-02, 3.44677240e-01,\n",
       "        1.22771345e-01, 8.17665011e-02, 7.92506039e-02, 3.27065997e-02,\n",
       "        4.50905681e-01, 1.01384774e-01],\n",
       "       [4.52754438e-01, 1.04526624e-01, 2.51747458e-03, 3.05048674e-01,\n",
       "        8.94265249e-02, 4.13425297e-01, 2.29215205e-01, 7.18433112e-02,\n",
       "        2.39342079e-02, 0.00000000e+00, 2.01081678e-01, 1.08335271e-01,\n",
       "        4.01114523e-01, 4.68552530e-01, 2.73604784e-02, 7.55558861e-03,\n",
       "        1.83875352e-01, 3.86570305e-01, 3.27335000e-02, 2.39167996e-02,\n",
       "        4.59696263e-01, 1.37312353e-01, 3.86621177e-01, 1.38706388e-02,\n",
       "        2.10319132e-01, 2.30132744e-01, 1.38563961e-02, 6.28973078e-03,\n",
       "        2.42660716e-01, 1.17324464e-01, 1.44834712e-01, 9.12297070e-02,\n",
       "        4.78967965e-01, 4.40835021e-02, 2.72062898e-01, 2.53592104e-01,\n",
       "        6.92693219e-02, 2.88406730e-01, 1.61104679e-01, 2.64437705e-01,\n",
       "        4.50474799e-01, 6.92756549e-02, 3.09839278e-01, 5.09514809e-01,\n",
       "        2.35541329e-01, 3.14897969e-02, 2.48125538e-01, 2.39307269e-01,\n",
       "        1.20909996e-01, 3.17409098e-01, 6.29811808e-02, 1.53162748e-01,\n",
       "        3.46701443e-01, 6.79908097e-02, 1.25794613e-03, 1.16232932e-01,\n",
       "        1.00809764e-02, 6.29131310e-03, 8.43646824e-02, 3.14739719e-02,\n",
       "        2.35522345e-01, 1.86418146e-01, 2.41861150e-01, 3.42135765e-02,\n",
       "        2.64532641e-02, 3.39961946e-02, 5.02707325e-02, 1.14628173e-01,\n",
       "        7.93471336e-02, 6.18428528e-01, 5.11379659e-01, 9.69047248e-02,\n",
       "        5.41328266e-02, 7.56824808e-03, 2.81570673e-01, 2.55668461e-01,\n",
       "        5.92152476e-02, 3.41998428e-01, 5.42856693e-01, 1.37944343e-02,\n",
       "        1.87653929e-01, 3.77842747e-02, 2.54728138e-01, 4.56180982e-03,\n",
       "        7.05415159e-02, 3.77542083e-03, 1.66504905e-01, 1.66276768e-01,\n",
       "        8.94128159e-03, 0.00000000e+00, 0.00000000e+00, 1.59955382e-01,\n",
       "        1.34078130e-01, 1.38722211e-02, 2.44316280e-01, 4.90397155e-01,\n",
       "        1.04534544e-01, 1.51143432e-01, 1.77643508e-01, 7.43042752e-02,\n",
       "        0.00000000e+00, 6.27508387e-02, 0.00000000e+00, 0.00000000e+00,\n",
       "        5.24556227e-02, 1.31128669e-01, 5.41628972e-02, 6.32971387e-06,\n",
       "        8.93505383e-03, 1.69895515e-01, 1.00999653e-01, 3.28870118e-01,\n",
       "        2.88278550e-01, 6.73126504e-02, 0.00000000e+00, 0.00000000e+00,\n",
       "        2.55840480e-01, 1.66241944e-01, 4.78763282e-02, 6.67534322e-02,\n",
       "        1.31109744e-01, 4.79007572e-01, 4.56440542e-03, 2.51747458e-03,\n",
       "        1.00651514e-02, 1.18462645e-01, 1.42320395e-01, 1.00746471e-02,\n",
       "        5.10077417e-01, 8.06667954e-02, 5.70096448e-03, 8.44137296e-02,\n",
       "        2.39289850e-01, 4.96107846e-01, 3.32515538e-01, 3.33673775e-01,\n",
       "        9.69473049e-02, 2.82850385e-01, 0.00000000e+00, 1.70042679e-01,\n",
       "        4.52532500e-01, 8.44121501e-02, 0.00000000e+00, 1.58528090e-01,\n",
       "        2.52222200e-03, 2.88462102e-01, 5.19069454e-06, 1.42603278e-01,\n",
       "        2.77381111e-02, 2.89564971e-02, 2.76026249e-01, 1.29623845e-01,\n",
       "        1.28592178e-01, 8.94138739e-02, 3.26292008e-01, 5.40575743e-01,\n",
       "        1.48116071e-02, 5.66613786e-02, 7.59673212e-03, 1.00522779e-01,\n",
       "        1.37250632e-01, 4.03333038e-01, 3.17369550e-01, 7.30162114e-02,\n",
       "        9.06369984e-02, 2.26604380e-02, 2.56936669e-01, 5.99513471e-01,\n",
       "        3.07753477e-02, 7.80923516e-02, 2.98565239e-01, 1.49696097e-01,\n",
       "        7.30589852e-02, 6.55176342e-02, 2.26841737e-02, 4.14581269e-01,\n",
       "        1.24283366e-01, 4.52757001e-01, 9.82400626e-02, 2.51747458e-03,\n",
       "        3.09518069e-01, 8.94265249e-02, 4.22356606e-01, 2.39274040e-01,\n",
       "        7.63986334e-02, 2.01556236e-02, 0.00000000e+00, 1.84338883e-01,\n",
       "        1.14618681e-01, 4.01114523e-01, 4.68552530e-01, 2.62200255e-02,\n",
       "        6.29764237e-03, 1.75066561e-01, 3.86576533e-01, 2.64421869e-02,\n",
       "        2.39152182e-02, 4.59693074e-01, 1.42339379e-01, 3.88896912e-01,\n",
       "        1.38643086e-02, 2.15358824e-01, 2.39056602e-01, 6.31346740e-03,\n",
       "        6.29131310e-03, 7.74806887e-02, 3.39971453e-01, 1.41051382e-01,\n",
       "        7.64155015e-02, 4.86943334e-01, 4.15707715e-02, 2.51937360e-01,\n",
       "        2.24570915e-01, 1.25880063e-01, 3.12304527e-01, 1.06138773e-01,\n",
       "        2.71980643e-01, 4.44780350e-01, 6.80161268e-02, 3.13616276e-01,\n",
       "        5.16215146e-01, 2.43084267e-01, 2.89723221e-02, 2.56931156e-01,\n",
       "        2.27993652e-01, 1.03294007e-01, 3.17404360e-01, 6.67597651e-02,\n",
       "        1.79944232e-01, 3.41006964e-01, 6.29558563e-02, 5.03336685e-03,\n",
       "        1.17350280e-01, 1.25952847e-02, 2.51747458e-03, 8.56289566e-02,\n",
       "        2.51858234e-02, 2.61939228e-01, 1.81387946e-01, 2.54442185e-01,\n",
       "        3.07948105e-02, 2.51921527e-02, 3.27382460e-02, 4.46877219e-02,\n",
       "        1.23432219e-01, 8.43789205e-02, 6.17170572e-01, 5.10124862e-01,\n",
       "        9.69021246e-02, 5.66439703e-02, 7.56666576e-03, 2.83796638e-01,\n",
       "        2.53152579e-01, 5.92199974e-02, 3.43110800e-01, 5.42856693e-01,\n",
       "        1.15148257e-02, 1.81349948e-01, 3.52636352e-02, 2.50266194e-01,\n",
       "        6.84011960e-03, 7.93487132e-02, 3.77383828e-03, 1.73201531e-01,\n",
       "        1.51181400e-01, 6.71032118e-03, 0.00000000e+00, 0.00000000e+00,\n",
       "        1.57437906e-01, 1.37431413e-01, 1.63849480e-02, 2.32248962e-01,\n",
       "        4.91533697e-01, 1.02018654e-01, 1.47374332e-01, 1.89921901e-01,\n",
       "        8.43615085e-02, 0.00000000e+00, 6.73048645e-02, 1.58242847e-06,\n",
       "        1.58242847e-06, 5.24569191e-02, 1.19735830e-01, 5.66819496e-02,\n",
       "        6.32971387e-06, 1.22833634e-02, 1.52290598e-01, 1.99106798e-01,\n",
       "        1.76059440e-01, 3.76337945e-01, 6.04803115e-02, 0.00000000e+00,\n",
       "        0.00000000e+00, 2.63654470e-01, 1.64980844e-01, 4.28461209e-02,\n",
       "        7.17852190e-02, 1.35579154e-01, 4.74538147e-01, 5.70485787e-03,\n",
       "        1.25794613e-03, 7.55084166e-03, 1.16234176e-01, 1.46091074e-01,\n",
       "        7.55558861e-03, 5.06300449e-01, 8.56890902e-02, 3.42265517e-03,\n",
       "        8.81875679e-02, 2.38027170e-01, 4.97218966e-01, 3.28741699e-01,\n",
       "        3.31159472e-01, 9.56925303e-02, 2.96524137e-01, 0.00000000e+00,\n",
       "        1.72563314e-01, 4.49182957e-01, 9.57352445e-02, 0.00000000e+00,\n",
       "        1.61949441e-01, 2.52222200e-03, 2.69591331e-01, 6.48836794e-06,\n",
       "        1.55140460e-01, 4.66104671e-02, 2.05715696e-05, 2.78258473e-01,\n",
       "        4.53446098e-02, 3.00940305e-01, 5.41850477e-02, 4.71377969e-01,\n",
       "        3.66285086e-01, 4.56051202e-03, 5.66550493e-02, 2.39468664e-02,\n",
       "        9.82918218e-02, 8.44137296e-02, 3.93283099e-01, 2.97232926e-01,\n",
       "        6.96039349e-02, 9.69203934e-02, 1.88881811e-02, 2.59166390e-01,\n",
       "        6.03284121e-01, 2.62161326e-02, 8.31257179e-02, 2.92277098e-01,\n",
       "        1.53043151e-01, 7.43216798e-02, 6.29969984e-02, 2.26841737e-02,\n",
       "        4.22390223e-01, 1.28839985e-01]], dtype=float32)"
      ]
     },
     "execution_count": 24,
     "metadata": {},
     "output_type": "execute_result"
    }
   ],
   "source": [
    "md.shrake_rupley(t)"
   ]
  },
  {
   "cell_type": "markdown",
   "metadata": {},
   "source": [
    "# Iterate through all PDBs "
   ]
  },
  {
   "cell_type": "code",
   "execution_count": 46,
   "metadata": {},
   "outputs": [],
   "source": [
    "import logging\n",
    "def analyze_mp(fn, out_dir):\n",
    "    full_protein_selection = \"not element H and (chainid 0 or chainid 2)\"\n",
    "    active_site_string = \"not element H and (chainid 0 or chainid 2) and (residue 140 to 145 or residue 163 or residue 172 or residue 25 to 27 or residue 41 or residue 49 or residue 54 or residue 165 to 168 or residue 189 to 192)\"\n",
    "    output_name = fn.stem\n",
    "\n",
    "    ## Prepare logger\n",
    "    handler = logging.FileHandler(out_dir / f\"{output_name}-log.txt\", mode=\"w\")\n",
    "    prep_logger = logging.getLogger(output_name)\n",
    "    prep_logger.setLevel(logging.INFO)\n",
    "    prep_logger.addHandler(handler)\n",
    "    prep_logger.info(datetime.isoformat(datetime.now()))\n",
    "\n",
    "    prep_logger.info(f\"Loading {fn}\")\n",
    "    pdb = md.load(fn)\n",
    "\n",
    "    active_site_idx = pdb.topology.select(active_site_string)\n",
    "    active_site = pdb.atom_slice(active_site_idx)\n",
    "\n",
    "    full_protein_idx = pdb.topology.select(full_protein_selection)\n",
    "    full_protein = pdb.atom_slice(full_protein_idx)\n",
    "\n",
    "    prep_logger.info(f\"Saving idx arrays to {out_dir}\")\n",
    "    np.save(out_dir / f\"{output_name}_active_site.npy\", active_site_idx)\n",
    "    np.save(out_dir / f\"{output_name}_full_protein.npy\", full_protein_idx)\n",
    "\n",
    "    prep_logger.info(f\"Saving pdbs to {out_dir}\")\n",
    "    active_site.save(out_dir / f\"{output_name}_active_site.pdb\")\n",
    "    full_protein.save(out_dir / f\"{output_name}_full_protein.pdb\")\n",
    "\n",
    "    return True"
   ]
  },
  {
   "cell_type": "code",
   "execution_count": 47,
   "metadata": {},
   "outputs": [
    {
     "data": {
      "text/plain": [
       "True"
      ]
     },
     "execution_count": 47,
     "metadata": {},
     "output_type": "execute_result"
    }
   ],
   "source": [
    "analyze_mp(pdb_fn, Path(\".\"))"
   ]
  },
  {
   "cell_type": "code",
   "execution_count": 32,
   "metadata": {},
   "outputs": [
    {
     "data": {
      "text/plain": [
       "'Mpro-x0072_0A_AAR-POS-d2a4d1df-1_prepped_receptor_0'"
      ]
     },
     "execution_count": 32,
     "metadata": {},
     "output_type": "execute_result"
    }
   ],
   "source": [
    "pdb_fn.stem"
   ]
  },
  {
   "cell_type": "code",
   "execution_count": null,
   "metadata": {},
   "outputs": [],
   "source": []
  }
 ],
 "metadata": {
  "kernelspec": {
   "display_name": "Python 3 (ipykernel)",
   "language": "python",
   "name": "python3"
  },
  "language_info": {
   "codemirror_mode": {
    "name": "ipython",
    "version": 3
   },
   "file_extension": ".py",
   "mimetype": "text/x-python",
   "name": "python",
   "nbconvert_exporter": "python",
   "pygments_lexer": "ipython3",
   "version": "3.9.16"
  },
  "toc": {
   "base_numbering": 1,
   "nav_menu": {},
   "number_sections": true,
   "sideBar": true,
   "skip_h1_title": false,
   "title_cell": "Table of Contents",
   "title_sidebar": "Contents",
   "toc_cell": false,
   "toc_position": {},
   "toc_section_display": true,
   "toc_window_display": true
  }
 },
 "nbformat": 4,
 "nbformat_minor": 1
}