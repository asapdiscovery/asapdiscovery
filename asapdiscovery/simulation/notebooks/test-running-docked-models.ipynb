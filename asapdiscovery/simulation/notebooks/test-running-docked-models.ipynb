{
 "cells": [
  {
   "cell_type": "markdown",
   "metadata": {
    "collapsed": true,
    "pycharm": {
     "is_executing": true
    }
   },
   "source": [
    "# Imports"
   ]
  },
  {
   "cell_type": "code",
   "execution_count": null,
   "metadata": {
    "pycharm": {
     "is_executing": true
    }
   },
   "outputs": [],
   "source": [
    "import openmm\n",
    "from pathlib import Path\n",
    "from openmm import *\n",
    "from openmm.app import *\n",
    "from openmm.unit import *\n",
    "from openmm.app import PDBFile\n",
    "from datetime import datetime"
   ]
  },
  {
   "cell_type": "code",
   "execution_count": null,
   "metadata": {},
   "outputs": [],
   "source": [
    "import simtk"
   ]
  },
  {
   "cell_type": "code",
   "execution_count": null,
   "metadata": {},
   "outputs": [],
   "source": [
    "simtk.openmm.version.version"
   ]
  },
  {
   "cell_type": "markdown",
   "metadata": {},
   "source": [
    "## paths"
   ]
  },
  {
   "cell_type": "code",
   "execution_count": null,
   "metadata": {},
   "outputs": [],
   "source": [
    "input_pdb_path = \"../tests/inputs/prepped_receptor_0-processed.pdb\""
   ]
  },
  {
   "cell_type": "code",
   "execution_count": null,
   "metadata": {},
   "outputs": [],
   "source": [
    "# Input Files\n",
    "\n",
    "pdb = PDBFile(input_pdb_path)\n",
    "forcefield = ForceField('amber14-all.xml', 'amber14/tip3pfb.xml')\n",
    "\n",
    "# System Configuration\n",
    "\n",
    "nonbondedMethod = PME\n",
    "nonbondedCutoff = 1.0*nanometers\n",
    "ewaldErrorTolerance = 0.000001\n",
    "constraints = HBonds\n",
    "rigidWater = True\n",
    "constraintTolerance = 0.000001\n",
    "hydrogenMass = 4.0*amu"
   ]
  },
  {
   "cell_type": "code",
   "execution_count": null,
   "metadata": {},
   "outputs": [],
   "source": [
    "# Integration Options\n",
    "\n",
    "dt = 0.004*picoseconds\n",
    "temperature = 300*kelvin\n",
    "friction = 1.0/picosecond\n",
    "pressure = 1.0*atmospheres\n",
    "barostatInterval = 25"
   ]
  },
  {
   "cell_type": "code",
   "execution_count": null,
   "metadata": {},
   "outputs": [],
   "source": [
    "steps = 1000000\n",
    "equilibrationSteps = 1000\n",
    "platform = Platform.getPlatformByName('Reference')\n",
    "dcdReporter = DCDReporter('trajectory.dcd', 10000)\n",
    "dataReporter = StateDataReporter('log.txt', 1000, totalSteps=steps,\n",
    "    step=True, speed=True, progress=True, potentialEnergy=True, temperature=True, separator='\\t')\n",
    "checkpointReporter = CheckpointReporter('checkpoint.chk', 10000)"
   ]
  },
  {
   "cell_type": "markdown",
   "metadata": {},
   "source": [
    "## original"
   ]
  },
  {
   "cell_type": "code",
   "execution_count": null,
   "metadata": {},
   "outputs": [],
   "source": [
    "# print('Building system...')\n",
    "# topology = pdb.topology\n",
    "# positions = pdb.positions\n",
    "# modeller = Modeller(topology, positions)\n",
    "# modeller.addSolvent(forcefield, padding=0.9*nanometers, model='tip3p')\n",
    "# system = forcefield.createSystem(modeller.topology, nonbondedMethod=nonbondedMethod, nonbondedCutoff=nonbondedCutoff,\n",
    "#     constraints=constraints, rigidWater=rigidWater, ewaldErrorTolerance=ewaldErrorTolerance, hydrogenMass=hydrogenMass)\n",
    "# system.addForce(MonteCarloBarostat(pressure, temperature, barostatInterval))\n",
    "# integrator = LangevinMiddleIntegrator(temperature, friction, dt)\n",
    "# integrator.setConstraintTolerance(constraintTolerance)\n",
    "# simulation = Simulation(topology, system, integrator, platform)\n",
    "# simulation.context.setPositions(modeller.positions)"
   ]
  },
  {
   "cell_type": "code",
   "execution_count": null,
   "metadata": {},
   "outputs": [],
   "source": [
    "# positions = simulation.context.getState(getPositions=True).getPositions()\n",
    "# PDBFile.writeFile(simulation.topology, positions, open('0step_minimization.pdb', 'w'))"
   ]
  },
  {
   "cell_type": "code",
   "execution_count": null,
   "metadata": {},
   "outputs": [],
   "source": [
    "# len(positions)"
   ]
  },
  {
   "cell_type": "code",
   "execution_count": null,
   "metadata": {},
   "outputs": [],
   "source": [
    "# len(list(simulation.topology.atoms()))"
   ]
  },
  {
   "cell_type": "markdown",
   "metadata": {},
   "source": [
    "## Improved"
   ]
  },
  {
   "cell_type": "code",
   "execution_count": null,
   "metadata": {},
   "outputs": [],
   "source": [
    "steps = 1000000\n",
    "equilibrationSteps = 1000\n",
    "platform = Platform.getPlatformByName('Reference')\n",
    "dcdReporter = DCDReporter('trajectory.dcd', 10000)\n",
    "dataReporter = StateDataReporter('log.txt', 1000, totalSteps=steps,\n",
    "    step=True, speed=True, progress=True, potentialEnergy=True, temperature=True, separator='\\t')\n",
    "checkpointReporter = CheckpointReporter('checkpoint.chk', 10000)"
   ]
  },
  {
   "cell_type": "code",
   "execution_count": null,
   "metadata": {},
   "outputs": [],
   "source": [
    "print(datetime.now().isoformat())\n",
    "print('Building system...')\n",
    "platform = Platform.getPlatformByName('Reference')\n",
    "topology = pdb.topology\n",
    "positions = pdb.positions\n",
    "\n",
    "print(\"Modeller\")\n",
    "print(datetime.now().isoformat())\n",
    "modeller = Modeller(topology, positions)\n",
    "modeller.addSolvent(forcefield, padding=0.9*nanometers, model='tip3p')\n",
    "\n",
    "print(\"System\")\n",
    "print(datetime.now().isoformat())\n",
    "system = forcefield.createSystem(modeller.topology, nonbondedMethod=nonbondedMethod, nonbondedCutoff=nonbondedCutoff,\n",
    "    constraints=constraints, rigidWater=rigidWater, ewaldErrorTolerance=ewaldErrorTolerance, hydrogenMass=hydrogenMass)\n",
    "system.addForce(MonteCarloBarostat(pressure, temperature, barostatInterval))\n",
    "\n",
    "print(\"Integrator\")\n",
    "print(datetime.now().isoformat())\n",
    "integrator = LangevinMiddleIntegrator(temperature, friction, dt)\n",
    "integrator.setConstraintTolerance(constraintTolerance)\n",
    "\n",
    "print(\"Simulation\")\n",
    "print(datetime.now().isoformat())\n",
    "\n",
    "simulation = Simulation(modeller.topology, system, integrator, platform)\n",
    "simulation.context.setPositions(modeller.positions)\n",
    "print(\"Done\")\n",
    "print(datetime.now().isoformat())"
   ]
  },
  {
   "cell_type": "code",
   "execution_count": null,
   "metadata": {},
   "outputs": [],
   "source": [
    "positions = simulation.context.getState(getPositions=True).getPositions()\n",
    "PDBFile.writeFile(simulation.topology, positions, open('0step_minimization.pdb', 'w'))"
   ]
  },
  {
   "cell_type": "code",
   "execution_count": null,
   "metadata": {},
   "outputs": [],
   "source": [
    "len(positions)"
   ]
  },
  {
   "cell_type": "code",
   "execution_count": null,
   "metadata": {},
   "outputs": [],
   "source": [
    "len(list(simulation.topology.atoms()))"
   ]
  },
  {
   "cell_type": "code",
   "execution_count": null,
   "metadata": {},
   "outputs": [],
   "source": [
    "len(modeller.positions)"
   ]
  },
  {
   "cell_type": "code",
   "execution_count": null,
   "metadata": {},
   "outputs": [],
   "source": [
    "len(list(modeller.topology.atoms()))"
   ]
  },
  {
   "cell_type": "code",
   "execution_count": null,
   "metadata": {},
   "outputs": [],
   "source": [
    "print(datetime.now().isoformat())\n",
    "## Run minimization\n",
    "print(\n",
    "    \"  initial : %8.3f kcal/mol\"\n",
    "    % (\n",
    "        simulation.context.getState(getEnergy=True).getPotentialEnergy()\n",
    "        / openmm.unit.kilocalories_per_mole\n",
    "    )\n",
    ")\n",
    "simulation.minimizeEnergy(maxIterations=5)\n",
    "print(\n",
    "    \"  final : %8.3f kcal/mol\"\n",
    "    % (\n",
    "        simulation.context.getState(getEnergy=True).getPotentialEnergy()\n",
    "        / openmm.unit.kilocalories_per_mole\n",
    "    )\n",
    ")\n",
    "print(datetime.now().isoformat())"
   ]
  },
  {
   "cell_type": "code",
   "execution_count": null,
   "metadata": {},
   "outputs": [],
   "source": [
    "positions = simulation.context.getState(getPositions=True).getPositions()\n",
    "PDBFile.writeFile(simulation.topology, positions, open('5step_minimization.pdb', 'w'))"
   ]
  },
  {
   "cell_type": "markdown",
   "metadata": {},
   "source": [
    "## Improved with new platform"
   ]
  },
  {
   "cell_type": "markdown",
   "metadata": {},
   "source": [
    "## CPU"
   ]
  },
  {
   "cell_type": "code",
   "execution_count": null,
   "metadata": {},
   "outputs": [],
   "source": [
    "print(datetime.now().isoformat())\n",
    "print('Building system...')\n",
    "platform = Platform.getPlatformByName('CPU')\n",
    "topology = pdb.topology\n",
    "positions = pdb.positions\n",
    "\n",
    "print(\"Modeller\")\n",
    "print(datetime.now().isoformat())\n",
    "modeller = Modeller(topology, positions)\n",
    "modeller.addSolvent(forcefield, padding=0.9*nanometers, model='tip3p')\n",
    "\n",
    "print(\"System\")\n",
    "print(datetime.now().isoformat())\n",
    "system = forcefield.createSystem(modeller.topology, nonbondedMethod=nonbondedMethod, nonbondedCutoff=nonbondedCutoff,\n",
    "    constraints=constraints, rigidWater=rigidWater, ewaldErrorTolerance=ewaldErrorTolerance, hydrogenMass=hydrogenMass)\n",
    "system.addForce(MonteCarloBarostat(pressure, temperature, barostatInterval))\n",
    "\n",
    "print(\"Integrator\")\n",
    "print(datetime.now().isoformat())\n",
    "integrator = LangevinMiddleIntegrator(temperature, friction, dt)\n",
    "integrator.setConstraintTolerance(constraintTolerance)\n",
    "\n",
    "print(\"Simulation\")\n",
    "print(datetime.now().isoformat())\n",
    "\n",
    "simulation = Simulation(modeller.topology, system, integrator, platform)\n",
    "simulation.context.setPositions(modeller.positions)\n",
    "print(\"Done\")\n",
    "print(datetime.now().isoformat())"
   ]
  },
  {
   "cell_type": "code",
   "execution_count": null,
   "metadata": {},
   "outputs": [],
   "source": [
    "positions = simulation.context.getState(getPositions=True).getPositions()\n",
    "PDBFile.writeFile(simulation.topology, positions, open('0step_minimization_cpu.pdb', 'w'))"
   ]
  },
  {
   "cell_type": "code",
   "execution_count": null,
   "metadata": {},
   "outputs": [],
   "source": [
    "len(positions)"
   ]
  },
  {
   "cell_type": "code",
   "execution_count": null,
   "metadata": {},
   "outputs": [],
   "source": [
    "len(list(simulation.topology.atoms()))"
   ]
  },
  {
   "cell_type": "code",
   "execution_count": null,
   "metadata": {},
   "outputs": [],
   "source": [
    "len(modeller.positions)"
   ]
  },
  {
   "cell_type": "code",
   "execution_count": null,
   "metadata": {},
   "outputs": [],
   "source": [
    "len(list(modeller.topology.atoms()))"
   ]
  },
  {
   "cell_type": "code",
   "execution_count": null,
   "metadata": {},
   "outputs": [],
   "source": [
    "print(datetime.now().isoformat())\n",
    "## Run minimization\n",
    "print(\n",
    "    \"  initial : %8.3f kcal/mol\"\n",
    "    % (\n",
    "        simulation.context.getState(getEnergy=True).getPotentialEnergy()\n",
    "        / openmm.unit.kilocalories_per_mole\n",
    "    )\n",
    ")\n",
    "simulation.minimizeEnergy()\n",
    "print(\n",
    "    \"  final : %8.3f kcal/mol\"\n",
    "    % (\n",
    "        simulation.context.getState(getEnergy=True).getPotentialEnergy()\n",
    "        / openmm.unit.kilocalories_per_mole\n",
    "    )\n",
    ")\n",
    "print(datetime.now().isoformat())"
   ]
  },
  {
   "cell_type": "code",
   "execution_count": null,
   "metadata": {},
   "outputs": [],
   "source": [
    "positions = simulation.context.getState(getPositions=True).getPositions()\n",
    "PDBFile.writeFile(simulation.topology, positions, open('5step_minimization_opencl.pdb', 'w'))"
   ]
  },
  {
   "cell_type": "code",
   "execution_count": null,
   "metadata": {},
   "outputs": [],
   "source": []
  },
  {
   "cell_type": "markdown",
   "metadata": {},
   "source": [
    "## OpenCL"
   ]
  },
  {
   "cell_type": "code",
   "execution_count": null,
   "metadata": {},
   "outputs": [],
   "source": [
    "# forcefield = ForceField('amber/ff14SB.xml', 'amber/tip3p_standard.xml')\n",
    "\n",
    "print(datetime.now().isoformat())\n",
    "print('Building system...')\n",
    "platform = Platform.getPlatformByName('OpenCL')\n",
    "topology = pdb.topology\n",
    "positions = pdb.positions\n",
    "\n",
    "print(\"Modeller\")\n",
    "print(datetime.now().isoformat())\n",
    "modeller = Modeller(topology, positions)\n",
    "modeller.addSolvent(forcefield, padding=0.9*nanometers, model='tip3p')\n",
    "\n",
    "print(\"System\")\n",
    "print(datetime.now().isoformat())\n",
    "system = forcefield.createSystem(modeller.topology, nonbondedMethod=nonbondedMethod, nonbondedCutoff=nonbondedCutoff,\n",
    "    constraints=constraints, rigidWater=rigidWater, ewaldErrorTolerance=ewaldErrorTolerance, hydrogenMass=hydrogenMass)\n",
    "\n",
    "print(\"Adding Force\")\n",
    "print(datetime.now().isoformat())\n",
    "system.addForce(MonteCarloBarostat(pressure, temperature, barostatInterval))\n",
    "\n",
    "print(\"Integrator\")\n",
    "print(datetime.now().isoformat())\n",
    "integrator = LangevinMiddleIntegrator(temperature, friction, dt)\n",
    "integrator.setConstraintTolerance(constraintTolerance)\n",
    "\n",
    "print(\"Simulation\")\n",
    "print(datetime.now().isoformat())\n",
    "\n",
    "simulation = Simulation(modeller.topology, system, integrator, platform)\n",
    "simulation.context.setPositions(modeller.positions)\n",
    "print(\"Done\")\n",
    "print(datetime.now().isoformat())"
   ]
  },
  {
   "cell_type": "code",
   "execution_count": null,
   "metadata": {},
   "outputs": [],
   "source": []
  }
 ],
 "metadata": {
  "kernelspec": {
   "display_name": "Python 3 (ipykernel)",
   "language": "python",
   "name": "python3"
  },
  "language_info": {
   "codemirror_mode": {
    "name": "ipython",
    "version": 3
   },
   "file_extension": ".py",
   "mimetype": "text/x-python",
   "name": "python",
   "nbconvert_exporter": "python",
   "pygments_lexer": "ipython3",
   "version": "3.9.16"
  },
  "toc": {
   "base_numbering": 1,
   "nav_menu": {},
   "number_sections": true,
   "sideBar": true,
   "skip_h1_title": false,
   "title_cell": "Table of Contents",
   "title_sidebar": "Contents",
   "toc_cell": false,
   "toc_position": {
    "height": "calc(100% - 180px)",
    "left": "10px",
    "top": "150px",
    "width": "512px"
   },
   "toc_section_display": true,
   "toc_window_display": true
  }
 },
 "nbformat": 4,
 "nbformat_minor": 1
}