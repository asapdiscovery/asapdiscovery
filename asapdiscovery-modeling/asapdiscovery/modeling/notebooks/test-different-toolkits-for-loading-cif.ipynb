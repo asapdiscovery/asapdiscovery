{
 "cells": [
  {
   "cell_type": "markdown",
   "metadata": {
    "collapsed": true
   },
   "source": [
    "# Imports"
   ]
  },
  {
   "cell_type": "code",
   "execution_count": null,
   "metadata": {},
   "outputs": [],
   "source": [
    "from asapdiscovery import data\n",
    "from pathlib import Path\n",
    "from asapdiscovery.data.openeye import load_openeye_pdb, save_openeye_pdb, openeye_perceive_residues, split_openeye_design_unit"
   ]
  },
  {
   "cell_type": "code",
   "execution_count": null,
   "metadata": {},
   "outputs": [],
   "source": []
  },
  {
   "cell_type": "markdown",
   "metadata": {},
   "source": [
    "## Paths"
   ]
  },
  {
   "cell_type": "code",
   "execution_count": null,
   "metadata": {},
   "outputs": [],
   "source": [
    "inputs = Path(\"../tests/prep_mers_files/inputs/\")\n",
    "cifpath = inputs/\"rcsb_8DGY-assembly1.cif\"\n",
    "output = Path(\"../tests/prep_mers_files/outputs/\")"
   ]
  },
  {
   "cell_type": "code",
   "execution_count": null,
   "metadata": {},
   "outputs": [],
   "source": [
    "cifpath.resolve()"
   ]
  },
  {
   "cell_type": "code",
   "execution_count": null,
   "metadata": {},
   "outputs": [],
   "source": []
  },
  {
   "cell_type": "markdown",
   "metadata": {},
   "source": [
    "# Openfftoolkit"
   ]
  },
  {
   "cell_type": "code",
   "execution_count": null,
   "metadata": {},
   "outputs": [],
   "source": [
    "from openff.toolkit.topology import Molecule\n",
    "from openff.toolkit.utils import get_data_file_path"
   ]
  },
  {
   "cell_type": "code",
   "execution_count": null,
   "metadata": {},
   "outputs": [],
   "source": [
    "protein = Molecule.f(str(cifpath))"
   ]
  },
  {
   "cell_type": "markdown",
   "metadata": {},
   "source": [
    "# OpenMM"
   ]
  },
  {
   "cell_type": "code",
   "execution_count": null,
   "metadata": {},
   "outputs": [],
   "source": [
    "from openmm.app import PDBxFile, PDBFile"
   ]
  },
  {
   "cell_type": "code",
   "execution_count": null,
   "metadata": {},
   "outputs": [],
   "source": [
    "cif = PDBxFile(str(cifpath))"
   ]
  },
  {
   "cell_type": "code",
   "execution_count": null,
   "metadata": {},
   "outputs": [],
   "source": [
    "residues = [residue for residue in cif.topology.residues() if residue]"
   ]
  },
  {
   "cell_type": "code",
   "execution_count": null,
   "metadata": {},
   "outputs": [],
   "source": [
    "residues[2].id"
   ]
  },
  {
   "cell_type": "code",
   "execution_count": null,
   "metadata": {},
   "outputs": [],
   "source": [
    "outfile = inputs / f\"{cifpath.stem}-openmm.pdb\""
   ]
  },
  {
   "cell_type": "code",
   "execution_count": null,
   "metadata": {},
   "outputs": [],
   "source": [
    "with open(outfile, 'w') as f:\n",
    "    PDBFile.writeFile(cif.topology, cif.positions, f, keepIds=True)"
   ]
  },
  {
   "cell_type": "markdown",
   "metadata": {},
   "source": [
    "## load with openeye"
   ]
  },
  {
   "cell_type": "code",
   "execution_count": null,
   "metadata": {},
   "outputs": [],
   "source": [
    "from asapdiscovery.data.openeye import load_openeye_pdb"
   ]
  },
  {
   "cell_type": "code",
   "execution_count": null,
   "metadata": {},
   "outputs": [],
   "source": [
    "load_openeye_pdb(str(outfile))"
   ]
  },
  {
   "cell_type": "code",
   "execution_count": null,
   "metadata": {},
   "outputs": [],
   "source": []
  },
  {
   "cell_type": "code",
   "execution_count": null,
   "metadata": {},
   "outputs": [],
   "source": []
  },
  {
   "cell_type": "markdown",
   "metadata": {},
   "source": [
    "## to openfftoolkit"
   ]
  },
  {
   "cell_type": "code",
   "execution_count": null,
   "metadata": {},
   "outputs": [],
   "source": [
    "mol = Molecule.from_topology(cif.topology)"
   ]
  },
  {
   "cell_type": "markdown",
   "metadata": {},
   "source": [
    "# Try loading aligned pdb"
   ]
  },
  {
   "cell_type": "code",
   "execution_count": null,
   "metadata": {},
   "outputs": [],
   "source": [
    "from asapdiscovery.data.openeye import load_openeye_sdf\n",
    "from openeye import oechem, oespruce"
   ]
  },
  {
   "cell_type": "code",
   "execution_count": null,
   "metadata": {},
   "outputs": [],
   "source": [
    "pdb = load_openeye_pdb(\"../tests/prep_mers_files/align_test.pdb\")"
   ]
  },
  {
   "cell_type": "code",
   "execution_count": null,
   "metadata": {},
   "outputs": [],
   "source": [
    "mol = load_openeye_sdf(\"/Users/alexpayne/lilac-mount-point/asap-datasets/current/sars_01_prepped_v3/Mpro-P3054_0A_MAT-POS-50a80394-2/Mpro-P3054_0A_MAT-POS-50a80394-2.sdf\")"
   ]
  },
  {
   "cell_type": "code",
   "execution_count": null,
   "metadata": {},
   "outputs": [],
   "source": [
    "def make_du_from_lig_and_prot(initial_prot, new_lig):\n",
    "    ## Add Hs to prep protein and ligand\n",
    "    oechem.OEAddExplicitHydrogens(initial_prot)\n",
    "    oechem.OEAddExplicitHydrogens(new_lig)\n",
    "\n",
    "    ## Set up DU building options\n",
    "    opts = oespruce.OEMakeDesignUnitOptions()\n",
    "    opts.SetSuperpose(False)\n",
    "#     if loop_db is not None:\n",
    "#         opts.GetPrepOptions().GetBuildOptions().GetLoopBuilderOptions().SetLoopDBFilename(\n",
    "#             loop_db\n",
    "#         )\n",
    "\n",
    "    ## Options set from John's function ########################################\n",
    "    ## (https://github.com/FoldingAtHome/covid-moonshot/blob/454098f4255467f4655102e0330ebf9da0d09ccb/synthetic-enumeration/sprint-14-quinolones/00-prep-receptor.py)\n",
    "    opts.GetPrepOptions().SetStrictProtonationMode(True)\n",
    "    # set minimal number of ligand atoms to 5, e.g. a 5-membered ring fragment\\\n",
    "    opts.GetSplitOptions().SetMinLigAtoms(5)\n",
    "\n",
    "    # also consider alternate locations outside binding pocket, important for later filtering\n",
    "    opts.GetPrepOptions().GetEnumerateSitesOptions().SetCollapseNonSiteAlts(\n",
    "        False\n",
    "    )\n",
    "\n",
    "    # alignment options, only matches are important\n",
    "    opts.GetPrepOptions().GetBuildOptions().GetLoopBuilderOptions().SetSeqAlignMethod(\n",
    "        oechem.OESeqAlignmentMethod_Identity\n",
    "    )\n",
    "    opts.GetPrepOptions().GetBuildOptions().GetLoopBuilderOptions().SetSeqAlignGapPenalty(\n",
    "        -1\n",
    "    )\n",
    "    opts.GetPrepOptions().GetBuildOptions().GetLoopBuilderOptions().SetSeqAlignExtendPenalty(\n",
    "        0\n",
    "    )\n",
    "\n",
    "    # Both N- and C-termini should be zwitterionic\n",
    "    # Mpro cleaves its own N- and C-termini\n",
    "    # See https://www.pnas.org/content/113/46/12997\n",
    "    opts.GetPrepOptions().GetBuildOptions().SetCapNTermini(False)\n",
    "    opts.GetPrepOptions().GetBuildOptions().SetCapCTermini(False)\n",
    "    # Don't allow truncation of termini, since force fields don't have\n",
    "    #  parameters for this\n",
    "    opts.GetPrepOptions().GetBuildOptions().GetCapBuilderOptions().SetAllowTruncate(\n",
    "        False\n",
    "    )\n",
    "    # Build loops and sidechains\n",
    "    opts.GetPrepOptions().GetBuildOptions().SetBuildLoops(True)\n",
    "    opts.GetPrepOptions().GetBuildOptions().SetBuildSidechains(True)\n",
    "\n",
    "    # Generate ligand tautomers\n",
    "    opts.GetPrepOptions().GetProtonateOptions().SetGenerateTautomers(True)\n",
    "    ############################################################################\n",
    "\n",
    "    ## Finally make new DesignUnit\n",
    "    du = oechem.OEDesignUnit()\n",
    "    oespruce.OEMakeDesignUnit(du, initial_prot, new_lig, opts)\n",
    "    assert du.HasProtein() and du.HasLigand()\n",
    "\n",
    "    return du"
   ]
  },
  {
   "cell_type": "code",
   "execution_count": null,
   "metadata": {},
   "outputs": [],
   "source": [
    "du = make_du_from_lig_and_prot(pdb, mol)"
   ]
  },
  {
   "cell_type": "code",
   "execution_count": null,
   "metadata": {},
   "outputs": [],
   "source": [
    "du"
   ]
  },
  {
   "cell_type": "code",
   "execution_count": null,
   "metadata": {},
   "outputs": [],
   "source": [
    "from asapdiscovery.data.openeye import split_openeye_design_unit"
   ]
  },
  {
   "cell_type": "code",
   "execution_count": null,
   "metadata": {},
   "outputs": [],
   "source": [
    "lig, prot, complex_ = split_openeye_design_unit(du)"
   ]
  },
  {
   "cell_type": "code",
   "execution_count": null,
   "metadata": {},
   "outputs": [],
   "source": [
    "from asapdiscovery.data.openeye import save_openeye_pdb, save_openeye_sdf"
   ]
  },
  {
   "cell_type": "code",
   "execution_count": null,
   "metadata": {},
   "outputs": [],
   "source": [
    "save_openeye_pdb(complex_, str(output / f\"{cifpath.stem}-openmm-openeye.pdb\"))"
   ]
  },
  {
   "cell_type": "markdown",
   "metadata": {},
   "source": [
    "## test making DU without ligand"
   ]
  },
  {
   "cell_type": "code",
   "execution_count": null,
   "metadata": {},
   "outputs": [],
   "source": [
    "prot"
   ]
  },
  {
   "cell_type": "code",
   "execution_count": null,
   "metadata": {},
   "outputs": [],
   "source": [
    "def prep_du(initial_prot, site_residue):\n",
    "    ## Add Hs to prep protein and ligand\n",
    "    oechem.OEAddExplicitHydrogens(initial_prot)\n",
    "\n",
    "    ## Set up DU building options\n",
    "    opts = oespruce.OEMakeDesignUnitOptions()\n",
    "    opts.SetSuperpose(False)\n",
    "    ## Options set from John's function ########################################\n",
    "    ## (https://github.com/FoldingAtHome/covid-moonshot/blob/454098f4255467f4655102e0330ebf9da0d09ccb/synthetic-enumeration/sprint-14-quinolones/00-prep-receptor.py)\n",
    "    opts.GetPrepOptions().SetStrictProtonationMode(True)\n",
    "    # set minimal number of ligand atoms to 5, e.g. a 5-membered ring fragment\\\n",
    "    opts.GetSplitOptions().SetMinLigAtoms(5)\n",
    "    \n",
    "    # also consider alternate locations outside binding pocket, important for later filtering\n",
    "    opts.GetPrepOptions().GetEnumerateSitesOptions().SetCollapseNonSiteAlts(\n",
    "        True\n",
    "    )\n",
    "    \n",
    "    # Both N- and C-termini should be zwitterionic\n",
    "    # Mpro cleaves its own N- and C-termini\n",
    "    # See https://www.pnas.org/content/113/46/12997\n",
    "    opts.GetPrepOptions().GetBuildOptions().SetCapNTermini(False)\n",
    "    opts.GetPrepOptions().GetBuildOptions().SetCapCTermini(False)\n",
    "    # Don't allow truncation of termini, since force fields don't have\n",
    "    #  parameters for this\n",
    "    opts.GetPrepOptions().GetBuildOptions().GetCapBuilderOptions().SetAllowTruncate(\n",
    "        False\n",
    "    )\n",
    "    # Build loops and sidechains\n",
    "    opts.GetPrepOptions().GetBuildOptions().SetBuildLoops(True)\n",
    "    opts.GetPrepOptions().GetBuildOptions().SetBuildSidechains(True)\n",
    "    \n",
    "    ## Structure metadata object\n",
    "    metadata = oespruce.OEStructureMetadata()\n",
    "    \n",
    "    ## Finally make new DesignUnit\n",
    "    dus = list(\n",
    "        oespruce.OEMakeDesignUnits(initial_prot, metadata, opts, site_residue)\n",
    "    )\n",
    "    assert dus[0].HasProtein()\n",
    "    if not protein_only:\n",
    "        assert dus[0].HasLigand()\n",
    "\n",
    "    ## Generate docking receptor for each DU\n",
    "    for du in dus:\n",
    "        oedocking.OEMakeReceptor(du)\n",
    "\n",
    "    return dus"
   ]
  },
  {
   "cell_type": "code",
   "execution_count": null,
   "metadata": {},
   "outputs": [],
   "source": [
    "hier = oechem.OEHierView(prot)"
   ]
  },
  {
   "cell_type": "code",
   "execution_count": null,
   "metadata": {},
   "outputs": [],
   "source": [
    "residues = [residue for residue in hier.GetResidues()]"
   ]
  },
  {
   "cell_type": "code",
   "execution_count": null,
   "metadata": {},
   "outputs": [],
   "source": [
    "residues[2].GetOEResidue()"
   ]
  },
  {
   "cell_type": "code",
   "execution_count": null,
   "metadata": {},
   "outputs": [],
   "source": [
    "help(oechem.OEResidueToString)"
   ]
  },
  {
   "cell_type": "code",
   "execution_count": null,
   "metadata": {},
   "outputs": [],
   "source": [
    "oechem.OEResidueToString(residues[145].GetOEResidue(), \":\")"
   ]
  },
  {
   "cell_type": "code",
   "execution_count": null,
   "metadata": {},
   "outputs": [],
   "source": [
    "save_openeye_pdb(prot, \"test.pdb\")"
   ]
  },
  {
   "cell_type": "code",
   "execution_count": null,
   "metadata": {},
   "outputs": [],
   "source": [
    "du = prep_du(prot, 'CYS:148: :A:0: ')"
   ]
  },
  {
   "cell_type": "markdown",
   "metadata": {},
   "source": [
    "# Use Spruce Instead of Make OE Design Unit"
   ]
  },
  {
   "cell_type": "code",
   "execution_count": null,
   "metadata": {},
   "outputs": [],
   "source": [
    "def spruce_prot(initial_prot):\n",
    "    ## Add Hs to prep protein and ligand\n",
    "    oechem.OEAddExplicitHydrogens(initial_prot)\n",
    "\n",
    "    ## Set up DU building options\n",
    "    opts = oespruce.OEMakeDesignUnitOptions()\n",
    "    opts.SetSuperpose(False)\n",
    "    ## Options set from John's function ########################################\n",
    "    ## (https://github.com/FoldingAtHome/covid-moonshot/blob/454098f4255467f4655102e0330ebf9da0d09ccb/synthetic-enumeration/sprint-14-quinolones/00-prep-receptor.py)\n",
    "    opts.GetPrepOptions().SetStrictProtonationMode(True)\n",
    "    # set minimal number of ligand atoms to 5, e.g. a 5-membered ring fragment\\\n",
    "    opts.GetSplitOptions().SetMinLigAtoms(5)\n",
    "    \n",
    "    # also consider alternate locations outside binding pocket, important for later filtering\n",
    "    opts.GetPrepOptions().GetEnumerateSitesOptions().SetCollapseNonSiteAlts(\n",
    "        True\n",
    "    )\n",
    "    \n",
    "    # Both N- and C-termini should be zwitterionic\n",
    "    # Mpro cleaves its own N- and C-termini\n",
    "    # See https://www.pnas.org/content/113/46/12997\n",
    "    opts.GetPrepOptions().GetBuildOptions().SetCapNTermini(False)\n",
    "    opts.GetPrepOptions().GetBuildOptions().SetCapCTermini(False)\n",
    "    # Don't allow truncation of termini, since force fields don't have\n",
    "    #  parameters for this\n",
    "    opts.GetPrepOptions().GetBuildOptions().GetCapBuilderOptions().SetAllowTruncate(\n",
    "        False\n",
    "    )\n",
    "    # Build loops and sidechains\n",
    "    opts.GetPrepOptions().GetBuildOptions().SetBuildLoops(True)\n",
    "    opts.GetPrepOptions().GetBuildOptions().SetBuildSidechains(True)\n",
    "    \n",
    "    ## Structure metadata object\n",
    "    metadata = oespruce.OEStructureMetadata()\n",
    "    \n",
    "    ## Construct spruce filter\n",
    "    spruce_opts = oespruce.OESpruceFilterOptions()\n",
    "    spruce = oespruce.OESpruceFilter(spruce_opts, opts)\n",
    "    \n",
    "    ## Spruce!\n",
    "    from openeye import oegrid\n",
    "    grid = oegrid.OESkewGrid()\n",
    "    \n",
    "    spruce.StandardizeAndFilter(initial_prot, grid, metadata)\n",
    "\n",
    "    return initial_prot"
   ]
  },
  {
   "cell_type": "code",
   "execution_count": null,
   "metadata": {},
   "outputs": [],
   "source": [
    "spruced = spruce_prot(prot)"
   ]
  },
  {
   "cell_type": "code",
   "execution_count": null,
   "metadata": {},
   "outputs": [],
   "source": [
    "save_openeye_pdb(spruced, str(output / f\"{cifpath.stem}-openmm-oespruced.pdb\"))"
   ]
  },
  {
   "cell_type": "markdown",
   "metadata": {},
   "source": [
    "## Now try sprucing with loop addition and seqres addition"
   ]
  },
  {
   "cell_type": "code",
   "execution_count": null,
   "metadata": {},
   "outputs": [],
   "source": [
    "loop_path = Path(\"/Users/alexpayne/Scientific_Projects/mers-drug-discovery/spruce_bace.loop_db\")"
   ]
  },
  {
   "cell_type": "code",
   "execution_count": null,
   "metadata": {},
   "outputs": [],
   "source": [
    "import yaml\n",
    "seqres_path = Path(\"../../../../metadata/mpro_mers_seqres.yaml\")\n",
    "with open(seqres_path) as f:\n",
    "    seqres_dict = yaml.safe_load(f)"
   ]
  },
  {
   "cell_type": "code",
   "execution_count": null,
   "metadata": {},
   "outputs": [],
   "source": [
    "seqres = seqres_dict[\"SEQRES\"]"
   ]
  },
  {
   "cell_type": "code",
   "execution_count": null,
   "metadata": {},
   "outputs": [],
   "source": [
    "from asapdiscovery.data.utils import seqres_to_res_list"
   ]
  },
  {
   "cell_type": "code",
   "execution_count": null,
   "metadata": {},
   "outputs": [],
   "source": [
    "res_list = seqres_to_res_list(seqres)"
   ]
  },
  {
   "cell_type": "code",
   "execution_count": null,
   "metadata": {},
   "outputs": [],
   "source": [
    "from asapdiscovery.docking.modeling import mutate_residues\n",
    "prot = mutate_residues(prot, res_list, place_h=True)"
   ]
  },
  {
   "cell_type": "code",
   "execution_count": null,
   "metadata": {},
   "outputs": [],
   "source": [
    "seqres = \" \".join(res_list)"
   ]
  },
  {
   "cell_type": "code",
   "execution_count": null,
   "metadata": {},
   "outputs": [],
   "source": [
    "seqres"
   ]
  },
  {
   "cell_type": "code",
   "execution_count": null,
   "metadata": {},
   "outputs": [],
   "source": [
    "def spruce_prot(initial_prot, seqres=None, loop_db=None):\n",
    "    ## Add Hs to prep protein and ligand\n",
    "    oechem.OEAddExplicitHydrogens(initial_prot)\n",
    "\n",
    "    ## Set up DU building options\n",
    "    opts = oespruce.OEMakeDesignUnitOptions()\n",
    "    opts.SetSuperpose(False)\n",
    "    ## Options set from John's function ########################################\n",
    "    ## (https://github.com/FoldingAtHome/covid-moonshot/blob/454098f4255467f4655102e0330ebf9da0d09ccb/synthetic-enumeration/sprint-14-quinolones/00-prep-receptor.py)\n",
    "    opts.GetPrepOptions().SetStrictProtonationMode(True)\n",
    "    # set minimal number of ligand atoms to 5, e.g. a 5-membered ring fragment\\\n",
    "    opts.GetSplitOptions().SetMinLigAtoms(5)\n",
    "    \n",
    "    # also consider alternate locations outside binding pocket, important for later filtering\n",
    "    opts.GetPrepOptions().GetEnumerateSitesOptions().SetCollapseNonSiteAlts(\n",
    "        True\n",
    "    )\n",
    "    \n",
    "    # alignment options, only matches are important\n",
    "    opts.GetPrepOptions().GetBuildOptions().GetLoopBuilderOptions().SetSeqAlignMethod(\n",
    "        oechem.OESeqAlignmentMethod_Identity\n",
    "    )\n",
    "    opts.GetPrepOptions().GetBuildOptions().GetLoopBuilderOptions().SetSeqAlignGapPenalty(\n",
    "        -1\n",
    "    )\n",
    "    opts.GetPrepOptions().GetBuildOptions().GetLoopBuilderOptions().SetSeqAlignExtendPenalty(\n",
    "        0\n",
    "    )\n",
    "    \n",
    "    # Both N- and C-termini should be zwitterionic\n",
    "    # Mpro cleaves its own N- and C-termini\n",
    "    # See https://www.pnas.org/content/113/46/12997\n",
    "    opts.GetPrepOptions().GetBuildOptions().SetCapNTermini(False)\n",
    "    opts.GetPrepOptions().GetBuildOptions().SetCapCTermini(False)\n",
    "    # Don't allow truncation of termini, since force fields don't have\n",
    "    #  parameters for this\n",
    "    opts.GetPrepOptions().GetBuildOptions().GetCapBuilderOptions().SetAllowTruncate(\n",
    "        False\n",
    "    )\n",
    "    # Set Build Loop and Sidechain Opts\n",
    "    sc_opts = oespruce.OESidechainBuilderOptions()\n",
    "\n",
    "    \n",
    "    loop_opts = oespruce.OELoopBuilderOptions()\n",
    "    loop_opts.SetSeqAlignMethod(oechem.OESeqAlignmentMethod_Identity)\n",
    "    loop_opts.SetSeqAlignGapPenalty(-1)\n",
    "    loop_opts.SetSeqAlignExtendPenalty(0)\n",
    "    loop_opts.SetLoopDBFilename(loop_db)\n",
    "    loop_opts.SetBuildTails(True)\n",
    "    \n",
    "    ## Allow for adding residues at the beginning/end if they're missing\n",
    "    opts.GetPrepOptions().GetBuildOptions().GetLoopBuilderOptions().SetBuildTails(\n",
    "        True\n",
    "    )\n",
    "    \n",
    "    if loop_db is not None:\n",
    "        print(\"Adding loop\")\n",
    "        opts.GetPrepOptions().GetBuildOptions().GetLoopBuilderOptions().SetLoopDBFilename(\n",
    "            loop_db\n",
    "        )\n",
    "    \n",
    "    ## Structure metadata object\n",
    "    metadata = oespruce.OEStructureMetadata()\n",
    "    \n",
    "    ## Add SEQRES metadata\n",
    "    if seqres:\n",
    "        print(\"adding seqres\")\n",
    "        all_prot_chains = {\n",
    "            res.GetExtChainID()\n",
    "            for res in oechem.OEGetResidues(initial_prot)\n",
    "            if (res.GetName() != \"LIG\") and (res.GetName() != \"HOH\")\n",
    "        }\n",
    "        for chain in all_prot_chains:\n",
    "            seq_metadata = oespruce.OESequenceMetadata()\n",
    "            seq_metadata.SetChainID(chain)\n",
    "            seq_metadata.SetSequence(seqres)\n",
    "            metadata.AddSequenceMetadata(seq_metadata)\n",
    "    \n",
    "    ## Construct spruce filter\n",
    "    spruce_opts = oespruce.OESpruceFilterOptions()\n",
    "    spruce = oespruce.OESpruceFilter(spruce_opts, opts)\n",
    "    \n",
    "    ## Spruce!\n",
    "    from openeye import oegrid\n",
    "    grid = oegrid.OESkewGrid()\n",
    "    \n",
    "    oespruce.OEBuildLoops(initial_prot, metadata, sc_opts, loop_opts)\n",
    "    oespruce.OEBuildSidechains(initial_prot, sc_opts)\n",
    "    oechem.OEPlaceHydrogens(initial_prot)\n",
    "    spruce.StandardizeAndFilter(initial_prot, grid, metadata)\n",
    "    \n",
    "    ## Re-percieve residues so that atom number and connect records dont get screwed up\n",
    "    openeye_perceive_residues(initial_prot)\n",
    "    \n",
    "    dus = list(oespruce.OEMakeDesignUnits(initial_prot, metadata, opts,'HIS:41: :A:0: '))\n",
    "    \n",
    "\n",
    "    return initial_prot, dus"
   ]
  },
  {
   "cell_type": "code",
   "execution_count": null,
   "metadata": {},
   "outputs": [],
   "source": [
    "spruced_v2, dus = spruce_prot(initial_prot=prot, seqres=seqres, loop_db=str(loop_path))\n",
    "save_openeye_pdb(spruced_v2, str(output / f\"{cifpath.stem}-openmm-oespruced-loops-and-seqres.pdb\"))"
   ]
  },
  {
   "cell_type": "code",
   "execution_count": null,
   "metadata": {},
   "outputs": [],
   "source": [
    "du = dus[0]"
   ]
  },
  {
   "cell_type": "code",
   "execution_count": null,
   "metadata": {},
   "outputs": [],
   "source": [
    "oechem.OEWriteDesignUnit(str(output / f\"{cifpath.stem}-openmm-oespruced-loops-and-seqres-du.oedu\"), du)"
   ]
  },
  {
   "cell_type": "code",
   "execution_count": null,
   "metadata": {},
   "outputs": [],
   "source": [
    "du"
   ]
  },
  {
   "cell_type": "code",
   "execution_count": null,
   "metadata": {},
   "outputs": [],
   "source": [
    "du = oechem.OEDesignUnit()"
   ]
  },
  {
   "cell_type": "code",
   "execution_count": null,
   "metadata": {},
   "outputs": [],
   "source": [
    "oechem.OEReadDesignUnit(str(output / f\"{cifpath.stem}-openmm-oespruced-loops-and-seqres-du.oedu\"), du)"
   ]
  },
  {
   "cell_type": "code",
   "execution_count": null,
   "metadata": {},
   "outputs": [],
   "source": [
    "lig, prot, complex_ = split_openeye_design_unit(du)"
   ]
  },
  {
   "cell_type": "code",
   "execution_count": null,
   "metadata": {},
   "outputs": [],
   "source": [
    "prot = oechem.OEGraphMol()\n",
    "du.GetProtein(prot)"
   ]
  },
  {
   "cell_type": "code",
   "execution_count": null,
   "metadata": {},
   "outputs": [],
   "source": [
    "save_openeye_pdb(prot, str(output / f\"{cifpath.stem}-openmm-oespruced-loops-and-seqres-du.pdb\"))"
   ]
  },
  {
   "cell_type": "markdown",
   "metadata": {},
   "source": [
    "# Test OpenMM"
   ]
  }
 ],
 "metadata": {
  "kernelspec": {
   "display_name": "Python 3 (ipykernel)",
   "language": "python",
   "name": "python3"
  },
  "language_info": {
   "codemirror_mode": {
    "name": "ipython",
    "version": 3
   },
   "file_extension": ".py",
   "mimetype": "text/x-python",
   "name": "python",
   "nbconvert_exporter": "python",
   "pygments_lexer": "ipython3",
   "version": "3.8.13"
  },
  "toc": {
   "base_numbering": 1,
   "nav_menu": {},
   "number_sections": true,
   "sideBar": false,
   "skip_h1_title": false,
   "title_cell": "Table of Contents",
   "title_sidebar": "Contents",
   "toc_cell": false,
   "toc_position": {
    "height": "789px",
    "left": "61px",
    "top": "111.125px",
    "width": "512px"
   },
   "toc_section_display": true,
   "toc_window_display": true
  }
 },
 "nbformat": 4,
 "nbformat_minor": 1
}
