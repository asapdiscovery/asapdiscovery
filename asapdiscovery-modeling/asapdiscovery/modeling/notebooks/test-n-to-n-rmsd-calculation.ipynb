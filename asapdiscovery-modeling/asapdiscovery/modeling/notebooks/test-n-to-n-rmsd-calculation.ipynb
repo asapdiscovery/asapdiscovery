{
 "cells": [
  {
   "cell_type": "markdown",
   "metadata": {
    "collapsed": true,
    "pycharm": {
     "is_executing": true
    }
   },
   "source": [
    "# Imports"
   ]
  },
  {
   "cell_type": "code",
   "execution_count": null,
   "metadata": {},
   "outputs": [],
   "source": [
    "import mdtraj as md\n",
    "import numpy as np\n",
    "from datetime import datetime\n",
    "from tqdm import tqdm\n",
    "from pathlib import Path\n",
    "import yaml"
   ]
  },
  {
   "cell_type": "code",
   "execution_count": null,
   "metadata": {},
   "outputs": [],
   "source": []
  },
  {
   "cell_type": "code",
   "execution_count": null,
   "metadata": {},
   "outputs": [],
   "source": []
  },
  {
   "cell_type": "code",
   "execution_count": null,
   "metadata": {},
   "outputs": [],
   "source": []
  },
  {
   "cell_type": "markdown",
   "metadata": {},
   "source": [
    "## Paths"
   ]
  },
  {
   "cell_type": "code",
   "execution_count": null,
   "metadata": {},
   "outputs": [],
   "source": [
    "idir = Path(\"/Users/alexpayne/lilac-mount-point/asap-datasets/current/sars_01_prepped_v3\")\n",
    "pdb_fn = Path(\"/Users/alexpayne/lilac-mount-point/asap-datasets/current/sars_01_prepped_v3/Mpro-x0072_0A_AAR-POS-d2a4d1df-1/Mpro-x0072_0A_AAR-POS-d2a4d1df-1_prepped_receptor_0.pdb\")\n",
    "pdb_fn2 = Path(\"/Users/alexpayne/lilac-mount-point/asap-datasets/current/sars_01_prepped_v3/Mpro-P0010_0A_PET-UNK-c9c1e0d8-4/Mpro-P0010_0A_PET-UNK-c9c1e0d8-4_prepped_receptor_0.pdb\")\n",
    "sars_selection_fn = Path(\"../../../metadata/sars2.yaml\")"
   ]
  },
  {
   "cell_type": "code",
   "execution_count": null,
   "metadata": {},
   "outputs": [],
   "source": [
    "pdb_fn.exists()"
   ]
  },
  {
   "cell_type": "code",
   "execution_count": null,
   "metadata": {},
   "outputs": [],
   "source": [
    "pdb_fn2.exists()"
   ]
  },
  {
   "cell_type": "markdown",
   "metadata": {},
   "source": [
    "## load files"
   ]
  },
  {
   "cell_type": "code",
   "execution_count": null,
   "metadata": {},
   "outputs": [],
   "source": [
    "pdb1 = md.load(pdb_fn)"
   ]
  },
  {
   "cell_type": "code",
   "execution_count": null,
   "metadata": {},
   "outputs": [],
   "source": [
    "pdb2 = md.load(pdb_fn2)"
   ]
  },
  {
   "cell_type": "code",
   "execution_count": null,
   "metadata": {},
   "outputs": [],
   "source": [
    "with open(sars_selection_fn, 'r') as f:\n",
    "    sars_sel = yaml.safe_load(f)"
   ]
  },
  {
   "cell_type": "code",
   "execution_count": null,
   "metadata": {},
   "outputs": [],
   "source": [
    "sars_sel"
   ]
  },
  {
   "cell_type": "code",
   "execution_count": null,
   "metadata": {},
   "outputs": [],
   "source": [
    "def pymol_to_mdtraj(pymol_string):\n",
    "    \"\"\"\n",
    "    Simple function to convert a pymol-like residue string into mdtraj-like\n",
    "    \"\"\"\n",
    "    x = pymol_string.replace('+', ' or residue ')\n",
    "    x = x.replace('-', ' to ')\n",
    "    x = x.replace('resi ', 'residue ')\n",
    "    x = x.replace(\"polymer.protein\", \"\")\n",
    "    return x"
   ]
  },
  {
   "cell_type": "code",
   "execution_count": null,
   "metadata": {},
   "outputs": [],
   "source": [
    "for selection in sars_sel.values():\n",
    "    print(pymol_to_mdtraj(selection))"
   ]
  },
  {
   "cell_type": "markdown",
   "metadata": {},
   "source": [
    "# Examine topology"
   ]
  },
  {
   "cell_type": "code",
   "execution_count": null,
   "metadata": {},
   "outputs": [],
   "source": [
    "pdb1.topology"
   ]
  },
  {
   "cell_type": "code",
   "execution_count": null,
   "metadata": {},
   "outputs": [],
   "source": [
    "pdb2.topology"
   ]
  },
  {
   "cell_type": "code",
   "execution_count": null,
   "metadata": {},
   "outputs": [],
   "source": [
    "pdb1.atom_slice(pdb1.topology.select(\"chainid 0\"))"
   ]
  },
  {
   "cell_type": "code",
   "execution_count": null,
   "metadata": {},
   "outputs": [],
   "source": [
    "pdb2.topology.chain(1).topology"
   ]
  },
  {
   "cell_type": "code",
   "execution_count": null,
   "metadata": {},
   "outputs": [],
   "source": [
    "def make_selection(t, string_):\n",
    "    print(t.atom_slice(t.topology.select(string_)))"
   ]
  },
  {
   "cell_type": "code",
   "execution_count": null,
   "metadata": {},
   "outputs": [],
   "source": [
    "string_ = \"chainid 0\"\n",
    "for pdb in [pdb1, pdb2]:\n",
    "    make_selection(pdb, string_)"
   ]
  },
  {
   "cell_type": "code",
   "execution_count": null,
   "metadata": {},
   "outputs": [],
   "source": [
    "string_ = \"chainid 1\"\n",
    "for pdb in [pdb1, pdb2]:\n",
    "    make_selection(pdb, string_)"
   ]
  },
  {
   "cell_type": "code",
   "execution_count": null,
   "metadata": {},
   "outputs": [],
   "source": [
    "string_ = \"chainid 2\"\n",
    "for pdb in [pdb1, pdb2]:\n",
    "    make_selection(pdb, string_)"
   ]
  },
  {
   "cell_type": "code",
   "execution_count": null,
   "metadata": {},
   "outputs": [],
   "source": [
    "string_ = \"chainid 3\"\n",
    "for pdb in [pdb1, pdb2]:\n",
    "    make_selection(pdb, string_)"
   ]
  },
  {
   "cell_type": "code",
   "execution_count": null,
   "metadata": {},
   "outputs": [],
   "source": [
    "string_ = \"(chainid 0 or chainid 1) and resid 41\"\n",
    "for pdb in [pdb1, pdb2]:\n",
    "    make_selection(pdb, string_)"
   ]
  },
  {
   "cell_type": "code",
   "execution_count": null,
   "metadata": {},
   "outputs": [],
   "source": [
    "string_ = \"not (name =~ 'H.*') and chainid 2\"\n",
    "for pdb in [pdb1, pdb2]:\n",
    "    make_selection(pdb, string_)"
   ]
  },
  {
   "cell_type": "code",
   "execution_count": null,
   "metadata": {},
   "outputs": [],
   "source": []
  },
  {
   "cell_type": "code",
   "execution_count": null,
   "metadata": {},
   "outputs": [],
   "source": []
  },
  {
   "cell_type": "markdown",
   "metadata": {},
   "source": [
    "## doin it"
   ]
  },
  {
   "cell_type": "code",
   "execution_count": null,
   "metadata": {},
   "outputs": [],
   "source": [
    "full_protein = \"not element H and (chainid 0 or chainid 2)\"\n",
    "active_site_string = \"not element H and (chainid 0 or chainid 2) and (residue 140 to 145 or residue 163 or residue 172 or residue 25 to 27 or residue 41 or residue 49 or residue 54 or residue 165 to 168 or residue 189 to 192)\""
   ]
  },
  {
   "cell_type": "code",
   "execution_count": null,
   "metadata": {},
   "outputs": [],
   "source": [
    "for pdb in [pdb1, pdb2]:\n",
    "    make_selection(pdb, full_protein)"
   ]
  },
  {
   "cell_type": "code",
   "execution_count": null,
   "metadata": {},
   "outputs": [],
   "source": [
    "md.rmsd(pdb1, pdb2, atom_indices=pdb1.topology.select(active_site_string))"
   ]
  },
  {
   "cell_type": "code",
   "execution_count": null,
   "metadata": {},
   "outputs": [],
   "source": [
    "md.rmsd(pdb1, pdb2, atom_indices=pdb2.topology.select(active_site_string))"
   ]
  },
  {
   "cell_type": "code",
   "execution_count": null,
   "metadata": {},
   "outputs": [],
   "source": [
    "pdb1_active_site = pdb1.atom_slice(pdb1.topology.select(active_site_string))"
   ]
  },
  {
   "cell_type": "code",
   "execution_count": null,
   "metadata": {},
   "outputs": [],
   "source": [
    "pdb2_active_site = pdb2.atom_slice(pdb2.topology.select(active_site_string))"
   ]
  },
  {
   "cell_type": "code",
   "execution_count": null,
   "metadata": {},
   "outputs": [],
   "source": [
    "pdb2_active_site"
   ]
  },
  {
   "cell_type": "code",
   "execution_count": null,
   "metadata": {},
   "outputs": [],
   "source": [
    "pdb1_active_site"
   ]
  },
  {
   "cell_type": "code",
   "execution_count": null,
   "metadata": {},
   "outputs": [],
   "source": [
    "t = md.join([pdb1_active_site, pdb2_active_site])"
   ]
  },
  {
   "cell_type": "code",
   "execution_count": null,
   "metadata": {},
   "outputs": [],
   "source": [
    "t.save_pdb(\"combined_test.pdb\")"
   ]
  },
  {
   "cell_type": "code",
   "execution_count": null,
   "metadata": {},
   "outputs": [],
   "source": [
    "help(t.save_pdb)"
   ]
  },
  {
   "cell_type": "code",
   "execution_count": null,
   "metadata": {},
   "outputs": [],
   "source": [
    "md.shrake_rupley(t)"
   ]
  },
  {
   "cell_type": "markdown",
   "metadata": {},
   "source": [
    "# Iterate through all PDBs "
   ]
  },
  {
   "cell_type": "code",
   "execution_count": null,
   "metadata": {},
   "outputs": [],
   "source": [
    "import logging\n",
    "def analyze_mp(fn, out_dir):\n",
    "    full_protein_selection = \"not element H and (chainid 0 or chainid 2)\"\n",
    "    active_site_string = \"not element H and (chainid 0 or chainid 2) and (residue 140 to 145 or residue 163 or residue 172 or residue 25 to 27 or residue 41 or residue 49 or residue 54 or residue 165 to 168 or residue 189 to 192)\"\n",
    "    output_name = fn.stem\n",
    "\n",
    "    ## Prepare logger\n",
    "    handler = logging.FileHandler(out_dir / f\"{output_name}-log.txt\", mode=\"w\")\n",
    "    prep_logger = logging.getLogger(output_name)\n",
    "    prep_logger.setLevel(logging.INFO)\n",
    "    prep_logger.addHandler(handler)\n",
    "    prep_logger.info(datetime.isoformat(datetime.now()))\n",
    "\n",
    "    prep_logger.info(f\"Loading {fn}\")\n",
    "    pdb = md.load(fn)\n",
    "\n",
    "    active_site_idx = pdb.topology.select(active_site_string)\n",
    "    active_site = pdb.atom_slice(active_site_idx)\n",
    "\n",
    "    full_protein_idx = pdb.topology.select(full_protein_selection)\n",
    "    full_protein = pdb.atom_slice(full_protein_idx)\n",
    "\n",
    "    prep_logger.info(f\"Saving idx arrays to {out_dir}\")\n",
    "    np.save(out_dir / f\"{output_name}_active_site.npy\", active_site_idx)\n",
    "    np.save(out_dir / f\"{output_name}_full_protein.npy\", full_protein_idx)\n",
    "\n",
    "    prep_logger.info(f\"Saving pdbs to {out_dir}\")\n",
    "    active_site.save(out_dir / f\"{output_name}_active_site.pdb\")\n",
    "    full_protein.save(out_dir / f\"{output_name}_full_protein.pdb\")\n",
    "\n",
    "    return True"
   ]
  },
  {
   "cell_type": "code",
   "execution_count": null,
   "metadata": {},
   "outputs": [],
   "source": [
    "analyze_mp(pdb_fn, Path(\".\"))"
   ]
  },
  {
   "cell_type": "code",
   "execution_count": null,
   "metadata": {},
   "outputs": [],
   "source": [
    "pdb_fn.stem"
   ]
  }
 ],
 "metadata": {
  "kernelspec": {
   "display_name": "Python 3 (ipykernel)",
   "language": "python",
   "name": "python3"
  },
  "language_info": {
   "codemirror_mode": {
    "name": "ipython",
    "version": 3
   },
   "file_extension": ".py",
   "mimetype": "text/x-python",
   "name": "python",
   "nbconvert_exporter": "python",
   "pygments_lexer": "ipython3",
   "version": "3.9.16"
  },
  "toc": {
   "base_numbering": 1,
   "nav_menu": {},
   "number_sections": true,
   "sideBar": true,
   "skip_h1_title": false,
   "title_cell": "Table of Contents",
   "title_sidebar": "Contents",
   "toc_cell": false,
   "toc_position": {},
   "toc_section_display": true,
   "toc_window_display": true
  }
 },
 "nbformat": 4,
 "nbformat_minor": 1
}
